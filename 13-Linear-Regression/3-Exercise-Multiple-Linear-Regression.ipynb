{
  "cells": [
    {
      "cell_type": "code",
      "execution_count": 1,
      "id": "068a4769",
      "metadata": {},
      "outputs": [],
      "source": [
        "import sys\n",
        "sys.path.append('../')"
      ]
    },
    {
      "attachments": {},
      "cell_type": "markdown",
      "id": "d3b3b981-8126-4c24-bede-a4fa572c0513",
      "metadata": {},
      "source": [
        "# Exercise: Train a multiple linear regression model\n",
        "In this exercise, we'll train both a simple linear-regression model and a multiple linear-regression model and compare their performance using R-Squared.\n",
        "\n",
        "## Loading data\n",
        "Let's start by having a look at our data."
      ]
    },
    {
      "cell_type": "code",
      "execution_count": 2,
      "id": "e0b825cd-edba-4c21-98f4-fe9524b879a9",
      "metadata": {},
      "outputs": [
        {
          "data": {
            "text/html": [
              "<div>\n",
              "<style scoped>\n",
              "    .dataframe tbody tr th:only-of-type {\n",
              "        vertical-align: middle;\n",
              "    }\n",
              "\n",
              "    .dataframe tbody tr th {\n",
              "        vertical-align: top;\n",
              "    }\n",
              "\n",
              "    .dataframe thead th {\n",
              "        text-align: right;\n",
              "    }\n",
              "</style>\n",
              "<table border=\"1\" class=\"dataframe\">\n",
              "  <thead>\n",
              "    <tr style=\"text-align: right;\">\n",
              "      <th></th>\n",
              "      <th>male</th>\n",
              "      <th>attended_training</th>\n",
              "      <th>age</th>\n",
              "      <th>body_fat_percentage</th>\n",
              "      <th>core_temperature</th>\n",
              "      <th>ate_at_tonys_steakhouse</th>\n",
              "      <th>needed_intensive_care</th>\n",
              "      <th>protein_content_of_last_meal</th>\n",
              "    </tr>\n",
              "  </thead>\n",
              "  <tbody>\n",
              "    <tr>\n",
              "      <th>0</th>\n",
              "      <td>0</td>\n",
              "      <td>1</td>\n",
              "      <td>6.9</td>\n",
              "      <td>38</td>\n",
              "      <td>38.423169</td>\n",
              "      <td>0</td>\n",
              "      <td>0</td>\n",
              "      <td>7.66</td>\n",
              "    </tr>\n",
              "    <tr>\n",
              "      <th>1</th>\n",
              "      <td>0</td>\n",
              "      <td>1</td>\n",
              "      <td>5.4</td>\n",
              "      <td>32</td>\n",
              "      <td>39.015998</td>\n",
              "      <td>0</td>\n",
              "      <td>0</td>\n",
              "      <td>13.36</td>\n",
              "    </tr>\n",
              "    <tr>\n",
              "      <th>2</th>\n",
              "      <td>1</td>\n",
              "      <td>1</td>\n",
              "      <td>5.4</td>\n",
              "      <td>12</td>\n",
              "      <td>39.148341</td>\n",
              "      <td>0</td>\n",
              "      <td>0</td>\n",
              "      <td>12.90</td>\n",
              "    </tr>\n",
              "    <tr>\n",
              "      <th>3</th>\n",
              "      <td>1</td>\n",
              "      <td>0</td>\n",
              "      <td>4.8</td>\n",
              "      <td>23</td>\n",
              "      <td>39.060049</td>\n",
              "      <td>0</td>\n",
              "      <td>0</td>\n",
              "      <td>13.45</td>\n",
              "    </tr>\n",
              "    <tr>\n",
              "      <th>4</th>\n",
              "      <td>1</td>\n",
              "      <td>0</td>\n",
              "      <td>4.8</td>\n",
              "      <td>15</td>\n",
              "      <td>38.655439</td>\n",
              "      <td>0</td>\n",
              "      <td>0</td>\n",
              "      <td>10.53</td>\n",
              "    </tr>\n",
              "    <tr>\n",
              "      <th>...</th>\n",
              "      <td>...</td>\n",
              "      <td>...</td>\n",
              "      <td>...</td>\n",
              "      <td>...</td>\n",
              "      <td>...</td>\n",
              "      <td>...</td>\n",
              "      <td>...</td>\n",
              "      <td>...</td>\n",
              "    </tr>\n",
              "    <tr>\n",
              "      <th>93</th>\n",
              "      <td>0</td>\n",
              "      <td>0</td>\n",
              "      <td>4.5</td>\n",
              "      <td>38</td>\n",
              "      <td>37.939942</td>\n",
              "      <td>0</td>\n",
              "      <td>0</td>\n",
              "      <td>7.35</td>\n",
              "    </tr>\n",
              "    <tr>\n",
              "      <th>94</th>\n",
              "      <td>1</td>\n",
              "      <td>0</td>\n",
              "      <td>1.8</td>\n",
              "      <td>11</td>\n",
              "      <td>38.790426</td>\n",
              "      <td>1</td>\n",
              "      <td>1</td>\n",
              "      <td>12.18</td>\n",
              "    </tr>\n",
              "    <tr>\n",
              "      <th>95</th>\n",
              "      <td>0</td>\n",
              "      <td>0</td>\n",
              "      <td>6.6</td>\n",
              "      <td>20</td>\n",
              "      <td>39.489962</td>\n",
              "      <td>0</td>\n",
              "      <td>0</td>\n",
              "      <td>15.84</td>\n",
              "    </tr>\n",
              "    <tr>\n",
              "      <th>96</th>\n",
              "      <td>0</td>\n",
              "      <td>0</td>\n",
              "      <td>6.9</td>\n",
              "      <td>32</td>\n",
              "      <td>38.575742</td>\n",
              "      <td>1</td>\n",
              "      <td>1</td>\n",
              "      <td>9.79</td>\n",
              "    </tr>\n",
              "    <tr>\n",
              "      <th>97</th>\n",
              "      <td>1</td>\n",
              "      <td>1</td>\n",
              "      <td>6.0</td>\n",
              "      <td>21</td>\n",
              "      <td>39.766447</td>\n",
              "      <td>1</td>\n",
              "      <td>1</td>\n",
              "      <td>21.30</td>\n",
              "    </tr>\n",
              "  </tbody>\n",
              "</table>\n",
              "<p>98 rows × 8 columns</p>\n",
              "</div>"
            ],
            "text/plain": [
              "    male  attended_training  age  body_fat_percentage  core_temperature  \\\n",
              "0      0                  1  6.9                   38         38.423169   \n",
              "1      0                  1  5.4                   32         39.015998   \n",
              "2      1                  1  5.4                   12         39.148341   \n",
              "3      1                  0  4.8                   23         39.060049   \n",
              "4      1                  0  4.8                   15         38.655439   \n",
              "..   ...                ...  ...                  ...               ...   \n",
              "93     0                  0  4.5                   38         37.939942   \n",
              "94     1                  0  1.8                   11         38.790426   \n",
              "95     0                  0  6.6                   20         39.489962   \n",
              "96     0                  0  6.9                   32         38.575742   \n",
              "97     1                  1  6.0                   21         39.766447   \n",
              "\n",
              "    ate_at_tonys_steakhouse  needed_intensive_care  \\\n",
              "0                         0                      0   \n",
              "1                         0                      0   \n",
              "2                         0                      0   \n",
              "3                         0                      0   \n",
              "4                         0                      0   \n",
              "..                      ...                    ...   \n",
              "93                        0                      0   \n",
              "94                        1                      1   \n",
              "95                        0                      0   \n",
              "96                        1                      1   \n",
              "97                        1                      1   \n",
              "\n",
              "    protein_content_of_last_meal  \n",
              "0                           7.66  \n",
              "1                          13.36  \n",
              "2                          12.90  \n",
              "3                          13.45  \n",
              "4                          10.53  \n",
              "..                           ...  \n",
              "93                          7.35  \n",
              "94                         12.18  \n",
              "95                         15.84  \n",
              "96                          9.79  \n",
              "97                         21.30  \n",
              "\n",
              "[98 rows x 8 columns]"
            ]
          },
          "execution_count": 2,
          "metadata": {},
          "output_type": "execute_result"
        }
      ],
      "source": [
        "import pandas\n",
        "\n",
        "#Import the data from the .csv file\n",
        "dataset = pandas.read_csv('../Data/doggy-illness.csv', delimiter=\"\\t\")\n",
        "\n",
        "#Let's have a look at the data\n",
        "dataset"
      ]
    },
    {
      "attachments": {},
      "cell_type": "markdown",
      "id": "c21811dd-9640-4afd-a19a-98dafa916173",
      "metadata": {},
      "source": [
        "For this exercise, we'll try to predict `core_temperature` from some of the other available features. \n",
        "\n",
        "## Data visualization\n",
        "\n",
        "Let's quickly eyeball which features seem to have some kind of relationship with `core_temperature`."
      ]
    },
    {
      "cell_type": "code",
      "execution_count": 3,
      "id": "d2186d3c-97ef-4edf-8d4f-6940ecd134b3",
      "metadata": {},
      "outputs": [
        {
          "data": {
            "application/vnd.plotly.v1+json": {
              "config": {
                "plotlyServerURL": "https://plot.ly"
              },
              "data": [
                {
                  "alignmentgroup": "True",
                  "hovertemplate": "male=%{x}<br>core temperature=%{y}<extra></extra>",
                  "legendgroup": "",
                  "marker": {
                    "color": "#636efa"
                  },
                  "name": "",
                  "notched": false,
                  "offsetgroup": "",
                  "orientation": "v",
                  "showlegend": false,
                  "type": "box",
                  "x": [
                    0,
                    0,
                    1,
                    1,
                    1,
                    0,
                    1,
                    1,
                    0,
                    0,
                    1,
                    0,
                    1,
                    1,
                    0,
                    1,
                    1,
                    1,
                    0,
                    1,
                    0,
                    1,
                    0,
                    1,
                    1,
                    0,
                    1,
                    0,
                    0,
                    0,
                    1,
                    0,
                    1,
                    1,
                    1,
                    1,
                    1,
                    1,
                    0,
                    1,
                    0,
                    1,
                    0,
                    0,
                    0,
                    0,
                    0,
                    1,
                    0,
                    1,
                    1,
                    1,
                    0,
                    0,
                    1,
                    0,
                    1,
                    0,
                    1,
                    0,
                    1,
                    1,
                    1,
                    1,
                    1,
                    1,
                    1,
                    0,
                    0,
                    1,
                    0,
                    1,
                    1,
                    0,
                    0,
                    1,
                    0,
                    1,
                    0,
                    0,
                    0,
                    1,
                    0,
                    0,
                    1,
                    1,
                    0,
                    1,
                    0,
                    0,
                    0,
                    1,
                    0,
                    0,
                    1,
                    0,
                    0,
                    1
                  ],
                  "x0": " ",
                  "xaxis": "x",
                  "y": [
                    38.42316895,
                    39.01599822,
                    39.14834088,
                    39.06004863,
                    38.65543905,
                    38.6092188,
                    39.47390806,
                    38.81521612,
                    37.77845286,
                    39.17685034,
                    39.52090819,
                    38.57896943,
                    38.28013391,
                    38.40158039,
                    38.65157641,
                    39.61720308,
                    37.72843549,
                    39.36694049,
                    37.98848685,
                    39.93405104,
                    37.60559023,
                    38.83468198,
                    37.39892664,
                    38.98633063,
                    39.72456882,
                    38.09695504,
                    37.59597881,
                    39.49731323,
                    38.50187636,
                    38.27036031,
                    38.69964224,
                    39.08411118,
                    38.29400364,
                    38.39872285,
                    39.29951536,
                    38.37598649,
                    38.46968433,
                    39.58561173,
                    38.12682317,
                    39.80156649,
                    37.92682179,
                    39.67264697,
                    38.21409556,
                    38.93217418,
                    37.80121676,
                    37.52097889,
                    39.34942824,
                    38.9163822,
                    38.72595498,
                    38.35421436,
                    40.17337876,
                    39.48214424,
                    39.9557292,
                    39.02529641,
                    39.70565695,
                    37.87210056,
                    38.92730588,
                    38.75694066,
                    38.98157028,
                    39.07020183,
                    39.31023381,
                    40.26487847,
                    39.19531025,
                    37.46606804,
                    38.61929591,
                    39.74308443,
                    37.9590829,
                    38.52387016,
                    39.58821189,
                    39.48780846,
                    37.32113362,
                    38.30311301,
                    39.32598796,
                    38.18373964,
                    37.78518905,
                    38.97361387,
                    37.97719515,
                    38.92654301,
                    37.98922316,
                    39.87010492,
                    38.51344083,
                    39.14710639,
                    38.61129304,
                    38.95232638,
                    37.46812464,
                    38.24131363,
                    38.7661591,
                    39.87233432,
                    38.87492299,
                    39.09337261,
                    39.00124171,
                    39.25963687,
                    38.6808734,
                    37.93994229,
                    38.79042609,
                    39.48996228,
                    38.57574159,
                    39.76644658
                  ],
                  "y0": " ",
                  "yaxis": "y"
                }
              ],
              "layout": {
                "boxmode": "group",
                "legend": {
                  "tracegroupgap": 0
                },
                "template": {
                  "data": {
                    "bar": [
                      {
                        "error_x": {
                          "color": "#2a3f5f"
                        },
                        "error_y": {
                          "color": "#2a3f5f"
                        },
                        "marker": {
                          "line": {
                            "color": "white",
                            "width": 0.5
                          },
                          "pattern": {
                            "fillmode": "overlay",
                            "size": 10,
                            "solidity": 0.2
                          }
                        },
                        "type": "bar"
                      }
                    ],
                    "barpolar": [
                      {
                        "marker": {
                          "line": {
                            "color": "white",
                            "width": 0.5
                          },
                          "pattern": {
                            "fillmode": "overlay",
                            "size": 10,
                            "solidity": 0.2
                          }
                        },
                        "type": "barpolar"
                      }
                    ],
                    "box": [
                      {
                        "boxpoints": "outliers",
                        "notched": false,
                        "type": "box"
                      }
                    ],
                    "carpet": [
                      {
                        "aaxis": {
                          "endlinecolor": "#2a3f5f",
                          "gridcolor": "#C8D4E3",
                          "linecolor": "#C8D4E3",
                          "minorgridcolor": "#C8D4E3",
                          "startlinecolor": "#2a3f5f"
                        },
                        "baxis": {
                          "endlinecolor": "#2a3f5f",
                          "gridcolor": "#C8D4E3",
                          "linecolor": "#C8D4E3",
                          "minorgridcolor": "#C8D4E3",
                          "startlinecolor": "#2a3f5f"
                        },
                        "type": "carpet"
                      }
                    ],
                    "choropleth": [
                      {
                        "colorbar": {
                          "outlinewidth": 0,
                          "ticks": ""
                        },
                        "type": "choropleth"
                      }
                    ],
                    "contour": [
                      {
                        "colorbar": {
                          "outlinewidth": 0,
                          "ticks": ""
                        },
                        "colorscale": [
                          [
                            0,
                            "#0d0887"
                          ],
                          [
                            0.1111111111111111,
                            "#46039f"
                          ],
                          [
                            0.2222222222222222,
                            "#7201a8"
                          ],
                          [
                            0.3333333333333333,
                            "#9c179e"
                          ],
                          [
                            0.4444444444444444,
                            "#bd3786"
                          ],
                          [
                            0.5555555555555556,
                            "#d8576b"
                          ],
                          [
                            0.6666666666666666,
                            "#ed7953"
                          ],
                          [
                            0.7777777777777778,
                            "#fb9f3a"
                          ],
                          [
                            0.8888888888888888,
                            "#fdca26"
                          ],
                          [
                            1,
                            "#f0f921"
                          ]
                        ],
                        "type": "contour"
                      }
                    ],
                    "contourcarpet": [
                      {
                        "colorbar": {
                          "outlinewidth": 0,
                          "ticks": ""
                        },
                        "type": "contourcarpet"
                      }
                    ],
                    "heatmap": [
                      {
                        "colorbar": {
                          "outlinewidth": 0,
                          "ticks": ""
                        },
                        "colorscale": [
                          [
                            0,
                            "#0d0887"
                          ],
                          [
                            0.1111111111111111,
                            "#46039f"
                          ],
                          [
                            0.2222222222222222,
                            "#7201a8"
                          ],
                          [
                            0.3333333333333333,
                            "#9c179e"
                          ],
                          [
                            0.4444444444444444,
                            "#bd3786"
                          ],
                          [
                            0.5555555555555556,
                            "#d8576b"
                          ],
                          [
                            0.6666666666666666,
                            "#ed7953"
                          ],
                          [
                            0.7777777777777778,
                            "#fb9f3a"
                          ],
                          [
                            0.8888888888888888,
                            "#fdca26"
                          ],
                          [
                            1,
                            "#f0f921"
                          ]
                        ],
                        "type": "heatmap"
                      }
                    ],
                    "heatmapgl": [
                      {
                        "colorbar": {
                          "outlinewidth": 0,
                          "ticks": ""
                        },
                        "colorscale": [
                          [
                            0,
                            "#0d0887"
                          ],
                          [
                            0.1111111111111111,
                            "#46039f"
                          ],
                          [
                            0.2222222222222222,
                            "#7201a8"
                          ],
                          [
                            0.3333333333333333,
                            "#9c179e"
                          ],
                          [
                            0.4444444444444444,
                            "#bd3786"
                          ],
                          [
                            0.5555555555555556,
                            "#d8576b"
                          ],
                          [
                            0.6666666666666666,
                            "#ed7953"
                          ],
                          [
                            0.7777777777777778,
                            "#fb9f3a"
                          ],
                          [
                            0.8888888888888888,
                            "#fdca26"
                          ],
                          [
                            1,
                            "#f0f921"
                          ]
                        ],
                        "type": "heatmapgl"
                      }
                    ],
                    "histogram": [
                      {
                        "marker": {
                          "line": {
                            "width": 1
                          },
                          "pattern": {
                            "fillmode": "overlay",
                            "size": 10,
                            "solidity": 0.2
                          }
                        },
                        "type": "histogram"
                      }
                    ],
                    "histogram2d": [
                      {
                        "colorbar": {
                          "outlinewidth": 0,
                          "ticks": ""
                        },
                        "colorscale": [
                          [
                            0,
                            "#0d0887"
                          ],
                          [
                            0.1111111111111111,
                            "#46039f"
                          ],
                          [
                            0.2222222222222222,
                            "#7201a8"
                          ],
                          [
                            0.3333333333333333,
                            "#9c179e"
                          ],
                          [
                            0.4444444444444444,
                            "#bd3786"
                          ],
                          [
                            0.5555555555555556,
                            "#d8576b"
                          ],
                          [
                            0.6666666666666666,
                            "#ed7953"
                          ],
                          [
                            0.7777777777777778,
                            "#fb9f3a"
                          ],
                          [
                            0.8888888888888888,
                            "#fdca26"
                          ],
                          [
                            1,
                            "#f0f921"
                          ]
                        ],
                        "type": "histogram2d"
                      }
                    ],
                    "histogram2dcontour": [
                      {
                        "colorbar": {
                          "outlinewidth": 0,
                          "ticks": ""
                        },
                        "colorscale": [
                          [
                            0,
                            "#0d0887"
                          ],
                          [
                            0.1111111111111111,
                            "#46039f"
                          ],
                          [
                            0.2222222222222222,
                            "#7201a8"
                          ],
                          [
                            0.3333333333333333,
                            "#9c179e"
                          ],
                          [
                            0.4444444444444444,
                            "#bd3786"
                          ],
                          [
                            0.5555555555555556,
                            "#d8576b"
                          ],
                          [
                            0.6666666666666666,
                            "#ed7953"
                          ],
                          [
                            0.7777777777777778,
                            "#fb9f3a"
                          ],
                          [
                            0.8888888888888888,
                            "#fdca26"
                          ],
                          [
                            1,
                            "#f0f921"
                          ]
                        ],
                        "type": "histogram2dcontour"
                      }
                    ],
                    "mesh3d": [
                      {
                        "colorbar": {
                          "outlinewidth": 0,
                          "ticks": ""
                        },
                        "type": "mesh3d"
                      }
                    ],
                    "parcoords": [
                      {
                        "line": {
                          "colorbar": {
                            "outlinewidth": 0,
                            "ticks": ""
                          }
                        },
                        "type": "parcoords"
                      }
                    ],
                    "pie": [
                      {
                        "automargin": true,
                        "type": "pie"
                      }
                    ],
                    "scatter": [
                      {
                        "fillpattern": {
                          "fillmode": "overlay",
                          "size": 10,
                          "solidity": 0.2
                        },
                        "marker": {
                          "opacity": 0.8
                        },
                        "type": "scatter"
                      }
                    ],
                    "scatter3d": [
                      {
                        "line": {
                          "colorbar": {
                            "outlinewidth": 0,
                            "ticks": ""
                          }
                        },
                        "marker": {
                          "colorbar": {
                            "outlinewidth": 0,
                            "ticks": ""
                          },
                          "opacity": 0.8
                        },
                        "type": "scatter3d"
                      }
                    ],
                    "scattercarpet": [
                      {
                        "marker": {
                          "colorbar": {
                            "outlinewidth": 0,
                            "ticks": ""
                          }
                        },
                        "type": "scattercarpet"
                      }
                    ],
                    "scattergeo": [
                      {
                        "marker": {
                          "colorbar": {
                            "outlinewidth": 0,
                            "ticks": ""
                          }
                        },
                        "type": "scattergeo"
                      }
                    ],
                    "scattergl": [
                      {
                        "marker": {
                          "colorbar": {
                            "outlinewidth": 0,
                            "ticks": ""
                          }
                        },
                        "type": "scattergl"
                      }
                    ],
                    "scattermapbox": [
                      {
                        "marker": {
                          "colorbar": {
                            "outlinewidth": 0,
                            "ticks": ""
                          }
                        },
                        "type": "scattermapbox"
                      }
                    ],
                    "scatterpolar": [
                      {
                        "marker": {
                          "colorbar": {
                            "outlinewidth": 0,
                            "ticks": ""
                          }
                        },
                        "type": "scatterpolar"
                      }
                    ],
                    "scatterpolargl": [
                      {
                        "marker": {
                          "colorbar": {
                            "outlinewidth": 0,
                            "ticks": ""
                          }
                        },
                        "type": "scatterpolargl"
                      }
                    ],
                    "scatterternary": [
                      {
                        "marker": {
                          "colorbar": {
                            "outlinewidth": 0,
                            "ticks": ""
                          }
                        },
                        "type": "scatterternary"
                      }
                    ],
                    "surface": [
                      {
                        "colorbar": {
                          "outlinewidth": 0,
                          "ticks": ""
                        },
                        "colorscale": [
                          [
                            0,
                            "#0d0887"
                          ],
                          [
                            0.1111111111111111,
                            "#46039f"
                          ],
                          [
                            0.2222222222222222,
                            "#7201a8"
                          ],
                          [
                            0.3333333333333333,
                            "#9c179e"
                          ],
                          [
                            0.4444444444444444,
                            "#bd3786"
                          ],
                          [
                            0.5555555555555556,
                            "#d8576b"
                          ],
                          [
                            0.6666666666666666,
                            "#ed7953"
                          ],
                          [
                            0.7777777777777778,
                            "#fb9f3a"
                          ],
                          [
                            0.8888888888888888,
                            "#fdca26"
                          ],
                          [
                            1,
                            "#f0f921"
                          ]
                        ],
                        "type": "surface"
                      }
                    ],
                    "table": [
                      {
                        "cells": {
                          "fill": {
                            "color": "#EBF0F8"
                          },
                          "line": {
                            "color": "white"
                          }
                        },
                        "header": {
                          "fill": {
                            "color": "#C8D4E3"
                          },
                          "line": {
                            "color": "white"
                          }
                        },
                        "type": "table"
                      }
                    ]
                  },
                  "layout": {
                    "annotationdefaults": {
                      "arrowcolor": "#2a3f5f",
                      "arrowhead": 0,
                      "arrowwidth": 1
                    },
                    "autotypenumbers": "strict",
                    "coloraxis": {
                      "colorbar": {
                        "outlinewidth": 0,
                        "ticks": ""
                      }
                    },
                    "colorscale": {
                      "diverging": [
                        [
                          0,
                          "#8e0152"
                        ],
                        [
                          0.1,
                          "#c51b7d"
                        ],
                        [
                          0.2,
                          "#de77ae"
                        ],
                        [
                          0.3,
                          "#f1b6da"
                        ],
                        [
                          0.4,
                          "#fde0ef"
                        ],
                        [
                          0.5,
                          "#f7f7f7"
                        ],
                        [
                          0.6,
                          "#e6f5d0"
                        ],
                        [
                          0.7,
                          "#b8e186"
                        ],
                        [
                          0.8,
                          "#7fbc41"
                        ],
                        [
                          0.9,
                          "#4d9221"
                        ],
                        [
                          1,
                          "#276419"
                        ]
                      ],
                      "sequential": [
                        [
                          0,
                          "#0d0887"
                        ],
                        [
                          0.1111111111111111,
                          "#46039f"
                        ],
                        [
                          0.2222222222222222,
                          "#7201a8"
                        ],
                        [
                          0.3333333333333333,
                          "#9c179e"
                        ],
                        [
                          0.4444444444444444,
                          "#bd3786"
                        ],
                        [
                          0.5555555555555556,
                          "#d8576b"
                        ],
                        [
                          0.6666666666666666,
                          "#ed7953"
                        ],
                        [
                          0.7777777777777778,
                          "#fb9f3a"
                        ],
                        [
                          0.8888888888888888,
                          "#fdca26"
                        ],
                        [
                          1,
                          "#f0f921"
                        ]
                      ],
                      "sequentialminus": [
                        [
                          0,
                          "#0d0887"
                        ],
                        [
                          0.1111111111111111,
                          "#46039f"
                        ],
                        [
                          0.2222222222222222,
                          "#7201a8"
                        ],
                        [
                          0.3333333333333333,
                          "#9c179e"
                        ],
                        [
                          0.4444444444444444,
                          "#bd3786"
                        ],
                        [
                          0.5555555555555556,
                          "#d8576b"
                        ],
                        [
                          0.6666666666666666,
                          "#ed7953"
                        ],
                        [
                          0.7777777777777778,
                          "#fb9f3a"
                        ],
                        [
                          0.8888888888888888,
                          "#fdca26"
                        ],
                        [
                          1,
                          "#f0f921"
                        ]
                      ]
                    },
                    "colorway": [
                      "#636efa",
                      "#EF553B",
                      "#00cc96",
                      "#ab63fa",
                      "#FFA15A",
                      "#19d3f3",
                      "#FF6692",
                      "#B6E880",
                      "#FF97FF",
                      "#FECB52"
                    ],
                    "font": {
                      "color": "#2a3f5f"
                    },
                    "geo": {
                      "bgcolor": "white",
                      "lakecolor": "white",
                      "landcolor": "white",
                      "showlakes": true,
                      "showland": true,
                      "subunitcolor": "#C8D4E3"
                    },
                    "height": 400,
                    "hoverlabel": {
                      "align": "left"
                    },
                    "hovermode": "closest",
                    "mapbox": {
                      "style": "light"
                    },
                    "margin": {
                      "b": 2,
                      "l": 2,
                      "r": 2,
                      "t": 30
                    },
                    "paper_bgcolor": "white",
                    "plot_bgcolor": "white",
                    "polar": {
                      "angularaxis": {
                        "gridcolor": "#EBF0F8",
                        "linecolor": "#EBF0F8",
                        "ticks": ""
                      },
                      "bgcolor": "white",
                      "radialaxis": {
                        "gridcolor": "#EBF0F8",
                        "linecolor": "#EBF0F8",
                        "ticks": ""
                      }
                    },
                    "scene": {
                      "camera": {
                        "eye": {
                          "x": 1.5,
                          "y": 1.5,
                          "z": 0.1
                        }
                      },
                      "xaxis": {
                        "backgroundcolor": "white",
                        "gridcolor": "#DFE8F3",
                        "gridwidth": 2,
                        "linecolor": "#EBF0F8",
                        "showbackground": true,
                        "ticks": "",
                        "zerolinecolor": "#EBF0F8"
                      },
                      "yaxis": {
                        "backgroundcolor": "white",
                        "gridcolor": "#DFE8F3",
                        "gridwidth": 2,
                        "linecolor": "#EBF0F8",
                        "showbackground": true,
                        "ticks": "",
                        "zerolinecolor": "#EBF0F8"
                      },
                      "zaxis": {
                        "backgroundcolor": "white",
                        "gridcolor": "#DFE8F3",
                        "gridwidth": 2,
                        "linecolor": "#EBF0F8",
                        "showbackground": true,
                        "ticks": "",
                        "zerolinecolor": "#EBF0F8"
                      }
                    },
                    "shapedefaults": {
                      "line": {
                        "color": "#2a3f5f"
                      }
                    },
                    "ternary": {
                      "aaxis": {
                        "gridcolor": "#DFE8F3",
                        "linecolor": "#A2B1C6",
                        "ticks": ""
                      },
                      "baxis": {
                        "gridcolor": "#DFE8F3",
                        "linecolor": "#A2B1C6",
                        "ticks": ""
                      },
                      "bgcolor": "white",
                      "caxis": {
                        "gridcolor": "#DFE8F3",
                        "linecolor": "#A2B1C6",
                        "ticks": ""
                      }
                    },
                    "title": {
                      "x": 0.5
                    },
                    "xaxis": {
                      "automargin": true,
                      "gridcolor": "#EBF0F8",
                      "linecolor": "#EBF0F8",
                      "linewidth": 2,
                      "showline": true,
                      "ticks": "",
                      "title": {
                        "standoff": 15
                      },
                      "zerolinecolor": "#EBF0F8",
                      "zerolinewidth": 2
                    },
                    "yaxis": {
                      "automargin": true,
                      "gridcolor": "#EBF0F8",
                      "linecolor": "#EBF0F8",
                      "linewidth": 2,
                      "showline": true,
                      "ticks": "",
                      "title": {
                        "standoff": 15
                      },
                      "zerolinecolor": "#EBF0F8",
                      "zerolinewidth": 2
                    }
                  }
                },
                "xaxis": {
                  "anchor": "y",
                  "domain": [
                    0,
                    1
                  ],
                  "title": {
                    "text": "male"
                  }
                },
                "yaxis": {
                  "anchor": "x",
                  "domain": [
                    0,
                    1
                  ],
                  "title": {
                    "text": "core temperature"
                  }
                }
              }
            }
          },
          "metadata": {},
          "output_type": "display_data"
        },
        {
          "data": {
            "application/vnd.plotly.v1+json": {
              "config": {
                "plotlyServerURL": "https://plot.ly"
              },
              "data": [
                {
                  "alignmentgroup": "True",
                  "hovertemplate": "attended training=%{x}<br>core temperature=%{y}<extra></extra>",
                  "legendgroup": "",
                  "marker": {
                    "color": "#636efa"
                  },
                  "name": "",
                  "notched": false,
                  "offsetgroup": "",
                  "orientation": "v",
                  "showlegend": false,
                  "type": "box",
                  "x": [
                    1,
                    1,
                    1,
                    0,
                    0,
                    1,
                    1,
                    0,
                    0,
                    1,
                    0,
                    0,
                    1,
                    1,
                    1,
                    0,
                    1,
                    1,
                    0,
                    0,
                    0,
                    0,
                    1,
                    0,
                    0,
                    1,
                    0,
                    0,
                    1,
                    1,
                    0,
                    1,
                    1,
                    1,
                    1,
                    0,
                    1,
                    1,
                    0,
                    0,
                    1,
                    0,
                    0,
                    1,
                    0,
                    0,
                    1,
                    0,
                    0,
                    0,
                    0,
                    1,
                    1,
                    1,
                    0,
                    1,
                    1,
                    1,
                    1,
                    1,
                    1,
                    0,
                    1,
                    0,
                    1,
                    1,
                    1,
                    0,
                    0,
                    0,
                    1,
                    1,
                    0,
                    1,
                    0,
                    1,
                    1,
                    1,
                    0,
                    1,
                    0,
                    1,
                    0,
                    1,
                    1,
                    0,
                    1,
                    0,
                    1,
                    0,
                    0,
                    0,
                    0,
                    0,
                    0,
                    0,
                    0,
                    1
                  ],
                  "x0": " ",
                  "xaxis": "x",
                  "y": [
                    38.42316895,
                    39.01599822,
                    39.14834088,
                    39.06004863,
                    38.65543905,
                    38.6092188,
                    39.47390806,
                    38.81521612,
                    37.77845286,
                    39.17685034,
                    39.52090819,
                    38.57896943,
                    38.28013391,
                    38.40158039,
                    38.65157641,
                    39.61720308,
                    37.72843549,
                    39.36694049,
                    37.98848685,
                    39.93405104,
                    37.60559023,
                    38.83468198,
                    37.39892664,
                    38.98633063,
                    39.72456882,
                    38.09695504,
                    37.59597881,
                    39.49731323,
                    38.50187636,
                    38.27036031,
                    38.69964224,
                    39.08411118,
                    38.29400364,
                    38.39872285,
                    39.29951536,
                    38.37598649,
                    38.46968433,
                    39.58561173,
                    38.12682317,
                    39.80156649,
                    37.92682179,
                    39.67264697,
                    38.21409556,
                    38.93217418,
                    37.80121676,
                    37.52097889,
                    39.34942824,
                    38.9163822,
                    38.72595498,
                    38.35421436,
                    40.17337876,
                    39.48214424,
                    39.9557292,
                    39.02529641,
                    39.70565695,
                    37.87210056,
                    38.92730588,
                    38.75694066,
                    38.98157028,
                    39.07020183,
                    39.31023381,
                    40.26487847,
                    39.19531025,
                    37.46606804,
                    38.61929591,
                    39.74308443,
                    37.9590829,
                    38.52387016,
                    39.58821189,
                    39.48780846,
                    37.32113362,
                    38.30311301,
                    39.32598796,
                    38.18373964,
                    37.78518905,
                    38.97361387,
                    37.97719515,
                    38.92654301,
                    37.98922316,
                    39.87010492,
                    38.51344083,
                    39.14710639,
                    38.61129304,
                    38.95232638,
                    37.46812464,
                    38.24131363,
                    38.7661591,
                    39.87233432,
                    38.87492299,
                    39.09337261,
                    39.00124171,
                    39.25963687,
                    38.6808734,
                    37.93994229,
                    38.79042609,
                    39.48996228,
                    38.57574159,
                    39.76644658
                  ],
                  "y0": " ",
                  "yaxis": "y"
                }
              ],
              "layout": {
                "boxmode": "group",
                "legend": {
                  "tracegroupgap": 0
                },
                "template": {
                  "data": {
                    "bar": [
                      {
                        "error_x": {
                          "color": "#2a3f5f"
                        },
                        "error_y": {
                          "color": "#2a3f5f"
                        },
                        "marker": {
                          "line": {
                            "color": "white",
                            "width": 0.5
                          },
                          "pattern": {
                            "fillmode": "overlay",
                            "size": 10,
                            "solidity": 0.2
                          }
                        },
                        "type": "bar"
                      }
                    ],
                    "barpolar": [
                      {
                        "marker": {
                          "line": {
                            "color": "white",
                            "width": 0.5
                          },
                          "pattern": {
                            "fillmode": "overlay",
                            "size": 10,
                            "solidity": 0.2
                          }
                        },
                        "type": "barpolar"
                      }
                    ],
                    "box": [
                      {
                        "boxpoints": "outliers",
                        "notched": false,
                        "type": "box"
                      }
                    ],
                    "carpet": [
                      {
                        "aaxis": {
                          "endlinecolor": "#2a3f5f",
                          "gridcolor": "#C8D4E3",
                          "linecolor": "#C8D4E3",
                          "minorgridcolor": "#C8D4E3",
                          "startlinecolor": "#2a3f5f"
                        },
                        "baxis": {
                          "endlinecolor": "#2a3f5f",
                          "gridcolor": "#C8D4E3",
                          "linecolor": "#C8D4E3",
                          "minorgridcolor": "#C8D4E3",
                          "startlinecolor": "#2a3f5f"
                        },
                        "type": "carpet"
                      }
                    ],
                    "choropleth": [
                      {
                        "colorbar": {
                          "outlinewidth": 0,
                          "ticks": ""
                        },
                        "type": "choropleth"
                      }
                    ],
                    "contour": [
                      {
                        "colorbar": {
                          "outlinewidth": 0,
                          "ticks": ""
                        },
                        "colorscale": [
                          [
                            0,
                            "#0d0887"
                          ],
                          [
                            0.1111111111111111,
                            "#46039f"
                          ],
                          [
                            0.2222222222222222,
                            "#7201a8"
                          ],
                          [
                            0.3333333333333333,
                            "#9c179e"
                          ],
                          [
                            0.4444444444444444,
                            "#bd3786"
                          ],
                          [
                            0.5555555555555556,
                            "#d8576b"
                          ],
                          [
                            0.6666666666666666,
                            "#ed7953"
                          ],
                          [
                            0.7777777777777778,
                            "#fb9f3a"
                          ],
                          [
                            0.8888888888888888,
                            "#fdca26"
                          ],
                          [
                            1,
                            "#f0f921"
                          ]
                        ],
                        "type": "contour"
                      }
                    ],
                    "contourcarpet": [
                      {
                        "colorbar": {
                          "outlinewidth": 0,
                          "ticks": ""
                        },
                        "type": "contourcarpet"
                      }
                    ],
                    "heatmap": [
                      {
                        "colorbar": {
                          "outlinewidth": 0,
                          "ticks": ""
                        },
                        "colorscale": [
                          [
                            0,
                            "#0d0887"
                          ],
                          [
                            0.1111111111111111,
                            "#46039f"
                          ],
                          [
                            0.2222222222222222,
                            "#7201a8"
                          ],
                          [
                            0.3333333333333333,
                            "#9c179e"
                          ],
                          [
                            0.4444444444444444,
                            "#bd3786"
                          ],
                          [
                            0.5555555555555556,
                            "#d8576b"
                          ],
                          [
                            0.6666666666666666,
                            "#ed7953"
                          ],
                          [
                            0.7777777777777778,
                            "#fb9f3a"
                          ],
                          [
                            0.8888888888888888,
                            "#fdca26"
                          ],
                          [
                            1,
                            "#f0f921"
                          ]
                        ],
                        "type": "heatmap"
                      }
                    ],
                    "heatmapgl": [
                      {
                        "colorbar": {
                          "outlinewidth": 0,
                          "ticks": ""
                        },
                        "colorscale": [
                          [
                            0,
                            "#0d0887"
                          ],
                          [
                            0.1111111111111111,
                            "#46039f"
                          ],
                          [
                            0.2222222222222222,
                            "#7201a8"
                          ],
                          [
                            0.3333333333333333,
                            "#9c179e"
                          ],
                          [
                            0.4444444444444444,
                            "#bd3786"
                          ],
                          [
                            0.5555555555555556,
                            "#d8576b"
                          ],
                          [
                            0.6666666666666666,
                            "#ed7953"
                          ],
                          [
                            0.7777777777777778,
                            "#fb9f3a"
                          ],
                          [
                            0.8888888888888888,
                            "#fdca26"
                          ],
                          [
                            1,
                            "#f0f921"
                          ]
                        ],
                        "type": "heatmapgl"
                      }
                    ],
                    "histogram": [
                      {
                        "marker": {
                          "line": {
                            "width": 1
                          },
                          "pattern": {
                            "fillmode": "overlay",
                            "size": 10,
                            "solidity": 0.2
                          }
                        },
                        "type": "histogram"
                      }
                    ],
                    "histogram2d": [
                      {
                        "colorbar": {
                          "outlinewidth": 0,
                          "ticks": ""
                        },
                        "colorscale": [
                          [
                            0,
                            "#0d0887"
                          ],
                          [
                            0.1111111111111111,
                            "#46039f"
                          ],
                          [
                            0.2222222222222222,
                            "#7201a8"
                          ],
                          [
                            0.3333333333333333,
                            "#9c179e"
                          ],
                          [
                            0.4444444444444444,
                            "#bd3786"
                          ],
                          [
                            0.5555555555555556,
                            "#d8576b"
                          ],
                          [
                            0.6666666666666666,
                            "#ed7953"
                          ],
                          [
                            0.7777777777777778,
                            "#fb9f3a"
                          ],
                          [
                            0.8888888888888888,
                            "#fdca26"
                          ],
                          [
                            1,
                            "#f0f921"
                          ]
                        ],
                        "type": "histogram2d"
                      }
                    ],
                    "histogram2dcontour": [
                      {
                        "colorbar": {
                          "outlinewidth": 0,
                          "ticks": ""
                        },
                        "colorscale": [
                          [
                            0,
                            "#0d0887"
                          ],
                          [
                            0.1111111111111111,
                            "#46039f"
                          ],
                          [
                            0.2222222222222222,
                            "#7201a8"
                          ],
                          [
                            0.3333333333333333,
                            "#9c179e"
                          ],
                          [
                            0.4444444444444444,
                            "#bd3786"
                          ],
                          [
                            0.5555555555555556,
                            "#d8576b"
                          ],
                          [
                            0.6666666666666666,
                            "#ed7953"
                          ],
                          [
                            0.7777777777777778,
                            "#fb9f3a"
                          ],
                          [
                            0.8888888888888888,
                            "#fdca26"
                          ],
                          [
                            1,
                            "#f0f921"
                          ]
                        ],
                        "type": "histogram2dcontour"
                      }
                    ],
                    "mesh3d": [
                      {
                        "colorbar": {
                          "outlinewidth": 0,
                          "ticks": ""
                        },
                        "type": "mesh3d"
                      }
                    ],
                    "parcoords": [
                      {
                        "line": {
                          "colorbar": {
                            "outlinewidth": 0,
                            "ticks": ""
                          }
                        },
                        "type": "parcoords"
                      }
                    ],
                    "pie": [
                      {
                        "automargin": true,
                        "type": "pie"
                      }
                    ],
                    "scatter": [
                      {
                        "fillpattern": {
                          "fillmode": "overlay",
                          "size": 10,
                          "solidity": 0.2
                        },
                        "marker": {
                          "opacity": 0.8
                        },
                        "type": "scatter"
                      }
                    ],
                    "scatter3d": [
                      {
                        "line": {
                          "colorbar": {
                            "outlinewidth": 0,
                            "ticks": ""
                          }
                        },
                        "marker": {
                          "colorbar": {
                            "outlinewidth": 0,
                            "ticks": ""
                          },
                          "opacity": 0.8
                        },
                        "type": "scatter3d"
                      }
                    ],
                    "scattercarpet": [
                      {
                        "marker": {
                          "colorbar": {
                            "outlinewidth": 0,
                            "ticks": ""
                          }
                        },
                        "type": "scattercarpet"
                      }
                    ],
                    "scattergeo": [
                      {
                        "marker": {
                          "colorbar": {
                            "outlinewidth": 0,
                            "ticks": ""
                          }
                        },
                        "type": "scattergeo"
                      }
                    ],
                    "scattergl": [
                      {
                        "marker": {
                          "colorbar": {
                            "outlinewidth": 0,
                            "ticks": ""
                          }
                        },
                        "type": "scattergl"
                      }
                    ],
                    "scattermapbox": [
                      {
                        "marker": {
                          "colorbar": {
                            "outlinewidth": 0,
                            "ticks": ""
                          }
                        },
                        "type": "scattermapbox"
                      }
                    ],
                    "scatterpolar": [
                      {
                        "marker": {
                          "colorbar": {
                            "outlinewidth": 0,
                            "ticks": ""
                          }
                        },
                        "type": "scatterpolar"
                      }
                    ],
                    "scatterpolargl": [
                      {
                        "marker": {
                          "colorbar": {
                            "outlinewidth": 0,
                            "ticks": ""
                          }
                        },
                        "type": "scatterpolargl"
                      }
                    ],
                    "scatterternary": [
                      {
                        "marker": {
                          "colorbar": {
                            "outlinewidth": 0,
                            "ticks": ""
                          }
                        },
                        "type": "scatterternary"
                      }
                    ],
                    "surface": [
                      {
                        "colorbar": {
                          "outlinewidth": 0,
                          "ticks": ""
                        },
                        "colorscale": [
                          [
                            0,
                            "#0d0887"
                          ],
                          [
                            0.1111111111111111,
                            "#46039f"
                          ],
                          [
                            0.2222222222222222,
                            "#7201a8"
                          ],
                          [
                            0.3333333333333333,
                            "#9c179e"
                          ],
                          [
                            0.4444444444444444,
                            "#bd3786"
                          ],
                          [
                            0.5555555555555556,
                            "#d8576b"
                          ],
                          [
                            0.6666666666666666,
                            "#ed7953"
                          ],
                          [
                            0.7777777777777778,
                            "#fb9f3a"
                          ],
                          [
                            0.8888888888888888,
                            "#fdca26"
                          ],
                          [
                            1,
                            "#f0f921"
                          ]
                        ],
                        "type": "surface"
                      }
                    ],
                    "table": [
                      {
                        "cells": {
                          "fill": {
                            "color": "#EBF0F8"
                          },
                          "line": {
                            "color": "white"
                          }
                        },
                        "header": {
                          "fill": {
                            "color": "#C8D4E3"
                          },
                          "line": {
                            "color": "white"
                          }
                        },
                        "type": "table"
                      }
                    ]
                  },
                  "layout": {
                    "annotationdefaults": {
                      "arrowcolor": "#2a3f5f",
                      "arrowhead": 0,
                      "arrowwidth": 1
                    },
                    "autotypenumbers": "strict",
                    "coloraxis": {
                      "colorbar": {
                        "outlinewidth": 0,
                        "ticks": ""
                      }
                    },
                    "colorscale": {
                      "diverging": [
                        [
                          0,
                          "#8e0152"
                        ],
                        [
                          0.1,
                          "#c51b7d"
                        ],
                        [
                          0.2,
                          "#de77ae"
                        ],
                        [
                          0.3,
                          "#f1b6da"
                        ],
                        [
                          0.4,
                          "#fde0ef"
                        ],
                        [
                          0.5,
                          "#f7f7f7"
                        ],
                        [
                          0.6,
                          "#e6f5d0"
                        ],
                        [
                          0.7,
                          "#b8e186"
                        ],
                        [
                          0.8,
                          "#7fbc41"
                        ],
                        [
                          0.9,
                          "#4d9221"
                        ],
                        [
                          1,
                          "#276419"
                        ]
                      ],
                      "sequential": [
                        [
                          0,
                          "#0d0887"
                        ],
                        [
                          0.1111111111111111,
                          "#46039f"
                        ],
                        [
                          0.2222222222222222,
                          "#7201a8"
                        ],
                        [
                          0.3333333333333333,
                          "#9c179e"
                        ],
                        [
                          0.4444444444444444,
                          "#bd3786"
                        ],
                        [
                          0.5555555555555556,
                          "#d8576b"
                        ],
                        [
                          0.6666666666666666,
                          "#ed7953"
                        ],
                        [
                          0.7777777777777778,
                          "#fb9f3a"
                        ],
                        [
                          0.8888888888888888,
                          "#fdca26"
                        ],
                        [
                          1,
                          "#f0f921"
                        ]
                      ],
                      "sequentialminus": [
                        [
                          0,
                          "#0d0887"
                        ],
                        [
                          0.1111111111111111,
                          "#46039f"
                        ],
                        [
                          0.2222222222222222,
                          "#7201a8"
                        ],
                        [
                          0.3333333333333333,
                          "#9c179e"
                        ],
                        [
                          0.4444444444444444,
                          "#bd3786"
                        ],
                        [
                          0.5555555555555556,
                          "#d8576b"
                        ],
                        [
                          0.6666666666666666,
                          "#ed7953"
                        ],
                        [
                          0.7777777777777778,
                          "#fb9f3a"
                        ],
                        [
                          0.8888888888888888,
                          "#fdca26"
                        ],
                        [
                          1,
                          "#f0f921"
                        ]
                      ]
                    },
                    "colorway": [
                      "#636efa",
                      "#EF553B",
                      "#00cc96",
                      "#ab63fa",
                      "#FFA15A",
                      "#19d3f3",
                      "#FF6692",
                      "#B6E880",
                      "#FF97FF",
                      "#FECB52"
                    ],
                    "font": {
                      "color": "#2a3f5f"
                    },
                    "geo": {
                      "bgcolor": "white",
                      "lakecolor": "white",
                      "landcolor": "white",
                      "showlakes": true,
                      "showland": true,
                      "subunitcolor": "#C8D4E3"
                    },
                    "height": 400,
                    "hoverlabel": {
                      "align": "left"
                    },
                    "hovermode": "closest",
                    "mapbox": {
                      "style": "light"
                    },
                    "margin": {
                      "b": 2,
                      "l": 2,
                      "r": 2,
                      "t": 30
                    },
                    "paper_bgcolor": "white",
                    "plot_bgcolor": "white",
                    "polar": {
                      "angularaxis": {
                        "gridcolor": "#EBF0F8",
                        "linecolor": "#EBF0F8",
                        "ticks": ""
                      },
                      "bgcolor": "white",
                      "radialaxis": {
                        "gridcolor": "#EBF0F8",
                        "linecolor": "#EBF0F8",
                        "ticks": ""
                      }
                    },
                    "scene": {
                      "camera": {
                        "eye": {
                          "x": 1.5,
                          "y": 1.5,
                          "z": 0.1
                        }
                      },
                      "xaxis": {
                        "backgroundcolor": "white",
                        "gridcolor": "#DFE8F3",
                        "gridwidth": 2,
                        "linecolor": "#EBF0F8",
                        "showbackground": true,
                        "ticks": "",
                        "zerolinecolor": "#EBF0F8"
                      },
                      "yaxis": {
                        "backgroundcolor": "white",
                        "gridcolor": "#DFE8F3",
                        "gridwidth": 2,
                        "linecolor": "#EBF0F8",
                        "showbackground": true,
                        "ticks": "",
                        "zerolinecolor": "#EBF0F8"
                      },
                      "zaxis": {
                        "backgroundcolor": "white",
                        "gridcolor": "#DFE8F3",
                        "gridwidth": 2,
                        "linecolor": "#EBF0F8",
                        "showbackground": true,
                        "ticks": "",
                        "zerolinecolor": "#EBF0F8"
                      }
                    },
                    "shapedefaults": {
                      "line": {
                        "color": "#2a3f5f"
                      }
                    },
                    "ternary": {
                      "aaxis": {
                        "gridcolor": "#DFE8F3",
                        "linecolor": "#A2B1C6",
                        "ticks": ""
                      },
                      "baxis": {
                        "gridcolor": "#DFE8F3",
                        "linecolor": "#A2B1C6",
                        "ticks": ""
                      },
                      "bgcolor": "white",
                      "caxis": {
                        "gridcolor": "#DFE8F3",
                        "linecolor": "#A2B1C6",
                        "ticks": ""
                      }
                    },
                    "title": {
                      "x": 0.5
                    },
                    "xaxis": {
                      "automargin": true,
                      "gridcolor": "#EBF0F8",
                      "linecolor": "#EBF0F8",
                      "linewidth": 2,
                      "showline": true,
                      "ticks": "",
                      "title": {
                        "standoff": 15
                      },
                      "zerolinecolor": "#EBF0F8",
                      "zerolinewidth": 2
                    },
                    "yaxis": {
                      "automargin": true,
                      "gridcolor": "#EBF0F8",
                      "linecolor": "#EBF0F8",
                      "linewidth": 2,
                      "showline": true,
                      "ticks": "",
                      "title": {
                        "standoff": 15
                      },
                      "zerolinecolor": "#EBF0F8",
                      "zerolinewidth": 2
                    }
                  }
                },
                "xaxis": {
                  "anchor": "y",
                  "domain": [
                    0,
                    1
                  ],
                  "title": {
                    "text": "attended training"
                  }
                },
                "yaxis": {
                  "anchor": "x",
                  "domain": [
                    0,
                    1
                  ],
                  "title": {
                    "text": "core temperature"
                  }
                }
              }
            }
          },
          "metadata": {},
          "output_type": "display_data"
        },
        {
          "data": {
            "application/vnd.plotly.v1+json": {
              "config": {
                "plotlyServerURL": "https://plot.ly"
              },
              "data": [
                {
                  "alignmentgroup": "True",
                  "hovertemplate": "ate at tonys steakhouse=%{x}<br>core temperature=%{y}<extra></extra>",
                  "legendgroup": "",
                  "marker": {
                    "color": "#636efa"
                  },
                  "name": "",
                  "notched": false,
                  "offsetgroup": "",
                  "orientation": "v",
                  "showlegend": false,
                  "type": "box",
                  "x": [
                    0,
                    0,
                    0,
                    0,
                    0,
                    0,
                    1,
                    0,
                    0,
                    1,
                    1,
                    0,
                    1,
                    1,
                    1,
                    0,
                    1,
                    0,
                    0,
                    1,
                    0,
                    1,
                    1,
                    1,
                    0,
                    0,
                    1,
                    1,
                    0,
                    0,
                    1,
                    0,
                    1,
                    1,
                    1,
                    0,
                    1,
                    0,
                    1,
                    1,
                    1,
                    1,
                    1,
                    0,
                    1,
                    1,
                    1,
                    1,
                    1,
                    1,
                    1,
                    1,
                    1,
                    1,
                    1,
                    0,
                    1,
                    1,
                    1,
                    0,
                    1,
                    0,
                    1,
                    0,
                    1,
                    1,
                    1,
                    1,
                    0,
                    0,
                    1,
                    0,
                    1,
                    0,
                    1,
                    0,
                    0,
                    0,
                    0,
                    1,
                    1,
                    1,
                    1,
                    0,
                    1,
                    1,
                    1,
                    0,
                    1,
                    1,
                    0,
                    1,
                    1,
                    0,
                    1,
                    0,
                    1,
                    1
                  ],
                  "x0": " ",
                  "xaxis": "x",
                  "y": [
                    38.42316895,
                    39.01599822,
                    39.14834088,
                    39.06004863,
                    38.65543905,
                    38.6092188,
                    39.47390806,
                    38.81521612,
                    37.77845286,
                    39.17685034,
                    39.52090819,
                    38.57896943,
                    38.28013391,
                    38.40158039,
                    38.65157641,
                    39.61720308,
                    37.72843549,
                    39.36694049,
                    37.98848685,
                    39.93405104,
                    37.60559023,
                    38.83468198,
                    37.39892664,
                    38.98633063,
                    39.72456882,
                    38.09695504,
                    37.59597881,
                    39.49731323,
                    38.50187636,
                    38.27036031,
                    38.69964224,
                    39.08411118,
                    38.29400364,
                    38.39872285,
                    39.29951536,
                    38.37598649,
                    38.46968433,
                    39.58561173,
                    38.12682317,
                    39.80156649,
                    37.92682179,
                    39.67264697,
                    38.21409556,
                    38.93217418,
                    37.80121676,
                    37.52097889,
                    39.34942824,
                    38.9163822,
                    38.72595498,
                    38.35421436,
                    40.17337876,
                    39.48214424,
                    39.9557292,
                    39.02529641,
                    39.70565695,
                    37.87210056,
                    38.92730588,
                    38.75694066,
                    38.98157028,
                    39.07020183,
                    39.31023381,
                    40.26487847,
                    39.19531025,
                    37.46606804,
                    38.61929591,
                    39.74308443,
                    37.9590829,
                    38.52387016,
                    39.58821189,
                    39.48780846,
                    37.32113362,
                    38.30311301,
                    39.32598796,
                    38.18373964,
                    37.78518905,
                    38.97361387,
                    37.97719515,
                    38.92654301,
                    37.98922316,
                    39.87010492,
                    38.51344083,
                    39.14710639,
                    38.61129304,
                    38.95232638,
                    37.46812464,
                    38.24131363,
                    38.7661591,
                    39.87233432,
                    38.87492299,
                    39.09337261,
                    39.00124171,
                    39.25963687,
                    38.6808734,
                    37.93994229,
                    38.79042609,
                    39.48996228,
                    38.57574159,
                    39.76644658
                  ],
                  "y0": " ",
                  "yaxis": "y"
                }
              ],
              "layout": {
                "boxmode": "group",
                "legend": {
                  "tracegroupgap": 0
                },
                "template": {
                  "data": {
                    "bar": [
                      {
                        "error_x": {
                          "color": "#2a3f5f"
                        },
                        "error_y": {
                          "color": "#2a3f5f"
                        },
                        "marker": {
                          "line": {
                            "color": "white",
                            "width": 0.5
                          },
                          "pattern": {
                            "fillmode": "overlay",
                            "size": 10,
                            "solidity": 0.2
                          }
                        },
                        "type": "bar"
                      }
                    ],
                    "barpolar": [
                      {
                        "marker": {
                          "line": {
                            "color": "white",
                            "width": 0.5
                          },
                          "pattern": {
                            "fillmode": "overlay",
                            "size": 10,
                            "solidity": 0.2
                          }
                        },
                        "type": "barpolar"
                      }
                    ],
                    "box": [
                      {
                        "boxpoints": "outliers",
                        "notched": false,
                        "type": "box"
                      }
                    ],
                    "carpet": [
                      {
                        "aaxis": {
                          "endlinecolor": "#2a3f5f",
                          "gridcolor": "#C8D4E3",
                          "linecolor": "#C8D4E3",
                          "minorgridcolor": "#C8D4E3",
                          "startlinecolor": "#2a3f5f"
                        },
                        "baxis": {
                          "endlinecolor": "#2a3f5f",
                          "gridcolor": "#C8D4E3",
                          "linecolor": "#C8D4E3",
                          "minorgridcolor": "#C8D4E3",
                          "startlinecolor": "#2a3f5f"
                        },
                        "type": "carpet"
                      }
                    ],
                    "choropleth": [
                      {
                        "colorbar": {
                          "outlinewidth": 0,
                          "ticks": ""
                        },
                        "type": "choropleth"
                      }
                    ],
                    "contour": [
                      {
                        "colorbar": {
                          "outlinewidth": 0,
                          "ticks": ""
                        },
                        "colorscale": [
                          [
                            0,
                            "#0d0887"
                          ],
                          [
                            0.1111111111111111,
                            "#46039f"
                          ],
                          [
                            0.2222222222222222,
                            "#7201a8"
                          ],
                          [
                            0.3333333333333333,
                            "#9c179e"
                          ],
                          [
                            0.4444444444444444,
                            "#bd3786"
                          ],
                          [
                            0.5555555555555556,
                            "#d8576b"
                          ],
                          [
                            0.6666666666666666,
                            "#ed7953"
                          ],
                          [
                            0.7777777777777778,
                            "#fb9f3a"
                          ],
                          [
                            0.8888888888888888,
                            "#fdca26"
                          ],
                          [
                            1,
                            "#f0f921"
                          ]
                        ],
                        "type": "contour"
                      }
                    ],
                    "contourcarpet": [
                      {
                        "colorbar": {
                          "outlinewidth": 0,
                          "ticks": ""
                        },
                        "type": "contourcarpet"
                      }
                    ],
                    "heatmap": [
                      {
                        "colorbar": {
                          "outlinewidth": 0,
                          "ticks": ""
                        },
                        "colorscale": [
                          [
                            0,
                            "#0d0887"
                          ],
                          [
                            0.1111111111111111,
                            "#46039f"
                          ],
                          [
                            0.2222222222222222,
                            "#7201a8"
                          ],
                          [
                            0.3333333333333333,
                            "#9c179e"
                          ],
                          [
                            0.4444444444444444,
                            "#bd3786"
                          ],
                          [
                            0.5555555555555556,
                            "#d8576b"
                          ],
                          [
                            0.6666666666666666,
                            "#ed7953"
                          ],
                          [
                            0.7777777777777778,
                            "#fb9f3a"
                          ],
                          [
                            0.8888888888888888,
                            "#fdca26"
                          ],
                          [
                            1,
                            "#f0f921"
                          ]
                        ],
                        "type": "heatmap"
                      }
                    ],
                    "heatmapgl": [
                      {
                        "colorbar": {
                          "outlinewidth": 0,
                          "ticks": ""
                        },
                        "colorscale": [
                          [
                            0,
                            "#0d0887"
                          ],
                          [
                            0.1111111111111111,
                            "#46039f"
                          ],
                          [
                            0.2222222222222222,
                            "#7201a8"
                          ],
                          [
                            0.3333333333333333,
                            "#9c179e"
                          ],
                          [
                            0.4444444444444444,
                            "#bd3786"
                          ],
                          [
                            0.5555555555555556,
                            "#d8576b"
                          ],
                          [
                            0.6666666666666666,
                            "#ed7953"
                          ],
                          [
                            0.7777777777777778,
                            "#fb9f3a"
                          ],
                          [
                            0.8888888888888888,
                            "#fdca26"
                          ],
                          [
                            1,
                            "#f0f921"
                          ]
                        ],
                        "type": "heatmapgl"
                      }
                    ],
                    "histogram": [
                      {
                        "marker": {
                          "line": {
                            "width": 1
                          },
                          "pattern": {
                            "fillmode": "overlay",
                            "size": 10,
                            "solidity": 0.2
                          }
                        },
                        "type": "histogram"
                      }
                    ],
                    "histogram2d": [
                      {
                        "colorbar": {
                          "outlinewidth": 0,
                          "ticks": ""
                        },
                        "colorscale": [
                          [
                            0,
                            "#0d0887"
                          ],
                          [
                            0.1111111111111111,
                            "#46039f"
                          ],
                          [
                            0.2222222222222222,
                            "#7201a8"
                          ],
                          [
                            0.3333333333333333,
                            "#9c179e"
                          ],
                          [
                            0.4444444444444444,
                            "#bd3786"
                          ],
                          [
                            0.5555555555555556,
                            "#d8576b"
                          ],
                          [
                            0.6666666666666666,
                            "#ed7953"
                          ],
                          [
                            0.7777777777777778,
                            "#fb9f3a"
                          ],
                          [
                            0.8888888888888888,
                            "#fdca26"
                          ],
                          [
                            1,
                            "#f0f921"
                          ]
                        ],
                        "type": "histogram2d"
                      }
                    ],
                    "histogram2dcontour": [
                      {
                        "colorbar": {
                          "outlinewidth": 0,
                          "ticks": ""
                        },
                        "colorscale": [
                          [
                            0,
                            "#0d0887"
                          ],
                          [
                            0.1111111111111111,
                            "#46039f"
                          ],
                          [
                            0.2222222222222222,
                            "#7201a8"
                          ],
                          [
                            0.3333333333333333,
                            "#9c179e"
                          ],
                          [
                            0.4444444444444444,
                            "#bd3786"
                          ],
                          [
                            0.5555555555555556,
                            "#d8576b"
                          ],
                          [
                            0.6666666666666666,
                            "#ed7953"
                          ],
                          [
                            0.7777777777777778,
                            "#fb9f3a"
                          ],
                          [
                            0.8888888888888888,
                            "#fdca26"
                          ],
                          [
                            1,
                            "#f0f921"
                          ]
                        ],
                        "type": "histogram2dcontour"
                      }
                    ],
                    "mesh3d": [
                      {
                        "colorbar": {
                          "outlinewidth": 0,
                          "ticks": ""
                        },
                        "type": "mesh3d"
                      }
                    ],
                    "parcoords": [
                      {
                        "line": {
                          "colorbar": {
                            "outlinewidth": 0,
                            "ticks": ""
                          }
                        },
                        "type": "parcoords"
                      }
                    ],
                    "pie": [
                      {
                        "automargin": true,
                        "type": "pie"
                      }
                    ],
                    "scatter": [
                      {
                        "fillpattern": {
                          "fillmode": "overlay",
                          "size": 10,
                          "solidity": 0.2
                        },
                        "marker": {
                          "opacity": 0.8
                        },
                        "type": "scatter"
                      }
                    ],
                    "scatter3d": [
                      {
                        "line": {
                          "colorbar": {
                            "outlinewidth": 0,
                            "ticks": ""
                          }
                        },
                        "marker": {
                          "colorbar": {
                            "outlinewidth": 0,
                            "ticks": ""
                          },
                          "opacity": 0.8
                        },
                        "type": "scatter3d"
                      }
                    ],
                    "scattercarpet": [
                      {
                        "marker": {
                          "colorbar": {
                            "outlinewidth": 0,
                            "ticks": ""
                          }
                        },
                        "type": "scattercarpet"
                      }
                    ],
                    "scattergeo": [
                      {
                        "marker": {
                          "colorbar": {
                            "outlinewidth": 0,
                            "ticks": ""
                          }
                        },
                        "type": "scattergeo"
                      }
                    ],
                    "scattergl": [
                      {
                        "marker": {
                          "colorbar": {
                            "outlinewidth": 0,
                            "ticks": ""
                          }
                        },
                        "type": "scattergl"
                      }
                    ],
                    "scattermapbox": [
                      {
                        "marker": {
                          "colorbar": {
                            "outlinewidth": 0,
                            "ticks": ""
                          }
                        },
                        "type": "scattermapbox"
                      }
                    ],
                    "scatterpolar": [
                      {
                        "marker": {
                          "colorbar": {
                            "outlinewidth": 0,
                            "ticks": ""
                          }
                        },
                        "type": "scatterpolar"
                      }
                    ],
                    "scatterpolargl": [
                      {
                        "marker": {
                          "colorbar": {
                            "outlinewidth": 0,
                            "ticks": ""
                          }
                        },
                        "type": "scatterpolargl"
                      }
                    ],
                    "scatterternary": [
                      {
                        "marker": {
                          "colorbar": {
                            "outlinewidth": 0,
                            "ticks": ""
                          }
                        },
                        "type": "scatterternary"
                      }
                    ],
                    "surface": [
                      {
                        "colorbar": {
                          "outlinewidth": 0,
                          "ticks": ""
                        },
                        "colorscale": [
                          [
                            0,
                            "#0d0887"
                          ],
                          [
                            0.1111111111111111,
                            "#46039f"
                          ],
                          [
                            0.2222222222222222,
                            "#7201a8"
                          ],
                          [
                            0.3333333333333333,
                            "#9c179e"
                          ],
                          [
                            0.4444444444444444,
                            "#bd3786"
                          ],
                          [
                            0.5555555555555556,
                            "#d8576b"
                          ],
                          [
                            0.6666666666666666,
                            "#ed7953"
                          ],
                          [
                            0.7777777777777778,
                            "#fb9f3a"
                          ],
                          [
                            0.8888888888888888,
                            "#fdca26"
                          ],
                          [
                            1,
                            "#f0f921"
                          ]
                        ],
                        "type": "surface"
                      }
                    ],
                    "table": [
                      {
                        "cells": {
                          "fill": {
                            "color": "#EBF0F8"
                          },
                          "line": {
                            "color": "white"
                          }
                        },
                        "header": {
                          "fill": {
                            "color": "#C8D4E3"
                          },
                          "line": {
                            "color": "white"
                          }
                        },
                        "type": "table"
                      }
                    ]
                  },
                  "layout": {
                    "annotationdefaults": {
                      "arrowcolor": "#2a3f5f",
                      "arrowhead": 0,
                      "arrowwidth": 1
                    },
                    "autotypenumbers": "strict",
                    "coloraxis": {
                      "colorbar": {
                        "outlinewidth": 0,
                        "ticks": ""
                      }
                    },
                    "colorscale": {
                      "diverging": [
                        [
                          0,
                          "#8e0152"
                        ],
                        [
                          0.1,
                          "#c51b7d"
                        ],
                        [
                          0.2,
                          "#de77ae"
                        ],
                        [
                          0.3,
                          "#f1b6da"
                        ],
                        [
                          0.4,
                          "#fde0ef"
                        ],
                        [
                          0.5,
                          "#f7f7f7"
                        ],
                        [
                          0.6,
                          "#e6f5d0"
                        ],
                        [
                          0.7,
                          "#b8e186"
                        ],
                        [
                          0.8,
                          "#7fbc41"
                        ],
                        [
                          0.9,
                          "#4d9221"
                        ],
                        [
                          1,
                          "#276419"
                        ]
                      ],
                      "sequential": [
                        [
                          0,
                          "#0d0887"
                        ],
                        [
                          0.1111111111111111,
                          "#46039f"
                        ],
                        [
                          0.2222222222222222,
                          "#7201a8"
                        ],
                        [
                          0.3333333333333333,
                          "#9c179e"
                        ],
                        [
                          0.4444444444444444,
                          "#bd3786"
                        ],
                        [
                          0.5555555555555556,
                          "#d8576b"
                        ],
                        [
                          0.6666666666666666,
                          "#ed7953"
                        ],
                        [
                          0.7777777777777778,
                          "#fb9f3a"
                        ],
                        [
                          0.8888888888888888,
                          "#fdca26"
                        ],
                        [
                          1,
                          "#f0f921"
                        ]
                      ],
                      "sequentialminus": [
                        [
                          0,
                          "#0d0887"
                        ],
                        [
                          0.1111111111111111,
                          "#46039f"
                        ],
                        [
                          0.2222222222222222,
                          "#7201a8"
                        ],
                        [
                          0.3333333333333333,
                          "#9c179e"
                        ],
                        [
                          0.4444444444444444,
                          "#bd3786"
                        ],
                        [
                          0.5555555555555556,
                          "#d8576b"
                        ],
                        [
                          0.6666666666666666,
                          "#ed7953"
                        ],
                        [
                          0.7777777777777778,
                          "#fb9f3a"
                        ],
                        [
                          0.8888888888888888,
                          "#fdca26"
                        ],
                        [
                          1,
                          "#f0f921"
                        ]
                      ]
                    },
                    "colorway": [
                      "#636efa",
                      "#EF553B",
                      "#00cc96",
                      "#ab63fa",
                      "#FFA15A",
                      "#19d3f3",
                      "#FF6692",
                      "#B6E880",
                      "#FF97FF",
                      "#FECB52"
                    ],
                    "font": {
                      "color": "#2a3f5f"
                    },
                    "geo": {
                      "bgcolor": "white",
                      "lakecolor": "white",
                      "landcolor": "white",
                      "showlakes": true,
                      "showland": true,
                      "subunitcolor": "#C8D4E3"
                    },
                    "height": 400,
                    "hoverlabel": {
                      "align": "left"
                    },
                    "hovermode": "closest",
                    "mapbox": {
                      "style": "light"
                    },
                    "margin": {
                      "b": 2,
                      "l": 2,
                      "r": 2,
                      "t": 30
                    },
                    "paper_bgcolor": "white",
                    "plot_bgcolor": "white",
                    "polar": {
                      "angularaxis": {
                        "gridcolor": "#EBF0F8",
                        "linecolor": "#EBF0F8",
                        "ticks": ""
                      },
                      "bgcolor": "white",
                      "radialaxis": {
                        "gridcolor": "#EBF0F8",
                        "linecolor": "#EBF0F8",
                        "ticks": ""
                      }
                    },
                    "scene": {
                      "camera": {
                        "eye": {
                          "x": 1.5,
                          "y": 1.5,
                          "z": 0.1
                        }
                      },
                      "xaxis": {
                        "backgroundcolor": "white",
                        "gridcolor": "#DFE8F3",
                        "gridwidth": 2,
                        "linecolor": "#EBF0F8",
                        "showbackground": true,
                        "ticks": "",
                        "zerolinecolor": "#EBF0F8"
                      },
                      "yaxis": {
                        "backgroundcolor": "white",
                        "gridcolor": "#DFE8F3",
                        "gridwidth": 2,
                        "linecolor": "#EBF0F8",
                        "showbackground": true,
                        "ticks": "",
                        "zerolinecolor": "#EBF0F8"
                      },
                      "zaxis": {
                        "backgroundcolor": "white",
                        "gridcolor": "#DFE8F3",
                        "gridwidth": 2,
                        "linecolor": "#EBF0F8",
                        "showbackground": true,
                        "ticks": "",
                        "zerolinecolor": "#EBF0F8"
                      }
                    },
                    "shapedefaults": {
                      "line": {
                        "color": "#2a3f5f"
                      }
                    },
                    "ternary": {
                      "aaxis": {
                        "gridcolor": "#DFE8F3",
                        "linecolor": "#A2B1C6",
                        "ticks": ""
                      },
                      "baxis": {
                        "gridcolor": "#DFE8F3",
                        "linecolor": "#A2B1C6",
                        "ticks": ""
                      },
                      "bgcolor": "white",
                      "caxis": {
                        "gridcolor": "#DFE8F3",
                        "linecolor": "#A2B1C6",
                        "ticks": ""
                      }
                    },
                    "title": {
                      "x": 0.5
                    },
                    "xaxis": {
                      "automargin": true,
                      "gridcolor": "#EBF0F8",
                      "linecolor": "#EBF0F8",
                      "linewidth": 2,
                      "showline": true,
                      "ticks": "",
                      "title": {
                        "standoff": 15
                      },
                      "zerolinecolor": "#EBF0F8",
                      "zerolinewidth": 2
                    },
                    "yaxis": {
                      "automargin": true,
                      "gridcolor": "#EBF0F8",
                      "linecolor": "#EBF0F8",
                      "linewidth": 2,
                      "showline": true,
                      "ticks": "",
                      "title": {
                        "standoff": 15
                      },
                      "zerolinecolor": "#EBF0F8",
                      "zerolinewidth": 2
                    }
                  }
                },
                "xaxis": {
                  "anchor": "y",
                  "domain": [
                    0,
                    1
                  ],
                  "title": {
                    "text": "ate at tonys steakhouse"
                  }
                },
                "yaxis": {
                  "anchor": "x",
                  "domain": [
                    0,
                    1
                  ],
                  "title": {
                    "text": "core temperature"
                  }
                }
              }
            }
          },
          "metadata": {},
          "output_type": "display_data"
        },
        {
          "data": {
            "application/vnd.plotly.v1+json": {
              "config": {
                "plotlyServerURL": "https://plot.ly"
              },
              "data": [
                {
                  "hovertemplate": "body fat percentage=%{x}<br>core temperature=%{y}<extra></extra>",
                  "legendgroup": "",
                  "marker": {
                    "color": "#636efa",
                    "size": 17,
                    "symbol": "circle"
                  },
                  "mode": "markers",
                  "name": "",
                  "orientation": "v",
                  "showlegend": false,
                  "type": "scatter",
                  "x": [
                    38,
                    32,
                    12,
                    23,
                    15,
                    14,
                    25,
                    18,
                    34,
                    31,
                    13,
                    18,
                    26,
                    36,
                    31,
                    12,
                    30,
                    35,
                    11,
                    26,
                    19,
                    36,
                    24,
                    29,
                    20,
                    16,
                    17,
                    17,
                    32,
                    12,
                    20,
                    34,
                    29,
                    12,
                    36,
                    39,
                    12,
                    15,
                    35,
                    32,
                    39,
                    31,
                    17,
                    20,
                    40,
                    40,
                    23,
                    38,
                    18,
                    28,
                    40,
                    28,
                    40,
                    11,
                    16,
                    39,
                    20,
                    39,
                    15,
                    21,
                    16,
                    33,
                    40,
                    19,
                    38,
                    20,
                    17,
                    40,
                    36,
                    23,
                    10,
                    30,
                    38,
                    23,
                    35,
                    27,
                    21,
                    16,
                    40,
                    29,
                    20,
                    11,
                    37,
                    33,
                    15,
                    25,
                    39,
                    25,
                    38,
                    36,
                    29,
                    30,
                    18,
                    38,
                    11,
                    20,
                    32,
                    21
                  ],
                  "xaxis": "x",
                  "y": [
                    38.42316895,
                    39.01599822,
                    39.14834088,
                    39.06004863,
                    38.65543905,
                    38.6092188,
                    39.47390806,
                    38.81521612,
                    37.77845286,
                    39.17685034,
                    39.52090819,
                    38.57896943,
                    38.28013391,
                    38.40158039,
                    38.65157641,
                    39.61720308,
                    37.72843549,
                    39.36694049,
                    37.98848685,
                    39.93405104,
                    37.60559023,
                    38.83468198,
                    37.39892664,
                    38.98633063,
                    39.72456882,
                    38.09695504,
                    37.59597881,
                    39.49731323,
                    38.50187636,
                    38.27036031,
                    38.69964224,
                    39.08411118,
                    38.29400364,
                    38.39872285,
                    39.29951536,
                    38.37598649,
                    38.46968433,
                    39.58561173,
                    38.12682317,
                    39.80156649,
                    37.92682179,
                    39.67264697,
                    38.21409556,
                    38.93217418,
                    37.80121676,
                    37.52097889,
                    39.34942824,
                    38.9163822,
                    38.72595498,
                    38.35421436,
                    40.17337876,
                    39.48214424,
                    39.9557292,
                    39.02529641,
                    39.70565695,
                    37.87210056,
                    38.92730588,
                    38.75694066,
                    38.98157028,
                    39.07020183,
                    39.31023381,
                    40.26487847,
                    39.19531025,
                    37.46606804,
                    38.61929591,
                    39.74308443,
                    37.9590829,
                    38.52387016,
                    39.58821189,
                    39.48780846,
                    37.32113362,
                    38.30311301,
                    39.32598796,
                    38.18373964,
                    37.78518905,
                    38.97361387,
                    37.97719515,
                    38.92654301,
                    37.98922316,
                    39.87010492,
                    38.51344083,
                    39.14710639,
                    38.61129304,
                    38.95232638,
                    37.46812464,
                    38.24131363,
                    38.7661591,
                    39.87233432,
                    38.87492299,
                    39.09337261,
                    39.00124171,
                    39.25963687,
                    38.6808734,
                    37.93994229,
                    38.79042609,
                    39.48996228,
                    38.57574159,
                    39.76644658
                  ],
                  "yaxis": "y"
                }
              ],
              "layout": {
                "legend": {
                  "tracegroupgap": 0
                },
                "template": {
                  "data": {
                    "bar": [
                      {
                        "error_x": {
                          "color": "#2a3f5f"
                        },
                        "error_y": {
                          "color": "#2a3f5f"
                        },
                        "marker": {
                          "line": {
                            "color": "white",
                            "width": 0.5
                          },
                          "pattern": {
                            "fillmode": "overlay",
                            "size": 10,
                            "solidity": 0.2
                          }
                        },
                        "type": "bar"
                      }
                    ],
                    "barpolar": [
                      {
                        "marker": {
                          "line": {
                            "color": "white",
                            "width": 0.5
                          },
                          "pattern": {
                            "fillmode": "overlay",
                            "size": 10,
                            "solidity": 0.2
                          }
                        },
                        "type": "barpolar"
                      }
                    ],
                    "box": [
                      {
                        "boxpoints": "outliers",
                        "notched": false,
                        "type": "box"
                      }
                    ],
                    "carpet": [
                      {
                        "aaxis": {
                          "endlinecolor": "#2a3f5f",
                          "gridcolor": "#C8D4E3",
                          "linecolor": "#C8D4E3",
                          "minorgridcolor": "#C8D4E3",
                          "startlinecolor": "#2a3f5f"
                        },
                        "baxis": {
                          "endlinecolor": "#2a3f5f",
                          "gridcolor": "#C8D4E3",
                          "linecolor": "#C8D4E3",
                          "minorgridcolor": "#C8D4E3",
                          "startlinecolor": "#2a3f5f"
                        },
                        "type": "carpet"
                      }
                    ],
                    "choropleth": [
                      {
                        "colorbar": {
                          "outlinewidth": 0,
                          "ticks": ""
                        },
                        "type": "choropleth"
                      }
                    ],
                    "contour": [
                      {
                        "colorbar": {
                          "outlinewidth": 0,
                          "ticks": ""
                        },
                        "colorscale": [
                          [
                            0,
                            "#0d0887"
                          ],
                          [
                            0.1111111111111111,
                            "#46039f"
                          ],
                          [
                            0.2222222222222222,
                            "#7201a8"
                          ],
                          [
                            0.3333333333333333,
                            "#9c179e"
                          ],
                          [
                            0.4444444444444444,
                            "#bd3786"
                          ],
                          [
                            0.5555555555555556,
                            "#d8576b"
                          ],
                          [
                            0.6666666666666666,
                            "#ed7953"
                          ],
                          [
                            0.7777777777777778,
                            "#fb9f3a"
                          ],
                          [
                            0.8888888888888888,
                            "#fdca26"
                          ],
                          [
                            1,
                            "#f0f921"
                          ]
                        ],
                        "type": "contour"
                      }
                    ],
                    "contourcarpet": [
                      {
                        "colorbar": {
                          "outlinewidth": 0,
                          "ticks": ""
                        },
                        "type": "contourcarpet"
                      }
                    ],
                    "heatmap": [
                      {
                        "colorbar": {
                          "outlinewidth": 0,
                          "ticks": ""
                        },
                        "colorscale": [
                          [
                            0,
                            "#0d0887"
                          ],
                          [
                            0.1111111111111111,
                            "#46039f"
                          ],
                          [
                            0.2222222222222222,
                            "#7201a8"
                          ],
                          [
                            0.3333333333333333,
                            "#9c179e"
                          ],
                          [
                            0.4444444444444444,
                            "#bd3786"
                          ],
                          [
                            0.5555555555555556,
                            "#d8576b"
                          ],
                          [
                            0.6666666666666666,
                            "#ed7953"
                          ],
                          [
                            0.7777777777777778,
                            "#fb9f3a"
                          ],
                          [
                            0.8888888888888888,
                            "#fdca26"
                          ],
                          [
                            1,
                            "#f0f921"
                          ]
                        ],
                        "type": "heatmap"
                      }
                    ],
                    "heatmapgl": [
                      {
                        "colorbar": {
                          "outlinewidth": 0,
                          "ticks": ""
                        },
                        "colorscale": [
                          [
                            0,
                            "#0d0887"
                          ],
                          [
                            0.1111111111111111,
                            "#46039f"
                          ],
                          [
                            0.2222222222222222,
                            "#7201a8"
                          ],
                          [
                            0.3333333333333333,
                            "#9c179e"
                          ],
                          [
                            0.4444444444444444,
                            "#bd3786"
                          ],
                          [
                            0.5555555555555556,
                            "#d8576b"
                          ],
                          [
                            0.6666666666666666,
                            "#ed7953"
                          ],
                          [
                            0.7777777777777778,
                            "#fb9f3a"
                          ],
                          [
                            0.8888888888888888,
                            "#fdca26"
                          ],
                          [
                            1,
                            "#f0f921"
                          ]
                        ],
                        "type": "heatmapgl"
                      }
                    ],
                    "histogram": [
                      {
                        "marker": {
                          "line": {
                            "width": 1
                          },
                          "pattern": {
                            "fillmode": "overlay",
                            "size": 10,
                            "solidity": 0.2
                          }
                        },
                        "type": "histogram"
                      }
                    ],
                    "histogram2d": [
                      {
                        "colorbar": {
                          "outlinewidth": 0,
                          "ticks": ""
                        },
                        "colorscale": [
                          [
                            0,
                            "#0d0887"
                          ],
                          [
                            0.1111111111111111,
                            "#46039f"
                          ],
                          [
                            0.2222222222222222,
                            "#7201a8"
                          ],
                          [
                            0.3333333333333333,
                            "#9c179e"
                          ],
                          [
                            0.4444444444444444,
                            "#bd3786"
                          ],
                          [
                            0.5555555555555556,
                            "#d8576b"
                          ],
                          [
                            0.6666666666666666,
                            "#ed7953"
                          ],
                          [
                            0.7777777777777778,
                            "#fb9f3a"
                          ],
                          [
                            0.8888888888888888,
                            "#fdca26"
                          ],
                          [
                            1,
                            "#f0f921"
                          ]
                        ],
                        "type": "histogram2d"
                      }
                    ],
                    "histogram2dcontour": [
                      {
                        "colorbar": {
                          "outlinewidth": 0,
                          "ticks": ""
                        },
                        "colorscale": [
                          [
                            0,
                            "#0d0887"
                          ],
                          [
                            0.1111111111111111,
                            "#46039f"
                          ],
                          [
                            0.2222222222222222,
                            "#7201a8"
                          ],
                          [
                            0.3333333333333333,
                            "#9c179e"
                          ],
                          [
                            0.4444444444444444,
                            "#bd3786"
                          ],
                          [
                            0.5555555555555556,
                            "#d8576b"
                          ],
                          [
                            0.6666666666666666,
                            "#ed7953"
                          ],
                          [
                            0.7777777777777778,
                            "#fb9f3a"
                          ],
                          [
                            0.8888888888888888,
                            "#fdca26"
                          ],
                          [
                            1,
                            "#f0f921"
                          ]
                        ],
                        "type": "histogram2dcontour"
                      }
                    ],
                    "mesh3d": [
                      {
                        "colorbar": {
                          "outlinewidth": 0,
                          "ticks": ""
                        },
                        "type": "mesh3d"
                      }
                    ],
                    "parcoords": [
                      {
                        "line": {
                          "colorbar": {
                            "outlinewidth": 0,
                            "ticks": ""
                          }
                        },
                        "type": "parcoords"
                      }
                    ],
                    "pie": [
                      {
                        "automargin": true,
                        "type": "pie"
                      }
                    ],
                    "scatter": [
                      {
                        "fillpattern": {
                          "fillmode": "overlay",
                          "size": 10,
                          "solidity": 0.2
                        },
                        "marker": {
                          "opacity": 0.8
                        },
                        "type": "scatter"
                      }
                    ],
                    "scatter3d": [
                      {
                        "line": {
                          "colorbar": {
                            "outlinewidth": 0,
                            "ticks": ""
                          }
                        },
                        "marker": {
                          "colorbar": {
                            "outlinewidth": 0,
                            "ticks": ""
                          },
                          "opacity": 0.8
                        },
                        "type": "scatter3d"
                      }
                    ],
                    "scattercarpet": [
                      {
                        "marker": {
                          "colorbar": {
                            "outlinewidth": 0,
                            "ticks": ""
                          }
                        },
                        "type": "scattercarpet"
                      }
                    ],
                    "scattergeo": [
                      {
                        "marker": {
                          "colorbar": {
                            "outlinewidth": 0,
                            "ticks": ""
                          }
                        },
                        "type": "scattergeo"
                      }
                    ],
                    "scattergl": [
                      {
                        "marker": {
                          "colorbar": {
                            "outlinewidth": 0,
                            "ticks": ""
                          }
                        },
                        "type": "scattergl"
                      }
                    ],
                    "scattermapbox": [
                      {
                        "marker": {
                          "colorbar": {
                            "outlinewidth": 0,
                            "ticks": ""
                          }
                        },
                        "type": "scattermapbox"
                      }
                    ],
                    "scatterpolar": [
                      {
                        "marker": {
                          "colorbar": {
                            "outlinewidth": 0,
                            "ticks": ""
                          }
                        },
                        "type": "scatterpolar"
                      }
                    ],
                    "scatterpolargl": [
                      {
                        "marker": {
                          "colorbar": {
                            "outlinewidth": 0,
                            "ticks": ""
                          }
                        },
                        "type": "scatterpolargl"
                      }
                    ],
                    "scatterternary": [
                      {
                        "marker": {
                          "colorbar": {
                            "outlinewidth": 0,
                            "ticks": ""
                          }
                        },
                        "type": "scatterternary"
                      }
                    ],
                    "surface": [
                      {
                        "colorbar": {
                          "outlinewidth": 0,
                          "ticks": ""
                        },
                        "colorscale": [
                          [
                            0,
                            "#0d0887"
                          ],
                          [
                            0.1111111111111111,
                            "#46039f"
                          ],
                          [
                            0.2222222222222222,
                            "#7201a8"
                          ],
                          [
                            0.3333333333333333,
                            "#9c179e"
                          ],
                          [
                            0.4444444444444444,
                            "#bd3786"
                          ],
                          [
                            0.5555555555555556,
                            "#d8576b"
                          ],
                          [
                            0.6666666666666666,
                            "#ed7953"
                          ],
                          [
                            0.7777777777777778,
                            "#fb9f3a"
                          ],
                          [
                            0.8888888888888888,
                            "#fdca26"
                          ],
                          [
                            1,
                            "#f0f921"
                          ]
                        ],
                        "type": "surface"
                      }
                    ],
                    "table": [
                      {
                        "cells": {
                          "fill": {
                            "color": "#EBF0F8"
                          },
                          "line": {
                            "color": "white"
                          }
                        },
                        "header": {
                          "fill": {
                            "color": "#C8D4E3"
                          },
                          "line": {
                            "color": "white"
                          }
                        },
                        "type": "table"
                      }
                    ]
                  },
                  "layout": {
                    "annotationdefaults": {
                      "arrowcolor": "#2a3f5f",
                      "arrowhead": 0,
                      "arrowwidth": 1
                    },
                    "autotypenumbers": "strict",
                    "coloraxis": {
                      "colorbar": {
                        "outlinewidth": 0,
                        "ticks": ""
                      }
                    },
                    "colorscale": {
                      "diverging": [
                        [
                          0,
                          "#8e0152"
                        ],
                        [
                          0.1,
                          "#c51b7d"
                        ],
                        [
                          0.2,
                          "#de77ae"
                        ],
                        [
                          0.3,
                          "#f1b6da"
                        ],
                        [
                          0.4,
                          "#fde0ef"
                        ],
                        [
                          0.5,
                          "#f7f7f7"
                        ],
                        [
                          0.6,
                          "#e6f5d0"
                        ],
                        [
                          0.7,
                          "#b8e186"
                        ],
                        [
                          0.8,
                          "#7fbc41"
                        ],
                        [
                          0.9,
                          "#4d9221"
                        ],
                        [
                          1,
                          "#276419"
                        ]
                      ],
                      "sequential": [
                        [
                          0,
                          "#0d0887"
                        ],
                        [
                          0.1111111111111111,
                          "#46039f"
                        ],
                        [
                          0.2222222222222222,
                          "#7201a8"
                        ],
                        [
                          0.3333333333333333,
                          "#9c179e"
                        ],
                        [
                          0.4444444444444444,
                          "#bd3786"
                        ],
                        [
                          0.5555555555555556,
                          "#d8576b"
                        ],
                        [
                          0.6666666666666666,
                          "#ed7953"
                        ],
                        [
                          0.7777777777777778,
                          "#fb9f3a"
                        ],
                        [
                          0.8888888888888888,
                          "#fdca26"
                        ],
                        [
                          1,
                          "#f0f921"
                        ]
                      ],
                      "sequentialminus": [
                        [
                          0,
                          "#0d0887"
                        ],
                        [
                          0.1111111111111111,
                          "#46039f"
                        ],
                        [
                          0.2222222222222222,
                          "#7201a8"
                        ],
                        [
                          0.3333333333333333,
                          "#9c179e"
                        ],
                        [
                          0.4444444444444444,
                          "#bd3786"
                        ],
                        [
                          0.5555555555555556,
                          "#d8576b"
                        ],
                        [
                          0.6666666666666666,
                          "#ed7953"
                        ],
                        [
                          0.7777777777777778,
                          "#fb9f3a"
                        ],
                        [
                          0.8888888888888888,
                          "#fdca26"
                        ],
                        [
                          1,
                          "#f0f921"
                        ]
                      ]
                    },
                    "colorway": [
                      "#636efa",
                      "#EF553B",
                      "#00cc96",
                      "#ab63fa",
                      "#FFA15A",
                      "#19d3f3",
                      "#FF6692",
                      "#B6E880",
                      "#FF97FF",
                      "#FECB52"
                    ],
                    "font": {
                      "color": "#2a3f5f"
                    },
                    "geo": {
                      "bgcolor": "white",
                      "lakecolor": "white",
                      "landcolor": "white",
                      "showlakes": true,
                      "showland": true,
                      "subunitcolor": "#C8D4E3"
                    },
                    "height": 400,
                    "hoverlabel": {
                      "align": "left"
                    },
                    "hovermode": "closest",
                    "mapbox": {
                      "style": "light"
                    },
                    "margin": {
                      "b": 2,
                      "l": 2,
                      "r": 2,
                      "t": 30
                    },
                    "paper_bgcolor": "white",
                    "plot_bgcolor": "white",
                    "polar": {
                      "angularaxis": {
                        "gridcolor": "#EBF0F8",
                        "linecolor": "#EBF0F8",
                        "ticks": ""
                      },
                      "bgcolor": "white",
                      "radialaxis": {
                        "gridcolor": "#EBF0F8",
                        "linecolor": "#EBF0F8",
                        "ticks": ""
                      }
                    },
                    "scene": {
                      "camera": {
                        "eye": {
                          "x": 1.5,
                          "y": 1.5,
                          "z": 0.1
                        }
                      },
                      "xaxis": {
                        "backgroundcolor": "white",
                        "gridcolor": "#DFE8F3",
                        "gridwidth": 2,
                        "linecolor": "#EBF0F8",
                        "showbackground": true,
                        "ticks": "",
                        "zerolinecolor": "#EBF0F8"
                      },
                      "yaxis": {
                        "backgroundcolor": "white",
                        "gridcolor": "#DFE8F3",
                        "gridwidth": 2,
                        "linecolor": "#EBF0F8",
                        "showbackground": true,
                        "ticks": "",
                        "zerolinecolor": "#EBF0F8"
                      },
                      "zaxis": {
                        "backgroundcolor": "white",
                        "gridcolor": "#DFE8F3",
                        "gridwidth": 2,
                        "linecolor": "#EBF0F8",
                        "showbackground": true,
                        "ticks": "",
                        "zerolinecolor": "#EBF0F8"
                      }
                    },
                    "shapedefaults": {
                      "line": {
                        "color": "#2a3f5f"
                      }
                    },
                    "ternary": {
                      "aaxis": {
                        "gridcolor": "#DFE8F3",
                        "linecolor": "#A2B1C6",
                        "ticks": ""
                      },
                      "baxis": {
                        "gridcolor": "#DFE8F3",
                        "linecolor": "#A2B1C6",
                        "ticks": ""
                      },
                      "bgcolor": "white",
                      "caxis": {
                        "gridcolor": "#DFE8F3",
                        "linecolor": "#A2B1C6",
                        "ticks": ""
                      }
                    },
                    "title": {
                      "x": 0.5
                    },
                    "xaxis": {
                      "automargin": true,
                      "gridcolor": "#EBF0F8",
                      "linecolor": "#EBF0F8",
                      "linewidth": 2,
                      "showline": true,
                      "ticks": "",
                      "title": {
                        "standoff": 15
                      },
                      "zerolinecolor": "#EBF0F8",
                      "zerolinewidth": 2
                    },
                    "yaxis": {
                      "automargin": true,
                      "gridcolor": "#EBF0F8",
                      "linecolor": "#EBF0F8",
                      "linewidth": 2,
                      "showline": true,
                      "ticks": "",
                      "title": {
                        "standoff": 15
                      },
                      "zerolinecolor": "#EBF0F8",
                      "zerolinewidth": 2
                    }
                  }
                },
                "xaxis": {
                  "anchor": "y",
                  "domain": [
                    0,
                    1
                  ],
                  "title": {
                    "text": "body fat percentage"
                  }
                },
                "yaxis": {
                  "anchor": "x",
                  "domain": [
                    0,
                    1
                  ],
                  "title": {
                    "text": "core temperature"
                  }
                }
              }
            }
          },
          "metadata": {},
          "output_type": "display_data"
        },
        {
          "data": {
            "application/vnd.plotly.v1+json": {
              "config": {
                "plotlyServerURL": "https://plot.ly"
              },
              "data": [
                {
                  "hovertemplate": "protein content of last meal=%{x}<br>core temperature=%{y}<extra></extra>",
                  "legendgroup": "",
                  "marker": {
                    "color": "#636efa",
                    "size": 17,
                    "symbol": "circle"
                  },
                  "mode": "markers",
                  "name": "",
                  "orientation": "v",
                  "showlegend": false,
                  "type": "scatter",
                  "x": [
                    7.66,
                    13.36,
                    12.9,
                    13.45,
                    10.53,
                    11.17,
                    16,
                    10.3,
                    5.71,
                    15.38,
                    18.47,
                    8.52,
                    7.36,
                    7.78,
                    10.76,
                    19.94,
                    5.86,
                    17.56,
                    8.14,
                    22.18,
                    4.43,
                    12.29,
                    4.83,
                    13.68,
                    18.52,
                    7.12,
                    6.99,
                    17.39,
                    10.6,
                    9.03,
                    9.54,
                    13.29,
                    8.79,
                    7.72,
                    15.43,
                    7.17,
                    8.9,
                    19.72,
                    8.47,
                    21.73,
                    5.95,
                    19.16,
                    7.28,
                    11.57,
                    7.62,
                    5.33,
                    15.95,
                    13.04,
                    11.96,
                    8.96,
                    24.89,
                    17.45,
                    23.65,
                    11.9,
                    20.52,
                    6.76,
                    11.71,
                    11.51,
                    11.76,
                    13.78,
                    16.51,
                    26.61,
                    14.84,
                    4.99,
                    9.98,
                    19.91,
                    6.5,
                    8.2,
                    18.86,
                    16.26,
                    3.93,
                    7.66,
                    14.68,
                    6.4,
                    5.31,
                    13.52,
                    7.9,
                    10.86,
                    7.91,
                    21.93,
                    9.51,
                    12.79,
                    9.64,
                    13.31,
                    6.45,
                    9.44,
                    10.04,
                    22.78,
                    11.12,
                    13.99,
                    14.22,
                    15.06,
                    10,
                    7.35,
                    12.18,
                    15.84,
                    9.79,
                    21.3
                  ],
                  "xaxis": "x",
                  "y": [
                    38.42316895,
                    39.01599822,
                    39.14834088,
                    39.06004863,
                    38.65543905,
                    38.6092188,
                    39.47390806,
                    38.81521612,
                    37.77845286,
                    39.17685034,
                    39.52090819,
                    38.57896943,
                    38.28013391,
                    38.40158039,
                    38.65157641,
                    39.61720308,
                    37.72843549,
                    39.36694049,
                    37.98848685,
                    39.93405104,
                    37.60559023,
                    38.83468198,
                    37.39892664,
                    38.98633063,
                    39.72456882,
                    38.09695504,
                    37.59597881,
                    39.49731323,
                    38.50187636,
                    38.27036031,
                    38.69964224,
                    39.08411118,
                    38.29400364,
                    38.39872285,
                    39.29951536,
                    38.37598649,
                    38.46968433,
                    39.58561173,
                    38.12682317,
                    39.80156649,
                    37.92682179,
                    39.67264697,
                    38.21409556,
                    38.93217418,
                    37.80121676,
                    37.52097889,
                    39.34942824,
                    38.9163822,
                    38.72595498,
                    38.35421436,
                    40.17337876,
                    39.48214424,
                    39.9557292,
                    39.02529641,
                    39.70565695,
                    37.87210056,
                    38.92730588,
                    38.75694066,
                    38.98157028,
                    39.07020183,
                    39.31023381,
                    40.26487847,
                    39.19531025,
                    37.46606804,
                    38.61929591,
                    39.74308443,
                    37.9590829,
                    38.52387016,
                    39.58821189,
                    39.48780846,
                    37.32113362,
                    38.30311301,
                    39.32598796,
                    38.18373964,
                    37.78518905,
                    38.97361387,
                    37.97719515,
                    38.92654301,
                    37.98922316,
                    39.87010492,
                    38.51344083,
                    39.14710639,
                    38.61129304,
                    38.95232638,
                    37.46812464,
                    38.24131363,
                    38.7661591,
                    39.87233432,
                    38.87492299,
                    39.09337261,
                    39.00124171,
                    39.25963687,
                    38.6808734,
                    37.93994229,
                    38.79042609,
                    39.48996228,
                    38.57574159,
                    39.76644658
                  ],
                  "yaxis": "y"
                }
              ],
              "layout": {
                "legend": {
                  "tracegroupgap": 0
                },
                "template": {
                  "data": {
                    "bar": [
                      {
                        "error_x": {
                          "color": "#2a3f5f"
                        },
                        "error_y": {
                          "color": "#2a3f5f"
                        },
                        "marker": {
                          "line": {
                            "color": "white",
                            "width": 0.5
                          },
                          "pattern": {
                            "fillmode": "overlay",
                            "size": 10,
                            "solidity": 0.2
                          }
                        },
                        "type": "bar"
                      }
                    ],
                    "barpolar": [
                      {
                        "marker": {
                          "line": {
                            "color": "white",
                            "width": 0.5
                          },
                          "pattern": {
                            "fillmode": "overlay",
                            "size": 10,
                            "solidity": 0.2
                          }
                        },
                        "type": "barpolar"
                      }
                    ],
                    "box": [
                      {
                        "boxpoints": "outliers",
                        "notched": false,
                        "type": "box"
                      }
                    ],
                    "carpet": [
                      {
                        "aaxis": {
                          "endlinecolor": "#2a3f5f",
                          "gridcolor": "#C8D4E3",
                          "linecolor": "#C8D4E3",
                          "minorgridcolor": "#C8D4E3",
                          "startlinecolor": "#2a3f5f"
                        },
                        "baxis": {
                          "endlinecolor": "#2a3f5f",
                          "gridcolor": "#C8D4E3",
                          "linecolor": "#C8D4E3",
                          "minorgridcolor": "#C8D4E3",
                          "startlinecolor": "#2a3f5f"
                        },
                        "type": "carpet"
                      }
                    ],
                    "choropleth": [
                      {
                        "colorbar": {
                          "outlinewidth": 0,
                          "ticks": ""
                        },
                        "type": "choropleth"
                      }
                    ],
                    "contour": [
                      {
                        "colorbar": {
                          "outlinewidth": 0,
                          "ticks": ""
                        },
                        "colorscale": [
                          [
                            0,
                            "#0d0887"
                          ],
                          [
                            0.1111111111111111,
                            "#46039f"
                          ],
                          [
                            0.2222222222222222,
                            "#7201a8"
                          ],
                          [
                            0.3333333333333333,
                            "#9c179e"
                          ],
                          [
                            0.4444444444444444,
                            "#bd3786"
                          ],
                          [
                            0.5555555555555556,
                            "#d8576b"
                          ],
                          [
                            0.6666666666666666,
                            "#ed7953"
                          ],
                          [
                            0.7777777777777778,
                            "#fb9f3a"
                          ],
                          [
                            0.8888888888888888,
                            "#fdca26"
                          ],
                          [
                            1,
                            "#f0f921"
                          ]
                        ],
                        "type": "contour"
                      }
                    ],
                    "contourcarpet": [
                      {
                        "colorbar": {
                          "outlinewidth": 0,
                          "ticks": ""
                        },
                        "type": "contourcarpet"
                      }
                    ],
                    "heatmap": [
                      {
                        "colorbar": {
                          "outlinewidth": 0,
                          "ticks": ""
                        },
                        "colorscale": [
                          [
                            0,
                            "#0d0887"
                          ],
                          [
                            0.1111111111111111,
                            "#46039f"
                          ],
                          [
                            0.2222222222222222,
                            "#7201a8"
                          ],
                          [
                            0.3333333333333333,
                            "#9c179e"
                          ],
                          [
                            0.4444444444444444,
                            "#bd3786"
                          ],
                          [
                            0.5555555555555556,
                            "#d8576b"
                          ],
                          [
                            0.6666666666666666,
                            "#ed7953"
                          ],
                          [
                            0.7777777777777778,
                            "#fb9f3a"
                          ],
                          [
                            0.8888888888888888,
                            "#fdca26"
                          ],
                          [
                            1,
                            "#f0f921"
                          ]
                        ],
                        "type": "heatmap"
                      }
                    ],
                    "heatmapgl": [
                      {
                        "colorbar": {
                          "outlinewidth": 0,
                          "ticks": ""
                        },
                        "colorscale": [
                          [
                            0,
                            "#0d0887"
                          ],
                          [
                            0.1111111111111111,
                            "#46039f"
                          ],
                          [
                            0.2222222222222222,
                            "#7201a8"
                          ],
                          [
                            0.3333333333333333,
                            "#9c179e"
                          ],
                          [
                            0.4444444444444444,
                            "#bd3786"
                          ],
                          [
                            0.5555555555555556,
                            "#d8576b"
                          ],
                          [
                            0.6666666666666666,
                            "#ed7953"
                          ],
                          [
                            0.7777777777777778,
                            "#fb9f3a"
                          ],
                          [
                            0.8888888888888888,
                            "#fdca26"
                          ],
                          [
                            1,
                            "#f0f921"
                          ]
                        ],
                        "type": "heatmapgl"
                      }
                    ],
                    "histogram": [
                      {
                        "marker": {
                          "line": {
                            "width": 1
                          },
                          "pattern": {
                            "fillmode": "overlay",
                            "size": 10,
                            "solidity": 0.2
                          }
                        },
                        "type": "histogram"
                      }
                    ],
                    "histogram2d": [
                      {
                        "colorbar": {
                          "outlinewidth": 0,
                          "ticks": ""
                        },
                        "colorscale": [
                          [
                            0,
                            "#0d0887"
                          ],
                          [
                            0.1111111111111111,
                            "#46039f"
                          ],
                          [
                            0.2222222222222222,
                            "#7201a8"
                          ],
                          [
                            0.3333333333333333,
                            "#9c179e"
                          ],
                          [
                            0.4444444444444444,
                            "#bd3786"
                          ],
                          [
                            0.5555555555555556,
                            "#d8576b"
                          ],
                          [
                            0.6666666666666666,
                            "#ed7953"
                          ],
                          [
                            0.7777777777777778,
                            "#fb9f3a"
                          ],
                          [
                            0.8888888888888888,
                            "#fdca26"
                          ],
                          [
                            1,
                            "#f0f921"
                          ]
                        ],
                        "type": "histogram2d"
                      }
                    ],
                    "histogram2dcontour": [
                      {
                        "colorbar": {
                          "outlinewidth": 0,
                          "ticks": ""
                        },
                        "colorscale": [
                          [
                            0,
                            "#0d0887"
                          ],
                          [
                            0.1111111111111111,
                            "#46039f"
                          ],
                          [
                            0.2222222222222222,
                            "#7201a8"
                          ],
                          [
                            0.3333333333333333,
                            "#9c179e"
                          ],
                          [
                            0.4444444444444444,
                            "#bd3786"
                          ],
                          [
                            0.5555555555555556,
                            "#d8576b"
                          ],
                          [
                            0.6666666666666666,
                            "#ed7953"
                          ],
                          [
                            0.7777777777777778,
                            "#fb9f3a"
                          ],
                          [
                            0.8888888888888888,
                            "#fdca26"
                          ],
                          [
                            1,
                            "#f0f921"
                          ]
                        ],
                        "type": "histogram2dcontour"
                      }
                    ],
                    "mesh3d": [
                      {
                        "colorbar": {
                          "outlinewidth": 0,
                          "ticks": ""
                        },
                        "type": "mesh3d"
                      }
                    ],
                    "parcoords": [
                      {
                        "line": {
                          "colorbar": {
                            "outlinewidth": 0,
                            "ticks": ""
                          }
                        },
                        "type": "parcoords"
                      }
                    ],
                    "pie": [
                      {
                        "automargin": true,
                        "type": "pie"
                      }
                    ],
                    "scatter": [
                      {
                        "fillpattern": {
                          "fillmode": "overlay",
                          "size": 10,
                          "solidity": 0.2
                        },
                        "marker": {
                          "opacity": 0.8
                        },
                        "type": "scatter"
                      }
                    ],
                    "scatter3d": [
                      {
                        "line": {
                          "colorbar": {
                            "outlinewidth": 0,
                            "ticks": ""
                          }
                        },
                        "marker": {
                          "colorbar": {
                            "outlinewidth": 0,
                            "ticks": ""
                          },
                          "opacity": 0.8
                        },
                        "type": "scatter3d"
                      }
                    ],
                    "scattercarpet": [
                      {
                        "marker": {
                          "colorbar": {
                            "outlinewidth": 0,
                            "ticks": ""
                          }
                        },
                        "type": "scattercarpet"
                      }
                    ],
                    "scattergeo": [
                      {
                        "marker": {
                          "colorbar": {
                            "outlinewidth": 0,
                            "ticks": ""
                          }
                        },
                        "type": "scattergeo"
                      }
                    ],
                    "scattergl": [
                      {
                        "marker": {
                          "colorbar": {
                            "outlinewidth": 0,
                            "ticks": ""
                          }
                        },
                        "type": "scattergl"
                      }
                    ],
                    "scattermapbox": [
                      {
                        "marker": {
                          "colorbar": {
                            "outlinewidth": 0,
                            "ticks": ""
                          }
                        },
                        "type": "scattermapbox"
                      }
                    ],
                    "scatterpolar": [
                      {
                        "marker": {
                          "colorbar": {
                            "outlinewidth": 0,
                            "ticks": ""
                          }
                        },
                        "type": "scatterpolar"
                      }
                    ],
                    "scatterpolargl": [
                      {
                        "marker": {
                          "colorbar": {
                            "outlinewidth": 0,
                            "ticks": ""
                          }
                        },
                        "type": "scatterpolargl"
                      }
                    ],
                    "scatterternary": [
                      {
                        "marker": {
                          "colorbar": {
                            "outlinewidth": 0,
                            "ticks": ""
                          }
                        },
                        "type": "scatterternary"
                      }
                    ],
                    "surface": [
                      {
                        "colorbar": {
                          "outlinewidth": 0,
                          "ticks": ""
                        },
                        "colorscale": [
                          [
                            0,
                            "#0d0887"
                          ],
                          [
                            0.1111111111111111,
                            "#46039f"
                          ],
                          [
                            0.2222222222222222,
                            "#7201a8"
                          ],
                          [
                            0.3333333333333333,
                            "#9c179e"
                          ],
                          [
                            0.4444444444444444,
                            "#bd3786"
                          ],
                          [
                            0.5555555555555556,
                            "#d8576b"
                          ],
                          [
                            0.6666666666666666,
                            "#ed7953"
                          ],
                          [
                            0.7777777777777778,
                            "#fb9f3a"
                          ],
                          [
                            0.8888888888888888,
                            "#fdca26"
                          ],
                          [
                            1,
                            "#f0f921"
                          ]
                        ],
                        "type": "surface"
                      }
                    ],
                    "table": [
                      {
                        "cells": {
                          "fill": {
                            "color": "#EBF0F8"
                          },
                          "line": {
                            "color": "white"
                          }
                        },
                        "header": {
                          "fill": {
                            "color": "#C8D4E3"
                          },
                          "line": {
                            "color": "white"
                          }
                        },
                        "type": "table"
                      }
                    ]
                  },
                  "layout": {
                    "annotationdefaults": {
                      "arrowcolor": "#2a3f5f",
                      "arrowhead": 0,
                      "arrowwidth": 1
                    },
                    "autotypenumbers": "strict",
                    "coloraxis": {
                      "colorbar": {
                        "outlinewidth": 0,
                        "ticks": ""
                      }
                    },
                    "colorscale": {
                      "diverging": [
                        [
                          0,
                          "#8e0152"
                        ],
                        [
                          0.1,
                          "#c51b7d"
                        ],
                        [
                          0.2,
                          "#de77ae"
                        ],
                        [
                          0.3,
                          "#f1b6da"
                        ],
                        [
                          0.4,
                          "#fde0ef"
                        ],
                        [
                          0.5,
                          "#f7f7f7"
                        ],
                        [
                          0.6,
                          "#e6f5d0"
                        ],
                        [
                          0.7,
                          "#b8e186"
                        ],
                        [
                          0.8,
                          "#7fbc41"
                        ],
                        [
                          0.9,
                          "#4d9221"
                        ],
                        [
                          1,
                          "#276419"
                        ]
                      ],
                      "sequential": [
                        [
                          0,
                          "#0d0887"
                        ],
                        [
                          0.1111111111111111,
                          "#46039f"
                        ],
                        [
                          0.2222222222222222,
                          "#7201a8"
                        ],
                        [
                          0.3333333333333333,
                          "#9c179e"
                        ],
                        [
                          0.4444444444444444,
                          "#bd3786"
                        ],
                        [
                          0.5555555555555556,
                          "#d8576b"
                        ],
                        [
                          0.6666666666666666,
                          "#ed7953"
                        ],
                        [
                          0.7777777777777778,
                          "#fb9f3a"
                        ],
                        [
                          0.8888888888888888,
                          "#fdca26"
                        ],
                        [
                          1,
                          "#f0f921"
                        ]
                      ],
                      "sequentialminus": [
                        [
                          0,
                          "#0d0887"
                        ],
                        [
                          0.1111111111111111,
                          "#46039f"
                        ],
                        [
                          0.2222222222222222,
                          "#7201a8"
                        ],
                        [
                          0.3333333333333333,
                          "#9c179e"
                        ],
                        [
                          0.4444444444444444,
                          "#bd3786"
                        ],
                        [
                          0.5555555555555556,
                          "#d8576b"
                        ],
                        [
                          0.6666666666666666,
                          "#ed7953"
                        ],
                        [
                          0.7777777777777778,
                          "#fb9f3a"
                        ],
                        [
                          0.8888888888888888,
                          "#fdca26"
                        ],
                        [
                          1,
                          "#f0f921"
                        ]
                      ]
                    },
                    "colorway": [
                      "#636efa",
                      "#EF553B",
                      "#00cc96",
                      "#ab63fa",
                      "#FFA15A",
                      "#19d3f3",
                      "#FF6692",
                      "#B6E880",
                      "#FF97FF",
                      "#FECB52"
                    ],
                    "font": {
                      "color": "#2a3f5f"
                    },
                    "geo": {
                      "bgcolor": "white",
                      "lakecolor": "white",
                      "landcolor": "white",
                      "showlakes": true,
                      "showland": true,
                      "subunitcolor": "#C8D4E3"
                    },
                    "height": 400,
                    "hoverlabel": {
                      "align": "left"
                    },
                    "hovermode": "closest",
                    "mapbox": {
                      "style": "light"
                    },
                    "margin": {
                      "b": 2,
                      "l": 2,
                      "r": 2,
                      "t": 30
                    },
                    "paper_bgcolor": "white",
                    "plot_bgcolor": "white",
                    "polar": {
                      "angularaxis": {
                        "gridcolor": "#EBF0F8",
                        "linecolor": "#EBF0F8",
                        "ticks": ""
                      },
                      "bgcolor": "white",
                      "radialaxis": {
                        "gridcolor": "#EBF0F8",
                        "linecolor": "#EBF0F8",
                        "ticks": ""
                      }
                    },
                    "scene": {
                      "camera": {
                        "eye": {
                          "x": 1.5,
                          "y": 1.5,
                          "z": 0.1
                        }
                      },
                      "xaxis": {
                        "backgroundcolor": "white",
                        "gridcolor": "#DFE8F3",
                        "gridwidth": 2,
                        "linecolor": "#EBF0F8",
                        "showbackground": true,
                        "ticks": "",
                        "zerolinecolor": "#EBF0F8"
                      },
                      "yaxis": {
                        "backgroundcolor": "white",
                        "gridcolor": "#DFE8F3",
                        "gridwidth": 2,
                        "linecolor": "#EBF0F8",
                        "showbackground": true,
                        "ticks": "",
                        "zerolinecolor": "#EBF0F8"
                      },
                      "zaxis": {
                        "backgroundcolor": "white",
                        "gridcolor": "#DFE8F3",
                        "gridwidth": 2,
                        "linecolor": "#EBF0F8",
                        "showbackground": true,
                        "ticks": "",
                        "zerolinecolor": "#EBF0F8"
                      }
                    },
                    "shapedefaults": {
                      "line": {
                        "color": "#2a3f5f"
                      }
                    },
                    "ternary": {
                      "aaxis": {
                        "gridcolor": "#DFE8F3",
                        "linecolor": "#A2B1C6",
                        "ticks": ""
                      },
                      "baxis": {
                        "gridcolor": "#DFE8F3",
                        "linecolor": "#A2B1C6",
                        "ticks": ""
                      },
                      "bgcolor": "white",
                      "caxis": {
                        "gridcolor": "#DFE8F3",
                        "linecolor": "#A2B1C6",
                        "ticks": ""
                      }
                    },
                    "title": {
                      "x": 0.5
                    },
                    "xaxis": {
                      "automargin": true,
                      "gridcolor": "#EBF0F8",
                      "linecolor": "#EBF0F8",
                      "linewidth": 2,
                      "showline": true,
                      "ticks": "",
                      "title": {
                        "standoff": 15
                      },
                      "zerolinecolor": "#EBF0F8",
                      "zerolinewidth": 2
                    },
                    "yaxis": {
                      "automargin": true,
                      "gridcolor": "#EBF0F8",
                      "linecolor": "#EBF0F8",
                      "linewidth": 2,
                      "showline": true,
                      "ticks": "",
                      "title": {
                        "standoff": 15
                      },
                      "zerolinecolor": "#EBF0F8",
                      "zerolinewidth": 2
                    }
                  }
                },
                "xaxis": {
                  "anchor": "y",
                  "domain": [
                    0,
                    1
                  ],
                  "title": {
                    "text": "protein content of last meal"
                  }
                },
                "yaxis": {
                  "anchor": "x",
                  "domain": [
                    0,
                    1
                  ],
                  "title": {
                    "text": "core temperature"
                  }
                }
              }
            }
          },
          "metadata": {},
          "output_type": "display_data"
        },
        {
          "data": {
            "application/vnd.plotly.v1+json": {
              "config": {
                "plotlyServerURL": "https://plot.ly"
              },
              "data": [
                {
                  "hovertemplate": "age=%{x}<br>core temperature=%{y}<extra></extra>",
                  "legendgroup": "",
                  "marker": {
                    "color": "#636efa",
                    "size": 17,
                    "symbol": "circle"
                  },
                  "mode": "markers",
                  "name": "",
                  "orientation": "v",
                  "showlegend": false,
                  "type": "scatter",
                  "x": [
                    6.9,
                    5.4,
                    5.4,
                    4.8,
                    4.8,
                    7.8,
                    2.7,
                    5.7,
                    1.5,
                    1.8,
                    4.2,
                    4.5,
                    1.5,
                    5.1,
                    4.8,
                    5.1,
                    3.6,
                    4.2,
                    2.7,
                    8.7,
                    0.9,
                    6.3,
                    1.2,
                    2.7,
                    6,
                    6,
                    0.6,
                    3.9,
                    6,
                    5.7,
                    6.9,
                    5.1,
                    2.1,
                    3.6,
                    6.3,
                    2.4,
                    8.4,
                    7.5,
                    5.7,
                    5.7,
                    2.7,
                    4.2,
                    6.9,
                    3,
                    1.8,
                    2.4,
                    6.3,
                    0.6,
                    1.8,
                    4.8,
                    8.4,
                    8.1,
                    6.3,
                    8.7,
                    4.5,
                    4.5,
                    7.5,
                    1.2,
                    5.7,
                    0.6,
                    6.9,
                    8.1,
                    0.6,
                    1.2,
                    6.6,
                    8.1,
                    2.7,
                    3.9,
                    4.2,
                    6.9,
                    1.2,
                    3.9,
                    3.6,
                    0.3,
                    3,
                    8.7,
                    2.1,
                    6.6,
                    1.5,
                    5.1,
                    6,
                    2.1,
                    6,
                    4.2,
                    1.5,
                    1.8,
                    1.8,
                    6.9,
                    6.9,
                    4.5,
                    1.8,
                    8.4,
                    3,
                    4.5,
                    1.8,
                    6.6,
                    6.9,
                    6
                  ],
                  "xaxis": "x",
                  "y": [
                    38.42316895,
                    39.01599822,
                    39.14834088,
                    39.06004863,
                    38.65543905,
                    38.6092188,
                    39.47390806,
                    38.81521612,
                    37.77845286,
                    39.17685034,
                    39.52090819,
                    38.57896943,
                    38.28013391,
                    38.40158039,
                    38.65157641,
                    39.61720308,
                    37.72843549,
                    39.36694049,
                    37.98848685,
                    39.93405104,
                    37.60559023,
                    38.83468198,
                    37.39892664,
                    38.98633063,
                    39.72456882,
                    38.09695504,
                    37.59597881,
                    39.49731323,
                    38.50187636,
                    38.27036031,
                    38.69964224,
                    39.08411118,
                    38.29400364,
                    38.39872285,
                    39.29951536,
                    38.37598649,
                    38.46968433,
                    39.58561173,
                    38.12682317,
                    39.80156649,
                    37.92682179,
                    39.67264697,
                    38.21409556,
                    38.93217418,
                    37.80121676,
                    37.52097889,
                    39.34942824,
                    38.9163822,
                    38.72595498,
                    38.35421436,
                    40.17337876,
                    39.48214424,
                    39.9557292,
                    39.02529641,
                    39.70565695,
                    37.87210056,
                    38.92730588,
                    38.75694066,
                    38.98157028,
                    39.07020183,
                    39.31023381,
                    40.26487847,
                    39.19531025,
                    37.46606804,
                    38.61929591,
                    39.74308443,
                    37.9590829,
                    38.52387016,
                    39.58821189,
                    39.48780846,
                    37.32113362,
                    38.30311301,
                    39.32598796,
                    38.18373964,
                    37.78518905,
                    38.97361387,
                    37.97719515,
                    38.92654301,
                    37.98922316,
                    39.87010492,
                    38.51344083,
                    39.14710639,
                    38.61129304,
                    38.95232638,
                    37.46812464,
                    38.24131363,
                    38.7661591,
                    39.87233432,
                    38.87492299,
                    39.09337261,
                    39.00124171,
                    39.25963687,
                    38.6808734,
                    37.93994229,
                    38.79042609,
                    39.48996228,
                    38.57574159,
                    39.76644658
                  ],
                  "yaxis": "y"
                }
              ],
              "layout": {
                "legend": {
                  "tracegroupgap": 0
                },
                "template": {
                  "data": {
                    "bar": [
                      {
                        "error_x": {
                          "color": "#2a3f5f"
                        },
                        "error_y": {
                          "color": "#2a3f5f"
                        },
                        "marker": {
                          "line": {
                            "color": "white",
                            "width": 0.5
                          },
                          "pattern": {
                            "fillmode": "overlay",
                            "size": 10,
                            "solidity": 0.2
                          }
                        },
                        "type": "bar"
                      }
                    ],
                    "barpolar": [
                      {
                        "marker": {
                          "line": {
                            "color": "white",
                            "width": 0.5
                          },
                          "pattern": {
                            "fillmode": "overlay",
                            "size": 10,
                            "solidity": 0.2
                          }
                        },
                        "type": "barpolar"
                      }
                    ],
                    "box": [
                      {
                        "boxpoints": "outliers",
                        "notched": false,
                        "type": "box"
                      }
                    ],
                    "carpet": [
                      {
                        "aaxis": {
                          "endlinecolor": "#2a3f5f",
                          "gridcolor": "#C8D4E3",
                          "linecolor": "#C8D4E3",
                          "minorgridcolor": "#C8D4E3",
                          "startlinecolor": "#2a3f5f"
                        },
                        "baxis": {
                          "endlinecolor": "#2a3f5f",
                          "gridcolor": "#C8D4E3",
                          "linecolor": "#C8D4E3",
                          "minorgridcolor": "#C8D4E3",
                          "startlinecolor": "#2a3f5f"
                        },
                        "type": "carpet"
                      }
                    ],
                    "choropleth": [
                      {
                        "colorbar": {
                          "outlinewidth": 0,
                          "ticks": ""
                        },
                        "type": "choropleth"
                      }
                    ],
                    "contour": [
                      {
                        "colorbar": {
                          "outlinewidth": 0,
                          "ticks": ""
                        },
                        "colorscale": [
                          [
                            0,
                            "#0d0887"
                          ],
                          [
                            0.1111111111111111,
                            "#46039f"
                          ],
                          [
                            0.2222222222222222,
                            "#7201a8"
                          ],
                          [
                            0.3333333333333333,
                            "#9c179e"
                          ],
                          [
                            0.4444444444444444,
                            "#bd3786"
                          ],
                          [
                            0.5555555555555556,
                            "#d8576b"
                          ],
                          [
                            0.6666666666666666,
                            "#ed7953"
                          ],
                          [
                            0.7777777777777778,
                            "#fb9f3a"
                          ],
                          [
                            0.8888888888888888,
                            "#fdca26"
                          ],
                          [
                            1,
                            "#f0f921"
                          ]
                        ],
                        "type": "contour"
                      }
                    ],
                    "contourcarpet": [
                      {
                        "colorbar": {
                          "outlinewidth": 0,
                          "ticks": ""
                        },
                        "type": "contourcarpet"
                      }
                    ],
                    "heatmap": [
                      {
                        "colorbar": {
                          "outlinewidth": 0,
                          "ticks": ""
                        },
                        "colorscale": [
                          [
                            0,
                            "#0d0887"
                          ],
                          [
                            0.1111111111111111,
                            "#46039f"
                          ],
                          [
                            0.2222222222222222,
                            "#7201a8"
                          ],
                          [
                            0.3333333333333333,
                            "#9c179e"
                          ],
                          [
                            0.4444444444444444,
                            "#bd3786"
                          ],
                          [
                            0.5555555555555556,
                            "#d8576b"
                          ],
                          [
                            0.6666666666666666,
                            "#ed7953"
                          ],
                          [
                            0.7777777777777778,
                            "#fb9f3a"
                          ],
                          [
                            0.8888888888888888,
                            "#fdca26"
                          ],
                          [
                            1,
                            "#f0f921"
                          ]
                        ],
                        "type": "heatmap"
                      }
                    ],
                    "heatmapgl": [
                      {
                        "colorbar": {
                          "outlinewidth": 0,
                          "ticks": ""
                        },
                        "colorscale": [
                          [
                            0,
                            "#0d0887"
                          ],
                          [
                            0.1111111111111111,
                            "#46039f"
                          ],
                          [
                            0.2222222222222222,
                            "#7201a8"
                          ],
                          [
                            0.3333333333333333,
                            "#9c179e"
                          ],
                          [
                            0.4444444444444444,
                            "#bd3786"
                          ],
                          [
                            0.5555555555555556,
                            "#d8576b"
                          ],
                          [
                            0.6666666666666666,
                            "#ed7953"
                          ],
                          [
                            0.7777777777777778,
                            "#fb9f3a"
                          ],
                          [
                            0.8888888888888888,
                            "#fdca26"
                          ],
                          [
                            1,
                            "#f0f921"
                          ]
                        ],
                        "type": "heatmapgl"
                      }
                    ],
                    "histogram": [
                      {
                        "marker": {
                          "line": {
                            "width": 1
                          },
                          "pattern": {
                            "fillmode": "overlay",
                            "size": 10,
                            "solidity": 0.2
                          }
                        },
                        "type": "histogram"
                      }
                    ],
                    "histogram2d": [
                      {
                        "colorbar": {
                          "outlinewidth": 0,
                          "ticks": ""
                        },
                        "colorscale": [
                          [
                            0,
                            "#0d0887"
                          ],
                          [
                            0.1111111111111111,
                            "#46039f"
                          ],
                          [
                            0.2222222222222222,
                            "#7201a8"
                          ],
                          [
                            0.3333333333333333,
                            "#9c179e"
                          ],
                          [
                            0.4444444444444444,
                            "#bd3786"
                          ],
                          [
                            0.5555555555555556,
                            "#d8576b"
                          ],
                          [
                            0.6666666666666666,
                            "#ed7953"
                          ],
                          [
                            0.7777777777777778,
                            "#fb9f3a"
                          ],
                          [
                            0.8888888888888888,
                            "#fdca26"
                          ],
                          [
                            1,
                            "#f0f921"
                          ]
                        ],
                        "type": "histogram2d"
                      }
                    ],
                    "histogram2dcontour": [
                      {
                        "colorbar": {
                          "outlinewidth": 0,
                          "ticks": ""
                        },
                        "colorscale": [
                          [
                            0,
                            "#0d0887"
                          ],
                          [
                            0.1111111111111111,
                            "#46039f"
                          ],
                          [
                            0.2222222222222222,
                            "#7201a8"
                          ],
                          [
                            0.3333333333333333,
                            "#9c179e"
                          ],
                          [
                            0.4444444444444444,
                            "#bd3786"
                          ],
                          [
                            0.5555555555555556,
                            "#d8576b"
                          ],
                          [
                            0.6666666666666666,
                            "#ed7953"
                          ],
                          [
                            0.7777777777777778,
                            "#fb9f3a"
                          ],
                          [
                            0.8888888888888888,
                            "#fdca26"
                          ],
                          [
                            1,
                            "#f0f921"
                          ]
                        ],
                        "type": "histogram2dcontour"
                      }
                    ],
                    "mesh3d": [
                      {
                        "colorbar": {
                          "outlinewidth": 0,
                          "ticks": ""
                        },
                        "type": "mesh3d"
                      }
                    ],
                    "parcoords": [
                      {
                        "line": {
                          "colorbar": {
                            "outlinewidth": 0,
                            "ticks": ""
                          }
                        },
                        "type": "parcoords"
                      }
                    ],
                    "pie": [
                      {
                        "automargin": true,
                        "type": "pie"
                      }
                    ],
                    "scatter": [
                      {
                        "fillpattern": {
                          "fillmode": "overlay",
                          "size": 10,
                          "solidity": 0.2
                        },
                        "marker": {
                          "opacity": 0.8
                        },
                        "type": "scatter"
                      }
                    ],
                    "scatter3d": [
                      {
                        "line": {
                          "colorbar": {
                            "outlinewidth": 0,
                            "ticks": ""
                          }
                        },
                        "marker": {
                          "colorbar": {
                            "outlinewidth": 0,
                            "ticks": ""
                          },
                          "opacity": 0.8
                        },
                        "type": "scatter3d"
                      }
                    ],
                    "scattercarpet": [
                      {
                        "marker": {
                          "colorbar": {
                            "outlinewidth": 0,
                            "ticks": ""
                          }
                        },
                        "type": "scattercarpet"
                      }
                    ],
                    "scattergeo": [
                      {
                        "marker": {
                          "colorbar": {
                            "outlinewidth": 0,
                            "ticks": ""
                          }
                        },
                        "type": "scattergeo"
                      }
                    ],
                    "scattergl": [
                      {
                        "marker": {
                          "colorbar": {
                            "outlinewidth": 0,
                            "ticks": ""
                          }
                        },
                        "type": "scattergl"
                      }
                    ],
                    "scattermapbox": [
                      {
                        "marker": {
                          "colorbar": {
                            "outlinewidth": 0,
                            "ticks": ""
                          }
                        },
                        "type": "scattermapbox"
                      }
                    ],
                    "scatterpolar": [
                      {
                        "marker": {
                          "colorbar": {
                            "outlinewidth": 0,
                            "ticks": ""
                          }
                        },
                        "type": "scatterpolar"
                      }
                    ],
                    "scatterpolargl": [
                      {
                        "marker": {
                          "colorbar": {
                            "outlinewidth": 0,
                            "ticks": ""
                          }
                        },
                        "type": "scatterpolargl"
                      }
                    ],
                    "scatterternary": [
                      {
                        "marker": {
                          "colorbar": {
                            "outlinewidth": 0,
                            "ticks": ""
                          }
                        },
                        "type": "scatterternary"
                      }
                    ],
                    "surface": [
                      {
                        "colorbar": {
                          "outlinewidth": 0,
                          "ticks": ""
                        },
                        "colorscale": [
                          [
                            0,
                            "#0d0887"
                          ],
                          [
                            0.1111111111111111,
                            "#46039f"
                          ],
                          [
                            0.2222222222222222,
                            "#7201a8"
                          ],
                          [
                            0.3333333333333333,
                            "#9c179e"
                          ],
                          [
                            0.4444444444444444,
                            "#bd3786"
                          ],
                          [
                            0.5555555555555556,
                            "#d8576b"
                          ],
                          [
                            0.6666666666666666,
                            "#ed7953"
                          ],
                          [
                            0.7777777777777778,
                            "#fb9f3a"
                          ],
                          [
                            0.8888888888888888,
                            "#fdca26"
                          ],
                          [
                            1,
                            "#f0f921"
                          ]
                        ],
                        "type": "surface"
                      }
                    ],
                    "table": [
                      {
                        "cells": {
                          "fill": {
                            "color": "#EBF0F8"
                          },
                          "line": {
                            "color": "white"
                          }
                        },
                        "header": {
                          "fill": {
                            "color": "#C8D4E3"
                          },
                          "line": {
                            "color": "white"
                          }
                        },
                        "type": "table"
                      }
                    ]
                  },
                  "layout": {
                    "annotationdefaults": {
                      "arrowcolor": "#2a3f5f",
                      "arrowhead": 0,
                      "arrowwidth": 1
                    },
                    "autotypenumbers": "strict",
                    "coloraxis": {
                      "colorbar": {
                        "outlinewidth": 0,
                        "ticks": ""
                      }
                    },
                    "colorscale": {
                      "diverging": [
                        [
                          0,
                          "#8e0152"
                        ],
                        [
                          0.1,
                          "#c51b7d"
                        ],
                        [
                          0.2,
                          "#de77ae"
                        ],
                        [
                          0.3,
                          "#f1b6da"
                        ],
                        [
                          0.4,
                          "#fde0ef"
                        ],
                        [
                          0.5,
                          "#f7f7f7"
                        ],
                        [
                          0.6,
                          "#e6f5d0"
                        ],
                        [
                          0.7,
                          "#b8e186"
                        ],
                        [
                          0.8,
                          "#7fbc41"
                        ],
                        [
                          0.9,
                          "#4d9221"
                        ],
                        [
                          1,
                          "#276419"
                        ]
                      ],
                      "sequential": [
                        [
                          0,
                          "#0d0887"
                        ],
                        [
                          0.1111111111111111,
                          "#46039f"
                        ],
                        [
                          0.2222222222222222,
                          "#7201a8"
                        ],
                        [
                          0.3333333333333333,
                          "#9c179e"
                        ],
                        [
                          0.4444444444444444,
                          "#bd3786"
                        ],
                        [
                          0.5555555555555556,
                          "#d8576b"
                        ],
                        [
                          0.6666666666666666,
                          "#ed7953"
                        ],
                        [
                          0.7777777777777778,
                          "#fb9f3a"
                        ],
                        [
                          0.8888888888888888,
                          "#fdca26"
                        ],
                        [
                          1,
                          "#f0f921"
                        ]
                      ],
                      "sequentialminus": [
                        [
                          0,
                          "#0d0887"
                        ],
                        [
                          0.1111111111111111,
                          "#46039f"
                        ],
                        [
                          0.2222222222222222,
                          "#7201a8"
                        ],
                        [
                          0.3333333333333333,
                          "#9c179e"
                        ],
                        [
                          0.4444444444444444,
                          "#bd3786"
                        ],
                        [
                          0.5555555555555556,
                          "#d8576b"
                        ],
                        [
                          0.6666666666666666,
                          "#ed7953"
                        ],
                        [
                          0.7777777777777778,
                          "#fb9f3a"
                        ],
                        [
                          0.8888888888888888,
                          "#fdca26"
                        ],
                        [
                          1,
                          "#f0f921"
                        ]
                      ]
                    },
                    "colorway": [
                      "#636efa",
                      "#EF553B",
                      "#00cc96",
                      "#ab63fa",
                      "#FFA15A",
                      "#19d3f3",
                      "#FF6692",
                      "#B6E880",
                      "#FF97FF",
                      "#FECB52"
                    ],
                    "font": {
                      "color": "#2a3f5f"
                    },
                    "geo": {
                      "bgcolor": "white",
                      "lakecolor": "white",
                      "landcolor": "white",
                      "showlakes": true,
                      "showland": true,
                      "subunitcolor": "#C8D4E3"
                    },
                    "height": 400,
                    "hoverlabel": {
                      "align": "left"
                    },
                    "hovermode": "closest",
                    "mapbox": {
                      "style": "light"
                    },
                    "margin": {
                      "b": 2,
                      "l": 2,
                      "r": 2,
                      "t": 30
                    },
                    "paper_bgcolor": "white",
                    "plot_bgcolor": "white",
                    "polar": {
                      "angularaxis": {
                        "gridcolor": "#EBF0F8",
                        "linecolor": "#EBF0F8",
                        "ticks": ""
                      },
                      "bgcolor": "white",
                      "radialaxis": {
                        "gridcolor": "#EBF0F8",
                        "linecolor": "#EBF0F8",
                        "ticks": ""
                      }
                    },
                    "scene": {
                      "camera": {
                        "eye": {
                          "x": 1.5,
                          "y": 1.5,
                          "z": 0.1
                        }
                      },
                      "xaxis": {
                        "backgroundcolor": "white",
                        "gridcolor": "#DFE8F3",
                        "gridwidth": 2,
                        "linecolor": "#EBF0F8",
                        "showbackground": true,
                        "ticks": "",
                        "zerolinecolor": "#EBF0F8"
                      },
                      "yaxis": {
                        "backgroundcolor": "white",
                        "gridcolor": "#DFE8F3",
                        "gridwidth": 2,
                        "linecolor": "#EBF0F8",
                        "showbackground": true,
                        "ticks": "",
                        "zerolinecolor": "#EBF0F8"
                      },
                      "zaxis": {
                        "backgroundcolor": "white",
                        "gridcolor": "#DFE8F3",
                        "gridwidth": 2,
                        "linecolor": "#EBF0F8",
                        "showbackground": true,
                        "ticks": "",
                        "zerolinecolor": "#EBF0F8"
                      }
                    },
                    "shapedefaults": {
                      "line": {
                        "color": "#2a3f5f"
                      }
                    },
                    "ternary": {
                      "aaxis": {
                        "gridcolor": "#DFE8F3",
                        "linecolor": "#A2B1C6",
                        "ticks": ""
                      },
                      "baxis": {
                        "gridcolor": "#DFE8F3",
                        "linecolor": "#A2B1C6",
                        "ticks": ""
                      },
                      "bgcolor": "white",
                      "caxis": {
                        "gridcolor": "#DFE8F3",
                        "linecolor": "#A2B1C6",
                        "ticks": ""
                      }
                    },
                    "title": {
                      "x": 0.5
                    },
                    "xaxis": {
                      "automargin": true,
                      "gridcolor": "#EBF0F8",
                      "linecolor": "#EBF0F8",
                      "linewidth": 2,
                      "showline": true,
                      "ticks": "",
                      "title": {
                        "standoff": 15
                      },
                      "zerolinecolor": "#EBF0F8",
                      "zerolinewidth": 2
                    },
                    "yaxis": {
                      "automargin": true,
                      "gridcolor": "#EBF0F8",
                      "linecolor": "#EBF0F8",
                      "linewidth": 2,
                      "showline": true,
                      "ticks": "",
                      "title": {
                        "standoff": 15
                      },
                      "zerolinecolor": "#EBF0F8",
                      "zerolinewidth": 2
                    }
                  }
                },
                "xaxis": {
                  "anchor": "y",
                  "domain": [
                    0,
                    1
                  ],
                  "title": {
                    "text": "age"
                  }
                },
                "yaxis": {
                  "anchor": "x",
                  "domain": [
                    0,
                    1
                  ],
                  "title": {
                    "text": "core temperature"
                  }
                }
              }
            }
          },
          "metadata": {},
          "output_type": "display_data"
        }
      ],
      "source": [
        "from Scripts import graphing # Custom graphing code that uses Plotly. See our GitHub repository for details\n",
        "\n",
        "graphing.box_and_whisker(dataset, \"male\", \"core_temperature\", show=True)\n",
        "graphing.box_and_whisker(dataset, \"attended_training\", \"core_temperature\", show=True)\n",
        "graphing.box_and_whisker(dataset, \"ate_at_tonys_steakhouse\", \"core_temperature\", show=True)\n",
        "graphing.scatter_2D(dataset, \"body_fat_percentage\", \"core_temperature\", show=True)\n",
        "graphing.scatter_2D(dataset, \"protein_content_of_last_meal\", \"core_temperature\", show=True)\n",
        "graphing.scatter_2D(dataset, \"age\", \"core_temperature\")"
      ]
    },
    {
      "cell_type": "markdown",
      "id": "becae1fa-7441-4fff-99bf-afde3f81d674",
      "metadata": {},
      "source": [
        "At a glance, fatter, older, and male dogs seem to more commonly have higher temperatures than thinner, younger, or female dogs. Dogs who ate a lot of protein last night also seem to be more unwell. The other features don't seem particularly useful.\n",
        "\n",
        "## Simple linear regression\n",
        "\n",
        "Let's try to predict `core_temperature` using simple linear regression, and note the R-Squared for these relationships."
      ]
    },
    {
      "cell_type": "code",
      "execution_count": 4,
      "id": "63bab66e-609b-4f6a-a9f9-e75d89a8cd17",
      "metadata": {},
      "outputs": [
        {
          "name": "stdout",
          "output_type": "stream",
          "text": [
            "male\n",
            "R-squared: 0.09990074430719953\n"
          ]
        },
        {
          "name": "stderr",
          "output_type": "stream",
          "text": [
            "/var/folders/yl/5cj99xpd0cg5xn4st7_dyz6m0000gn/T/ipykernel_65619/3182011243.py:17: FutureWarning:\n",
            "\n",
            "Series.__getitem__ treating keys as positions is deprecated. In a future version, integer keys will always be treated as labels (consistent with DataFrame behavior). To access a value by position, use `ser.iloc[pos]`\n",
            "\n"
          ]
        },
        {
          "data": {
            "application/vnd.plotly.v1+json": {
              "config": {
                "plotlyServerURL": "https://plot.ly"
              },
              "data": [
                {
                  "hovertemplate": "male=%{x}<br>core temperature=%{y}<extra></extra>",
                  "legendgroup": "",
                  "marker": {
                    "color": "#636efa",
                    "size": 17,
                    "symbol": "circle"
                  },
                  "mode": "markers",
                  "name": "",
                  "orientation": "v",
                  "showlegend": false,
                  "type": "scatter",
                  "x": [
                    0,
                    0,
                    1,
                    1,
                    1,
                    0,
                    1,
                    1,
                    0,
                    0,
                    1,
                    0,
                    1,
                    1,
                    0,
                    1,
                    1,
                    1,
                    0,
                    1,
                    0,
                    1,
                    0,
                    1,
                    1,
                    0,
                    1,
                    0,
                    0,
                    0,
                    1,
                    0,
                    1,
                    1,
                    1,
                    1,
                    1,
                    1,
                    0,
                    1,
                    0,
                    1,
                    0,
                    0,
                    0,
                    0,
                    0,
                    1,
                    0,
                    1,
                    1,
                    1,
                    0,
                    0,
                    1,
                    0,
                    1,
                    0,
                    1,
                    0,
                    1,
                    1,
                    1,
                    1,
                    1,
                    1,
                    1,
                    0,
                    0,
                    1,
                    0,
                    1,
                    1,
                    0,
                    0,
                    1,
                    0,
                    1,
                    0,
                    0,
                    0,
                    1,
                    0,
                    0,
                    1,
                    1,
                    0,
                    1,
                    0,
                    0,
                    0,
                    1,
                    0,
                    0,
                    1,
                    0,
                    0,
                    1
                  ],
                  "xaxis": "x",
                  "y": [
                    38.42316895,
                    39.01599822,
                    39.14834088,
                    39.06004863,
                    38.65543905,
                    38.6092188,
                    39.47390806,
                    38.81521612,
                    37.77845286,
                    39.17685034,
                    39.52090819,
                    38.57896943,
                    38.28013391,
                    38.40158039,
                    38.65157641,
                    39.61720308,
                    37.72843549,
                    39.36694049,
                    37.98848685,
                    39.93405104,
                    37.60559023,
                    38.83468198,
                    37.39892664,
                    38.98633063,
                    39.72456882,
                    38.09695504,
                    37.59597881,
                    39.49731323,
                    38.50187636,
                    38.27036031,
                    38.69964224,
                    39.08411118,
                    38.29400364,
                    38.39872285,
                    39.29951536,
                    38.37598649,
                    38.46968433,
                    39.58561173,
                    38.12682317,
                    39.80156649,
                    37.92682179,
                    39.67264697,
                    38.21409556,
                    38.93217418,
                    37.80121676,
                    37.52097889,
                    39.34942824,
                    38.9163822,
                    38.72595498,
                    38.35421436,
                    40.17337876,
                    39.48214424,
                    39.9557292,
                    39.02529641,
                    39.70565695,
                    37.87210056,
                    38.92730588,
                    38.75694066,
                    38.98157028,
                    39.07020183,
                    39.31023381,
                    40.26487847,
                    39.19531025,
                    37.46606804,
                    38.61929591,
                    39.74308443,
                    37.9590829,
                    38.52387016,
                    39.58821189,
                    39.48780846,
                    37.32113362,
                    38.30311301,
                    39.32598796,
                    38.18373964,
                    37.78518905,
                    38.97361387,
                    37.97719515,
                    38.92654301,
                    37.98922316,
                    39.87010492,
                    38.51344083,
                    39.14710639,
                    38.61129304,
                    38.95232638,
                    37.46812464,
                    38.24131363,
                    38.7661591,
                    39.87233432,
                    38.87492299,
                    39.09337261,
                    39.00124171,
                    39.25963687,
                    38.6808734,
                    37.93994229,
                    38.79042609,
                    39.48996228,
                    38.57574159,
                    39.76644658
                  ],
                  "yaxis": "y"
                }
              ],
              "layout": {
                "legend": {
                  "tracegroupgap": 0
                },
                "shapes": [
                  {
                    "line": {
                      "color": "rgb(228,26,28)"
                    },
                    "path": "M0.0 38.54667150829787 L 0.005025125628140704 38.54889063925233 L 0.010050251256281407 38.551109770206786 L 0.01507537688442211 38.55332890116125 L 0.020100502512562814 38.55554803211571 L 0.02512562814070352 38.55776716307017 L 0.03015075376884422 38.559986294024625 L 0.035175879396984924 38.56220542497908 L 0.04020100502512563 38.56442455593354 L 0.04522613065326633 38.56664368688801 L 0.05025125628140704 38.568862817842465 L 0.05527638190954774 38.57108194879692 L 0.06030150753768844 38.57330107975138 L 0.06532663316582915 38.57552021070584 L 0.07035175879396985 38.577739341660305 L 0.07537688442211056 38.57995847261476 L 0.08040201005025126 38.58217760356922 L 0.08542713567839195 38.58439673452368 L 0.09045226130653267 38.58661586547814 L 0.09547738693467336 38.588834996432595 L 0.10050251256281408 38.59105412738706 L 0.10552763819095477 38.59327325834152 L 0.11055276381909548 38.59549238929598 L 0.11557788944723618 38.597711520250435 L 0.12060301507537688 38.59993065120489 L 0.12562814070351758 38.60214978215936 L 0.1306532663316583 38.60436891311382 L 0.135678391959799 38.606588044068275 L 0.1407035175879397 38.60880717502273 L 0.1457286432160804 38.61102630597719 L 0.15075376884422112 38.613245436931656 L 0.15577889447236182 38.615464567886114 L 0.16080402010050251 38.61768369884057 L 0.1658291457286432 38.61990282979503 L 0.1708542713567839 38.62212196074949 L 0.17587939698492464 38.62434109170395 L 0.18090452261306533 38.62656022265841 L 0.18592964824120603 38.62877935361287 L 0.19095477386934673 38.63099848456733 L 0.19597989949748745 38.63321761552179 L 0.20100502512562815 38.635436746476245 L 0.20603015075376885 38.63765587743071 L 0.21105527638190955 38.63987500838517 L 0.21608040201005024 38.642094139339626 L 0.22110552763819097 38.644313270294084 L 0.22613065326633167 38.64653240124854 L 0.23115577889447236 38.648751532203 L 0.23618090452261306 38.650970663157466 L 0.24120603015075376 38.653189794111924 L 0.24623115577889448 38.65540892506638 L 0.25125628140703515 38.65762805602084 L 0.2562814070351759 38.6598471869753 L 0.2613065326633166 38.662066317929764 L 0.2663316582914573 38.66428544888422 L 0.271356783919598 38.66650457983868 L 0.2763819095477387 38.66872371079314 L 0.2814070351758794 38.670942841747596 L 0.2864321608040201 38.673161972702054 L 0.2914572864321608 38.67538110365652 L 0.2964824120603015 38.67760023461098 L 0.30150753768844224 38.679819365565436 L 0.3065326633165829 38.682038496519894 L 0.31155778894472363 38.68425762747435 L 0.3165829145728643 38.68647675842882 L 0.32160804020100503 38.688695889383276 L 0.32663316582914576 38.690915020337734 L 0.3316582914572864 38.69313415129219 L 0.33668341708542715 38.69535328224665 L 0.3417085427135678 38.69757241320111 L 0.34673366834170855 38.69979154415557 L 0.35175879396984927 38.70201067511003 L 0.35678391959798994 38.70422980606449 L 0.36180904522613067 38.70644893701895 L 0.36683417085427134 38.708668067973406 L 0.37185929648241206 38.71088719892787 L 0.3768844221105528 38.71310632988233 L 0.38190954773869346 38.71532546083679 L 0.3869346733668342 38.717544591791246 L 0.3919597989949749 38.719763722745704 L 0.3969849246231156 38.72198285370016 L 0.4020100502512563 38.72420198465463 L 0.40703517587939697 38.726421115609085 L 0.4120603015075377 38.72864024656354 L 0.4170854271356784 38.730859377518 L 0.4221105527638191 38.73307850847246 L 0.4271356783919598 38.735297639426925 L 0.4321608040201005 38.73751677038138 L 0.4371859296482412 38.73973590133584 L 0.44221105527638194 38.7419550322903 L 0.4472361809045226 38.74417416324476 L 0.45226130653266333 38.74639329419922 L 0.457286432160804 38.74861242515368 L 0.4623115577889447 38.75083155610814 L 0.46733668341708545 38.7530506870626 L 0.4723618090452261 38.755269818017055 L 0.47738693467336685 38.75748894897151 L 0.4824120603015075 38.75970807992598 L 0.48743718592964824 38.76192721088044 L 0.49246231155778897 38.764146341834895 L 0.49748743718592964 38.76636547278935 L 0.5025125628140703 38.76858460374381 L 0.507537688442211 38.770803734698276 L 0.5125628140703518 38.773022865652734 L 0.5175879396984925 38.77524199660719 L 0.5226130653266332 38.77746112756165 L 0.5276381909547738 38.77968025851611 L 0.5326633165829145 38.78189938947057 L 0.5376884422110553 38.78411852042503 L 0.542713567839196 38.78633765137949 L 0.5477386934673367 38.78855678233395 L 0.5527638190954774 38.79077591328841 L 0.5577889447236181 38.792995044242865 L 0.5628140703517588 38.79521417519733 L 0.5678391959798995 38.79743330615179 L 0.5728643216080402 38.799652437106246 L 0.577889447236181 38.801871568060704 L 0.5829145728643216 38.80409069901516 L 0.5879396984924623 38.80630982996962 L 0.592964824120603 38.808528960924086 L 0.5979899497487438 38.810748091878544 L 0.6030150753768845 38.812967222833 L 0.6080402010050251 38.81518635378746 L 0.6130653266331658 38.81740548474192 L 0.6180904522613065 38.819624615696384 L 0.6231155778894473 38.82184374665084 L 0.628140703517588 38.8240628776053 L 0.6331658291457286 38.82628200855976 L 0.6381909547738693 38.828501139514216 L 0.6432160804020101 38.830720270468674 L 0.6482412060301508 38.83293940142314 L 0.6532663316582915 38.8351585323776 L 0.6582914572864321 38.837377663332056 L 0.6633165829145728 38.839596794286514 L 0.6683417085427136 38.84181592524097 L 0.6733668341708543 38.84403505619544 L 0.678391959798995 38.846254187149896 L 0.6834170854271356 38.848473318104354 L 0.6884422110552764 38.85069244905881 L 0.6934673366834171 38.85291158001327 L 0.6984924623115578 38.85513071096773 L 0.7035175879396985 38.85734984192219 L 0.7085427135678392 38.85956897287665 L 0.7135678391959799 38.86178810383111 L 0.7185929648241206 38.86400723478557 L 0.7236180904522613 38.866226365740026 L 0.7286432160804021 38.86844549669449 L 0.7336683417085427 38.87066462764895 L 0.7386934673366834 38.87288375860341 L 0.7437185929648241 38.875102889557866 L 0.7487437185929648 38.877322020512324 L 0.7537688442211056 38.87954115146679 L 0.7587939698492463 38.88176028242125 L 0.7638190954773869 38.883979413375705 L 0.7688442211055276 38.88619854433016 L 0.7738693467336684 38.88841767528462 L 0.7788944723618091 38.89063680623908 L 0.7839195979899498 38.892855937193545 L 0.7889447236180904 38.895075068148 L 0.7939698492462312 38.89729419910246 L 0.7989949748743719 38.89951333005692 L 0.8040201005025126 38.90173246101138 L 0.8090452261306533 38.90395159196584 L 0.8140703517587939 38.9061707229203 L 0.8190954773869347 38.90838985387476 L 0.8241206030150754 38.91060898482922 L 0.8291457286432161 38.912828115783675 L 0.8341708542713568 38.91504724673813 L 0.8391959798994975 38.9172663776926 L 0.8442211055276382 38.91948550864706 L 0.8492462311557789 38.921704639601515 L 0.8542713567839196 38.92392377055597 L 0.8592964824120604 38.92614290151043 L 0.864321608040201 38.9283620324649 L 0.8693467336683417 38.930581163419355 L 0.8743718592964824 38.93280029437381 L 0.8793969849246231 38.93501942532827 L 0.8844221105527639 38.93723855628273 L 0.8894472361809045 38.93945768723719 L 0.8944723618090452 38.94167681819165 L 0.8994974874371859 38.94389594914611 L 0.9045226130653267 38.94611508010057 L 0.9095477386934674 38.94833421105503 L 0.914572864321608 38.950553342009485 L 0.9195979899497487 38.95277247296395 L 0.9246231155778895 38.95499160391841 L 0.9296482412060302 38.95721073487287 L 0.9346733668341709 38.959429865827325 L 0.9396984924623115 38.96164899678178 L 0.9447236180904522 38.96386812773624 L 0.949748743718593 38.966087258690706 L 0.9547738693467337 38.968306389645164 L 0.9597989949748744 38.97052552059962 L 0.964824120603015 38.97274465155408 L 0.9698492462311558 38.97496378250854 L 0.9748743718592965 38.977182913463004 L 0.9798994974874372 38.97940204441746 L 0.9849246231155779 38.98162117537192 L 0.9899497487437187 38.98384030632638 L 0.9949748743718593 38.98605943728084 L 1.0 38.9882785682353",
                    "type": "path"
                  }
                ],
                "template": {
                  "data": {
                    "bar": [
                      {
                        "error_x": {
                          "color": "#2a3f5f"
                        },
                        "error_y": {
                          "color": "#2a3f5f"
                        },
                        "marker": {
                          "line": {
                            "color": "white",
                            "width": 0.5
                          },
                          "pattern": {
                            "fillmode": "overlay",
                            "size": 10,
                            "solidity": 0.2
                          }
                        },
                        "type": "bar"
                      }
                    ],
                    "barpolar": [
                      {
                        "marker": {
                          "line": {
                            "color": "white",
                            "width": 0.5
                          },
                          "pattern": {
                            "fillmode": "overlay",
                            "size": 10,
                            "solidity": 0.2
                          }
                        },
                        "type": "barpolar"
                      }
                    ],
                    "box": [
                      {
                        "boxpoints": "outliers",
                        "notched": false,
                        "type": "box"
                      }
                    ],
                    "carpet": [
                      {
                        "aaxis": {
                          "endlinecolor": "#2a3f5f",
                          "gridcolor": "#C8D4E3",
                          "linecolor": "#C8D4E3",
                          "minorgridcolor": "#C8D4E3",
                          "startlinecolor": "#2a3f5f"
                        },
                        "baxis": {
                          "endlinecolor": "#2a3f5f",
                          "gridcolor": "#C8D4E3",
                          "linecolor": "#C8D4E3",
                          "minorgridcolor": "#C8D4E3",
                          "startlinecolor": "#2a3f5f"
                        },
                        "type": "carpet"
                      }
                    ],
                    "choropleth": [
                      {
                        "colorbar": {
                          "outlinewidth": 0,
                          "ticks": ""
                        },
                        "type": "choropleth"
                      }
                    ],
                    "contour": [
                      {
                        "colorbar": {
                          "outlinewidth": 0,
                          "ticks": ""
                        },
                        "colorscale": [
                          [
                            0,
                            "#0d0887"
                          ],
                          [
                            0.1111111111111111,
                            "#46039f"
                          ],
                          [
                            0.2222222222222222,
                            "#7201a8"
                          ],
                          [
                            0.3333333333333333,
                            "#9c179e"
                          ],
                          [
                            0.4444444444444444,
                            "#bd3786"
                          ],
                          [
                            0.5555555555555556,
                            "#d8576b"
                          ],
                          [
                            0.6666666666666666,
                            "#ed7953"
                          ],
                          [
                            0.7777777777777778,
                            "#fb9f3a"
                          ],
                          [
                            0.8888888888888888,
                            "#fdca26"
                          ],
                          [
                            1,
                            "#f0f921"
                          ]
                        ],
                        "type": "contour"
                      }
                    ],
                    "contourcarpet": [
                      {
                        "colorbar": {
                          "outlinewidth": 0,
                          "ticks": ""
                        },
                        "type": "contourcarpet"
                      }
                    ],
                    "heatmap": [
                      {
                        "colorbar": {
                          "outlinewidth": 0,
                          "ticks": ""
                        },
                        "colorscale": [
                          [
                            0,
                            "#0d0887"
                          ],
                          [
                            0.1111111111111111,
                            "#46039f"
                          ],
                          [
                            0.2222222222222222,
                            "#7201a8"
                          ],
                          [
                            0.3333333333333333,
                            "#9c179e"
                          ],
                          [
                            0.4444444444444444,
                            "#bd3786"
                          ],
                          [
                            0.5555555555555556,
                            "#d8576b"
                          ],
                          [
                            0.6666666666666666,
                            "#ed7953"
                          ],
                          [
                            0.7777777777777778,
                            "#fb9f3a"
                          ],
                          [
                            0.8888888888888888,
                            "#fdca26"
                          ],
                          [
                            1,
                            "#f0f921"
                          ]
                        ],
                        "type": "heatmap"
                      }
                    ],
                    "heatmapgl": [
                      {
                        "colorbar": {
                          "outlinewidth": 0,
                          "ticks": ""
                        },
                        "colorscale": [
                          [
                            0,
                            "#0d0887"
                          ],
                          [
                            0.1111111111111111,
                            "#46039f"
                          ],
                          [
                            0.2222222222222222,
                            "#7201a8"
                          ],
                          [
                            0.3333333333333333,
                            "#9c179e"
                          ],
                          [
                            0.4444444444444444,
                            "#bd3786"
                          ],
                          [
                            0.5555555555555556,
                            "#d8576b"
                          ],
                          [
                            0.6666666666666666,
                            "#ed7953"
                          ],
                          [
                            0.7777777777777778,
                            "#fb9f3a"
                          ],
                          [
                            0.8888888888888888,
                            "#fdca26"
                          ],
                          [
                            1,
                            "#f0f921"
                          ]
                        ],
                        "type": "heatmapgl"
                      }
                    ],
                    "histogram": [
                      {
                        "marker": {
                          "line": {
                            "width": 1
                          },
                          "pattern": {
                            "fillmode": "overlay",
                            "size": 10,
                            "solidity": 0.2
                          }
                        },
                        "type": "histogram"
                      }
                    ],
                    "histogram2d": [
                      {
                        "colorbar": {
                          "outlinewidth": 0,
                          "ticks": ""
                        },
                        "colorscale": [
                          [
                            0,
                            "#0d0887"
                          ],
                          [
                            0.1111111111111111,
                            "#46039f"
                          ],
                          [
                            0.2222222222222222,
                            "#7201a8"
                          ],
                          [
                            0.3333333333333333,
                            "#9c179e"
                          ],
                          [
                            0.4444444444444444,
                            "#bd3786"
                          ],
                          [
                            0.5555555555555556,
                            "#d8576b"
                          ],
                          [
                            0.6666666666666666,
                            "#ed7953"
                          ],
                          [
                            0.7777777777777778,
                            "#fb9f3a"
                          ],
                          [
                            0.8888888888888888,
                            "#fdca26"
                          ],
                          [
                            1,
                            "#f0f921"
                          ]
                        ],
                        "type": "histogram2d"
                      }
                    ],
                    "histogram2dcontour": [
                      {
                        "colorbar": {
                          "outlinewidth": 0,
                          "ticks": ""
                        },
                        "colorscale": [
                          [
                            0,
                            "#0d0887"
                          ],
                          [
                            0.1111111111111111,
                            "#46039f"
                          ],
                          [
                            0.2222222222222222,
                            "#7201a8"
                          ],
                          [
                            0.3333333333333333,
                            "#9c179e"
                          ],
                          [
                            0.4444444444444444,
                            "#bd3786"
                          ],
                          [
                            0.5555555555555556,
                            "#d8576b"
                          ],
                          [
                            0.6666666666666666,
                            "#ed7953"
                          ],
                          [
                            0.7777777777777778,
                            "#fb9f3a"
                          ],
                          [
                            0.8888888888888888,
                            "#fdca26"
                          ],
                          [
                            1,
                            "#f0f921"
                          ]
                        ],
                        "type": "histogram2dcontour"
                      }
                    ],
                    "mesh3d": [
                      {
                        "colorbar": {
                          "outlinewidth": 0,
                          "ticks": ""
                        },
                        "type": "mesh3d"
                      }
                    ],
                    "parcoords": [
                      {
                        "line": {
                          "colorbar": {
                            "outlinewidth": 0,
                            "ticks": ""
                          }
                        },
                        "type": "parcoords"
                      }
                    ],
                    "pie": [
                      {
                        "automargin": true,
                        "type": "pie"
                      }
                    ],
                    "scatter": [
                      {
                        "fillpattern": {
                          "fillmode": "overlay",
                          "size": 10,
                          "solidity": 0.2
                        },
                        "marker": {
                          "opacity": 0.8
                        },
                        "type": "scatter"
                      }
                    ],
                    "scatter3d": [
                      {
                        "line": {
                          "colorbar": {
                            "outlinewidth": 0,
                            "ticks": ""
                          }
                        },
                        "marker": {
                          "colorbar": {
                            "outlinewidth": 0,
                            "ticks": ""
                          },
                          "opacity": 0.8
                        },
                        "type": "scatter3d"
                      }
                    ],
                    "scattercarpet": [
                      {
                        "marker": {
                          "colorbar": {
                            "outlinewidth": 0,
                            "ticks": ""
                          }
                        },
                        "type": "scattercarpet"
                      }
                    ],
                    "scattergeo": [
                      {
                        "marker": {
                          "colorbar": {
                            "outlinewidth": 0,
                            "ticks": ""
                          }
                        },
                        "type": "scattergeo"
                      }
                    ],
                    "scattergl": [
                      {
                        "marker": {
                          "colorbar": {
                            "outlinewidth": 0,
                            "ticks": ""
                          }
                        },
                        "type": "scattergl"
                      }
                    ],
                    "scattermapbox": [
                      {
                        "marker": {
                          "colorbar": {
                            "outlinewidth": 0,
                            "ticks": ""
                          }
                        },
                        "type": "scattermapbox"
                      }
                    ],
                    "scatterpolar": [
                      {
                        "marker": {
                          "colorbar": {
                            "outlinewidth": 0,
                            "ticks": ""
                          }
                        },
                        "type": "scatterpolar"
                      }
                    ],
                    "scatterpolargl": [
                      {
                        "marker": {
                          "colorbar": {
                            "outlinewidth": 0,
                            "ticks": ""
                          }
                        },
                        "type": "scatterpolargl"
                      }
                    ],
                    "scatterternary": [
                      {
                        "marker": {
                          "colorbar": {
                            "outlinewidth": 0,
                            "ticks": ""
                          }
                        },
                        "type": "scatterternary"
                      }
                    ],
                    "surface": [
                      {
                        "colorbar": {
                          "outlinewidth": 0,
                          "ticks": ""
                        },
                        "colorscale": [
                          [
                            0,
                            "#0d0887"
                          ],
                          [
                            0.1111111111111111,
                            "#46039f"
                          ],
                          [
                            0.2222222222222222,
                            "#7201a8"
                          ],
                          [
                            0.3333333333333333,
                            "#9c179e"
                          ],
                          [
                            0.4444444444444444,
                            "#bd3786"
                          ],
                          [
                            0.5555555555555556,
                            "#d8576b"
                          ],
                          [
                            0.6666666666666666,
                            "#ed7953"
                          ],
                          [
                            0.7777777777777778,
                            "#fb9f3a"
                          ],
                          [
                            0.8888888888888888,
                            "#fdca26"
                          ],
                          [
                            1,
                            "#f0f921"
                          ]
                        ],
                        "type": "surface"
                      }
                    ],
                    "table": [
                      {
                        "cells": {
                          "fill": {
                            "color": "#EBF0F8"
                          },
                          "line": {
                            "color": "white"
                          }
                        },
                        "header": {
                          "fill": {
                            "color": "#C8D4E3"
                          },
                          "line": {
                            "color": "white"
                          }
                        },
                        "type": "table"
                      }
                    ]
                  },
                  "layout": {
                    "annotationdefaults": {
                      "arrowcolor": "#2a3f5f",
                      "arrowhead": 0,
                      "arrowwidth": 1
                    },
                    "autotypenumbers": "strict",
                    "coloraxis": {
                      "colorbar": {
                        "outlinewidth": 0,
                        "ticks": ""
                      }
                    },
                    "colorscale": {
                      "diverging": [
                        [
                          0,
                          "#8e0152"
                        ],
                        [
                          0.1,
                          "#c51b7d"
                        ],
                        [
                          0.2,
                          "#de77ae"
                        ],
                        [
                          0.3,
                          "#f1b6da"
                        ],
                        [
                          0.4,
                          "#fde0ef"
                        ],
                        [
                          0.5,
                          "#f7f7f7"
                        ],
                        [
                          0.6,
                          "#e6f5d0"
                        ],
                        [
                          0.7,
                          "#b8e186"
                        ],
                        [
                          0.8,
                          "#7fbc41"
                        ],
                        [
                          0.9,
                          "#4d9221"
                        ],
                        [
                          1,
                          "#276419"
                        ]
                      ],
                      "sequential": [
                        [
                          0,
                          "#0d0887"
                        ],
                        [
                          0.1111111111111111,
                          "#46039f"
                        ],
                        [
                          0.2222222222222222,
                          "#7201a8"
                        ],
                        [
                          0.3333333333333333,
                          "#9c179e"
                        ],
                        [
                          0.4444444444444444,
                          "#bd3786"
                        ],
                        [
                          0.5555555555555556,
                          "#d8576b"
                        ],
                        [
                          0.6666666666666666,
                          "#ed7953"
                        ],
                        [
                          0.7777777777777778,
                          "#fb9f3a"
                        ],
                        [
                          0.8888888888888888,
                          "#fdca26"
                        ],
                        [
                          1,
                          "#f0f921"
                        ]
                      ],
                      "sequentialminus": [
                        [
                          0,
                          "#0d0887"
                        ],
                        [
                          0.1111111111111111,
                          "#46039f"
                        ],
                        [
                          0.2222222222222222,
                          "#7201a8"
                        ],
                        [
                          0.3333333333333333,
                          "#9c179e"
                        ],
                        [
                          0.4444444444444444,
                          "#bd3786"
                        ],
                        [
                          0.5555555555555556,
                          "#d8576b"
                        ],
                        [
                          0.6666666666666666,
                          "#ed7953"
                        ],
                        [
                          0.7777777777777778,
                          "#fb9f3a"
                        ],
                        [
                          0.8888888888888888,
                          "#fdca26"
                        ],
                        [
                          1,
                          "#f0f921"
                        ]
                      ]
                    },
                    "colorway": [
                      "#636efa",
                      "#EF553B",
                      "#00cc96",
                      "#ab63fa",
                      "#FFA15A",
                      "#19d3f3",
                      "#FF6692",
                      "#B6E880",
                      "#FF97FF",
                      "#FECB52"
                    ],
                    "font": {
                      "color": "#2a3f5f"
                    },
                    "geo": {
                      "bgcolor": "white",
                      "lakecolor": "white",
                      "landcolor": "white",
                      "showlakes": true,
                      "showland": true,
                      "subunitcolor": "#C8D4E3"
                    },
                    "height": 400,
                    "hoverlabel": {
                      "align": "left"
                    },
                    "hovermode": "closest",
                    "mapbox": {
                      "style": "light"
                    },
                    "margin": {
                      "b": 2,
                      "l": 2,
                      "r": 2,
                      "t": 30
                    },
                    "paper_bgcolor": "white",
                    "plot_bgcolor": "white",
                    "polar": {
                      "angularaxis": {
                        "gridcolor": "#EBF0F8",
                        "linecolor": "#EBF0F8",
                        "ticks": ""
                      },
                      "bgcolor": "white",
                      "radialaxis": {
                        "gridcolor": "#EBF0F8",
                        "linecolor": "#EBF0F8",
                        "ticks": ""
                      }
                    },
                    "scene": {
                      "camera": {
                        "eye": {
                          "x": 1.5,
                          "y": 1.5,
                          "z": 0.1
                        }
                      },
                      "xaxis": {
                        "backgroundcolor": "white",
                        "gridcolor": "#DFE8F3",
                        "gridwidth": 2,
                        "linecolor": "#EBF0F8",
                        "showbackground": true,
                        "ticks": "",
                        "zerolinecolor": "#EBF0F8"
                      },
                      "yaxis": {
                        "backgroundcolor": "white",
                        "gridcolor": "#DFE8F3",
                        "gridwidth": 2,
                        "linecolor": "#EBF0F8",
                        "showbackground": true,
                        "ticks": "",
                        "zerolinecolor": "#EBF0F8"
                      },
                      "zaxis": {
                        "backgroundcolor": "white",
                        "gridcolor": "#DFE8F3",
                        "gridwidth": 2,
                        "linecolor": "#EBF0F8",
                        "showbackground": true,
                        "ticks": "",
                        "zerolinecolor": "#EBF0F8"
                      }
                    },
                    "shapedefaults": {
                      "line": {
                        "color": "#2a3f5f"
                      }
                    },
                    "ternary": {
                      "aaxis": {
                        "gridcolor": "#DFE8F3",
                        "linecolor": "#A2B1C6",
                        "ticks": ""
                      },
                      "baxis": {
                        "gridcolor": "#DFE8F3",
                        "linecolor": "#A2B1C6",
                        "ticks": ""
                      },
                      "bgcolor": "white",
                      "caxis": {
                        "gridcolor": "#DFE8F3",
                        "linecolor": "#A2B1C6",
                        "ticks": ""
                      }
                    },
                    "title": {
                      "x": 0.5
                    },
                    "xaxis": {
                      "automargin": true,
                      "gridcolor": "#EBF0F8",
                      "linecolor": "#EBF0F8",
                      "linewidth": 2,
                      "showline": true,
                      "ticks": "",
                      "title": {
                        "standoff": 15
                      },
                      "zerolinecolor": "#EBF0F8",
                      "zerolinewidth": 2
                    },
                    "yaxis": {
                      "automargin": true,
                      "gridcolor": "#EBF0F8",
                      "linecolor": "#EBF0F8",
                      "linewidth": 2,
                      "showline": true,
                      "ticks": "",
                      "title": {
                        "standoff": 15
                      },
                      "zerolinecolor": "#EBF0F8",
                      "zerolinewidth": 2
                    }
                  }
                },
                "title": {
                  "text": "male"
                },
                "xaxis": {
                  "anchor": "y",
                  "domain": [
                    0,
                    1
                  ],
                  "title": {
                    "text": "male"
                  }
                },
                "yaxis": {
                  "anchor": "x",
                  "domain": [
                    0,
                    1
                  ],
                  "title": {
                    "text": "core temperature"
                  }
                }
              }
            }
          },
          "metadata": {},
          "output_type": "display_data"
        },
        {
          "name": "stdout",
          "output_type": "stream",
          "text": [
            "age\n",
            "R-squared: 0.26481160813424676\n"
          ]
        },
        {
          "name": "stderr",
          "output_type": "stream",
          "text": [
            "/var/folders/yl/5cj99xpd0cg5xn4st7_dyz6m0000gn/T/ipykernel_65619/3182011243.py:17: FutureWarning:\n",
            "\n",
            "Series.__getitem__ treating keys as positions is deprecated. In a future version, integer keys will always be treated as labels (consistent with DataFrame behavior). To access a value by position, use `ser.iloc[pos]`\n",
            "\n"
          ]
        },
        {
          "data": {
            "application/vnd.plotly.v1+json": {
              "config": {
                "plotlyServerURL": "https://plot.ly"
              },
              "data": [
                {
                  "hovertemplate": "age=%{x}<br>core temperature=%{y}<extra></extra>",
                  "legendgroup": "",
                  "marker": {
                    "color": "#636efa",
                    "size": 17,
                    "symbol": "circle"
                  },
                  "mode": "markers",
                  "name": "",
                  "orientation": "v",
                  "showlegend": false,
                  "type": "scatter",
                  "x": [
                    6.9,
                    5.4,
                    5.4,
                    4.8,
                    4.8,
                    7.8,
                    2.7,
                    5.7,
                    1.5,
                    1.8,
                    4.2,
                    4.5,
                    1.5,
                    5.1,
                    4.8,
                    5.1,
                    3.6,
                    4.2,
                    2.7,
                    8.7,
                    0.9,
                    6.3,
                    1.2,
                    2.7,
                    6,
                    6,
                    0.6,
                    3.9,
                    6,
                    5.7,
                    6.9,
                    5.1,
                    2.1,
                    3.6,
                    6.3,
                    2.4,
                    8.4,
                    7.5,
                    5.7,
                    5.7,
                    2.7,
                    4.2,
                    6.9,
                    3,
                    1.8,
                    2.4,
                    6.3,
                    0.6,
                    1.8,
                    4.8,
                    8.4,
                    8.1,
                    6.3,
                    8.7,
                    4.5,
                    4.5,
                    7.5,
                    1.2,
                    5.7,
                    0.6,
                    6.9,
                    8.1,
                    0.6,
                    1.2,
                    6.6,
                    8.1,
                    2.7,
                    3.9,
                    4.2,
                    6.9,
                    1.2,
                    3.9,
                    3.6,
                    0.3,
                    3,
                    8.7,
                    2.1,
                    6.6,
                    1.5,
                    5.1,
                    6,
                    2.1,
                    6,
                    4.2,
                    1.5,
                    1.8,
                    1.8,
                    6.9,
                    6.9,
                    4.5,
                    1.8,
                    8.4,
                    3,
                    4.5,
                    1.8,
                    6.6,
                    6.9,
                    6
                  ],
                  "xaxis": "x",
                  "y": [
                    38.42316895,
                    39.01599822,
                    39.14834088,
                    39.06004863,
                    38.65543905,
                    38.6092188,
                    39.47390806,
                    38.81521612,
                    37.77845286,
                    39.17685034,
                    39.52090819,
                    38.57896943,
                    38.28013391,
                    38.40158039,
                    38.65157641,
                    39.61720308,
                    37.72843549,
                    39.36694049,
                    37.98848685,
                    39.93405104,
                    37.60559023,
                    38.83468198,
                    37.39892664,
                    38.98633063,
                    39.72456882,
                    38.09695504,
                    37.59597881,
                    39.49731323,
                    38.50187636,
                    38.27036031,
                    38.69964224,
                    39.08411118,
                    38.29400364,
                    38.39872285,
                    39.29951536,
                    38.37598649,
                    38.46968433,
                    39.58561173,
                    38.12682317,
                    39.80156649,
                    37.92682179,
                    39.67264697,
                    38.21409556,
                    38.93217418,
                    37.80121676,
                    37.52097889,
                    39.34942824,
                    38.9163822,
                    38.72595498,
                    38.35421436,
                    40.17337876,
                    39.48214424,
                    39.9557292,
                    39.02529641,
                    39.70565695,
                    37.87210056,
                    38.92730588,
                    38.75694066,
                    38.98157028,
                    39.07020183,
                    39.31023381,
                    40.26487847,
                    39.19531025,
                    37.46606804,
                    38.61929591,
                    39.74308443,
                    37.9590829,
                    38.52387016,
                    39.58821189,
                    39.48780846,
                    37.32113362,
                    38.30311301,
                    39.32598796,
                    38.18373964,
                    37.78518905,
                    38.97361387,
                    37.97719515,
                    38.92654301,
                    37.98922316,
                    39.87010492,
                    38.51344083,
                    39.14710639,
                    38.61129304,
                    38.95232638,
                    37.46812464,
                    38.24131363,
                    38.7661591,
                    39.87233432,
                    38.87492299,
                    39.09337261,
                    39.00124171,
                    39.25963687,
                    38.6808734,
                    37.93994229,
                    38.79042609,
                    39.48996228,
                    38.57574159,
                    39.76644658
                  ],
                  "yaxis": "y"
                }
              ],
              "layout": {
                "legend": {
                  "tracegroupgap": 0
                },
                "shapes": [
                  {
                    "line": {
                      "color": "rgb(228,26,28)"
                    },
                    "path": "M0.3 38.133869422156295 L 0.3422110552763819 38.1403420475402 L 0.38442211055276376 38.14681467292411 L 0.4266331658291457 38.153287298308015 L 0.4688442211055276 38.15975992369192 L 0.5110552763819095 38.16623254907583 L 0.5532663316582913 38.172705174459736 L 0.5954773869346732 38.17917779984364 L 0.6376884422110551 38.18565042522755 L 0.679899497487437 38.19212305061146 L 0.722110552763819 38.198595675995364 L 0.7643216080402009 38.20506830137927 L 0.8065326633165828 38.21154092676318 L 0.8487437185929647 38.218013552147085 L 0.8909547738693466 38.22448617753099 L 0.9331658291457285 38.2309588029149 L 0.9753768844221105 38.237431428298805 L 1.0175879396984924 38.24390405368271 L 1.0597989949748743 38.25037667906662 L 1.1020100502512562 38.256849304450526 L 1.1442211055276381 38.26332192983443 L 1.1864321608040198 38.26979455521834 L 1.2286432160804017 38.27626718060225 L 1.2708542713567836 38.282739805986154 L 1.3130653266331656 38.28921243137006 L 1.3552763819095475 38.29568505675397 L 1.3974874371859294 38.302157682137874 L 1.4396984924623113 38.30863030752178 L 1.4819095477386932 38.31510293290569 L 1.5241206030150751 38.321575558289595 L 1.566331658291457 38.3280481836735 L 1.608542713567839 38.33452080905741 L 1.6507537688442209 38.340993434441316 L 1.6929648241206028 38.34746605982522 L 1.7351758793969847 38.35393868520913 L 1.7773869346733666 38.36041131059304 L 1.8195979899497485 38.366883935976944 L 1.8618090452261304 38.37335656136085 L 1.9040201005025124 38.37982918674476 L 1.9462311557788943 38.386301812128664 L 1.9884422110552762 38.39277443751257 L 2.0306532663316577 38.39924706289648 L 2.07286432160804 38.405719688280385 L 2.1150753768844215 38.41219231366429 L 2.1572864321608036 38.4186649390482 L 2.1994974874371853 38.425137564432106 L 2.2417085427135675 38.43161018981601 L 2.283919597989949 38.43808281519992 L 2.326130653266331 38.44455544058383 L 2.368341708542713 38.45102806596773 L 2.4105527638190947 38.45750069135164 L 2.452763819095477 38.46397331673555 L 2.4949748743718585 38.470445942119454 L 2.5371859296482406 38.47691856750336 L 2.5793969849246223 38.48339119288727 L 2.6216080402010045 38.489863818271175 L 2.663819095477386 38.49633644365508 L 2.7060301507537683 38.50280906903899 L 2.74824120603015 38.509281694422896 L 2.790452261306532 38.5157543198068 L 2.832663316582914 38.52222694519071 L 2.874874371859296 38.52869957057462 L 2.9170854271356776 38.53517219595852 L 2.95929648241206 38.54164482134243 L 3.0015075376884415 38.54811744672634 L 3.043718592964823 38.554590072110244 L 3.0859296482412053 38.56106269749415 L 3.128140703517587 38.56753532287806 L 3.170351758793969 38.574007948261965 L 3.212562814070351 38.58048057364587 L 3.254773869346733 38.58695319902978 L 3.2969849246231147 38.593425824413686 L 3.339195979899497 38.59989844979759 L 3.3814070351758785 38.6063710751815 L 3.4236180904522606 38.612843700565406 L 3.4658291457286423 38.61931632594931 L 3.5080402010050244 38.62578895133322 L 3.550251256281406 38.63226157671713 L 3.5924623115577883 38.638734202101034 L 3.63467336683417 38.64520682748494 L 3.676884422110552 38.65167945286885 L 3.719095477386934 38.658152078252755 L 3.7613065326633155 38.66462470363666 L 3.8035175879396976 38.67109732902057 L 3.8457286432160793 38.677569954404476 L 3.8879396984924615 38.68404257978838 L 3.930150753768843 38.69051520517229 L 3.9723618090452253 38.696987830556196 L 4.014572864321607 38.7034604559401 L 4.056783919597989 38.70993308132401 L 4.098994974874371 38.71640570670792 L 4.141206030150753 38.722878332091824 L 4.183417085427135 38.72935095747573 L 4.225628140703517 38.73582358285964 L 4.2678391959798985 38.742296208243545 L 4.31005025125628 38.74876883362745 L 4.352261306532662 38.75524145901136 L 4.394472361809044 38.761714084395265 L 4.436683417085426 38.76818670977917 L 4.478894472361808 38.77465933516308 L 4.5211055276381895 38.781131960546986 L 4.563316582914572 38.78760458593089 L 4.605527638190954 38.7940772113148 L 4.6477386934673355 38.80054983669871 L 4.689949748743717 38.807022462082614 L 4.7321608040201 38.81349508746652 L 4.7743718592964814 38.81996771285043 L 4.816582914572863 38.826440338234335 L 4.858793969849245 38.83291296361824 L 4.901005025125627 38.83938558900215 L 4.943216080402009 38.845858214386055 L 4.985427135678391 38.85233083976996 L 5.0276381909547725 38.85880346515386 L 5.069849246231154 38.86527609053777 L 5.112060301507537 38.871748715921676 L 5.1542713567839185 38.87822134130558 L 5.1964824120603 38.88469396668949 L 5.238693467336682 38.8911665920734 L 5.280904522613064 38.897639217457304 L 5.323115577889446 38.90411184284121 L 5.365326633165828 38.91058446822512 L 5.4075376884422095 38.917057093609024 L 5.449748743718592 38.92352971899293 L 5.491959798994974 38.93000234437684 L 5.5341708542713555 38.936474969760745 L 5.576381909547737 38.94294759514465 L 5.61859296482412 38.94942022052856 L 5.660804020100501 38.955892845912466 L 5.703015075376883 38.96236547129637 L 5.745226130653265 38.96883809668028 L 5.7874371859296465 38.97531072206419 L 5.829648241206029 38.98178334744809 L 5.871859296482411 38.988255972832 L 5.9140703517587925 38.99472859821591 L 5.956281407035174 39.001201223599814 L 5.998492462311557 39.00767384898372 L 6.040703517587938 39.01414647436763 L 6.08291457286432 39.020619099751535 L 6.125125628140702 39.02709172513544 L 6.167336683417084 39.03356435051935 L 6.209547738693466 39.040036975903256 L 6.251758793969848 39.04650960128716 L 6.2939698492462295 39.05298222667107 L 6.336180904522612 39.05945485205498 L 6.378391959798994 39.06592747743888 L 6.4206030150753755 39.07240010282279 L 6.462814070351757 39.0788727282067 L 6.505025125628139 39.085345353590604 L 6.547236180904521 39.09181797897451 L 6.589447236180903 39.09829060435842 L 6.631658291457285 39.104763229742325 L 6.6738693467336665 39.11123585512623 L 6.716080402010049 39.11770848051014 L 6.758291457286431 39.124181105894046 L 6.8005025125628125 39.13065373127795 L 6.842713567839194 39.13712635666186 L 6.884924623115577 39.143598982045766 L 6.927135678391958 39.15007160742967 L 6.96934673366834 39.15654423281358 L 7.011557788944722 39.16301685819749 L 7.053768844221104 39.169489483581394 L 7.095979899497486 39.1759621089653 L 7.138190954773868 39.18243473434921 L 7.1804020100502495 39.188907359733115 L 7.222613065326631 39.19537998511702 L 7.264824120603014 39.20185261050093 L 7.307035175879395 39.208325235884836 L 7.349246231155777 39.21479786126874 L 7.391457286432159 39.22127048665265 L 7.433668341708541 39.227743112036556 L 7.475879396984923 39.23421573742046 L 7.518090452261305 39.24068836280437 L 7.5603015075376865 39.24716098818828 L 7.602512562814069 39.253633613572184 L 7.644723618090451 39.26010623895609 L 7.6869346733668324 39.26657886434 L 7.729145728643214 39.273051489723905 L 7.771356783919596 39.27952411510781 L 7.813567839195978 39.28599674049172 L 7.85577889447236 39.292469365875625 L 7.897989949748742 39.29894199125953 L 7.9402010050251235 39.30541461664344 L 7.982412060301506 39.311887242027346 L 8.024623115577889 39.31835986741125 L 8.06683417085427 39.32483249279516 L 8.109045226130652 39.33130511817907 L 8.151256281407035 39.337777743562974 L 8.193467336683415 39.34425036894688 L 8.235678391959798 39.35072299433079 L 8.277889447236179 39.357195619714695 L 8.320100502512561 39.3636682450986 L 8.362311557788944 39.37014087048251 L 8.404522613065325 39.376613495866415 L 8.446733668341707 39.38308612125032 L 8.48894472361809 39.38955874663423 L 8.53115577889447 39.396031372018136 L 8.573366834170853 39.40250399740204 L 8.615577889447236 39.40897662278595 L 8.657788944723617 39.41544924816986 L 8.7 39.421921873553764",
                    "type": "path"
                  }
                ],
                "template": {
                  "data": {
                    "bar": [
                      {
                        "error_x": {
                          "color": "#2a3f5f"
                        },
                        "error_y": {
                          "color": "#2a3f5f"
                        },
                        "marker": {
                          "line": {
                            "color": "white",
                            "width": 0.5
                          },
                          "pattern": {
                            "fillmode": "overlay",
                            "size": 10,
                            "solidity": 0.2
                          }
                        },
                        "type": "bar"
                      }
                    ],
                    "barpolar": [
                      {
                        "marker": {
                          "line": {
                            "color": "white",
                            "width": 0.5
                          },
                          "pattern": {
                            "fillmode": "overlay",
                            "size": 10,
                            "solidity": 0.2
                          }
                        },
                        "type": "barpolar"
                      }
                    ],
                    "box": [
                      {
                        "boxpoints": "outliers",
                        "notched": false,
                        "type": "box"
                      }
                    ],
                    "carpet": [
                      {
                        "aaxis": {
                          "endlinecolor": "#2a3f5f",
                          "gridcolor": "#C8D4E3",
                          "linecolor": "#C8D4E3",
                          "minorgridcolor": "#C8D4E3",
                          "startlinecolor": "#2a3f5f"
                        },
                        "baxis": {
                          "endlinecolor": "#2a3f5f",
                          "gridcolor": "#C8D4E3",
                          "linecolor": "#C8D4E3",
                          "minorgridcolor": "#C8D4E3",
                          "startlinecolor": "#2a3f5f"
                        },
                        "type": "carpet"
                      }
                    ],
                    "choropleth": [
                      {
                        "colorbar": {
                          "outlinewidth": 0,
                          "ticks": ""
                        },
                        "type": "choropleth"
                      }
                    ],
                    "contour": [
                      {
                        "colorbar": {
                          "outlinewidth": 0,
                          "ticks": ""
                        },
                        "colorscale": [
                          [
                            0,
                            "#0d0887"
                          ],
                          [
                            0.1111111111111111,
                            "#46039f"
                          ],
                          [
                            0.2222222222222222,
                            "#7201a8"
                          ],
                          [
                            0.3333333333333333,
                            "#9c179e"
                          ],
                          [
                            0.4444444444444444,
                            "#bd3786"
                          ],
                          [
                            0.5555555555555556,
                            "#d8576b"
                          ],
                          [
                            0.6666666666666666,
                            "#ed7953"
                          ],
                          [
                            0.7777777777777778,
                            "#fb9f3a"
                          ],
                          [
                            0.8888888888888888,
                            "#fdca26"
                          ],
                          [
                            1,
                            "#f0f921"
                          ]
                        ],
                        "type": "contour"
                      }
                    ],
                    "contourcarpet": [
                      {
                        "colorbar": {
                          "outlinewidth": 0,
                          "ticks": ""
                        },
                        "type": "contourcarpet"
                      }
                    ],
                    "heatmap": [
                      {
                        "colorbar": {
                          "outlinewidth": 0,
                          "ticks": ""
                        },
                        "colorscale": [
                          [
                            0,
                            "#0d0887"
                          ],
                          [
                            0.1111111111111111,
                            "#46039f"
                          ],
                          [
                            0.2222222222222222,
                            "#7201a8"
                          ],
                          [
                            0.3333333333333333,
                            "#9c179e"
                          ],
                          [
                            0.4444444444444444,
                            "#bd3786"
                          ],
                          [
                            0.5555555555555556,
                            "#d8576b"
                          ],
                          [
                            0.6666666666666666,
                            "#ed7953"
                          ],
                          [
                            0.7777777777777778,
                            "#fb9f3a"
                          ],
                          [
                            0.8888888888888888,
                            "#fdca26"
                          ],
                          [
                            1,
                            "#f0f921"
                          ]
                        ],
                        "type": "heatmap"
                      }
                    ],
                    "heatmapgl": [
                      {
                        "colorbar": {
                          "outlinewidth": 0,
                          "ticks": ""
                        },
                        "colorscale": [
                          [
                            0,
                            "#0d0887"
                          ],
                          [
                            0.1111111111111111,
                            "#46039f"
                          ],
                          [
                            0.2222222222222222,
                            "#7201a8"
                          ],
                          [
                            0.3333333333333333,
                            "#9c179e"
                          ],
                          [
                            0.4444444444444444,
                            "#bd3786"
                          ],
                          [
                            0.5555555555555556,
                            "#d8576b"
                          ],
                          [
                            0.6666666666666666,
                            "#ed7953"
                          ],
                          [
                            0.7777777777777778,
                            "#fb9f3a"
                          ],
                          [
                            0.8888888888888888,
                            "#fdca26"
                          ],
                          [
                            1,
                            "#f0f921"
                          ]
                        ],
                        "type": "heatmapgl"
                      }
                    ],
                    "histogram": [
                      {
                        "marker": {
                          "line": {
                            "width": 1
                          },
                          "pattern": {
                            "fillmode": "overlay",
                            "size": 10,
                            "solidity": 0.2
                          }
                        },
                        "type": "histogram"
                      }
                    ],
                    "histogram2d": [
                      {
                        "colorbar": {
                          "outlinewidth": 0,
                          "ticks": ""
                        },
                        "colorscale": [
                          [
                            0,
                            "#0d0887"
                          ],
                          [
                            0.1111111111111111,
                            "#46039f"
                          ],
                          [
                            0.2222222222222222,
                            "#7201a8"
                          ],
                          [
                            0.3333333333333333,
                            "#9c179e"
                          ],
                          [
                            0.4444444444444444,
                            "#bd3786"
                          ],
                          [
                            0.5555555555555556,
                            "#d8576b"
                          ],
                          [
                            0.6666666666666666,
                            "#ed7953"
                          ],
                          [
                            0.7777777777777778,
                            "#fb9f3a"
                          ],
                          [
                            0.8888888888888888,
                            "#fdca26"
                          ],
                          [
                            1,
                            "#f0f921"
                          ]
                        ],
                        "type": "histogram2d"
                      }
                    ],
                    "histogram2dcontour": [
                      {
                        "colorbar": {
                          "outlinewidth": 0,
                          "ticks": ""
                        },
                        "colorscale": [
                          [
                            0,
                            "#0d0887"
                          ],
                          [
                            0.1111111111111111,
                            "#46039f"
                          ],
                          [
                            0.2222222222222222,
                            "#7201a8"
                          ],
                          [
                            0.3333333333333333,
                            "#9c179e"
                          ],
                          [
                            0.4444444444444444,
                            "#bd3786"
                          ],
                          [
                            0.5555555555555556,
                            "#d8576b"
                          ],
                          [
                            0.6666666666666666,
                            "#ed7953"
                          ],
                          [
                            0.7777777777777778,
                            "#fb9f3a"
                          ],
                          [
                            0.8888888888888888,
                            "#fdca26"
                          ],
                          [
                            1,
                            "#f0f921"
                          ]
                        ],
                        "type": "histogram2dcontour"
                      }
                    ],
                    "mesh3d": [
                      {
                        "colorbar": {
                          "outlinewidth": 0,
                          "ticks": ""
                        },
                        "type": "mesh3d"
                      }
                    ],
                    "parcoords": [
                      {
                        "line": {
                          "colorbar": {
                            "outlinewidth": 0,
                            "ticks": ""
                          }
                        },
                        "type": "parcoords"
                      }
                    ],
                    "pie": [
                      {
                        "automargin": true,
                        "type": "pie"
                      }
                    ],
                    "scatter": [
                      {
                        "fillpattern": {
                          "fillmode": "overlay",
                          "size": 10,
                          "solidity": 0.2
                        },
                        "marker": {
                          "opacity": 0.8
                        },
                        "type": "scatter"
                      }
                    ],
                    "scatter3d": [
                      {
                        "line": {
                          "colorbar": {
                            "outlinewidth": 0,
                            "ticks": ""
                          }
                        },
                        "marker": {
                          "colorbar": {
                            "outlinewidth": 0,
                            "ticks": ""
                          },
                          "opacity": 0.8
                        },
                        "type": "scatter3d"
                      }
                    ],
                    "scattercarpet": [
                      {
                        "marker": {
                          "colorbar": {
                            "outlinewidth": 0,
                            "ticks": ""
                          }
                        },
                        "type": "scattercarpet"
                      }
                    ],
                    "scattergeo": [
                      {
                        "marker": {
                          "colorbar": {
                            "outlinewidth": 0,
                            "ticks": ""
                          }
                        },
                        "type": "scattergeo"
                      }
                    ],
                    "scattergl": [
                      {
                        "marker": {
                          "colorbar": {
                            "outlinewidth": 0,
                            "ticks": ""
                          }
                        },
                        "type": "scattergl"
                      }
                    ],
                    "scattermapbox": [
                      {
                        "marker": {
                          "colorbar": {
                            "outlinewidth": 0,
                            "ticks": ""
                          }
                        },
                        "type": "scattermapbox"
                      }
                    ],
                    "scatterpolar": [
                      {
                        "marker": {
                          "colorbar": {
                            "outlinewidth": 0,
                            "ticks": ""
                          }
                        },
                        "type": "scatterpolar"
                      }
                    ],
                    "scatterpolargl": [
                      {
                        "marker": {
                          "colorbar": {
                            "outlinewidth": 0,
                            "ticks": ""
                          }
                        },
                        "type": "scatterpolargl"
                      }
                    ],
                    "scatterternary": [
                      {
                        "marker": {
                          "colorbar": {
                            "outlinewidth": 0,
                            "ticks": ""
                          }
                        },
                        "type": "scatterternary"
                      }
                    ],
                    "surface": [
                      {
                        "colorbar": {
                          "outlinewidth": 0,
                          "ticks": ""
                        },
                        "colorscale": [
                          [
                            0,
                            "#0d0887"
                          ],
                          [
                            0.1111111111111111,
                            "#46039f"
                          ],
                          [
                            0.2222222222222222,
                            "#7201a8"
                          ],
                          [
                            0.3333333333333333,
                            "#9c179e"
                          ],
                          [
                            0.4444444444444444,
                            "#bd3786"
                          ],
                          [
                            0.5555555555555556,
                            "#d8576b"
                          ],
                          [
                            0.6666666666666666,
                            "#ed7953"
                          ],
                          [
                            0.7777777777777778,
                            "#fb9f3a"
                          ],
                          [
                            0.8888888888888888,
                            "#fdca26"
                          ],
                          [
                            1,
                            "#f0f921"
                          ]
                        ],
                        "type": "surface"
                      }
                    ],
                    "table": [
                      {
                        "cells": {
                          "fill": {
                            "color": "#EBF0F8"
                          },
                          "line": {
                            "color": "white"
                          }
                        },
                        "header": {
                          "fill": {
                            "color": "#C8D4E3"
                          },
                          "line": {
                            "color": "white"
                          }
                        },
                        "type": "table"
                      }
                    ]
                  },
                  "layout": {
                    "annotationdefaults": {
                      "arrowcolor": "#2a3f5f",
                      "arrowhead": 0,
                      "arrowwidth": 1
                    },
                    "autotypenumbers": "strict",
                    "coloraxis": {
                      "colorbar": {
                        "outlinewidth": 0,
                        "ticks": ""
                      }
                    },
                    "colorscale": {
                      "diverging": [
                        [
                          0,
                          "#8e0152"
                        ],
                        [
                          0.1,
                          "#c51b7d"
                        ],
                        [
                          0.2,
                          "#de77ae"
                        ],
                        [
                          0.3,
                          "#f1b6da"
                        ],
                        [
                          0.4,
                          "#fde0ef"
                        ],
                        [
                          0.5,
                          "#f7f7f7"
                        ],
                        [
                          0.6,
                          "#e6f5d0"
                        ],
                        [
                          0.7,
                          "#b8e186"
                        ],
                        [
                          0.8,
                          "#7fbc41"
                        ],
                        [
                          0.9,
                          "#4d9221"
                        ],
                        [
                          1,
                          "#276419"
                        ]
                      ],
                      "sequential": [
                        [
                          0,
                          "#0d0887"
                        ],
                        [
                          0.1111111111111111,
                          "#46039f"
                        ],
                        [
                          0.2222222222222222,
                          "#7201a8"
                        ],
                        [
                          0.3333333333333333,
                          "#9c179e"
                        ],
                        [
                          0.4444444444444444,
                          "#bd3786"
                        ],
                        [
                          0.5555555555555556,
                          "#d8576b"
                        ],
                        [
                          0.6666666666666666,
                          "#ed7953"
                        ],
                        [
                          0.7777777777777778,
                          "#fb9f3a"
                        ],
                        [
                          0.8888888888888888,
                          "#fdca26"
                        ],
                        [
                          1,
                          "#f0f921"
                        ]
                      ],
                      "sequentialminus": [
                        [
                          0,
                          "#0d0887"
                        ],
                        [
                          0.1111111111111111,
                          "#46039f"
                        ],
                        [
                          0.2222222222222222,
                          "#7201a8"
                        ],
                        [
                          0.3333333333333333,
                          "#9c179e"
                        ],
                        [
                          0.4444444444444444,
                          "#bd3786"
                        ],
                        [
                          0.5555555555555556,
                          "#d8576b"
                        ],
                        [
                          0.6666666666666666,
                          "#ed7953"
                        ],
                        [
                          0.7777777777777778,
                          "#fb9f3a"
                        ],
                        [
                          0.8888888888888888,
                          "#fdca26"
                        ],
                        [
                          1,
                          "#f0f921"
                        ]
                      ]
                    },
                    "colorway": [
                      "#636efa",
                      "#EF553B",
                      "#00cc96",
                      "#ab63fa",
                      "#FFA15A",
                      "#19d3f3",
                      "#FF6692",
                      "#B6E880",
                      "#FF97FF",
                      "#FECB52"
                    ],
                    "font": {
                      "color": "#2a3f5f"
                    },
                    "geo": {
                      "bgcolor": "white",
                      "lakecolor": "white",
                      "landcolor": "white",
                      "showlakes": true,
                      "showland": true,
                      "subunitcolor": "#C8D4E3"
                    },
                    "height": 400,
                    "hoverlabel": {
                      "align": "left"
                    },
                    "hovermode": "closest",
                    "mapbox": {
                      "style": "light"
                    },
                    "margin": {
                      "b": 2,
                      "l": 2,
                      "r": 2,
                      "t": 30
                    },
                    "paper_bgcolor": "white",
                    "plot_bgcolor": "white",
                    "polar": {
                      "angularaxis": {
                        "gridcolor": "#EBF0F8",
                        "linecolor": "#EBF0F8",
                        "ticks": ""
                      },
                      "bgcolor": "white",
                      "radialaxis": {
                        "gridcolor": "#EBF0F8",
                        "linecolor": "#EBF0F8",
                        "ticks": ""
                      }
                    },
                    "scene": {
                      "camera": {
                        "eye": {
                          "x": 1.5,
                          "y": 1.5,
                          "z": 0.1
                        }
                      },
                      "xaxis": {
                        "backgroundcolor": "white",
                        "gridcolor": "#DFE8F3",
                        "gridwidth": 2,
                        "linecolor": "#EBF0F8",
                        "showbackground": true,
                        "ticks": "",
                        "zerolinecolor": "#EBF0F8"
                      },
                      "yaxis": {
                        "backgroundcolor": "white",
                        "gridcolor": "#DFE8F3",
                        "gridwidth": 2,
                        "linecolor": "#EBF0F8",
                        "showbackground": true,
                        "ticks": "",
                        "zerolinecolor": "#EBF0F8"
                      },
                      "zaxis": {
                        "backgroundcolor": "white",
                        "gridcolor": "#DFE8F3",
                        "gridwidth": 2,
                        "linecolor": "#EBF0F8",
                        "showbackground": true,
                        "ticks": "",
                        "zerolinecolor": "#EBF0F8"
                      }
                    },
                    "shapedefaults": {
                      "line": {
                        "color": "#2a3f5f"
                      }
                    },
                    "ternary": {
                      "aaxis": {
                        "gridcolor": "#DFE8F3",
                        "linecolor": "#A2B1C6",
                        "ticks": ""
                      },
                      "baxis": {
                        "gridcolor": "#DFE8F3",
                        "linecolor": "#A2B1C6",
                        "ticks": ""
                      },
                      "bgcolor": "white",
                      "caxis": {
                        "gridcolor": "#DFE8F3",
                        "linecolor": "#A2B1C6",
                        "ticks": ""
                      }
                    },
                    "title": {
                      "x": 0.5
                    },
                    "xaxis": {
                      "automargin": true,
                      "gridcolor": "#EBF0F8",
                      "linecolor": "#EBF0F8",
                      "linewidth": 2,
                      "showline": true,
                      "ticks": "",
                      "title": {
                        "standoff": 15
                      },
                      "zerolinecolor": "#EBF0F8",
                      "zerolinewidth": 2
                    },
                    "yaxis": {
                      "automargin": true,
                      "gridcolor": "#EBF0F8",
                      "linecolor": "#EBF0F8",
                      "linewidth": 2,
                      "showline": true,
                      "ticks": "",
                      "title": {
                        "standoff": 15
                      },
                      "zerolinecolor": "#EBF0F8",
                      "zerolinewidth": 2
                    }
                  }
                },
                "title": {
                  "text": "age"
                },
                "xaxis": {
                  "anchor": "y",
                  "domain": [
                    0,
                    1
                  ],
                  "title": {
                    "text": "age"
                  }
                },
                "yaxis": {
                  "anchor": "x",
                  "domain": [
                    0,
                    1
                  ],
                  "title": {
                    "text": "core temperature"
                  }
                }
              }
            }
          },
          "metadata": {},
          "output_type": "display_data"
        },
        {
          "name": "stdout",
          "output_type": "stream",
          "text": [
            "protein_content_of_last_meal\n",
            "R-squared: 0.9155158150005707\n"
          ]
        },
        {
          "name": "stderr",
          "output_type": "stream",
          "text": [
            "/var/folders/yl/5cj99xpd0cg5xn4st7_dyz6m0000gn/T/ipykernel_65619/3182011243.py:17: FutureWarning:\n",
            "\n",
            "Series.__getitem__ treating keys as positions is deprecated. In a future version, integer keys will always be treated as labels (consistent with DataFrame behavior). To access a value by position, use `ser.iloc[pos]`\n",
            "\n"
          ]
        },
        {
          "data": {
            "application/vnd.plotly.v1+json": {
              "config": {
                "plotlyServerURL": "https://plot.ly"
              },
              "data": [
                {
                  "hovertemplate": "protein content of last meal=%{x}<br>core temperature=%{y}<extra></extra>",
                  "legendgroup": "",
                  "marker": {
                    "color": "#636efa",
                    "size": 17,
                    "symbol": "circle"
                  },
                  "mode": "markers",
                  "name": "",
                  "orientation": "v",
                  "showlegend": false,
                  "type": "scatter",
                  "x": [
                    7.66,
                    13.36,
                    12.9,
                    13.45,
                    10.53,
                    11.17,
                    16,
                    10.3,
                    5.71,
                    15.38,
                    18.47,
                    8.52,
                    7.36,
                    7.78,
                    10.76,
                    19.94,
                    5.86,
                    17.56,
                    8.14,
                    22.18,
                    4.43,
                    12.29,
                    4.83,
                    13.68,
                    18.52,
                    7.12,
                    6.99,
                    17.39,
                    10.6,
                    9.03,
                    9.54,
                    13.29,
                    8.79,
                    7.72,
                    15.43,
                    7.17,
                    8.9,
                    19.72,
                    8.47,
                    21.73,
                    5.95,
                    19.16,
                    7.28,
                    11.57,
                    7.62,
                    5.33,
                    15.95,
                    13.04,
                    11.96,
                    8.96,
                    24.89,
                    17.45,
                    23.65,
                    11.9,
                    20.52,
                    6.76,
                    11.71,
                    11.51,
                    11.76,
                    13.78,
                    16.51,
                    26.61,
                    14.84,
                    4.99,
                    9.98,
                    19.91,
                    6.5,
                    8.2,
                    18.86,
                    16.26,
                    3.93,
                    7.66,
                    14.68,
                    6.4,
                    5.31,
                    13.52,
                    7.9,
                    10.86,
                    7.91,
                    21.93,
                    9.51,
                    12.79,
                    9.64,
                    13.31,
                    6.45,
                    9.44,
                    10.04,
                    22.78,
                    11.12,
                    13.99,
                    14.22,
                    15.06,
                    10,
                    7.35,
                    12.18,
                    15.84,
                    9.79,
                    21.3
                  ],
                  "xaxis": "x",
                  "y": [
                    38.42316895,
                    39.01599822,
                    39.14834088,
                    39.06004863,
                    38.65543905,
                    38.6092188,
                    39.47390806,
                    38.81521612,
                    37.77845286,
                    39.17685034,
                    39.52090819,
                    38.57896943,
                    38.28013391,
                    38.40158039,
                    38.65157641,
                    39.61720308,
                    37.72843549,
                    39.36694049,
                    37.98848685,
                    39.93405104,
                    37.60559023,
                    38.83468198,
                    37.39892664,
                    38.98633063,
                    39.72456882,
                    38.09695504,
                    37.59597881,
                    39.49731323,
                    38.50187636,
                    38.27036031,
                    38.69964224,
                    39.08411118,
                    38.29400364,
                    38.39872285,
                    39.29951536,
                    38.37598649,
                    38.46968433,
                    39.58561173,
                    38.12682317,
                    39.80156649,
                    37.92682179,
                    39.67264697,
                    38.21409556,
                    38.93217418,
                    37.80121676,
                    37.52097889,
                    39.34942824,
                    38.9163822,
                    38.72595498,
                    38.35421436,
                    40.17337876,
                    39.48214424,
                    39.9557292,
                    39.02529641,
                    39.70565695,
                    37.87210056,
                    38.92730588,
                    38.75694066,
                    38.98157028,
                    39.07020183,
                    39.31023381,
                    40.26487847,
                    39.19531025,
                    37.46606804,
                    38.61929591,
                    39.74308443,
                    37.9590829,
                    38.52387016,
                    39.58821189,
                    39.48780846,
                    37.32113362,
                    38.30311301,
                    39.32598796,
                    38.18373964,
                    37.78518905,
                    38.97361387,
                    37.97719515,
                    38.92654301,
                    37.98922316,
                    39.87010492,
                    38.51344083,
                    39.14710639,
                    38.61129304,
                    38.95232638,
                    37.46812464,
                    38.24131363,
                    38.7661591,
                    39.87233432,
                    38.87492299,
                    39.09337261,
                    39.00124171,
                    39.25963687,
                    38.6808734,
                    37.93994229,
                    38.79042609,
                    39.48996228,
                    38.57574159,
                    39.76644658
                  ],
                  "yaxis": "y"
                }
              ],
              "layout": {
                "legend": {
                  "tracegroupgap": 0
                },
                "shapes": [
                  {
                    "line": {
                      "color": "rgb(228,26,28)"
                    },
                    "path": "M3.93 37.71361428924518 L 4.043969849246231 37.72823679112109 L 4.157939698492463 37.742859292997004 L 4.2719095477386935 37.75748179487291 L 4.385879396984925 37.77210429674882 L 4.499849246231156 37.786726798624734 L 4.613819095477387 37.80134930050065 L 4.727788944723619 37.81597180237656 L 4.841758793969849 37.830594304252465 L 4.95572864321608 37.84521680612838 L 5.069698492462312 37.85983930800429 L 5.183668341708543 37.8744618098802 L 5.297638190954774 37.88908431175611 L 5.411608040201005 37.90370681363202 L 5.525577889447236 37.91832931550793 L 5.639547738693468 37.932951817383845 L 5.753517587939699 37.94757431925975 L 5.86748743718593 37.96219682113566 L 5.9814572864321605 37.976819323011576 L 6.095427135678392 37.99144182488749 L 6.2093969849246236 38.00606432676339 L 6.323366834170855 38.020686828639306 L 6.437336683417086 38.03530933051522 L 6.551306532663316 38.04993183239113 L 6.665276381909548 38.064554334267044 L 6.7792462311557795 38.07917683614295 L 6.89321608040201 38.09379933801886 L 7.007185929648241 38.108421839894774 L 7.121155778894472 38.12304434177069 L 7.235125628140704 38.13766684364659 L 7.3490954773869355 38.152289345522505 L 7.463065326633166 38.16691184739842 L 7.577035175879397 38.18153434927433 L 7.691005025125628 38.196156851150235 L 7.80497487437186 38.21077935302615 L 7.9189447236180905 38.22540185490206 L 8.032914572864321 38.24002435677797 L 8.146884422110553 38.25464685865388 L 8.260854271356784 38.26926936052979 L 8.374824120603016 38.2838918624057 L 8.488793969849246 38.298514364281615 L 8.602763819095477 38.31313686615752 L 8.716733668341709 38.32775936803343 L 8.83070351758794 38.342381869909346 L 8.944673366834172 38.35700437178526 L 9.058643216080402 38.37162687366117 L 9.172613065326633 38.386249375537076 L 9.286582914572865 38.40087187741299 L 9.400552763819096 38.4154943792889 L 9.514522613065328 38.430116881164814 L 9.628492462311558 38.44473938304072 L 9.742462311557789 38.45936188491663 L 9.85643216080402 38.473984386792544 L 9.970402010050252 38.48860688866846 L 10.084371859296482 38.50322939054436 L 10.198341708542713 38.517851892420275 L 10.312311557788945 38.53247439429619 L 10.426281407035177 38.5470968961721 L 10.540251256281408 38.56171939804801 L 10.654221105527638 38.57634189992392 L 10.76819095477387 38.59096440179983 L 10.882160804020101 38.60558690367574 L 10.996130653266333 38.620209405551655 L 11.110100502512562 38.63483190742756 L 11.224070351758794 38.64945440930347 L 11.338040201005025 38.664076911179386 L 11.452010050251257 38.6786994130553 L 11.565979899497489 38.693321914931204 L 11.679949748743718 38.707944416807116 L 11.79391959798995 38.72256691868303 L 11.907889447236181 38.73718942055894 L 12.021859296482411 38.75181192243485 L 12.135829145728643 38.76643442431076 L 12.249798994974874 38.78105692618667 L 12.363768844221106 38.795679428062584 L 12.477738693467337 38.8103019299385 L 12.591708542713567 38.8249244318144 L 12.705678391959799 38.839546933690315 L 12.81964824120603 38.85416943556623 L 12.933618090452262 38.86879193744214 L 13.047587939698492 38.883414439318045 L 13.161557788944723 38.89803694119396 L 13.275527638190955 38.91265944306987 L 13.389497487437186 38.92728194494578 L 13.503467336683418 38.94190444682169 L 13.617437185929647 38.9565269486976 L 13.731407035175879 38.97114945057351 L 13.84537688442211 38.985771952449426 L 13.959346733668342 39.00039445432533 L 14.073316582914574 39.015016956201244 L 14.187286432160803 39.029639458077156 L 14.301256281407035 39.04426195995307 L 14.415226130653267 39.05888446182898 L 14.529195979899498 39.07350696370489 L 14.643165829145728 39.0881294655808 L 14.75713567839196 39.10275196745671 L 14.871105527638191 39.117374469332624 L 14.985075376884422 39.13199697120853 L 15.099045226130654 39.14661947308444 L 15.213015075376884 39.161241974960355 L 15.326984924623115 39.17586447683627 L 15.440954773869347 39.19048697871217 L 15.554924623115578 39.205109480588085 L 15.668894472361808 39.219731982464 L 15.78286432160804 39.23435448433991 L 15.896834170854271 39.24897698621582 L 16.010804020100505 39.26359948809173 L 16.124773869346736 39.27822198996764 L 16.238743718592964 39.29284449184355 L 16.352713567839196 39.30746699371946 L 16.466683417085427 39.32208949559537 L 16.58065326633166 39.336711997471284 L 16.69462311557789 39.351334499347196 L 16.808592964824122 39.36595700122311 L 16.922562814070353 39.380579503099014 L 17.036532663316585 39.39520200497493 L 17.150502512562817 39.40982450685084 L 17.264472361809045 39.42444700872675 L 17.378442211055276 39.43906951060266 L 17.492412060301508 39.45369201247857 L 17.60638190954774 39.46831451435448 L 17.72035175879397 39.482937016230395 L 17.834321608040202 39.4975595181063 L 17.948291457286434 39.51218201998221 L 18.062261306532665 39.526804521858125 L 18.176231155778897 39.54142702373404 L 18.290201005025125 39.55604952560995 L 18.404170854271356 39.570672027485855 L 18.518140703517588 39.58529452936177 L 18.63211055276382 39.59991703123768 L 18.74608040201005 39.61453953311359 L 18.860050251256283 39.6291620349895 L 18.974020100502514 39.64378453686541 L 19.087989949748746 39.65840703874132 L 19.201959798994977 39.673029540617236 L 19.315929648241205 39.68765204249314 L 19.429899497487437 39.702274544369054 L 19.54386934673367 39.716897046244966 L 19.6578391959799 39.73151954812088 L 19.77180904522613 39.74614204999679 L 19.885778894472363 39.7607645518727 L 19.999748743718595 39.77538705374861 L 20.113718592964823 39.79000955562452 L 20.227688442211054 39.80463205750043 L 20.341658291457286 39.81925455937634 L 20.455628140703517 39.83387706125225 L 20.56959798994975 39.848499563128165 L 20.68356783919598 39.86312206500408 L 20.797537688442212 39.87774456687998 L 20.911507537688443 39.892367068755895 L 21.025477386934675 39.90698957063181 L 21.139447236180903 39.92161207250772 L 21.253417085427134 39.936234574383626 L 21.367386934673366 39.95085707625954 L 21.481356783919598 39.96547957813545 L 21.59532663316583 39.98010208001136 L 21.70929648241206 39.99472458188727 L 21.823266331658292 40.00934708376318 L 21.937236180904524 40.023969585639094 L 22.051206030150755 40.038592087515006 L 22.165175879396983 40.05321458939092 L 22.279145728643215 40.067837091266824 L 22.393115577889446 40.08245959314274 L 22.507085427135678 40.09708209501865 L 22.62105527638191 40.11170459689456 L 22.73502512562814 40.12632709877047 L 22.848994974874373 40.14094960064638 L 22.962964824120604 40.15557210252229 L 23.076934673366836 40.170194604398205 L 23.190904522613067 40.18481710627411 L 23.304874371859295 40.19943960815002 L 23.418844221105527 40.214062110025935 L 23.53281407035176 40.22868461190185 L 23.64678391959799 40.24330711377776 L 23.76075376884422 40.257929615653666 L 23.874723618090453 40.27255211752958 L 23.988693467336685 40.28717461940549 L 24.102663316582916 40.3017971212814 L 24.216633165829148 40.31641962315731 L 24.330603015075376 40.33104212503322 L 24.444572864321607 40.345664626909134 L 24.55854271356784 40.360287128785046 L 24.67251256281407 40.37490963066095 L 24.786482412060302 40.389532132536864 L 24.900452261306533 40.40415463441278 L 25.014422110552765 40.41877713628869 L 25.128391959798996 40.433399638164595 L 25.242361809045228 40.44802214004051 L 25.356331658291456 40.46264464191642 L 25.470301507537688 40.47726714379233 L 25.58427135678392 40.49188964566824 L 25.69824120603015 40.50651214754415 L 25.812211055276382 40.52113464942006 L 25.926180904522614 40.535757151295975 L 26.040150753768845 40.55037965317189 L 26.154120603015077 40.56500215504779 L 26.26809045226131 40.579624656923706 L 26.382060301507536 40.59424715879962 L 26.496030150753768 40.60886966067553 L 26.61 40.623492162551436",
                    "type": "path"
                  }
                ],
                "template": {
                  "data": {
                    "bar": [
                      {
                        "error_x": {
                          "color": "#2a3f5f"
                        },
                        "error_y": {
                          "color": "#2a3f5f"
                        },
                        "marker": {
                          "line": {
                            "color": "white",
                            "width": 0.5
                          },
                          "pattern": {
                            "fillmode": "overlay",
                            "size": 10,
                            "solidity": 0.2
                          }
                        },
                        "type": "bar"
                      }
                    ],
                    "barpolar": [
                      {
                        "marker": {
                          "line": {
                            "color": "white",
                            "width": 0.5
                          },
                          "pattern": {
                            "fillmode": "overlay",
                            "size": 10,
                            "solidity": 0.2
                          }
                        },
                        "type": "barpolar"
                      }
                    ],
                    "box": [
                      {
                        "boxpoints": "outliers",
                        "notched": false,
                        "type": "box"
                      }
                    ],
                    "carpet": [
                      {
                        "aaxis": {
                          "endlinecolor": "#2a3f5f",
                          "gridcolor": "#C8D4E3",
                          "linecolor": "#C8D4E3",
                          "minorgridcolor": "#C8D4E3",
                          "startlinecolor": "#2a3f5f"
                        },
                        "baxis": {
                          "endlinecolor": "#2a3f5f",
                          "gridcolor": "#C8D4E3",
                          "linecolor": "#C8D4E3",
                          "minorgridcolor": "#C8D4E3",
                          "startlinecolor": "#2a3f5f"
                        },
                        "type": "carpet"
                      }
                    ],
                    "choropleth": [
                      {
                        "colorbar": {
                          "outlinewidth": 0,
                          "ticks": ""
                        },
                        "type": "choropleth"
                      }
                    ],
                    "contour": [
                      {
                        "colorbar": {
                          "outlinewidth": 0,
                          "ticks": ""
                        },
                        "colorscale": [
                          [
                            0,
                            "#0d0887"
                          ],
                          [
                            0.1111111111111111,
                            "#46039f"
                          ],
                          [
                            0.2222222222222222,
                            "#7201a8"
                          ],
                          [
                            0.3333333333333333,
                            "#9c179e"
                          ],
                          [
                            0.4444444444444444,
                            "#bd3786"
                          ],
                          [
                            0.5555555555555556,
                            "#d8576b"
                          ],
                          [
                            0.6666666666666666,
                            "#ed7953"
                          ],
                          [
                            0.7777777777777778,
                            "#fb9f3a"
                          ],
                          [
                            0.8888888888888888,
                            "#fdca26"
                          ],
                          [
                            1,
                            "#f0f921"
                          ]
                        ],
                        "type": "contour"
                      }
                    ],
                    "contourcarpet": [
                      {
                        "colorbar": {
                          "outlinewidth": 0,
                          "ticks": ""
                        },
                        "type": "contourcarpet"
                      }
                    ],
                    "heatmap": [
                      {
                        "colorbar": {
                          "outlinewidth": 0,
                          "ticks": ""
                        },
                        "colorscale": [
                          [
                            0,
                            "#0d0887"
                          ],
                          [
                            0.1111111111111111,
                            "#46039f"
                          ],
                          [
                            0.2222222222222222,
                            "#7201a8"
                          ],
                          [
                            0.3333333333333333,
                            "#9c179e"
                          ],
                          [
                            0.4444444444444444,
                            "#bd3786"
                          ],
                          [
                            0.5555555555555556,
                            "#d8576b"
                          ],
                          [
                            0.6666666666666666,
                            "#ed7953"
                          ],
                          [
                            0.7777777777777778,
                            "#fb9f3a"
                          ],
                          [
                            0.8888888888888888,
                            "#fdca26"
                          ],
                          [
                            1,
                            "#f0f921"
                          ]
                        ],
                        "type": "heatmap"
                      }
                    ],
                    "heatmapgl": [
                      {
                        "colorbar": {
                          "outlinewidth": 0,
                          "ticks": ""
                        },
                        "colorscale": [
                          [
                            0,
                            "#0d0887"
                          ],
                          [
                            0.1111111111111111,
                            "#46039f"
                          ],
                          [
                            0.2222222222222222,
                            "#7201a8"
                          ],
                          [
                            0.3333333333333333,
                            "#9c179e"
                          ],
                          [
                            0.4444444444444444,
                            "#bd3786"
                          ],
                          [
                            0.5555555555555556,
                            "#d8576b"
                          ],
                          [
                            0.6666666666666666,
                            "#ed7953"
                          ],
                          [
                            0.7777777777777778,
                            "#fb9f3a"
                          ],
                          [
                            0.8888888888888888,
                            "#fdca26"
                          ],
                          [
                            1,
                            "#f0f921"
                          ]
                        ],
                        "type": "heatmapgl"
                      }
                    ],
                    "histogram": [
                      {
                        "marker": {
                          "line": {
                            "width": 1
                          },
                          "pattern": {
                            "fillmode": "overlay",
                            "size": 10,
                            "solidity": 0.2
                          }
                        },
                        "type": "histogram"
                      }
                    ],
                    "histogram2d": [
                      {
                        "colorbar": {
                          "outlinewidth": 0,
                          "ticks": ""
                        },
                        "colorscale": [
                          [
                            0,
                            "#0d0887"
                          ],
                          [
                            0.1111111111111111,
                            "#46039f"
                          ],
                          [
                            0.2222222222222222,
                            "#7201a8"
                          ],
                          [
                            0.3333333333333333,
                            "#9c179e"
                          ],
                          [
                            0.4444444444444444,
                            "#bd3786"
                          ],
                          [
                            0.5555555555555556,
                            "#d8576b"
                          ],
                          [
                            0.6666666666666666,
                            "#ed7953"
                          ],
                          [
                            0.7777777777777778,
                            "#fb9f3a"
                          ],
                          [
                            0.8888888888888888,
                            "#fdca26"
                          ],
                          [
                            1,
                            "#f0f921"
                          ]
                        ],
                        "type": "histogram2d"
                      }
                    ],
                    "histogram2dcontour": [
                      {
                        "colorbar": {
                          "outlinewidth": 0,
                          "ticks": ""
                        },
                        "colorscale": [
                          [
                            0,
                            "#0d0887"
                          ],
                          [
                            0.1111111111111111,
                            "#46039f"
                          ],
                          [
                            0.2222222222222222,
                            "#7201a8"
                          ],
                          [
                            0.3333333333333333,
                            "#9c179e"
                          ],
                          [
                            0.4444444444444444,
                            "#bd3786"
                          ],
                          [
                            0.5555555555555556,
                            "#d8576b"
                          ],
                          [
                            0.6666666666666666,
                            "#ed7953"
                          ],
                          [
                            0.7777777777777778,
                            "#fb9f3a"
                          ],
                          [
                            0.8888888888888888,
                            "#fdca26"
                          ],
                          [
                            1,
                            "#f0f921"
                          ]
                        ],
                        "type": "histogram2dcontour"
                      }
                    ],
                    "mesh3d": [
                      {
                        "colorbar": {
                          "outlinewidth": 0,
                          "ticks": ""
                        },
                        "type": "mesh3d"
                      }
                    ],
                    "parcoords": [
                      {
                        "line": {
                          "colorbar": {
                            "outlinewidth": 0,
                            "ticks": ""
                          }
                        },
                        "type": "parcoords"
                      }
                    ],
                    "pie": [
                      {
                        "automargin": true,
                        "type": "pie"
                      }
                    ],
                    "scatter": [
                      {
                        "fillpattern": {
                          "fillmode": "overlay",
                          "size": 10,
                          "solidity": 0.2
                        },
                        "marker": {
                          "opacity": 0.8
                        },
                        "type": "scatter"
                      }
                    ],
                    "scatter3d": [
                      {
                        "line": {
                          "colorbar": {
                            "outlinewidth": 0,
                            "ticks": ""
                          }
                        },
                        "marker": {
                          "colorbar": {
                            "outlinewidth": 0,
                            "ticks": ""
                          },
                          "opacity": 0.8
                        },
                        "type": "scatter3d"
                      }
                    ],
                    "scattercarpet": [
                      {
                        "marker": {
                          "colorbar": {
                            "outlinewidth": 0,
                            "ticks": ""
                          }
                        },
                        "type": "scattercarpet"
                      }
                    ],
                    "scattergeo": [
                      {
                        "marker": {
                          "colorbar": {
                            "outlinewidth": 0,
                            "ticks": ""
                          }
                        },
                        "type": "scattergeo"
                      }
                    ],
                    "scattergl": [
                      {
                        "marker": {
                          "colorbar": {
                            "outlinewidth": 0,
                            "ticks": ""
                          }
                        },
                        "type": "scattergl"
                      }
                    ],
                    "scattermapbox": [
                      {
                        "marker": {
                          "colorbar": {
                            "outlinewidth": 0,
                            "ticks": ""
                          }
                        },
                        "type": "scattermapbox"
                      }
                    ],
                    "scatterpolar": [
                      {
                        "marker": {
                          "colorbar": {
                            "outlinewidth": 0,
                            "ticks": ""
                          }
                        },
                        "type": "scatterpolar"
                      }
                    ],
                    "scatterpolargl": [
                      {
                        "marker": {
                          "colorbar": {
                            "outlinewidth": 0,
                            "ticks": ""
                          }
                        },
                        "type": "scatterpolargl"
                      }
                    ],
                    "scatterternary": [
                      {
                        "marker": {
                          "colorbar": {
                            "outlinewidth": 0,
                            "ticks": ""
                          }
                        },
                        "type": "scatterternary"
                      }
                    ],
                    "surface": [
                      {
                        "colorbar": {
                          "outlinewidth": 0,
                          "ticks": ""
                        },
                        "colorscale": [
                          [
                            0,
                            "#0d0887"
                          ],
                          [
                            0.1111111111111111,
                            "#46039f"
                          ],
                          [
                            0.2222222222222222,
                            "#7201a8"
                          ],
                          [
                            0.3333333333333333,
                            "#9c179e"
                          ],
                          [
                            0.4444444444444444,
                            "#bd3786"
                          ],
                          [
                            0.5555555555555556,
                            "#d8576b"
                          ],
                          [
                            0.6666666666666666,
                            "#ed7953"
                          ],
                          [
                            0.7777777777777778,
                            "#fb9f3a"
                          ],
                          [
                            0.8888888888888888,
                            "#fdca26"
                          ],
                          [
                            1,
                            "#f0f921"
                          ]
                        ],
                        "type": "surface"
                      }
                    ],
                    "table": [
                      {
                        "cells": {
                          "fill": {
                            "color": "#EBF0F8"
                          },
                          "line": {
                            "color": "white"
                          }
                        },
                        "header": {
                          "fill": {
                            "color": "#C8D4E3"
                          },
                          "line": {
                            "color": "white"
                          }
                        },
                        "type": "table"
                      }
                    ]
                  },
                  "layout": {
                    "annotationdefaults": {
                      "arrowcolor": "#2a3f5f",
                      "arrowhead": 0,
                      "arrowwidth": 1
                    },
                    "autotypenumbers": "strict",
                    "coloraxis": {
                      "colorbar": {
                        "outlinewidth": 0,
                        "ticks": ""
                      }
                    },
                    "colorscale": {
                      "diverging": [
                        [
                          0,
                          "#8e0152"
                        ],
                        [
                          0.1,
                          "#c51b7d"
                        ],
                        [
                          0.2,
                          "#de77ae"
                        ],
                        [
                          0.3,
                          "#f1b6da"
                        ],
                        [
                          0.4,
                          "#fde0ef"
                        ],
                        [
                          0.5,
                          "#f7f7f7"
                        ],
                        [
                          0.6,
                          "#e6f5d0"
                        ],
                        [
                          0.7,
                          "#b8e186"
                        ],
                        [
                          0.8,
                          "#7fbc41"
                        ],
                        [
                          0.9,
                          "#4d9221"
                        ],
                        [
                          1,
                          "#276419"
                        ]
                      ],
                      "sequential": [
                        [
                          0,
                          "#0d0887"
                        ],
                        [
                          0.1111111111111111,
                          "#46039f"
                        ],
                        [
                          0.2222222222222222,
                          "#7201a8"
                        ],
                        [
                          0.3333333333333333,
                          "#9c179e"
                        ],
                        [
                          0.4444444444444444,
                          "#bd3786"
                        ],
                        [
                          0.5555555555555556,
                          "#d8576b"
                        ],
                        [
                          0.6666666666666666,
                          "#ed7953"
                        ],
                        [
                          0.7777777777777778,
                          "#fb9f3a"
                        ],
                        [
                          0.8888888888888888,
                          "#fdca26"
                        ],
                        [
                          1,
                          "#f0f921"
                        ]
                      ],
                      "sequentialminus": [
                        [
                          0,
                          "#0d0887"
                        ],
                        [
                          0.1111111111111111,
                          "#46039f"
                        ],
                        [
                          0.2222222222222222,
                          "#7201a8"
                        ],
                        [
                          0.3333333333333333,
                          "#9c179e"
                        ],
                        [
                          0.4444444444444444,
                          "#bd3786"
                        ],
                        [
                          0.5555555555555556,
                          "#d8576b"
                        ],
                        [
                          0.6666666666666666,
                          "#ed7953"
                        ],
                        [
                          0.7777777777777778,
                          "#fb9f3a"
                        ],
                        [
                          0.8888888888888888,
                          "#fdca26"
                        ],
                        [
                          1,
                          "#f0f921"
                        ]
                      ]
                    },
                    "colorway": [
                      "#636efa",
                      "#EF553B",
                      "#00cc96",
                      "#ab63fa",
                      "#FFA15A",
                      "#19d3f3",
                      "#FF6692",
                      "#B6E880",
                      "#FF97FF",
                      "#FECB52"
                    ],
                    "font": {
                      "color": "#2a3f5f"
                    },
                    "geo": {
                      "bgcolor": "white",
                      "lakecolor": "white",
                      "landcolor": "white",
                      "showlakes": true,
                      "showland": true,
                      "subunitcolor": "#C8D4E3"
                    },
                    "height": 400,
                    "hoverlabel": {
                      "align": "left"
                    },
                    "hovermode": "closest",
                    "mapbox": {
                      "style": "light"
                    },
                    "margin": {
                      "b": 2,
                      "l": 2,
                      "r": 2,
                      "t": 30
                    },
                    "paper_bgcolor": "white",
                    "plot_bgcolor": "white",
                    "polar": {
                      "angularaxis": {
                        "gridcolor": "#EBF0F8",
                        "linecolor": "#EBF0F8",
                        "ticks": ""
                      },
                      "bgcolor": "white",
                      "radialaxis": {
                        "gridcolor": "#EBF0F8",
                        "linecolor": "#EBF0F8",
                        "ticks": ""
                      }
                    },
                    "scene": {
                      "camera": {
                        "eye": {
                          "x": 1.5,
                          "y": 1.5,
                          "z": 0.1
                        }
                      },
                      "xaxis": {
                        "backgroundcolor": "white",
                        "gridcolor": "#DFE8F3",
                        "gridwidth": 2,
                        "linecolor": "#EBF0F8",
                        "showbackground": true,
                        "ticks": "",
                        "zerolinecolor": "#EBF0F8"
                      },
                      "yaxis": {
                        "backgroundcolor": "white",
                        "gridcolor": "#DFE8F3",
                        "gridwidth": 2,
                        "linecolor": "#EBF0F8",
                        "showbackground": true,
                        "ticks": "",
                        "zerolinecolor": "#EBF0F8"
                      },
                      "zaxis": {
                        "backgroundcolor": "white",
                        "gridcolor": "#DFE8F3",
                        "gridwidth": 2,
                        "linecolor": "#EBF0F8",
                        "showbackground": true,
                        "ticks": "",
                        "zerolinecolor": "#EBF0F8"
                      }
                    },
                    "shapedefaults": {
                      "line": {
                        "color": "#2a3f5f"
                      }
                    },
                    "ternary": {
                      "aaxis": {
                        "gridcolor": "#DFE8F3",
                        "linecolor": "#A2B1C6",
                        "ticks": ""
                      },
                      "baxis": {
                        "gridcolor": "#DFE8F3",
                        "linecolor": "#A2B1C6",
                        "ticks": ""
                      },
                      "bgcolor": "white",
                      "caxis": {
                        "gridcolor": "#DFE8F3",
                        "linecolor": "#A2B1C6",
                        "ticks": ""
                      }
                    },
                    "title": {
                      "x": 0.5
                    },
                    "xaxis": {
                      "automargin": true,
                      "gridcolor": "#EBF0F8",
                      "linecolor": "#EBF0F8",
                      "linewidth": 2,
                      "showline": true,
                      "ticks": "",
                      "title": {
                        "standoff": 15
                      },
                      "zerolinecolor": "#EBF0F8",
                      "zerolinewidth": 2
                    },
                    "yaxis": {
                      "automargin": true,
                      "gridcolor": "#EBF0F8",
                      "linecolor": "#EBF0F8",
                      "linewidth": 2,
                      "showline": true,
                      "ticks": "",
                      "title": {
                        "standoff": 15
                      },
                      "zerolinecolor": "#EBF0F8",
                      "zerolinewidth": 2
                    }
                  }
                },
                "title": {
                  "text": "protein_content_of_last_meal"
                },
                "xaxis": {
                  "anchor": "y",
                  "domain": [
                    0,
                    1
                  ],
                  "title": {
                    "text": "protein content of last meal"
                  }
                },
                "yaxis": {
                  "anchor": "x",
                  "domain": [
                    0,
                    1
                  ],
                  "title": {
                    "text": "core temperature"
                  }
                }
              }
            }
          },
          "metadata": {},
          "output_type": "display_data"
        },
        {
          "name": "stdout",
          "output_type": "stream",
          "text": [
            "body_fat_percentage\n",
            "R-squared: 0.00020809002637689478\n"
          ]
        },
        {
          "name": "stderr",
          "output_type": "stream",
          "text": [
            "/var/folders/yl/5cj99xpd0cg5xn4st7_dyz6m0000gn/T/ipykernel_65619/3182011243.py:17: FutureWarning:\n",
            "\n",
            "Series.__getitem__ treating keys as positions is deprecated. In a future version, integer keys will always be treated as labels (consistent with DataFrame behavior). To access a value by position, use `ser.iloc[pos]`\n",
            "\n"
          ]
        },
        {
          "data": {
            "application/vnd.plotly.v1+json": {
              "config": {
                "plotlyServerURL": "https://plot.ly"
              },
              "data": [
                {
                  "hovertemplate": "body fat percentage=%{x}<br>core temperature=%{y}<extra></extra>",
                  "legendgroup": "",
                  "marker": {
                    "color": "#636efa",
                    "size": 17,
                    "symbol": "circle"
                  },
                  "mode": "markers",
                  "name": "",
                  "orientation": "v",
                  "showlegend": false,
                  "type": "scatter",
                  "x": [
                    38,
                    32,
                    12,
                    23,
                    15,
                    14,
                    25,
                    18,
                    34,
                    31,
                    13,
                    18,
                    26,
                    36,
                    31,
                    12,
                    30,
                    35,
                    11,
                    26,
                    19,
                    36,
                    24,
                    29,
                    20,
                    16,
                    17,
                    17,
                    32,
                    12,
                    20,
                    34,
                    29,
                    12,
                    36,
                    39,
                    12,
                    15,
                    35,
                    32,
                    39,
                    31,
                    17,
                    20,
                    40,
                    40,
                    23,
                    38,
                    18,
                    28,
                    40,
                    28,
                    40,
                    11,
                    16,
                    39,
                    20,
                    39,
                    15,
                    21,
                    16,
                    33,
                    40,
                    19,
                    38,
                    20,
                    17,
                    40,
                    36,
                    23,
                    10,
                    30,
                    38,
                    23,
                    35,
                    27,
                    21,
                    16,
                    40,
                    29,
                    20,
                    11,
                    37,
                    33,
                    15,
                    25,
                    39,
                    25,
                    38,
                    36,
                    29,
                    30,
                    18,
                    38,
                    11,
                    20,
                    32,
                    21
                  ],
                  "xaxis": "x",
                  "y": [
                    38.42316895,
                    39.01599822,
                    39.14834088,
                    39.06004863,
                    38.65543905,
                    38.6092188,
                    39.47390806,
                    38.81521612,
                    37.77845286,
                    39.17685034,
                    39.52090819,
                    38.57896943,
                    38.28013391,
                    38.40158039,
                    38.65157641,
                    39.61720308,
                    37.72843549,
                    39.36694049,
                    37.98848685,
                    39.93405104,
                    37.60559023,
                    38.83468198,
                    37.39892664,
                    38.98633063,
                    39.72456882,
                    38.09695504,
                    37.59597881,
                    39.49731323,
                    38.50187636,
                    38.27036031,
                    38.69964224,
                    39.08411118,
                    38.29400364,
                    38.39872285,
                    39.29951536,
                    38.37598649,
                    38.46968433,
                    39.58561173,
                    38.12682317,
                    39.80156649,
                    37.92682179,
                    39.67264697,
                    38.21409556,
                    38.93217418,
                    37.80121676,
                    37.52097889,
                    39.34942824,
                    38.9163822,
                    38.72595498,
                    38.35421436,
                    40.17337876,
                    39.48214424,
                    39.9557292,
                    39.02529641,
                    39.70565695,
                    37.87210056,
                    38.92730588,
                    38.75694066,
                    38.98157028,
                    39.07020183,
                    39.31023381,
                    40.26487847,
                    39.19531025,
                    37.46606804,
                    38.61929591,
                    39.74308443,
                    37.9590829,
                    38.52387016,
                    39.58821189,
                    39.48780846,
                    37.32113362,
                    38.30311301,
                    39.32598796,
                    38.18373964,
                    37.78518905,
                    38.97361387,
                    37.97719515,
                    38.92654301,
                    37.98922316,
                    39.87010492,
                    38.51344083,
                    39.14710639,
                    38.61129304,
                    38.95232638,
                    37.46812464,
                    38.24131363,
                    38.7661591,
                    39.87233432,
                    38.87492299,
                    39.09337261,
                    39.00124171,
                    39.25963687,
                    38.6808734,
                    37.93994229,
                    38.79042609,
                    39.48996228,
                    38.57574159,
                    39.76644658
                  ],
                  "yaxis": "y"
                }
              ],
              "layout": {
                "legend": {
                  "tracegroupgap": 0
                },
                "shapes": [
                  {
                    "line": {
                      "color": "rgb(228,26,28)"
                    },
                    "path": "M10.0 38.75943880428585 L 10.150753768844222 38.75959842033663 L 10.301507537688442 38.75975803638742 L 10.452261306532662 38.759917652438205 L 10.603015075376884 38.760077268488985 L 10.753768844221106 38.76023688453977 L 10.904522613065327 38.76039650059056 L 11.055276381909547 38.76055611664134 L 11.206030150753769 38.76071573269213 L 11.35678391959799 38.760875348742914 L 11.507537688442211 38.761034964793694 L 11.658291457286431 38.76119458084448 L 11.809045226130653 38.76135419689527 L 11.959798994974875 38.76151381294605 L 12.110552763819095 38.761673428996836 L 12.261306532663315 38.76183304504762 L 12.412060301507537 38.761992661098404 L 12.56281407035176 38.76215227714919 L 12.71356783919598 38.76231189319997 L 12.8643216080402 38.76247150925076 L 13.015075376884422 38.762631125301546 L 13.165829145728644 38.762790741352326 L 13.316582914572864 38.76295035740311 L 13.467336683417084 38.7631099734539 L 13.618090452261306 38.76326958950468 L 13.768844221105528 38.76342920555547 L 13.919597989949748 38.763588821606255 L 14.070351758793969 38.763748437657036 L 14.22110552763819 38.76390805370782 L 14.371859296482413 38.76406766975861 L 14.522613065326633 38.76422728580939 L 14.673366834170853 38.76438690186018 L 14.824120603015075 38.764546517910965 L 14.974874371859297 38.764706133961745 L 15.125628140703517 38.76486575001253 L 15.276381909547737 38.76502536606332 L 15.42713567839196 38.7651849821141 L 15.577889447236181 38.76534459816489 L 15.728643216080402 38.765504214215674 L 15.879396984924622 38.765663830266455 L 16.030150753768844 38.76582344631724 L 16.180904522613066 38.76598306236803 L 16.331658291457288 38.76614267841881 L 16.482412060301506 38.7663022944696 L 16.633165829145728 38.766461910520384 L 16.78391959798995 38.766621526571164 L 16.93467336683417 38.76678114262195 L 17.08542713567839 38.76694075867274 L 17.236180904522612 38.76710037472352 L 17.386934673366834 38.767259990774306 L 17.537688442211056 38.767419606825094 L 17.688442211055275 38.767579222875874 L 17.839195979899497 38.76773883892666 L 17.98994974874372 38.76789845497745 L 18.140703517587937 38.76805807102823 L 18.29145728643216 38.768217687079016 L 18.44221105527638 38.7683773031298 L 18.592964824120603 38.76853691918058 L 18.743718592964825 38.76869653523137 L 18.894472361809044 38.76885615128216 L 19.045226130653266 38.76901576733294 L 19.195979899497488 38.769175383383725 L 19.346733668341706 38.76933499943451 L 19.497487437185928 38.76949461548529 L 19.64824120603015 38.76965423153608 L 19.798994974874372 38.76981384758687 L 19.949748743718594 38.76997346363765 L 20.100502512562812 38.770133079688435 L 20.251256281407034 38.77029269573922 L 20.402010050251256 38.77045231179 L 20.552763819095475 38.77061192784079 L 20.703517587939697 38.77077154389158 L 20.85427135678392 38.77093115994236 L 21.00502512562814 38.771090775993144 L 21.155778894472363 38.77125039204393 L 21.30653266331658 38.77141000809471 L 21.457286432160803 38.7715696241455 L 21.608040201005025 38.77172924019629 L 21.758793969849243 38.77188885624707 L 21.909547738693465 38.772048472297854 L 22.060301507537687 38.77220808834864 L 22.21105527638191 38.77236770439942 L 22.36180904522613 38.77252732045021 L 22.51256281407035 38.77268693650099 L 22.66331658291457 38.772846552551776 L 22.814070351758794 38.77300616860256 L 22.964824120603012 38.773165784653344 L 23.115577889447234 38.77332540070413 L 23.266331658291456 38.77348501675492 L 23.417085427135678 38.7736446328057 L 23.5678391959799 38.773804248856486 L 23.71859296482412 38.77396386490727 L 23.86934673366834 38.77412348095805 L 24.020100502512562 38.77428309700884 L 24.17085427135678 38.77444271305963 L 24.321608040201003 38.77460232911041 L 24.472361809045225 38.774761945161195 L 24.623115577889447 38.77492156121198 L 24.77386934673367 38.77508117726276 L 24.924623115577887 38.77524079331355 L 25.07537688442211 38.77540040936434 L 25.22613065326633 38.77556002541512 L 25.37688442211055 38.775719641465905 L 25.52763819095477 38.77587925751669 L 25.678391959798994 38.77603887356747 L 25.829145728643216 38.77619848961826 L 25.979899497487438 38.77635810566905 L 26.130653266331656 38.77651772171983 L 26.281407035175878 38.776677337770614 L 26.4321608040201 38.7768369538214 L 26.58291457286432 38.77699656987218 L 26.73366834170854 38.77715618592297 L 26.884422110552762 38.77731580197376 L 27.035175879396984 38.77747541802454 L 27.185929648241206 38.777635034075324 L 27.336683417085425 38.77779465012611 L 27.487437185929647 38.77795426617689 L 27.63819095477387 38.77811388222768 L 27.788944723618087 38.778273498278466 L 27.93969849246231 38.778433114329246 L 28.09045226130653 38.77859273038003 L 28.241206030150753 38.77875234643082 L 28.391959798994975 38.7789119624816 L 28.542713567839193 38.77907157853239 L 28.693467336683415 38.779231194583176 L 28.844221105527637 38.779390810633956 L 28.994974874371856 38.77955042668474 L 29.145728643216078 38.77971004273553 L 29.2964824120603 38.77986965878631 L 29.44723618090452 38.7800292748371 L 29.597989949748744 38.780188890887885 L 29.748743718592962 38.780348506938665 L 29.899497487437184 38.78050812298945 L 30.050251256281406 38.78066773904024 L 30.201005025125625 38.78082735509102 L 30.351758793969847 38.78098697114181 L 30.50251256281407 38.781146587192595 L 30.65326633165829 38.781306203243375 L 30.804020100502512 38.78146581929416 L 30.95477386934673 38.78162543534495 L 31.105527638190953 38.78178505139573 L 31.256281407035175 38.78194466744652 L 31.407035175879393 38.782104283497304 L 31.557788944723615 38.782263899548084 L 31.708542713567837 38.78242351559887 L 31.85929648241206 38.78258313164966 L 32.01005025125628 38.78274274770044 L 32.1608040201005 38.78290236375123 L 32.311557788944725 38.783061979802014 L 32.462311557788944 38.783221595852794 L 32.61306532663316 38.78338121190358 L 32.76381909547739 38.78354082795437 L 32.914572864321606 38.78370044400515 L 33.065326633165824 38.783860060055936 L 33.21608040201005 38.784019676106716 L 33.36683417085427 38.7841792921575 L 33.51758793969849 38.78433890820829 L 33.66834170854271 38.78449852425907 L 33.81909547738693 38.78465814030986 L 33.96984924623115 38.784817756360646 L 34.120603015075375 38.784977372411426 L 34.2713567839196 38.78513698846221 L 34.42211055276382 38.785296604513 L 34.57286432160804 38.78545622056378 L 34.72361809045226 38.78561583661457 L 34.87437185929648 38.785775452665355 L 35.0251256281407 38.785935068716135 L 35.175879396984925 38.78609468476692 L 35.32663316582914 38.78625430081771 L 35.47738693467336 38.78641391686849 L 35.62814070351759 38.78657353291928 L 35.778894472361806 38.786733148970065 L 35.929648241206024 38.786892765020845 L 36.08040201005025 38.78705238107163 L 36.23115577889447 38.78721199712242 L 36.38190954773869 38.7873716131732 L 36.53266331658291 38.78753122922399 L 36.68341708542714 38.787690845274774 L 36.834170854271356 38.787850461325554 L 36.984924623115575 38.78801007737634 L 37.1356783919598 38.78816969342713 L 37.28643216080402 38.78832930947791 L 37.43718592964824 38.788488925528696 L 37.58793969849246 38.788648541579484 L 37.73869346733668 38.788808157630264 L 37.8894472361809 38.78896777368105 L 38.040201005025125 38.78912738973184 L 38.19095477386934 38.78928700578262 L 38.34170854271356 38.789446621833406 L 38.49246231155779 38.78960623788419 L 38.643216080402006 38.78976585393497 L 38.793969849246224 38.78992546998576 L 38.94472361809045 38.79008508603655 L 39.095477386934675 38.79024470208733 L 39.246231155778894 38.790404318138116 L 39.39698492462311 38.7905639341889 L 39.54773869346734 38.79072355023968 L 39.698492462311556 38.79088316629047 L 39.849246231155774 38.79104278234126 L 40.0 38.79120239839204",
                    "type": "path"
                  }
                ],
                "template": {
                  "data": {
                    "bar": [
                      {
                        "error_x": {
                          "color": "#2a3f5f"
                        },
                        "error_y": {
                          "color": "#2a3f5f"
                        },
                        "marker": {
                          "line": {
                            "color": "white",
                            "width": 0.5
                          },
                          "pattern": {
                            "fillmode": "overlay",
                            "size": 10,
                            "solidity": 0.2
                          }
                        },
                        "type": "bar"
                      }
                    ],
                    "barpolar": [
                      {
                        "marker": {
                          "line": {
                            "color": "white",
                            "width": 0.5
                          },
                          "pattern": {
                            "fillmode": "overlay",
                            "size": 10,
                            "solidity": 0.2
                          }
                        },
                        "type": "barpolar"
                      }
                    ],
                    "box": [
                      {
                        "boxpoints": "outliers",
                        "notched": false,
                        "type": "box"
                      }
                    ],
                    "carpet": [
                      {
                        "aaxis": {
                          "endlinecolor": "#2a3f5f",
                          "gridcolor": "#C8D4E3",
                          "linecolor": "#C8D4E3",
                          "minorgridcolor": "#C8D4E3",
                          "startlinecolor": "#2a3f5f"
                        },
                        "baxis": {
                          "endlinecolor": "#2a3f5f",
                          "gridcolor": "#C8D4E3",
                          "linecolor": "#C8D4E3",
                          "minorgridcolor": "#C8D4E3",
                          "startlinecolor": "#2a3f5f"
                        },
                        "type": "carpet"
                      }
                    ],
                    "choropleth": [
                      {
                        "colorbar": {
                          "outlinewidth": 0,
                          "ticks": ""
                        },
                        "type": "choropleth"
                      }
                    ],
                    "contour": [
                      {
                        "colorbar": {
                          "outlinewidth": 0,
                          "ticks": ""
                        },
                        "colorscale": [
                          [
                            0,
                            "#0d0887"
                          ],
                          [
                            0.1111111111111111,
                            "#46039f"
                          ],
                          [
                            0.2222222222222222,
                            "#7201a8"
                          ],
                          [
                            0.3333333333333333,
                            "#9c179e"
                          ],
                          [
                            0.4444444444444444,
                            "#bd3786"
                          ],
                          [
                            0.5555555555555556,
                            "#d8576b"
                          ],
                          [
                            0.6666666666666666,
                            "#ed7953"
                          ],
                          [
                            0.7777777777777778,
                            "#fb9f3a"
                          ],
                          [
                            0.8888888888888888,
                            "#fdca26"
                          ],
                          [
                            1,
                            "#f0f921"
                          ]
                        ],
                        "type": "contour"
                      }
                    ],
                    "contourcarpet": [
                      {
                        "colorbar": {
                          "outlinewidth": 0,
                          "ticks": ""
                        },
                        "type": "contourcarpet"
                      }
                    ],
                    "heatmap": [
                      {
                        "colorbar": {
                          "outlinewidth": 0,
                          "ticks": ""
                        },
                        "colorscale": [
                          [
                            0,
                            "#0d0887"
                          ],
                          [
                            0.1111111111111111,
                            "#46039f"
                          ],
                          [
                            0.2222222222222222,
                            "#7201a8"
                          ],
                          [
                            0.3333333333333333,
                            "#9c179e"
                          ],
                          [
                            0.4444444444444444,
                            "#bd3786"
                          ],
                          [
                            0.5555555555555556,
                            "#d8576b"
                          ],
                          [
                            0.6666666666666666,
                            "#ed7953"
                          ],
                          [
                            0.7777777777777778,
                            "#fb9f3a"
                          ],
                          [
                            0.8888888888888888,
                            "#fdca26"
                          ],
                          [
                            1,
                            "#f0f921"
                          ]
                        ],
                        "type": "heatmap"
                      }
                    ],
                    "heatmapgl": [
                      {
                        "colorbar": {
                          "outlinewidth": 0,
                          "ticks": ""
                        },
                        "colorscale": [
                          [
                            0,
                            "#0d0887"
                          ],
                          [
                            0.1111111111111111,
                            "#46039f"
                          ],
                          [
                            0.2222222222222222,
                            "#7201a8"
                          ],
                          [
                            0.3333333333333333,
                            "#9c179e"
                          ],
                          [
                            0.4444444444444444,
                            "#bd3786"
                          ],
                          [
                            0.5555555555555556,
                            "#d8576b"
                          ],
                          [
                            0.6666666666666666,
                            "#ed7953"
                          ],
                          [
                            0.7777777777777778,
                            "#fb9f3a"
                          ],
                          [
                            0.8888888888888888,
                            "#fdca26"
                          ],
                          [
                            1,
                            "#f0f921"
                          ]
                        ],
                        "type": "heatmapgl"
                      }
                    ],
                    "histogram": [
                      {
                        "marker": {
                          "line": {
                            "width": 1
                          },
                          "pattern": {
                            "fillmode": "overlay",
                            "size": 10,
                            "solidity": 0.2
                          }
                        },
                        "type": "histogram"
                      }
                    ],
                    "histogram2d": [
                      {
                        "colorbar": {
                          "outlinewidth": 0,
                          "ticks": ""
                        },
                        "colorscale": [
                          [
                            0,
                            "#0d0887"
                          ],
                          [
                            0.1111111111111111,
                            "#46039f"
                          ],
                          [
                            0.2222222222222222,
                            "#7201a8"
                          ],
                          [
                            0.3333333333333333,
                            "#9c179e"
                          ],
                          [
                            0.4444444444444444,
                            "#bd3786"
                          ],
                          [
                            0.5555555555555556,
                            "#d8576b"
                          ],
                          [
                            0.6666666666666666,
                            "#ed7953"
                          ],
                          [
                            0.7777777777777778,
                            "#fb9f3a"
                          ],
                          [
                            0.8888888888888888,
                            "#fdca26"
                          ],
                          [
                            1,
                            "#f0f921"
                          ]
                        ],
                        "type": "histogram2d"
                      }
                    ],
                    "histogram2dcontour": [
                      {
                        "colorbar": {
                          "outlinewidth": 0,
                          "ticks": ""
                        },
                        "colorscale": [
                          [
                            0,
                            "#0d0887"
                          ],
                          [
                            0.1111111111111111,
                            "#46039f"
                          ],
                          [
                            0.2222222222222222,
                            "#7201a8"
                          ],
                          [
                            0.3333333333333333,
                            "#9c179e"
                          ],
                          [
                            0.4444444444444444,
                            "#bd3786"
                          ],
                          [
                            0.5555555555555556,
                            "#d8576b"
                          ],
                          [
                            0.6666666666666666,
                            "#ed7953"
                          ],
                          [
                            0.7777777777777778,
                            "#fb9f3a"
                          ],
                          [
                            0.8888888888888888,
                            "#fdca26"
                          ],
                          [
                            1,
                            "#f0f921"
                          ]
                        ],
                        "type": "histogram2dcontour"
                      }
                    ],
                    "mesh3d": [
                      {
                        "colorbar": {
                          "outlinewidth": 0,
                          "ticks": ""
                        },
                        "type": "mesh3d"
                      }
                    ],
                    "parcoords": [
                      {
                        "line": {
                          "colorbar": {
                            "outlinewidth": 0,
                            "ticks": ""
                          }
                        },
                        "type": "parcoords"
                      }
                    ],
                    "pie": [
                      {
                        "automargin": true,
                        "type": "pie"
                      }
                    ],
                    "scatter": [
                      {
                        "fillpattern": {
                          "fillmode": "overlay",
                          "size": 10,
                          "solidity": 0.2
                        },
                        "marker": {
                          "opacity": 0.8
                        },
                        "type": "scatter"
                      }
                    ],
                    "scatter3d": [
                      {
                        "line": {
                          "colorbar": {
                            "outlinewidth": 0,
                            "ticks": ""
                          }
                        },
                        "marker": {
                          "colorbar": {
                            "outlinewidth": 0,
                            "ticks": ""
                          },
                          "opacity": 0.8
                        },
                        "type": "scatter3d"
                      }
                    ],
                    "scattercarpet": [
                      {
                        "marker": {
                          "colorbar": {
                            "outlinewidth": 0,
                            "ticks": ""
                          }
                        },
                        "type": "scattercarpet"
                      }
                    ],
                    "scattergeo": [
                      {
                        "marker": {
                          "colorbar": {
                            "outlinewidth": 0,
                            "ticks": ""
                          }
                        },
                        "type": "scattergeo"
                      }
                    ],
                    "scattergl": [
                      {
                        "marker": {
                          "colorbar": {
                            "outlinewidth": 0,
                            "ticks": ""
                          }
                        },
                        "type": "scattergl"
                      }
                    ],
                    "scattermapbox": [
                      {
                        "marker": {
                          "colorbar": {
                            "outlinewidth": 0,
                            "ticks": ""
                          }
                        },
                        "type": "scattermapbox"
                      }
                    ],
                    "scatterpolar": [
                      {
                        "marker": {
                          "colorbar": {
                            "outlinewidth": 0,
                            "ticks": ""
                          }
                        },
                        "type": "scatterpolar"
                      }
                    ],
                    "scatterpolargl": [
                      {
                        "marker": {
                          "colorbar": {
                            "outlinewidth": 0,
                            "ticks": ""
                          }
                        },
                        "type": "scatterpolargl"
                      }
                    ],
                    "scatterternary": [
                      {
                        "marker": {
                          "colorbar": {
                            "outlinewidth": 0,
                            "ticks": ""
                          }
                        },
                        "type": "scatterternary"
                      }
                    ],
                    "surface": [
                      {
                        "colorbar": {
                          "outlinewidth": 0,
                          "ticks": ""
                        },
                        "colorscale": [
                          [
                            0,
                            "#0d0887"
                          ],
                          [
                            0.1111111111111111,
                            "#46039f"
                          ],
                          [
                            0.2222222222222222,
                            "#7201a8"
                          ],
                          [
                            0.3333333333333333,
                            "#9c179e"
                          ],
                          [
                            0.4444444444444444,
                            "#bd3786"
                          ],
                          [
                            0.5555555555555556,
                            "#d8576b"
                          ],
                          [
                            0.6666666666666666,
                            "#ed7953"
                          ],
                          [
                            0.7777777777777778,
                            "#fb9f3a"
                          ],
                          [
                            0.8888888888888888,
                            "#fdca26"
                          ],
                          [
                            1,
                            "#f0f921"
                          ]
                        ],
                        "type": "surface"
                      }
                    ],
                    "table": [
                      {
                        "cells": {
                          "fill": {
                            "color": "#EBF0F8"
                          },
                          "line": {
                            "color": "white"
                          }
                        },
                        "header": {
                          "fill": {
                            "color": "#C8D4E3"
                          },
                          "line": {
                            "color": "white"
                          }
                        },
                        "type": "table"
                      }
                    ]
                  },
                  "layout": {
                    "annotationdefaults": {
                      "arrowcolor": "#2a3f5f",
                      "arrowhead": 0,
                      "arrowwidth": 1
                    },
                    "autotypenumbers": "strict",
                    "coloraxis": {
                      "colorbar": {
                        "outlinewidth": 0,
                        "ticks": ""
                      }
                    },
                    "colorscale": {
                      "diverging": [
                        [
                          0,
                          "#8e0152"
                        ],
                        [
                          0.1,
                          "#c51b7d"
                        ],
                        [
                          0.2,
                          "#de77ae"
                        ],
                        [
                          0.3,
                          "#f1b6da"
                        ],
                        [
                          0.4,
                          "#fde0ef"
                        ],
                        [
                          0.5,
                          "#f7f7f7"
                        ],
                        [
                          0.6,
                          "#e6f5d0"
                        ],
                        [
                          0.7,
                          "#b8e186"
                        ],
                        [
                          0.8,
                          "#7fbc41"
                        ],
                        [
                          0.9,
                          "#4d9221"
                        ],
                        [
                          1,
                          "#276419"
                        ]
                      ],
                      "sequential": [
                        [
                          0,
                          "#0d0887"
                        ],
                        [
                          0.1111111111111111,
                          "#46039f"
                        ],
                        [
                          0.2222222222222222,
                          "#7201a8"
                        ],
                        [
                          0.3333333333333333,
                          "#9c179e"
                        ],
                        [
                          0.4444444444444444,
                          "#bd3786"
                        ],
                        [
                          0.5555555555555556,
                          "#d8576b"
                        ],
                        [
                          0.6666666666666666,
                          "#ed7953"
                        ],
                        [
                          0.7777777777777778,
                          "#fb9f3a"
                        ],
                        [
                          0.8888888888888888,
                          "#fdca26"
                        ],
                        [
                          1,
                          "#f0f921"
                        ]
                      ],
                      "sequentialminus": [
                        [
                          0,
                          "#0d0887"
                        ],
                        [
                          0.1111111111111111,
                          "#46039f"
                        ],
                        [
                          0.2222222222222222,
                          "#7201a8"
                        ],
                        [
                          0.3333333333333333,
                          "#9c179e"
                        ],
                        [
                          0.4444444444444444,
                          "#bd3786"
                        ],
                        [
                          0.5555555555555556,
                          "#d8576b"
                        ],
                        [
                          0.6666666666666666,
                          "#ed7953"
                        ],
                        [
                          0.7777777777777778,
                          "#fb9f3a"
                        ],
                        [
                          0.8888888888888888,
                          "#fdca26"
                        ],
                        [
                          1,
                          "#f0f921"
                        ]
                      ]
                    },
                    "colorway": [
                      "#636efa",
                      "#EF553B",
                      "#00cc96",
                      "#ab63fa",
                      "#FFA15A",
                      "#19d3f3",
                      "#FF6692",
                      "#B6E880",
                      "#FF97FF",
                      "#FECB52"
                    ],
                    "font": {
                      "color": "#2a3f5f"
                    },
                    "geo": {
                      "bgcolor": "white",
                      "lakecolor": "white",
                      "landcolor": "white",
                      "showlakes": true,
                      "showland": true,
                      "subunitcolor": "#C8D4E3"
                    },
                    "height": 400,
                    "hoverlabel": {
                      "align": "left"
                    },
                    "hovermode": "closest",
                    "mapbox": {
                      "style": "light"
                    },
                    "margin": {
                      "b": 2,
                      "l": 2,
                      "r": 2,
                      "t": 30
                    },
                    "paper_bgcolor": "white",
                    "plot_bgcolor": "white",
                    "polar": {
                      "angularaxis": {
                        "gridcolor": "#EBF0F8",
                        "linecolor": "#EBF0F8",
                        "ticks": ""
                      },
                      "bgcolor": "white",
                      "radialaxis": {
                        "gridcolor": "#EBF0F8",
                        "linecolor": "#EBF0F8",
                        "ticks": ""
                      }
                    },
                    "scene": {
                      "camera": {
                        "eye": {
                          "x": 1.5,
                          "y": 1.5,
                          "z": 0.1
                        }
                      },
                      "xaxis": {
                        "backgroundcolor": "white",
                        "gridcolor": "#DFE8F3",
                        "gridwidth": 2,
                        "linecolor": "#EBF0F8",
                        "showbackground": true,
                        "ticks": "",
                        "zerolinecolor": "#EBF0F8"
                      },
                      "yaxis": {
                        "backgroundcolor": "white",
                        "gridcolor": "#DFE8F3",
                        "gridwidth": 2,
                        "linecolor": "#EBF0F8",
                        "showbackground": true,
                        "ticks": "",
                        "zerolinecolor": "#EBF0F8"
                      },
                      "zaxis": {
                        "backgroundcolor": "white",
                        "gridcolor": "#DFE8F3",
                        "gridwidth": 2,
                        "linecolor": "#EBF0F8",
                        "showbackground": true,
                        "ticks": "",
                        "zerolinecolor": "#EBF0F8"
                      }
                    },
                    "shapedefaults": {
                      "line": {
                        "color": "#2a3f5f"
                      }
                    },
                    "ternary": {
                      "aaxis": {
                        "gridcolor": "#DFE8F3",
                        "linecolor": "#A2B1C6",
                        "ticks": ""
                      },
                      "baxis": {
                        "gridcolor": "#DFE8F3",
                        "linecolor": "#A2B1C6",
                        "ticks": ""
                      },
                      "bgcolor": "white",
                      "caxis": {
                        "gridcolor": "#DFE8F3",
                        "linecolor": "#A2B1C6",
                        "ticks": ""
                      }
                    },
                    "title": {
                      "x": 0.5
                    },
                    "xaxis": {
                      "automargin": true,
                      "gridcolor": "#EBF0F8",
                      "linecolor": "#EBF0F8",
                      "linewidth": 2,
                      "showline": true,
                      "ticks": "",
                      "title": {
                        "standoff": 15
                      },
                      "zerolinecolor": "#EBF0F8",
                      "zerolinewidth": 2
                    },
                    "yaxis": {
                      "automargin": true,
                      "gridcolor": "#EBF0F8",
                      "linecolor": "#EBF0F8",
                      "linewidth": 2,
                      "showline": true,
                      "ticks": "",
                      "title": {
                        "standoff": 15
                      },
                      "zerolinecolor": "#EBF0F8",
                      "zerolinewidth": 2
                    }
                  }
                },
                "title": {
                  "text": "body_fat_percentage"
                },
                "xaxis": {
                  "anchor": "y",
                  "domain": [
                    0,
                    1
                  ],
                  "title": {
                    "text": "body fat percentage"
                  }
                },
                "yaxis": {
                  "anchor": "x",
                  "domain": [
                    0,
                    1
                  ],
                  "title": {
                    "text": "core temperature"
                  }
                }
              }
            }
          },
          "metadata": {},
          "output_type": "display_data"
        }
      ],
      "source": [
        "import statsmodels.formula.api as smf\n",
        "from Scripts import graphing # custom graphing code. See our GitHub repo for details\n",
        "\n",
        "for feature in [\"male\", \"age\", \"protein_content_of_last_meal\", \"body_fat_percentage\"]:\n",
        "    # Perform linear regression. This method takes care of\n",
        "    # the entire fitting procedure for us.\n",
        "    formula = \"core_temperature ~ \" + feature\n",
        "    simple_model = smf.ols(formula = formula, data = dataset).fit()\n",
        "\n",
        "    print(feature)\n",
        "    print(\"R-squared:\", simple_model.rsquared)\n",
        "    \n",
        "    # Show a graph of the result\n",
        "    graphing.scatter_2D(dataset, label_x=feature, \n",
        "                                 label_y=\"core_temperature\",\n",
        "                                 title = feature,\n",
        "                                 trendline=lambda x: simple_model.params[1] * x + simple_model.params[0],\n",
        "                                 show=True)"
      ]
    },
    {
      "cell_type": "markdown",
      "id": "e56c7145-c9ec-49fd-ad95-928a9985231d",
      "metadata": {},
      "source": [
        "Scrolling through these graphs, we get R-square values of 0.0002 (`body_fat_percentage`), 0.1 (`male`), and 0.26 (`age`).\n",
        "\n",
        "While `protein_content_of_last_meal` looks very promising too, the relationship looks curved, not linear. We'll leave this feature for now and come back to it in the next exercise."
      ]
    },
    {
      "attachments": {},
      "cell_type": "markdown",
      "id": "43d76a1b-5584-4791-b28e-d60cbd82fac6",
      "metadata": {},
      "source": [
        "## R-Squared\n",
        "\n",
        "We've shown the R-Squared value for these models and used it as a measure of \"correctness\" for our regression, but what is it?\n",
        "\n",
        "Intuitively, we can think of R-Squared as ratio for how much better our regression line is than a naive regression that just goes straight through the mean of all examples. \n",
        "\n",
        "Roughly, the R-Squared is calculated by taking the loss/error of the trained model, and dividing by the loss/error of the naive model. That gives a range where `0` is better and `1` is worse, so the whole thing is subtracted from `1` to flip those results.\n",
        "\n",
        "In the following code, we once again show the scatter plot with `age` and `core_temperature`, but this time, we show two regression lines. The first is the naive line that just goes straight through the mean. This has an R-Squared of `0` (since it's no better than itself). An R-Squared of `1` would be a line that fit each training example perfectly. The second plot shows our trained regression line, and we once again see its R-Squared."
      ]
    },
    {
      "cell_type": "code",
      "execution_count": 5,
      "id": "abeb5638-e4cc-482c-9af9-a1cb8b181c38",
      "metadata": {},
      "outputs": [
        {
          "name": "stderr",
          "output_type": "stream",
          "text": [
            "/var/folders/yl/5cj99xpd0cg5xn4st7_dyz6m0000gn/T/ipykernel_65619/43954359.py:4: FutureWarning:\n",
            "\n",
            "Series.__setitem__ treating keys as positions is deprecated. In a future version, integer keys will always be treated as labels (consistent with DataFrame behavior). To set a value by position, use `ser.iloc[pos] = value`\n",
            "\n",
            "/var/folders/yl/5cj99xpd0cg5xn4st7_dyz6m0000gn/T/ipykernel_65619/43954359.py:5: FutureWarning:\n",
            "\n",
            "Series.__setitem__ treating keys as positions is deprecated. In a future version, integer keys will always be treated as labels (consistent with DataFrame behavior). To set a value by position, use `ser.iloc[pos] = value`\n",
            "\n"
          ]
        },
        {
          "name": "stdout",
          "output_type": "stream",
          "text": [
            "naive R-squared: 0.0\n",
            "trained R-squared: 0.26481160813424676\n"
          ]
        },
        {
          "data": {
            "application/vnd.plotly.v1+json": {
              "config": {
                "plotlyServerURL": "https://plot.ly"
              },
              "data": [
                {
                  "hovertemplate": "age=%{x}<br>core temperature=%{y}<extra></extra>",
                  "legendgroup": "",
                  "marker": {
                    "color": "#636efa",
                    "size": 17,
                    "symbol": "circle"
                  },
                  "mode": "markers",
                  "name": "",
                  "orientation": "v",
                  "showlegend": false,
                  "type": "scatter",
                  "x": [
                    6.9,
                    5.4,
                    5.4,
                    4.8,
                    4.8,
                    7.8,
                    2.7,
                    5.7,
                    1.5,
                    1.8,
                    4.2,
                    4.5,
                    1.5,
                    5.1,
                    4.8,
                    5.1,
                    3.6,
                    4.2,
                    2.7,
                    8.7,
                    0.9,
                    6.3,
                    1.2,
                    2.7,
                    6,
                    6,
                    0.6,
                    3.9,
                    6,
                    5.7,
                    6.9,
                    5.1,
                    2.1,
                    3.6,
                    6.3,
                    2.4,
                    8.4,
                    7.5,
                    5.7,
                    5.7,
                    2.7,
                    4.2,
                    6.9,
                    3,
                    1.8,
                    2.4,
                    6.3,
                    0.6,
                    1.8,
                    4.8,
                    8.4,
                    8.1,
                    6.3,
                    8.7,
                    4.5,
                    4.5,
                    7.5,
                    1.2,
                    5.7,
                    0.6,
                    6.9,
                    8.1,
                    0.6,
                    1.2,
                    6.6,
                    8.1,
                    2.7,
                    3.9,
                    4.2,
                    6.9,
                    1.2,
                    3.9,
                    3.6,
                    0.3,
                    3,
                    8.7,
                    2.1,
                    6.6,
                    1.5,
                    5.1,
                    6,
                    2.1,
                    6,
                    4.2,
                    1.5,
                    1.8,
                    1.8,
                    6.9,
                    6.9,
                    4.5,
                    1.8,
                    8.4,
                    3,
                    4.5,
                    1.8,
                    6.6,
                    6.9,
                    6
                  ],
                  "xaxis": "x",
                  "y": [
                    38.42316895,
                    39.01599822,
                    39.14834088,
                    39.06004863,
                    38.65543905,
                    38.6092188,
                    39.47390806,
                    38.81521612,
                    37.77845286,
                    39.17685034,
                    39.52090819,
                    38.57896943,
                    38.28013391,
                    38.40158039,
                    38.65157641,
                    39.61720308,
                    37.72843549,
                    39.36694049,
                    37.98848685,
                    39.93405104,
                    37.60559023,
                    38.83468198,
                    37.39892664,
                    38.98633063,
                    39.72456882,
                    38.09695504,
                    37.59597881,
                    39.49731323,
                    38.50187636,
                    38.27036031,
                    38.69964224,
                    39.08411118,
                    38.29400364,
                    38.39872285,
                    39.29951536,
                    38.37598649,
                    38.46968433,
                    39.58561173,
                    38.12682317,
                    39.80156649,
                    37.92682179,
                    39.67264697,
                    38.21409556,
                    38.93217418,
                    37.80121676,
                    37.52097889,
                    39.34942824,
                    38.9163822,
                    38.72595498,
                    38.35421436,
                    40.17337876,
                    39.48214424,
                    39.9557292,
                    39.02529641,
                    39.70565695,
                    37.87210056,
                    38.92730588,
                    38.75694066,
                    38.98157028,
                    39.07020183,
                    39.31023381,
                    40.26487847,
                    39.19531025,
                    37.46606804,
                    38.61929591,
                    39.74308443,
                    37.9590829,
                    38.52387016,
                    39.58821189,
                    39.48780846,
                    37.32113362,
                    38.30311301,
                    39.32598796,
                    38.18373964,
                    37.78518905,
                    38.97361387,
                    37.97719515,
                    38.92654301,
                    37.98922316,
                    39.87010492,
                    38.51344083,
                    39.14710639,
                    38.61129304,
                    38.95232638,
                    37.46812464,
                    38.24131363,
                    38.7661591,
                    39.87233432,
                    38.87492299,
                    39.09337261,
                    39.00124171,
                    39.25963687,
                    38.6808734,
                    37.93994229,
                    38.79042609,
                    39.48996228,
                    38.57574159,
                    39.76644658
                  ],
                  "yaxis": "y"
                }
              ],
              "layout": {
                "legend": {
                  "tracegroupgap": 0
                },
                "shapes": [
                  {
                    "line": {
                      "color": "rgb(228,26,28)"
                    },
                    "path": "M0.3 38.42316895 L 0.3422110552763819 38.42316895 L 0.38442211055276376 38.42316895 L 0.4266331658291457 38.42316895 L 0.4688442211055276 38.42316895 L 0.5110552763819095 38.42316895 L 0.5532663316582913 38.42316895 L 0.5954773869346732 38.42316895 L 0.6376884422110551 38.42316895 L 0.679899497487437 38.42316895 L 0.722110552763819 38.42316895 L 0.7643216080402009 38.42316895 L 0.8065326633165828 38.42316895 L 0.8487437185929647 38.42316895 L 0.8909547738693466 38.42316895 L 0.9331658291457285 38.42316895 L 0.9753768844221105 38.42316895 L 1.0175879396984924 38.42316895 L 1.0597989949748743 38.42316895 L 1.1020100502512562 38.42316895 L 1.1442211055276381 38.42316895 L 1.1864321608040198 38.42316895 L 1.2286432160804017 38.42316895 L 1.2708542713567836 38.42316895 L 1.3130653266331656 38.42316895 L 1.3552763819095475 38.42316895 L 1.3974874371859294 38.42316895 L 1.4396984924623113 38.42316895 L 1.4819095477386932 38.42316895 L 1.5241206030150751 38.42316895 L 1.566331658291457 38.42316895 L 1.608542713567839 38.42316895 L 1.6507537688442209 38.42316895 L 1.6929648241206028 38.42316895 L 1.7351758793969847 38.42316895 L 1.7773869346733666 38.42316895 L 1.8195979899497485 38.42316895 L 1.8618090452261304 38.42316895 L 1.9040201005025124 38.42316895 L 1.9462311557788943 38.42316895 L 1.9884422110552762 38.42316895 L 2.0306532663316577 38.42316895 L 2.07286432160804 38.42316895 L 2.1150753768844215 38.42316895 L 2.1572864321608036 38.42316895 L 2.1994974874371853 38.42316895 L 2.2417085427135675 38.42316895 L 2.283919597989949 38.42316895 L 2.326130653266331 38.42316895 L 2.368341708542713 38.42316895 L 2.4105527638190947 38.42316895 L 2.452763819095477 38.42316895 L 2.4949748743718585 38.42316895 L 2.5371859296482406 38.42316895 L 2.5793969849246223 38.42316895 L 2.6216080402010045 38.42316895 L 2.663819095477386 38.42316895 L 2.7060301507537683 38.42316895 L 2.74824120603015 38.42316895 L 2.790452261306532 38.42316895 L 2.832663316582914 38.42316895 L 2.874874371859296 38.42316895 L 2.9170854271356776 38.42316895 L 2.95929648241206 38.42316895 L 3.0015075376884415 38.42316895 L 3.043718592964823 38.42316895 L 3.0859296482412053 38.42316895 L 3.128140703517587 38.42316895 L 3.170351758793969 38.42316895 L 3.212562814070351 38.42316895 L 3.254773869346733 38.42316895 L 3.2969849246231147 38.42316895 L 3.339195979899497 38.42316895 L 3.3814070351758785 38.42316895 L 3.4236180904522606 38.42316895 L 3.4658291457286423 38.42316895 L 3.5080402010050244 38.42316895 L 3.550251256281406 38.42316895 L 3.5924623115577883 38.42316895 L 3.63467336683417 38.42316895 L 3.676884422110552 38.42316895 L 3.719095477386934 38.42316895 L 3.7613065326633155 38.42316895 L 3.8035175879396976 38.42316895 L 3.8457286432160793 38.42316895 L 3.8879396984924615 38.42316895 L 3.930150753768843 38.42316895 L 3.9723618090452253 38.42316895 L 4.014572864321607 38.42316895 L 4.056783919597989 38.42316895 L 4.098994974874371 38.42316895 L 4.141206030150753 38.42316895 L 4.183417085427135 38.42316895 L 4.225628140703517 38.42316895 L 4.2678391959798985 38.42316895 L 4.31005025125628 38.42316895 L 4.352261306532662 38.42316895 L 4.394472361809044 38.42316895 L 4.436683417085426 38.42316895 L 4.478894472361808 38.42316895 L 4.5211055276381895 38.42316895 L 4.563316582914572 38.42316895 L 4.605527638190954 38.42316895 L 4.6477386934673355 38.42316895 L 4.689949748743717 38.42316895 L 4.7321608040201 38.42316895 L 4.7743718592964814 38.42316895 L 4.816582914572863 38.42316895 L 4.858793969849245 38.42316895 L 4.901005025125627 38.42316895 L 4.943216080402009 38.42316895 L 4.985427135678391 38.42316895 L 5.0276381909547725 38.42316895 L 5.069849246231154 38.42316895 L 5.112060301507537 38.42316895 L 5.1542713567839185 38.42316895 L 5.1964824120603 38.42316895 L 5.238693467336682 38.42316895 L 5.280904522613064 38.42316895 L 5.323115577889446 38.42316895 L 5.365326633165828 38.42316895 L 5.4075376884422095 38.42316895 L 5.449748743718592 38.42316895 L 5.491959798994974 38.42316895 L 5.5341708542713555 38.42316895 L 5.576381909547737 38.42316895 L 5.61859296482412 38.42316895 L 5.660804020100501 38.42316895 L 5.703015075376883 38.42316895 L 5.745226130653265 38.42316895 L 5.7874371859296465 38.42316895 L 5.829648241206029 38.42316895 L 5.871859296482411 38.42316895 L 5.9140703517587925 38.42316895 L 5.956281407035174 38.42316895 L 5.998492462311557 38.42316895 L 6.040703517587938 38.42316895 L 6.08291457286432 38.42316895 L 6.125125628140702 38.42316895 L 6.167336683417084 38.42316895 L 6.209547738693466 38.42316895 L 6.251758793969848 38.42316895 L 6.2939698492462295 38.42316895 L 6.336180904522612 38.42316895 L 6.378391959798994 38.42316895 L 6.4206030150753755 38.42316895 L 6.462814070351757 38.42316895 L 6.505025125628139 38.42316895 L 6.547236180904521 38.42316895 L 6.589447236180903 38.42316895 L 6.631658291457285 38.42316895 L 6.6738693467336665 38.42316895 L 6.716080402010049 38.42316895 L 6.758291457286431 38.42316895 L 6.8005025125628125 38.42316895 L 6.842713567839194 38.42316895 L 6.884924623115577 38.42316895 L 6.927135678391958 38.42316895 L 6.96934673366834 38.42316895 L 7.011557788944722 38.42316895 L 7.053768844221104 38.42316895 L 7.095979899497486 38.42316895 L 7.138190954773868 38.42316895 L 7.1804020100502495 38.42316895 L 7.222613065326631 38.42316895 L 7.264824120603014 38.42316895 L 7.307035175879395 38.42316895 L 7.349246231155777 38.42316895 L 7.391457286432159 38.42316895 L 7.433668341708541 38.42316895 L 7.475879396984923 38.42316895 L 7.518090452261305 38.42316895 L 7.5603015075376865 38.42316895 L 7.602512562814069 38.42316895 L 7.644723618090451 38.42316895 L 7.6869346733668324 38.42316895 L 7.729145728643214 38.42316895 L 7.771356783919596 38.42316895 L 7.813567839195978 38.42316895 L 7.85577889447236 38.42316895 L 7.897989949748742 38.42316895 L 7.9402010050251235 38.42316895 L 7.982412060301506 38.42316895 L 8.024623115577889 38.42316895 L 8.06683417085427 38.42316895 L 8.109045226130652 38.42316895 L 8.151256281407035 38.42316895 L 8.193467336683415 38.42316895 L 8.235678391959798 38.42316895 L 8.277889447236179 38.42316895 L 8.320100502512561 38.42316895 L 8.362311557788944 38.42316895 L 8.404522613065325 38.42316895 L 8.446733668341707 38.42316895 L 8.48894472361809 38.42316895 L 8.53115577889447 38.42316895 L 8.573366834170853 38.42316895 L 8.615577889447236 38.42316895 L 8.657788944723617 38.42316895 L 8.7 38.42316895",
                    "type": "path"
                  }
                ],
                "template": {
                  "data": {
                    "bar": [
                      {
                        "error_x": {
                          "color": "#2a3f5f"
                        },
                        "error_y": {
                          "color": "#2a3f5f"
                        },
                        "marker": {
                          "line": {
                            "color": "white",
                            "width": 0.5
                          },
                          "pattern": {
                            "fillmode": "overlay",
                            "size": 10,
                            "solidity": 0.2
                          }
                        },
                        "type": "bar"
                      }
                    ],
                    "barpolar": [
                      {
                        "marker": {
                          "line": {
                            "color": "white",
                            "width": 0.5
                          },
                          "pattern": {
                            "fillmode": "overlay",
                            "size": 10,
                            "solidity": 0.2
                          }
                        },
                        "type": "barpolar"
                      }
                    ],
                    "box": [
                      {
                        "boxpoints": "outliers",
                        "notched": false,
                        "type": "box"
                      }
                    ],
                    "carpet": [
                      {
                        "aaxis": {
                          "endlinecolor": "#2a3f5f",
                          "gridcolor": "#C8D4E3",
                          "linecolor": "#C8D4E3",
                          "minorgridcolor": "#C8D4E3",
                          "startlinecolor": "#2a3f5f"
                        },
                        "baxis": {
                          "endlinecolor": "#2a3f5f",
                          "gridcolor": "#C8D4E3",
                          "linecolor": "#C8D4E3",
                          "minorgridcolor": "#C8D4E3",
                          "startlinecolor": "#2a3f5f"
                        },
                        "type": "carpet"
                      }
                    ],
                    "choropleth": [
                      {
                        "colorbar": {
                          "outlinewidth": 0,
                          "ticks": ""
                        },
                        "type": "choropleth"
                      }
                    ],
                    "contour": [
                      {
                        "colorbar": {
                          "outlinewidth": 0,
                          "ticks": ""
                        },
                        "colorscale": [
                          [
                            0,
                            "#0d0887"
                          ],
                          [
                            0.1111111111111111,
                            "#46039f"
                          ],
                          [
                            0.2222222222222222,
                            "#7201a8"
                          ],
                          [
                            0.3333333333333333,
                            "#9c179e"
                          ],
                          [
                            0.4444444444444444,
                            "#bd3786"
                          ],
                          [
                            0.5555555555555556,
                            "#d8576b"
                          ],
                          [
                            0.6666666666666666,
                            "#ed7953"
                          ],
                          [
                            0.7777777777777778,
                            "#fb9f3a"
                          ],
                          [
                            0.8888888888888888,
                            "#fdca26"
                          ],
                          [
                            1,
                            "#f0f921"
                          ]
                        ],
                        "type": "contour"
                      }
                    ],
                    "contourcarpet": [
                      {
                        "colorbar": {
                          "outlinewidth": 0,
                          "ticks": ""
                        },
                        "type": "contourcarpet"
                      }
                    ],
                    "heatmap": [
                      {
                        "colorbar": {
                          "outlinewidth": 0,
                          "ticks": ""
                        },
                        "colorscale": [
                          [
                            0,
                            "#0d0887"
                          ],
                          [
                            0.1111111111111111,
                            "#46039f"
                          ],
                          [
                            0.2222222222222222,
                            "#7201a8"
                          ],
                          [
                            0.3333333333333333,
                            "#9c179e"
                          ],
                          [
                            0.4444444444444444,
                            "#bd3786"
                          ],
                          [
                            0.5555555555555556,
                            "#d8576b"
                          ],
                          [
                            0.6666666666666666,
                            "#ed7953"
                          ],
                          [
                            0.7777777777777778,
                            "#fb9f3a"
                          ],
                          [
                            0.8888888888888888,
                            "#fdca26"
                          ],
                          [
                            1,
                            "#f0f921"
                          ]
                        ],
                        "type": "heatmap"
                      }
                    ],
                    "heatmapgl": [
                      {
                        "colorbar": {
                          "outlinewidth": 0,
                          "ticks": ""
                        },
                        "colorscale": [
                          [
                            0,
                            "#0d0887"
                          ],
                          [
                            0.1111111111111111,
                            "#46039f"
                          ],
                          [
                            0.2222222222222222,
                            "#7201a8"
                          ],
                          [
                            0.3333333333333333,
                            "#9c179e"
                          ],
                          [
                            0.4444444444444444,
                            "#bd3786"
                          ],
                          [
                            0.5555555555555556,
                            "#d8576b"
                          ],
                          [
                            0.6666666666666666,
                            "#ed7953"
                          ],
                          [
                            0.7777777777777778,
                            "#fb9f3a"
                          ],
                          [
                            0.8888888888888888,
                            "#fdca26"
                          ],
                          [
                            1,
                            "#f0f921"
                          ]
                        ],
                        "type": "heatmapgl"
                      }
                    ],
                    "histogram": [
                      {
                        "marker": {
                          "line": {
                            "width": 1
                          },
                          "pattern": {
                            "fillmode": "overlay",
                            "size": 10,
                            "solidity": 0.2
                          }
                        },
                        "type": "histogram"
                      }
                    ],
                    "histogram2d": [
                      {
                        "colorbar": {
                          "outlinewidth": 0,
                          "ticks": ""
                        },
                        "colorscale": [
                          [
                            0,
                            "#0d0887"
                          ],
                          [
                            0.1111111111111111,
                            "#46039f"
                          ],
                          [
                            0.2222222222222222,
                            "#7201a8"
                          ],
                          [
                            0.3333333333333333,
                            "#9c179e"
                          ],
                          [
                            0.4444444444444444,
                            "#bd3786"
                          ],
                          [
                            0.5555555555555556,
                            "#d8576b"
                          ],
                          [
                            0.6666666666666666,
                            "#ed7953"
                          ],
                          [
                            0.7777777777777778,
                            "#fb9f3a"
                          ],
                          [
                            0.8888888888888888,
                            "#fdca26"
                          ],
                          [
                            1,
                            "#f0f921"
                          ]
                        ],
                        "type": "histogram2d"
                      }
                    ],
                    "histogram2dcontour": [
                      {
                        "colorbar": {
                          "outlinewidth": 0,
                          "ticks": ""
                        },
                        "colorscale": [
                          [
                            0,
                            "#0d0887"
                          ],
                          [
                            0.1111111111111111,
                            "#46039f"
                          ],
                          [
                            0.2222222222222222,
                            "#7201a8"
                          ],
                          [
                            0.3333333333333333,
                            "#9c179e"
                          ],
                          [
                            0.4444444444444444,
                            "#bd3786"
                          ],
                          [
                            0.5555555555555556,
                            "#d8576b"
                          ],
                          [
                            0.6666666666666666,
                            "#ed7953"
                          ],
                          [
                            0.7777777777777778,
                            "#fb9f3a"
                          ],
                          [
                            0.8888888888888888,
                            "#fdca26"
                          ],
                          [
                            1,
                            "#f0f921"
                          ]
                        ],
                        "type": "histogram2dcontour"
                      }
                    ],
                    "mesh3d": [
                      {
                        "colorbar": {
                          "outlinewidth": 0,
                          "ticks": ""
                        },
                        "type": "mesh3d"
                      }
                    ],
                    "parcoords": [
                      {
                        "line": {
                          "colorbar": {
                            "outlinewidth": 0,
                            "ticks": ""
                          }
                        },
                        "type": "parcoords"
                      }
                    ],
                    "pie": [
                      {
                        "automargin": true,
                        "type": "pie"
                      }
                    ],
                    "scatter": [
                      {
                        "fillpattern": {
                          "fillmode": "overlay",
                          "size": 10,
                          "solidity": 0.2
                        },
                        "marker": {
                          "opacity": 0.8
                        },
                        "type": "scatter"
                      }
                    ],
                    "scatter3d": [
                      {
                        "line": {
                          "colorbar": {
                            "outlinewidth": 0,
                            "ticks": ""
                          }
                        },
                        "marker": {
                          "colorbar": {
                            "outlinewidth": 0,
                            "ticks": ""
                          },
                          "opacity": 0.8
                        },
                        "type": "scatter3d"
                      }
                    ],
                    "scattercarpet": [
                      {
                        "marker": {
                          "colorbar": {
                            "outlinewidth": 0,
                            "ticks": ""
                          }
                        },
                        "type": "scattercarpet"
                      }
                    ],
                    "scattergeo": [
                      {
                        "marker": {
                          "colorbar": {
                            "outlinewidth": 0,
                            "ticks": ""
                          }
                        },
                        "type": "scattergeo"
                      }
                    ],
                    "scattergl": [
                      {
                        "marker": {
                          "colorbar": {
                            "outlinewidth": 0,
                            "ticks": ""
                          }
                        },
                        "type": "scattergl"
                      }
                    ],
                    "scattermapbox": [
                      {
                        "marker": {
                          "colorbar": {
                            "outlinewidth": 0,
                            "ticks": ""
                          }
                        },
                        "type": "scattermapbox"
                      }
                    ],
                    "scatterpolar": [
                      {
                        "marker": {
                          "colorbar": {
                            "outlinewidth": 0,
                            "ticks": ""
                          }
                        },
                        "type": "scatterpolar"
                      }
                    ],
                    "scatterpolargl": [
                      {
                        "marker": {
                          "colorbar": {
                            "outlinewidth": 0,
                            "ticks": ""
                          }
                        },
                        "type": "scatterpolargl"
                      }
                    ],
                    "scatterternary": [
                      {
                        "marker": {
                          "colorbar": {
                            "outlinewidth": 0,
                            "ticks": ""
                          }
                        },
                        "type": "scatterternary"
                      }
                    ],
                    "surface": [
                      {
                        "colorbar": {
                          "outlinewidth": 0,
                          "ticks": ""
                        },
                        "colorscale": [
                          [
                            0,
                            "#0d0887"
                          ],
                          [
                            0.1111111111111111,
                            "#46039f"
                          ],
                          [
                            0.2222222222222222,
                            "#7201a8"
                          ],
                          [
                            0.3333333333333333,
                            "#9c179e"
                          ],
                          [
                            0.4444444444444444,
                            "#bd3786"
                          ],
                          [
                            0.5555555555555556,
                            "#d8576b"
                          ],
                          [
                            0.6666666666666666,
                            "#ed7953"
                          ],
                          [
                            0.7777777777777778,
                            "#fb9f3a"
                          ],
                          [
                            0.8888888888888888,
                            "#fdca26"
                          ],
                          [
                            1,
                            "#f0f921"
                          ]
                        ],
                        "type": "surface"
                      }
                    ],
                    "table": [
                      {
                        "cells": {
                          "fill": {
                            "color": "#EBF0F8"
                          },
                          "line": {
                            "color": "white"
                          }
                        },
                        "header": {
                          "fill": {
                            "color": "#C8D4E3"
                          },
                          "line": {
                            "color": "white"
                          }
                        },
                        "type": "table"
                      }
                    ]
                  },
                  "layout": {
                    "annotationdefaults": {
                      "arrowcolor": "#2a3f5f",
                      "arrowhead": 0,
                      "arrowwidth": 1
                    },
                    "autotypenumbers": "strict",
                    "coloraxis": {
                      "colorbar": {
                        "outlinewidth": 0,
                        "ticks": ""
                      }
                    },
                    "colorscale": {
                      "diverging": [
                        [
                          0,
                          "#8e0152"
                        ],
                        [
                          0.1,
                          "#c51b7d"
                        ],
                        [
                          0.2,
                          "#de77ae"
                        ],
                        [
                          0.3,
                          "#f1b6da"
                        ],
                        [
                          0.4,
                          "#fde0ef"
                        ],
                        [
                          0.5,
                          "#f7f7f7"
                        ],
                        [
                          0.6,
                          "#e6f5d0"
                        ],
                        [
                          0.7,
                          "#b8e186"
                        ],
                        [
                          0.8,
                          "#7fbc41"
                        ],
                        [
                          0.9,
                          "#4d9221"
                        ],
                        [
                          1,
                          "#276419"
                        ]
                      ],
                      "sequential": [
                        [
                          0,
                          "#0d0887"
                        ],
                        [
                          0.1111111111111111,
                          "#46039f"
                        ],
                        [
                          0.2222222222222222,
                          "#7201a8"
                        ],
                        [
                          0.3333333333333333,
                          "#9c179e"
                        ],
                        [
                          0.4444444444444444,
                          "#bd3786"
                        ],
                        [
                          0.5555555555555556,
                          "#d8576b"
                        ],
                        [
                          0.6666666666666666,
                          "#ed7953"
                        ],
                        [
                          0.7777777777777778,
                          "#fb9f3a"
                        ],
                        [
                          0.8888888888888888,
                          "#fdca26"
                        ],
                        [
                          1,
                          "#f0f921"
                        ]
                      ],
                      "sequentialminus": [
                        [
                          0,
                          "#0d0887"
                        ],
                        [
                          0.1111111111111111,
                          "#46039f"
                        ],
                        [
                          0.2222222222222222,
                          "#7201a8"
                        ],
                        [
                          0.3333333333333333,
                          "#9c179e"
                        ],
                        [
                          0.4444444444444444,
                          "#bd3786"
                        ],
                        [
                          0.5555555555555556,
                          "#d8576b"
                        ],
                        [
                          0.6666666666666666,
                          "#ed7953"
                        ],
                        [
                          0.7777777777777778,
                          "#fb9f3a"
                        ],
                        [
                          0.8888888888888888,
                          "#fdca26"
                        ],
                        [
                          1,
                          "#f0f921"
                        ]
                      ]
                    },
                    "colorway": [
                      "#636efa",
                      "#EF553B",
                      "#00cc96",
                      "#ab63fa",
                      "#FFA15A",
                      "#19d3f3",
                      "#FF6692",
                      "#B6E880",
                      "#FF97FF",
                      "#FECB52"
                    ],
                    "font": {
                      "color": "#2a3f5f"
                    },
                    "geo": {
                      "bgcolor": "white",
                      "lakecolor": "white",
                      "landcolor": "white",
                      "showlakes": true,
                      "showland": true,
                      "subunitcolor": "#C8D4E3"
                    },
                    "height": 400,
                    "hoverlabel": {
                      "align": "left"
                    },
                    "hovermode": "closest",
                    "mapbox": {
                      "style": "light"
                    },
                    "margin": {
                      "b": 2,
                      "l": 2,
                      "r": 2,
                      "t": 30
                    },
                    "paper_bgcolor": "white",
                    "plot_bgcolor": "white",
                    "polar": {
                      "angularaxis": {
                        "gridcolor": "#EBF0F8",
                        "linecolor": "#EBF0F8",
                        "ticks": ""
                      },
                      "bgcolor": "white",
                      "radialaxis": {
                        "gridcolor": "#EBF0F8",
                        "linecolor": "#EBF0F8",
                        "ticks": ""
                      }
                    },
                    "scene": {
                      "camera": {
                        "eye": {
                          "x": 1.5,
                          "y": 1.5,
                          "z": 0.1
                        }
                      },
                      "xaxis": {
                        "backgroundcolor": "white",
                        "gridcolor": "#DFE8F3",
                        "gridwidth": 2,
                        "linecolor": "#EBF0F8",
                        "showbackground": true,
                        "ticks": "",
                        "zerolinecolor": "#EBF0F8"
                      },
                      "yaxis": {
                        "backgroundcolor": "white",
                        "gridcolor": "#DFE8F3",
                        "gridwidth": 2,
                        "linecolor": "#EBF0F8",
                        "showbackground": true,
                        "ticks": "",
                        "zerolinecolor": "#EBF0F8"
                      },
                      "zaxis": {
                        "backgroundcolor": "white",
                        "gridcolor": "#DFE8F3",
                        "gridwidth": 2,
                        "linecolor": "#EBF0F8",
                        "showbackground": true,
                        "ticks": "",
                        "zerolinecolor": "#EBF0F8"
                      }
                    },
                    "shapedefaults": {
                      "line": {
                        "color": "#2a3f5f"
                      }
                    },
                    "ternary": {
                      "aaxis": {
                        "gridcolor": "#DFE8F3",
                        "linecolor": "#A2B1C6",
                        "ticks": ""
                      },
                      "baxis": {
                        "gridcolor": "#DFE8F3",
                        "linecolor": "#A2B1C6",
                        "ticks": ""
                      },
                      "bgcolor": "white",
                      "caxis": {
                        "gridcolor": "#DFE8F3",
                        "linecolor": "#A2B1C6",
                        "ticks": ""
                      }
                    },
                    "title": {
                      "x": 0.5
                    },
                    "xaxis": {
                      "automargin": true,
                      "gridcolor": "#EBF0F8",
                      "linecolor": "#EBF0F8",
                      "linewidth": 2,
                      "showline": true,
                      "ticks": "",
                      "title": {
                        "standoff": 15
                      },
                      "zerolinecolor": "#EBF0F8",
                      "zerolinewidth": 2
                    },
                    "yaxis": {
                      "automargin": true,
                      "gridcolor": "#EBF0F8",
                      "linecolor": "#EBF0F8",
                      "linewidth": 2,
                      "showline": true,
                      "ticks": "",
                      "title": {
                        "standoff": 15
                      },
                      "zerolinecolor": "#EBF0F8",
                      "zerolinewidth": 2
                    }
                  }
                },
                "title": {
                  "text": "Naive model"
                },
                "xaxis": {
                  "anchor": "y",
                  "domain": [
                    0,
                    1
                  ],
                  "title": {
                    "text": "age"
                  }
                },
                "yaxis": {
                  "anchor": "x",
                  "domain": [
                    0,
                    1
                  ],
                  "title": {
                    "text": "core temperature"
                  }
                }
              }
            }
          },
          "metadata": {},
          "output_type": "display_data"
        },
        {
          "name": "stderr",
          "output_type": "stream",
          "text": [
            "/var/folders/yl/5cj99xpd0cg5xn4st7_dyz6m0000gn/T/ipykernel_65619/43954359.py:20: FutureWarning:\n",
            "\n",
            "Series.__getitem__ treating keys as positions is deprecated. In a future version, integer keys will always be treated as labels (consistent with DataFrame behavior). To access a value by position, use `ser.iloc[pos]`\n",
            "\n"
          ]
        },
        {
          "data": {
            "application/vnd.plotly.v1+json": {
              "config": {
                "plotlyServerURL": "https://plot.ly"
              },
              "data": [
                {
                  "hovertemplate": "age=%{x}<br>core temperature=%{y}<extra></extra>",
                  "legendgroup": "",
                  "marker": {
                    "color": "#636efa",
                    "size": 17,
                    "symbol": "circle"
                  },
                  "mode": "markers",
                  "name": "",
                  "orientation": "v",
                  "showlegend": false,
                  "type": "scatter",
                  "x": [
                    6.9,
                    5.4,
                    5.4,
                    4.8,
                    4.8,
                    7.8,
                    2.7,
                    5.7,
                    1.5,
                    1.8,
                    4.2,
                    4.5,
                    1.5,
                    5.1,
                    4.8,
                    5.1,
                    3.6,
                    4.2,
                    2.7,
                    8.7,
                    0.9,
                    6.3,
                    1.2,
                    2.7,
                    6,
                    6,
                    0.6,
                    3.9,
                    6,
                    5.7,
                    6.9,
                    5.1,
                    2.1,
                    3.6,
                    6.3,
                    2.4,
                    8.4,
                    7.5,
                    5.7,
                    5.7,
                    2.7,
                    4.2,
                    6.9,
                    3,
                    1.8,
                    2.4,
                    6.3,
                    0.6,
                    1.8,
                    4.8,
                    8.4,
                    8.1,
                    6.3,
                    8.7,
                    4.5,
                    4.5,
                    7.5,
                    1.2,
                    5.7,
                    0.6,
                    6.9,
                    8.1,
                    0.6,
                    1.2,
                    6.6,
                    8.1,
                    2.7,
                    3.9,
                    4.2,
                    6.9,
                    1.2,
                    3.9,
                    3.6,
                    0.3,
                    3,
                    8.7,
                    2.1,
                    6.6,
                    1.5,
                    5.1,
                    6,
                    2.1,
                    6,
                    4.2,
                    1.5,
                    1.8,
                    1.8,
                    6.9,
                    6.9,
                    4.5,
                    1.8,
                    8.4,
                    3,
                    4.5,
                    1.8,
                    6.6,
                    6.9,
                    6
                  ],
                  "xaxis": "x",
                  "y": [
                    38.42316895,
                    39.01599822,
                    39.14834088,
                    39.06004863,
                    38.65543905,
                    38.6092188,
                    39.47390806,
                    38.81521612,
                    37.77845286,
                    39.17685034,
                    39.52090819,
                    38.57896943,
                    38.28013391,
                    38.40158039,
                    38.65157641,
                    39.61720308,
                    37.72843549,
                    39.36694049,
                    37.98848685,
                    39.93405104,
                    37.60559023,
                    38.83468198,
                    37.39892664,
                    38.98633063,
                    39.72456882,
                    38.09695504,
                    37.59597881,
                    39.49731323,
                    38.50187636,
                    38.27036031,
                    38.69964224,
                    39.08411118,
                    38.29400364,
                    38.39872285,
                    39.29951536,
                    38.37598649,
                    38.46968433,
                    39.58561173,
                    38.12682317,
                    39.80156649,
                    37.92682179,
                    39.67264697,
                    38.21409556,
                    38.93217418,
                    37.80121676,
                    37.52097889,
                    39.34942824,
                    38.9163822,
                    38.72595498,
                    38.35421436,
                    40.17337876,
                    39.48214424,
                    39.9557292,
                    39.02529641,
                    39.70565695,
                    37.87210056,
                    38.92730588,
                    38.75694066,
                    38.98157028,
                    39.07020183,
                    39.31023381,
                    40.26487847,
                    39.19531025,
                    37.46606804,
                    38.61929591,
                    39.74308443,
                    37.9590829,
                    38.52387016,
                    39.58821189,
                    39.48780846,
                    37.32113362,
                    38.30311301,
                    39.32598796,
                    38.18373964,
                    37.78518905,
                    38.97361387,
                    37.97719515,
                    38.92654301,
                    37.98922316,
                    39.87010492,
                    38.51344083,
                    39.14710639,
                    38.61129304,
                    38.95232638,
                    37.46812464,
                    38.24131363,
                    38.7661591,
                    39.87233432,
                    38.87492299,
                    39.09337261,
                    39.00124171,
                    39.25963687,
                    38.6808734,
                    37.93994229,
                    38.79042609,
                    39.48996228,
                    38.57574159,
                    39.76644658
                  ],
                  "yaxis": "y"
                }
              ],
              "layout": {
                "legend": {
                  "tracegroupgap": 0
                },
                "shapes": [
                  {
                    "line": {
                      "color": "rgb(228,26,28)"
                    },
                    "path": "M0.3 38.133869422156295 L 0.3422110552763819 38.1403420475402 L 0.38442211055276376 38.14681467292411 L 0.4266331658291457 38.153287298308015 L 0.4688442211055276 38.15975992369192 L 0.5110552763819095 38.16623254907583 L 0.5532663316582913 38.172705174459736 L 0.5954773869346732 38.17917779984364 L 0.6376884422110551 38.18565042522755 L 0.679899497487437 38.19212305061146 L 0.722110552763819 38.198595675995364 L 0.7643216080402009 38.20506830137927 L 0.8065326633165828 38.21154092676318 L 0.8487437185929647 38.218013552147085 L 0.8909547738693466 38.22448617753099 L 0.9331658291457285 38.2309588029149 L 0.9753768844221105 38.237431428298805 L 1.0175879396984924 38.24390405368271 L 1.0597989949748743 38.25037667906662 L 1.1020100502512562 38.256849304450526 L 1.1442211055276381 38.26332192983443 L 1.1864321608040198 38.26979455521834 L 1.2286432160804017 38.27626718060225 L 1.2708542713567836 38.282739805986154 L 1.3130653266331656 38.28921243137006 L 1.3552763819095475 38.29568505675397 L 1.3974874371859294 38.302157682137874 L 1.4396984924623113 38.30863030752178 L 1.4819095477386932 38.31510293290569 L 1.5241206030150751 38.321575558289595 L 1.566331658291457 38.3280481836735 L 1.608542713567839 38.33452080905741 L 1.6507537688442209 38.340993434441316 L 1.6929648241206028 38.34746605982522 L 1.7351758793969847 38.35393868520913 L 1.7773869346733666 38.36041131059304 L 1.8195979899497485 38.366883935976944 L 1.8618090452261304 38.37335656136085 L 1.9040201005025124 38.37982918674476 L 1.9462311557788943 38.386301812128664 L 1.9884422110552762 38.39277443751257 L 2.0306532663316577 38.39924706289648 L 2.07286432160804 38.405719688280385 L 2.1150753768844215 38.41219231366429 L 2.1572864321608036 38.4186649390482 L 2.1994974874371853 38.425137564432106 L 2.2417085427135675 38.43161018981601 L 2.283919597989949 38.43808281519992 L 2.326130653266331 38.44455544058383 L 2.368341708542713 38.45102806596773 L 2.4105527638190947 38.45750069135164 L 2.452763819095477 38.46397331673555 L 2.4949748743718585 38.470445942119454 L 2.5371859296482406 38.47691856750336 L 2.5793969849246223 38.48339119288727 L 2.6216080402010045 38.489863818271175 L 2.663819095477386 38.49633644365508 L 2.7060301507537683 38.50280906903899 L 2.74824120603015 38.509281694422896 L 2.790452261306532 38.5157543198068 L 2.832663316582914 38.52222694519071 L 2.874874371859296 38.52869957057462 L 2.9170854271356776 38.53517219595852 L 2.95929648241206 38.54164482134243 L 3.0015075376884415 38.54811744672634 L 3.043718592964823 38.554590072110244 L 3.0859296482412053 38.56106269749415 L 3.128140703517587 38.56753532287806 L 3.170351758793969 38.574007948261965 L 3.212562814070351 38.58048057364587 L 3.254773869346733 38.58695319902978 L 3.2969849246231147 38.593425824413686 L 3.339195979899497 38.59989844979759 L 3.3814070351758785 38.6063710751815 L 3.4236180904522606 38.612843700565406 L 3.4658291457286423 38.61931632594931 L 3.5080402010050244 38.62578895133322 L 3.550251256281406 38.63226157671713 L 3.5924623115577883 38.638734202101034 L 3.63467336683417 38.64520682748494 L 3.676884422110552 38.65167945286885 L 3.719095477386934 38.658152078252755 L 3.7613065326633155 38.66462470363666 L 3.8035175879396976 38.67109732902057 L 3.8457286432160793 38.677569954404476 L 3.8879396984924615 38.68404257978838 L 3.930150753768843 38.69051520517229 L 3.9723618090452253 38.696987830556196 L 4.014572864321607 38.7034604559401 L 4.056783919597989 38.70993308132401 L 4.098994974874371 38.71640570670792 L 4.141206030150753 38.722878332091824 L 4.183417085427135 38.72935095747573 L 4.225628140703517 38.73582358285964 L 4.2678391959798985 38.742296208243545 L 4.31005025125628 38.74876883362745 L 4.352261306532662 38.75524145901136 L 4.394472361809044 38.761714084395265 L 4.436683417085426 38.76818670977917 L 4.478894472361808 38.77465933516308 L 4.5211055276381895 38.781131960546986 L 4.563316582914572 38.78760458593089 L 4.605527638190954 38.7940772113148 L 4.6477386934673355 38.80054983669871 L 4.689949748743717 38.807022462082614 L 4.7321608040201 38.81349508746652 L 4.7743718592964814 38.81996771285043 L 4.816582914572863 38.826440338234335 L 4.858793969849245 38.83291296361824 L 4.901005025125627 38.83938558900215 L 4.943216080402009 38.845858214386055 L 4.985427135678391 38.85233083976996 L 5.0276381909547725 38.85880346515386 L 5.069849246231154 38.86527609053777 L 5.112060301507537 38.871748715921676 L 5.1542713567839185 38.87822134130558 L 5.1964824120603 38.88469396668949 L 5.238693467336682 38.8911665920734 L 5.280904522613064 38.897639217457304 L 5.323115577889446 38.90411184284121 L 5.365326633165828 38.91058446822512 L 5.4075376884422095 38.917057093609024 L 5.449748743718592 38.92352971899293 L 5.491959798994974 38.93000234437684 L 5.5341708542713555 38.936474969760745 L 5.576381909547737 38.94294759514465 L 5.61859296482412 38.94942022052856 L 5.660804020100501 38.955892845912466 L 5.703015075376883 38.96236547129637 L 5.745226130653265 38.96883809668028 L 5.7874371859296465 38.97531072206419 L 5.829648241206029 38.98178334744809 L 5.871859296482411 38.988255972832 L 5.9140703517587925 38.99472859821591 L 5.956281407035174 39.001201223599814 L 5.998492462311557 39.00767384898372 L 6.040703517587938 39.01414647436763 L 6.08291457286432 39.020619099751535 L 6.125125628140702 39.02709172513544 L 6.167336683417084 39.03356435051935 L 6.209547738693466 39.040036975903256 L 6.251758793969848 39.04650960128716 L 6.2939698492462295 39.05298222667107 L 6.336180904522612 39.05945485205498 L 6.378391959798994 39.06592747743888 L 6.4206030150753755 39.07240010282279 L 6.462814070351757 39.0788727282067 L 6.505025125628139 39.085345353590604 L 6.547236180904521 39.09181797897451 L 6.589447236180903 39.09829060435842 L 6.631658291457285 39.104763229742325 L 6.6738693467336665 39.11123585512623 L 6.716080402010049 39.11770848051014 L 6.758291457286431 39.124181105894046 L 6.8005025125628125 39.13065373127795 L 6.842713567839194 39.13712635666186 L 6.884924623115577 39.143598982045766 L 6.927135678391958 39.15007160742967 L 6.96934673366834 39.15654423281358 L 7.011557788944722 39.16301685819749 L 7.053768844221104 39.169489483581394 L 7.095979899497486 39.1759621089653 L 7.138190954773868 39.18243473434921 L 7.1804020100502495 39.188907359733115 L 7.222613065326631 39.19537998511702 L 7.264824120603014 39.20185261050093 L 7.307035175879395 39.208325235884836 L 7.349246231155777 39.21479786126874 L 7.391457286432159 39.22127048665265 L 7.433668341708541 39.227743112036556 L 7.475879396984923 39.23421573742046 L 7.518090452261305 39.24068836280437 L 7.5603015075376865 39.24716098818828 L 7.602512562814069 39.253633613572184 L 7.644723618090451 39.26010623895609 L 7.6869346733668324 39.26657886434 L 7.729145728643214 39.273051489723905 L 7.771356783919596 39.27952411510781 L 7.813567839195978 39.28599674049172 L 7.85577889447236 39.292469365875625 L 7.897989949748742 39.29894199125953 L 7.9402010050251235 39.30541461664344 L 7.982412060301506 39.311887242027346 L 8.024623115577889 39.31835986741125 L 8.06683417085427 39.32483249279516 L 8.109045226130652 39.33130511817907 L 8.151256281407035 39.337777743562974 L 8.193467336683415 39.34425036894688 L 8.235678391959798 39.35072299433079 L 8.277889447236179 39.357195619714695 L 8.320100502512561 39.3636682450986 L 8.362311557788944 39.37014087048251 L 8.404522613065325 39.376613495866415 L 8.446733668341707 39.38308612125032 L 8.48894472361809 39.38955874663423 L 8.53115577889447 39.396031372018136 L 8.573366834170853 39.40250399740204 L 8.615577889447236 39.40897662278595 L 8.657788944723617 39.41544924816986 L 8.7 39.421921873553764",
                    "type": "path"
                  }
                ],
                "template": {
                  "data": {
                    "bar": [
                      {
                        "error_x": {
                          "color": "#2a3f5f"
                        },
                        "error_y": {
                          "color": "#2a3f5f"
                        },
                        "marker": {
                          "line": {
                            "color": "white",
                            "width": 0.5
                          },
                          "pattern": {
                            "fillmode": "overlay",
                            "size": 10,
                            "solidity": 0.2
                          }
                        },
                        "type": "bar"
                      }
                    ],
                    "barpolar": [
                      {
                        "marker": {
                          "line": {
                            "color": "white",
                            "width": 0.5
                          },
                          "pattern": {
                            "fillmode": "overlay",
                            "size": 10,
                            "solidity": 0.2
                          }
                        },
                        "type": "barpolar"
                      }
                    ],
                    "box": [
                      {
                        "boxpoints": "outliers",
                        "notched": false,
                        "type": "box"
                      }
                    ],
                    "carpet": [
                      {
                        "aaxis": {
                          "endlinecolor": "#2a3f5f",
                          "gridcolor": "#C8D4E3",
                          "linecolor": "#C8D4E3",
                          "minorgridcolor": "#C8D4E3",
                          "startlinecolor": "#2a3f5f"
                        },
                        "baxis": {
                          "endlinecolor": "#2a3f5f",
                          "gridcolor": "#C8D4E3",
                          "linecolor": "#C8D4E3",
                          "minorgridcolor": "#C8D4E3",
                          "startlinecolor": "#2a3f5f"
                        },
                        "type": "carpet"
                      }
                    ],
                    "choropleth": [
                      {
                        "colorbar": {
                          "outlinewidth": 0,
                          "ticks": ""
                        },
                        "type": "choropleth"
                      }
                    ],
                    "contour": [
                      {
                        "colorbar": {
                          "outlinewidth": 0,
                          "ticks": ""
                        },
                        "colorscale": [
                          [
                            0,
                            "#0d0887"
                          ],
                          [
                            0.1111111111111111,
                            "#46039f"
                          ],
                          [
                            0.2222222222222222,
                            "#7201a8"
                          ],
                          [
                            0.3333333333333333,
                            "#9c179e"
                          ],
                          [
                            0.4444444444444444,
                            "#bd3786"
                          ],
                          [
                            0.5555555555555556,
                            "#d8576b"
                          ],
                          [
                            0.6666666666666666,
                            "#ed7953"
                          ],
                          [
                            0.7777777777777778,
                            "#fb9f3a"
                          ],
                          [
                            0.8888888888888888,
                            "#fdca26"
                          ],
                          [
                            1,
                            "#f0f921"
                          ]
                        ],
                        "type": "contour"
                      }
                    ],
                    "contourcarpet": [
                      {
                        "colorbar": {
                          "outlinewidth": 0,
                          "ticks": ""
                        },
                        "type": "contourcarpet"
                      }
                    ],
                    "heatmap": [
                      {
                        "colorbar": {
                          "outlinewidth": 0,
                          "ticks": ""
                        },
                        "colorscale": [
                          [
                            0,
                            "#0d0887"
                          ],
                          [
                            0.1111111111111111,
                            "#46039f"
                          ],
                          [
                            0.2222222222222222,
                            "#7201a8"
                          ],
                          [
                            0.3333333333333333,
                            "#9c179e"
                          ],
                          [
                            0.4444444444444444,
                            "#bd3786"
                          ],
                          [
                            0.5555555555555556,
                            "#d8576b"
                          ],
                          [
                            0.6666666666666666,
                            "#ed7953"
                          ],
                          [
                            0.7777777777777778,
                            "#fb9f3a"
                          ],
                          [
                            0.8888888888888888,
                            "#fdca26"
                          ],
                          [
                            1,
                            "#f0f921"
                          ]
                        ],
                        "type": "heatmap"
                      }
                    ],
                    "heatmapgl": [
                      {
                        "colorbar": {
                          "outlinewidth": 0,
                          "ticks": ""
                        },
                        "colorscale": [
                          [
                            0,
                            "#0d0887"
                          ],
                          [
                            0.1111111111111111,
                            "#46039f"
                          ],
                          [
                            0.2222222222222222,
                            "#7201a8"
                          ],
                          [
                            0.3333333333333333,
                            "#9c179e"
                          ],
                          [
                            0.4444444444444444,
                            "#bd3786"
                          ],
                          [
                            0.5555555555555556,
                            "#d8576b"
                          ],
                          [
                            0.6666666666666666,
                            "#ed7953"
                          ],
                          [
                            0.7777777777777778,
                            "#fb9f3a"
                          ],
                          [
                            0.8888888888888888,
                            "#fdca26"
                          ],
                          [
                            1,
                            "#f0f921"
                          ]
                        ],
                        "type": "heatmapgl"
                      }
                    ],
                    "histogram": [
                      {
                        "marker": {
                          "line": {
                            "width": 1
                          },
                          "pattern": {
                            "fillmode": "overlay",
                            "size": 10,
                            "solidity": 0.2
                          }
                        },
                        "type": "histogram"
                      }
                    ],
                    "histogram2d": [
                      {
                        "colorbar": {
                          "outlinewidth": 0,
                          "ticks": ""
                        },
                        "colorscale": [
                          [
                            0,
                            "#0d0887"
                          ],
                          [
                            0.1111111111111111,
                            "#46039f"
                          ],
                          [
                            0.2222222222222222,
                            "#7201a8"
                          ],
                          [
                            0.3333333333333333,
                            "#9c179e"
                          ],
                          [
                            0.4444444444444444,
                            "#bd3786"
                          ],
                          [
                            0.5555555555555556,
                            "#d8576b"
                          ],
                          [
                            0.6666666666666666,
                            "#ed7953"
                          ],
                          [
                            0.7777777777777778,
                            "#fb9f3a"
                          ],
                          [
                            0.8888888888888888,
                            "#fdca26"
                          ],
                          [
                            1,
                            "#f0f921"
                          ]
                        ],
                        "type": "histogram2d"
                      }
                    ],
                    "histogram2dcontour": [
                      {
                        "colorbar": {
                          "outlinewidth": 0,
                          "ticks": ""
                        },
                        "colorscale": [
                          [
                            0,
                            "#0d0887"
                          ],
                          [
                            0.1111111111111111,
                            "#46039f"
                          ],
                          [
                            0.2222222222222222,
                            "#7201a8"
                          ],
                          [
                            0.3333333333333333,
                            "#9c179e"
                          ],
                          [
                            0.4444444444444444,
                            "#bd3786"
                          ],
                          [
                            0.5555555555555556,
                            "#d8576b"
                          ],
                          [
                            0.6666666666666666,
                            "#ed7953"
                          ],
                          [
                            0.7777777777777778,
                            "#fb9f3a"
                          ],
                          [
                            0.8888888888888888,
                            "#fdca26"
                          ],
                          [
                            1,
                            "#f0f921"
                          ]
                        ],
                        "type": "histogram2dcontour"
                      }
                    ],
                    "mesh3d": [
                      {
                        "colorbar": {
                          "outlinewidth": 0,
                          "ticks": ""
                        },
                        "type": "mesh3d"
                      }
                    ],
                    "parcoords": [
                      {
                        "line": {
                          "colorbar": {
                            "outlinewidth": 0,
                            "ticks": ""
                          }
                        },
                        "type": "parcoords"
                      }
                    ],
                    "pie": [
                      {
                        "automargin": true,
                        "type": "pie"
                      }
                    ],
                    "scatter": [
                      {
                        "fillpattern": {
                          "fillmode": "overlay",
                          "size": 10,
                          "solidity": 0.2
                        },
                        "marker": {
                          "opacity": 0.8
                        },
                        "type": "scatter"
                      }
                    ],
                    "scatter3d": [
                      {
                        "line": {
                          "colorbar": {
                            "outlinewidth": 0,
                            "ticks": ""
                          }
                        },
                        "marker": {
                          "colorbar": {
                            "outlinewidth": 0,
                            "ticks": ""
                          },
                          "opacity": 0.8
                        },
                        "type": "scatter3d"
                      }
                    ],
                    "scattercarpet": [
                      {
                        "marker": {
                          "colorbar": {
                            "outlinewidth": 0,
                            "ticks": ""
                          }
                        },
                        "type": "scattercarpet"
                      }
                    ],
                    "scattergeo": [
                      {
                        "marker": {
                          "colorbar": {
                            "outlinewidth": 0,
                            "ticks": ""
                          }
                        },
                        "type": "scattergeo"
                      }
                    ],
                    "scattergl": [
                      {
                        "marker": {
                          "colorbar": {
                            "outlinewidth": 0,
                            "ticks": ""
                          }
                        },
                        "type": "scattergl"
                      }
                    ],
                    "scattermapbox": [
                      {
                        "marker": {
                          "colorbar": {
                            "outlinewidth": 0,
                            "ticks": ""
                          }
                        },
                        "type": "scattermapbox"
                      }
                    ],
                    "scatterpolar": [
                      {
                        "marker": {
                          "colorbar": {
                            "outlinewidth": 0,
                            "ticks": ""
                          }
                        },
                        "type": "scatterpolar"
                      }
                    ],
                    "scatterpolargl": [
                      {
                        "marker": {
                          "colorbar": {
                            "outlinewidth": 0,
                            "ticks": ""
                          }
                        },
                        "type": "scatterpolargl"
                      }
                    ],
                    "scatterternary": [
                      {
                        "marker": {
                          "colorbar": {
                            "outlinewidth": 0,
                            "ticks": ""
                          }
                        },
                        "type": "scatterternary"
                      }
                    ],
                    "surface": [
                      {
                        "colorbar": {
                          "outlinewidth": 0,
                          "ticks": ""
                        },
                        "colorscale": [
                          [
                            0,
                            "#0d0887"
                          ],
                          [
                            0.1111111111111111,
                            "#46039f"
                          ],
                          [
                            0.2222222222222222,
                            "#7201a8"
                          ],
                          [
                            0.3333333333333333,
                            "#9c179e"
                          ],
                          [
                            0.4444444444444444,
                            "#bd3786"
                          ],
                          [
                            0.5555555555555556,
                            "#d8576b"
                          ],
                          [
                            0.6666666666666666,
                            "#ed7953"
                          ],
                          [
                            0.7777777777777778,
                            "#fb9f3a"
                          ],
                          [
                            0.8888888888888888,
                            "#fdca26"
                          ],
                          [
                            1,
                            "#f0f921"
                          ]
                        ],
                        "type": "surface"
                      }
                    ],
                    "table": [
                      {
                        "cells": {
                          "fill": {
                            "color": "#EBF0F8"
                          },
                          "line": {
                            "color": "white"
                          }
                        },
                        "header": {
                          "fill": {
                            "color": "#C8D4E3"
                          },
                          "line": {
                            "color": "white"
                          }
                        },
                        "type": "table"
                      }
                    ]
                  },
                  "layout": {
                    "annotationdefaults": {
                      "arrowcolor": "#2a3f5f",
                      "arrowhead": 0,
                      "arrowwidth": 1
                    },
                    "autotypenumbers": "strict",
                    "coloraxis": {
                      "colorbar": {
                        "outlinewidth": 0,
                        "ticks": ""
                      }
                    },
                    "colorscale": {
                      "diverging": [
                        [
                          0,
                          "#8e0152"
                        ],
                        [
                          0.1,
                          "#c51b7d"
                        ],
                        [
                          0.2,
                          "#de77ae"
                        ],
                        [
                          0.3,
                          "#f1b6da"
                        ],
                        [
                          0.4,
                          "#fde0ef"
                        ],
                        [
                          0.5,
                          "#f7f7f7"
                        ],
                        [
                          0.6,
                          "#e6f5d0"
                        ],
                        [
                          0.7,
                          "#b8e186"
                        ],
                        [
                          0.8,
                          "#7fbc41"
                        ],
                        [
                          0.9,
                          "#4d9221"
                        ],
                        [
                          1,
                          "#276419"
                        ]
                      ],
                      "sequential": [
                        [
                          0,
                          "#0d0887"
                        ],
                        [
                          0.1111111111111111,
                          "#46039f"
                        ],
                        [
                          0.2222222222222222,
                          "#7201a8"
                        ],
                        [
                          0.3333333333333333,
                          "#9c179e"
                        ],
                        [
                          0.4444444444444444,
                          "#bd3786"
                        ],
                        [
                          0.5555555555555556,
                          "#d8576b"
                        ],
                        [
                          0.6666666666666666,
                          "#ed7953"
                        ],
                        [
                          0.7777777777777778,
                          "#fb9f3a"
                        ],
                        [
                          0.8888888888888888,
                          "#fdca26"
                        ],
                        [
                          1,
                          "#f0f921"
                        ]
                      ],
                      "sequentialminus": [
                        [
                          0,
                          "#0d0887"
                        ],
                        [
                          0.1111111111111111,
                          "#46039f"
                        ],
                        [
                          0.2222222222222222,
                          "#7201a8"
                        ],
                        [
                          0.3333333333333333,
                          "#9c179e"
                        ],
                        [
                          0.4444444444444444,
                          "#bd3786"
                        ],
                        [
                          0.5555555555555556,
                          "#d8576b"
                        ],
                        [
                          0.6666666666666666,
                          "#ed7953"
                        ],
                        [
                          0.7777777777777778,
                          "#fb9f3a"
                        ],
                        [
                          0.8888888888888888,
                          "#fdca26"
                        ],
                        [
                          1,
                          "#f0f921"
                        ]
                      ]
                    },
                    "colorway": [
                      "#636efa",
                      "#EF553B",
                      "#00cc96",
                      "#ab63fa",
                      "#FFA15A",
                      "#19d3f3",
                      "#FF6692",
                      "#B6E880",
                      "#FF97FF",
                      "#FECB52"
                    ],
                    "font": {
                      "color": "#2a3f5f"
                    },
                    "geo": {
                      "bgcolor": "white",
                      "lakecolor": "white",
                      "landcolor": "white",
                      "showlakes": true,
                      "showland": true,
                      "subunitcolor": "#C8D4E3"
                    },
                    "height": 400,
                    "hoverlabel": {
                      "align": "left"
                    },
                    "hovermode": "closest",
                    "mapbox": {
                      "style": "light"
                    },
                    "margin": {
                      "b": 2,
                      "l": 2,
                      "r": 2,
                      "t": 30
                    },
                    "paper_bgcolor": "white",
                    "plot_bgcolor": "white",
                    "polar": {
                      "angularaxis": {
                        "gridcolor": "#EBF0F8",
                        "linecolor": "#EBF0F8",
                        "ticks": ""
                      },
                      "bgcolor": "white",
                      "radialaxis": {
                        "gridcolor": "#EBF0F8",
                        "linecolor": "#EBF0F8",
                        "ticks": ""
                      }
                    },
                    "scene": {
                      "camera": {
                        "eye": {
                          "x": 1.5,
                          "y": 1.5,
                          "z": 0.1
                        }
                      },
                      "xaxis": {
                        "backgroundcolor": "white",
                        "gridcolor": "#DFE8F3",
                        "gridwidth": 2,
                        "linecolor": "#EBF0F8",
                        "showbackground": true,
                        "ticks": "",
                        "zerolinecolor": "#EBF0F8"
                      },
                      "yaxis": {
                        "backgroundcolor": "white",
                        "gridcolor": "#DFE8F3",
                        "gridwidth": 2,
                        "linecolor": "#EBF0F8",
                        "showbackground": true,
                        "ticks": "",
                        "zerolinecolor": "#EBF0F8"
                      },
                      "zaxis": {
                        "backgroundcolor": "white",
                        "gridcolor": "#DFE8F3",
                        "gridwidth": 2,
                        "linecolor": "#EBF0F8",
                        "showbackground": true,
                        "ticks": "",
                        "zerolinecolor": "#EBF0F8"
                      }
                    },
                    "shapedefaults": {
                      "line": {
                        "color": "#2a3f5f"
                      }
                    },
                    "ternary": {
                      "aaxis": {
                        "gridcolor": "#DFE8F3",
                        "linecolor": "#A2B1C6",
                        "ticks": ""
                      },
                      "baxis": {
                        "gridcolor": "#DFE8F3",
                        "linecolor": "#A2B1C6",
                        "ticks": ""
                      },
                      "bgcolor": "white",
                      "caxis": {
                        "gridcolor": "#DFE8F3",
                        "linecolor": "#A2B1C6",
                        "ticks": ""
                      }
                    },
                    "title": {
                      "x": 0.5
                    },
                    "xaxis": {
                      "automargin": true,
                      "gridcolor": "#EBF0F8",
                      "linecolor": "#EBF0F8",
                      "linewidth": 2,
                      "showline": true,
                      "ticks": "",
                      "title": {
                        "standoff": 15
                      },
                      "zerolinecolor": "#EBF0F8",
                      "zerolinewidth": 2
                    },
                    "yaxis": {
                      "automargin": true,
                      "gridcolor": "#EBF0F8",
                      "linecolor": "#EBF0F8",
                      "linewidth": 2,
                      "showline": true,
                      "ticks": "",
                      "title": {
                        "standoff": 15
                      },
                      "zerolinecolor": "#EBF0F8",
                      "zerolinewidth": 2
                    }
                  }
                },
                "title": {
                  "text": "Trained model"
                },
                "xaxis": {
                  "anchor": "y",
                  "domain": [
                    0,
                    1
                  ],
                  "title": {
                    "text": "age"
                  }
                },
                "yaxis": {
                  "anchor": "x",
                  "domain": [
                    0,
                    1
                  ],
                  "title": {
                    "text": "core temperature"
                  }
                }
              }
            }
          },
          "metadata": {},
          "output_type": "display_data"
        }
      ],
      "source": [
        "formula = \"core_temperature ~ age\"\n",
        "age_trained_model = smf.ols(formula = formula, data = dataset).fit()\n",
        "age_naive_model = smf.ols(formula = formula, data = dataset).fit()\n",
        "age_naive_model.params[0] = dataset['core_temperature'].mean()\n",
        "age_naive_model.params[1] = 0\n",
        "\n",
        "print(\"naive R-squared:\", age_naive_model.rsquared)\n",
        "print(\"trained R-squared:\", age_trained_model.rsquared)\n",
        "\n",
        "# Show a graph of the result\n",
        "graphing.scatter_2D(dataset, label_x=\"age\", \n",
        "                                label_y=\"core_temperature\",\n",
        "                                title = \"Naive model\",\n",
        "                                trendline=lambda x: dataset['core_temperature'].repeat(len(x)), \n",
        "                                show=True)\n",
        "# Show a graph of the result\n",
        "graphing.scatter_2D(dataset, label_x=\"age\", \n",
        "                                label_y=\"core_temperature\",\n",
        "                                title = \"Trained model\",\n",
        "                                trendline=lambda x: age_trained_model.params[1] * x + age_trained_model.params[0])\n",
        "\n"
      ]
    },
    {
      "attachments": {},
      "cell_type": "markdown",
      "id": "e81cc211-5783-494a-bb7a-ded709ba680b",
      "metadata": {},
      "source": [
        "## Multiple Linear Regression\n",
        "\n",
        "Instead of modeling these separately, lets try to combine these into a single model. Body fat didn't seem to be useful after all, so let's just use `male` and `age` as features."
      ]
    },
    {
      "cell_type": "code",
      "execution_count": 6,
      "id": "30e2dc64-4272-45c8-970e-6ce67826951b",
      "metadata": {},
      "outputs": [
        {
          "name": "stdout",
          "output_type": "stream",
          "text": [
            "R-squared: 0.31485126997680135\n"
          ]
        }
      ],
      "source": [
        "model = smf.ols(formula = \"core_temperature ~ age + male\", data = dataset).fit()\n",
        "\n",
        "print(\"R-squared:\", model.rsquared)"
      ]
    },
    {
      "attachments": {},
      "cell_type": "markdown",
      "id": "23475cca-deb4-4344-ac51-439b2913c946",
      "metadata": {},
      "source": [
        "By using both features at the same time, we got a better result than any of the one-feature (univariate) models.\n",
        "\n",
        "How can we view this, though? Well, a simple linear regression is drawn in 2D. If we're working with an extra variable, we add one dimension and work in 3D. "
      ]
    },
    {
      "cell_type": "code",
      "execution_count": 7,
      "id": "cbbedc0d-dbd3-410b-a245-7119dcc37272",
      "metadata": {},
      "outputs": [
        {
          "name": "stderr",
          "output_type": "stream",
          "text": [
            "/Users/ncng/Documents/Projects/Python-Beginners-Course/13-Linear-Regression/../Scripts/graphing.py:490: FutureWarning:\n",
            "\n",
            "Calling float on a single element Series is deprecated and will raise a TypeError in the future. Use float(ser.iloc[0]) instead\n",
            "\n",
            "/Users/ncng/Documents/Projects/Python-Beginners-Course/13-Linear-Regression/../Scripts/graphing.py:490: FutureWarning:\n",
            "\n",
            "Calling float on a single element Series is deprecated and will raise a TypeError in the future. Use float(ser.iloc[0]) instead\n",
            "\n",
            "/Users/ncng/Documents/Projects/Python-Beginners-Course/13-Linear-Regression/../Scripts/graphing.py:490: FutureWarning:\n",
            "\n",
            "Calling float on a single element Series is deprecated and will raise a TypeError in the future. Use float(ser.iloc[0]) instead\n",
            "\n",
            "/Users/ncng/Documents/Projects/Python-Beginners-Course/13-Linear-Regression/../Scripts/graphing.py:490: FutureWarning:\n",
            "\n",
            "Calling float on a single element Series is deprecated and will raise a TypeError in the future. Use float(ser.iloc[0]) instead\n",
            "\n"
          ]
        },
        {
          "data": {
            "application/vnd.plotly.v1+json": {
              "config": {
                "plotlyServerURL": "https://plot.ly"
              },
              "data": [
                {
                  "colorbar": {
                    "title": {
                      "text": "Core temperature"
                    }
                  },
                  "type": "surface",
                  "x": [
                    0.3,
                    8.7
                  ],
                  "y": [
                    0,
                    1
                  ],
                  "z": [
                    [
                      38.0215256468327,
                      39.20287941382101
                    ],
                    [
                      38.33969218635935,
                      39.52104595334766
                    ]
                  ]
                },
                {
                  "mode": "markers",
                  "type": "scatter3d",
                  "x": [
                    6.9,
                    5.4,
                    5.4,
                    4.8,
                    4.8,
                    7.8,
                    2.7,
                    5.7,
                    1.5,
                    1.8,
                    4.2,
                    4.5,
                    1.5,
                    5.1,
                    4.8,
                    5.1,
                    3.6,
                    4.2,
                    2.7,
                    8.7,
                    0.9,
                    6.3,
                    1.2,
                    2.7,
                    6,
                    6,
                    0.6,
                    3.9,
                    6,
                    5.7,
                    6.9,
                    5.1,
                    2.1,
                    3.6,
                    6.3,
                    2.4,
                    8.4,
                    7.5,
                    5.7,
                    5.7,
                    2.7,
                    4.2,
                    6.9,
                    3,
                    1.8,
                    2.4,
                    6.3,
                    0.6,
                    1.8,
                    4.8,
                    8.4,
                    8.1,
                    6.3,
                    8.7,
                    4.5,
                    4.5,
                    7.5,
                    1.2,
                    5.7,
                    0.6,
                    6.9,
                    8.1,
                    0.6,
                    1.2,
                    6.6,
                    8.1,
                    2.7,
                    3.9,
                    4.2,
                    6.9,
                    1.2,
                    3.9,
                    3.6,
                    0.3,
                    3,
                    8.7,
                    2.1,
                    6.6,
                    1.5,
                    5.1,
                    6,
                    2.1,
                    6,
                    4.2,
                    1.5,
                    1.8,
                    1.8,
                    6.9,
                    6.9,
                    4.5,
                    1.8,
                    8.4,
                    3,
                    4.5,
                    1.8,
                    6.6,
                    6.9,
                    6
                  ],
                  "y": [
                    0,
                    0,
                    1,
                    1,
                    1,
                    0,
                    1,
                    1,
                    0,
                    0,
                    1,
                    0,
                    1,
                    1,
                    0,
                    1,
                    1,
                    1,
                    0,
                    1,
                    0,
                    1,
                    0,
                    1,
                    1,
                    0,
                    1,
                    0,
                    0,
                    0,
                    1,
                    0,
                    1,
                    1,
                    1,
                    1,
                    1,
                    1,
                    0,
                    1,
                    0,
                    1,
                    0,
                    0,
                    0,
                    0,
                    0,
                    1,
                    0,
                    1,
                    1,
                    1,
                    0,
                    0,
                    1,
                    0,
                    1,
                    0,
                    1,
                    0,
                    1,
                    1,
                    1,
                    1,
                    1,
                    1,
                    1,
                    0,
                    0,
                    1,
                    0,
                    1,
                    1,
                    0,
                    0,
                    1,
                    0,
                    1,
                    0,
                    0,
                    0,
                    1,
                    0,
                    0,
                    1,
                    1,
                    0,
                    1,
                    0,
                    0,
                    0,
                    1,
                    0,
                    0,
                    1,
                    0,
                    0,
                    1
                  ],
                  "z": [
                    38.42316895,
                    39.01599822,
                    39.14834088,
                    39.06004863,
                    38.65543905,
                    38.6092188,
                    39.47390806,
                    38.81521612,
                    37.77845286,
                    39.17685034,
                    39.52090819,
                    38.57896943,
                    38.28013391,
                    38.40158039,
                    38.65157641,
                    39.61720308,
                    37.72843549,
                    39.36694049,
                    37.98848685,
                    39.93405104,
                    37.60559023,
                    38.83468198,
                    37.39892664,
                    38.98633063,
                    39.72456882,
                    38.09695504,
                    37.59597881,
                    39.49731323,
                    38.50187636,
                    38.27036031,
                    38.69964224,
                    39.08411118,
                    38.29400364,
                    38.39872285,
                    39.29951536,
                    38.37598649,
                    38.46968433,
                    39.58561173,
                    38.12682317,
                    39.80156649,
                    37.92682179,
                    39.67264697,
                    38.21409556,
                    38.93217418,
                    37.80121676,
                    37.52097889,
                    39.34942824,
                    38.9163822,
                    38.72595498,
                    38.35421436,
                    40.17337876,
                    39.48214424,
                    39.9557292,
                    39.02529641,
                    39.70565695,
                    37.87210056,
                    38.92730588,
                    38.75694066,
                    38.98157028,
                    39.07020183,
                    39.31023381,
                    40.26487847,
                    39.19531025,
                    37.46606804,
                    38.61929591,
                    39.74308443,
                    37.9590829,
                    38.52387016,
                    39.58821189,
                    39.48780846,
                    37.32113362,
                    38.30311301,
                    39.32598796,
                    38.18373964,
                    37.78518905,
                    38.97361387,
                    37.97719515,
                    38.92654301,
                    37.98922316,
                    39.87010492,
                    38.51344083,
                    39.14710639,
                    38.61129304,
                    38.95232638,
                    37.46812464,
                    38.24131363,
                    38.7661591,
                    39.87233432,
                    38.87492299,
                    39.09337261,
                    39.00124171,
                    39.25963687,
                    38.6808734,
                    37.93994229,
                    38.79042609,
                    39.48996228,
                    38.57574159,
                    39.76644658
                  ]
                }
              ],
              "layout": {
                "scene": {
                  "xaxis": {
                    "title": {
                      "text": "Age"
                    }
                  },
                  "yaxis": {
                    "title": {
                      "text": "Male"
                    }
                  },
                  "zaxis": {
                    "title": {
                      "text": "Core temperature"
                    }
                  }
                },
                "template": {
                  "data": {
                    "bar": [
                      {
                        "error_x": {
                          "color": "#2a3f5f"
                        },
                        "error_y": {
                          "color": "#2a3f5f"
                        },
                        "marker": {
                          "line": {
                            "color": "white",
                            "width": 0.5
                          },
                          "pattern": {
                            "fillmode": "overlay",
                            "size": 10,
                            "solidity": 0.2
                          }
                        },
                        "type": "bar"
                      }
                    ],
                    "barpolar": [
                      {
                        "marker": {
                          "line": {
                            "color": "white",
                            "width": 0.5
                          },
                          "pattern": {
                            "fillmode": "overlay",
                            "size": 10,
                            "solidity": 0.2
                          }
                        },
                        "type": "barpolar"
                      }
                    ],
                    "box": [
                      {
                        "boxpoints": "outliers",
                        "notched": false,
                        "type": "box"
                      }
                    ],
                    "carpet": [
                      {
                        "aaxis": {
                          "endlinecolor": "#2a3f5f",
                          "gridcolor": "#C8D4E3",
                          "linecolor": "#C8D4E3",
                          "minorgridcolor": "#C8D4E3",
                          "startlinecolor": "#2a3f5f"
                        },
                        "baxis": {
                          "endlinecolor": "#2a3f5f",
                          "gridcolor": "#C8D4E3",
                          "linecolor": "#C8D4E3",
                          "minorgridcolor": "#C8D4E3",
                          "startlinecolor": "#2a3f5f"
                        },
                        "type": "carpet"
                      }
                    ],
                    "choropleth": [
                      {
                        "colorbar": {
                          "outlinewidth": 0,
                          "ticks": ""
                        },
                        "type": "choropleth"
                      }
                    ],
                    "contour": [
                      {
                        "colorbar": {
                          "outlinewidth": 0,
                          "ticks": ""
                        },
                        "colorscale": [
                          [
                            0,
                            "#0d0887"
                          ],
                          [
                            0.1111111111111111,
                            "#46039f"
                          ],
                          [
                            0.2222222222222222,
                            "#7201a8"
                          ],
                          [
                            0.3333333333333333,
                            "#9c179e"
                          ],
                          [
                            0.4444444444444444,
                            "#bd3786"
                          ],
                          [
                            0.5555555555555556,
                            "#d8576b"
                          ],
                          [
                            0.6666666666666666,
                            "#ed7953"
                          ],
                          [
                            0.7777777777777778,
                            "#fb9f3a"
                          ],
                          [
                            0.8888888888888888,
                            "#fdca26"
                          ],
                          [
                            1,
                            "#f0f921"
                          ]
                        ],
                        "type": "contour"
                      }
                    ],
                    "contourcarpet": [
                      {
                        "colorbar": {
                          "outlinewidth": 0,
                          "ticks": ""
                        },
                        "type": "contourcarpet"
                      }
                    ],
                    "heatmap": [
                      {
                        "colorbar": {
                          "outlinewidth": 0,
                          "ticks": ""
                        },
                        "colorscale": [
                          [
                            0,
                            "#0d0887"
                          ],
                          [
                            0.1111111111111111,
                            "#46039f"
                          ],
                          [
                            0.2222222222222222,
                            "#7201a8"
                          ],
                          [
                            0.3333333333333333,
                            "#9c179e"
                          ],
                          [
                            0.4444444444444444,
                            "#bd3786"
                          ],
                          [
                            0.5555555555555556,
                            "#d8576b"
                          ],
                          [
                            0.6666666666666666,
                            "#ed7953"
                          ],
                          [
                            0.7777777777777778,
                            "#fb9f3a"
                          ],
                          [
                            0.8888888888888888,
                            "#fdca26"
                          ],
                          [
                            1,
                            "#f0f921"
                          ]
                        ],
                        "type": "heatmap"
                      }
                    ],
                    "heatmapgl": [
                      {
                        "colorbar": {
                          "outlinewidth": 0,
                          "ticks": ""
                        },
                        "colorscale": [
                          [
                            0,
                            "#0d0887"
                          ],
                          [
                            0.1111111111111111,
                            "#46039f"
                          ],
                          [
                            0.2222222222222222,
                            "#7201a8"
                          ],
                          [
                            0.3333333333333333,
                            "#9c179e"
                          ],
                          [
                            0.4444444444444444,
                            "#bd3786"
                          ],
                          [
                            0.5555555555555556,
                            "#d8576b"
                          ],
                          [
                            0.6666666666666666,
                            "#ed7953"
                          ],
                          [
                            0.7777777777777778,
                            "#fb9f3a"
                          ],
                          [
                            0.8888888888888888,
                            "#fdca26"
                          ],
                          [
                            1,
                            "#f0f921"
                          ]
                        ],
                        "type": "heatmapgl"
                      }
                    ],
                    "histogram": [
                      {
                        "marker": {
                          "line": {
                            "width": 1
                          },
                          "pattern": {
                            "fillmode": "overlay",
                            "size": 10,
                            "solidity": 0.2
                          }
                        },
                        "type": "histogram"
                      }
                    ],
                    "histogram2d": [
                      {
                        "colorbar": {
                          "outlinewidth": 0,
                          "ticks": ""
                        },
                        "colorscale": [
                          [
                            0,
                            "#0d0887"
                          ],
                          [
                            0.1111111111111111,
                            "#46039f"
                          ],
                          [
                            0.2222222222222222,
                            "#7201a8"
                          ],
                          [
                            0.3333333333333333,
                            "#9c179e"
                          ],
                          [
                            0.4444444444444444,
                            "#bd3786"
                          ],
                          [
                            0.5555555555555556,
                            "#d8576b"
                          ],
                          [
                            0.6666666666666666,
                            "#ed7953"
                          ],
                          [
                            0.7777777777777778,
                            "#fb9f3a"
                          ],
                          [
                            0.8888888888888888,
                            "#fdca26"
                          ],
                          [
                            1,
                            "#f0f921"
                          ]
                        ],
                        "type": "histogram2d"
                      }
                    ],
                    "histogram2dcontour": [
                      {
                        "colorbar": {
                          "outlinewidth": 0,
                          "ticks": ""
                        },
                        "colorscale": [
                          [
                            0,
                            "#0d0887"
                          ],
                          [
                            0.1111111111111111,
                            "#46039f"
                          ],
                          [
                            0.2222222222222222,
                            "#7201a8"
                          ],
                          [
                            0.3333333333333333,
                            "#9c179e"
                          ],
                          [
                            0.4444444444444444,
                            "#bd3786"
                          ],
                          [
                            0.5555555555555556,
                            "#d8576b"
                          ],
                          [
                            0.6666666666666666,
                            "#ed7953"
                          ],
                          [
                            0.7777777777777778,
                            "#fb9f3a"
                          ],
                          [
                            0.8888888888888888,
                            "#fdca26"
                          ],
                          [
                            1,
                            "#f0f921"
                          ]
                        ],
                        "type": "histogram2dcontour"
                      }
                    ],
                    "mesh3d": [
                      {
                        "colorbar": {
                          "outlinewidth": 0,
                          "ticks": ""
                        },
                        "type": "mesh3d"
                      }
                    ],
                    "parcoords": [
                      {
                        "line": {
                          "colorbar": {
                            "outlinewidth": 0,
                            "ticks": ""
                          }
                        },
                        "type": "parcoords"
                      }
                    ],
                    "pie": [
                      {
                        "automargin": true,
                        "type": "pie"
                      }
                    ],
                    "scatter": [
                      {
                        "fillpattern": {
                          "fillmode": "overlay",
                          "size": 10,
                          "solidity": 0.2
                        },
                        "marker": {
                          "opacity": 0.8
                        },
                        "type": "scatter"
                      }
                    ],
                    "scatter3d": [
                      {
                        "line": {
                          "colorbar": {
                            "outlinewidth": 0,
                            "ticks": ""
                          }
                        },
                        "marker": {
                          "colorbar": {
                            "outlinewidth": 0,
                            "ticks": ""
                          },
                          "opacity": 0.8
                        },
                        "type": "scatter3d"
                      }
                    ],
                    "scattercarpet": [
                      {
                        "marker": {
                          "colorbar": {
                            "outlinewidth": 0,
                            "ticks": ""
                          }
                        },
                        "type": "scattercarpet"
                      }
                    ],
                    "scattergeo": [
                      {
                        "marker": {
                          "colorbar": {
                            "outlinewidth": 0,
                            "ticks": ""
                          }
                        },
                        "type": "scattergeo"
                      }
                    ],
                    "scattergl": [
                      {
                        "marker": {
                          "colorbar": {
                            "outlinewidth": 0,
                            "ticks": ""
                          }
                        },
                        "type": "scattergl"
                      }
                    ],
                    "scattermapbox": [
                      {
                        "marker": {
                          "colorbar": {
                            "outlinewidth": 0,
                            "ticks": ""
                          }
                        },
                        "type": "scattermapbox"
                      }
                    ],
                    "scatterpolar": [
                      {
                        "marker": {
                          "colorbar": {
                            "outlinewidth": 0,
                            "ticks": ""
                          }
                        },
                        "type": "scatterpolar"
                      }
                    ],
                    "scatterpolargl": [
                      {
                        "marker": {
                          "colorbar": {
                            "outlinewidth": 0,
                            "ticks": ""
                          }
                        },
                        "type": "scatterpolargl"
                      }
                    ],
                    "scatterternary": [
                      {
                        "marker": {
                          "colorbar": {
                            "outlinewidth": 0,
                            "ticks": ""
                          }
                        },
                        "type": "scatterternary"
                      }
                    ],
                    "surface": [
                      {
                        "colorbar": {
                          "outlinewidth": 0,
                          "ticks": ""
                        },
                        "colorscale": [
                          [
                            0,
                            "#0d0887"
                          ],
                          [
                            0.1111111111111111,
                            "#46039f"
                          ],
                          [
                            0.2222222222222222,
                            "#7201a8"
                          ],
                          [
                            0.3333333333333333,
                            "#9c179e"
                          ],
                          [
                            0.4444444444444444,
                            "#bd3786"
                          ],
                          [
                            0.5555555555555556,
                            "#d8576b"
                          ],
                          [
                            0.6666666666666666,
                            "#ed7953"
                          ],
                          [
                            0.7777777777777778,
                            "#fb9f3a"
                          ],
                          [
                            0.8888888888888888,
                            "#fdca26"
                          ],
                          [
                            1,
                            "#f0f921"
                          ]
                        ],
                        "type": "surface"
                      }
                    ],
                    "table": [
                      {
                        "cells": {
                          "fill": {
                            "color": "#EBF0F8"
                          },
                          "line": {
                            "color": "white"
                          }
                        },
                        "header": {
                          "fill": {
                            "color": "#C8D4E3"
                          },
                          "line": {
                            "color": "white"
                          }
                        },
                        "type": "table"
                      }
                    ]
                  },
                  "layout": {
                    "annotationdefaults": {
                      "arrowcolor": "#2a3f5f",
                      "arrowhead": 0,
                      "arrowwidth": 1
                    },
                    "autotypenumbers": "strict",
                    "coloraxis": {
                      "colorbar": {
                        "outlinewidth": 0,
                        "ticks": ""
                      }
                    },
                    "colorscale": {
                      "diverging": [
                        [
                          0,
                          "#8e0152"
                        ],
                        [
                          0.1,
                          "#c51b7d"
                        ],
                        [
                          0.2,
                          "#de77ae"
                        ],
                        [
                          0.3,
                          "#f1b6da"
                        ],
                        [
                          0.4,
                          "#fde0ef"
                        ],
                        [
                          0.5,
                          "#f7f7f7"
                        ],
                        [
                          0.6,
                          "#e6f5d0"
                        ],
                        [
                          0.7,
                          "#b8e186"
                        ],
                        [
                          0.8,
                          "#7fbc41"
                        ],
                        [
                          0.9,
                          "#4d9221"
                        ],
                        [
                          1,
                          "#276419"
                        ]
                      ],
                      "sequential": [
                        [
                          0,
                          "#0d0887"
                        ],
                        [
                          0.1111111111111111,
                          "#46039f"
                        ],
                        [
                          0.2222222222222222,
                          "#7201a8"
                        ],
                        [
                          0.3333333333333333,
                          "#9c179e"
                        ],
                        [
                          0.4444444444444444,
                          "#bd3786"
                        ],
                        [
                          0.5555555555555556,
                          "#d8576b"
                        ],
                        [
                          0.6666666666666666,
                          "#ed7953"
                        ],
                        [
                          0.7777777777777778,
                          "#fb9f3a"
                        ],
                        [
                          0.8888888888888888,
                          "#fdca26"
                        ],
                        [
                          1,
                          "#f0f921"
                        ]
                      ],
                      "sequentialminus": [
                        [
                          0,
                          "#0d0887"
                        ],
                        [
                          0.1111111111111111,
                          "#46039f"
                        ],
                        [
                          0.2222222222222222,
                          "#7201a8"
                        ],
                        [
                          0.3333333333333333,
                          "#9c179e"
                        ],
                        [
                          0.4444444444444444,
                          "#bd3786"
                        ],
                        [
                          0.5555555555555556,
                          "#d8576b"
                        ],
                        [
                          0.6666666666666666,
                          "#ed7953"
                        ],
                        [
                          0.7777777777777778,
                          "#fb9f3a"
                        ],
                        [
                          0.8888888888888888,
                          "#fdca26"
                        ],
                        [
                          1,
                          "#f0f921"
                        ]
                      ]
                    },
                    "colorway": [
                      "#636efa",
                      "#EF553B",
                      "#00cc96",
                      "#ab63fa",
                      "#FFA15A",
                      "#19d3f3",
                      "#FF6692",
                      "#B6E880",
                      "#FF97FF",
                      "#FECB52"
                    ],
                    "font": {
                      "color": "#2a3f5f"
                    },
                    "geo": {
                      "bgcolor": "white",
                      "lakecolor": "white",
                      "landcolor": "white",
                      "showlakes": true,
                      "showland": true,
                      "subunitcolor": "#C8D4E3"
                    },
                    "height": 400,
                    "hoverlabel": {
                      "align": "left"
                    },
                    "hovermode": "closest",
                    "mapbox": {
                      "style": "light"
                    },
                    "margin": {
                      "b": 2,
                      "l": 2,
                      "r": 2,
                      "t": 30
                    },
                    "paper_bgcolor": "white",
                    "plot_bgcolor": "white",
                    "polar": {
                      "angularaxis": {
                        "gridcolor": "#EBF0F8",
                        "linecolor": "#EBF0F8",
                        "ticks": ""
                      },
                      "bgcolor": "white",
                      "radialaxis": {
                        "gridcolor": "#EBF0F8",
                        "linecolor": "#EBF0F8",
                        "ticks": ""
                      }
                    },
                    "scene": {
                      "camera": {
                        "eye": {
                          "x": 1.5,
                          "y": 1.5,
                          "z": 0.1
                        }
                      },
                      "xaxis": {
                        "backgroundcolor": "white",
                        "gridcolor": "#DFE8F3",
                        "gridwidth": 2,
                        "linecolor": "#EBF0F8",
                        "showbackground": true,
                        "ticks": "",
                        "zerolinecolor": "#EBF0F8"
                      },
                      "yaxis": {
                        "backgroundcolor": "white",
                        "gridcolor": "#DFE8F3",
                        "gridwidth": 2,
                        "linecolor": "#EBF0F8",
                        "showbackground": true,
                        "ticks": "",
                        "zerolinecolor": "#EBF0F8"
                      },
                      "zaxis": {
                        "backgroundcolor": "white",
                        "gridcolor": "#DFE8F3",
                        "gridwidth": 2,
                        "linecolor": "#EBF0F8",
                        "showbackground": true,
                        "ticks": "",
                        "zerolinecolor": "#EBF0F8"
                      }
                    },
                    "shapedefaults": {
                      "line": {
                        "color": "#2a3f5f"
                      }
                    },
                    "ternary": {
                      "aaxis": {
                        "gridcolor": "#DFE8F3",
                        "linecolor": "#A2B1C6",
                        "ticks": ""
                      },
                      "baxis": {
                        "gridcolor": "#DFE8F3",
                        "linecolor": "#A2B1C6",
                        "ticks": ""
                      },
                      "bgcolor": "white",
                      "caxis": {
                        "gridcolor": "#DFE8F3",
                        "linecolor": "#A2B1C6",
                        "ticks": ""
                      }
                    },
                    "title": {
                      "x": 0.5
                    },
                    "xaxis": {
                      "automargin": true,
                      "gridcolor": "#EBF0F8",
                      "linecolor": "#EBF0F8",
                      "linewidth": 2,
                      "showline": true,
                      "ticks": "",
                      "title": {
                        "standoff": 15
                      },
                      "zerolinecolor": "#EBF0F8",
                      "zerolinewidth": 2
                    },
                    "yaxis": {
                      "automargin": true,
                      "gridcolor": "#EBF0F8",
                      "linecolor": "#EBF0F8",
                      "linewidth": 2,
                      "showline": true,
                      "ticks": "",
                      "title": {
                        "standoff": 15
                      },
                      "zerolinecolor": "#EBF0F8",
                      "zerolinewidth": 2
                    }
                  }
                },
                "title": {}
              }
            }
          },
          "metadata": {},
          "output_type": "display_data"
        }
      ],
      "source": [
        "import numpy as np\n",
        "# Show a graph of the result\n",
        "# this needs to be 3D, because we now have three variables in play: two features and one label\n",
        "\n",
        "def predict(age, male):\n",
        "    '''\n",
        "    This converts given age and male values into a prediction from the model\n",
        "    '''\n",
        "    # to make a prediction with statsmodels, we need to provide a dataframe\n",
        "    # so create a dataframe with just the age and male variables\n",
        "    df = pandas.DataFrame(dict(age=[age], male=[male]))\n",
        "    return model.predict(df)\n",
        "\n",
        "# Create the surface graph\n",
        "fig = graphing.surface(\n",
        "    x_values=np.array([min(dataset.age), max(dataset.age)]),\n",
        "    y_values=np.array([0, 1]),\n",
        "    calc_z=predict,\n",
        "    axis_title_x=\"Age\",\n",
        "    axis_title_y=\"Male\",\n",
        "    axis_title_z=\"Core temperature\"\n",
        ")\n",
        "\n",
        "# Add our datapoints to it and display\n",
        "fig.add_scatter3d(x=dataset.age, y=dataset.male, z=dataset.core_temperature, mode='markers')\n",
        "fig.show()"
      ]
    },
    {
      "attachments": {},
      "cell_type": "markdown",
      "id": "5ec57771-c4f2-4736-9841-72d885104c7e",
      "metadata": {},
      "source": [
        "The preceding graph above interactive. Try rotating it to see how the model (shown as a solid plane) would predict core temperature from different combinations of age and sex.\n",
        "\n",
        "### Inspecting our model\n",
        "\n",
        "When we have more than two features, it becomes very difficult to visualize these models. We usually have to look at the parameters directly. Let's do that now. _Statsmodels_, one of the common machine learning and statistics libraries, provides a `summary()` method that provides information about our model.    "
      ]
    },
    {
      "cell_type": "code",
      "execution_count": 8,
      "id": "4315895d-93ab-49f9-ab83-2a21f784325c",
      "metadata": {},
      "outputs": [
        {
          "data": {
            "text/html": [
              "<table class=\"simpletable\">\n",
              "<caption>OLS Regression Results</caption>\n",
              "<tr>\n",
              "  <th>Dep. Variable:</th>    <td>core_temperature</td> <th>  R-squared:         </th> <td>   0.315</td>\n",
              "</tr>\n",
              "<tr>\n",
              "  <th>Model:</th>                   <td>OLS</td>       <th>  Adj. R-squared:    </th> <td>   0.300</td>\n",
              "</tr>\n",
              "<tr>\n",
              "  <th>Method:</th>             <td>Least Squares</td>  <th>  F-statistic:       </th> <td>   21.83</td>\n",
              "</tr>\n",
              "<tr>\n",
              "  <th>Date:</th>             <td>Fri, 19 Apr 2024</td> <th>  Prob (F-statistic):</th> <td>1.58e-08</td>\n",
              "</tr>\n",
              "<tr>\n",
              "  <th>Time:</th>                 <td>11:24:33</td>     <th>  Log-Likelihood:    </th> <td> -85.295</td>\n",
              "</tr>\n",
              "<tr>\n",
              "  <th>No. Observations:</th>      <td>    98</td>      <th>  AIC:               </th> <td>   176.6</td>\n",
              "</tr>\n",
              "<tr>\n",
              "  <th>Df Residuals:</th>          <td>    95</td>      <th>  BIC:               </th> <td>   184.3</td>\n",
              "</tr>\n",
              "<tr>\n",
              "  <th>Df Model:</th>              <td>     2</td>      <th>                     </th>     <td> </td>   \n",
              "</tr>\n",
              "<tr>\n",
              "  <th>Covariance Type:</th>      <td>nonrobust</td>    <th>                     </th>     <td> </td>   \n",
              "</tr>\n",
              "</table>\n",
              "<table class=\"simpletable\">\n",
              "<tr>\n",
              "      <td></td>         <th>coef</th>     <th>std err</th>      <th>t</th>      <th>P>|t|</th>  <th>[0.025</th>    <th>0.975]</th>  \n",
              "</tr>\n",
              "<tr>\n",
              "  <th>Intercept</th> <td>   37.9793</td> <td>    0.135</td> <td>  282.094</td> <td> 0.000</td> <td>   37.712</td> <td>   38.247</td>\n",
              "</tr>\n",
              "<tr>\n",
              "  <th>age</th>       <td>    0.1406</td> <td>    0.026</td> <td>    5.459</td> <td> 0.000</td> <td>    0.089</td> <td>    0.192</td>\n",
              "</tr>\n",
              "<tr>\n",
              "  <th>male</th>      <td>    0.3182</td> <td>    0.121</td> <td>    2.634</td> <td> 0.010</td> <td>    0.078</td> <td>    0.558</td>\n",
              "</tr>\n",
              "</table>\n",
              "<table class=\"simpletable\">\n",
              "<tr>\n",
              "  <th>Omnibus:</th>       <td>21.610</td> <th>  Durbin-Watson:     </th> <td>   2.369</td>\n",
              "</tr>\n",
              "<tr>\n",
              "  <th>Prob(Omnibus):</th> <td> 0.000</td> <th>  Jarque-Bera (JB):  </th> <td>   5.227</td>\n",
              "</tr>\n",
              "<tr>\n",
              "  <th>Skew:</th>          <td> 0.121</td> <th>  Prob(JB):          </th> <td>  0.0733</td>\n",
              "</tr>\n",
              "<tr>\n",
              "  <th>Kurtosis:</th>      <td> 1.895</td> <th>  Cond. No.          </th> <td>    12.9</td>\n",
              "</tr>\n",
              "</table><br/><br/>Notes:<br/>[1] Standard Errors assume that the covariance matrix of the errors is correctly specified."
            ],
            "text/latex": [
              "\\begin{center}\n",
              "\\begin{tabular}{lclc}\n",
              "\\toprule\n",
              "\\textbf{Dep. Variable:}    & core\\_temperature & \\textbf{  R-squared:         } &     0.315   \\\\\n",
              "\\textbf{Model:}            &        OLS        & \\textbf{  Adj. R-squared:    } &     0.300   \\\\\n",
              "\\textbf{Method:}           &   Least Squares   & \\textbf{  F-statistic:       } &     21.83   \\\\\n",
              "\\textbf{Date:}             &  Fri, 19 Apr 2024 & \\textbf{  Prob (F-statistic):} &  1.58e-08   \\\\\n",
              "\\textbf{Time:}             &      11:24:33     & \\textbf{  Log-Likelihood:    } &   -85.295   \\\\\n",
              "\\textbf{No. Observations:} &           98      & \\textbf{  AIC:               } &     176.6   \\\\\n",
              "\\textbf{Df Residuals:}     &           95      & \\textbf{  BIC:               } &     184.3   \\\\\n",
              "\\textbf{Df Model:}         &            2      & \\textbf{                     } &             \\\\\n",
              "\\textbf{Covariance Type:}  &     nonrobust     & \\textbf{                     } &             \\\\\n",
              "\\bottomrule\n",
              "\\end{tabular}\n",
              "\\begin{tabular}{lcccccc}\n",
              "                   & \\textbf{coef} & \\textbf{std err} & \\textbf{t} & \\textbf{P$> |$t$|$} & \\textbf{[0.025} & \\textbf{0.975]}  \\\\\n",
              "\\midrule\n",
              "\\textbf{Intercept} &      37.9793  &        0.135     &   282.094  &         0.000        &       37.712    &       38.247     \\\\\n",
              "\\textbf{age}       &       0.1406  &        0.026     &     5.459  &         0.000        &        0.089    &        0.192     \\\\\n",
              "\\textbf{male}      &       0.3182  &        0.121     &     2.634  &         0.010        &        0.078    &        0.558     \\\\\n",
              "\\bottomrule\n",
              "\\end{tabular}\n",
              "\\begin{tabular}{lclc}\n",
              "\\textbf{Omnibus:}       & 21.610 & \\textbf{  Durbin-Watson:     } &    2.369  \\\\\n",
              "\\textbf{Prob(Omnibus):} &  0.000 & \\textbf{  Jarque-Bera (JB):  } &    5.227  \\\\\n",
              "\\textbf{Skew:}          &  0.121 & \\textbf{  Prob(JB):          } &   0.0733  \\\\\n",
              "\\textbf{Kurtosis:}      &  1.895 & \\textbf{  Cond. No.          } &     12.9  \\\\\n",
              "\\bottomrule\n",
              "\\end{tabular}\n",
              "%\\caption{OLS Regression Results}\n",
              "\\end{center}\n",
              "\n",
              "Notes: \\newline\n",
              " [1] Standard Errors assume that the covariance matrix of the errors is correctly specified."
            ],
            "text/plain": [
              "<class 'statsmodels.iolib.summary.Summary'>\n",
              "\"\"\"\n",
              "                            OLS Regression Results                            \n",
              "==============================================================================\n",
              "Dep. Variable:       core_temperature   R-squared:                       0.315\n",
              "Model:                            OLS   Adj. R-squared:                  0.300\n",
              "Method:                 Least Squares   F-statistic:                     21.83\n",
              "Date:                Fri, 19 Apr 2024   Prob (F-statistic):           1.58e-08\n",
              "Time:                        11:24:33   Log-Likelihood:                -85.295\n",
              "No. Observations:                  98   AIC:                             176.6\n",
              "Df Residuals:                      95   BIC:                             184.3\n",
              "Df Model:                           2                                         \n",
              "Covariance Type:            nonrobust                                         \n",
              "==============================================================================\n",
              "                 coef    std err          t      P>|t|      [0.025      0.975]\n",
              "------------------------------------------------------------------------------\n",
              "Intercept     37.9793      0.135    282.094      0.000      37.712      38.247\n",
              "age            0.1406      0.026      5.459      0.000       0.089       0.192\n",
              "male           0.3182      0.121      2.634      0.010       0.078       0.558\n",
              "==============================================================================\n",
              "Omnibus:                       21.610   Durbin-Watson:                   2.369\n",
              "Prob(Omnibus):                  0.000   Jarque-Bera (JB):                5.227\n",
              "Skew:                           0.121   Prob(JB):                       0.0733\n",
              "Kurtosis:                       1.895   Cond. No.                         12.9\n",
              "==============================================================================\n",
              "\n",
              "Notes:\n",
              "[1] Standard Errors assume that the covariance matrix of the errors is correctly specified.\n",
              "\"\"\""
            ]
          },
          "execution_count": 8,
          "metadata": {},
          "output_type": "execute_result"
        }
      ],
      "source": [
        "# Print summary information\n",
        "model.summary()"
      ]
    },
    {
      "attachments": {},
      "cell_type": "markdown",
      "id": "f09772cf-8307-49f4-b6de-b4fdf12741fb",
      "metadata": {},
      "source": [
        "If we look at the top right-hand corner, we can see our R-squared statistic that we printed out earlier.\n",
        "\n",
        "Slightly down and to the left, we can also see information about the data we trained our model on. For example, we can see that we trained it on 98 observations (`No. Observations`).\n",
        "\n",
        "Under this, we find information about our parameters in a column called `coef` (which stands for _coefficients_, a synonym for parameters in machine learning). Here, we can see the intercept was about `38`, meaning that the model predicts a core temperature of 38 for a dog with `age=0` and `male=0`. Underneath this, we see the parameter for age is 0.14, meaning that for each additional year of age, the predicted temperature would rise 0.14 degrees celsius. For `male`, we can see a parameter of 0.32, meaning that the model estimates all dogs (that is, where `male == 1`) to have temperatures 0.32 degrees celsius higher than female dogs (where `male == 0`).\n",
        "\n",
        "Although we don't have space here to go into detail, the `P` column is also very useful. This tells us how confident the model is about this parameter value. As a rule of thumb, if the *p-value* is less than 0.05, there is a good chance that this relationship if trustable. For example, here both `age` and `male` are less than 0.05, so we should feel confident using this model in the real world.\n",
        "\n",
        "As a final exercise, let's do the same thing with our earlier simple linear-regression model, relating `age` to `core_temperature`. Read through the following table and see what you can make out from this model. "
      ]
    },
    {
      "cell_type": "code",
      "execution_count": 9,
      "id": "789410fc-05e0-4a3e-a088-a492e2dcd58f",
      "metadata": {},
      "outputs": [
        {
          "data": {
            "text/html": [
              "<table class=\"simpletable\">\n",
              "<caption>OLS Regression Results</caption>\n",
              "<tr>\n",
              "  <th>Dep. Variable:</th>    <td>core_temperature</td> <th>  R-squared:         </th> <td>   0.265</td>\n",
              "</tr>\n",
              "<tr>\n",
              "  <th>Model:</th>                   <td>OLS</td>       <th>  Adj. R-squared:    </th> <td>   0.257</td>\n",
              "</tr>\n",
              "<tr>\n",
              "  <th>Method:</th>             <td>Least Squares</td>  <th>  F-statistic:       </th> <td>   34.58</td>\n",
              "</tr>\n",
              "<tr>\n",
              "  <th>Date:</th>             <td>Fri, 19 Apr 2024</td> <th>  Prob (F-statistic):</th> <td>5.94e-08</td>\n",
              "</tr>\n",
              "<tr>\n",
              "  <th>Time:</th>                 <td>11:24:33</td>     <th>  Log-Likelihood:    </th> <td> -88.749</td>\n",
              "</tr>\n",
              "<tr>\n",
              "  <th>No. Observations:</th>      <td>    98</td>      <th>  AIC:               </th> <td>   181.5</td>\n",
              "</tr>\n",
              "<tr>\n",
              "  <th>Df Residuals:</th>          <td>    96</td>      <th>  BIC:               </th> <td>   186.7</td>\n",
              "</tr>\n",
              "<tr>\n",
              "  <th>Df Model:</th>              <td>     1</td>      <th>                     </th>     <td> </td>   \n",
              "</tr>\n",
              "<tr>\n",
              "  <th>Covariance Type:</th>      <td>nonrobust</td>    <th>                     </th>     <td> </td>   \n",
              "</tr>\n",
              "</table>\n",
              "<table class=\"simpletable\">\n",
              "<tr>\n",
              "      <td></td>         <th>coef</th>     <th>std err</th>      <th>t</th>      <th>P>|t|</th>  <th>[0.025</th>    <th>0.975]</th>  \n",
              "</tr>\n",
              "<tr>\n",
              "  <th>Intercept</th> <td>   38.0879</td> <td>    0.132</td> <td>  288.373</td> <td> 0.000</td> <td>   37.826</td> <td>   38.350</td>\n",
              "</tr>\n",
              "<tr>\n",
              "  <th>age</th>       <td>    0.1533</td> <td>    0.026</td> <td>    5.880</td> <td> 0.000</td> <td>    0.102</td> <td>    0.205</td>\n",
              "</tr>\n",
              "</table>\n",
              "<table class=\"simpletable\">\n",
              "<tr>\n",
              "  <th>Omnibus:</th>       <td>43.487</td> <th>  Durbin-Watson:     </th> <td>   2.492</td>\n",
              "</tr>\n",
              "<tr>\n",
              "  <th>Prob(Omnibus):</th> <td> 0.000</td> <th>  Jarque-Bera (JB):  </th> <td>   6.605</td>\n",
              "</tr>\n",
              "<tr>\n",
              "  <th>Skew:</th>          <td> 0.087</td> <th>  Prob(JB):          </th> <td>  0.0368</td>\n",
              "</tr>\n",
              "<tr>\n",
              "  <th>Kurtosis:</th>      <td> 1.740</td> <th>  Cond. No.          </th> <td>    11.3</td>\n",
              "</tr>\n",
              "</table><br/><br/>Notes:<br/>[1] Standard Errors assume that the covariance matrix of the errors is correctly specified."
            ],
            "text/latex": [
              "\\begin{center}\n",
              "\\begin{tabular}{lclc}\n",
              "\\toprule\n",
              "\\textbf{Dep. Variable:}    & core\\_temperature & \\textbf{  R-squared:         } &     0.265   \\\\\n",
              "\\textbf{Model:}            &        OLS        & \\textbf{  Adj. R-squared:    } &     0.257   \\\\\n",
              "\\textbf{Method:}           &   Least Squares   & \\textbf{  F-statistic:       } &     34.58   \\\\\n",
              "\\textbf{Date:}             &  Fri, 19 Apr 2024 & \\textbf{  Prob (F-statistic):} &  5.94e-08   \\\\\n",
              "\\textbf{Time:}             &      11:24:33     & \\textbf{  Log-Likelihood:    } &   -88.749   \\\\\n",
              "\\textbf{No. Observations:} &           98      & \\textbf{  AIC:               } &     181.5   \\\\\n",
              "\\textbf{Df Residuals:}     &           96      & \\textbf{  BIC:               } &     186.7   \\\\\n",
              "\\textbf{Df Model:}         &            1      & \\textbf{                     } &             \\\\\n",
              "\\textbf{Covariance Type:}  &     nonrobust     & \\textbf{                     } &             \\\\\n",
              "\\bottomrule\n",
              "\\end{tabular}\n",
              "\\begin{tabular}{lcccccc}\n",
              "                   & \\textbf{coef} & \\textbf{std err} & \\textbf{t} & \\textbf{P$> |$t$|$} & \\textbf{[0.025} & \\textbf{0.975]}  \\\\\n",
              "\\midrule\n",
              "\\textbf{Intercept} &      38.0879  &        0.132     &   288.373  &         0.000        &       37.826    &       38.350     \\\\\n",
              "\\textbf{age}       &       0.1533  &        0.026     &     5.880  &         0.000        &        0.102    &        0.205     \\\\\n",
              "\\bottomrule\n",
              "\\end{tabular}\n",
              "\\begin{tabular}{lclc}\n",
              "\\textbf{Omnibus:}       & 43.487 & \\textbf{  Durbin-Watson:     } &    2.492  \\\\\n",
              "\\textbf{Prob(Omnibus):} &  0.000 & \\textbf{  Jarque-Bera (JB):  } &    6.605  \\\\\n",
              "\\textbf{Skew:}          &  0.087 & \\textbf{  Prob(JB):          } &   0.0368  \\\\\n",
              "\\textbf{Kurtosis:}      &  1.740 & \\textbf{  Cond. No.          } &     11.3  \\\\\n",
              "\\bottomrule\n",
              "\\end{tabular}\n",
              "%\\caption{OLS Regression Results}\n",
              "\\end{center}\n",
              "\n",
              "Notes: \\newline\n",
              " [1] Standard Errors assume that the covariance matrix of the errors is correctly specified."
            ],
            "text/plain": [
              "<class 'statsmodels.iolib.summary.Summary'>\n",
              "\"\"\"\n",
              "                            OLS Regression Results                            \n",
              "==============================================================================\n",
              "Dep. Variable:       core_temperature   R-squared:                       0.265\n",
              "Model:                            OLS   Adj. R-squared:                  0.257\n",
              "Method:                 Least Squares   F-statistic:                     34.58\n",
              "Date:                Fri, 19 Apr 2024   Prob (F-statistic):           5.94e-08\n",
              "Time:                        11:24:33   Log-Likelihood:                -88.749\n",
              "No. Observations:                  98   AIC:                             181.5\n",
              "Df Residuals:                      96   BIC:                             186.7\n",
              "Df Model:                           1                                         \n",
              "Covariance Type:            nonrobust                                         \n",
              "==============================================================================\n",
              "                 coef    std err          t      P>|t|      [0.025      0.975]\n",
              "------------------------------------------------------------------------------\n",
              "Intercept     38.0879      0.132    288.373      0.000      37.826      38.350\n",
              "age            0.1533      0.026      5.880      0.000       0.102       0.205\n",
              "==============================================================================\n",
              "Omnibus:                       43.487   Durbin-Watson:                   2.492\n",
              "Prob(Omnibus):                  0.000   Jarque-Bera (JB):                6.605\n",
              "Skew:                           0.087   Prob(JB):                       0.0368\n",
              "Kurtosis:                       1.740   Cond. No.                         11.3\n",
              "==============================================================================\n",
              "\n",
              "Notes:\n",
              "[1] Standard Errors assume that the covariance matrix of the errors is correctly specified.\n",
              "\"\"\""
            ]
          },
          "execution_count": 9,
          "metadata": {},
          "output_type": "execute_result"
        }
      ],
      "source": [
        "age_trained_model.summary()"
      ]
    },
    {
      "attachments": {},
      "cell_type": "markdown",
      "id": "2c35cf5b-c421-49b4-91f1-17d6f7fe0ee0",
      "metadata": {},
      "source": [
        "## Summary\n",
        "We covered the following concepts in this exercise:\n",
        "\n",
        "- Built simple and multiple linear-regression models.\n",
        "- Compared the performance of both models by looking at R-Squared values.\n",
        "- Inspected models to understand how they work."
      ]
    }
  ],
  "metadata": {
    "kernel_info": {
      "name": "conda-env-azureml_py38-py"
    },
    "kernelspec": {
      "display_name": "Python-Beginners-Course-n5YFLC1P",
      "language": "python",
      "name": "python3"
    },
    "language_info": {
      "codemirror_mode": {
        "name": "ipython",
        "version": 3
      },
      "file_extension": ".py",
      "mimetype": "text/x-python",
      "name": "python",
      "nbconvert_exporter": "python",
      "pygments_lexer": "ipython3",
      "version": "3.10.9"
    },
    "nteract": {
      "version": "nteract-front-end@1.0.0"
    }
  },
  "nbformat": 4,
  "nbformat_minor": 5
}
