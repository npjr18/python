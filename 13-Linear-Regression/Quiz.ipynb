{
 "cells": [
  {
   "cell_type": "markdown",
   "metadata": {},
   "source": [
    "# Knowledge check"
   ]
  },
  {
   "cell_type": "markdown",
   "metadata": {},
   "source": [
    "### Why is linear regression a popular model? \n",
    "\n",
    "1. It's fast to calculate and easily interpreted\n",
    "1. It's easy to extrapolate from and the fitting procedure doesn't require ‘tuning’ to find an optimum solution\n",
    "1. Both options are correct"
   ]
  },
  {
   "cell_type": "code",
   "execution_count": null,
   "metadata": {},
   "outputs": [],
   "source": [
    "# Your answer:"
   ]
  },
  {
   "cell_type": "markdown",
   "metadata": {},
   "source": [
    "### What is the difference between multiple and simple regression? \n",
    "\n",
    "1. Simple regression uses special mathematics to speed up analysis\n",
    "1. Multiple regression predicts multiple labels, but simple regression doesn't\n",
    "1. Multiple regression accepts multiple features, but simple regression doesn't"
   ]
  },
  {
   "cell_type": "code",
   "execution_count": null,
   "metadata": {},
   "outputs": [],
   "source": [
    "# Your answer:"
   ]
  },
  {
   "cell_type": "markdown",
   "metadata": {},
   "source": [
    "### What are the main strengths and weaknesses of polynomial regression, compared to simple linear regression? \n",
    "\n",
    "1. Polynomial regression is a more popular method than linear regression, but it always needs to be fitted iteratively\n",
    "1. Polynomial regression can explain non-linear relationships, but it often makes extreme predictions when extrapolated\n",
    "1. Polynomial regression can be extrapolated, unlike simple linear regression, but it can take a long time to compute"
   ]
  },
  {
   "cell_type": "code",
   "execution_count": null,
   "metadata": {},
   "outputs": [],
   "source": [
    "# Your answer:"
   ]
  }
 ],
 "metadata": {
  "language_info": {
   "name": "python"
  }
 },
 "nbformat": 4,
 "nbformat_minor": 2
}
