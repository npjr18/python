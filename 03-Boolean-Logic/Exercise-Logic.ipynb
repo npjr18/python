{
 "cells": [
  {
   "cell_type": "markdown",
   "metadata": {},
   "source": [
    "# Exercise: Use logic to examine an object's size\n",
    "\n",
    "You will start your project by creating the code to determine if a piece of space debris is of a dangerous size. For this exercise we will use an arbitrary size of 5 meters cubed ($5 m^3$); anything larger is a potentially dangerous object.\n",
    "\n",
    "For this step you will be presented with the goal for the exercise, followed by an empty cell. Enter your Python into the cell and run it. The solution is at the bottom of the exercise.\n",
    "\n",
    "In the cell below, add a variable named `object_size` and set it to 10 to represent $10 m^3$. Then add an `if` statement to test if `object_size` is greater than 5. If it is, display a message saying We need to keep an eye on this object. Otherwise, display a message saying Object poses no threat."
   ]
  },
  {
   "cell_type": "code",
   "execution_count": null,
   "metadata": {},
   "outputs": [],
   "source": [
    "# Enter code below"
   ]
  },
  {
   "cell_type": "markdown",
   "metadata": {},
   "source": [
    "# Check if number is divisible\n",
    "\n",
    "Write a program that receives two numbers x and y, check if x is divisible by another number y.\n",
    "\n",
    "Example:\n",
    "Input: `15` and `5` \n",
    "Output: `15 is divisible by 5`\n",
    "\n",
    "Input: `15` and `14`\n",
    "Output: `15 is not divisible by 14`\n",
    "\n",
    "Input: `Three` and `Two`\n",
    "Output: `The Program only receive number!`\n",
    "\n"
   ]
  },
  {
   "cell_type": "code",
   "execution_count": 15,
   "metadata": {},
   "outputs": [
    {
     "name": "stdout",
     "output_type": "stream",
     "text": [
      "nan\n"
     ]
    }
   ],
   "source": [
    "x = 15\n",
    "y = 5\n",
    "\n",
    "# Enter code below"
   ]
  }
 ],
 "metadata": {
  "kernelspec": {
   "display_name": "Python-Beginners-Course-n5YFLC1P",
   "language": "python",
   "name": "python3"
  },
  "language_info": {
   "codemirror_mode": {
    "name": "ipython",
    "version": 3
   },
   "file_extension": ".py",
   "mimetype": "text/x-python",
   "name": "python",
   "nbconvert_exporter": "python",
   "pygments_lexer": "ipython3",
   "version": "3.10.9"
  }
 },
 "nbformat": 4,
 "nbformat_minor": 2
}
