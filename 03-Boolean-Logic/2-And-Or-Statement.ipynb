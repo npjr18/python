{
 "cells": [
  {
   "cell_type": "markdown",
   "metadata": {},
   "source": [
    "# What are `and` and `or` operators?\n",
    "\n",
    "You might occasionally want to combine test expressions to evaluate multiple conditions in one `if`, `elif`, or `else` statement. In this case, you'd use the Boolean operators `and` and `or`."
   ]
  },
  {
   "cell_type": "markdown",
   "metadata": {},
   "source": [
    "## The `or` operator\n",
    "\n",
    "You can connect two Boolean, or test, expressions by using the Boolean `or` operator. For the entire expression to evaluate to `True`, at least one of the subexpressions must be true. If none of the subexpressions is true, the whole expression evaluates to `False`. For example, in the following expression, the entire test expression evaluates to `True`, because one of the conditions in the subexpressions has been met:"
   ]
  },
  {
   "cell_type": "code",
   "execution_count": null,
   "metadata": {},
   "outputs": [],
   "source": [
    "a = 23\n",
    "b = 34\n",
    "if a == 34 or b == 34:\n",
    "    print(a + b)"
   ]
  },
  {
   "cell_type": "markdown",
   "metadata": {},
   "source": [
    "If both subexpressions are true, the entire test expression also evaluates to `True`.\n",
    "\n",
    "A Boolean expression that uses `or` has the following syntax:\n",
    "```Python\n",
    "sub-expression1 or sub-expression2\n",
    "```"
   ]
  },
  {
   "cell_type": "markdown",
   "metadata": {},
   "source": [
    "## The `and` operator\n",
    "\n",
    "You can also connect two test expressions by using the Boolean `and` operator. Both conditions in the test expression must be true for the entire test expression to evaluate to `True`. In any other case, the test expression is `False`. In the following example, the entire test expression evaluates to `False`, because only one of the conditions in the subexpressions is true:"
   ]
  },
  {
   "cell_type": "code",
   "execution_count": 1,
   "metadata": {},
   "outputs": [],
   "source": [
    "a = 23\n",
    "b = 34\n",
    "if a == 34 and b == 34:\n",
    "    print (a + b)"
   ]
  },
  {
   "cell_type": "markdown",
   "metadata": {},
   "source": [
    "A Boolean expression that uses and has the following syntax:\n",
    "``` Python\n",
    "sub-expression1 and sub-expression2\n",
    "```\n"
   ]
  },
  {
   "cell_type": "markdown",
   "metadata": {},
   "source": [
    "## The difference between `and` and `or`\n",
    "\n",
    "To highlight the difference between the two Boolean operators, you can use a `truth table`. A truth table shows you what the entire test expression evaluates to based on the two subexpressions."
   ]
  },
  {
   "cell_type": "markdown",
   "metadata": {},
   "source": [
    "Here's the truth table for `and`:\n",
    "\n",
    "| **subexpression1** | **Operator** | **subexpression2** | **Result** |\n",
    "| ------------------ | ------------ | ------------------ | ---------- |\n",
    "| `True`             | `and`        | `True`             | `True`     |\n",
    "| `True`             | `and`        | `False`            | `False`    |\n",
    "| `False`            | `and`        | `True`             | `False`    |\n",
    "| `False`            | `and`        | `False`            | `False`    |\n"
   ]
  },
  {
   "cell_type": "markdown",
   "metadata": {},
   "source": [
    "Here's the truth table for `or`:\n",
    "\n",
    "| **subexpression1** | **Operator** | **subexpression2** | **Result** |\n",
    "| ------------------ | ------------ | ------------------ | ---------- |\n",
    "| `True`             | `or`         | `True`             | `True`     |\n",
    "| `True`             | `or`         | `False`            | `True`     |\n",
    "| `False`            | `or`         | `True`             | `True`     |\n",
    "| `False`            | `or`         | `False`            | `False`    |\n"
   ]
  }
 ],
 "metadata": {
  "kernelspec": {
   "display_name": "Python-Beginners-Course-n5YFLC1P",
   "language": "python",
   "name": "python3"
  },
  "language_info": {
   "codemirror_mode": {
    "name": "ipython",
    "version": 3
   },
   "file_extension": ".py",
   "mimetype": "text/x-python",
   "name": "python",
   "nbconvert_exporter": "python",
   "pygments_lexer": "ipython3",
   "version": "3.10.9"
  }
 },
 "nbformat": 4,
 "nbformat_minor": 2
}
