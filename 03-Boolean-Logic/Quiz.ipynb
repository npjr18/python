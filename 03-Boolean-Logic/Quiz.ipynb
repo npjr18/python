{
 "cells": [
  {
   "cell_type": "markdown",
   "metadata": {},
   "source": [
    "# Knowlege Check"
   ]
  },
  {
   "cell_type": "markdown",
   "metadata": {},
   "source": [
    "### Under what conditions does a test expression that uses the `and` operator evaluate to `True`? \n",
    "\n",
    "1. A test expression that uses the `and` operator evaluates to `True` when both subexpressions are true.\n",
    "2. A test expression that uses the `and` operator evaluates to `True` when one subexpression is true and the other is false.\n",
    "3. A test expression that uses the `and` operator evaluates to `True` when both subexpressions are false.\n"
   ]
  },
  {
   "cell_type": "code",
   "execution_count": null,
   "metadata": {},
   "outputs": [],
   "source": [
    "# Your answer:"
   ]
  },
  {
   "cell_type": "markdown",
   "metadata": {},
   "source": [
    "### What is the keyword elif short for in Python? \n",
    "\n",
    "1. else if\n",
    "2. only if\n",
    "3. else"
   ]
  },
  {
   "cell_type": "code",
   "execution_count": null,
   "metadata": {},
   "outputs": [],
   "source": [
    "# Your answer:"
   ]
  },
  {
   "cell_type": "markdown",
   "metadata": {},
   "source": [
    "### What values in a test expression are always interpreted as false? \n",
    "\n",
    "1. Any non-zero value\n",
    "2. Empty\n",
    "3. `None` and `0`"
   ]
  },
  {
   "cell_type": "code",
   "execution_count": null,
   "metadata": {},
   "outputs": [],
   "source": [
    "# Your answer:"
   ]
  }
 ],
 "metadata": {
  "language_info": {
   "name": "python"
  }
 },
 "nbformat": 4,
 "nbformat_minor": 2
}
