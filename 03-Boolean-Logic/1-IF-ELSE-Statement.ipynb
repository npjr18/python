{
 "cells": [
  {
   "cell_type": "markdown",
   "metadata": {},
   "source": [
    "# `if` and `else` statement\n",
    "\n",
    "To express conditional logic in Python, you use `if` statements. When you're writing an `if` statement, you're relying on another concept we cover in this module, mathematical operators. Python supports the common logic operators from math: equals, not equals, less than, less than or equal to, greater than, and greater than or equal to. You're probably used to seeing these operators displayed using symbols, which is how they’re represented in Python, too.\n",
    "\n",
    "- Equals: a == b\n",
    "- Not Equals: a != b\n",
    "- Less than: a < b\n",
    "- Less than or equal to: a <= b\n",
    "- Greater than: a > b\n",
    "- Greater than or equal to: a >= b"
   ]
  },
  {
   "cell_type": "markdown",
   "metadata": {},
   "source": [
    "## Work with `if`\n",
    "\n",
    "You need to use an `if` statement to run code only if a certain condition is satisfied. The first thing you do when you write an `if` statement is to check the condition by using a test expression. You then determine whether the statement evaluates to `True` or `False`. If it's `True`, the next indented code block is run:"
   ]
  },
  {
   "cell_type": "code",
   "execution_count": null,
   "metadata": {},
   "outputs": [],
   "source": [
    "a = 97\n",
    "b = 55\n",
    "# test expression\n",
    "if a < b:\n",
    "    # statement to be run\n",
    "    print(b)"
   ]
  },
  {
   "cell_type": "markdown",
   "metadata": {},
   "source": [
    "In Python, `None` and `0` are also interpreted as `False`."
   ]
  },
  {
   "cell_type": "markdown",
   "metadata": {},
   "source": [
    "## Work with `else`\n",
    "\n",
    "You know that when you use an `if` statement, the body of the program will run only if the test expression is `True`. To add more code that will run when your test expression is `False`, you need to add an `else` statement.\n",
    "\n",
    "In this example, if `a` isn't greater than or equal to `b`, nothing happens. Let's say you want to instead print `b` if the test expression is `False`:"
   ]
  },
  {
   "cell_type": "code",
   "execution_count": null,
   "metadata": {},
   "outputs": [],
   "source": [
    "a = 27\n",
    "b = 93\n",
    "if a >= b:\n",
    "    print(a)\n",
    "else:\n",
    "    print(b)"
   ]
  },
  {
   "cell_type": "markdown",
   "metadata": {},
   "source": [
    "If the test expression is `False`, the code in the body of the `if` statement is skipped, and the program continues running from the `else` statement. The syntax of an `if/else` statement is always:\n",
    "\n",
    "```Python\n",
    "if test_expression:\n",
    "    # statement(s) to be run\n",
    "else:\n",
    "    # statement(s) to be run\n",
    "```"
   ]
  },
  {
   "cell_type": "markdown",
   "metadata": {},
   "source": [
    "## Work with `elif`\n",
    "\n",
    "In Python, the keyword `elif` is short for *else if*. Using `elif` statements enables you to add multiple test expressions to your program. These statements run in the order in which they're written, so your program will enter an `elif` statement only if the first `if` statement is `False`. For example:"
   ]
  },
  {
   "cell_type": "code",
   "execution_count": 1,
   "metadata": {},
   "outputs": [
    {
     "name": "stdout",
     "output_type": "stream",
     "text": [
      "a is less than or equal to b\n"
     ]
    }
   ],
   "source": [
    "a = 27\n",
    "b = 93\n",
    "if a <= b:\n",
    "    print(\"a is less than or equal to b\")\n",
    "elif a == b:\n",
    "    print(\"a is equal to b\")"
   ]
  },
  {
   "cell_type": "markdown",
   "metadata": {},
   "source": [
    "In this variation, the `elif` statement in the block of code won't run, because the `if` statement is `True`.\n",
    "\n",
    "The syntax of an if/elif statement is:\n",
    "\n",
    "```Python\n",
    "if test_expression:\n",
    "    # statement(s) to be run\n",
    "elif test_expression:\n",
    "    # statement(s) to be run\n",
    "```"
   ]
  },
  {
   "cell_type": "markdown",
   "metadata": {},
   "source": [
    "## Combine `if`, `elif`, and `else` statements\n",
    "\n",
    "You can combine `if`, `elif`, and `else` statements to create programs with complex conditional logic. Remember that an `elif` statement is run only when the if condition is `False`. Also note that an `if` block can have only one `else` block, but it can have multiple `elif` blocks.\n",
    "\n",
    "Let's look at an example with an `if`, an `elif` and an `else` statement:"
   ]
  },
  {
   "cell_type": "code",
   "execution_count": null,
   "metadata": {},
   "outputs": [],
   "source": [
    "a = 27\n",
    "b = 93\n",
    "if a < b:\n",
    "    print(\"a is less than b\")\n",
    "elif a > b:\n",
    "    print(\"a is greater than b\")\n",
    "else: \n",
    "    print (\"a is equal to b\")"
   ]
  },
  {
   "cell_type": "markdown",
   "metadata": {},
   "source": [
    "A code block that uses all three types of statements has the following syntax:\n",
    "\n",
    "``` Python\n",
    "if test_expression:\n",
    "    # statement(s) to be run\n",
    "elif test_expression:\n",
    "    # statement(s) to be run\n",
    "elif test_expression:\n",
    "    # statement(s) to be run\n",
    "else:\n",
    "    # statement(s) to be run\n",
    "```\n"
   ]
  },
  {
   "cell_type": "markdown",
   "metadata": {},
   "source": [
    "## Work with nested conditional logic\n",
    "\n",
    "Python also supports nested conditional logic, meaning that you can nest `if`, `elif`, and `else` statements to create even more complex programs. To nest conditions, indent the inner conditions, and everything at the same level of indentation will be run in the same code block:"
   ]
  },
  {
   "cell_type": "code",
   "execution_count": 2,
   "metadata": {},
   "outputs": [
    {
     "name": "stdout",
     "output_type": "stream",
     "text": [
      "a is less than b\n"
     ]
    }
   ],
   "source": [
    "a = 16\n",
    "b = 25\n",
    "c = 27\n",
    "if a > b:\n",
    "    if b > c:\n",
    "        print (\"a is greater than b and b is greater than c\")\n",
    "    else: \n",
    "        print (\"a is greater than b and less than c\")\n",
    "elif a == b:\n",
    "    print (\"a is equal to b\")\n",
    "else:\n",
    "    print (\"a is less than b\")"
   ]
  },
  {
   "cell_type": "markdown",
   "metadata": {},
   "source": [
    "Nested conditional logic follows the same rules as regular conditional logic within each code block. Here's one example of the syntax:\n",
    "\n",
    "```Python\n",
    "if test_expression:\n",
    "    # statement(s) to be run\n",
    "    if test_expression:\n",
    "        # statement(s) to be run\n",
    "    else: \n",
    "        # statement(s) to be run\n",
    "elif test_expression:\n",
    "    # statement(s) to be run\n",
    "    if test_expression:\n",
    "        # statement(s) to be run\n",
    "    else: \n",
    "        # statement(s) to be run\n",
    "else:\n",
    "    # statement(s) to be run\n",
    "```"
   ]
  }
 ],
 "metadata": {
  "kernelspec": {
   "display_name": "Python-Beginners-Course-n5YFLC1P",
   "language": "python",
   "name": "python3"
  },
  "language_info": {
   "codemirror_mode": {
    "name": "ipython",
    "version": 3
   },
   "file_extension": ".py",
   "mimetype": "text/x-python",
   "name": "python",
   "nbconvert_exporter": "python",
   "pygments_lexer": "ipython3",
   "version": "3.10.9"
  }
 },
 "nbformat": 4,
 "nbformat_minor": 2
}
