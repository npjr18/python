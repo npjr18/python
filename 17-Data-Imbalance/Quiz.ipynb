{
 "cells": [
  {
   "cell_type": "markdown",
   "metadata": {},
   "source": [
    "# Knowledge check"
   ]
  },
  {
   "cell_type": "markdown",
   "metadata": {},
   "source": [
    "### What does it mean to have an imbalanced dataset? \n",
    "\n",
    "1. The number of samples is much smaller or greater than is required\n",
    "1. The feature columns contain many missing values\n",
    "1. There are many more training examples that correspond to some outputs (categories) than others"
   ]
  },
  {
   "cell_type": "code",
   "execution_count": null,
   "metadata": {},
   "outputs": [],
   "source": [
    "# Your answer:"
   ]
  },
  {
   "cell_type": "markdown",
   "metadata": {},
   "source": [
    "### What information can we extract from a single confusion matrix? \n",
    "\n",
    "1. Log loss, and/or mean squared error\n",
    "1. Whether the dataset has overfit the training set\n",
    "1. What kind of mistakes the model is making"
   ]
  },
  {
   "cell_type": "code",
   "execution_count": null,
   "metadata": {},
   "outputs": [],
   "source": [
    "# Your answer:"
   ]
  },
  {
   "cell_type": "markdown",
   "metadata": {},
   "source": [
    "### Why don’t we use measures like “True Positives” or “Accuracy” to train our models directly? \n",
    "\n",
    "1. There are mathematical barriers that prevent these being used for some training regimens\n",
    "1. Subtle model improvements often do not affect these metrics\n",
    "1. Both of the above"
   ]
  },
  {
   "cell_type": "code",
   "execution_count": null,
   "metadata": {},
   "outputs": [],
   "source": [
    "# Your answer:"
   ]
  }
 ],
 "metadata": {
  "language_info": {
   "name": "python"
  }
 },
 "nbformat": 4,
 "nbformat_minor": 2
}
