{
 "cells": [
  {
   "cell_type": "markdown",
   "metadata": {},
   "source": [
    "# Knowledge check"
   ]
  },
  {
   "cell_type": "markdown",
   "metadata": {},
   "source": [
    "### What is the difference between classical regression and classification models? \n",
    "\n",
    "1. Regression models provide labels such as ‘cherry’/’banana’ but classification models calculate continuous numbers\n",
    "1. Classification models and linear regression models are two names for the same thing\n",
    "1. Classification models provide labels such as ‘cherry’/’banana’ but regression models calculate continuous numbers\n"
   ]
  },
  {
   "cell_type": "code",
   "execution_count": null,
   "metadata": {},
   "outputs": [],
   "source": [
    "# Your answer:"
   ]
  },
  {
   "cell_type": "markdown",
   "metadata": {},
   "source": [
    "### How can we improve real-world model performance? \n",
    "\n",
    "1. By adding features\n",
    "1. Both adding and removing features can be useful, depending on the situation\n",
    "1. By removing features\n"
   ]
  },
  {
   "cell_type": "code",
   "execution_count": null,
   "metadata": {},
   "outputs": [],
   "source": [
    "# Your answer:"
   ]
  },
  {
   "cell_type": "markdown",
   "metadata": {},
   "source": [
    "### What is one reason why logistic regression uses log-loss rather than a more intuitive cost function? \n",
    "\n",
    "1. Log-loss is stricter about model errors, even if they're close to correct\n",
    "1. It's the only way to calculate error for categorical labels\n",
    "1. Log-loss is more permissive to model error if that error is close to correct"
   ]
  },
  {
   "cell_type": "code",
   "execution_count": null,
   "metadata": {},
   "outputs": [],
   "source": [
    "# Your answer:"
   ]
  }
 ],
 "metadata": {
  "language_info": {
   "name": "python"
  }
 },
 "nbformat": 4,
 "nbformat_minor": 2
}
