{
  "cells": [
    {
      "cell_type": "code",
      "execution_count": 1,
      "metadata": {},
      "outputs": [],
      "source": [
        "import sys\n",
        "sys.path.append('../')"
      ]
    },
    {
      "cell_type": "markdown",
      "metadata": {},
      "source": [
        "# Exercise: Improving a logistic regression model\n",
        "\n",
        "In the previous exercise, we fit a simple logistic regression model to predict the chance of an avalanche. This time, we'll improve its performance by using multiple features intelligently.\n",
        "\n",
        "## Data visualisation\n",
        "\n",
        "Let's load our data."
      ]
    },
    {
      "cell_type": "code",
      "execution_count": 2,
      "metadata": {
        "scrolled": true
      },
      "outputs": [
        {
          "name": "stdout",
          "output_type": "stream",
          "text": [
            "Train size: 821\n",
            "Test size: 274\n",
            "     avalanche  no_visitors  surface_hoar  fresh_thickness  wind  weak_layers  \\\n",
            "176          0            9      5.142447         9.877195     6            8   \n",
            "114          1            3      8.170281         9.136835    34            7   \n",
            "869          0            3      1.979579         9.497017    10            8   \n",
            "775          1            0      1.999078         9.337908    21            6   \n",
            "181          1            9      6.854401         6.099359    22            5   \n",
            "\n",
            "     tracked_out  \n",
            "176            1  \n",
            "114            0  \n",
            "869            0  \n",
            "775            0  \n",
            "181            0  \n"
          ]
        }
      ],
      "source": [
        "import pandas\n",
        "from Scripts import graphing # custom graphing code. See our GitHub repo for details\n",
        "\n",
        "#Import the data from the .csv file\n",
        "dataset = pandas.read_csv('../Data/avalanche.csv', delimiter=\"\\t\", index_col=0)\n",
        "\n",
        "# Split our data into training and test\n",
        "import sklearn.model_selection\n",
        "train, test = sklearn.model_selection.train_test_split(dataset, test_size=0.25, random_state=10)\n",
        "\n",
        "print(\"Train size:\", train.shape[0])\n",
        "print(\"Test size:\", test.shape[0])\n",
        "\n",
        "#Let's have a look at the data\n",
        "print(train.head())"
      ]
    },
    {
      "cell_type": "markdown",
      "metadata": {},
      "source": [
        "We have numerous features available:\n",
        "\n",
        "* `surface_hoar` is how disturbed the surface of the snow is\n",
        "* `fresh_thickness` is how thick the top layer of snow is, or 0 if there's no fresh snow on top\n",
        "* `wind` is the top wind speed that day, in km/h\n",
        "* `weak_layers` is the number of layers of snow that aren't well-bound to other layers\n",
        "* `no_visitors` is the number of hikers who were on the trail that day\n",
        "* `tracked_out` is a `1` or `0`. A `1` means that the snow has been trampled heavily by hikers \n",
        "\n",
        "## Simple logistic regression\n",
        "\n",
        "Let's make a simple logistic regression model and assess its performance with accuracy.\n",
        "\n"
      ]
    },
    {
      "cell_type": "code",
      "execution_count": 3,
      "metadata": {},
      "outputs": [
        {
          "name": "stdout",
          "output_type": "stream",
          "text": [
            "Optimization terminated successfully.\n",
            "         Current function value: 0.616312\n",
            "         Iterations 5\n",
            "Accuracy: 0.6167883211678832\n"
          ]
        }
      ],
      "source": [
        "import sklearn\n",
        "from sklearn.metrics import accuracy_score\n",
        "import statsmodels.formula.api as smf\n",
        "\n",
        "# Perform logistic regression.\n",
        "model = smf.logit(\"avalanche ~ weak_layers\", train).fit()\n",
        "\n",
        "# Calculate accuracy\n",
        "def calculate_accuracy(model):\n",
        "    '''\n",
        "    Calculates accuracy\n",
        "    '''\n",
        "    # Make estimations and convert to categories\n",
        "    avalanche_predicted = model.predict(test) > 0.5\n",
        "\n",
        "    # Calculate what proportion were predicted correctly\n",
        "    # We can use sklearn to calculate accuracy for us\n",
        "    print(\"Accuracy:\", accuracy_score(test.avalanche, avalanche_predicted))\n",
        "\n",
        "calculate_accuracy(model)"
      ]
    },
    {
      "cell_type": "markdown",
      "metadata": {},
      "source": [
        "Let's see how we can improve our model\n",
        "\n",
        "## Utilizing multiple features\n",
        "\n",
        "Most of our features seem like they could be useful, least in theory. Let's try a model with all features we've available."
      ]
    },
    {
      "cell_type": "code",
      "execution_count": 4,
      "metadata": {},
      "outputs": [
        {
          "name": "stdout",
          "output_type": "stream",
          "text": [
            "Optimization terminated successfully.\n",
            "         Current function value: 0.459347\n",
            "         Iterations 7\n",
            "Accuracy: 0.7846715328467153\n"
          ]
        }
      ],
      "source": [
        "# Perform logistic regression.\n",
        "model_all_features = smf.logit(\"avalanche ~ weak_layers + surface_hoar + fresh_thickness + wind + no_visitors + tracked_out\", train).fit()\n",
        "calculate_accuracy(model_all_features)"
      ]
    },
    {
      "cell_type": "markdown",
      "metadata": {},
      "source": [
        "That's a big improvement on the simpler model we've been working with. \n",
        "\n",
        "To understand why, we can look at the summary information"
      ]
    },
    {
      "cell_type": "code",
      "execution_count": 5,
      "metadata": {},
      "outputs": [
        {
          "data": {
            "text/html": [
              "<table class=\"simpletable\">\n",
              "<caption>Logit Regression Results</caption>\n",
              "<tr>\n",
              "  <th>Dep. Variable:</th>       <td>avalanche</td>    <th>  No. Observations:  </th>  <td>   821</td>  \n",
              "</tr>\n",
              "<tr>\n",
              "  <th>Model:</th>                 <td>Logit</td>      <th>  Df Residuals:      </th>  <td>   814</td>  \n",
              "</tr>\n",
              "<tr>\n",
              "  <th>Method:</th>                 <td>MLE</td>       <th>  Df Model:          </th>  <td>     6</td>  \n",
              "</tr>\n",
              "<tr>\n",
              "  <th>Date:</th>            <td>Fri, 19 Apr 2024</td> <th>  Pseudo R-squ.:     </th>  <td>0.3305</td>  \n",
              "</tr>\n",
              "<tr>\n",
              "  <th>Time:</th>                <td>11:28:50</td>     <th>  Log-Likelihood:    </th> <td> -377.12</td> \n",
              "</tr>\n",
              "<tr>\n",
              "  <th>converged:</th>             <td>True</td>       <th>  LL-Null:           </th> <td> -563.33</td> \n",
              "</tr>\n",
              "<tr>\n",
              "  <th>Covariance Type:</th>     <td>nonrobust</td>    <th>  LLR p-value:       </th> <td>2.372e-77</td>\n",
              "</tr>\n",
              "</table>\n",
              "<table class=\"simpletable\">\n",
              "<tr>\n",
              "         <td></td>            <th>coef</th>     <th>std err</th>      <th>z</th>      <th>P>|z|</th>  <th>[0.025</th>    <th>0.975]</th>  \n",
              "</tr>\n",
              "<tr>\n",
              "  <th>Intercept</th>       <td>   -4.0107</td> <td>    0.443</td> <td>   -9.043</td> <td> 0.000</td> <td>   -4.880</td> <td>   -3.141</td>\n",
              "</tr>\n",
              "<tr>\n",
              "  <th>weak_layers</th>     <td>    0.3733</td> <td>    0.034</td> <td>   10.871</td> <td> 0.000</td> <td>    0.306</td> <td>    0.441</td>\n",
              "</tr>\n",
              "<tr>\n",
              "  <th>surface_hoar</th>    <td>    0.3306</td> <td>    0.035</td> <td>    9.424</td> <td> 0.000</td> <td>    0.262</td> <td>    0.399</td>\n",
              "</tr>\n",
              "<tr>\n",
              "  <th>fresh_thickness</th> <td>   -0.0220</td> <td>    0.030</td> <td>   -0.732</td> <td> 0.464</td> <td>   -0.081</td> <td>    0.037</td>\n",
              "</tr>\n",
              "<tr>\n",
              "  <th>wind</th>            <td>    0.1009</td> <td>    0.009</td> <td>   11.149</td> <td> 0.000</td> <td>    0.083</td> <td>    0.119</td>\n",
              "</tr>\n",
              "<tr>\n",
              "  <th>no_visitors</th>     <td>   -0.1060</td> <td>    0.032</td> <td>   -3.262</td> <td> 0.001</td> <td>   -0.170</td> <td>   -0.042</td>\n",
              "</tr>\n",
              "<tr>\n",
              "  <th>tracked_out</th>     <td>   -0.0664</td> <td>    0.181</td> <td>   -0.367</td> <td> 0.713</td> <td>   -0.420</td> <td>    0.288</td>\n",
              "</tr>\n",
              "</table>"
            ],
            "text/latex": [
              "\\begin{center}\n",
              "\\begin{tabular}{lclc}\n",
              "\\toprule\n",
              "\\textbf{Dep. Variable:}   &    avalanche     & \\textbf{  No. Observations:  } &      821    \\\\\n",
              "\\textbf{Model:}           &      Logit       & \\textbf{  Df Residuals:      } &      814    \\\\\n",
              "\\textbf{Method:}          &       MLE        & \\textbf{  Df Model:          } &        6    \\\\\n",
              "\\textbf{Date:}            & Fri, 19 Apr 2024 & \\textbf{  Pseudo R-squ.:     } &   0.3305    \\\\\n",
              "\\textbf{Time:}            &     11:28:50     & \\textbf{  Log-Likelihood:    } &   -377.12   \\\\\n",
              "\\textbf{converged:}       &       True       & \\textbf{  LL-Null:           } &   -563.33   \\\\\n",
              "\\textbf{Covariance Type:} &    nonrobust     & \\textbf{  LLR p-value:       } & 2.372e-77   \\\\\n",
              "\\bottomrule\n",
              "\\end{tabular}\n",
              "\\begin{tabular}{lcccccc}\n",
              "                          & \\textbf{coef} & \\textbf{std err} & \\textbf{z} & \\textbf{P$> |$z$|$} & \\textbf{[0.025} & \\textbf{0.975]}  \\\\\n",
              "\\midrule\n",
              "\\textbf{Intercept}        &      -4.0107  &        0.443     &    -9.043  &         0.000        &       -4.880    &       -3.141     \\\\\n",
              "\\textbf{weak\\_layers}     &       0.3733  &        0.034     &    10.871  &         0.000        &        0.306    &        0.441     \\\\\n",
              "\\textbf{surface\\_hoar}    &       0.3306  &        0.035     &     9.424  &         0.000        &        0.262    &        0.399     \\\\\n",
              "\\textbf{fresh\\_thickness} &      -0.0220  &        0.030     &    -0.732  &         0.464        &       -0.081    &        0.037     \\\\\n",
              "\\textbf{wind}             &       0.1009  &        0.009     &    11.149  &         0.000        &        0.083    &        0.119     \\\\\n",
              "\\textbf{no\\_visitors}     &      -0.1060  &        0.032     &    -3.262  &         0.001        &       -0.170    &       -0.042     \\\\\n",
              "\\textbf{tracked\\_out}     &      -0.0664  &        0.181     &    -0.367  &         0.713        &       -0.420    &        0.288     \\\\\n",
              "\\bottomrule\n",
              "\\end{tabular}\n",
              "%\\caption{Logit Regression Results}\n",
              "\\end{center}"
            ],
            "text/plain": [
              "<class 'statsmodels.iolib.summary.Summary'>\n",
              "\"\"\"\n",
              "                           Logit Regression Results                           \n",
              "==============================================================================\n",
              "Dep. Variable:              avalanche   No. Observations:                  821\n",
              "Model:                          Logit   Df Residuals:                      814\n",
              "Method:                           MLE   Df Model:                            6\n",
              "Date:                Fri, 19 Apr 2024   Pseudo R-squ.:                  0.3305\n",
              "Time:                        11:28:50   Log-Likelihood:                -377.12\n",
              "converged:                       True   LL-Null:                       -563.33\n",
              "Covariance Type:            nonrobust   LLR p-value:                 2.372e-77\n",
              "===================================================================================\n",
              "                      coef    std err          z      P>|z|      [0.025      0.975]\n",
              "-----------------------------------------------------------------------------------\n",
              "Intercept          -4.0107      0.443     -9.043      0.000      -4.880      -3.141\n",
              "weak_layers         0.3733      0.034     10.871      0.000       0.306       0.441\n",
              "surface_hoar        0.3306      0.035      9.424      0.000       0.262       0.399\n",
              "fresh_thickness    -0.0220      0.030     -0.732      0.464      -0.081       0.037\n",
              "wind                0.1009      0.009     11.149      0.000       0.083       0.119\n",
              "no_visitors        -0.1060      0.032     -3.262      0.001      -0.170      -0.042\n",
              "tracked_out        -0.0664      0.181     -0.367      0.713      -0.420       0.288\n",
              "===================================================================================\n",
              "\"\"\""
            ]
          },
          "execution_count": 5,
          "metadata": {},
          "output_type": "execute_result"
        }
      ],
      "source": [
        "model_all_features.summary()"
      ]
    },
    {
      "cell_type": "markdown",
      "metadata": {},
      "source": [
        "Take a look at the P column, recalling that values less than 0.05 mean we can be confident that this parameter is helping the model make better predictions.\n",
        "\n",
        "Both `surface_hoar` and `wind` have very small values here, meaning they're useful predictors and probably explain why our model is working better. If we look at the `coef` (which states _parameters_) column we see that these have positive values. This means that higher winds, and greater amounts of surface hoar result in higher avalanche risk.\n",
        "\n",
        "## Simplifying our model\n",
        "\n",
        "Looking at the summary again, we can see that `tracked_out` (how trampled the snow is), and `fresh_thickness` have large p-values. This means they aren't useful predictors. Let's see what happens if we remove them from our model:"
      ]
    },
    {
      "cell_type": "code",
      "execution_count": 6,
      "metadata": {},
      "outputs": [
        {
          "name": "stdout",
          "output_type": "stream",
          "text": [
            "Optimization terminated successfully.\n",
            "         Current function value: 0.459760\n",
            "         Iterations 7\n",
            "Accuracy: 0.781021897810219\n"
          ]
        }
      ],
      "source": [
        "# Perform logistic regression.\n",
        "model_simplified = smf.logit(\"avalanche ~ weak_layers + surface_hoar + wind + no_visitors\", train).fit()\n",
        "calculate_accuracy(model_simplified)"
      ]
    },
    {
      "cell_type": "markdown",
      "metadata": {},
      "source": [
        "Our new model works very similarly to the old one! In some circumstances simplifying a model like this can even improve it, as it becomes less likely to overfit.\n",
        "\n",
        "## Careful feature selection\n",
        "\n",
        "Usually, we don't just pick features blindly. Let's think about what we've just done - we removed how much fresh snow was in a model, trying to predict avalanches. Something seems off. Surely avalanches are much _more_ likely after it has snowed? Similarly, the number of people on the track seems unrelated to how many avalanches there were, but we know that people often can trigger avalanches.\n",
        "\n",
        "Let's review our earlier model again:"
      ]
    },
    {
      "cell_type": "code",
      "execution_count": 7,
      "metadata": {},
      "outputs": [
        {
          "data": {
            "text/html": [
              "<table class=\"simpletable\">\n",
              "<caption>Logit Regression Results</caption>\n",
              "<tr>\n",
              "  <th>Dep. Variable:</th>       <td>avalanche</td>    <th>  No. Observations:  </th>  <td>   821</td>  \n",
              "</tr>\n",
              "<tr>\n",
              "  <th>Model:</th>                 <td>Logit</td>      <th>  Df Residuals:      </th>  <td>   814</td>  \n",
              "</tr>\n",
              "<tr>\n",
              "  <th>Method:</th>                 <td>MLE</td>       <th>  Df Model:          </th>  <td>     6</td>  \n",
              "</tr>\n",
              "<tr>\n",
              "  <th>Date:</th>            <td>Fri, 19 Apr 2024</td> <th>  Pseudo R-squ.:     </th>  <td>0.3305</td>  \n",
              "</tr>\n",
              "<tr>\n",
              "  <th>Time:</th>                <td>11:28:50</td>     <th>  Log-Likelihood:    </th> <td> -377.12</td> \n",
              "</tr>\n",
              "<tr>\n",
              "  <th>converged:</th>             <td>True</td>       <th>  LL-Null:           </th> <td> -563.33</td> \n",
              "</tr>\n",
              "<tr>\n",
              "  <th>Covariance Type:</th>     <td>nonrobust</td>    <th>  LLR p-value:       </th> <td>2.372e-77</td>\n",
              "</tr>\n",
              "</table>\n",
              "<table class=\"simpletable\">\n",
              "<tr>\n",
              "         <td></td>            <th>coef</th>     <th>std err</th>      <th>z</th>      <th>P>|z|</th>  <th>[0.025</th>    <th>0.975]</th>  \n",
              "</tr>\n",
              "<tr>\n",
              "  <th>Intercept</th>       <td>   -4.0107</td> <td>    0.443</td> <td>   -9.043</td> <td> 0.000</td> <td>   -4.880</td> <td>   -3.141</td>\n",
              "</tr>\n",
              "<tr>\n",
              "  <th>weak_layers</th>     <td>    0.3733</td> <td>    0.034</td> <td>   10.871</td> <td> 0.000</td> <td>    0.306</td> <td>    0.441</td>\n",
              "</tr>\n",
              "<tr>\n",
              "  <th>surface_hoar</th>    <td>    0.3306</td> <td>    0.035</td> <td>    9.424</td> <td> 0.000</td> <td>    0.262</td> <td>    0.399</td>\n",
              "</tr>\n",
              "<tr>\n",
              "  <th>fresh_thickness</th> <td>   -0.0220</td> <td>    0.030</td> <td>   -0.732</td> <td> 0.464</td> <td>   -0.081</td> <td>    0.037</td>\n",
              "</tr>\n",
              "<tr>\n",
              "  <th>wind</th>            <td>    0.1009</td> <td>    0.009</td> <td>   11.149</td> <td> 0.000</td> <td>    0.083</td> <td>    0.119</td>\n",
              "</tr>\n",
              "<tr>\n",
              "  <th>no_visitors</th>     <td>   -0.1060</td> <td>    0.032</td> <td>   -3.262</td> <td> 0.001</td> <td>   -0.170</td> <td>   -0.042</td>\n",
              "</tr>\n",
              "<tr>\n",
              "  <th>tracked_out</th>     <td>   -0.0664</td> <td>    0.181</td> <td>   -0.367</td> <td> 0.713</td> <td>   -0.420</td> <td>    0.288</td>\n",
              "</tr>\n",
              "</table>"
            ],
            "text/latex": [
              "\\begin{center}\n",
              "\\begin{tabular}{lclc}\n",
              "\\toprule\n",
              "\\textbf{Dep. Variable:}   &    avalanche     & \\textbf{  No. Observations:  } &      821    \\\\\n",
              "\\textbf{Model:}           &      Logit       & \\textbf{  Df Residuals:      } &      814    \\\\\n",
              "\\textbf{Method:}          &       MLE        & \\textbf{  Df Model:          } &        6    \\\\\n",
              "\\textbf{Date:}            & Fri, 19 Apr 2024 & \\textbf{  Pseudo R-squ.:     } &   0.3305    \\\\\n",
              "\\textbf{Time:}            &     11:28:50     & \\textbf{  Log-Likelihood:    } &   -377.12   \\\\\n",
              "\\textbf{converged:}       &       True       & \\textbf{  LL-Null:           } &   -563.33   \\\\\n",
              "\\textbf{Covariance Type:} &    nonrobust     & \\textbf{  LLR p-value:       } & 2.372e-77   \\\\\n",
              "\\bottomrule\n",
              "\\end{tabular}\n",
              "\\begin{tabular}{lcccccc}\n",
              "                          & \\textbf{coef} & \\textbf{std err} & \\textbf{z} & \\textbf{P$> |$z$|$} & \\textbf{[0.025} & \\textbf{0.975]}  \\\\\n",
              "\\midrule\n",
              "\\textbf{Intercept}        &      -4.0107  &        0.443     &    -9.043  &         0.000        &       -4.880    &       -3.141     \\\\\n",
              "\\textbf{weak\\_layers}     &       0.3733  &        0.034     &    10.871  &         0.000        &        0.306    &        0.441     \\\\\n",
              "\\textbf{surface\\_hoar}    &       0.3306  &        0.035     &     9.424  &         0.000        &        0.262    &        0.399     \\\\\n",
              "\\textbf{fresh\\_thickness} &      -0.0220  &        0.030     &    -0.732  &         0.464        &       -0.081    &        0.037     \\\\\n",
              "\\textbf{wind}             &       0.1009  &        0.009     &    11.149  &         0.000        &        0.083    &        0.119     \\\\\n",
              "\\textbf{no\\_visitors}     &      -0.1060  &        0.032     &    -3.262  &         0.001        &       -0.170    &       -0.042     \\\\\n",
              "\\textbf{tracked\\_out}     &      -0.0664  &        0.181     &    -0.367  &         0.713        &       -0.420    &        0.288     \\\\\n",
              "\\bottomrule\n",
              "\\end{tabular}\n",
              "%\\caption{Logit Regression Results}\n",
              "\\end{center}"
            ],
            "text/plain": [
              "<class 'statsmodels.iolib.summary.Summary'>\n",
              "\"\"\"\n",
              "                           Logit Regression Results                           \n",
              "==============================================================================\n",
              "Dep. Variable:              avalanche   No. Observations:                  821\n",
              "Model:                          Logit   Df Residuals:                      814\n",
              "Method:                           MLE   Df Model:                            6\n",
              "Date:                Fri, 19 Apr 2024   Pseudo R-squ.:                  0.3305\n",
              "Time:                        11:28:50   Log-Likelihood:                -377.12\n",
              "converged:                       True   LL-Null:                       -563.33\n",
              "Covariance Type:            nonrobust   LLR p-value:                 2.372e-77\n",
              "===================================================================================\n",
              "                      coef    std err          z      P>|z|      [0.025      0.975]\n",
              "-----------------------------------------------------------------------------------\n",
              "Intercept          -4.0107      0.443     -9.043      0.000      -4.880      -3.141\n",
              "weak_layers         0.3733      0.034     10.871      0.000       0.306       0.441\n",
              "surface_hoar        0.3306      0.035      9.424      0.000       0.262       0.399\n",
              "fresh_thickness    -0.0220      0.030     -0.732      0.464      -0.081       0.037\n",
              "wind                0.1009      0.009     11.149      0.000       0.083       0.119\n",
              "no_visitors        -0.1060      0.032     -3.262      0.001      -0.170      -0.042\n",
              "tracked_out        -0.0664      0.181     -0.367      0.713      -0.420       0.288\n",
              "===================================================================================\n",
              "\"\"\""
            ]
          },
          "execution_count": 7,
          "metadata": {},
          "output_type": "execute_result"
        }
      ],
      "source": [
        "model_all_features.summary()"
      ]
    },
    {
      "attachments": {},
      "cell_type": "markdown",
      "metadata": {},
      "source": [
        "Look at the `fresh_thickness` row. We're told that it has a negative coefficient. This means that as thickness increases, avalanches decrease.\n",
        "\n",
        "Similarly, `no_visitors` has a negative coefficient, meaning that fewer hikers means more avalanches.\n",
        "\n",
        "How can this be? Well, while visitors can cause avalanches if there's a lot of fresh snow, presumably they cannot do so easily if there's no fresh snow. This means that our features aren't fully independent.\n",
        "\n",
        "We can tell the model to try to take into account that these features interact, using a multiply sign. Let's try that now."
      ]
    },
    {
      "cell_type": "code",
      "execution_count": 8,
      "metadata": {},
      "outputs": [
        {
          "name": "stdout",
          "output_type": "stream",
          "text": [
            "Optimization terminated successfully.\n",
            "         Current function value: 0.413538\n",
            "         Iterations 7\n",
            "Accuracy: 0.8357664233576643\n"
          ]
        }
      ],
      "source": [
        "# Create a model with an interaction. Notice the end of the string where\n",
        "# we've a multiply sign between no_visitors and fresh_thickness\n",
        "formula = \"avalanche ~ weak_layers + surface_hoar + wind + no_visitors * fresh_thickness\"\n",
        "model_with_interaction = smf.logit(formula, train).fit()\n",
        "calculate_accuracy(model_with_interaction)"
      ]
    },
    {
      "cell_type": "markdown",
      "metadata": {},
      "source": [
        "The model has improved to 84% accuracy! Let's look at the summary information:"
      ]
    },
    {
      "cell_type": "code",
      "execution_count": 9,
      "metadata": {},
      "outputs": [
        {
          "data": {
            "text/html": [
              "<table class=\"simpletable\">\n",
              "<caption>Logit Regression Results</caption>\n",
              "<tr>\n",
              "  <th>Dep. Variable:</th>       <td>avalanche</td>    <th>  No. Observations:  </th>  <td>   821</td>  \n",
              "</tr>\n",
              "<tr>\n",
              "  <th>Model:</th>                 <td>Logit</td>      <th>  Df Residuals:      </th>  <td>   814</td>  \n",
              "</tr>\n",
              "<tr>\n",
              "  <th>Method:</th>                 <td>MLE</td>       <th>  Df Model:          </th>  <td>     6</td>  \n",
              "</tr>\n",
              "<tr>\n",
              "  <th>Date:</th>            <td>Fri, 19 Apr 2024</td> <th>  Pseudo R-squ.:     </th>  <td>0.3973</td>  \n",
              "</tr>\n",
              "<tr>\n",
              "  <th>Time:</th>                <td>11:28:50</td>     <th>  Log-Likelihood:    </th> <td> -339.51</td> \n",
              "</tr>\n",
              "<tr>\n",
              "  <th>converged:</th>             <td>True</td>       <th>  LL-Null:           </th> <td> -563.33</td> \n",
              "</tr>\n",
              "<tr>\n",
              "  <th>Covariance Type:</th>     <td>nonrobust</td>    <th>  LLR p-value:       </th> <td>1.587e-93</td>\n",
              "</tr>\n",
              "</table>\n",
              "<table class=\"simpletable\">\n",
              "<tr>\n",
              "               <td></td>                  <th>coef</th>     <th>std err</th>      <th>z</th>      <th>P>|z|</th>  <th>[0.025</th>    <th>0.975]</th>  \n",
              "</tr>\n",
              "<tr>\n",
              "  <th>Intercept</th>                   <td>   -0.9606</td> <td>    0.587</td> <td>   -1.636</td> <td> 0.102</td> <td>   -2.111</td> <td>    0.190</td>\n",
              "</tr>\n",
              "<tr>\n",
              "  <th>weak_layers</th>                 <td>    0.4327</td> <td>    0.039</td> <td>   11.193</td> <td> 0.000</td> <td>    0.357</td> <td>    0.508</td>\n",
              "</tr>\n",
              "<tr>\n",
              "  <th>surface_hoar</th>                <td>    0.3887</td> <td>    0.039</td> <td>   10.035</td> <td> 0.000</td> <td>    0.313</td> <td>    0.465</td>\n",
              "</tr>\n",
              "<tr>\n",
              "  <th>wind</th>                        <td>    0.1204</td> <td>    0.010</td> <td>   11.607</td> <td> 0.000</td> <td>    0.100</td> <td>    0.141</td>\n",
              "</tr>\n",
              "<tr>\n",
              "  <th>no_visitors</th>                 <td>   -0.9430</td> <td>    0.114</td> <td>   -8.237</td> <td> 0.000</td> <td>   -1.167</td> <td>   -0.719</td>\n",
              "</tr>\n",
              "<tr>\n",
              "  <th>fresh_thickness</th>             <td>   -0.4962</td> <td>    0.069</td> <td>   -7.191</td> <td> 0.000</td> <td>   -0.631</td> <td>   -0.361</td>\n",
              "</tr>\n",
              "<tr>\n",
              "  <th>no_visitors:fresh_thickness</th> <td>    0.1015</td> <td>    0.013</td> <td>    7.835</td> <td> 0.000</td> <td>    0.076</td> <td>    0.127</td>\n",
              "</tr>\n",
              "</table>"
            ],
            "text/latex": [
              "\\begin{center}\n",
              "\\begin{tabular}{lclc}\n",
              "\\toprule\n",
              "\\textbf{Dep. Variable:}                &    avalanche     & \\textbf{  No. Observations:  } &      821    \\\\\n",
              "\\textbf{Model:}                        &      Logit       & \\textbf{  Df Residuals:      } &      814    \\\\\n",
              "\\textbf{Method:}                       &       MLE        & \\textbf{  Df Model:          } &        6    \\\\\n",
              "\\textbf{Date:}                         & Fri, 19 Apr 2024 & \\textbf{  Pseudo R-squ.:     } &   0.3973    \\\\\n",
              "\\textbf{Time:}                         &     11:28:50     & \\textbf{  Log-Likelihood:    } &   -339.51   \\\\\n",
              "\\textbf{converged:}                    &       True       & \\textbf{  LL-Null:           } &   -563.33   \\\\\n",
              "\\textbf{Covariance Type:}              &    nonrobust     & \\textbf{  LLR p-value:       } & 1.587e-93   \\\\\n",
              "\\bottomrule\n",
              "\\end{tabular}\n",
              "\\begin{tabular}{lcccccc}\n",
              "                                       & \\textbf{coef} & \\textbf{std err} & \\textbf{z} & \\textbf{P$> |$z$|$} & \\textbf{[0.025} & \\textbf{0.975]}  \\\\\n",
              "\\midrule\n",
              "\\textbf{Intercept}                     &      -0.9606  &        0.587     &    -1.636  &         0.102        &       -2.111    &        0.190     \\\\\n",
              "\\textbf{weak\\_layers}                  &       0.4327  &        0.039     &    11.193  &         0.000        &        0.357    &        0.508     \\\\\n",
              "\\textbf{surface\\_hoar}                 &       0.3887  &        0.039     &    10.035  &         0.000        &        0.313    &        0.465     \\\\\n",
              "\\textbf{wind}                          &       0.1204  &        0.010     &    11.607  &         0.000        &        0.100    &        0.141     \\\\\n",
              "\\textbf{no\\_visitors}                  &      -0.9430  &        0.114     &    -8.237  &         0.000        &       -1.167    &       -0.719     \\\\\n",
              "\\textbf{fresh\\_thickness}              &      -0.4962  &        0.069     &    -7.191  &         0.000        &       -0.631    &       -0.361     \\\\\n",
              "\\textbf{no\\_visitors:fresh\\_thickness} &       0.1015  &        0.013     &     7.835  &         0.000        &        0.076    &        0.127     \\\\\n",
              "\\bottomrule\n",
              "\\end{tabular}\n",
              "%\\caption{Logit Regression Results}\n",
              "\\end{center}"
            ],
            "text/plain": [
              "<class 'statsmodels.iolib.summary.Summary'>\n",
              "\"\"\"\n",
              "                           Logit Regression Results                           \n",
              "==============================================================================\n",
              "Dep. Variable:              avalanche   No. Observations:                  821\n",
              "Model:                          Logit   Df Residuals:                      814\n",
              "Method:                           MLE   Df Model:                            6\n",
              "Date:                Fri, 19 Apr 2024   Pseudo R-squ.:                  0.3973\n",
              "Time:                        11:28:50   Log-Likelihood:                -339.51\n",
              "converged:                       True   LL-Null:                       -563.33\n",
              "Covariance Type:            nonrobust   LLR p-value:                 1.587e-93\n",
              "===============================================================================================\n",
              "                                  coef    std err          z      P>|z|      [0.025      0.975]\n",
              "-----------------------------------------------------------------------------------------------\n",
              "Intercept                      -0.9606      0.587     -1.636      0.102      -2.111       0.190\n",
              "weak_layers                     0.4327      0.039     11.193      0.000       0.357       0.508\n",
              "surface_hoar                    0.3887      0.039     10.035      0.000       0.313       0.465\n",
              "wind                            0.1204      0.010     11.607      0.000       0.100       0.141\n",
              "no_visitors                    -0.9430      0.114     -8.237      0.000      -1.167      -0.719\n",
              "fresh_thickness                -0.4962      0.069     -7.191      0.000      -0.631      -0.361\n",
              "no_visitors:fresh_thickness     0.1015      0.013      7.835      0.000       0.076       0.127\n",
              "===============================================================================================\n",
              "\"\"\""
            ]
          },
          "execution_count": 9,
          "metadata": {},
          "output_type": "execute_result"
        }
      ],
      "source": [
        "model_with_interaction.summary()"
      ]
    },
    {
      "cell_type": "markdown",
      "metadata": {},
      "source": [
        "We can see that the interaction term is helpful - the p-value is less than 0.05. The model is also performing better than our previous attempts.\n",
        "\n",
        "## Making predictions with multiple features\n",
        "\n",
        "Very quickly, lets explore what this interaction means by looking at model predictions. \n",
        "\n",
        "We will first graph two independent features in 3D. Let's start with `weak_layers` and `wind`:"
      ]
    },
    {
      "cell_type": "code",
      "execution_count": 10,
      "metadata": {},
      "outputs": [
        {
          "name": "stdout",
          "output_type": "stream",
          "text": [
            "Creating plot...\n"
          ]
        },
        {
          "name": "stderr",
          "output_type": "stream",
          "text": [
            "/Users/ncng/Documents/Projects/Python-Beginners-Course/15-Classification-Models/../Scripts/graphing.py:490: FutureWarning: Calling float on a single element Series is deprecated and will raise a TypeError in the future. Use float(ser.iloc[0]) instead\n",
            "  z[i_y, i_x] = calc_z(x_values[i_x], y_values[i_y])\n",
            "/Users/ncng/Documents/Projects/Python-Beginners-Course/15-Classification-Models/../Scripts/graphing.py:490: FutureWarning: Calling float on a single element Series is deprecated and will raise a TypeError in the future. Use float(ser.iloc[0]) instead\n",
            "  z[i_y, i_x] = calc_z(x_values[i_x], y_values[i_y])\n",
            "/Users/ncng/Documents/Projects/Python-Beginners-Course/15-Classification-Models/../Scripts/graphing.py:490: FutureWarning: Calling float on a single element Series is deprecated and will raise a TypeError in the future. Use float(ser.iloc[0]) instead\n",
            "  z[i_y, i_x] = calc_z(x_values[i_x], y_values[i_y])\n",
            "/Users/ncng/Documents/Projects/Python-Beginners-Course/15-Classification-Models/../Scripts/graphing.py:490: FutureWarning: Calling float on a single element Series is deprecated and will raise a TypeError in the future. Use float(ser.iloc[0]) instead\n",
            "  z[i_y, i_x] = calc_z(x_values[i_x], y_values[i_y])\n",
            "/Users/ncng/Documents/Projects/Python-Beginners-Course/15-Classification-Models/../Scripts/graphing.py:490: FutureWarning: Calling float on a single element Series is deprecated and will raise a TypeError in the future. Use float(ser.iloc[0]) instead\n",
            "  z[i_y, i_x] = calc_z(x_values[i_x], y_values[i_y])\n",
            "/Users/ncng/Documents/Projects/Python-Beginners-Course/15-Classification-Models/../Scripts/graphing.py:490: FutureWarning: Calling float on a single element Series is deprecated and will raise a TypeError in the future. Use float(ser.iloc[0]) instead\n",
            "  z[i_y, i_x] = calc_z(x_values[i_x], y_values[i_y])\n",
            "/Users/ncng/Documents/Projects/Python-Beginners-Course/15-Classification-Models/../Scripts/graphing.py:490: FutureWarning: Calling float on a single element Series is deprecated and will raise a TypeError in the future. Use float(ser.iloc[0]) instead\n",
            "  z[i_y, i_x] = calc_z(x_values[i_x], y_values[i_y])\n",
            "/Users/ncng/Documents/Projects/Python-Beginners-Course/15-Classification-Models/../Scripts/graphing.py:490: FutureWarning: Calling float on a single element Series is deprecated and will raise a TypeError in the future. Use float(ser.iloc[0]) instead\n",
            "  z[i_y, i_x] = calc_z(x_values[i_x], y_values[i_y])\n",
            "/Users/ncng/Documents/Projects/Python-Beginners-Course/15-Classification-Models/../Scripts/graphing.py:490: FutureWarning: Calling float on a single element Series is deprecated and will raise a TypeError in the future. Use float(ser.iloc[0]) instead\n",
            "  z[i_y, i_x] = calc_z(x_values[i_x], y_values[i_y])\n",
            "/Users/ncng/Documents/Projects/Python-Beginners-Course/15-Classification-Models/../Scripts/graphing.py:490: FutureWarning: Calling float on a single element Series is deprecated and will raise a TypeError in the future. Use float(ser.iloc[0]) instead\n",
            "  z[i_y, i_x] = calc_z(x_values[i_x], y_values[i_y])\n",
            "/Users/ncng/Documents/Projects/Python-Beginners-Course/15-Classification-Models/../Scripts/graphing.py:490: FutureWarning: Calling float on a single element Series is deprecated and will raise a TypeError in the future. Use float(ser.iloc[0]) instead\n",
            "  z[i_y, i_x] = calc_z(x_values[i_x], y_values[i_y])\n",
            "/Users/ncng/Documents/Projects/Python-Beginners-Course/15-Classification-Models/../Scripts/graphing.py:490: FutureWarning: Calling float on a single element Series is deprecated and will raise a TypeError in the future. Use float(ser.iloc[0]) instead\n",
            "  z[i_y, i_x] = calc_z(x_values[i_x], y_values[i_y])\n",
            "/Users/ncng/Documents/Projects/Python-Beginners-Course/15-Classification-Models/../Scripts/graphing.py:490: FutureWarning: Calling float on a single element Series is deprecated and will raise a TypeError in the future. Use float(ser.iloc[0]) instead\n",
            "  z[i_y, i_x] = calc_z(x_values[i_x], y_values[i_y])\n",
            "/Users/ncng/Documents/Projects/Python-Beginners-Course/15-Classification-Models/../Scripts/graphing.py:490: FutureWarning: Calling float on a single element Series is deprecated and will raise a TypeError in the future. Use float(ser.iloc[0]) instead\n",
            "  z[i_y, i_x] = calc_z(x_values[i_x], y_values[i_y])\n",
            "/Users/ncng/Documents/Projects/Python-Beginners-Course/15-Classification-Models/../Scripts/graphing.py:490: FutureWarning: Calling float on a single element Series is deprecated and will raise a TypeError in the future. Use float(ser.iloc[0]) instead\n",
            "  z[i_y, i_x] = calc_z(x_values[i_x], y_values[i_y])\n",
            "/Users/ncng/Documents/Projects/Python-Beginners-Course/15-Classification-Models/../Scripts/graphing.py:490: FutureWarning: Calling float on a single element Series is deprecated and will raise a TypeError in the future. Use float(ser.iloc[0]) instead\n",
            "  z[i_y, i_x] = calc_z(x_values[i_x], y_values[i_y])\n",
            "/Users/ncng/Documents/Projects/Python-Beginners-Course/15-Classification-Models/../Scripts/graphing.py:490: FutureWarning: Calling float on a single element Series is deprecated and will raise a TypeError in the future. Use float(ser.iloc[0]) instead\n",
            "  z[i_y, i_x] = calc_z(x_values[i_x], y_values[i_y])\n",
            "/Users/ncng/Documents/Projects/Python-Beginners-Course/15-Classification-Models/../Scripts/graphing.py:490: FutureWarning: Calling float on a single element Series is deprecated and will raise a TypeError in the future. Use float(ser.iloc[0]) instead\n",
            "  z[i_y, i_x] = calc_z(x_values[i_x], y_values[i_y])\n",
            "/Users/ncng/Documents/Projects/Python-Beginners-Course/15-Classification-Models/../Scripts/graphing.py:490: FutureWarning: Calling float on a single element Series is deprecated and will raise a TypeError in the future. Use float(ser.iloc[0]) instead\n",
            "  z[i_y, i_x] = calc_z(x_values[i_x], y_values[i_y])\n",
            "/Users/ncng/Documents/Projects/Python-Beginners-Course/15-Classification-Models/../Scripts/graphing.py:490: FutureWarning: Calling float on a single element Series is deprecated and will raise a TypeError in the future. Use float(ser.iloc[0]) instead\n",
            "  z[i_y, i_x] = calc_z(x_values[i_x], y_values[i_y])\n",
            "/Users/ncng/Documents/Projects/Python-Beginners-Course/15-Classification-Models/../Scripts/graphing.py:490: FutureWarning: Calling float on a single element Series is deprecated and will raise a TypeError in the future. Use float(ser.iloc[0]) instead\n",
            "  z[i_y, i_x] = calc_z(x_values[i_x], y_values[i_y])\n",
            "/Users/ncng/Documents/Projects/Python-Beginners-Course/15-Classification-Models/../Scripts/graphing.py:490: FutureWarning: Calling float on a single element Series is deprecated and will raise a TypeError in the future. Use float(ser.iloc[0]) instead\n",
            "  z[i_y, i_x] = calc_z(x_values[i_x], y_values[i_y])\n",
            "/Users/ncng/Documents/Projects/Python-Beginners-Course/15-Classification-Models/../Scripts/graphing.py:490: FutureWarning: Calling float on a single element Series is deprecated and will raise a TypeError in the future. Use float(ser.iloc[0]) instead\n",
            "  z[i_y, i_x] = calc_z(x_values[i_x], y_values[i_y])\n",
            "/Users/ncng/Documents/Projects/Python-Beginners-Course/15-Classification-Models/../Scripts/graphing.py:490: FutureWarning: Calling float on a single element Series is deprecated and will raise a TypeError in the future. Use float(ser.iloc[0]) instead\n",
            "  z[i_y, i_x] = calc_z(x_values[i_x], y_values[i_y])\n",
            "/Users/ncng/Documents/Projects/Python-Beginners-Course/15-Classification-Models/../Scripts/graphing.py:490: FutureWarning: Calling float on a single element Series is deprecated and will raise a TypeError in the future. Use float(ser.iloc[0]) instead\n",
            "  z[i_y, i_x] = calc_z(x_values[i_x], y_values[i_y])\n",
            "/Users/ncng/Documents/Projects/Python-Beginners-Course/15-Classification-Models/../Scripts/graphing.py:490: FutureWarning: Calling float on a single element Series is deprecated and will raise a TypeError in the future. Use float(ser.iloc[0]) instead\n",
            "  z[i_y, i_x] = calc_z(x_values[i_x], y_values[i_y])\n",
            "/Users/ncng/Documents/Projects/Python-Beginners-Course/15-Classification-Models/../Scripts/graphing.py:490: FutureWarning: Calling float on a single element Series is deprecated and will raise a TypeError in the future. Use float(ser.iloc[0]) instead\n",
            "  z[i_y, i_x] = calc_z(x_values[i_x], y_values[i_y])\n",
            "/Users/ncng/Documents/Projects/Python-Beginners-Course/15-Classification-Models/../Scripts/graphing.py:490: FutureWarning: Calling float on a single element Series is deprecated and will raise a TypeError in the future. Use float(ser.iloc[0]) instead\n",
            "  z[i_y, i_x] = calc_z(x_values[i_x], y_values[i_y])\n",
            "/Users/ncng/Documents/Projects/Python-Beginners-Course/15-Classification-Models/../Scripts/graphing.py:490: FutureWarning: Calling float on a single element Series is deprecated and will raise a TypeError in the future. Use float(ser.iloc[0]) instead\n",
            "  z[i_y, i_x] = calc_z(x_values[i_x], y_values[i_y])\n",
            "/Users/ncng/Documents/Projects/Python-Beginners-Course/15-Classification-Models/../Scripts/graphing.py:490: FutureWarning: Calling float on a single element Series is deprecated and will raise a TypeError in the future. Use float(ser.iloc[0]) instead\n",
            "  z[i_y, i_x] = calc_z(x_values[i_x], y_values[i_y])\n",
            "/Users/ncng/Documents/Projects/Python-Beginners-Course/15-Classification-Models/../Scripts/graphing.py:490: FutureWarning: Calling float on a single element Series is deprecated and will raise a TypeError in the future. Use float(ser.iloc[0]) instead\n",
            "  z[i_y, i_x] = calc_z(x_values[i_x], y_values[i_y])\n",
            "/Users/ncng/Documents/Projects/Python-Beginners-Course/15-Classification-Models/../Scripts/graphing.py:490: FutureWarning: Calling float on a single element Series is deprecated and will raise a TypeError in the future. Use float(ser.iloc[0]) instead\n",
            "  z[i_y, i_x] = calc_z(x_values[i_x], y_values[i_y])\n",
            "/Users/ncng/Documents/Projects/Python-Beginners-Course/15-Classification-Models/../Scripts/graphing.py:490: FutureWarning: Calling float on a single element Series is deprecated and will raise a TypeError in the future. Use float(ser.iloc[0]) instead\n",
            "  z[i_y, i_x] = calc_z(x_values[i_x], y_values[i_y])\n",
            "/Users/ncng/Documents/Projects/Python-Beginners-Course/15-Classification-Models/../Scripts/graphing.py:490: FutureWarning: Calling float on a single element Series is deprecated and will raise a TypeError in the future. Use float(ser.iloc[0]) instead\n",
            "  z[i_y, i_x] = calc_z(x_values[i_x], y_values[i_y])\n",
            "/Users/ncng/Documents/Projects/Python-Beginners-Course/15-Classification-Models/../Scripts/graphing.py:490: FutureWarning: Calling float on a single element Series is deprecated and will raise a TypeError in the future. Use float(ser.iloc[0]) instead\n",
            "  z[i_y, i_x] = calc_z(x_values[i_x], y_values[i_y])\n",
            "/Users/ncng/Documents/Projects/Python-Beginners-Course/15-Classification-Models/../Scripts/graphing.py:490: FutureWarning: Calling float on a single element Series is deprecated and will raise a TypeError in the future. Use float(ser.iloc[0]) instead\n",
            "  z[i_y, i_x] = calc_z(x_values[i_x], y_values[i_y])\n",
            "/Users/ncng/Documents/Projects/Python-Beginners-Course/15-Classification-Models/../Scripts/graphing.py:490: FutureWarning: Calling float on a single element Series is deprecated and will raise a TypeError in the future. Use float(ser.iloc[0]) instead\n",
            "  z[i_y, i_x] = calc_z(x_values[i_x], y_values[i_y])\n",
            "/Users/ncng/Documents/Projects/Python-Beginners-Course/15-Classification-Models/../Scripts/graphing.py:490: FutureWarning: Calling float on a single element Series is deprecated and will raise a TypeError in the future. Use float(ser.iloc[0]) instead\n",
            "  z[i_y, i_x] = calc_z(x_values[i_x], y_values[i_y])\n",
            "/Users/ncng/Documents/Projects/Python-Beginners-Course/15-Classification-Models/../Scripts/graphing.py:490: FutureWarning: Calling float on a single element Series is deprecated and will raise a TypeError in the future. Use float(ser.iloc[0]) instead\n",
            "  z[i_y, i_x] = calc_z(x_values[i_x], y_values[i_y])\n",
            "/Users/ncng/Documents/Projects/Python-Beginners-Course/15-Classification-Models/../Scripts/graphing.py:490: FutureWarning: Calling float on a single element Series is deprecated and will raise a TypeError in the future. Use float(ser.iloc[0]) instead\n",
            "  z[i_y, i_x] = calc_z(x_values[i_x], y_values[i_y])\n",
            "/Users/ncng/Documents/Projects/Python-Beginners-Course/15-Classification-Models/../Scripts/graphing.py:490: FutureWarning: Calling float on a single element Series is deprecated and will raise a TypeError in the future. Use float(ser.iloc[0]) instead\n",
            "  z[i_y, i_x] = calc_z(x_values[i_x], y_values[i_y])\n",
            "/Users/ncng/Documents/Projects/Python-Beginners-Course/15-Classification-Models/../Scripts/graphing.py:490: FutureWarning: Calling float on a single element Series is deprecated and will raise a TypeError in the future. Use float(ser.iloc[0]) instead\n",
            "  z[i_y, i_x] = calc_z(x_values[i_x], y_values[i_y])\n",
            "/Users/ncng/Documents/Projects/Python-Beginners-Course/15-Classification-Models/../Scripts/graphing.py:490: FutureWarning: Calling float on a single element Series is deprecated and will raise a TypeError in the future. Use float(ser.iloc[0]) instead\n",
            "  z[i_y, i_x] = calc_z(x_values[i_x], y_values[i_y])\n",
            "/Users/ncng/Documents/Projects/Python-Beginners-Course/15-Classification-Models/../Scripts/graphing.py:490: FutureWarning: Calling float on a single element Series is deprecated and will raise a TypeError in the future. Use float(ser.iloc[0]) instead\n",
            "  z[i_y, i_x] = calc_z(x_values[i_x], y_values[i_y])\n",
            "/Users/ncng/Documents/Projects/Python-Beginners-Course/15-Classification-Models/../Scripts/graphing.py:490: FutureWarning: Calling float on a single element Series is deprecated and will raise a TypeError in the future. Use float(ser.iloc[0]) instead\n",
            "  z[i_y, i_x] = calc_z(x_values[i_x], y_values[i_y])\n",
            "/Users/ncng/Documents/Projects/Python-Beginners-Course/15-Classification-Models/../Scripts/graphing.py:490: FutureWarning: Calling float on a single element Series is deprecated and will raise a TypeError in the future. Use float(ser.iloc[0]) instead\n",
            "  z[i_y, i_x] = calc_z(x_values[i_x], y_values[i_y])\n",
            "/Users/ncng/Documents/Projects/Python-Beginners-Course/15-Classification-Models/../Scripts/graphing.py:490: FutureWarning: Calling float on a single element Series is deprecated and will raise a TypeError in the future. Use float(ser.iloc[0]) instead\n",
            "  z[i_y, i_x] = calc_z(x_values[i_x], y_values[i_y])\n",
            "/Users/ncng/Documents/Projects/Python-Beginners-Course/15-Classification-Models/../Scripts/graphing.py:490: FutureWarning: Calling float on a single element Series is deprecated and will raise a TypeError in the future. Use float(ser.iloc[0]) instead\n",
            "  z[i_y, i_x] = calc_z(x_values[i_x], y_values[i_y])\n",
            "/Users/ncng/Documents/Projects/Python-Beginners-Course/15-Classification-Models/../Scripts/graphing.py:490: FutureWarning: Calling float on a single element Series is deprecated and will raise a TypeError in the future. Use float(ser.iloc[0]) instead\n",
            "  z[i_y, i_x] = calc_z(x_values[i_x], y_values[i_y])\n",
            "/Users/ncng/Documents/Projects/Python-Beginners-Course/15-Classification-Models/../Scripts/graphing.py:490: FutureWarning: Calling float on a single element Series is deprecated and will raise a TypeError in the future. Use float(ser.iloc[0]) instead\n",
            "  z[i_y, i_x] = calc_z(x_values[i_x], y_values[i_y])\n",
            "/Users/ncng/Documents/Projects/Python-Beginners-Course/15-Classification-Models/../Scripts/graphing.py:490: FutureWarning: Calling float on a single element Series is deprecated and will raise a TypeError in the future. Use float(ser.iloc[0]) instead\n",
            "  z[i_y, i_x] = calc_z(x_values[i_x], y_values[i_y])\n",
            "/Users/ncng/Documents/Projects/Python-Beginners-Course/15-Classification-Models/../Scripts/graphing.py:490: FutureWarning: Calling float on a single element Series is deprecated and will raise a TypeError in the future. Use float(ser.iloc[0]) instead\n",
            "  z[i_y, i_x] = calc_z(x_values[i_x], y_values[i_y])\n",
            "/Users/ncng/Documents/Projects/Python-Beginners-Course/15-Classification-Models/../Scripts/graphing.py:490: FutureWarning: Calling float on a single element Series is deprecated and will raise a TypeError in the future. Use float(ser.iloc[0]) instead\n",
            "  z[i_y, i_x] = calc_z(x_values[i_x], y_values[i_y])\n",
            "/Users/ncng/Documents/Projects/Python-Beginners-Course/15-Classification-Models/../Scripts/graphing.py:490: FutureWarning: Calling float on a single element Series is deprecated and will raise a TypeError in the future. Use float(ser.iloc[0]) instead\n",
            "  z[i_y, i_x] = calc_z(x_values[i_x], y_values[i_y])\n",
            "/Users/ncng/Documents/Projects/Python-Beginners-Course/15-Classification-Models/../Scripts/graphing.py:490: FutureWarning: Calling float on a single element Series is deprecated and will raise a TypeError in the future. Use float(ser.iloc[0]) instead\n",
            "  z[i_y, i_x] = calc_z(x_values[i_x], y_values[i_y])\n",
            "/Users/ncng/Documents/Projects/Python-Beginners-Course/15-Classification-Models/../Scripts/graphing.py:490: FutureWarning: Calling float on a single element Series is deprecated and will raise a TypeError in the future. Use float(ser.iloc[0]) instead\n",
            "  z[i_y, i_x] = calc_z(x_values[i_x], y_values[i_y])\n",
            "/Users/ncng/Documents/Projects/Python-Beginners-Course/15-Classification-Models/../Scripts/graphing.py:490: FutureWarning: Calling float on a single element Series is deprecated and will raise a TypeError in the future. Use float(ser.iloc[0]) instead\n",
            "  z[i_y, i_x] = calc_z(x_values[i_x], y_values[i_y])\n",
            "/Users/ncng/Documents/Projects/Python-Beginners-Course/15-Classification-Models/../Scripts/graphing.py:490: FutureWarning: Calling float on a single element Series is deprecated and will raise a TypeError in the future. Use float(ser.iloc[0]) instead\n",
            "  z[i_y, i_x] = calc_z(x_values[i_x], y_values[i_y])\n",
            "/Users/ncng/Documents/Projects/Python-Beginners-Course/15-Classification-Models/../Scripts/graphing.py:490: FutureWarning: Calling float on a single element Series is deprecated and will raise a TypeError in the future. Use float(ser.iloc[0]) instead\n",
            "  z[i_y, i_x] = calc_z(x_values[i_x], y_values[i_y])\n",
            "/Users/ncng/Documents/Projects/Python-Beginners-Course/15-Classification-Models/../Scripts/graphing.py:490: FutureWarning: Calling float on a single element Series is deprecated and will raise a TypeError in the future. Use float(ser.iloc[0]) instead\n",
            "  z[i_y, i_x] = calc_z(x_values[i_x], y_values[i_y])\n",
            "/Users/ncng/Documents/Projects/Python-Beginners-Course/15-Classification-Models/../Scripts/graphing.py:490: FutureWarning: Calling float on a single element Series is deprecated and will raise a TypeError in the future. Use float(ser.iloc[0]) instead\n",
            "  z[i_y, i_x] = calc_z(x_values[i_x], y_values[i_y])\n",
            "/Users/ncng/Documents/Projects/Python-Beginners-Course/15-Classification-Models/../Scripts/graphing.py:490: FutureWarning: Calling float on a single element Series is deprecated and will raise a TypeError in the future. Use float(ser.iloc[0]) instead\n",
            "  z[i_y, i_x] = calc_z(x_values[i_x], y_values[i_y])\n",
            "/Users/ncng/Documents/Projects/Python-Beginners-Course/15-Classification-Models/../Scripts/graphing.py:490: FutureWarning: Calling float on a single element Series is deprecated and will raise a TypeError in the future. Use float(ser.iloc[0]) instead\n",
            "  z[i_y, i_x] = calc_z(x_values[i_x], y_values[i_y])\n",
            "/Users/ncng/Documents/Projects/Python-Beginners-Course/15-Classification-Models/../Scripts/graphing.py:490: FutureWarning: Calling float on a single element Series is deprecated and will raise a TypeError in the future. Use float(ser.iloc[0]) instead\n",
            "  z[i_y, i_x] = calc_z(x_values[i_x], y_values[i_y])\n",
            "/Users/ncng/Documents/Projects/Python-Beginners-Course/15-Classification-Models/../Scripts/graphing.py:490: FutureWarning: Calling float on a single element Series is deprecated and will raise a TypeError in the future. Use float(ser.iloc[0]) instead\n",
            "  z[i_y, i_x] = calc_z(x_values[i_x], y_values[i_y])\n",
            "/Users/ncng/Documents/Projects/Python-Beginners-Course/15-Classification-Models/../Scripts/graphing.py:490: FutureWarning: Calling float on a single element Series is deprecated and will raise a TypeError in the future. Use float(ser.iloc[0]) instead\n",
            "  z[i_y, i_x] = calc_z(x_values[i_x], y_values[i_y])\n",
            "/Users/ncng/Documents/Projects/Python-Beginners-Course/15-Classification-Models/../Scripts/graphing.py:490: FutureWarning: Calling float on a single element Series is deprecated and will raise a TypeError in the future. Use float(ser.iloc[0]) instead\n",
            "  z[i_y, i_x] = calc_z(x_values[i_x], y_values[i_y])\n",
            "/Users/ncng/Documents/Projects/Python-Beginners-Course/15-Classification-Models/../Scripts/graphing.py:490: FutureWarning: Calling float on a single element Series is deprecated and will raise a TypeError in the future. Use float(ser.iloc[0]) instead\n",
            "  z[i_y, i_x] = calc_z(x_values[i_x], y_values[i_y])\n",
            "/Users/ncng/Documents/Projects/Python-Beginners-Course/15-Classification-Models/../Scripts/graphing.py:490: FutureWarning: Calling float on a single element Series is deprecated and will raise a TypeError in the future. Use float(ser.iloc[0]) instead\n",
            "  z[i_y, i_x] = calc_z(x_values[i_x], y_values[i_y])\n",
            "/Users/ncng/Documents/Projects/Python-Beginners-Course/15-Classification-Models/../Scripts/graphing.py:490: FutureWarning: Calling float on a single element Series is deprecated and will raise a TypeError in the future. Use float(ser.iloc[0]) instead\n",
            "  z[i_y, i_x] = calc_z(x_values[i_x], y_values[i_y])\n",
            "/Users/ncng/Documents/Projects/Python-Beginners-Course/15-Classification-Models/../Scripts/graphing.py:490: FutureWarning: Calling float on a single element Series is deprecated and will raise a TypeError in the future. Use float(ser.iloc[0]) instead\n",
            "  z[i_y, i_x] = calc_z(x_values[i_x], y_values[i_y])\n",
            "/Users/ncng/Documents/Projects/Python-Beginners-Course/15-Classification-Models/../Scripts/graphing.py:490: FutureWarning: Calling float on a single element Series is deprecated and will raise a TypeError in the future. Use float(ser.iloc[0]) instead\n",
            "  z[i_y, i_x] = calc_z(x_values[i_x], y_values[i_y])\n",
            "/Users/ncng/Documents/Projects/Python-Beginners-Course/15-Classification-Models/../Scripts/graphing.py:490: FutureWarning: Calling float on a single element Series is deprecated and will raise a TypeError in the future. Use float(ser.iloc[0]) instead\n",
            "  z[i_y, i_x] = calc_z(x_values[i_x], y_values[i_y])\n",
            "/Users/ncng/Documents/Projects/Python-Beginners-Course/15-Classification-Models/../Scripts/graphing.py:490: FutureWarning: Calling float on a single element Series is deprecated and will raise a TypeError in the future. Use float(ser.iloc[0]) instead\n",
            "  z[i_y, i_x] = calc_z(x_values[i_x], y_values[i_y])\n",
            "/Users/ncng/Documents/Projects/Python-Beginners-Course/15-Classification-Models/../Scripts/graphing.py:490: FutureWarning: Calling float on a single element Series is deprecated and will raise a TypeError in the future. Use float(ser.iloc[0]) instead\n",
            "  z[i_y, i_x] = calc_z(x_values[i_x], y_values[i_y])\n",
            "/Users/ncng/Documents/Projects/Python-Beginners-Course/15-Classification-Models/../Scripts/graphing.py:490: FutureWarning: Calling float on a single element Series is deprecated and will raise a TypeError in the future. Use float(ser.iloc[0]) instead\n",
            "  z[i_y, i_x] = calc_z(x_values[i_x], y_values[i_y])\n",
            "/Users/ncng/Documents/Projects/Python-Beginners-Course/15-Classification-Models/../Scripts/graphing.py:490: FutureWarning: Calling float on a single element Series is deprecated and will raise a TypeError in the future. Use float(ser.iloc[0]) instead\n",
            "  z[i_y, i_x] = calc_z(x_values[i_x], y_values[i_y])\n",
            "/Users/ncng/Documents/Projects/Python-Beginners-Course/15-Classification-Models/../Scripts/graphing.py:490: FutureWarning: Calling float on a single element Series is deprecated and will raise a TypeError in the future. Use float(ser.iloc[0]) instead\n",
            "  z[i_y, i_x] = calc_z(x_values[i_x], y_values[i_y])\n",
            "/Users/ncng/Documents/Projects/Python-Beginners-Course/15-Classification-Models/../Scripts/graphing.py:490: FutureWarning: Calling float on a single element Series is deprecated and will raise a TypeError in the future. Use float(ser.iloc[0]) instead\n",
            "  z[i_y, i_x] = calc_z(x_values[i_x], y_values[i_y])\n",
            "/Users/ncng/Documents/Projects/Python-Beginners-Course/15-Classification-Models/../Scripts/graphing.py:490: FutureWarning: Calling float on a single element Series is deprecated and will raise a TypeError in the future. Use float(ser.iloc[0]) instead\n",
            "  z[i_y, i_x] = calc_z(x_values[i_x], y_values[i_y])\n",
            "/Users/ncng/Documents/Projects/Python-Beginners-Course/15-Classification-Models/../Scripts/graphing.py:490: FutureWarning: Calling float on a single element Series is deprecated and will raise a TypeError in the future. Use float(ser.iloc[0]) instead\n",
            "  z[i_y, i_x] = calc_z(x_values[i_x], y_values[i_y])\n",
            "/Users/ncng/Documents/Projects/Python-Beginners-Course/15-Classification-Models/../Scripts/graphing.py:490: FutureWarning: Calling float on a single element Series is deprecated and will raise a TypeError in the future. Use float(ser.iloc[0]) instead\n",
            "  z[i_y, i_x] = calc_z(x_values[i_x], y_values[i_y])\n",
            "/Users/ncng/Documents/Projects/Python-Beginners-Course/15-Classification-Models/../Scripts/graphing.py:490: FutureWarning: Calling float on a single element Series is deprecated and will raise a TypeError in the future. Use float(ser.iloc[0]) instead\n",
            "  z[i_y, i_x] = calc_z(x_values[i_x], y_values[i_y])\n",
            "/Users/ncng/Documents/Projects/Python-Beginners-Course/15-Classification-Models/../Scripts/graphing.py:490: FutureWarning: Calling float on a single element Series is deprecated and will raise a TypeError in the future. Use float(ser.iloc[0]) instead\n",
            "  z[i_y, i_x] = calc_z(x_values[i_x], y_values[i_y])\n",
            "/Users/ncng/Documents/Projects/Python-Beginners-Course/15-Classification-Models/../Scripts/graphing.py:490: FutureWarning: Calling float on a single element Series is deprecated and will raise a TypeError in the future. Use float(ser.iloc[0]) instead\n",
            "  z[i_y, i_x] = calc_z(x_values[i_x], y_values[i_y])\n",
            "/Users/ncng/Documents/Projects/Python-Beginners-Course/15-Classification-Models/../Scripts/graphing.py:490: FutureWarning: Calling float on a single element Series is deprecated and will raise a TypeError in the future. Use float(ser.iloc[0]) instead\n",
            "  z[i_y, i_x] = calc_z(x_values[i_x], y_values[i_y])\n",
            "/Users/ncng/Documents/Projects/Python-Beginners-Course/15-Classification-Models/../Scripts/graphing.py:490: FutureWarning: Calling float on a single element Series is deprecated and will raise a TypeError in the future. Use float(ser.iloc[0]) instead\n",
            "  z[i_y, i_x] = calc_z(x_values[i_x], y_values[i_y])\n",
            "/Users/ncng/Documents/Projects/Python-Beginners-Course/15-Classification-Models/../Scripts/graphing.py:490: FutureWarning: Calling float on a single element Series is deprecated and will raise a TypeError in the future. Use float(ser.iloc[0]) instead\n",
            "  z[i_y, i_x] = calc_z(x_values[i_x], y_values[i_y])\n",
            "/Users/ncng/Documents/Projects/Python-Beginners-Course/15-Classification-Models/../Scripts/graphing.py:490: FutureWarning: Calling float on a single element Series is deprecated and will raise a TypeError in the future. Use float(ser.iloc[0]) instead\n",
            "  z[i_y, i_x] = calc_z(x_values[i_x], y_values[i_y])\n",
            "/Users/ncng/Documents/Projects/Python-Beginners-Course/15-Classification-Models/../Scripts/graphing.py:490: FutureWarning: Calling float on a single element Series is deprecated and will raise a TypeError in the future. Use float(ser.iloc[0]) instead\n",
            "  z[i_y, i_x] = calc_z(x_values[i_x], y_values[i_y])\n",
            "/Users/ncng/Documents/Projects/Python-Beginners-Course/15-Classification-Models/../Scripts/graphing.py:490: FutureWarning: Calling float on a single element Series is deprecated and will raise a TypeError in the future. Use float(ser.iloc[0]) instead\n",
            "  z[i_y, i_x] = calc_z(x_values[i_x], y_values[i_y])\n",
            "/Users/ncng/Documents/Projects/Python-Beginners-Course/15-Classification-Models/../Scripts/graphing.py:490: FutureWarning: Calling float on a single element Series is deprecated and will raise a TypeError in the future. Use float(ser.iloc[0]) instead\n",
            "  z[i_y, i_x] = calc_z(x_values[i_x], y_values[i_y])\n",
            "/Users/ncng/Documents/Projects/Python-Beginners-Course/15-Classification-Models/../Scripts/graphing.py:490: FutureWarning: Calling float on a single element Series is deprecated and will raise a TypeError in the future. Use float(ser.iloc[0]) instead\n",
            "  z[i_y, i_x] = calc_z(x_values[i_x], y_values[i_y])\n",
            "/Users/ncng/Documents/Projects/Python-Beginners-Course/15-Classification-Models/../Scripts/graphing.py:490: FutureWarning: Calling float on a single element Series is deprecated and will raise a TypeError in the future. Use float(ser.iloc[0]) instead\n",
            "  z[i_y, i_x] = calc_z(x_values[i_x], y_values[i_y])\n",
            "/Users/ncng/Documents/Projects/Python-Beginners-Course/15-Classification-Models/../Scripts/graphing.py:490: FutureWarning: Calling float on a single element Series is deprecated and will raise a TypeError in the future. Use float(ser.iloc[0]) instead\n",
            "  z[i_y, i_x] = calc_z(x_values[i_x], y_values[i_y])\n",
            "/Users/ncng/Documents/Projects/Python-Beginners-Course/15-Classification-Models/../Scripts/graphing.py:490: FutureWarning: Calling float on a single element Series is deprecated and will raise a TypeError in the future. Use float(ser.iloc[0]) instead\n",
            "  z[i_y, i_x] = calc_z(x_values[i_x], y_values[i_y])\n",
            "/Users/ncng/Documents/Projects/Python-Beginners-Course/15-Classification-Models/../Scripts/graphing.py:490: FutureWarning: Calling float on a single element Series is deprecated and will raise a TypeError in the future. Use float(ser.iloc[0]) instead\n",
            "  z[i_y, i_x] = calc_z(x_values[i_x], y_values[i_y])\n",
            "/Users/ncng/Documents/Projects/Python-Beginners-Course/15-Classification-Models/../Scripts/graphing.py:490: FutureWarning: Calling float on a single element Series is deprecated and will raise a TypeError in the future. Use float(ser.iloc[0]) instead\n",
            "  z[i_y, i_x] = calc_z(x_values[i_x], y_values[i_y])\n",
            "/Users/ncng/Documents/Projects/Python-Beginners-Course/15-Classification-Models/../Scripts/graphing.py:490: FutureWarning: Calling float on a single element Series is deprecated and will raise a TypeError in the future. Use float(ser.iloc[0]) instead\n",
            "  z[i_y, i_x] = calc_z(x_values[i_x], y_values[i_y])\n",
            "/Users/ncng/Documents/Projects/Python-Beginners-Course/15-Classification-Models/../Scripts/graphing.py:490: FutureWarning: Calling float on a single element Series is deprecated and will raise a TypeError in the future. Use float(ser.iloc[0]) instead\n",
            "  z[i_y, i_x] = calc_z(x_values[i_x], y_values[i_y])\n",
            "/Users/ncng/Documents/Projects/Python-Beginners-Course/15-Classification-Models/../Scripts/graphing.py:490: FutureWarning: Calling float on a single element Series is deprecated and will raise a TypeError in the future. Use float(ser.iloc[0]) instead\n",
            "  z[i_y, i_x] = calc_z(x_values[i_x], y_values[i_y])\n",
            "/Users/ncng/Documents/Projects/Python-Beginners-Course/15-Classification-Models/../Scripts/graphing.py:490: FutureWarning: Calling float on a single element Series is deprecated and will raise a TypeError in the future. Use float(ser.iloc[0]) instead\n",
            "  z[i_y, i_x] = calc_z(x_values[i_x], y_values[i_y])\n",
            "/Users/ncng/Documents/Projects/Python-Beginners-Course/15-Classification-Models/../Scripts/graphing.py:490: FutureWarning: Calling float on a single element Series is deprecated and will raise a TypeError in the future. Use float(ser.iloc[0]) instead\n",
            "  z[i_y, i_x] = calc_z(x_values[i_x], y_values[i_y])\n",
            "/Users/ncng/Documents/Projects/Python-Beginners-Course/15-Classification-Models/../Scripts/graphing.py:490: FutureWarning: Calling float on a single element Series is deprecated and will raise a TypeError in the future. Use float(ser.iloc[0]) instead\n",
            "  z[i_y, i_x] = calc_z(x_values[i_x], y_values[i_y])\n",
            "/Users/ncng/Documents/Projects/Python-Beginners-Course/15-Classification-Models/../Scripts/graphing.py:490: FutureWarning: Calling float on a single element Series is deprecated and will raise a TypeError in the future. Use float(ser.iloc[0]) instead\n",
            "  z[i_y, i_x] = calc_z(x_values[i_x], y_values[i_y])\n",
            "/Users/ncng/Documents/Projects/Python-Beginners-Course/15-Classification-Models/../Scripts/graphing.py:490: FutureWarning: Calling float on a single element Series is deprecated and will raise a TypeError in the future. Use float(ser.iloc[0]) instead\n",
            "  z[i_y, i_x] = calc_z(x_values[i_x], y_values[i_y])\n",
            "/Users/ncng/Documents/Projects/Python-Beginners-Course/15-Classification-Models/../Scripts/graphing.py:490: FutureWarning: Calling float on a single element Series is deprecated and will raise a TypeError in the future. Use float(ser.iloc[0]) instead\n",
            "  z[i_y, i_x] = calc_z(x_values[i_x], y_values[i_y])\n",
            "/Users/ncng/Documents/Projects/Python-Beginners-Course/15-Classification-Models/../Scripts/graphing.py:490: FutureWarning: Calling float on a single element Series is deprecated and will raise a TypeError in the future. Use float(ser.iloc[0]) instead\n",
            "  z[i_y, i_x] = calc_z(x_values[i_x], y_values[i_y])\n",
            "/Users/ncng/Documents/Projects/Python-Beginners-Course/15-Classification-Models/../Scripts/graphing.py:490: FutureWarning: Calling float on a single element Series is deprecated and will raise a TypeError in the future. Use float(ser.iloc[0]) instead\n",
            "  z[i_y, i_x] = calc_z(x_values[i_x], y_values[i_y])\n",
            "/Users/ncng/Documents/Projects/Python-Beginners-Course/15-Classification-Models/../Scripts/graphing.py:490: FutureWarning: Calling float on a single element Series is deprecated and will raise a TypeError in the future. Use float(ser.iloc[0]) instead\n",
            "  z[i_y, i_x] = calc_z(x_values[i_x], y_values[i_y])\n",
            "/Users/ncng/Documents/Projects/Python-Beginners-Course/15-Classification-Models/../Scripts/graphing.py:490: FutureWarning: Calling float on a single element Series is deprecated and will raise a TypeError in the future. Use float(ser.iloc[0]) instead\n",
            "  z[i_y, i_x] = calc_z(x_values[i_x], y_values[i_y])\n",
            "/Users/ncng/Documents/Projects/Python-Beginners-Course/15-Classification-Models/../Scripts/graphing.py:490: FutureWarning: Calling float on a single element Series is deprecated and will raise a TypeError in the future. Use float(ser.iloc[0]) instead\n",
            "  z[i_y, i_x] = calc_z(x_values[i_x], y_values[i_y])\n",
            "/Users/ncng/Documents/Projects/Python-Beginners-Course/15-Classification-Models/../Scripts/graphing.py:490: FutureWarning: Calling float on a single element Series is deprecated and will raise a TypeError in the future. Use float(ser.iloc[0]) instead\n",
            "  z[i_y, i_x] = calc_z(x_values[i_x], y_values[i_y])\n",
            "/Users/ncng/Documents/Projects/Python-Beginners-Course/15-Classification-Models/../Scripts/graphing.py:490: FutureWarning: Calling float on a single element Series is deprecated and will raise a TypeError in the future. Use float(ser.iloc[0]) instead\n",
            "  z[i_y, i_x] = calc_z(x_values[i_x], y_values[i_y])\n",
            "/Users/ncng/Documents/Projects/Python-Beginners-Course/15-Classification-Models/../Scripts/graphing.py:490: FutureWarning: Calling float on a single element Series is deprecated and will raise a TypeError in the future. Use float(ser.iloc[0]) instead\n",
            "  z[i_y, i_x] = calc_z(x_values[i_x], y_values[i_y])\n",
            "/Users/ncng/Documents/Projects/Python-Beginners-Course/15-Classification-Models/../Scripts/graphing.py:490: FutureWarning: Calling float on a single element Series is deprecated and will raise a TypeError in the future. Use float(ser.iloc[0]) instead\n",
            "  z[i_y, i_x] = calc_z(x_values[i_x], y_values[i_y])\n",
            "/Users/ncng/Documents/Projects/Python-Beginners-Course/15-Classification-Models/../Scripts/graphing.py:490: FutureWarning: Calling float on a single element Series is deprecated and will raise a TypeError in the future. Use float(ser.iloc[0]) instead\n",
            "  z[i_y, i_x] = calc_z(x_values[i_x], y_values[i_y])\n",
            "/Users/ncng/Documents/Projects/Python-Beginners-Course/15-Classification-Models/../Scripts/graphing.py:490: FutureWarning: Calling float on a single element Series is deprecated and will raise a TypeError in the future. Use float(ser.iloc[0]) instead\n",
            "  z[i_y, i_x] = calc_z(x_values[i_x], y_values[i_y])\n",
            "/Users/ncng/Documents/Projects/Python-Beginners-Course/15-Classification-Models/../Scripts/graphing.py:490: FutureWarning: Calling float on a single element Series is deprecated and will raise a TypeError in the future. Use float(ser.iloc[0]) instead\n",
            "  z[i_y, i_x] = calc_z(x_values[i_x], y_values[i_y])\n",
            "/Users/ncng/Documents/Projects/Python-Beginners-Course/15-Classification-Models/../Scripts/graphing.py:490: FutureWarning: Calling float on a single element Series is deprecated and will raise a TypeError in the future. Use float(ser.iloc[0]) instead\n",
            "  z[i_y, i_x] = calc_z(x_values[i_x], y_values[i_y])\n",
            "/Users/ncng/Documents/Projects/Python-Beginners-Course/15-Classification-Models/../Scripts/graphing.py:490: FutureWarning: Calling float on a single element Series is deprecated and will raise a TypeError in the future. Use float(ser.iloc[0]) instead\n",
            "  z[i_y, i_x] = calc_z(x_values[i_x], y_values[i_y])\n",
            "/Users/ncng/Documents/Projects/Python-Beginners-Course/15-Classification-Models/../Scripts/graphing.py:490: FutureWarning: Calling float on a single element Series is deprecated and will raise a TypeError in the future. Use float(ser.iloc[0]) instead\n",
            "  z[i_y, i_x] = calc_z(x_values[i_x], y_values[i_y])\n",
            "/Users/ncng/Documents/Projects/Python-Beginners-Course/15-Classification-Models/../Scripts/graphing.py:490: FutureWarning: Calling float on a single element Series is deprecated and will raise a TypeError in the future. Use float(ser.iloc[0]) instead\n",
            "  z[i_y, i_x] = calc_z(x_values[i_x], y_values[i_y])\n",
            "/Users/ncng/Documents/Projects/Python-Beginners-Course/15-Classification-Models/../Scripts/graphing.py:490: FutureWarning: Calling float on a single element Series is deprecated and will raise a TypeError in the future. Use float(ser.iloc[0]) instead\n",
            "  z[i_y, i_x] = calc_z(x_values[i_x], y_values[i_y])\n",
            "/Users/ncng/Documents/Projects/Python-Beginners-Course/15-Classification-Models/../Scripts/graphing.py:490: FutureWarning: Calling float on a single element Series is deprecated and will raise a TypeError in the future. Use float(ser.iloc[0]) instead\n",
            "  z[i_y, i_x] = calc_z(x_values[i_x], y_values[i_y])\n",
            "/Users/ncng/Documents/Projects/Python-Beginners-Course/15-Classification-Models/../Scripts/graphing.py:490: FutureWarning: Calling float on a single element Series is deprecated and will raise a TypeError in the future. Use float(ser.iloc[0]) instead\n",
            "  z[i_y, i_x] = calc_z(x_values[i_x], y_values[i_y])\n",
            "/Users/ncng/Documents/Projects/Python-Beginners-Course/15-Classification-Models/../Scripts/graphing.py:490: FutureWarning: Calling float on a single element Series is deprecated and will raise a TypeError in the future. Use float(ser.iloc[0]) instead\n",
            "  z[i_y, i_x] = calc_z(x_values[i_x], y_values[i_y])\n",
            "/Users/ncng/Documents/Projects/Python-Beginners-Course/15-Classification-Models/../Scripts/graphing.py:490: FutureWarning: Calling float on a single element Series is deprecated and will raise a TypeError in the future. Use float(ser.iloc[0]) instead\n",
            "  z[i_y, i_x] = calc_z(x_values[i_x], y_values[i_y])\n",
            "/Users/ncng/Documents/Projects/Python-Beginners-Course/15-Classification-Models/../Scripts/graphing.py:490: FutureWarning: Calling float on a single element Series is deprecated and will raise a TypeError in the future. Use float(ser.iloc[0]) instead\n",
            "  z[i_y, i_x] = calc_z(x_values[i_x], y_values[i_y])\n",
            "/Users/ncng/Documents/Projects/Python-Beginners-Course/15-Classification-Models/../Scripts/graphing.py:490: FutureWarning: Calling float on a single element Series is deprecated and will raise a TypeError in the future. Use float(ser.iloc[0]) instead\n",
            "  z[i_y, i_x] = calc_z(x_values[i_x], y_values[i_y])\n",
            "/Users/ncng/Documents/Projects/Python-Beginners-Course/15-Classification-Models/../Scripts/graphing.py:490: FutureWarning: Calling float on a single element Series is deprecated and will raise a TypeError in the future. Use float(ser.iloc[0]) instead\n",
            "  z[i_y, i_x] = calc_z(x_values[i_x], y_values[i_y])\n",
            "/Users/ncng/Documents/Projects/Python-Beginners-Course/15-Classification-Models/../Scripts/graphing.py:490: FutureWarning: Calling float on a single element Series is deprecated and will raise a TypeError in the future. Use float(ser.iloc[0]) instead\n",
            "  z[i_y, i_x] = calc_z(x_values[i_x], y_values[i_y])\n",
            "/Users/ncng/Documents/Projects/Python-Beginners-Course/15-Classification-Models/../Scripts/graphing.py:490: FutureWarning: Calling float on a single element Series is deprecated and will raise a TypeError in the future. Use float(ser.iloc[0]) instead\n",
            "  z[i_y, i_x] = calc_z(x_values[i_x], y_values[i_y])\n",
            "/Users/ncng/Documents/Projects/Python-Beginners-Course/15-Classification-Models/../Scripts/graphing.py:490: FutureWarning: Calling float on a single element Series is deprecated and will raise a TypeError in the future. Use float(ser.iloc[0]) instead\n",
            "  z[i_y, i_x] = calc_z(x_values[i_x], y_values[i_y])\n",
            "/Users/ncng/Documents/Projects/Python-Beginners-Course/15-Classification-Models/../Scripts/graphing.py:490: FutureWarning: Calling float on a single element Series is deprecated and will raise a TypeError in the future. Use float(ser.iloc[0]) instead\n",
            "  z[i_y, i_x] = calc_z(x_values[i_x], y_values[i_y])\n",
            "/Users/ncng/Documents/Projects/Python-Beginners-Course/15-Classification-Models/../Scripts/graphing.py:490: FutureWarning: Calling float on a single element Series is deprecated and will raise a TypeError in the future. Use float(ser.iloc[0]) instead\n",
            "  z[i_y, i_x] = calc_z(x_values[i_x], y_values[i_y])\n",
            "/Users/ncng/Documents/Projects/Python-Beginners-Course/15-Classification-Models/../Scripts/graphing.py:490: FutureWarning: Calling float on a single element Series is deprecated and will raise a TypeError in the future. Use float(ser.iloc[0]) instead\n",
            "  z[i_y, i_x] = calc_z(x_values[i_x], y_values[i_y])\n",
            "/Users/ncng/Documents/Projects/Python-Beginners-Course/15-Classification-Models/../Scripts/graphing.py:490: FutureWarning: Calling float on a single element Series is deprecated and will raise a TypeError in the future. Use float(ser.iloc[0]) instead\n",
            "  z[i_y, i_x] = calc_z(x_values[i_x], y_values[i_y])\n",
            "/Users/ncng/Documents/Projects/Python-Beginners-Course/15-Classification-Models/../Scripts/graphing.py:490: FutureWarning: Calling float on a single element Series is deprecated and will raise a TypeError in the future. Use float(ser.iloc[0]) instead\n",
            "  z[i_y, i_x] = calc_z(x_values[i_x], y_values[i_y])\n",
            "/Users/ncng/Documents/Projects/Python-Beginners-Course/15-Classification-Models/../Scripts/graphing.py:490: FutureWarning: Calling float on a single element Series is deprecated and will raise a TypeError in the future. Use float(ser.iloc[0]) instead\n",
            "  z[i_y, i_x] = calc_z(x_values[i_x], y_values[i_y])\n",
            "/Users/ncng/Documents/Projects/Python-Beginners-Course/15-Classification-Models/../Scripts/graphing.py:490: FutureWarning: Calling float on a single element Series is deprecated and will raise a TypeError in the future. Use float(ser.iloc[0]) instead\n",
            "  z[i_y, i_x] = calc_z(x_values[i_x], y_values[i_y])\n",
            "/Users/ncng/Documents/Projects/Python-Beginners-Course/15-Classification-Models/../Scripts/graphing.py:490: FutureWarning: Calling float on a single element Series is deprecated and will raise a TypeError in the future. Use float(ser.iloc[0]) instead\n",
            "  z[i_y, i_x] = calc_z(x_values[i_x], y_values[i_y])\n",
            "/Users/ncng/Documents/Projects/Python-Beginners-Course/15-Classification-Models/../Scripts/graphing.py:490: FutureWarning: Calling float on a single element Series is deprecated and will raise a TypeError in the future. Use float(ser.iloc[0]) instead\n",
            "  z[i_y, i_x] = calc_z(x_values[i_x], y_values[i_y])\n",
            "/Users/ncng/Documents/Projects/Python-Beginners-Course/15-Classification-Models/../Scripts/graphing.py:490: FutureWarning: Calling float on a single element Series is deprecated and will raise a TypeError in the future. Use float(ser.iloc[0]) instead\n",
            "  z[i_y, i_x] = calc_z(x_values[i_x], y_values[i_y])\n",
            "/Users/ncng/Documents/Projects/Python-Beginners-Course/15-Classification-Models/../Scripts/graphing.py:490: FutureWarning: Calling float on a single element Series is deprecated and will raise a TypeError in the future. Use float(ser.iloc[0]) instead\n",
            "  z[i_y, i_x] = calc_z(x_values[i_x], y_values[i_y])\n",
            "/Users/ncng/Documents/Projects/Python-Beginners-Course/15-Classification-Models/../Scripts/graphing.py:490: FutureWarning: Calling float on a single element Series is deprecated and will raise a TypeError in the future. Use float(ser.iloc[0]) instead\n",
            "  z[i_y, i_x] = calc_z(x_values[i_x], y_values[i_y])\n",
            "/Users/ncng/Documents/Projects/Python-Beginners-Course/15-Classification-Models/../Scripts/graphing.py:490: FutureWarning: Calling float on a single element Series is deprecated and will raise a TypeError in the future. Use float(ser.iloc[0]) instead\n",
            "  z[i_y, i_x] = calc_z(x_values[i_x], y_values[i_y])\n",
            "/Users/ncng/Documents/Projects/Python-Beginners-Course/15-Classification-Models/../Scripts/graphing.py:490: FutureWarning: Calling float on a single element Series is deprecated and will raise a TypeError in the future. Use float(ser.iloc[0]) instead\n",
            "  z[i_y, i_x] = calc_z(x_values[i_x], y_values[i_y])\n",
            "/Users/ncng/Documents/Projects/Python-Beginners-Course/15-Classification-Models/../Scripts/graphing.py:490: FutureWarning: Calling float on a single element Series is deprecated and will raise a TypeError in the future. Use float(ser.iloc[0]) instead\n",
            "  z[i_y, i_x] = calc_z(x_values[i_x], y_values[i_y])\n",
            "/Users/ncng/Documents/Projects/Python-Beginners-Course/15-Classification-Models/../Scripts/graphing.py:490: FutureWarning: Calling float on a single element Series is deprecated and will raise a TypeError in the future. Use float(ser.iloc[0]) instead\n",
            "  z[i_y, i_x] = calc_z(x_values[i_x], y_values[i_y])\n",
            "/Users/ncng/Documents/Projects/Python-Beginners-Course/15-Classification-Models/../Scripts/graphing.py:490: FutureWarning: Calling float on a single element Series is deprecated and will raise a TypeError in the future. Use float(ser.iloc[0]) instead\n",
            "  z[i_y, i_x] = calc_z(x_values[i_x], y_values[i_y])\n",
            "/Users/ncng/Documents/Projects/Python-Beginners-Course/15-Classification-Models/../Scripts/graphing.py:490: FutureWarning: Calling float on a single element Series is deprecated and will raise a TypeError in the future. Use float(ser.iloc[0]) instead\n",
            "  z[i_y, i_x] = calc_z(x_values[i_x], y_values[i_y])\n",
            "/Users/ncng/Documents/Projects/Python-Beginners-Course/15-Classification-Models/../Scripts/graphing.py:490: FutureWarning: Calling float on a single element Series is deprecated and will raise a TypeError in the future. Use float(ser.iloc[0]) instead\n",
            "  z[i_y, i_x] = calc_z(x_values[i_x], y_values[i_y])\n",
            "/Users/ncng/Documents/Projects/Python-Beginners-Course/15-Classification-Models/../Scripts/graphing.py:490: FutureWarning: Calling float on a single element Series is deprecated and will raise a TypeError in the future. Use float(ser.iloc[0]) instead\n",
            "  z[i_y, i_x] = calc_z(x_values[i_x], y_values[i_y])\n",
            "/Users/ncng/Documents/Projects/Python-Beginners-Course/15-Classification-Models/../Scripts/graphing.py:490: FutureWarning: Calling float on a single element Series is deprecated and will raise a TypeError in the future. Use float(ser.iloc[0]) instead\n",
            "  z[i_y, i_x] = calc_z(x_values[i_x], y_values[i_y])\n",
            "/Users/ncng/Documents/Projects/Python-Beginners-Course/15-Classification-Models/../Scripts/graphing.py:490: FutureWarning: Calling float on a single element Series is deprecated and will raise a TypeError in the future. Use float(ser.iloc[0]) instead\n",
            "  z[i_y, i_x] = calc_z(x_values[i_x], y_values[i_y])\n",
            "/Users/ncng/Documents/Projects/Python-Beginners-Course/15-Classification-Models/../Scripts/graphing.py:490: FutureWarning: Calling float on a single element Series is deprecated and will raise a TypeError in the future. Use float(ser.iloc[0]) instead\n",
            "  z[i_y, i_x] = calc_z(x_values[i_x], y_values[i_y])\n",
            "/Users/ncng/Documents/Projects/Python-Beginners-Course/15-Classification-Models/../Scripts/graphing.py:490: FutureWarning: Calling float on a single element Series is deprecated and will raise a TypeError in the future. Use float(ser.iloc[0]) instead\n",
            "  z[i_y, i_x] = calc_z(x_values[i_x], y_values[i_y])\n",
            "/Users/ncng/Documents/Projects/Python-Beginners-Course/15-Classification-Models/../Scripts/graphing.py:490: FutureWarning: Calling float on a single element Series is deprecated and will raise a TypeError in the future. Use float(ser.iloc[0]) instead\n",
            "  z[i_y, i_x] = calc_z(x_values[i_x], y_values[i_y])\n",
            "/Users/ncng/Documents/Projects/Python-Beginners-Course/15-Classification-Models/../Scripts/graphing.py:490: FutureWarning: Calling float on a single element Series is deprecated and will raise a TypeError in the future. Use float(ser.iloc[0]) instead\n",
            "  z[i_y, i_x] = calc_z(x_values[i_x], y_values[i_y])\n",
            "/Users/ncng/Documents/Projects/Python-Beginners-Course/15-Classification-Models/../Scripts/graphing.py:490: FutureWarning: Calling float on a single element Series is deprecated and will raise a TypeError in the future. Use float(ser.iloc[0]) instead\n",
            "  z[i_y, i_x] = calc_z(x_values[i_x], y_values[i_y])\n",
            "/Users/ncng/Documents/Projects/Python-Beginners-Course/15-Classification-Models/../Scripts/graphing.py:490: FutureWarning: Calling float on a single element Series is deprecated and will raise a TypeError in the future. Use float(ser.iloc[0]) instead\n",
            "  z[i_y, i_x] = calc_z(x_values[i_x], y_values[i_y])\n",
            "/Users/ncng/Documents/Projects/Python-Beginners-Course/15-Classification-Models/../Scripts/graphing.py:490: FutureWarning: Calling float on a single element Series is deprecated and will raise a TypeError in the future. Use float(ser.iloc[0]) instead\n",
            "  z[i_y, i_x] = calc_z(x_values[i_x], y_values[i_y])\n",
            "/Users/ncng/Documents/Projects/Python-Beginners-Course/15-Classification-Models/../Scripts/graphing.py:490: FutureWarning: Calling float on a single element Series is deprecated and will raise a TypeError in the future. Use float(ser.iloc[0]) instead\n",
            "  z[i_y, i_x] = calc_z(x_values[i_x], y_values[i_y])\n",
            "/Users/ncng/Documents/Projects/Python-Beginners-Course/15-Classification-Models/../Scripts/graphing.py:490: FutureWarning: Calling float on a single element Series is deprecated and will raise a TypeError in the future. Use float(ser.iloc[0]) instead\n",
            "  z[i_y, i_x] = calc_z(x_values[i_x], y_values[i_y])\n",
            "/Users/ncng/Documents/Projects/Python-Beginners-Course/15-Classification-Models/../Scripts/graphing.py:490: FutureWarning: Calling float on a single element Series is deprecated and will raise a TypeError in the future. Use float(ser.iloc[0]) instead\n",
            "  z[i_y, i_x] = calc_z(x_values[i_x], y_values[i_y])\n",
            "/Users/ncng/Documents/Projects/Python-Beginners-Course/15-Classification-Models/../Scripts/graphing.py:490: FutureWarning: Calling float on a single element Series is deprecated and will raise a TypeError in the future. Use float(ser.iloc[0]) instead\n",
            "  z[i_y, i_x] = calc_z(x_values[i_x], y_values[i_y])\n",
            "/Users/ncng/Documents/Projects/Python-Beginners-Course/15-Classification-Models/../Scripts/graphing.py:490: FutureWarning: Calling float on a single element Series is deprecated and will raise a TypeError in the future. Use float(ser.iloc[0]) instead\n",
            "  z[i_y, i_x] = calc_z(x_values[i_x], y_values[i_y])\n",
            "/Users/ncng/Documents/Projects/Python-Beginners-Course/15-Classification-Models/../Scripts/graphing.py:490: FutureWarning: Calling float on a single element Series is deprecated and will raise a TypeError in the future. Use float(ser.iloc[0]) instead\n",
            "  z[i_y, i_x] = calc_z(x_values[i_x], y_values[i_y])\n",
            "/Users/ncng/Documents/Projects/Python-Beginners-Course/15-Classification-Models/../Scripts/graphing.py:490: FutureWarning: Calling float on a single element Series is deprecated and will raise a TypeError in the future. Use float(ser.iloc[0]) instead\n",
            "  z[i_y, i_x] = calc_z(x_values[i_x], y_values[i_y])\n",
            "/Users/ncng/Documents/Projects/Python-Beginners-Course/15-Classification-Models/../Scripts/graphing.py:490: FutureWarning: Calling float on a single element Series is deprecated and will raise a TypeError in the future. Use float(ser.iloc[0]) instead\n",
            "  z[i_y, i_x] = calc_z(x_values[i_x], y_values[i_y])\n",
            "/Users/ncng/Documents/Projects/Python-Beginners-Course/15-Classification-Models/../Scripts/graphing.py:490: FutureWarning: Calling float on a single element Series is deprecated and will raise a TypeError in the future. Use float(ser.iloc[0]) instead\n",
            "  z[i_y, i_x] = calc_z(x_values[i_x], y_values[i_y])\n",
            "/Users/ncng/Documents/Projects/Python-Beginners-Course/15-Classification-Models/../Scripts/graphing.py:490: FutureWarning: Calling float on a single element Series is deprecated and will raise a TypeError in the future. Use float(ser.iloc[0]) instead\n",
            "  z[i_y, i_x] = calc_z(x_values[i_x], y_values[i_y])\n",
            "/Users/ncng/Documents/Projects/Python-Beginners-Course/15-Classification-Models/../Scripts/graphing.py:490: FutureWarning: Calling float on a single element Series is deprecated and will raise a TypeError in the future. Use float(ser.iloc[0]) instead\n",
            "  z[i_y, i_x] = calc_z(x_values[i_x], y_values[i_y])\n",
            "/Users/ncng/Documents/Projects/Python-Beginners-Course/15-Classification-Models/../Scripts/graphing.py:490: FutureWarning: Calling float on a single element Series is deprecated and will raise a TypeError in the future. Use float(ser.iloc[0]) instead\n",
            "  z[i_y, i_x] = calc_z(x_values[i_x], y_values[i_y])\n",
            "/Users/ncng/Documents/Projects/Python-Beginners-Course/15-Classification-Models/../Scripts/graphing.py:490: FutureWarning: Calling float on a single element Series is deprecated and will raise a TypeError in the future. Use float(ser.iloc[0]) instead\n",
            "  z[i_y, i_x] = calc_z(x_values[i_x], y_values[i_y])\n",
            "/Users/ncng/Documents/Projects/Python-Beginners-Course/15-Classification-Models/../Scripts/graphing.py:490: FutureWarning: Calling float on a single element Series is deprecated and will raise a TypeError in the future. Use float(ser.iloc[0]) instead\n",
            "  z[i_y, i_x] = calc_z(x_values[i_x], y_values[i_y])\n",
            "/Users/ncng/Documents/Projects/Python-Beginners-Course/15-Classification-Models/../Scripts/graphing.py:490: FutureWarning: Calling float on a single element Series is deprecated and will raise a TypeError in the future. Use float(ser.iloc[0]) instead\n",
            "  z[i_y, i_x] = calc_z(x_values[i_x], y_values[i_y])\n",
            "/Users/ncng/Documents/Projects/Python-Beginners-Course/15-Classification-Models/../Scripts/graphing.py:490: FutureWarning: Calling float on a single element Series is deprecated and will raise a TypeError in the future. Use float(ser.iloc[0]) instead\n",
            "  z[i_y, i_x] = calc_z(x_values[i_x], y_values[i_y])\n",
            "/Users/ncng/Documents/Projects/Python-Beginners-Course/15-Classification-Models/../Scripts/graphing.py:490: FutureWarning: Calling float on a single element Series is deprecated and will raise a TypeError in the future. Use float(ser.iloc[0]) instead\n",
            "  z[i_y, i_x] = calc_z(x_values[i_x], y_values[i_y])\n",
            "/Users/ncng/Documents/Projects/Python-Beginners-Course/15-Classification-Models/../Scripts/graphing.py:490: FutureWarning: Calling float on a single element Series is deprecated and will raise a TypeError in the future. Use float(ser.iloc[0]) instead\n",
            "  z[i_y, i_x] = calc_z(x_values[i_x], y_values[i_y])\n",
            "/Users/ncng/Documents/Projects/Python-Beginners-Course/15-Classification-Models/../Scripts/graphing.py:490: FutureWarning: Calling float on a single element Series is deprecated and will raise a TypeError in the future. Use float(ser.iloc[0]) instead\n",
            "  z[i_y, i_x] = calc_z(x_values[i_x], y_values[i_y])\n",
            "/Users/ncng/Documents/Projects/Python-Beginners-Course/15-Classification-Models/../Scripts/graphing.py:490: FutureWarning: Calling float on a single element Series is deprecated and will raise a TypeError in the future. Use float(ser.iloc[0]) instead\n",
            "  z[i_y, i_x] = calc_z(x_values[i_x], y_values[i_y])\n",
            "/Users/ncng/Documents/Projects/Python-Beginners-Course/15-Classification-Models/../Scripts/graphing.py:490: FutureWarning: Calling float on a single element Series is deprecated and will raise a TypeError in the future. Use float(ser.iloc[0]) instead\n",
            "  z[i_y, i_x] = calc_z(x_values[i_x], y_values[i_y])\n",
            "/Users/ncng/Documents/Projects/Python-Beginners-Course/15-Classification-Models/../Scripts/graphing.py:490: FutureWarning: Calling float on a single element Series is deprecated and will raise a TypeError in the future. Use float(ser.iloc[0]) instead\n",
            "  z[i_y, i_x] = calc_z(x_values[i_x], y_values[i_y])\n",
            "/Users/ncng/Documents/Projects/Python-Beginners-Course/15-Classification-Models/../Scripts/graphing.py:490: FutureWarning: Calling float on a single element Series is deprecated and will raise a TypeError in the future. Use float(ser.iloc[0]) instead\n",
            "  z[i_y, i_x] = calc_z(x_values[i_x], y_values[i_y])\n",
            "/Users/ncng/Documents/Projects/Python-Beginners-Course/15-Classification-Models/../Scripts/graphing.py:490: FutureWarning: Calling float on a single element Series is deprecated and will raise a TypeError in the future. Use float(ser.iloc[0]) instead\n",
            "  z[i_y, i_x] = calc_z(x_values[i_x], y_values[i_y])\n",
            "/Users/ncng/Documents/Projects/Python-Beginners-Course/15-Classification-Models/../Scripts/graphing.py:490: FutureWarning: Calling float on a single element Series is deprecated and will raise a TypeError in the future. Use float(ser.iloc[0]) instead\n",
            "  z[i_y, i_x] = calc_z(x_values[i_x], y_values[i_y])\n",
            "/Users/ncng/Documents/Projects/Python-Beginners-Course/15-Classification-Models/../Scripts/graphing.py:490: FutureWarning: Calling float on a single element Series is deprecated and will raise a TypeError in the future. Use float(ser.iloc[0]) instead\n",
            "  z[i_y, i_x] = calc_z(x_values[i_x], y_values[i_y])\n",
            "/Users/ncng/Documents/Projects/Python-Beginners-Course/15-Classification-Models/../Scripts/graphing.py:490: FutureWarning: Calling float on a single element Series is deprecated and will raise a TypeError in the future. Use float(ser.iloc[0]) instead\n",
            "  z[i_y, i_x] = calc_z(x_values[i_x], y_values[i_y])\n",
            "/Users/ncng/Documents/Projects/Python-Beginners-Course/15-Classification-Models/../Scripts/graphing.py:490: FutureWarning: Calling float on a single element Series is deprecated and will raise a TypeError in the future. Use float(ser.iloc[0]) instead\n",
            "  z[i_y, i_x] = calc_z(x_values[i_x], y_values[i_y])\n",
            "/Users/ncng/Documents/Projects/Python-Beginners-Course/15-Classification-Models/../Scripts/graphing.py:490: FutureWarning: Calling float on a single element Series is deprecated and will raise a TypeError in the future. Use float(ser.iloc[0]) instead\n",
            "  z[i_y, i_x] = calc_z(x_values[i_x], y_values[i_y])\n",
            "/Users/ncng/Documents/Projects/Python-Beginners-Course/15-Classification-Models/../Scripts/graphing.py:490: FutureWarning: Calling float on a single element Series is deprecated and will raise a TypeError in the future. Use float(ser.iloc[0]) instead\n",
            "  z[i_y, i_x] = calc_z(x_values[i_x], y_values[i_y])\n",
            "/Users/ncng/Documents/Projects/Python-Beginners-Course/15-Classification-Models/../Scripts/graphing.py:490: FutureWarning: Calling float on a single element Series is deprecated and will raise a TypeError in the future. Use float(ser.iloc[0]) instead\n",
            "  z[i_y, i_x] = calc_z(x_values[i_x], y_values[i_y])\n",
            "/Users/ncng/Documents/Projects/Python-Beginners-Course/15-Classification-Models/../Scripts/graphing.py:490: FutureWarning: Calling float on a single element Series is deprecated and will raise a TypeError in the future. Use float(ser.iloc[0]) instead\n",
            "  z[i_y, i_x] = calc_z(x_values[i_x], y_values[i_y])\n",
            "/Users/ncng/Documents/Projects/Python-Beginners-Course/15-Classification-Models/../Scripts/graphing.py:490: FutureWarning: Calling float on a single element Series is deprecated and will raise a TypeError in the future. Use float(ser.iloc[0]) instead\n",
            "  z[i_y, i_x] = calc_z(x_values[i_x], y_values[i_y])\n",
            "/Users/ncng/Documents/Projects/Python-Beginners-Course/15-Classification-Models/../Scripts/graphing.py:490: FutureWarning: Calling float on a single element Series is deprecated and will raise a TypeError in the future. Use float(ser.iloc[0]) instead\n",
            "  z[i_y, i_x] = calc_z(x_values[i_x], y_values[i_y])\n",
            "/Users/ncng/Documents/Projects/Python-Beginners-Course/15-Classification-Models/../Scripts/graphing.py:490: FutureWarning: Calling float on a single element Series is deprecated and will raise a TypeError in the future. Use float(ser.iloc[0]) instead\n",
            "  z[i_y, i_x] = calc_z(x_values[i_x], y_values[i_y])\n",
            "/Users/ncng/Documents/Projects/Python-Beginners-Course/15-Classification-Models/../Scripts/graphing.py:490: FutureWarning: Calling float on a single element Series is deprecated and will raise a TypeError in the future. Use float(ser.iloc[0]) instead\n",
            "  z[i_y, i_x] = calc_z(x_values[i_x], y_values[i_y])\n",
            "/Users/ncng/Documents/Projects/Python-Beginners-Course/15-Classification-Models/../Scripts/graphing.py:490: FutureWarning: Calling float on a single element Series is deprecated and will raise a TypeError in the future. Use float(ser.iloc[0]) instead\n",
            "  z[i_y, i_x] = calc_z(x_values[i_x], y_values[i_y])\n",
            "/Users/ncng/Documents/Projects/Python-Beginners-Course/15-Classification-Models/../Scripts/graphing.py:490: FutureWarning: Calling float on a single element Series is deprecated and will raise a TypeError in the future. Use float(ser.iloc[0]) instead\n",
            "  z[i_y, i_x] = calc_z(x_values[i_x], y_values[i_y])\n",
            "/Users/ncng/Documents/Projects/Python-Beginners-Course/15-Classification-Models/../Scripts/graphing.py:490: FutureWarning: Calling float on a single element Series is deprecated and will raise a TypeError in the future. Use float(ser.iloc[0]) instead\n",
            "  z[i_y, i_x] = calc_z(x_values[i_x], y_values[i_y])\n",
            "/Users/ncng/Documents/Projects/Python-Beginners-Course/15-Classification-Models/../Scripts/graphing.py:490: FutureWarning: Calling float on a single element Series is deprecated and will raise a TypeError in the future. Use float(ser.iloc[0]) instead\n",
            "  z[i_y, i_x] = calc_z(x_values[i_x], y_values[i_y])\n",
            "/Users/ncng/Documents/Projects/Python-Beginners-Course/15-Classification-Models/../Scripts/graphing.py:490: FutureWarning: Calling float on a single element Series is deprecated and will raise a TypeError in the future. Use float(ser.iloc[0]) instead\n",
            "  z[i_y, i_x] = calc_z(x_values[i_x], y_values[i_y])\n",
            "/Users/ncng/Documents/Projects/Python-Beginners-Course/15-Classification-Models/../Scripts/graphing.py:490: FutureWarning: Calling float on a single element Series is deprecated and will raise a TypeError in the future. Use float(ser.iloc[0]) instead\n",
            "  z[i_y, i_x] = calc_z(x_values[i_x], y_values[i_y])\n",
            "/Users/ncng/Documents/Projects/Python-Beginners-Course/15-Classification-Models/../Scripts/graphing.py:490: FutureWarning: Calling float on a single element Series is deprecated and will raise a TypeError in the future. Use float(ser.iloc[0]) instead\n",
            "  z[i_y, i_x] = calc_z(x_values[i_x], y_values[i_y])\n",
            "/Users/ncng/Documents/Projects/Python-Beginners-Course/15-Classification-Models/../Scripts/graphing.py:490: FutureWarning: Calling float on a single element Series is deprecated and will raise a TypeError in the future. Use float(ser.iloc[0]) instead\n",
            "  z[i_y, i_x] = calc_z(x_values[i_x], y_values[i_y])\n",
            "/Users/ncng/Documents/Projects/Python-Beginners-Course/15-Classification-Models/../Scripts/graphing.py:490: FutureWarning: Calling float on a single element Series is deprecated and will raise a TypeError in the future. Use float(ser.iloc[0]) instead\n",
            "  z[i_y, i_x] = calc_z(x_values[i_x], y_values[i_y])\n",
            "/Users/ncng/Documents/Projects/Python-Beginners-Course/15-Classification-Models/../Scripts/graphing.py:490: FutureWarning: Calling float on a single element Series is deprecated and will raise a TypeError in the future. Use float(ser.iloc[0]) instead\n",
            "  z[i_y, i_x] = calc_z(x_values[i_x], y_values[i_y])\n",
            "/Users/ncng/Documents/Projects/Python-Beginners-Course/15-Classification-Models/../Scripts/graphing.py:490: FutureWarning: Calling float on a single element Series is deprecated and will raise a TypeError in the future. Use float(ser.iloc[0]) instead\n",
            "  z[i_y, i_x] = calc_z(x_values[i_x], y_values[i_y])\n",
            "/Users/ncng/Documents/Projects/Python-Beginners-Course/15-Classification-Models/../Scripts/graphing.py:490: FutureWarning: Calling float on a single element Series is deprecated and will raise a TypeError in the future. Use float(ser.iloc[0]) instead\n",
            "  z[i_y, i_x] = calc_z(x_values[i_x], y_values[i_y])\n",
            "/Users/ncng/Documents/Projects/Python-Beginners-Course/15-Classification-Models/../Scripts/graphing.py:490: FutureWarning: Calling float on a single element Series is deprecated and will raise a TypeError in the future. Use float(ser.iloc[0]) instead\n",
            "  z[i_y, i_x] = calc_z(x_values[i_x], y_values[i_y])\n",
            "/Users/ncng/Documents/Projects/Python-Beginners-Course/15-Classification-Models/../Scripts/graphing.py:490: FutureWarning: Calling float on a single element Series is deprecated and will raise a TypeError in the future. Use float(ser.iloc[0]) instead\n",
            "  z[i_y, i_x] = calc_z(x_values[i_x], y_values[i_y])\n",
            "/Users/ncng/Documents/Projects/Python-Beginners-Course/15-Classification-Models/../Scripts/graphing.py:490: FutureWarning: Calling float on a single element Series is deprecated and will raise a TypeError in the future. Use float(ser.iloc[0]) instead\n",
            "  z[i_y, i_x] = calc_z(x_values[i_x], y_values[i_y])\n",
            "/Users/ncng/Documents/Projects/Python-Beginners-Course/15-Classification-Models/../Scripts/graphing.py:490: FutureWarning: Calling float on a single element Series is deprecated and will raise a TypeError in the future. Use float(ser.iloc[0]) instead\n",
            "  z[i_y, i_x] = calc_z(x_values[i_x], y_values[i_y])\n",
            "/Users/ncng/Documents/Projects/Python-Beginners-Course/15-Classification-Models/../Scripts/graphing.py:490: FutureWarning: Calling float on a single element Series is deprecated and will raise a TypeError in the future. Use float(ser.iloc[0]) instead\n",
            "  z[i_y, i_x] = calc_z(x_values[i_x], y_values[i_y])\n",
            "/Users/ncng/Documents/Projects/Python-Beginners-Course/15-Classification-Models/../Scripts/graphing.py:490: FutureWarning: Calling float on a single element Series is deprecated and will raise a TypeError in the future. Use float(ser.iloc[0]) instead\n",
            "  z[i_y, i_x] = calc_z(x_values[i_x], y_values[i_y])\n",
            "/Users/ncng/Documents/Projects/Python-Beginners-Course/15-Classification-Models/../Scripts/graphing.py:490: FutureWarning: Calling float on a single element Series is deprecated and will raise a TypeError in the future. Use float(ser.iloc[0]) instead\n",
            "  z[i_y, i_x] = calc_z(x_values[i_x], y_values[i_y])\n",
            "/Users/ncng/Documents/Projects/Python-Beginners-Course/15-Classification-Models/../Scripts/graphing.py:490: FutureWarning: Calling float on a single element Series is deprecated and will raise a TypeError in the future. Use float(ser.iloc[0]) instead\n",
            "  z[i_y, i_x] = calc_z(x_values[i_x], y_values[i_y])\n",
            "/Users/ncng/Documents/Projects/Python-Beginners-Course/15-Classification-Models/../Scripts/graphing.py:490: FutureWarning: Calling float on a single element Series is deprecated and will raise a TypeError in the future. Use float(ser.iloc[0]) instead\n",
            "  z[i_y, i_x] = calc_z(x_values[i_x], y_values[i_y])\n",
            "/Users/ncng/Documents/Projects/Python-Beginners-Course/15-Classification-Models/../Scripts/graphing.py:490: FutureWarning: Calling float on a single element Series is deprecated and will raise a TypeError in the future. Use float(ser.iloc[0]) instead\n",
            "  z[i_y, i_x] = calc_z(x_values[i_x], y_values[i_y])\n",
            "/Users/ncng/Documents/Projects/Python-Beginners-Course/15-Classification-Models/../Scripts/graphing.py:490: FutureWarning: Calling float on a single element Series is deprecated and will raise a TypeError in the future. Use float(ser.iloc[0]) instead\n",
            "  z[i_y, i_x] = calc_z(x_values[i_x], y_values[i_y])\n",
            "/Users/ncng/Documents/Projects/Python-Beginners-Course/15-Classification-Models/../Scripts/graphing.py:490: FutureWarning: Calling float on a single element Series is deprecated and will raise a TypeError in the future. Use float(ser.iloc[0]) instead\n",
            "  z[i_y, i_x] = calc_z(x_values[i_x], y_values[i_y])\n",
            "/Users/ncng/Documents/Projects/Python-Beginners-Course/15-Classification-Models/../Scripts/graphing.py:490: FutureWarning: Calling float on a single element Series is deprecated and will raise a TypeError in the future. Use float(ser.iloc[0]) instead\n",
            "  z[i_y, i_x] = calc_z(x_values[i_x], y_values[i_y])\n",
            "/Users/ncng/Documents/Projects/Python-Beginners-Course/15-Classification-Models/../Scripts/graphing.py:490: FutureWarning: Calling float on a single element Series is deprecated and will raise a TypeError in the future. Use float(ser.iloc[0]) instead\n",
            "  z[i_y, i_x] = calc_z(x_values[i_x], y_values[i_y])\n",
            "/Users/ncng/Documents/Projects/Python-Beginners-Course/15-Classification-Models/../Scripts/graphing.py:490: FutureWarning: Calling float on a single element Series is deprecated and will raise a TypeError in the future. Use float(ser.iloc[0]) instead\n",
            "  z[i_y, i_x] = calc_z(x_values[i_x], y_values[i_y])\n",
            "/Users/ncng/Documents/Projects/Python-Beginners-Course/15-Classification-Models/../Scripts/graphing.py:490: FutureWarning: Calling float on a single element Series is deprecated and will raise a TypeError in the future. Use float(ser.iloc[0]) instead\n",
            "  z[i_y, i_x] = calc_z(x_values[i_x], y_values[i_y])\n",
            "/Users/ncng/Documents/Projects/Python-Beginners-Course/15-Classification-Models/../Scripts/graphing.py:490: FutureWarning: Calling float on a single element Series is deprecated and will raise a TypeError in the future. Use float(ser.iloc[0]) instead\n",
            "  z[i_y, i_x] = calc_z(x_values[i_x], y_values[i_y])\n",
            "/Users/ncng/Documents/Projects/Python-Beginners-Course/15-Classification-Models/../Scripts/graphing.py:490: FutureWarning: Calling float on a single element Series is deprecated and will raise a TypeError in the future. Use float(ser.iloc[0]) instead\n",
            "  z[i_y, i_x] = calc_z(x_values[i_x], y_values[i_y])\n",
            "/Users/ncng/Documents/Projects/Python-Beginners-Course/15-Classification-Models/../Scripts/graphing.py:490: FutureWarning: Calling float on a single element Series is deprecated and will raise a TypeError in the future. Use float(ser.iloc[0]) instead\n",
            "  z[i_y, i_x] = calc_z(x_values[i_x], y_values[i_y])\n",
            "/Users/ncng/Documents/Projects/Python-Beginners-Course/15-Classification-Models/../Scripts/graphing.py:490: FutureWarning: Calling float on a single element Series is deprecated and will raise a TypeError in the future. Use float(ser.iloc[0]) instead\n",
            "  z[i_y, i_x] = calc_z(x_values[i_x], y_values[i_y])\n",
            "/Users/ncng/Documents/Projects/Python-Beginners-Course/15-Classification-Models/../Scripts/graphing.py:490: FutureWarning: Calling float on a single element Series is deprecated and will raise a TypeError in the future. Use float(ser.iloc[0]) instead\n",
            "  z[i_y, i_x] = calc_z(x_values[i_x], y_values[i_y])\n",
            "/Users/ncng/Documents/Projects/Python-Beginners-Course/15-Classification-Models/../Scripts/graphing.py:490: FutureWarning: Calling float on a single element Series is deprecated and will raise a TypeError in the future. Use float(ser.iloc[0]) instead\n",
            "  z[i_y, i_x] = calc_z(x_values[i_x], y_values[i_y])\n",
            "/Users/ncng/Documents/Projects/Python-Beginners-Course/15-Classification-Models/../Scripts/graphing.py:490: FutureWarning: Calling float on a single element Series is deprecated and will raise a TypeError in the future. Use float(ser.iloc[0]) instead\n",
            "  z[i_y, i_x] = calc_z(x_values[i_x], y_values[i_y])\n",
            "/Users/ncng/Documents/Projects/Python-Beginners-Course/15-Classification-Models/../Scripts/graphing.py:490: FutureWarning: Calling float on a single element Series is deprecated and will raise a TypeError in the future. Use float(ser.iloc[0]) instead\n",
            "  z[i_y, i_x] = calc_z(x_values[i_x], y_values[i_y])\n",
            "/Users/ncng/Documents/Projects/Python-Beginners-Course/15-Classification-Models/../Scripts/graphing.py:490: FutureWarning: Calling float on a single element Series is deprecated and will raise a TypeError in the future. Use float(ser.iloc[0]) instead\n",
            "  z[i_y, i_x] = calc_z(x_values[i_x], y_values[i_y])\n",
            "/Users/ncng/Documents/Projects/Python-Beginners-Course/15-Classification-Models/../Scripts/graphing.py:490: FutureWarning: Calling float on a single element Series is deprecated and will raise a TypeError in the future. Use float(ser.iloc[0]) instead\n",
            "  z[i_y, i_x] = calc_z(x_values[i_x], y_values[i_y])\n",
            "/Users/ncng/Documents/Projects/Python-Beginners-Course/15-Classification-Models/../Scripts/graphing.py:490: FutureWarning: Calling float on a single element Series is deprecated and will raise a TypeError in the future. Use float(ser.iloc[0]) instead\n",
            "  z[i_y, i_x] = calc_z(x_values[i_x], y_values[i_y])\n",
            "/Users/ncng/Documents/Projects/Python-Beginners-Course/15-Classification-Models/../Scripts/graphing.py:490: FutureWarning: Calling float on a single element Series is deprecated and will raise a TypeError in the future. Use float(ser.iloc[0]) instead\n",
            "  z[i_y, i_x] = calc_z(x_values[i_x], y_values[i_y])\n",
            "/Users/ncng/Documents/Projects/Python-Beginners-Course/15-Classification-Models/../Scripts/graphing.py:490: FutureWarning: Calling float on a single element Series is deprecated and will raise a TypeError in the future. Use float(ser.iloc[0]) instead\n",
            "  z[i_y, i_x] = calc_z(x_values[i_x], y_values[i_y])\n",
            "/Users/ncng/Documents/Projects/Python-Beginners-Course/15-Classification-Models/../Scripts/graphing.py:490: FutureWarning: Calling float on a single element Series is deprecated and will raise a TypeError in the future. Use float(ser.iloc[0]) instead\n",
            "  z[i_y, i_x] = calc_z(x_values[i_x], y_values[i_y])\n",
            "/Users/ncng/Documents/Projects/Python-Beginners-Course/15-Classification-Models/../Scripts/graphing.py:490: FutureWarning: Calling float on a single element Series is deprecated and will raise a TypeError in the future. Use float(ser.iloc[0]) instead\n",
            "  z[i_y, i_x] = calc_z(x_values[i_x], y_values[i_y])\n",
            "/Users/ncng/Documents/Projects/Python-Beginners-Course/15-Classification-Models/../Scripts/graphing.py:490: FutureWarning: Calling float on a single element Series is deprecated and will raise a TypeError in the future. Use float(ser.iloc[0]) instead\n",
            "  z[i_y, i_x] = calc_z(x_values[i_x], y_values[i_y])\n",
            "/Users/ncng/Documents/Projects/Python-Beginners-Course/15-Classification-Models/../Scripts/graphing.py:490: FutureWarning: Calling float on a single element Series is deprecated and will raise a TypeError in the future. Use float(ser.iloc[0]) instead\n",
            "  z[i_y, i_x] = calc_z(x_values[i_x], y_values[i_y])\n",
            "/Users/ncng/Documents/Projects/Python-Beginners-Course/15-Classification-Models/../Scripts/graphing.py:490: FutureWarning: Calling float on a single element Series is deprecated and will raise a TypeError in the future. Use float(ser.iloc[0]) instead\n",
            "  z[i_y, i_x] = calc_z(x_values[i_x], y_values[i_y])\n",
            "/Users/ncng/Documents/Projects/Python-Beginners-Course/15-Classification-Models/../Scripts/graphing.py:490: FutureWarning: Calling float on a single element Series is deprecated and will raise a TypeError in the future. Use float(ser.iloc[0]) instead\n",
            "  z[i_y, i_x] = calc_z(x_values[i_x], y_values[i_y])\n",
            "/Users/ncng/Documents/Projects/Python-Beginners-Course/15-Classification-Models/../Scripts/graphing.py:490: FutureWarning: Calling float on a single element Series is deprecated and will raise a TypeError in the future. Use float(ser.iloc[0]) instead\n",
            "  z[i_y, i_x] = calc_z(x_values[i_x], y_values[i_y])\n",
            "/Users/ncng/Documents/Projects/Python-Beginners-Course/15-Classification-Models/../Scripts/graphing.py:490: FutureWarning: Calling float on a single element Series is deprecated and will raise a TypeError in the future. Use float(ser.iloc[0]) instead\n",
            "  z[i_y, i_x] = calc_z(x_values[i_x], y_values[i_y])\n",
            "/Users/ncng/Documents/Projects/Python-Beginners-Course/15-Classification-Models/../Scripts/graphing.py:490: FutureWarning: Calling float on a single element Series is deprecated and will raise a TypeError in the future. Use float(ser.iloc[0]) instead\n",
            "  z[i_y, i_x] = calc_z(x_values[i_x], y_values[i_y])\n",
            "/Users/ncng/Documents/Projects/Python-Beginners-Course/15-Classification-Models/../Scripts/graphing.py:490: FutureWarning: Calling float on a single element Series is deprecated and will raise a TypeError in the future. Use float(ser.iloc[0]) instead\n",
            "  z[i_y, i_x] = calc_z(x_values[i_x], y_values[i_y])\n",
            "/Users/ncng/Documents/Projects/Python-Beginners-Course/15-Classification-Models/../Scripts/graphing.py:490: FutureWarning: Calling float on a single element Series is deprecated and will raise a TypeError in the future. Use float(ser.iloc[0]) instead\n",
            "  z[i_y, i_x] = calc_z(x_values[i_x], y_values[i_y])\n",
            "/Users/ncng/Documents/Projects/Python-Beginners-Course/15-Classification-Models/../Scripts/graphing.py:490: FutureWarning: Calling float on a single element Series is deprecated and will raise a TypeError in the future. Use float(ser.iloc[0]) instead\n",
            "  z[i_y, i_x] = calc_z(x_values[i_x], y_values[i_y])\n",
            "/Users/ncng/Documents/Projects/Python-Beginners-Course/15-Classification-Models/../Scripts/graphing.py:490: FutureWarning: Calling float on a single element Series is deprecated and will raise a TypeError in the future. Use float(ser.iloc[0]) instead\n",
            "  z[i_y, i_x] = calc_z(x_values[i_x], y_values[i_y])\n",
            "/Users/ncng/Documents/Projects/Python-Beginners-Course/15-Classification-Models/../Scripts/graphing.py:490: FutureWarning: Calling float on a single element Series is deprecated and will raise a TypeError in the future. Use float(ser.iloc[0]) instead\n",
            "  z[i_y, i_x] = calc_z(x_values[i_x], y_values[i_y])\n",
            "/Users/ncng/Documents/Projects/Python-Beginners-Course/15-Classification-Models/../Scripts/graphing.py:490: FutureWarning: Calling float on a single element Series is deprecated and will raise a TypeError in the future. Use float(ser.iloc[0]) instead\n",
            "  z[i_y, i_x] = calc_z(x_values[i_x], y_values[i_y])\n",
            "/Users/ncng/Documents/Projects/Python-Beginners-Course/15-Classification-Models/../Scripts/graphing.py:490: FutureWarning: Calling float on a single element Series is deprecated and will raise a TypeError in the future. Use float(ser.iloc[0]) instead\n",
            "  z[i_y, i_x] = calc_z(x_values[i_x], y_values[i_y])\n",
            "/Users/ncng/Documents/Projects/Python-Beginners-Course/15-Classification-Models/../Scripts/graphing.py:490: FutureWarning: Calling float on a single element Series is deprecated and will raise a TypeError in the future. Use float(ser.iloc[0]) instead\n",
            "  z[i_y, i_x] = calc_z(x_values[i_x], y_values[i_y])\n",
            "/Users/ncng/Documents/Projects/Python-Beginners-Course/15-Classification-Models/../Scripts/graphing.py:490: FutureWarning: Calling float on a single element Series is deprecated and will raise a TypeError in the future. Use float(ser.iloc[0]) instead\n",
            "  z[i_y, i_x] = calc_z(x_values[i_x], y_values[i_y])\n",
            "/Users/ncng/Documents/Projects/Python-Beginners-Course/15-Classification-Models/../Scripts/graphing.py:490: FutureWarning: Calling float on a single element Series is deprecated and will raise a TypeError in the future. Use float(ser.iloc[0]) instead\n",
            "  z[i_y, i_x] = calc_z(x_values[i_x], y_values[i_y])\n",
            "/Users/ncng/Documents/Projects/Python-Beginners-Course/15-Classification-Models/../Scripts/graphing.py:490: FutureWarning: Calling float on a single element Series is deprecated and will raise a TypeError in the future. Use float(ser.iloc[0]) instead\n",
            "  z[i_y, i_x] = calc_z(x_values[i_x], y_values[i_y])\n",
            "/Users/ncng/Documents/Projects/Python-Beginners-Course/15-Classification-Models/../Scripts/graphing.py:490: FutureWarning: Calling float on a single element Series is deprecated and will raise a TypeError in the future. Use float(ser.iloc[0]) instead\n",
            "  z[i_y, i_x] = calc_z(x_values[i_x], y_values[i_y])\n",
            "/Users/ncng/Documents/Projects/Python-Beginners-Course/15-Classification-Models/../Scripts/graphing.py:490: FutureWarning: Calling float on a single element Series is deprecated and will raise a TypeError in the future. Use float(ser.iloc[0]) instead\n",
            "  z[i_y, i_x] = calc_z(x_values[i_x], y_values[i_y])\n",
            "/Users/ncng/Documents/Projects/Python-Beginners-Course/15-Classification-Models/../Scripts/graphing.py:490: FutureWarning: Calling float on a single element Series is deprecated and will raise a TypeError in the future. Use float(ser.iloc[0]) instead\n",
            "  z[i_y, i_x] = calc_z(x_values[i_x], y_values[i_y])\n",
            "/Users/ncng/Documents/Projects/Python-Beginners-Course/15-Classification-Models/../Scripts/graphing.py:490: FutureWarning: Calling float on a single element Series is deprecated and will raise a TypeError in the future. Use float(ser.iloc[0]) instead\n",
            "  z[i_y, i_x] = calc_z(x_values[i_x], y_values[i_y])\n",
            "/Users/ncng/Documents/Projects/Python-Beginners-Course/15-Classification-Models/../Scripts/graphing.py:490: FutureWarning: Calling float on a single element Series is deprecated and will raise a TypeError in the future. Use float(ser.iloc[0]) instead\n",
            "  z[i_y, i_x] = calc_z(x_values[i_x], y_values[i_y])\n",
            "/Users/ncng/Documents/Projects/Python-Beginners-Course/15-Classification-Models/../Scripts/graphing.py:490: FutureWarning: Calling float on a single element Series is deprecated and will raise a TypeError in the future. Use float(ser.iloc[0]) instead\n",
            "  z[i_y, i_x] = calc_z(x_values[i_x], y_values[i_y])\n",
            "/Users/ncng/Documents/Projects/Python-Beginners-Course/15-Classification-Models/../Scripts/graphing.py:490: FutureWarning: Calling float on a single element Series is deprecated and will raise a TypeError in the future. Use float(ser.iloc[0]) instead\n",
            "  z[i_y, i_x] = calc_z(x_values[i_x], y_values[i_y])\n",
            "/Users/ncng/Documents/Projects/Python-Beginners-Course/15-Classification-Models/../Scripts/graphing.py:490: FutureWarning: Calling float on a single element Series is deprecated and will raise a TypeError in the future. Use float(ser.iloc[0]) instead\n",
            "  z[i_y, i_x] = calc_z(x_values[i_x], y_values[i_y])\n",
            "/Users/ncng/Documents/Projects/Python-Beginners-Course/15-Classification-Models/../Scripts/graphing.py:490: FutureWarning: Calling float on a single element Series is deprecated and will raise a TypeError in the future. Use float(ser.iloc[0]) instead\n",
            "  z[i_y, i_x] = calc_z(x_values[i_x], y_values[i_y])\n",
            "/Users/ncng/Documents/Projects/Python-Beginners-Course/15-Classification-Models/../Scripts/graphing.py:490: FutureWarning: Calling float on a single element Series is deprecated and will raise a TypeError in the future. Use float(ser.iloc[0]) instead\n",
            "  z[i_y, i_x] = calc_z(x_values[i_x], y_values[i_y])\n",
            "/Users/ncng/Documents/Projects/Python-Beginners-Course/15-Classification-Models/../Scripts/graphing.py:490: FutureWarning: Calling float on a single element Series is deprecated and will raise a TypeError in the future. Use float(ser.iloc[0]) instead\n",
            "  z[i_y, i_x] = calc_z(x_values[i_x], y_values[i_y])\n",
            "/Users/ncng/Documents/Projects/Python-Beginners-Course/15-Classification-Models/../Scripts/graphing.py:490: FutureWarning: Calling float on a single element Series is deprecated and will raise a TypeError in the future. Use float(ser.iloc[0]) instead\n",
            "  z[i_y, i_x] = calc_z(x_values[i_x], y_values[i_y])\n",
            "/Users/ncng/Documents/Projects/Python-Beginners-Course/15-Classification-Models/../Scripts/graphing.py:490: FutureWarning: Calling float on a single element Series is deprecated and will raise a TypeError in the future. Use float(ser.iloc[0]) instead\n",
            "  z[i_y, i_x] = calc_z(x_values[i_x], y_values[i_y])\n",
            "/Users/ncng/Documents/Projects/Python-Beginners-Course/15-Classification-Models/../Scripts/graphing.py:490: FutureWarning: Calling float on a single element Series is deprecated and will raise a TypeError in the future. Use float(ser.iloc[0]) instead\n",
            "  z[i_y, i_x] = calc_z(x_values[i_x], y_values[i_y])\n",
            "/Users/ncng/Documents/Projects/Python-Beginners-Course/15-Classification-Models/../Scripts/graphing.py:490: FutureWarning: Calling float on a single element Series is deprecated and will raise a TypeError in the future. Use float(ser.iloc[0]) instead\n",
            "  z[i_y, i_x] = calc_z(x_values[i_x], y_values[i_y])\n",
            "/Users/ncng/Documents/Projects/Python-Beginners-Course/15-Classification-Models/../Scripts/graphing.py:490: FutureWarning: Calling float on a single element Series is deprecated and will raise a TypeError in the future. Use float(ser.iloc[0]) instead\n",
            "  z[i_y, i_x] = calc_z(x_values[i_x], y_values[i_y])\n",
            "/Users/ncng/Documents/Projects/Python-Beginners-Course/15-Classification-Models/../Scripts/graphing.py:490: FutureWarning: Calling float on a single element Series is deprecated and will raise a TypeError in the future. Use float(ser.iloc[0]) instead\n",
            "  z[i_y, i_x] = calc_z(x_values[i_x], y_values[i_y])\n",
            "/Users/ncng/Documents/Projects/Python-Beginners-Course/15-Classification-Models/../Scripts/graphing.py:490: FutureWarning: Calling float on a single element Series is deprecated and will raise a TypeError in the future. Use float(ser.iloc[0]) instead\n",
            "  z[i_y, i_x] = calc_z(x_values[i_x], y_values[i_y])\n",
            "/Users/ncng/Documents/Projects/Python-Beginners-Course/15-Classification-Models/../Scripts/graphing.py:490: FutureWarning: Calling float on a single element Series is deprecated and will raise a TypeError in the future. Use float(ser.iloc[0]) instead\n",
            "  z[i_y, i_x] = calc_z(x_values[i_x], y_values[i_y])\n",
            "/Users/ncng/Documents/Projects/Python-Beginners-Course/15-Classification-Models/../Scripts/graphing.py:490: FutureWarning: Calling float on a single element Series is deprecated and will raise a TypeError in the future. Use float(ser.iloc[0]) instead\n",
            "  z[i_y, i_x] = calc_z(x_values[i_x], y_values[i_y])\n",
            "/Users/ncng/Documents/Projects/Python-Beginners-Course/15-Classification-Models/../Scripts/graphing.py:490: FutureWarning: Calling float on a single element Series is deprecated and will raise a TypeError in the future. Use float(ser.iloc[0]) instead\n",
            "  z[i_y, i_x] = calc_z(x_values[i_x], y_values[i_y])\n",
            "/Users/ncng/Documents/Projects/Python-Beginners-Course/15-Classification-Models/../Scripts/graphing.py:490: FutureWarning: Calling float on a single element Series is deprecated and will raise a TypeError in the future. Use float(ser.iloc[0]) instead\n",
            "  z[i_y, i_x] = calc_z(x_values[i_x], y_values[i_y])\n",
            "/Users/ncng/Documents/Projects/Python-Beginners-Course/15-Classification-Models/../Scripts/graphing.py:490: FutureWarning: Calling float on a single element Series is deprecated and will raise a TypeError in the future. Use float(ser.iloc[0]) instead\n",
            "  z[i_y, i_x] = calc_z(x_values[i_x], y_values[i_y])\n",
            "/Users/ncng/Documents/Projects/Python-Beginners-Course/15-Classification-Models/../Scripts/graphing.py:490: FutureWarning: Calling float on a single element Series is deprecated and will raise a TypeError in the future. Use float(ser.iloc[0]) instead\n",
            "  z[i_y, i_x] = calc_z(x_values[i_x], y_values[i_y])\n",
            "/Users/ncng/Documents/Projects/Python-Beginners-Course/15-Classification-Models/../Scripts/graphing.py:490: FutureWarning: Calling float on a single element Series is deprecated and will raise a TypeError in the future. Use float(ser.iloc[0]) instead\n",
            "  z[i_y, i_x] = calc_z(x_values[i_x], y_values[i_y])\n",
            "/Users/ncng/Documents/Projects/Python-Beginners-Course/15-Classification-Models/../Scripts/graphing.py:490: FutureWarning: Calling float on a single element Series is deprecated and will raise a TypeError in the future. Use float(ser.iloc[0]) instead\n",
            "  z[i_y, i_x] = calc_z(x_values[i_x], y_values[i_y])\n",
            "/Users/ncng/Documents/Projects/Python-Beginners-Course/15-Classification-Models/../Scripts/graphing.py:490: FutureWarning: Calling float on a single element Series is deprecated and will raise a TypeError in the future. Use float(ser.iloc[0]) instead\n",
            "  z[i_y, i_x] = calc_z(x_values[i_x], y_values[i_y])\n",
            "/Users/ncng/Documents/Projects/Python-Beginners-Course/15-Classification-Models/../Scripts/graphing.py:490: FutureWarning: Calling float on a single element Series is deprecated and will raise a TypeError in the future. Use float(ser.iloc[0]) instead\n",
            "  z[i_y, i_x] = calc_z(x_values[i_x], y_values[i_y])\n",
            "/Users/ncng/Documents/Projects/Python-Beginners-Course/15-Classification-Models/../Scripts/graphing.py:490: FutureWarning: Calling float on a single element Series is deprecated and will raise a TypeError in the future. Use float(ser.iloc[0]) instead\n",
            "  z[i_y, i_x] = calc_z(x_values[i_x], y_values[i_y])\n",
            "/Users/ncng/Documents/Projects/Python-Beginners-Course/15-Classification-Models/../Scripts/graphing.py:490: FutureWarning: Calling float on a single element Series is deprecated and will raise a TypeError in the future. Use float(ser.iloc[0]) instead\n",
            "  z[i_y, i_x] = calc_z(x_values[i_x], y_values[i_y])\n",
            "/Users/ncng/Documents/Projects/Python-Beginners-Course/15-Classification-Models/../Scripts/graphing.py:490: FutureWarning: Calling float on a single element Series is deprecated and will raise a TypeError in the future. Use float(ser.iloc[0]) instead\n",
            "  z[i_y, i_x] = calc_z(x_values[i_x], y_values[i_y])\n",
            "/Users/ncng/Documents/Projects/Python-Beginners-Course/15-Classification-Models/../Scripts/graphing.py:490: FutureWarning: Calling float on a single element Series is deprecated and will raise a TypeError in the future. Use float(ser.iloc[0]) instead\n",
            "  z[i_y, i_x] = calc_z(x_values[i_x], y_values[i_y])\n",
            "/Users/ncng/Documents/Projects/Python-Beginners-Course/15-Classification-Models/../Scripts/graphing.py:490: FutureWarning: Calling float on a single element Series is deprecated and will raise a TypeError in the future. Use float(ser.iloc[0]) instead\n",
            "  z[i_y, i_x] = calc_z(x_values[i_x], y_values[i_y])\n",
            "/Users/ncng/Documents/Projects/Python-Beginners-Course/15-Classification-Models/../Scripts/graphing.py:490: FutureWarning: Calling float on a single element Series is deprecated and will raise a TypeError in the future. Use float(ser.iloc[0]) instead\n",
            "  z[i_y, i_x] = calc_z(x_values[i_x], y_values[i_y])\n",
            "/Users/ncng/Documents/Projects/Python-Beginners-Course/15-Classification-Models/../Scripts/graphing.py:490: FutureWarning: Calling float on a single element Series is deprecated and will raise a TypeError in the future. Use float(ser.iloc[0]) instead\n",
            "  z[i_y, i_x] = calc_z(x_values[i_x], y_values[i_y])\n",
            "/Users/ncng/Documents/Projects/Python-Beginners-Course/15-Classification-Models/../Scripts/graphing.py:490: FutureWarning: Calling float on a single element Series is deprecated and will raise a TypeError in the future. Use float(ser.iloc[0]) instead\n",
            "  z[i_y, i_x] = calc_z(x_values[i_x], y_values[i_y])\n",
            "/Users/ncng/Documents/Projects/Python-Beginners-Course/15-Classification-Models/../Scripts/graphing.py:490: FutureWarning: Calling float on a single element Series is deprecated and will raise a TypeError in the future. Use float(ser.iloc[0]) instead\n",
            "  z[i_y, i_x] = calc_z(x_values[i_x], y_values[i_y])\n",
            "/Users/ncng/Documents/Projects/Python-Beginners-Course/15-Classification-Models/../Scripts/graphing.py:490: FutureWarning: Calling float on a single element Series is deprecated and will raise a TypeError in the future. Use float(ser.iloc[0]) instead\n",
            "  z[i_y, i_x] = calc_z(x_values[i_x], y_values[i_y])\n",
            "/Users/ncng/Documents/Projects/Python-Beginners-Course/15-Classification-Models/../Scripts/graphing.py:490: FutureWarning: Calling float on a single element Series is deprecated and will raise a TypeError in the future. Use float(ser.iloc[0]) instead\n",
            "  z[i_y, i_x] = calc_z(x_values[i_x], y_values[i_y])\n",
            "/Users/ncng/Documents/Projects/Python-Beginners-Course/15-Classification-Models/../Scripts/graphing.py:490: FutureWarning: Calling float on a single element Series is deprecated and will raise a TypeError in the future. Use float(ser.iloc[0]) instead\n",
            "  z[i_y, i_x] = calc_z(x_values[i_x], y_values[i_y])\n",
            "/Users/ncng/Documents/Projects/Python-Beginners-Course/15-Classification-Models/../Scripts/graphing.py:490: FutureWarning: Calling float on a single element Series is deprecated and will raise a TypeError in the future. Use float(ser.iloc[0]) instead\n",
            "  z[i_y, i_x] = calc_z(x_values[i_x], y_values[i_y])\n",
            "/Users/ncng/Documents/Projects/Python-Beginners-Course/15-Classification-Models/../Scripts/graphing.py:490: FutureWarning: Calling float on a single element Series is deprecated and will raise a TypeError in the future. Use float(ser.iloc[0]) instead\n",
            "  z[i_y, i_x] = calc_z(x_values[i_x], y_values[i_y])\n",
            "/Users/ncng/Documents/Projects/Python-Beginners-Course/15-Classification-Models/../Scripts/graphing.py:490: FutureWarning: Calling float on a single element Series is deprecated and will raise a TypeError in the future. Use float(ser.iloc[0]) instead\n",
            "  z[i_y, i_x] = calc_z(x_values[i_x], y_values[i_y])\n",
            "/Users/ncng/Documents/Projects/Python-Beginners-Course/15-Classification-Models/../Scripts/graphing.py:490: FutureWarning: Calling float on a single element Series is deprecated and will raise a TypeError in the future. Use float(ser.iloc[0]) instead\n",
            "  z[i_y, i_x] = calc_z(x_values[i_x], y_values[i_y])\n",
            "/Users/ncng/Documents/Projects/Python-Beginners-Course/15-Classification-Models/../Scripts/graphing.py:490: FutureWarning: Calling float on a single element Series is deprecated and will raise a TypeError in the future. Use float(ser.iloc[0]) instead\n",
            "  z[i_y, i_x] = calc_z(x_values[i_x], y_values[i_y])\n",
            "/Users/ncng/Documents/Projects/Python-Beginners-Course/15-Classification-Models/../Scripts/graphing.py:490: FutureWarning: Calling float on a single element Series is deprecated and will raise a TypeError in the future. Use float(ser.iloc[0]) instead\n",
            "  z[i_y, i_x] = calc_z(x_values[i_x], y_values[i_y])\n",
            "/Users/ncng/Documents/Projects/Python-Beginners-Course/15-Classification-Models/../Scripts/graphing.py:490: FutureWarning: Calling float on a single element Series is deprecated and will raise a TypeError in the future. Use float(ser.iloc[0]) instead\n",
            "  z[i_y, i_x] = calc_z(x_values[i_x], y_values[i_y])\n",
            "/Users/ncng/Documents/Projects/Python-Beginners-Course/15-Classification-Models/../Scripts/graphing.py:490: FutureWarning: Calling float on a single element Series is deprecated and will raise a TypeError in the future. Use float(ser.iloc[0]) instead\n",
            "  z[i_y, i_x] = calc_z(x_values[i_x], y_values[i_y])\n",
            "/Users/ncng/Documents/Projects/Python-Beginners-Course/15-Classification-Models/../Scripts/graphing.py:490: FutureWarning: Calling float on a single element Series is deprecated and will raise a TypeError in the future. Use float(ser.iloc[0]) instead\n",
            "  z[i_y, i_x] = calc_z(x_values[i_x], y_values[i_y])\n",
            "/Users/ncng/Documents/Projects/Python-Beginners-Course/15-Classification-Models/../Scripts/graphing.py:490: FutureWarning: Calling float on a single element Series is deprecated and will raise a TypeError in the future. Use float(ser.iloc[0]) instead\n",
            "  z[i_y, i_x] = calc_z(x_values[i_x], y_values[i_y])\n",
            "/Users/ncng/Documents/Projects/Python-Beginners-Course/15-Classification-Models/../Scripts/graphing.py:490: FutureWarning: Calling float on a single element Series is deprecated and will raise a TypeError in the future. Use float(ser.iloc[0]) instead\n",
            "  z[i_y, i_x] = calc_z(x_values[i_x], y_values[i_y])\n",
            "/Users/ncng/Documents/Projects/Python-Beginners-Course/15-Classification-Models/../Scripts/graphing.py:490: FutureWarning: Calling float on a single element Series is deprecated and will raise a TypeError in the future. Use float(ser.iloc[0]) instead\n",
            "  z[i_y, i_x] = calc_z(x_values[i_x], y_values[i_y])\n",
            "/Users/ncng/Documents/Projects/Python-Beginners-Course/15-Classification-Models/../Scripts/graphing.py:490: FutureWarning: Calling float on a single element Series is deprecated and will raise a TypeError in the future. Use float(ser.iloc[0]) instead\n",
            "  z[i_y, i_x] = calc_z(x_values[i_x], y_values[i_y])\n",
            "/Users/ncng/Documents/Projects/Python-Beginners-Course/15-Classification-Models/../Scripts/graphing.py:490: FutureWarning: Calling float on a single element Series is deprecated and will raise a TypeError in the future. Use float(ser.iloc[0]) instead\n",
            "  z[i_y, i_x] = calc_z(x_values[i_x], y_values[i_y])\n",
            "/Users/ncng/Documents/Projects/Python-Beginners-Course/15-Classification-Models/../Scripts/graphing.py:490: FutureWarning: Calling float on a single element Series is deprecated and will raise a TypeError in the future. Use float(ser.iloc[0]) instead\n",
            "  z[i_y, i_x] = calc_z(x_values[i_x], y_values[i_y])\n",
            "/Users/ncng/Documents/Projects/Python-Beginners-Course/15-Classification-Models/../Scripts/graphing.py:490: FutureWarning: Calling float on a single element Series is deprecated and will raise a TypeError in the future. Use float(ser.iloc[0]) instead\n",
            "  z[i_y, i_x] = calc_z(x_values[i_x], y_values[i_y])\n",
            "/Users/ncng/Documents/Projects/Python-Beginners-Course/15-Classification-Models/../Scripts/graphing.py:490: FutureWarning: Calling float on a single element Series is deprecated and will raise a TypeError in the future. Use float(ser.iloc[0]) instead\n",
            "  z[i_y, i_x] = calc_z(x_values[i_x], y_values[i_y])\n",
            "/Users/ncng/Documents/Projects/Python-Beginners-Course/15-Classification-Models/../Scripts/graphing.py:490: FutureWarning: Calling float on a single element Series is deprecated and will raise a TypeError in the future. Use float(ser.iloc[0]) instead\n",
            "  z[i_y, i_x] = calc_z(x_values[i_x], y_values[i_y])\n",
            "/Users/ncng/Documents/Projects/Python-Beginners-Course/15-Classification-Models/../Scripts/graphing.py:490: FutureWarning: Calling float on a single element Series is deprecated and will raise a TypeError in the future. Use float(ser.iloc[0]) instead\n",
            "  z[i_y, i_x] = calc_z(x_values[i_x], y_values[i_y])\n",
            "/Users/ncng/Documents/Projects/Python-Beginners-Course/15-Classification-Models/../Scripts/graphing.py:490: FutureWarning: Calling float on a single element Series is deprecated and will raise a TypeError in the future. Use float(ser.iloc[0]) instead\n",
            "  z[i_y, i_x] = calc_z(x_values[i_x], y_values[i_y])\n",
            "/Users/ncng/Documents/Projects/Python-Beginners-Course/15-Classification-Models/../Scripts/graphing.py:490: FutureWarning: Calling float on a single element Series is deprecated and will raise a TypeError in the future. Use float(ser.iloc[0]) instead\n",
            "  z[i_y, i_x] = calc_z(x_values[i_x], y_values[i_y])\n",
            "/Users/ncng/Documents/Projects/Python-Beginners-Course/15-Classification-Models/../Scripts/graphing.py:490: FutureWarning: Calling float on a single element Series is deprecated and will raise a TypeError in the future. Use float(ser.iloc[0]) instead\n",
            "  z[i_y, i_x] = calc_z(x_values[i_x], y_values[i_y])\n",
            "/Users/ncng/Documents/Projects/Python-Beginners-Course/15-Classification-Models/../Scripts/graphing.py:490: FutureWarning: Calling float on a single element Series is deprecated and will raise a TypeError in the future. Use float(ser.iloc[0]) instead\n",
            "  z[i_y, i_x] = calc_z(x_values[i_x], y_values[i_y])\n",
            "/Users/ncng/Documents/Projects/Python-Beginners-Course/15-Classification-Models/../Scripts/graphing.py:490: FutureWarning: Calling float on a single element Series is deprecated and will raise a TypeError in the future. Use float(ser.iloc[0]) instead\n",
            "  z[i_y, i_x] = calc_z(x_values[i_x], y_values[i_y])\n",
            "/Users/ncng/Documents/Projects/Python-Beginners-Course/15-Classification-Models/../Scripts/graphing.py:490: FutureWarning: Calling float on a single element Series is deprecated and will raise a TypeError in the future. Use float(ser.iloc[0]) instead\n",
            "  z[i_y, i_x] = calc_z(x_values[i_x], y_values[i_y])\n",
            "/Users/ncng/Documents/Projects/Python-Beginners-Course/15-Classification-Models/../Scripts/graphing.py:490: FutureWarning: Calling float on a single element Series is deprecated and will raise a TypeError in the future. Use float(ser.iloc[0]) instead\n",
            "  z[i_y, i_x] = calc_z(x_values[i_x], y_values[i_y])\n",
            "/Users/ncng/Documents/Projects/Python-Beginners-Course/15-Classification-Models/../Scripts/graphing.py:490: FutureWarning: Calling float on a single element Series is deprecated and will raise a TypeError in the future. Use float(ser.iloc[0]) instead\n",
            "  z[i_y, i_x] = calc_z(x_values[i_x], y_values[i_y])\n",
            "/Users/ncng/Documents/Projects/Python-Beginners-Course/15-Classification-Models/../Scripts/graphing.py:490: FutureWarning: Calling float on a single element Series is deprecated and will raise a TypeError in the future. Use float(ser.iloc[0]) instead\n",
            "  z[i_y, i_x] = calc_z(x_values[i_x], y_values[i_y])\n",
            "/Users/ncng/Documents/Projects/Python-Beginners-Course/15-Classification-Models/../Scripts/graphing.py:490: FutureWarning: Calling float on a single element Series is deprecated and will raise a TypeError in the future. Use float(ser.iloc[0]) instead\n",
            "  z[i_y, i_x] = calc_z(x_values[i_x], y_values[i_y])\n",
            "/Users/ncng/Documents/Projects/Python-Beginners-Course/15-Classification-Models/../Scripts/graphing.py:490: FutureWarning: Calling float on a single element Series is deprecated and will raise a TypeError in the future. Use float(ser.iloc[0]) instead\n",
            "  z[i_y, i_x] = calc_z(x_values[i_x], y_values[i_y])\n",
            "/Users/ncng/Documents/Projects/Python-Beginners-Course/15-Classification-Models/../Scripts/graphing.py:490: FutureWarning: Calling float on a single element Series is deprecated and will raise a TypeError in the future. Use float(ser.iloc[0]) instead\n",
            "  z[i_y, i_x] = calc_z(x_values[i_x], y_values[i_y])\n",
            "/Users/ncng/Documents/Projects/Python-Beginners-Course/15-Classification-Models/../Scripts/graphing.py:490: FutureWarning: Calling float on a single element Series is deprecated and will raise a TypeError in the future. Use float(ser.iloc[0]) instead\n",
            "  z[i_y, i_x] = calc_z(x_values[i_x], y_values[i_y])\n",
            "/Users/ncng/Documents/Projects/Python-Beginners-Course/15-Classification-Models/../Scripts/graphing.py:490: FutureWarning: Calling float on a single element Series is deprecated and will raise a TypeError in the future. Use float(ser.iloc[0]) instead\n",
            "  z[i_y, i_x] = calc_z(x_values[i_x], y_values[i_y])\n",
            "/Users/ncng/Documents/Projects/Python-Beginners-Course/15-Classification-Models/../Scripts/graphing.py:490: FutureWarning: Calling float on a single element Series is deprecated and will raise a TypeError in the future. Use float(ser.iloc[0]) instead\n",
            "  z[i_y, i_x] = calc_z(x_values[i_x], y_values[i_y])\n",
            "/Users/ncng/Documents/Projects/Python-Beginners-Course/15-Classification-Models/../Scripts/graphing.py:490: FutureWarning: Calling float on a single element Series is deprecated and will raise a TypeError in the future. Use float(ser.iloc[0]) instead\n",
            "  z[i_y, i_x] = calc_z(x_values[i_x], y_values[i_y])\n",
            "/Users/ncng/Documents/Projects/Python-Beginners-Course/15-Classification-Models/../Scripts/graphing.py:490: FutureWarning: Calling float on a single element Series is deprecated and will raise a TypeError in the future. Use float(ser.iloc[0]) instead\n",
            "  z[i_y, i_x] = calc_z(x_values[i_x], y_values[i_y])\n",
            "/Users/ncng/Documents/Projects/Python-Beginners-Course/15-Classification-Models/../Scripts/graphing.py:490: FutureWarning: Calling float on a single element Series is deprecated and will raise a TypeError in the future. Use float(ser.iloc[0]) instead\n",
            "  z[i_y, i_x] = calc_z(x_values[i_x], y_values[i_y])\n",
            "/Users/ncng/Documents/Projects/Python-Beginners-Course/15-Classification-Models/../Scripts/graphing.py:490: FutureWarning: Calling float on a single element Series is deprecated and will raise a TypeError in the future. Use float(ser.iloc[0]) instead\n",
            "  z[i_y, i_x] = calc_z(x_values[i_x], y_values[i_y])\n",
            "/Users/ncng/Documents/Projects/Python-Beginners-Course/15-Classification-Models/../Scripts/graphing.py:490: FutureWarning: Calling float on a single element Series is deprecated and will raise a TypeError in the future. Use float(ser.iloc[0]) instead\n",
            "  z[i_y, i_x] = calc_z(x_values[i_x], y_values[i_y])\n",
            "/Users/ncng/Documents/Projects/Python-Beginners-Course/15-Classification-Models/../Scripts/graphing.py:490: FutureWarning: Calling float on a single element Series is deprecated and will raise a TypeError in the future. Use float(ser.iloc[0]) instead\n",
            "  z[i_y, i_x] = calc_z(x_values[i_x], y_values[i_y])\n",
            "/Users/ncng/Documents/Projects/Python-Beginners-Course/15-Classification-Models/../Scripts/graphing.py:490: FutureWarning: Calling float on a single element Series is deprecated and will raise a TypeError in the future. Use float(ser.iloc[0]) instead\n",
            "  z[i_y, i_x] = calc_z(x_values[i_x], y_values[i_y])\n",
            "/Users/ncng/Documents/Projects/Python-Beginners-Course/15-Classification-Models/../Scripts/graphing.py:490: FutureWarning: Calling float on a single element Series is deprecated and will raise a TypeError in the future. Use float(ser.iloc[0]) instead\n",
            "  z[i_y, i_x] = calc_z(x_values[i_x], y_values[i_y])\n",
            "/Users/ncng/Documents/Projects/Python-Beginners-Course/15-Classification-Models/../Scripts/graphing.py:490: FutureWarning: Calling float on a single element Series is deprecated and will raise a TypeError in the future. Use float(ser.iloc[0]) instead\n",
            "  z[i_y, i_x] = calc_z(x_values[i_x], y_values[i_y])\n",
            "/Users/ncng/Documents/Projects/Python-Beginners-Course/15-Classification-Models/../Scripts/graphing.py:490: FutureWarning: Calling float on a single element Series is deprecated and will raise a TypeError in the future. Use float(ser.iloc[0]) instead\n",
            "  z[i_y, i_x] = calc_z(x_values[i_x], y_values[i_y])\n",
            "/Users/ncng/Documents/Projects/Python-Beginners-Course/15-Classification-Models/../Scripts/graphing.py:490: FutureWarning: Calling float on a single element Series is deprecated and will raise a TypeError in the future. Use float(ser.iloc[0]) instead\n",
            "  z[i_y, i_x] = calc_z(x_values[i_x], y_values[i_y])\n",
            "/Users/ncng/Documents/Projects/Python-Beginners-Course/15-Classification-Models/../Scripts/graphing.py:490: FutureWarning: Calling float on a single element Series is deprecated and will raise a TypeError in the future. Use float(ser.iloc[0]) instead\n",
            "  z[i_y, i_x] = calc_z(x_values[i_x], y_values[i_y])\n",
            "/Users/ncng/Documents/Projects/Python-Beginners-Course/15-Classification-Models/../Scripts/graphing.py:490: FutureWarning: Calling float on a single element Series is deprecated and will raise a TypeError in the future. Use float(ser.iloc[0]) instead\n",
            "  z[i_y, i_x] = calc_z(x_values[i_x], y_values[i_y])\n",
            "/Users/ncng/Documents/Projects/Python-Beginners-Course/15-Classification-Models/../Scripts/graphing.py:490: FutureWarning: Calling float on a single element Series is deprecated and will raise a TypeError in the future. Use float(ser.iloc[0]) instead\n",
            "  z[i_y, i_x] = calc_z(x_values[i_x], y_values[i_y])\n",
            "/Users/ncng/Documents/Projects/Python-Beginners-Course/15-Classification-Models/../Scripts/graphing.py:490: FutureWarning: Calling float on a single element Series is deprecated and will raise a TypeError in the future. Use float(ser.iloc[0]) instead\n",
            "  z[i_y, i_x] = calc_z(x_values[i_x], y_values[i_y])\n",
            "/Users/ncng/Documents/Projects/Python-Beginners-Course/15-Classification-Models/../Scripts/graphing.py:490: FutureWarning: Calling float on a single element Series is deprecated and will raise a TypeError in the future. Use float(ser.iloc[0]) instead\n",
            "  z[i_y, i_x] = calc_z(x_values[i_x], y_values[i_y])\n",
            "/Users/ncng/Documents/Projects/Python-Beginners-Course/15-Classification-Models/../Scripts/graphing.py:490: FutureWarning: Calling float on a single element Series is deprecated and will raise a TypeError in the future. Use float(ser.iloc[0]) instead\n",
            "  z[i_y, i_x] = calc_z(x_values[i_x], y_values[i_y])\n",
            "/Users/ncng/Documents/Projects/Python-Beginners-Course/15-Classification-Models/../Scripts/graphing.py:490: FutureWarning: Calling float on a single element Series is deprecated and will raise a TypeError in the future. Use float(ser.iloc[0]) instead\n",
            "  z[i_y, i_x] = calc_z(x_values[i_x], y_values[i_y])\n",
            "/Users/ncng/Documents/Projects/Python-Beginners-Course/15-Classification-Models/../Scripts/graphing.py:490: FutureWarning: Calling float on a single element Series is deprecated and will raise a TypeError in the future. Use float(ser.iloc[0]) instead\n",
            "  z[i_y, i_x] = calc_z(x_values[i_x], y_values[i_y])\n",
            "/Users/ncng/Documents/Projects/Python-Beginners-Course/15-Classification-Models/../Scripts/graphing.py:490: FutureWarning: Calling float on a single element Series is deprecated and will raise a TypeError in the future. Use float(ser.iloc[0]) instead\n",
            "  z[i_y, i_x] = calc_z(x_values[i_x], y_values[i_y])\n",
            "/Users/ncng/Documents/Projects/Python-Beginners-Course/15-Classification-Models/../Scripts/graphing.py:490: FutureWarning: Calling float on a single element Series is deprecated and will raise a TypeError in the future. Use float(ser.iloc[0]) instead\n",
            "  z[i_y, i_x] = calc_z(x_values[i_x], y_values[i_y])\n",
            "/Users/ncng/Documents/Projects/Python-Beginners-Course/15-Classification-Models/../Scripts/graphing.py:490: FutureWarning: Calling float on a single element Series is deprecated and will raise a TypeError in the future. Use float(ser.iloc[0]) instead\n",
            "  z[i_y, i_x] = calc_z(x_values[i_x], y_values[i_y])\n",
            "/Users/ncng/Documents/Projects/Python-Beginners-Course/15-Classification-Models/../Scripts/graphing.py:490: FutureWarning: Calling float on a single element Series is deprecated and will raise a TypeError in the future. Use float(ser.iloc[0]) instead\n",
            "  z[i_y, i_x] = calc_z(x_values[i_x], y_values[i_y])\n",
            "/Users/ncng/Documents/Projects/Python-Beginners-Course/15-Classification-Models/../Scripts/graphing.py:490: FutureWarning: Calling float on a single element Series is deprecated and will raise a TypeError in the future. Use float(ser.iloc[0]) instead\n",
            "  z[i_y, i_x] = calc_z(x_values[i_x], y_values[i_y])\n",
            "/Users/ncng/Documents/Projects/Python-Beginners-Course/15-Classification-Models/../Scripts/graphing.py:490: FutureWarning: Calling float on a single element Series is deprecated and will raise a TypeError in the future. Use float(ser.iloc[0]) instead\n",
            "  z[i_y, i_x] = calc_z(x_values[i_x], y_values[i_y])\n",
            "/Users/ncng/Documents/Projects/Python-Beginners-Course/15-Classification-Models/../Scripts/graphing.py:490: FutureWarning: Calling float on a single element Series is deprecated and will raise a TypeError in the future. Use float(ser.iloc[0]) instead\n",
            "  z[i_y, i_x] = calc_z(x_values[i_x], y_values[i_y])\n",
            "/Users/ncng/Documents/Projects/Python-Beginners-Course/15-Classification-Models/../Scripts/graphing.py:490: FutureWarning: Calling float on a single element Series is deprecated and will raise a TypeError in the future. Use float(ser.iloc[0]) instead\n",
            "  z[i_y, i_x] = calc_z(x_values[i_x], y_values[i_y])\n",
            "/Users/ncng/Documents/Projects/Python-Beginners-Course/15-Classification-Models/../Scripts/graphing.py:490: FutureWarning: Calling float on a single element Series is deprecated and will raise a TypeError in the future. Use float(ser.iloc[0]) instead\n",
            "  z[i_y, i_x] = calc_z(x_values[i_x], y_values[i_y])\n",
            "/Users/ncng/Documents/Projects/Python-Beginners-Course/15-Classification-Models/../Scripts/graphing.py:490: FutureWarning: Calling float on a single element Series is deprecated and will raise a TypeError in the future. Use float(ser.iloc[0]) instead\n",
            "  z[i_y, i_x] = calc_z(x_values[i_x], y_values[i_y])\n",
            "/Users/ncng/Documents/Projects/Python-Beginners-Course/15-Classification-Models/../Scripts/graphing.py:490: FutureWarning: Calling float on a single element Series is deprecated and will raise a TypeError in the future. Use float(ser.iloc[0]) instead\n",
            "  z[i_y, i_x] = calc_z(x_values[i_x], y_values[i_y])\n",
            "/Users/ncng/Documents/Projects/Python-Beginners-Course/15-Classification-Models/../Scripts/graphing.py:490: FutureWarning: Calling float on a single element Series is deprecated and will raise a TypeError in the future. Use float(ser.iloc[0]) instead\n",
            "  z[i_y, i_x] = calc_z(x_values[i_x], y_values[i_y])\n",
            "/Users/ncng/Documents/Projects/Python-Beginners-Course/15-Classification-Models/../Scripts/graphing.py:490: FutureWarning: Calling float on a single element Series is deprecated and will raise a TypeError in the future. Use float(ser.iloc[0]) instead\n",
            "  z[i_y, i_x] = calc_z(x_values[i_x], y_values[i_y])\n",
            "/Users/ncng/Documents/Projects/Python-Beginners-Course/15-Classification-Models/../Scripts/graphing.py:490: FutureWarning: Calling float on a single element Series is deprecated and will raise a TypeError in the future. Use float(ser.iloc[0]) instead\n",
            "  z[i_y, i_x] = calc_z(x_values[i_x], y_values[i_y])\n",
            "/Users/ncng/Documents/Projects/Python-Beginners-Course/15-Classification-Models/../Scripts/graphing.py:490: FutureWarning: Calling float on a single element Series is deprecated and will raise a TypeError in the future. Use float(ser.iloc[0]) instead\n",
            "  z[i_y, i_x] = calc_z(x_values[i_x], y_values[i_y])\n",
            "/Users/ncng/Documents/Projects/Python-Beginners-Course/15-Classification-Models/../Scripts/graphing.py:490: FutureWarning: Calling float on a single element Series is deprecated and will raise a TypeError in the future. Use float(ser.iloc[0]) instead\n",
            "  z[i_y, i_x] = calc_z(x_values[i_x], y_values[i_y])\n",
            "/Users/ncng/Documents/Projects/Python-Beginners-Course/15-Classification-Models/../Scripts/graphing.py:490: FutureWarning: Calling float on a single element Series is deprecated and will raise a TypeError in the future. Use float(ser.iloc[0]) instead\n",
            "  z[i_y, i_x] = calc_z(x_values[i_x], y_values[i_y])\n",
            "/Users/ncng/Documents/Projects/Python-Beginners-Course/15-Classification-Models/../Scripts/graphing.py:490: FutureWarning: Calling float on a single element Series is deprecated and will raise a TypeError in the future. Use float(ser.iloc[0]) instead\n",
            "  z[i_y, i_x] = calc_z(x_values[i_x], y_values[i_y])\n",
            "/Users/ncng/Documents/Projects/Python-Beginners-Course/15-Classification-Models/../Scripts/graphing.py:490: FutureWarning: Calling float on a single element Series is deprecated and will raise a TypeError in the future. Use float(ser.iloc[0]) instead\n",
            "  z[i_y, i_x] = calc_z(x_values[i_x], y_values[i_y])\n",
            "/Users/ncng/Documents/Projects/Python-Beginners-Course/15-Classification-Models/../Scripts/graphing.py:490: FutureWarning: Calling float on a single element Series is deprecated and will raise a TypeError in the future. Use float(ser.iloc[0]) instead\n",
            "  z[i_y, i_x] = calc_z(x_values[i_x], y_values[i_y])\n",
            "/Users/ncng/Documents/Projects/Python-Beginners-Course/15-Classification-Models/../Scripts/graphing.py:490: FutureWarning: Calling float on a single element Series is deprecated and will raise a TypeError in the future. Use float(ser.iloc[0]) instead\n",
            "  z[i_y, i_x] = calc_z(x_values[i_x], y_values[i_y])\n",
            "/Users/ncng/Documents/Projects/Python-Beginners-Course/15-Classification-Models/../Scripts/graphing.py:490: FutureWarning: Calling float on a single element Series is deprecated and will raise a TypeError in the future. Use float(ser.iloc[0]) instead\n",
            "  z[i_y, i_x] = calc_z(x_values[i_x], y_values[i_y])\n",
            "/Users/ncng/Documents/Projects/Python-Beginners-Course/15-Classification-Models/../Scripts/graphing.py:490: FutureWarning: Calling float on a single element Series is deprecated and will raise a TypeError in the future. Use float(ser.iloc[0]) instead\n",
            "  z[i_y, i_x] = calc_z(x_values[i_x], y_values[i_y])\n",
            "/Users/ncng/Documents/Projects/Python-Beginners-Course/15-Classification-Models/../Scripts/graphing.py:490: FutureWarning: Calling float on a single element Series is deprecated and will raise a TypeError in the future. Use float(ser.iloc[0]) instead\n",
            "  z[i_y, i_x] = calc_z(x_values[i_x], y_values[i_y])\n",
            "/Users/ncng/Documents/Projects/Python-Beginners-Course/15-Classification-Models/../Scripts/graphing.py:490: FutureWarning: Calling float on a single element Series is deprecated and will raise a TypeError in the future. Use float(ser.iloc[0]) instead\n",
            "  z[i_y, i_x] = calc_z(x_values[i_x], y_values[i_y])\n",
            "/Users/ncng/Documents/Projects/Python-Beginners-Course/15-Classification-Models/../Scripts/graphing.py:490: FutureWarning: Calling float on a single element Series is deprecated and will raise a TypeError in the future. Use float(ser.iloc[0]) instead\n",
            "  z[i_y, i_x] = calc_z(x_values[i_x], y_values[i_y])\n",
            "/Users/ncng/Documents/Projects/Python-Beginners-Course/15-Classification-Models/../Scripts/graphing.py:490: FutureWarning: Calling float on a single element Series is deprecated and will raise a TypeError in the future. Use float(ser.iloc[0]) instead\n",
            "  z[i_y, i_x] = calc_z(x_values[i_x], y_values[i_y])\n",
            "/Users/ncng/Documents/Projects/Python-Beginners-Course/15-Classification-Models/../Scripts/graphing.py:490: FutureWarning: Calling float on a single element Series is deprecated and will raise a TypeError in the future. Use float(ser.iloc[0]) instead\n",
            "  z[i_y, i_x] = calc_z(x_values[i_x], y_values[i_y])\n",
            "/Users/ncng/Documents/Projects/Python-Beginners-Course/15-Classification-Models/../Scripts/graphing.py:490: FutureWarning: Calling float on a single element Series is deprecated and will raise a TypeError in the future. Use float(ser.iloc[0]) instead\n",
            "  z[i_y, i_x] = calc_z(x_values[i_x], y_values[i_y])\n",
            "/Users/ncng/Documents/Projects/Python-Beginners-Course/15-Classification-Models/../Scripts/graphing.py:490: FutureWarning: Calling float on a single element Series is deprecated and will raise a TypeError in the future. Use float(ser.iloc[0]) instead\n",
            "  z[i_y, i_x] = calc_z(x_values[i_x], y_values[i_y])\n",
            "/Users/ncng/Documents/Projects/Python-Beginners-Course/15-Classification-Models/../Scripts/graphing.py:490: FutureWarning: Calling float on a single element Series is deprecated and will raise a TypeError in the future. Use float(ser.iloc[0]) instead\n",
            "  z[i_y, i_x] = calc_z(x_values[i_x], y_values[i_y])\n",
            "/Users/ncng/Documents/Projects/Python-Beginners-Course/15-Classification-Models/../Scripts/graphing.py:490: FutureWarning: Calling float on a single element Series is deprecated and will raise a TypeError in the future. Use float(ser.iloc[0]) instead\n",
            "  z[i_y, i_x] = calc_z(x_values[i_x], y_values[i_y])\n",
            "/Users/ncng/Documents/Projects/Python-Beginners-Course/15-Classification-Models/../Scripts/graphing.py:490: FutureWarning: Calling float on a single element Series is deprecated and will raise a TypeError in the future. Use float(ser.iloc[0]) instead\n",
            "  z[i_y, i_x] = calc_z(x_values[i_x], y_values[i_y])\n",
            "/Users/ncng/Documents/Projects/Python-Beginners-Course/15-Classification-Models/../Scripts/graphing.py:490: FutureWarning: Calling float on a single element Series is deprecated and will raise a TypeError in the future. Use float(ser.iloc[0]) instead\n",
            "  z[i_y, i_x] = calc_z(x_values[i_x], y_values[i_y])\n",
            "/Users/ncng/Documents/Projects/Python-Beginners-Course/15-Classification-Models/../Scripts/graphing.py:490: FutureWarning: Calling float on a single element Series is deprecated and will raise a TypeError in the future. Use float(ser.iloc[0]) instead\n",
            "  z[i_y, i_x] = calc_z(x_values[i_x], y_values[i_y])\n",
            "/Users/ncng/Documents/Projects/Python-Beginners-Course/15-Classification-Models/../Scripts/graphing.py:490: FutureWarning: Calling float on a single element Series is deprecated and will raise a TypeError in the future. Use float(ser.iloc[0]) instead\n",
            "  z[i_y, i_x] = calc_z(x_values[i_x], y_values[i_y])\n",
            "/Users/ncng/Documents/Projects/Python-Beginners-Course/15-Classification-Models/../Scripts/graphing.py:490: FutureWarning: Calling float on a single element Series is deprecated and will raise a TypeError in the future. Use float(ser.iloc[0]) instead\n",
            "  z[i_y, i_x] = calc_z(x_values[i_x], y_values[i_y])\n",
            "/Users/ncng/Documents/Projects/Python-Beginners-Course/15-Classification-Models/../Scripts/graphing.py:490: FutureWarning: Calling float on a single element Series is deprecated and will raise a TypeError in the future. Use float(ser.iloc[0]) instead\n",
            "  z[i_y, i_x] = calc_z(x_values[i_x], y_values[i_y])\n",
            "/Users/ncng/Documents/Projects/Python-Beginners-Course/15-Classification-Models/../Scripts/graphing.py:490: FutureWarning: Calling float on a single element Series is deprecated and will raise a TypeError in the future. Use float(ser.iloc[0]) instead\n",
            "  z[i_y, i_x] = calc_z(x_values[i_x], y_values[i_y])\n",
            "/Users/ncng/Documents/Projects/Python-Beginners-Course/15-Classification-Models/../Scripts/graphing.py:490: FutureWarning: Calling float on a single element Series is deprecated and will raise a TypeError in the future. Use float(ser.iloc[0]) instead\n",
            "  z[i_y, i_x] = calc_z(x_values[i_x], y_values[i_y])\n",
            "/Users/ncng/Documents/Projects/Python-Beginners-Course/15-Classification-Models/../Scripts/graphing.py:490: FutureWarning: Calling float on a single element Series is deprecated and will raise a TypeError in the future. Use float(ser.iloc[0]) instead\n",
            "  z[i_y, i_x] = calc_z(x_values[i_x], y_values[i_y])\n",
            "/Users/ncng/Documents/Projects/Python-Beginners-Course/15-Classification-Models/../Scripts/graphing.py:490: FutureWarning: Calling float on a single element Series is deprecated and will raise a TypeError in the future. Use float(ser.iloc[0]) instead\n",
            "  z[i_y, i_x] = calc_z(x_values[i_x], y_values[i_y])\n",
            "/Users/ncng/Documents/Projects/Python-Beginners-Course/15-Classification-Models/../Scripts/graphing.py:490: FutureWarning: Calling float on a single element Series is deprecated and will raise a TypeError in the future. Use float(ser.iloc[0]) instead\n",
            "  z[i_y, i_x] = calc_z(x_values[i_x], y_values[i_y])\n",
            "/Users/ncng/Documents/Projects/Python-Beginners-Course/15-Classification-Models/../Scripts/graphing.py:490: FutureWarning: Calling float on a single element Series is deprecated and will raise a TypeError in the future. Use float(ser.iloc[0]) instead\n",
            "  z[i_y, i_x] = calc_z(x_values[i_x], y_values[i_y])\n",
            "/Users/ncng/Documents/Projects/Python-Beginners-Course/15-Classification-Models/../Scripts/graphing.py:490: FutureWarning: Calling float on a single element Series is deprecated and will raise a TypeError in the future. Use float(ser.iloc[0]) instead\n",
            "  z[i_y, i_x] = calc_z(x_values[i_x], y_values[i_y])\n",
            "/Users/ncng/Documents/Projects/Python-Beginners-Course/15-Classification-Models/../Scripts/graphing.py:490: FutureWarning: Calling float on a single element Series is deprecated and will raise a TypeError in the future. Use float(ser.iloc[0]) instead\n",
            "  z[i_y, i_x] = calc_z(x_values[i_x], y_values[i_y])\n",
            "/Users/ncng/Documents/Projects/Python-Beginners-Course/15-Classification-Models/../Scripts/graphing.py:490: FutureWarning: Calling float on a single element Series is deprecated and will raise a TypeError in the future. Use float(ser.iloc[0]) instead\n",
            "  z[i_y, i_x] = calc_z(x_values[i_x], y_values[i_y])\n"
          ]
        },
        {
          "data": {
            "application/vnd.plotly.v1+json": {
              "config": {
                "plotlyServerURL": "https://plot.ly"
              },
              "data": [
                {
                  "colorbar": {
                    "title": {
                      "text": "Probability"
                    }
                  },
                  "type": "surface",
                  "x": [
                    0,
                    0.5263157894736842,
                    1.0526315789473684,
                    1.5789473684210527,
                    2.1052631578947367,
                    2.631578947368421,
                    3.1578947368421053,
                    3.6842105263157894,
                    4.2105263157894735,
                    4.7368421052631575,
                    5.263157894736842,
                    5.789473684210526,
                    6.315789473684211,
                    6.842105263157895,
                    7.368421052631579,
                    7.894736842105263,
                    8.421052631578947,
                    8.947368421052632,
                    9.473684210526315,
                    10
                  ],
                  "y": [
                    0,
                    2.1052631578947367,
                    4.2105263157894735,
                    6.315789473684211,
                    8.421052631578947,
                    10.526315789473683,
                    12.631578947368421,
                    14.736842105263158,
                    16.842105263157894,
                    18.94736842105263,
                    21.052631578947366,
                    23.157894736842103,
                    25.263157894736842,
                    27.36842105263158,
                    29.473684210526315,
                    31.57894736842105,
                    33.68421052631579,
                    35.78947368421053,
                    37.89473684210526,
                    40
                  ],
                  "z": [
                    [
                      0.016645957693825042,
                      0.020814840607851444,
                      0.026000190304536895,
                      0.03243451515124584,
                      0.0403951178181885,
                      0.05020815410053429,
                      0.062250392880744077,
                      0.07694692468937198,
                      0.0947625016512064,
                      0.116183740942899,
                      0.141689364106046,
                      0.17170638939602173,
                      0.20655222561309095,
                      0.24636626991052737,
                      0.2910396955272615,
                      0.3401574636647383,
                      0.39296991307768286,
                      0.448409753044775,
                      0.5051621313818822,
                      0.5617817957334987
                    ],
                    [
                      0.021346250874046364,
                      0.02666037995986033,
                      0.033252505636058804,
                      0.04140528137705362,
                      0.05145055573832169,
                      0.0637707726359087,
                      0.07879608612711325,
                      0.09699481187948704,
                      0.1188544145356069,
                      0.14485023834257177,
                      0.17540005473580322,
                      0.2108047043730048,
                      0.25117895093436376,
                      0.2963818573936384,
                      0.34596124808260126,
                      0.3991297299872237,
                      0.45478751969294645,
                      0.5115984217991135,
                      0.5681112654228484,
                      0.6229049297479146
                    ],
                    [
                      0.02733686247835095,
                      0.03409039879613441,
                      0.04243958896130531,
                      0.052721994099017816,
                      0.06532569878550103,
                      0.08068580151860118,
                      0.09927394146533032,
                      0.12157803313485395,
                      0.1480694622664356,
                      0.1791559903959386,
                      0.21512099616532943,
                      0.25605370392682847,
                      0.30178033714576563,
                      0.3518112596427829,
                      0.4053216310213682,
                      0.4611801546828426,
                      0.518030868649149,
                      0.5744185707699185,
                      0.628934688154137,
                      0.6803534544597575
                    ],
                    [
                      0.03494864184455919,
                      0.04349856121946091,
                      0.0540230626015411,
                      0.06691582893685823,
                      0.0826167722888732,
                      0.10160059922327563,
                      0.12435525671790344,
                      0.15134756941626792,
                      0.1829745073928464,
                      0.21950108471615476,
                      0.2609900899184286,
                      0.30723421187014766,
                      0.3577060901897455,
                      0.41154379871971764,
                      0.46758558341843803,
                      0.5244573448590968,
                      0.5807017480046244,
                      0.6349245385796636,
                      0.6859277746666794,
                      0.7328041649648122
                    ],
                    [
                      0.04458272717896003,
                      0.055354362536169634,
                      0.06854182693460958,
                      0.08458970286525126,
                      0.10397549166090805,
                      0.12718673524693094,
                      0.1546850732641814,
                      0.18685588500277078,
                      0.22394491033866587,
                      0.2659876173870461,
                      0.31274250251158325,
                      0.3636442799674188,
                      0.4177943776476822,
                      0.47400171449337214,
                      0.530875731257293,
                      0.5869588642866024,
                      0.6408729098191848,
                      0.6914489707921981,
                      0.7378162846035231,
                      0.7794384064287005
                    ],
                    [
                      0.056716502944610864,
                      0.07020436258436748,
                      0.0866053001890631,
                      0.10639932223085999,
                      0.13007310764345895,
                      0.1580824659554314,
                      0.19080036940203468,
                      0.2284523687181846,
                      0.2710457415176515,
                      0.31830417394258304,
                      0.369624318709408,
                      0.42407147646697535,
                      0.48042644240012133,
                      0.5372839193601384,
                      0.5931880199809335,
                      0.6467782796614667,
                      0.6969159942763312,
                      0.7427673886102315,
                      0.7838337961072346,
                      0.8199334554749753
                    ],
                    [
                      0.0719041113552335,
                      0.08866427320006463,
                      0.10887279055148734,
                      0.1330150007326356,
                      0.16154021702806462,
                      0.19480817230942857,
                      0.23302330973331398,
                      0.2761638635378254,
                      0.3239181351413372,
                      0.37564464684767657,
                      0.43037317010077475,
                      0.48685765027855016,
                      0.5436798141289761,
                      0.5993873508453099,
                      0.6526391761263504,
                      0.7023278525986816,
                      0.7476569727396455,
                      0.7881653993443136,
                      0.8237043806463826,
                      0.8543826343307095
                    ],
                    [
                      0.0907673322929548,
                      0.11139659159602469,
                      0.13601302815798505,
                      0.16505877211442135,
                      0.1988794696340384,
                      0.23765753631756978,
                      0.281341330133439,
                      0.32958323948078033,
                      0.38170365683881263,
                      0.4366975019886716,
                      0.4932932126962611,
                      0.550061336689395,
                      0.605555030123668,
                      0.6584541785834418,
                      0.7076836093736506,
                      0.7524845854834105,
                      0.7924331895614498,
                      0.8274129580459249,
                      0.857557460180735,
                      0.883180210148344
                    ],
                    [
                      0.11397141485009524,
                      0.13906778926737628,
                      0.16863855162652056,
                      0.20301440013196367,
                      0.24235480336595158,
                      0.28657743294872134,
                      0.3352982851309855,
                      0.38779969460651337,
                      0.44304248642613175,
                      0.49973099845301266,
                      0.5564264270055197,
                      0.6116892705417268,
                      0.6642219187519381,
                      0.7129823843392427,
                      0.757249827275156,
                      0.796637182648141,
                      0.8310595219050164,
                      0.8606743545154302,
                      0.8858110901652293,
                      0.9069032764599655
                    ],
                    [
                      0.14217986797108426,
                      0.1722799494275143,
                      0.20721306407553233,
                      0.2471148166909521,
                      0.2918714081748175,
                      0.34106201557677485,
                      0.3939310610984769,
                      0.4494061109827988,
                      0.5061688734013623,
                      0.5627730465020613,
                      0.6177883262003095,
                      0.6699410815814568,
                      0.7182233532425083,
                      0.7619523496275619,
                      0.800777435693765,
                      0.8346444358063168,
                      0.8637338831971929,
                      0.8883902080802186,
                      0.9090549085911789,
                      0.9262113037878474
                    ],
                    [
                      0.17598333149156425,
                      0.21147552193875382,
                      0.2519372320325444,
                      0.29722243623078226,
                      0.34687312025207484,
                      0.4000960139554222,
                      0.45578633899362314,
                      0.512604703275606,
                      0.5690991806271591,
                      0.6238504943627533,
                      0.6756104060141772,
                      0.7234057476249415,
                      0.7665918542059719,
                      0.804854045695011,
                      0.8381680913339092,
                      0.8667366287937116,
                      0.8909182464449442,
                      0.911161683904071,
                      0.9279521440586537,
                      0.9417720006578866
                    ],
                    [
                      0.2158017931028901,
                      0.25682165412669655,
                      0.302629641540773,
                      0.3527302352921666,
                      0.40629276928949826,
                      0.4621811121164424,
                      0.51903635652105,
                      0.5754028413493045,
                      0.6298741171331825,
                      0.6812286856290081,
                      0.7285288545113713,
                      0.7711680918430944,
                      0.8088671482428634,
                      0.8416309067323196,
                      0.8696831894069272,
                      0.8933958942473214,
                      0.9132243137232933,
                      0.9296550332720764,
                      0.9431682550481993,
                      0.9542134458753527
                    ],
                    [
                      0.26176763583696266,
                      0.30809209241100444,
                      0.3586319444045795,
                      0.41251950356888945,
                      0.46858835294935086,
                      0.52546170711565,
                      0.5816820695819704,
                      0.6358575830228642,
                      0.6867947691689024,
                      0.7335920160060941,
                      0.7756808614993518,
                      0.8128169161930285,
                      0.8450333255769136,
                      0.8725741775288057,
                      0.895823846034714,
                      0.9152435085396288,
                      0.9313206526727138,
                      0.9445330004356005,
                      0.955325517723023,
                      0.9640978962737138
                    ],
                    [
                      0.313608801009793,
                      0.3645767798589707,
                      0.4187743556049625,
                      0.4750059677008966,
                      0.531878637376089,
                      0.5879349375298791,
                      0.6417993284023281,
                      0.6923075609528092,
                      0.7385946288001815,
                      0.7801300091734072,
                      0.8167035583235579,
                      0.8483758154580293,
                      0.8754102189249392,
                      0.8982028010687955,
                      0.9172199774356153,
                      0.9329496781887813,
                      0.9458668541081955,
                      0.956411813192564,
                      0.9649787040389304,
                      0.9719112944640012
                    ],
                    [
                      0.3705632235958999,
                      0.4250554286378743,
                      0.48143184890590507,
                      0.538285040740435,
                      0.5941595509512243,
                      0.6476978388374041,
                      0.6977660211741306,
                      0.7435361435940514,
                      0.7845154267673812,
                      0.8205273179832825,
                      0.8516588666810543,
                      0.8781919515468612,
                      0.9005334625120655,
                      0.9191544275397019,
                      0.9345427801108466,
                      0.9471704257495396,
                      0.9574728703739548,
                      0.9658386681162755,
                      0.9726058582162337,
                      0.9780629493614907
                    ],
                    [
                      0.43136079251610393,
                      0.4878638781795081,
                      0.5446788245196431,
                      0.6003540513305256,
                      0.6535516503077712,
                      0.7031691660878784,
                      0.748416064439524,
                      0.7888370509112103,
                      0.8242884717345302,
                      0.8548829909844836,
                      0.8809200244738328,
                      0.9028165366458967,
                      0.9210475635083617,
                      0.9361006227925329,
                      0.9484443173024492,
                      0.958509218994293,
                      0.9666782445653918,
                      0.9732837192447673,
                      0.9786087459777619,
                      0.9828910582158095
                    ],
                    [
                      0.4942999290017694,
                      0.5510579126103021,
                      0.6065166179572107,
                      0.6593593503070883,
                      0.7085160680890584,
                      0.7532339480057015,
                      0.79309486175054,
                      0.827987327993433,
                      0.8580487202778403,
                      0.8835950968847349,
                      0.9050527321199291,
                      0.9229000870355565,
                      0.9376238643724677,
                      0.9496891228478452,
                      0.9595213804025993,
                      0.9674978812793721,
                      0.9739452561140353,
                      0.9791412527088453,
                      0.9833187796263508,
                      0.9866710334833123
                    ],
                    [
                      0.5574202481612273,
                      0.6126454699054303,
                      0.6651195788242042,
                      0.7138058556851,
                      0.7579894027730834,
                      0.7972888817024614,
                      0.8316242256709865,
                      0.8611566054011813,
                      0.886217837060591,
                      0.9072427592325494,
                      0.924712696388919,
                      0.9391131565167516,
                      0.950905428497973,
                      0.9605098675638244,
                      0.9682980180398959,
                      0.9745908399409995,
                      0.9796607789064211,
                      0.9837359849930212,
                      0.9870055053241357,
                      0.9896246930062356
                    ],
                    [
                      0.6187388679110465,
                      0.6708310292053967,
                      0.7190377133654295,
                      0.7626820881604133,
                      0.8014191741833101,
                      0.8351995328178564,
                      0.8642072149077569,
                      0.8887889214181258,
                      0.9093873292421425,
                      0.926486085972001,
                      0.9405691441812263,
                      0.9520938123033512,
                      0.9614751850615483,
                      0.9690790865772716,
                      0.975220834484881,
                      0.9801676274236324,
                      0.9841429241199448,
                      0.9873316918230046,
                      0.9898858066476875,
                      0.9919291842124516
                    ],
                    [
                      0.6764924488980052,
                      0.7242108813715352,
                      0.7673117135887769,
                      0.8054858423126382,
                      0.8387136452757653,
                      0.867201133871246,
                      0.8913090335746723,
                      0.9114871537087417,
                      0.9282209459119153,
                      0.9419924653928231,
                      0.9532548441728244,
                      0.9624178291088816,
                      0.9698415106350348,
                      0.9758355962389341,
                      0.9806620947164298,
                      0.9845398413099923,
                      0.9876497928747765,
                      0.9901404143557498,
                      0.9921327621613009,
                      0.9937250633679068
                    ]
                  ]
                }
              ],
              "layout": {
                "scene": {
                  "xaxis": {
                    "title": {
                      "text": "weak_layers"
                    }
                  },
                  "yaxis": {
                    "title": {
                      "text": "wind"
                    }
                  },
                  "zaxis": {
                    "title": {
                      "text": "Probability"
                    }
                  }
                },
                "template": {
                  "data": {
                    "bar": [
                      {
                        "error_x": {
                          "color": "#2a3f5f"
                        },
                        "error_y": {
                          "color": "#2a3f5f"
                        },
                        "marker": {
                          "line": {
                            "color": "white",
                            "width": 0.5
                          },
                          "pattern": {
                            "fillmode": "overlay",
                            "size": 10,
                            "solidity": 0.2
                          }
                        },
                        "type": "bar"
                      }
                    ],
                    "barpolar": [
                      {
                        "marker": {
                          "line": {
                            "color": "white",
                            "width": 0.5
                          },
                          "pattern": {
                            "fillmode": "overlay",
                            "size": 10,
                            "solidity": 0.2
                          }
                        },
                        "type": "barpolar"
                      }
                    ],
                    "box": [
                      {
                        "boxpoints": "outliers",
                        "notched": false,
                        "type": "box"
                      }
                    ],
                    "carpet": [
                      {
                        "aaxis": {
                          "endlinecolor": "#2a3f5f",
                          "gridcolor": "#C8D4E3",
                          "linecolor": "#C8D4E3",
                          "minorgridcolor": "#C8D4E3",
                          "startlinecolor": "#2a3f5f"
                        },
                        "baxis": {
                          "endlinecolor": "#2a3f5f",
                          "gridcolor": "#C8D4E3",
                          "linecolor": "#C8D4E3",
                          "minorgridcolor": "#C8D4E3",
                          "startlinecolor": "#2a3f5f"
                        },
                        "type": "carpet"
                      }
                    ],
                    "choropleth": [
                      {
                        "colorbar": {
                          "outlinewidth": 0,
                          "ticks": ""
                        },
                        "type": "choropleth"
                      }
                    ],
                    "contour": [
                      {
                        "colorbar": {
                          "outlinewidth": 0,
                          "ticks": ""
                        },
                        "colorscale": [
                          [
                            0,
                            "#0d0887"
                          ],
                          [
                            0.1111111111111111,
                            "#46039f"
                          ],
                          [
                            0.2222222222222222,
                            "#7201a8"
                          ],
                          [
                            0.3333333333333333,
                            "#9c179e"
                          ],
                          [
                            0.4444444444444444,
                            "#bd3786"
                          ],
                          [
                            0.5555555555555556,
                            "#d8576b"
                          ],
                          [
                            0.6666666666666666,
                            "#ed7953"
                          ],
                          [
                            0.7777777777777778,
                            "#fb9f3a"
                          ],
                          [
                            0.8888888888888888,
                            "#fdca26"
                          ],
                          [
                            1,
                            "#f0f921"
                          ]
                        ],
                        "type": "contour"
                      }
                    ],
                    "contourcarpet": [
                      {
                        "colorbar": {
                          "outlinewidth": 0,
                          "ticks": ""
                        },
                        "type": "contourcarpet"
                      }
                    ],
                    "heatmap": [
                      {
                        "colorbar": {
                          "outlinewidth": 0,
                          "ticks": ""
                        },
                        "colorscale": [
                          [
                            0,
                            "#0d0887"
                          ],
                          [
                            0.1111111111111111,
                            "#46039f"
                          ],
                          [
                            0.2222222222222222,
                            "#7201a8"
                          ],
                          [
                            0.3333333333333333,
                            "#9c179e"
                          ],
                          [
                            0.4444444444444444,
                            "#bd3786"
                          ],
                          [
                            0.5555555555555556,
                            "#d8576b"
                          ],
                          [
                            0.6666666666666666,
                            "#ed7953"
                          ],
                          [
                            0.7777777777777778,
                            "#fb9f3a"
                          ],
                          [
                            0.8888888888888888,
                            "#fdca26"
                          ],
                          [
                            1,
                            "#f0f921"
                          ]
                        ],
                        "type": "heatmap"
                      }
                    ],
                    "heatmapgl": [
                      {
                        "colorbar": {
                          "outlinewidth": 0,
                          "ticks": ""
                        },
                        "colorscale": [
                          [
                            0,
                            "#0d0887"
                          ],
                          [
                            0.1111111111111111,
                            "#46039f"
                          ],
                          [
                            0.2222222222222222,
                            "#7201a8"
                          ],
                          [
                            0.3333333333333333,
                            "#9c179e"
                          ],
                          [
                            0.4444444444444444,
                            "#bd3786"
                          ],
                          [
                            0.5555555555555556,
                            "#d8576b"
                          ],
                          [
                            0.6666666666666666,
                            "#ed7953"
                          ],
                          [
                            0.7777777777777778,
                            "#fb9f3a"
                          ],
                          [
                            0.8888888888888888,
                            "#fdca26"
                          ],
                          [
                            1,
                            "#f0f921"
                          ]
                        ],
                        "type": "heatmapgl"
                      }
                    ],
                    "histogram": [
                      {
                        "marker": {
                          "line": {
                            "width": 1
                          },
                          "pattern": {
                            "fillmode": "overlay",
                            "size": 10,
                            "solidity": 0.2
                          }
                        },
                        "type": "histogram"
                      }
                    ],
                    "histogram2d": [
                      {
                        "colorbar": {
                          "outlinewidth": 0,
                          "ticks": ""
                        },
                        "colorscale": [
                          [
                            0,
                            "#0d0887"
                          ],
                          [
                            0.1111111111111111,
                            "#46039f"
                          ],
                          [
                            0.2222222222222222,
                            "#7201a8"
                          ],
                          [
                            0.3333333333333333,
                            "#9c179e"
                          ],
                          [
                            0.4444444444444444,
                            "#bd3786"
                          ],
                          [
                            0.5555555555555556,
                            "#d8576b"
                          ],
                          [
                            0.6666666666666666,
                            "#ed7953"
                          ],
                          [
                            0.7777777777777778,
                            "#fb9f3a"
                          ],
                          [
                            0.8888888888888888,
                            "#fdca26"
                          ],
                          [
                            1,
                            "#f0f921"
                          ]
                        ],
                        "type": "histogram2d"
                      }
                    ],
                    "histogram2dcontour": [
                      {
                        "colorbar": {
                          "outlinewidth": 0,
                          "ticks": ""
                        },
                        "colorscale": [
                          [
                            0,
                            "#0d0887"
                          ],
                          [
                            0.1111111111111111,
                            "#46039f"
                          ],
                          [
                            0.2222222222222222,
                            "#7201a8"
                          ],
                          [
                            0.3333333333333333,
                            "#9c179e"
                          ],
                          [
                            0.4444444444444444,
                            "#bd3786"
                          ],
                          [
                            0.5555555555555556,
                            "#d8576b"
                          ],
                          [
                            0.6666666666666666,
                            "#ed7953"
                          ],
                          [
                            0.7777777777777778,
                            "#fb9f3a"
                          ],
                          [
                            0.8888888888888888,
                            "#fdca26"
                          ],
                          [
                            1,
                            "#f0f921"
                          ]
                        ],
                        "type": "histogram2dcontour"
                      }
                    ],
                    "mesh3d": [
                      {
                        "colorbar": {
                          "outlinewidth": 0,
                          "ticks": ""
                        },
                        "type": "mesh3d"
                      }
                    ],
                    "parcoords": [
                      {
                        "line": {
                          "colorbar": {
                            "outlinewidth": 0,
                            "ticks": ""
                          }
                        },
                        "type": "parcoords"
                      }
                    ],
                    "pie": [
                      {
                        "automargin": true,
                        "type": "pie"
                      }
                    ],
                    "scatter": [
                      {
                        "fillpattern": {
                          "fillmode": "overlay",
                          "size": 10,
                          "solidity": 0.2
                        },
                        "marker": {
                          "opacity": 0.8
                        },
                        "type": "scatter"
                      }
                    ],
                    "scatter3d": [
                      {
                        "line": {
                          "colorbar": {
                            "outlinewidth": 0,
                            "ticks": ""
                          }
                        },
                        "marker": {
                          "colorbar": {
                            "outlinewidth": 0,
                            "ticks": ""
                          },
                          "opacity": 0.8
                        },
                        "type": "scatter3d"
                      }
                    ],
                    "scattercarpet": [
                      {
                        "marker": {
                          "colorbar": {
                            "outlinewidth": 0,
                            "ticks": ""
                          }
                        },
                        "type": "scattercarpet"
                      }
                    ],
                    "scattergeo": [
                      {
                        "marker": {
                          "colorbar": {
                            "outlinewidth": 0,
                            "ticks": ""
                          }
                        },
                        "type": "scattergeo"
                      }
                    ],
                    "scattergl": [
                      {
                        "marker": {
                          "colorbar": {
                            "outlinewidth": 0,
                            "ticks": ""
                          }
                        },
                        "type": "scattergl"
                      }
                    ],
                    "scattermapbox": [
                      {
                        "marker": {
                          "colorbar": {
                            "outlinewidth": 0,
                            "ticks": ""
                          }
                        },
                        "type": "scattermapbox"
                      }
                    ],
                    "scatterpolar": [
                      {
                        "marker": {
                          "colorbar": {
                            "outlinewidth": 0,
                            "ticks": ""
                          }
                        },
                        "type": "scatterpolar"
                      }
                    ],
                    "scatterpolargl": [
                      {
                        "marker": {
                          "colorbar": {
                            "outlinewidth": 0,
                            "ticks": ""
                          }
                        },
                        "type": "scatterpolargl"
                      }
                    ],
                    "scatterternary": [
                      {
                        "marker": {
                          "colorbar": {
                            "outlinewidth": 0,
                            "ticks": ""
                          }
                        },
                        "type": "scatterternary"
                      }
                    ],
                    "surface": [
                      {
                        "colorbar": {
                          "outlinewidth": 0,
                          "ticks": ""
                        },
                        "colorscale": [
                          [
                            0,
                            "#0d0887"
                          ],
                          [
                            0.1111111111111111,
                            "#46039f"
                          ],
                          [
                            0.2222222222222222,
                            "#7201a8"
                          ],
                          [
                            0.3333333333333333,
                            "#9c179e"
                          ],
                          [
                            0.4444444444444444,
                            "#bd3786"
                          ],
                          [
                            0.5555555555555556,
                            "#d8576b"
                          ],
                          [
                            0.6666666666666666,
                            "#ed7953"
                          ],
                          [
                            0.7777777777777778,
                            "#fb9f3a"
                          ],
                          [
                            0.8888888888888888,
                            "#fdca26"
                          ],
                          [
                            1,
                            "#f0f921"
                          ]
                        ],
                        "type": "surface"
                      }
                    ],
                    "table": [
                      {
                        "cells": {
                          "fill": {
                            "color": "#EBF0F8"
                          },
                          "line": {
                            "color": "white"
                          }
                        },
                        "header": {
                          "fill": {
                            "color": "#C8D4E3"
                          },
                          "line": {
                            "color": "white"
                          }
                        },
                        "type": "table"
                      }
                    ]
                  },
                  "layout": {
                    "annotationdefaults": {
                      "arrowcolor": "#2a3f5f",
                      "arrowhead": 0,
                      "arrowwidth": 1
                    },
                    "autotypenumbers": "strict",
                    "coloraxis": {
                      "colorbar": {
                        "outlinewidth": 0,
                        "ticks": ""
                      }
                    },
                    "colorscale": {
                      "diverging": [
                        [
                          0,
                          "#8e0152"
                        ],
                        [
                          0.1,
                          "#c51b7d"
                        ],
                        [
                          0.2,
                          "#de77ae"
                        ],
                        [
                          0.3,
                          "#f1b6da"
                        ],
                        [
                          0.4,
                          "#fde0ef"
                        ],
                        [
                          0.5,
                          "#f7f7f7"
                        ],
                        [
                          0.6,
                          "#e6f5d0"
                        ],
                        [
                          0.7,
                          "#b8e186"
                        ],
                        [
                          0.8,
                          "#7fbc41"
                        ],
                        [
                          0.9,
                          "#4d9221"
                        ],
                        [
                          1,
                          "#276419"
                        ]
                      ],
                      "sequential": [
                        [
                          0,
                          "#0d0887"
                        ],
                        [
                          0.1111111111111111,
                          "#46039f"
                        ],
                        [
                          0.2222222222222222,
                          "#7201a8"
                        ],
                        [
                          0.3333333333333333,
                          "#9c179e"
                        ],
                        [
                          0.4444444444444444,
                          "#bd3786"
                        ],
                        [
                          0.5555555555555556,
                          "#d8576b"
                        ],
                        [
                          0.6666666666666666,
                          "#ed7953"
                        ],
                        [
                          0.7777777777777778,
                          "#fb9f3a"
                        ],
                        [
                          0.8888888888888888,
                          "#fdca26"
                        ],
                        [
                          1,
                          "#f0f921"
                        ]
                      ],
                      "sequentialminus": [
                        [
                          0,
                          "#0d0887"
                        ],
                        [
                          0.1111111111111111,
                          "#46039f"
                        ],
                        [
                          0.2222222222222222,
                          "#7201a8"
                        ],
                        [
                          0.3333333333333333,
                          "#9c179e"
                        ],
                        [
                          0.4444444444444444,
                          "#bd3786"
                        ],
                        [
                          0.5555555555555556,
                          "#d8576b"
                        ],
                        [
                          0.6666666666666666,
                          "#ed7953"
                        ],
                        [
                          0.7777777777777778,
                          "#fb9f3a"
                        ],
                        [
                          0.8888888888888888,
                          "#fdca26"
                        ],
                        [
                          1,
                          "#f0f921"
                        ]
                      ]
                    },
                    "colorway": [
                      "#636efa",
                      "#EF553B",
                      "#00cc96",
                      "#ab63fa",
                      "#FFA15A",
                      "#19d3f3",
                      "#FF6692",
                      "#B6E880",
                      "#FF97FF",
                      "#FECB52"
                    ],
                    "font": {
                      "color": "#2a3f5f"
                    },
                    "geo": {
                      "bgcolor": "white",
                      "lakecolor": "white",
                      "landcolor": "white",
                      "showlakes": true,
                      "showland": true,
                      "subunitcolor": "#C8D4E3"
                    },
                    "height": 400,
                    "hoverlabel": {
                      "align": "left"
                    },
                    "hovermode": "closest",
                    "mapbox": {
                      "style": "light"
                    },
                    "margin": {
                      "b": 2,
                      "l": 2,
                      "r": 2,
                      "t": 30
                    },
                    "paper_bgcolor": "white",
                    "plot_bgcolor": "white",
                    "polar": {
                      "angularaxis": {
                        "gridcolor": "#EBF0F8",
                        "linecolor": "#EBF0F8",
                        "ticks": ""
                      },
                      "bgcolor": "white",
                      "radialaxis": {
                        "gridcolor": "#EBF0F8",
                        "linecolor": "#EBF0F8",
                        "ticks": ""
                      }
                    },
                    "scene": {
                      "camera": {
                        "eye": {
                          "x": 1.5,
                          "y": 1.5,
                          "z": 0.1
                        }
                      },
                      "xaxis": {
                        "backgroundcolor": "white",
                        "gridcolor": "#DFE8F3",
                        "gridwidth": 2,
                        "linecolor": "#EBF0F8",
                        "showbackground": true,
                        "ticks": "",
                        "zerolinecolor": "#EBF0F8"
                      },
                      "yaxis": {
                        "backgroundcolor": "white",
                        "gridcolor": "#DFE8F3",
                        "gridwidth": 2,
                        "linecolor": "#EBF0F8",
                        "showbackground": true,
                        "ticks": "",
                        "zerolinecolor": "#EBF0F8"
                      },
                      "zaxis": {
                        "backgroundcolor": "white",
                        "gridcolor": "#DFE8F3",
                        "gridwidth": 2,
                        "linecolor": "#EBF0F8",
                        "showbackground": true,
                        "ticks": "",
                        "zerolinecolor": "#EBF0F8"
                      }
                    },
                    "shapedefaults": {
                      "line": {
                        "color": "#2a3f5f"
                      }
                    },
                    "ternary": {
                      "aaxis": {
                        "gridcolor": "#DFE8F3",
                        "linecolor": "#A2B1C6",
                        "ticks": ""
                      },
                      "baxis": {
                        "gridcolor": "#DFE8F3",
                        "linecolor": "#A2B1C6",
                        "ticks": ""
                      },
                      "bgcolor": "white",
                      "caxis": {
                        "gridcolor": "#DFE8F3",
                        "linecolor": "#A2B1C6",
                        "ticks": ""
                      }
                    },
                    "title": {
                      "x": 0.5
                    },
                    "xaxis": {
                      "automargin": true,
                      "gridcolor": "#EBF0F8",
                      "linecolor": "#EBF0F8",
                      "linewidth": 2,
                      "showline": true,
                      "ticks": "",
                      "title": {
                        "standoff": 15
                      },
                      "zerolinecolor": "#EBF0F8",
                      "zerolinewidth": 2
                    },
                    "yaxis": {
                      "automargin": true,
                      "gridcolor": "#EBF0F8",
                      "linecolor": "#EBF0F8",
                      "linewidth": 2,
                      "showline": true,
                      "ticks": "",
                      "title": {
                        "standoff": 15
                      },
                      "zerolinecolor": "#EBF0F8",
                      "zerolinewidth": 2
                    }
                  }
                },
                "title": {
                  "text": "Model Prediction"
                }
              }
            }
          },
          "metadata": {},
          "output_type": "display_data"
        }
      ],
      "source": [
        "graphing.model_to_surface_plot(model_with_interaction, [\"weak_layers\", \"wind\"], test)"
      ]
    },
    {
      "cell_type": "markdown",
      "metadata": {},
      "source": [
        "The graph is interactive - rotate it and explore how there's a clear s-shaped relationship between the features and probability.\n",
        "\n",
        "Let's now look at the features that we've said can interact:"
      ]
    },
    {
      "cell_type": "code",
      "execution_count": 11,
      "metadata": {},
      "outputs": [
        {
          "name": "stderr",
          "output_type": "stream",
          "text": [
            "/Users/ncng/Documents/Projects/Python-Beginners-Course/15-Classification-Models/../Scripts/graphing.py:490: FutureWarning:\n",
            "\n",
            "Calling float on a single element Series is deprecated and will raise a TypeError in the future. Use float(ser.iloc[0]) instead\n",
            "\n",
            "/Users/ncng/Documents/Projects/Python-Beginners-Course/15-Classification-Models/../Scripts/graphing.py:490: FutureWarning:\n",
            "\n",
            "Calling float on a single element Series is deprecated and will raise a TypeError in the future. Use float(ser.iloc[0]) instead\n",
            "\n",
            "/Users/ncng/Documents/Projects/Python-Beginners-Course/15-Classification-Models/../Scripts/graphing.py:490: FutureWarning:\n",
            "\n",
            "Calling float on a single element Series is deprecated and will raise a TypeError in the future. Use float(ser.iloc[0]) instead\n",
            "\n",
            "/Users/ncng/Documents/Projects/Python-Beginners-Course/15-Classification-Models/../Scripts/graphing.py:490: FutureWarning:\n",
            "\n",
            "Calling float on a single element Series is deprecated and will raise a TypeError in the future. Use float(ser.iloc[0]) instead\n",
            "\n",
            "/Users/ncng/Documents/Projects/Python-Beginners-Course/15-Classification-Models/../Scripts/graphing.py:490: FutureWarning:\n",
            "\n",
            "Calling float on a single element Series is deprecated and will raise a TypeError in the future. Use float(ser.iloc[0]) instead\n",
            "\n",
            "/Users/ncng/Documents/Projects/Python-Beginners-Course/15-Classification-Models/../Scripts/graphing.py:490: FutureWarning:\n",
            "\n",
            "Calling float on a single element Series is deprecated and will raise a TypeError in the future. Use float(ser.iloc[0]) instead\n",
            "\n",
            "/Users/ncng/Documents/Projects/Python-Beginners-Course/15-Classification-Models/../Scripts/graphing.py:490: FutureWarning:\n",
            "\n",
            "Calling float on a single element Series is deprecated and will raise a TypeError in the future. Use float(ser.iloc[0]) instead\n",
            "\n",
            "/Users/ncng/Documents/Projects/Python-Beginners-Course/15-Classification-Models/../Scripts/graphing.py:490: FutureWarning:\n",
            "\n",
            "Calling float on a single element Series is deprecated and will raise a TypeError in the future. Use float(ser.iloc[0]) instead\n",
            "\n",
            "/Users/ncng/Documents/Projects/Python-Beginners-Course/15-Classification-Models/../Scripts/graphing.py:490: FutureWarning:\n",
            "\n",
            "Calling float on a single element Series is deprecated and will raise a TypeError in the future. Use float(ser.iloc[0]) instead\n",
            "\n",
            "/Users/ncng/Documents/Projects/Python-Beginners-Course/15-Classification-Models/../Scripts/graphing.py:490: FutureWarning:\n",
            "\n",
            "Calling float on a single element Series is deprecated and will raise a TypeError in the future. Use float(ser.iloc[0]) instead\n",
            "\n",
            "/Users/ncng/Documents/Projects/Python-Beginners-Course/15-Classification-Models/../Scripts/graphing.py:490: FutureWarning:\n",
            "\n",
            "Calling float on a single element Series is deprecated and will raise a TypeError in the future. Use float(ser.iloc[0]) instead\n",
            "\n",
            "/Users/ncng/Documents/Projects/Python-Beginners-Course/15-Classification-Models/../Scripts/graphing.py:490: FutureWarning:\n",
            "\n",
            "Calling float on a single element Series is deprecated and will raise a TypeError in the future. Use float(ser.iloc[0]) instead\n",
            "\n",
            "/Users/ncng/Documents/Projects/Python-Beginners-Course/15-Classification-Models/../Scripts/graphing.py:490: FutureWarning:\n",
            "\n",
            "Calling float on a single element Series is deprecated and will raise a TypeError in the future. Use float(ser.iloc[0]) instead\n",
            "\n",
            "/Users/ncng/Documents/Projects/Python-Beginners-Course/15-Classification-Models/../Scripts/graphing.py:490: FutureWarning:\n",
            "\n",
            "Calling float on a single element Series is deprecated and will raise a TypeError in the future. Use float(ser.iloc[0]) instead\n",
            "\n",
            "/Users/ncng/Documents/Projects/Python-Beginners-Course/15-Classification-Models/../Scripts/graphing.py:490: FutureWarning:\n",
            "\n",
            "Calling float on a single element Series is deprecated and will raise a TypeError in the future. Use float(ser.iloc[0]) instead\n",
            "\n",
            "/Users/ncng/Documents/Projects/Python-Beginners-Course/15-Classification-Models/../Scripts/graphing.py:490: FutureWarning:\n",
            "\n",
            "Calling float on a single element Series is deprecated and will raise a TypeError in the future. Use float(ser.iloc[0]) instead\n",
            "\n",
            "/Users/ncng/Documents/Projects/Python-Beginners-Course/15-Classification-Models/../Scripts/graphing.py:490: FutureWarning:\n",
            "\n",
            "Calling float on a single element Series is deprecated and will raise a TypeError in the future. Use float(ser.iloc[0]) instead\n",
            "\n",
            "/Users/ncng/Documents/Projects/Python-Beginners-Course/15-Classification-Models/../Scripts/graphing.py:490: FutureWarning:\n",
            "\n",
            "Calling float on a single element Series is deprecated and will raise a TypeError in the future. Use float(ser.iloc[0]) instead\n",
            "\n",
            "/Users/ncng/Documents/Projects/Python-Beginners-Course/15-Classification-Models/../Scripts/graphing.py:490: FutureWarning:\n",
            "\n",
            "Calling float on a single element Series is deprecated and will raise a TypeError in the future. Use float(ser.iloc[0]) instead\n",
            "\n",
            "/Users/ncng/Documents/Projects/Python-Beginners-Course/15-Classification-Models/../Scripts/graphing.py:490: FutureWarning:\n",
            "\n",
            "Calling float on a single element Series is deprecated and will raise a TypeError in the future. Use float(ser.iloc[0]) instead\n",
            "\n",
            "/Users/ncng/Documents/Projects/Python-Beginners-Course/15-Classification-Models/../Scripts/graphing.py:490: FutureWarning:\n",
            "\n",
            "Calling float on a single element Series is deprecated and will raise a TypeError in the future. Use float(ser.iloc[0]) instead\n",
            "\n",
            "/Users/ncng/Documents/Projects/Python-Beginners-Course/15-Classification-Models/../Scripts/graphing.py:490: FutureWarning:\n",
            "\n",
            "Calling float on a single element Series is deprecated and will raise a TypeError in the future. Use float(ser.iloc[0]) instead\n",
            "\n",
            "/Users/ncng/Documents/Projects/Python-Beginners-Course/15-Classification-Models/../Scripts/graphing.py:490: FutureWarning:\n",
            "\n",
            "Calling float on a single element Series is deprecated and will raise a TypeError in the future. Use float(ser.iloc[0]) instead\n",
            "\n",
            "/Users/ncng/Documents/Projects/Python-Beginners-Course/15-Classification-Models/../Scripts/graphing.py:490: FutureWarning:\n",
            "\n",
            "Calling float on a single element Series is deprecated and will raise a TypeError in the future. Use float(ser.iloc[0]) instead\n",
            "\n",
            "/Users/ncng/Documents/Projects/Python-Beginners-Course/15-Classification-Models/../Scripts/graphing.py:490: FutureWarning:\n",
            "\n",
            "Calling float on a single element Series is deprecated and will raise a TypeError in the future. Use float(ser.iloc[0]) instead\n",
            "\n",
            "/Users/ncng/Documents/Projects/Python-Beginners-Course/15-Classification-Models/../Scripts/graphing.py:490: FutureWarning:\n",
            "\n",
            "Calling float on a single element Series is deprecated and will raise a TypeError in the future. Use float(ser.iloc[0]) instead\n",
            "\n",
            "/Users/ncng/Documents/Projects/Python-Beginners-Course/15-Classification-Models/../Scripts/graphing.py:490: FutureWarning:\n",
            "\n",
            "Calling float on a single element Series is deprecated and will raise a TypeError in the future. Use float(ser.iloc[0]) instead\n",
            "\n",
            "/Users/ncng/Documents/Projects/Python-Beginners-Course/15-Classification-Models/../Scripts/graphing.py:490: FutureWarning:\n",
            "\n",
            "Calling float on a single element Series is deprecated and will raise a TypeError in the future. Use float(ser.iloc[0]) instead\n",
            "\n",
            "/Users/ncng/Documents/Projects/Python-Beginners-Course/15-Classification-Models/../Scripts/graphing.py:490: FutureWarning:\n",
            "\n",
            "Calling float on a single element Series is deprecated and will raise a TypeError in the future. Use float(ser.iloc[0]) instead\n",
            "\n",
            "/Users/ncng/Documents/Projects/Python-Beginners-Course/15-Classification-Models/../Scripts/graphing.py:490: FutureWarning:\n",
            "\n",
            "Calling float on a single element Series is deprecated and will raise a TypeError in the future. Use float(ser.iloc[0]) instead\n",
            "\n",
            "/Users/ncng/Documents/Projects/Python-Beginners-Course/15-Classification-Models/../Scripts/graphing.py:490: FutureWarning:\n",
            "\n",
            "Calling float on a single element Series is deprecated and will raise a TypeError in the future. Use float(ser.iloc[0]) instead\n",
            "\n",
            "/Users/ncng/Documents/Projects/Python-Beginners-Course/15-Classification-Models/../Scripts/graphing.py:490: FutureWarning:\n",
            "\n",
            "Calling float on a single element Series is deprecated and will raise a TypeError in the future. Use float(ser.iloc[0]) instead\n",
            "\n",
            "/Users/ncng/Documents/Projects/Python-Beginners-Course/15-Classification-Models/../Scripts/graphing.py:490: FutureWarning:\n",
            "\n",
            "Calling float on a single element Series is deprecated and will raise a TypeError in the future. Use float(ser.iloc[0]) instead\n",
            "\n",
            "/Users/ncng/Documents/Projects/Python-Beginners-Course/15-Classification-Models/../Scripts/graphing.py:490: FutureWarning:\n",
            "\n",
            "Calling float on a single element Series is deprecated and will raise a TypeError in the future. Use float(ser.iloc[0]) instead\n",
            "\n",
            "/Users/ncng/Documents/Projects/Python-Beginners-Course/15-Classification-Models/../Scripts/graphing.py:490: FutureWarning:\n",
            "\n",
            "Calling float on a single element Series is deprecated and will raise a TypeError in the future. Use float(ser.iloc[0]) instead\n",
            "\n",
            "/Users/ncng/Documents/Projects/Python-Beginners-Course/15-Classification-Models/../Scripts/graphing.py:490: FutureWarning:\n",
            "\n",
            "Calling float on a single element Series is deprecated and will raise a TypeError in the future. Use float(ser.iloc[0]) instead\n",
            "\n",
            "/Users/ncng/Documents/Projects/Python-Beginners-Course/15-Classification-Models/../Scripts/graphing.py:490: FutureWarning:\n",
            "\n",
            "Calling float on a single element Series is deprecated and will raise a TypeError in the future. Use float(ser.iloc[0]) instead\n",
            "\n",
            "/Users/ncng/Documents/Projects/Python-Beginners-Course/15-Classification-Models/../Scripts/graphing.py:490: FutureWarning:\n",
            "\n",
            "Calling float on a single element Series is deprecated and will raise a TypeError in the future. Use float(ser.iloc[0]) instead\n",
            "\n",
            "/Users/ncng/Documents/Projects/Python-Beginners-Course/15-Classification-Models/../Scripts/graphing.py:490: FutureWarning:\n",
            "\n",
            "Calling float on a single element Series is deprecated and will raise a TypeError in the future. Use float(ser.iloc[0]) instead\n",
            "\n",
            "/Users/ncng/Documents/Projects/Python-Beginners-Course/15-Classification-Models/../Scripts/graphing.py:490: FutureWarning:\n",
            "\n",
            "Calling float on a single element Series is deprecated and will raise a TypeError in the future. Use float(ser.iloc[0]) instead\n",
            "\n",
            "/Users/ncng/Documents/Projects/Python-Beginners-Course/15-Classification-Models/../Scripts/graphing.py:490: FutureWarning:\n",
            "\n",
            "Calling float on a single element Series is deprecated and will raise a TypeError in the future. Use float(ser.iloc[0]) instead\n",
            "\n",
            "/Users/ncng/Documents/Projects/Python-Beginners-Course/15-Classification-Models/../Scripts/graphing.py:490: FutureWarning:\n",
            "\n",
            "Calling float on a single element Series is deprecated and will raise a TypeError in the future. Use float(ser.iloc[0]) instead\n",
            "\n",
            "/Users/ncng/Documents/Projects/Python-Beginners-Course/15-Classification-Models/../Scripts/graphing.py:490: FutureWarning:\n",
            "\n",
            "Calling float on a single element Series is deprecated and will raise a TypeError in the future. Use float(ser.iloc[0]) instead\n",
            "\n",
            "/Users/ncng/Documents/Projects/Python-Beginners-Course/15-Classification-Models/../Scripts/graphing.py:490: FutureWarning:\n",
            "\n",
            "Calling float on a single element Series is deprecated and will raise a TypeError in the future. Use float(ser.iloc[0]) instead\n",
            "\n",
            "/Users/ncng/Documents/Projects/Python-Beginners-Course/15-Classification-Models/../Scripts/graphing.py:490: FutureWarning:\n",
            "\n",
            "Calling float on a single element Series is deprecated and will raise a TypeError in the future. Use float(ser.iloc[0]) instead\n",
            "\n",
            "/Users/ncng/Documents/Projects/Python-Beginners-Course/15-Classification-Models/../Scripts/graphing.py:490: FutureWarning:\n",
            "\n",
            "Calling float on a single element Series is deprecated and will raise a TypeError in the future. Use float(ser.iloc[0]) instead\n",
            "\n",
            "/Users/ncng/Documents/Projects/Python-Beginners-Course/15-Classification-Models/../Scripts/graphing.py:490: FutureWarning:\n",
            "\n",
            "Calling float on a single element Series is deprecated and will raise a TypeError in the future. Use float(ser.iloc[0]) instead\n",
            "\n",
            "/Users/ncng/Documents/Projects/Python-Beginners-Course/15-Classification-Models/../Scripts/graphing.py:490: FutureWarning:\n",
            "\n",
            "Calling float on a single element Series is deprecated and will raise a TypeError in the future. Use float(ser.iloc[0]) instead\n",
            "\n",
            "/Users/ncng/Documents/Projects/Python-Beginners-Course/15-Classification-Models/../Scripts/graphing.py:490: FutureWarning:\n",
            "\n",
            "Calling float on a single element Series is deprecated and will raise a TypeError in the future. Use float(ser.iloc[0]) instead\n",
            "\n",
            "/Users/ncng/Documents/Projects/Python-Beginners-Course/15-Classification-Models/../Scripts/graphing.py:490: FutureWarning:\n",
            "\n",
            "Calling float on a single element Series is deprecated and will raise a TypeError in the future. Use float(ser.iloc[0]) instead\n",
            "\n",
            "/Users/ncng/Documents/Projects/Python-Beginners-Course/15-Classification-Models/../Scripts/graphing.py:490: FutureWarning:\n",
            "\n",
            "Calling float on a single element Series is deprecated and will raise a TypeError in the future. Use float(ser.iloc[0]) instead\n",
            "\n",
            "/Users/ncng/Documents/Projects/Python-Beginners-Course/15-Classification-Models/../Scripts/graphing.py:490: FutureWarning:\n",
            "\n",
            "Calling float on a single element Series is deprecated and will raise a TypeError in the future. Use float(ser.iloc[0]) instead\n",
            "\n",
            "/Users/ncng/Documents/Projects/Python-Beginners-Course/15-Classification-Models/../Scripts/graphing.py:490: FutureWarning:\n",
            "\n",
            "Calling float on a single element Series is deprecated and will raise a TypeError in the future. Use float(ser.iloc[0]) instead\n",
            "\n",
            "/Users/ncng/Documents/Projects/Python-Beginners-Course/15-Classification-Models/../Scripts/graphing.py:490: FutureWarning:\n",
            "\n",
            "Calling float on a single element Series is deprecated and will raise a TypeError in the future. Use float(ser.iloc[0]) instead\n",
            "\n",
            "/Users/ncng/Documents/Projects/Python-Beginners-Course/15-Classification-Models/../Scripts/graphing.py:490: FutureWarning:\n",
            "\n",
            "Calling float on a single element Series is deprecated and will raise a TypeError in the future. Use float(ser.iloc[0]) instead\n",
            "\n",
            "/Users/ncng/Documents/Projects/Python-Beginners-Course/15-Classification-Models/../Scripts/graphing.py:490: FutureWarning:\n",
            "\n",
            "Calling float on a single element Series is deprecated and will raise a TypeError in the future. Use float(ser.iloc[0]) instead\n",
            "\n",
            "/Users/ncng/Documents/Projects/Python-Beginners-Course/15-Classification-Models/../Scripts/graphing.py:490: FutureWarning:\n",
            "\n",
            "Calling float on a single element Series is deprecated and will raise a TypeError in the future. Use float(ser.iloc[0]) instead\n",
            "\n",
            "/Users/ncng/Documents/Projects/Python-Beginners-Course/15-Classification-Models/../Scripts/graphing.py:490: FutureWarning:\n",
            "\n",
            "Calling float on a single element Series is deprecated and will raise a TypeError in the future. Use float(ser.iloc[0]) instead\n",
            "\n",
            "/Users/ncng/Documents/Projects/Python-Beginners-Course/15-Classification-Models/../Scripts/graphing.py:490: FutureWarning:\n",
            "\n",
            "Calling float on a single element Series is deprecated and will raise a TypeError in the future. Use float(ser.iloc[0]) instead\n",
            "\n",
            "/Users/ncng/Documents/Projects/Python-Beginners-Course/15-Classification-Models/../Scripts/graphing.py:490: FutureWarning:\n",
            "\n",
            "Calling float on a single element Series is deprecated and will raise a TypeError in the future. Use float(ser.iloc[0]) instead\n",
            "\n",
            "/Users/ncng/Documents/Projects/Python-Beginners-Course/15-Classification-Models/../Scripts/graphing.py:490: FutureWarning:\n",
            "\n",
            "Calling float on a single element Series is deprecated and will raise a TypeError in the future. Use float(ser.iloc[0]) instead\n",
            "\n",
            "/Users/ncng/Documents/Projects/Python-Beginners-Course/15-Classification-Models/../Scripts/graphing.py:490: FutureWarning:\n",
            "\n",
            "Calling float on a single element Series is deprecated and will raise a TypeError in the future. Use float(ser.iloc[0]) instead\n",
            "\n",
            "/Users/ncng/Documents/Projects/Python-Beginners-Course/15-Classification-Models/../Scripts/graphing.py:490: FutureWarning:\n",
            "\n",
            "Calling float on a single element Series is deprecated and will raise a TypeError in the future. Use float(ser.iloc[0]) instead\n",
            "\n",
            "/Users/ncng/Documents/Projects/Python-Beginners-Course/15-Classification-Models/../Scripts/graphing.py:490: FutureWarning:\n",
            "\n",
            "Calling float on a single element Series is deprecated and will raise a TypeError in the future. Use float(ser.iloc[0]) instead\n",
            "\n",
            "/Users/ncng/Documents/Projects/Python-Beginners-Course/15-Classification-Models/../Scripts/graphing.py:490: FutureWarning:\n",
            "\n",
            "Calling float on a single element Series is deprecated and will raise a TypeError in the future. Use float(ser.iloc[0]) instead\n",
            "\n",
            "/Users/ncng/Documents/Projects/Python-Beginners-Course/15-Classification-Models/../Scripts/graphing.py:490: FutureWarning:\n",
            "\n",
            "Calling float on a single element Series is deprecated and will raise a TypeError in the future. Use float(ser.iloc[0]) instead\n",
            "\n",
            "/Users/ncng/Documents/Projects/Python-Beginners-Course/15-Classification-Models/../Scripts/graphing.py:490: FutureWarning:\n",
            "\n",
            "Calling float on a single element Series is deprecated and will raise a TypeError in the future. Use float(ser.iloc[0]) instead\n",
            "\n",
            "/Users/ncng/Documents/Projects/Python-Beginners-Course/15-Classification-Models/../Scripts/graphing.py:490: FutureWarning:\n",
            "\n",
            "Calling float on a single element Series is deprecated and will raise a TypeError in the future. Use float(ser.iloc[0]) instead\n",
            "\n",
            "/Users/ncng/Documents/Projects/Python-Beginners-Course/15-Classification-Models/../Scripts/graphing.py:490: FutureWarning:\n",
            "\n",
            "Calling float on a single element Series is deprecated and will raise a TypeError in the future. Use float(ser.iloc[0]) instead\n",
            "\n",
            "/Users/ncng/Documents/Projects/Python-Beginners-Course/15-Classification-Models/../Scripts/graphing.py:490: FutureWarning:\n",
            "\n",
            "Calling float on a single element Series is deprecated and will raise a TypeError in the future. Use float(ser.iloc[0]) instead\n",
            "\n",
            "/Users/ncng/Documents/Projects/Python-Beginners-Course/15-Classification-Models/../Scripts/graphing.py:490: FutureWarning:\n",
            "\n",
            "Calling float on a single element Series is deprecated and will raise a TypeError in the future. Use float(ser.iloc[0]) instead\n",
            "\n",
            "/Users/ncng/Documents/Projects/Python-Beginners-Course/15-Classification-Models/../Scripts/graphing.py:490: FutureWarning:\n",
            "\n",
            "Calling float on a single element Series is deprecated and will raise a TypeError in the future. Use float(ser.iloc[0]) instead\n",
            "\n",
            "/Users/ncng/Documents/Projects/Python-Beginners-Course/15-Classification-Models/../Scripts/graphing.py:490: FutureWarning:\n",
            "\n",
            "Calling float on a single element Series is deprecated and will raise a TypeError in the future. Use float(ser.iloc[0]) instead\n",
            "\n",
            "/Users/ncng/Documents/Projects/Python-Beginners-Course/15-Classification-Models/../Scripts/graphing.py:490: FutureWarning:\n",
            "\n",
            "Calling float on a single element Series is deprecated and will raise a TypeError in the future. Use float(ser.iloc[0]) instead\n",
            "\n",
            "/Users/ncng/Documents/Projects/Python-Beginners-Course/15-Classification-Models/../Scripts/graphing.py:490: FutureWarning:\n",
            "\n",
            "Calling float on a single element Series is deprecated and will raise a TypeError in the future. Use float(ser.iloc[0]) instead\n",
            "\n",
            "/Users/ncng/Documents/Projects/Python-Beginners-Course/15-Classification-Models/../Scripts/graphing.py:490: FutureWarning:\n",
            "\n",
            "Calling float on a single element Series is deprecated and will raise a TypeError in the future. Use float(ser.iloc[0]) instead\n",
            "\n",
            "/Users/ncng/Documents/Projects/Python-Beginners-Course/15-Classification-Models/../Scripts/graphing.py:490: FutureWarning:\n",
            "\n",
            "Calling float on a single element Series is deprecated and will raise a TypeError in the future. Use float(ser.iloc[0]) instead\n",
            "\n",
            "/Users/ncng/Documents/Projects/Python-Beginners-Course/15-Classification-Models/../Scripts/graphing.py:490: FutureWarning:\n",
            "\n",
            "Calling float on a single element Series is deprecated and will raise a TypeError in the future. Use float(ser.iloc[0]) instead\n",
            "\n",
            "/Users/ncng/Documents/Projects/Python-Beginners-Course/15-Classification-Models/../Scripts/graphing.py:490: FutureWarning:\n",
            "\n",
            "Calling float on a single element Series is deprecated and will raise a TypeError in the future. Use float(ser.iloc[0]) instead\n",
            "\n",
            "/Users/ncng/Documents/Projects/Python-Beginners-Course/15-Classification-Models/../Scripts/graphing.py:490: FutureWarning:\n",
            "\n",
            "Calling float on a single element Series is deprecated and will raise a TypeError in the future. Use float(ser.iloc[0]) instead\n",
            "\n",
            "/Users/ncng/Documents/Projects/Python-Beginners-Course/15-Classification-Models/../Scripts/graphing.py:490: FutureWarning:\n",
            "\n",
            "Calling float on a single element Series is deprecated and will raise a TypeError in the future. Use float(ser.iloc[0]) instead\n",
            "\n",
            "/Users/ncng/Documents/Projects/Python-Beginners-Course/15-Classification-Models/../Scripts/graphing.py:490: FutureWarning:\n",
            "\n",
            "Calling float on a single element Series is deprecated and will raise a TypeError in the future. Use float(ser.iloc[0]) instead\n",
            "\n",
            "/Users/ncng/Documents/Projects/Python-Beginners-Course/15-Classification-Models/../Scripts/graphing.py:490: FutureWarning:\n",
            "\n",
            "Calling float on a single element Series is deprecated and will raise a TypeError in the future. Use float(ser.iloc[0]) instead\n",
            "\n",
            "/Users/ncng/Documents/Projects/Python-Beginners-Course/15-Classification-Models/../Scripts/graphing.py:490: FutureWarning:\n",
            "\n",
            "Calling float on a single element Series is deprecated and will raise a TypeError in the future. Use float(ser.iloc[0]) instead\n",
            "\n",
            "/Users/ncng/Documents/Projects/Python-Beginners-Course/15-Classification-Models/../Scripts/graphing.py:490: FutureWarning:\n",
            "\n",
            "Calling float on a single element Series is deprecated and will raise a TypeError in the future. Use float(ser.iloc[0]) instead\n",
            "\n",
            "/Users/ncng/Documents/Projects/Python-Beginners-Course/15-Classification-Models/../Scripts/graphing.py:490: FutureWarning:\n",
            "\n",
            "Calling float on a single element Series is deprecated and will raise a TypeError in the future. Use float(ser.iloc[0]) instead\n",
            "\n",
            "/Users/ncng/Documents/Projects/Python-Beginners-Course/15-Classification-Models/../Scripts/graphing.py:490: FutureWarning:\n",
            "\n",
            "Calling float on a single element Series is deprecated and will raise a TypeError in the future. Use float(ser.iloc[0]) instead\n",
            "\n",
            "/Users/ncng/Documents/Projects/Python-Beginners-Course/15-Classification-Models/../Scripts/graphing.py:490: FutureWarning:\n",
            "\n",
            "Calling float on a single element Series is deprecated and will raise a TypeError in the future. Use float(ser.iloc[0]) instead\n",
            "\n",
            "/Users/ncng/Documents/Projects/Python-Beginners-Course/15-Classification-Models/../Scripts/graphing.py:490: FutureWarning:\n",
            "\n",
            "Calling float on a single element Series is deprecated and will raise a TypeError in the future. Use float(ser.iloc[0]) instead\n",
            "\n",
            "/Users/ncng/Documents/Projects/Python-Beginners-Course/15-Classification-Models/../Scripts/graphing.py:490: FutureWarning:\n",
            "\n",
            "Calling float on a single element Series is deprecated and will raise a TypeError in the future. Use float(ser.iloc[0]) instead\n",
            "\n",
            "/Users/ncng/Documents/Projects/Python-Beginners-Course/15-Classification-Models/../Scripts/graphing.py:490: FutureWarning:\n",
            "\n",
            "Calling float on a single element Series is deprecated and will raise a TypeError in the future. Use float(ser.iloc[0]) instead\n",
            "\n",
            "/Users/ncng/Documents/Projects/Python-Beginners-Course/15-Classification-Models/../Scripts/graphing.py:490: FutureWarning:\n",
            "\n",
            "Calling float on a single element Series is deprecated and will raise a TypeError in the future. Use float(ser.iloc[0]) instead\n",
            "\n",
            "/Users/ncng/Documents/Projects/Python-Beginners-Course/15-Classification-Models/../Scripts/graphing.py:490: FutureWarning:\n",
            "\n",
            "Calling float on a single element Series is deprecated and will raise a TypeError in the future. Use float(ser.iloc[0]) instead\n",
            "\n",
            "/Users/ncng/Documents/Projects/Python-Beginners-Course/15-Classification-Models/../Scripts/graphing.py:490: FutureWarning:\n",
            "\n",
            "Calling float on a single element Series is deprecated and will raise a TypeError in the future. Use float(ser.iloc[0]) instead\n",
            "\n",
            "/Users/ncng/Documents/Projects/Python-Beginners-Course/15-Classification-Models/../Scripts/graphing.py:490: FutureWarning:\n",
            "\n",
            "Calling float on a single element Series is deprecated and will raise a TypeError in the future. Use float(ser.iloc[0]) instead\n",
            "\n",
            "/Users/ncng/Documents/Projects/Python-Beginners-Course/15-Classification-Models/../Scripts/graphing.py:490: FutureWarning:\n",
            "\n",
            "Calling float on a single element Series is deprecated and will raise a TypeError in the future. Use float(ser.iloc[0]) instead\n",
            "\n",
            "/Users/ncng/Documents/Projects/Python-Beginners-Course/15-Classification-Models/../Scripts/graphing.py:490: FutureWarning:\n",
            "\n",
            "Calling float on a single element Series is deprecated and will raise a TypeError in the future. Use float(ser.iloc[0]) instead\n",
            "\n"
          ]
        },
        {
          "name": "stdout",
          "output_type": "stream",
          "text": [
            "Creating plot...\n"
          ]
        },
        {
          "name": "stderr",
          "output_type": "stream",
          "text": [
            "/Users/ncng/Documents/Projects/Python-Beginners-Course/15-Classification-Models/../Scripts/graphing.py:490: FutureWarning:\n",
            "\n",
            "Calling float on a single element Series is deprecated and will raise a TypeError in the future. Use float(ser.iloc[0]) instead\n",
            "\n",
            "/Users/ncng/Documents/Projects/Python-Beginners-Course/15-Classification-Models/../Scripts/graphing.py:490: FutureWarning:\n",
            "\n",
            "Calling float on a single element Series is deprecated and will raise a TypeError in the future. Use float(ser.iloc[0]) instead\n",
            "\n",
            "/Users/ncng/Documents/Projects/Python-Beginners-Course/15-Classification-Models/../Scripts/graphing.py:490: FutureWarning:\n",
            "\n",
            "Calling float on a single element Series is deprecated and will raise a TypeError in the future. Use float(ser.iloc[0]) instead\n",
            "\n",
            "/Users/ncng/Documents/Projects/Python-Beginners-Course/15-Classification-Models/../Scripts/graphing.py:490: FutureWarning:\n",
            "\n",
            "Calling float on a single element Series is deprecated and will raise a TypeError in the future. Use float(ser.iloc[0]) instead\n",
            "\n",
            "/Users/ncng/Documents/Projects/Python-Beginners-Course/15-Classification-Models/../Scripts/graphing.py:490: FutureWarning:\n",
            "\n",
            "Calling float on a single element Series is deprecated and will raise a TypeError in the future. Use float(ser.iloc[0]) instead\n",
            "\n",
            "/Users/ncng/Documents/Projects/Python-Beginners-Course/15-Classification-Models/../Scripts/graphing.py:490: FutureWarning:\n",
            "\n",
            "Calling float on a single element Series is deprecated and will raise a TypeError in the future. Use float(ser.iloc[0]) instead\n",
            "\n",
            "/Users/ncng/Documents/Projects/Python-Beginners-Course/15-Classification-Models/../Scripts/graphing.py:490: FutureWarning:\n",
            "\n",
            "Calling float on a single element Series is deprecated and will raise a TypeError in the future. Use float(ser.iloc[0]) instead\n",
            "\n",
            "/Users/ncng/Documents/Projects/Python-Beginners-Course/15-Classification-Models/../Scripts/graphing.py:490: FutureWarning:\n",
            "\n",
            "Calling float on a single element Series is deprecated and will raise a TypeError in the future. Use float(ser.iloc[0]) instead\n",
            "\n",
            "/Users/ncng/Documents/Projects/Python-Beginners-Course/15-Classification-Models/../Scripts/graphing.py:490: FutureWarning:\n",
            "\n",
            "Calling float on a single element Series is deprecated and will raise a TypeError in the future. Use float(ser.iloc[0]) instead\n",
            "\n",
            "/Users/ncng/Documents/Projects/Python-Beginners-Course/15-Classification-Models/../Scripts/graphing.py:490: FutureWarning:\n",
            "\n",
            "Calling float on a single element Series is deprecated and will raise a TypeError in the future. Use float(ser.iloc[0]) instead\n",
            "\n",
            "/Users/ncng/Documents/Projects/Python-Beginners-Course/15-Classification-Models/../Scripts/graphing.py:490: FutureWarning:\n",
            "\n",
            "Calling float on a single element Series is deprecated and will raise a TypeError in the future. Use float(ser.iloc[0]) instead\n",
            "\n",
            "/Users/ncng/Documents/Projects/Python-Beginners-Course/15-Classification-Models/../Scripts/graphing.py:490: FutureWarning:\n",
            "\n",
            "Calling float on a single element Series is deprecated and will raise a TypeError in the future. Use float(ser.iloc[0]) instead\n",
            "\n",
            "/Users/ncng/Documents/Projects/Python-Beginners-Course/15-Classification-Models/../Scripts/graphing.py:490: FutureWarning:\n",
            "\n",
            "Calling float on a single element Series is deprecated and will raise a TypeError in the future. Use float(ser.iloc[0]) instead\n",
            "\n",
            "/Users/ncng/Documents/Projects/Python-Beginners-Course/15-Classification-Models/../Scripts/graphing.py:490: FutureWarning:\n",
            "\n",
            "Calling float on a single element Series is deprecated and will raise a TypeError in the future. Use float(ser.iloc[0]) instead\n",
            "\n",
            "/Users/ncng/Documents/Projects/Python-Beginners-Course/15-Classification-Models/../Scripts/graphing.py:490: FutureWarning:\n",
            "\n",
            "Calling float on a single element Series is deprecated and will raise a TypeError in the future. Use float(ser.iloc[0]) instead\n",
            "\n",
            "/Users/ncng/Documents/Projects/Python-Beginners-Course/15-Classification-Models/../Scripts/graphing.py:490: FutureWarning:\n",
            "\n",
            "Calling float on a single element Series is deprecated and will raise a TypeError in the future. Use float(ser.iloc[0]) instead\n",
            "\n",
            "/Users/ncng/Documents/Projects/Python-Beginners-Course/15-Classification-Models/../Scripts/graphing.py:490: FutureWarning:\n",
            "\n",
            "Calling float on a single element Series is deprecated and will raise a TypeError in the future. Use float(ser.iloc[0]) instead\n",
            "\n",
            "/Users/ncng/Documents/Projects/Python-Beginners-Course/15-Classification-Models/../Scripts/graphing.py:490: FutureWarning:\n",
            "\n",
            "Calling float on a single element Series is deprecated and will raise a TypeError in the future. Use float(ser.iloc[0]) instead\n",
            "\n",
            "/Users/ncng/Documents/Projects/Python-Beginners-Course/15-Classification-Models/../Scripts/graphing.py:490: FutureWarning:\n",
            "\n",
            "Calling float on a single element Series is deprecated and will raise a TypeError in the future. Use float(ser.iloc[0]) instead\n",
            "\n",
            "/Users/ncng/Documents/Projects/Python-Beginners-Course/15-Classification-Models/../Scripts/graphing.py:490: FutureWarning:\n",
            "\n",
            "Calling float on a single element Series is deprecated and will raise a TypeError in the future. Use float(ser.iloc[0]) instead\n",
            "\n",
            "/Users/ncng/Documents/Projects/Python-Beginners-Course/15-Classification-Models/../Scripts/graphing.py:490: FutureWarning:\n",
            "\n",
            "Calling float on a single element Series is deprecated and will raise a TypeError in the future. Use float(ser.iloc[0]) instead\n",
            "\n",
            "/Users/ncng/Documents/Projects/Python-Beginners-Course/15-Classification-Models/../Scripts/graphing.py:490: FutureWarning:\n",
            "\n",
            "Calling float on a single element Series is deprecated and will raise a TypeError in the future. Use float(ser.iloc[0]) instead\n",
            "\n",
            "/Users/ncng/Documents/Projects/Python-Beginners-Course/15-Classification-Models/../Scripts/graphing.py:490: FutureWarning:\n",
            "\n",
            "Calling float on a single element Series is deprecated and will raise a TypeError in the future. Use float(ser.iloc[0]) instead\n",
            "\n",
            "/Users/ncng/Documents/Projects/Python-Beginners-Course/15-Classification-Models/../Scripts/graphing.py:490: FutureWarning:\n",
            "\n",
            "Calling float on a single element Series is deprecated and will raise a TypeError in the future. Use float(ser.iloc[0]) instead\n",
            "\n",
            "/Users/ncng/Documents/Projects/Python-Beginners-Course/15-Classification-Models/../Scripts/graphing.py:490: FutureWarning:\n",
            "\n",
            "Calling float on a single element Series is deprecated and will raise a TypeError in the future. Use float(ser.iloc[0]) instead\n",
            "\n",
            "/Users/ncng/Documents/Projects/Python-Beginners-Course/15-Classification-Models/../Scripts/graphing.py:490: FutureWarning:\n",
            "\n",
            "Calling float on a single element Series is deprecated and will raise a TypeError in the future. Use float(ser.iloc[0]) instead\n",
            "\n",
            "/Users/ncng/Documents/Projects/Python-Beginners-Course/15-Classification-Models/../Scripts/graphing.py:490: FutureWarning:\n",
            "\n",
            "Calling float on a single element Series is deprecated and will raise a TypeError in the future. Use float(ser.iloc[0]) instead\n",
            "\n",
            "/Users/ncng/Documents/Projects/Python-Beginners-Course/15-Classification-Models/../Scripts/graphing.py:490: FutureWarning:\n",
            "\n",
            "Calling float on a single element Series is deprecated and will raise a TypeError in the future. Use float(ser.iloc[0]) instead\n",
            "\n",
            "/Users/ncng/Documents/Projects/Python-Beginners-Course/15-Classification-Models/../Scripts/graphing.py:490: FutureWarning:\n",
            "\n",
            "Calling float on a single element Series is deprecated and will raise a TypeError in the future. Use float(ser.iloc[0]) instead\n",
            "\n",
            "/Users/ncng/Documents/Projects/Python-Beginners-Course/15-Classification-Models/../Scripts/graphing.py:490: FutureWarning:\n",
            "\n",
            "Calling float on a single element Series is deprecated and will raise a TypeError in the future. Use float(ser.iloc[0]) instead\n",
            "\n",
            "/Users/ncng/Documents/Projects/Python-Beginners-Course/15-Classification-Models/../Scripts/graphing.py:490: FutureWarning:\n",
            "\n",
            "Calling float on a single element Series is deprecated and will raise a TypeError in the future. Use float(ser.iloc[0]) instead\n",
            "\n",
            "/Users/ncng/Documents/Projects/Python-Beginners-Course/15-Classification-Models/../Scripts/graphing.py:490: FutureWarning:\n",
            "\n",
            "Calling float on a single element Series is deprecated and will raise a TypeError in the future. Use float(ser.iloc[0]) instead\n",
            "\n",
            "/Users/ncng/Documents/Projects/Python-Beginners-Course/15-Classification-Models/../Scripts/graphing.py:490: FutureWarning:\n",
            "\n",
            "Calling float on a single element Series is deprecated and will raise a TypeError in the future. Use float(ser.iloc[0]) instead\n",
            "\n",
            "/Users/ncng/Documents/Projects/Python-Beginners-Course/15-Classification-Models/../Scripts/graphing.py:490: FutureWarning:\n",
            "\n",
            "Calling float on a single element Series is deprecated and will raise a TypeError in the future. Use float(ser.iloc[0]) instead\n",
            "\n",
            "/Users/ncng/Documents/Projects/Python-Beginners-Course/15-Classification-Models/../Scripts/graphing.py:490: FutureWarning:\n",
            "\n",
            "Calling float on a single element Series is deprecated and will raise a TypeError in the future. Use float(ser.iloc[0]) instead\n",
            "\n",
            "/Users/ncng/Documents/Projects/Python-Beginners-Course/15-Classification-Models/../Scripts/graphing.py:490: FutureWarning:\n",
            "\n",
            "Calling float on a single element Series is deprecated and will raise a TypeError in the future. Use float(ser.iloc[0]) instead\n",
            "\n",
            "/Users/ncng/Documents/Projects/Python-Beginners-Course/15-Classification-Models/../Scripts/graphing.py:490: FutureWarning:\n",
            "\n",
            "Calling float on a single element Series is deprecated and will raise a TypeError in the future. Use float(ser.iloc[0]) instead\n",
            "\n",
            "/Users/ncng/Documents/Projects/Python-Beginners-Course/15-Classification-Models/../Scripts/graphing.py:490: FutureWarning:\n",
            "\n",
            "Calling float on a single element Series is deprecated and will raise a TypeError in the future. Use float(ser.iloc[0]) instead\n",
            "\n",
            "/Users/ncng/Documents/Projects/Python-Beginners-Course/15-Classification-Models/../Scripts/graphing.py:490: FutureWarning:\n",
            "\n",
            "Calling float on a single element Series is deprecated and will raise a TypeError in the future. Use float(ser.iloc[0]) instead\n",
            "\n",
            "/Users/ncng/Documents/Projects/Python-Beginners-Course/15-Classification-Models/../Scripts/graphing.py:490: FutureWarning:\n",
            "\n",
            "Calling float on a single element Series is deprecated and will raise a TypeError in the future. Use float(ser.iloc[0]) instead\n",
            "\n",
            "/Users/ncng/Documents/Projects/Python-Beginners-Course/15-Classification-Models/../Scripts/graphing.py:490: FutureWarning:\n",
            "\n",
            "Calling float on a single element Series is deprecated and will raise a TypeError in the future. Use float(ser.iloc[0]) instead\n",
            "\n",
            "/Users/ncng/Documents/Projects/Python-Beginners-Course/15-Classification-Models/../Scripts/graphing.py:490: FutureWarning:\n",
            "\n",
            "Calling float on a single element Series is deprecated and will raise a TypeError in the future. Use float(ser.iloc[0]) instead\n",
            "\n",
            "/Users/ncng/Documents/Projects/Python-Beginners-Course/15-Classification-Models/../Scripts/graphing.py:490: FutureWarning:\n",
            "\n",
            "Calling float on a single element Series is deprecated and will raise a TypeError in the future. Use float(ser.iloc[0]) instead\n",
            "\n",
            "/Users/ncng/Documents/Projects/Python-Beginners-Course/15-Classification-Models/../Scripts/graphing.py:490: FutureWarning:\n",
            "\n",
            "Calling float on a single element Series is deprecated and will raise a TypeError in the future. Use float(ser.iloc[0]) instead\n",
            "\n",
            "/Users/ncng/Documents/Projects/Python-Beginners-Course/15-Classification-Models/../Scripts/graphing.py:490: FutureWarning:\n",
            "\n",
            "Calling float on a single element Series is deprecated and will raise a TypeError in the future. Use float(ser.iloc[0]) instead\n",
            "\n",
            "/Users/ncng/Documents/Projects/Python-Beginners-Course/15-Classification-Models/../Scripts/graphing.py:490: FutureWarning:\n",
            "\n",
            "Calling float on a single element Series is deprecated and will raise a TypeError in the future. Use float(ser.iloc[0]) instead\n",
            "\n",
            "/Users/ncng/Documents/Projects/Python-Beginners-Course/15-Classification-Models/../Scripts/graphing.py:490: FutureWarning:\n",
            "\n",
            "Calling float on a single element Series is deprecated and will raise a TypeError in the future. Use float(ser.iloc[0]) instead\n",
            "\n",
            "/Users/ncng/Documents/Projects/Python-Beginners-Course/15-Classification-Models/../Scripts/graphing.py:490: FutureWarning:\n",
            "\n",
            "Calling float on a single element Series is deprecated and will raise a TypeError in the future. Use float(ser.iloc[0]) instead\n",
            "\n",
            "/Users/ncng/Documents/Projects/Python-Beginners-Course/15-Classification-Models/../Scripts/graphing.py:490: FutureWarning:\n",
            "\n",
            "Calling float on a single element Series is deprecated and will raise a TypeError in the future. Use float(ser.iloc[0]) instead\n",
            "\n",
            "/Users/ncng/Documents/Projects/Python-Beginners-Course/15-Classification-Models/../Scripts/graphing.py:490: FutureWarning:\n",
            "\n",
            "Calling float on a single element Series is deprecated and will raise a TypeError in the future. Use float(ser.iloc[0]) instead\n",
            "\n",
            "/Users/ncng/Documents/Projects/Python-Beginners-Course/15-Classification-Models/../Scripts/graphing.py:490: FutureWarning:\n",
            "\n",
            "Calling float on a single element Series is deprecated and will raise a TypeError in the future. Use float(ser.iloc[0]) instead\n",
            "\n",
            "/Users/ncng/Documents/Projects/Python-Beginners-Course/15-Classification-Models/../Scripts/graphing.py:490: FutureWarning:\n",
            "\n",
            "Calling float on a single element Series is deprecated and will raise a TypeError in the future. Use float(ser.iloc[0]) instead\n",
            "\n",
            "/Users/ncng/Documents/Projects/Python-Beginners-Course/15-Classification-Models/../Scripts/graphing.py:490: FutureWarning:\n",
            "\n",
            "Calling float on a single element Series is deprecated and will raise a TypeError in the future. Use float(ser.iloc[0]) instead\n",
            "\n",
            "/Users/ncng/Documents/Projects/Python-Beginners-Course/15-Classification-Models/../Scripts/graphing.py:490: FutureWarning:\n",
            "\n",
            "Calling float on a single element Series is deprecated and will raise a TypeError in the future. Use float(ser.iloc[0]) instead\n",
            "\n",
            "/Users/ncng/Documents/Projects/Python-Beginners-Course/15-Classification-Models/../Scripts/graphing.py:490: FutureWarning:\n",
            "\n",
            "Calling float on a single element Series is deprecated and will raise a TypeError in the future. Use float(ser.iloc[0]) instead\n",
            "\n",
            "/Users/ncng/Documents/Projects/Python-Beginners-Course/15-Classification-Models/../Scripts/graphing.py:490: FutureWarning:\n",
            "\n",
            "Calling float on a single element Series is deprecated and will raise a TypeError in the future. Use float(ser.iloc[0]) instead\n",
            "\n",
            "/Users/ncng/Documents/Projects/Python-Beginners-Course/15-Classification-Models/../Scripts/graphing.py:490: FutureWarning:\n",
            "\n",
            "Calling float on a single element Series is deprecated and will raise a TypeError in the future. Use float(ser.iloc[0]) instead\n",
            "\n",
            "/Users/ncng/Documents/Projects/Python-Beginners-Course/15-Classification-Models/../Scripts/graphing.py:490: FutureWarning:\n",
            "\n",
            "Calling float on a single element Series is deprecated and will raise a TypeError in the future. Use float(ser.iloc[0]) instead\n",
            "\n",
            "/Users/ncng/Documents/Projects/Python-Beginners-Course/15-Classification-Models/../Scripts/graphing.py:490: FutureWarning:\n",
            "\n",
            "Calling float on a single element Series is deprecated and will raise a TypeError in the future. Use float(ser.iloc[0]) instead\n",
            "\n",
            "/Users/ncng/Documents/Projects/Python-Beginners-Course/15-Classification-Models/../Scripts/graphing.py:490: FutureWarning:\n",
            "\n",
            "Calling float on a single element Series is deprecated and will raise a TypeError in the future. Use float(ser.iloc[0]) instead\n",
            "\n",
            "/Users/ncng/Documents/Projects/Python-Beginners-Course/15-Classification-Models/../Scripts/graphing.py:490: FutureWarning:\n",
            "\n",
            "Calling float on a single element Series is deprecated and will raise a TypeError in the future. Use float(ser.iloc[0]) instead\n",
            "\n",
            "/Users/ncng/Documents/Projects/Python-Beginners-Course/15-Classification-Models/../Scripts/graphing.py:490: FutureWarning:\n",
            "\n",
            "Calling float on a single element Series is deprecated and will raise a TypeError in the future. Use float(ser.iloc[0]) instead\n",
            "\n",
            "/Users/ncng/Documents/Projects/Python-Beginners-Course/15-Classification-Models/../Scripts/graphing.py:490: FutureWarning:\n",
            "\n",
            "Calling float on a single element Series is deprecated and will raise a TypeError in the future. Use float(ser.iloc[0]) instead\n",
            "\n",
            "/Users/ncng/Documents/Projects/Python-Beginners-Course/15-Classification-Models/../Scripts/graphing.py:490: FutureWarning:\n",
            "\n",
            "Calling float on a single element Series is deprecated and will raise a TypeError in the future. Use float(ser.iloc[0]) instead\n",
            "\n",
            "/Users/ncng/Documents/Projects/Python-Beginners-Course/15-Classification-Models/../Scripts/graphing.py:490: FutureWarning:\n",
            "\n",
            "Calling float on a single element Series is deprecated and will raise a TypeError in the future. Use float(ser.iloc[0]) instead\n",
            "\n",
            "/Users/ncng/Documents/Projects/Python-Beginners-Course/15-Classification-Models/../Scripts/graphing.py:490: FutureWarning:\n",
            "\n",
            "Calling float on a single element Series is deprecated and will raise a TypeError in the future. Use float(ser.iloc[0]) instead\n",
            "\n",
            "/Users/ncng/Documents/Projects/Python-Beginners-Course/15-Classification-Models/../Scripts/graphing.py:490: FutureWarning:\n",
            "\n",
            "Calling float on a single element Series is deprecated and will raise a TypeError in the future. Use float(ser.iloc[0]) instead\n",
            "\n",
            "/Users/ncng/Documents/Projects/Python-Beginners-Course/15-Classification-Models/../Scripts/graphing.py:490: FutureWarning:\n",
            "\n",
            "Calling float on a single element Series is deprecated and will raise a TypeError in the future. Use float(ser.iloc[0]) instead\n",
            "\n",
            "/Users/ncng/Documents/Projects/Python-Beginners-Course/15-Classification-Models/../Scripts/graphing.py:490: FutureWarning:\n",
            "\n",
            "Calling float on a single element Series is deprecated and will raise a TypeError in the future. Use float(ser.iloc[0]) instead\n",
            "\n",
            "/Users/ncng/Documents/Projects/Python-Beginners-Course/15-Classification-Models/../Scripts/graphing.py:490: FutureWarning:\n",
            "\n",
            "Calling float on a single element Series is deprecated and will raise a TypeError in the future. Use float(ser.iloc[0]) instead\n",
            "\n",
            "/Users/ncng/Documents/Projects/Python-Beginners-Course/15-Classification-Models/../Scripts/graphing.py:490: FutureWarning:\n",
            "\n",
            "Calling float on a single element Series is deprecated and will raise a TypeError in the future. Use float(ser.iloc[0]) instead\n",
            "\n",
            "/Users/ncng/Documents/Projects/Python-Beginners-Course/15-Classification-Models/../Scripts/graphing.py:490: FutureWarning:\n",
            "\n",
            "Calling float on a single element Series is deprecated and will raise a TypeError in the future. Use float(ser.iloc[0]) instead\n",
            "\n",
            "/Users/ncng/Documents/Projects/Python-Beginners-Course/15-Classification-Models/../Scripts/graphing.py:490: FutureWarning:\n",
            "\n",
            "Calling float on a single element Series is deprecated and will raise a TypeError in the future. Use float(ser.iloc[0]) instead\n",
            "\n",
            "/Users/ncng/Documents/Projects/Python-Beginners-Course/15-Classification-Models/../Scripts/graphing.py:490: FutureWarning:\n",
            "\n",
            "Calling float on a single element Series is deprecated and will raise a TypeError in the future. Use float(ser.iloc[0]) instead\n",
            "\n",
            "/Users/ncng/Documents/Projects/Python-Beginners-Course/15-Classification-Models/../Scripts/graphing.py:490: FutureWarning:\n",
            "\n",
            "Calling float on a single element Series is deprecated and will raise a TypeError in the future. Use float(ser.iloc[0]) instead\n",
            "\n",
            "/Users/ncng/Documents/Projects/Python-Beginners-Course/15-Classification-Models/../Scripts/graphing.py:490: FutureWarning:\n",
            "\n",
            "Calling float on a single element Series is deprecated and will raise a TypeError in the future. Use float(ser.iloc[0]) instead\n",
            "\n",
            "/Users/ncng/Documents/Projects/Python-Beginners-Course/15-Classification-Models/../Scripts/graphing.py:490: FutureWarning:\n",
            "\n",
            "Calling float on a single element Series is deprecated and will raise a TypeError in the future. Use float(ser.iloc[0]) instead\n",
            "\n",
            "/Users/ncng/Documents/Projects/Python-Beginners-Course/15-Classification-Models/../Scripts/graphing.py:490: FutureWarning:\n",
            "\n",
            "Calling float on a single element Series is deprecated and will raise a TypeError in the future. Use float(ser.iloc[0]) instead\n",
            "\n",
            "/Users/ncng/Documents/Projects/Python-Beginners-Course/15-Classification-Models/../Scripts/graphing.py:490: FutureWarning:\n",
            "\n",
            "Calling float on a single element Series is deprecated and will raise a TypeError in the future. Use float(ser.iloc[0]) instead\n",
            "\n",
            "/Users/ncng/Documents/Projects/Python-Beginners-Course/15-Classification-Models/../Scripts/graphing.py:490: FutureWarning:\n",
            "\n",
            "Calling float on a single element Series is deprecated and will raise a TypeError in the future. Use float(ser.iloc[0]) instead\n",
            "\n",
            "/Users/ncng/Documents/Projects/Python-Beginners-Course/15-Classification-Models/../Scripts/graphing.py:490: FutureWarning:\n",
            "\n",
            "Calling float on a single element Series is deprecated and will raise a TypeError in the future. Use float(ser.iloc[0]) instead\n",
            "\n",
            "/Users/ncng/Documents/Projects/Python-Beginners-Course/15-Classification-Models/../Scripts/graphing.py:490: FutureWarning:\n",
            "\n",
            "Calling float on a single element Series is deprecated and will raise a TypeError in the future. Use float(ser.iloc[0]) instead\n",
            "\n",
            "/Users/ncng/Documents/Projects/Python-Beginners-Course/15-Classification-Models/../Scripts/graphing.py:490: FutureWarning:\n",
            "\n",
            "Calling float on a single element Series is deprecated and will raise a TypeError in the future. Use float(ser.iloc[0]) instead\n",
            "\n",
            "/Users/ncng/Documents/Projects/Python-Beginners-Course/15-Classification-Models/../Scripts/graphing.py:490: FutureWarning:\n",
            "\n",
            "Calling float on a single element Series is deprecated and will raise a TypeError in the future. Use float(ser.iloc[0]) instead\n",
            "\n",
            "/Users/ncng/Documents/Projects/Python-Beginners-Course/15-Classification-Models/../Scripts/graphing.py:490: FutureWarning:\n",
            "\n",
            "Calling float on a single element Series is deprecated and will raise a TypeError in the future. Use float(ser.iloc[0]) instead\n",
            "\n",
            "/Users/ncng/Documents/Projects/Python-Beginners-Course/15-Classification-Models/../Scripts/graphing.py:490: FutureWarning:\n",
            "\n",
            "Calling float on a single element Series is deprecated and will raise a TypeError in the future. Use float(ser.iloc[0]) instead\n",
            "\n",
            "/Users/ncng/Documents/Projects/Python-Beginners-Course/15-Classification-Models/../Scripts/graphing.py:490: FutureWarning:\n",
            "\n",
            "Calling float on a single element Series is deprecated and will raise a TypeError in the future. Use float(ser.iloc[0]) instead\n",
            "\n",
            "/Users/ncng/Documents/Projects/Python-Beginners-Course/15-Classification-Models/../Scripts/graphing.py:490: FutureWarning:\n",
            "\n",
            "Calling float on a single element Series is deprecated and will raise a TypeError in the future. Use float(ser.iloc[0]) instead\n",
            "\n",
            "/Users/ncng/Documents/Projects/Python-Beginners-Course/15-Classification-Models/../Scripts/graphing.py:490: FutureWarning:\n",
            "\n",
            "Calling float on a single element Series is deprecated and will raise a TypeError in the future. Use float(ser.iloc[0]) instead\n",
            "\n",
            "/Users/ncng/Documents/Projects/Python-Beginners-Course/15-Classification-Models/../Scripts/graphing.py:490: FutureWarning:\n",
            "\n",
            "Calling float on a single element Series is deprecated and will raise a TypeError in the future. Use float(ser.iloc[0]) instead\n",
            "\n",
            "/Users/ncng/Documents/Projects/Python-Beginners-Course/15-Classification-Models/../Scripts/graphing.py:490: FutureWarning:\n",
            "\n",
            "Calling float on a single element Series is deprecated and will raise a TypeError in the future. Use float(ser.iloc[0]) instead\n",
            "\n",
            "/Users/ncng/Documents/Projects/Python-Beginners-Course/15-Classification-Models/../Scripts/graphing.py:490: FutureWarning:\n",
            "\n",
            "Calling float on a single element Series is deprecated and will raise a TypeError in the future. Use float(ser.iloc[0]) instead\n",
            "\n",
            "/Users/ncng/Documents/Projects/Python-Beginners-Course/15-Classification-Models/../Scripts/graphing.py:490: FutureWarning:\n",
            "\n",
            "Calling float on a single element Series is deprecated and will raise a TypeError in the future. Use float(ser.iloc[0]) instead\n",
            "\n",
            "/Users/ncng/Documents/Projects/Python-Beginners-Course/15-Classification-Models/../Scripts/graphing.py:490: FutureWarning:\n",
            "\n",
            "Calling float on a single element Series is deprecated and will raise a TypeError in the future. Use float(ser.iloc[0]) instead\n",
            "\n",
            "/Users/ncng/Documents/Projects/Python-Beginners-Course/15-Classification-Models/../Scripts/graphing.py:490: FutureWarning:\n",
            "\n",
            "Calling float on a single element Series is deprecated and will raise a TypeError in the future. Use float(ser.iloc[0]) instead\n",
            "\n",
            "/Users/ncng/Documents/Projects/Python-Beginners-Course/15-Classification-Models/../Scripts/graphing.py:490: FutureWarning:\n",
            "\n",
            "Calling float on a single element Series is deprecated and will raise a TypeError in the future. Use float(ser.iloc[0]) instead\n",
            "\n",
            "/Users/ncng/Documents/Projects/Python-Beginners-Course/15-Classification-Models/../Scripts/graphing.py:490: FutureWarning:\n",
            "\n",
            "Calling float on a single element Series is deprecated and will raise a TypeError in the future. Use float(ser.iloc[0]) instead\n",
            "\n",
            "/Users/ncng/Documents/Projects/Python-Beginners-Course/15-Classification-Models/../Scripts/graphing.py:490: FutureWarning:\n",
            "\n",
            "Calling float on a single element Series is deprecated and will raise a TypeError in the future. Use float(ser.iloc[0]) instead\n",
            "\n",
            "/Users/ncng/Documents/Projects/Python-Beginners-Course/15-Classification-Models/../Scripts/graphing.py:490: FutureWarning:\n",
            "\n",
            "Calling float on a single element Series is deprecated and will raise a TypeError in the future. Use float(ser.iloc[0]) instead\n",
            "\n",
            "/Users/ncng/Documents/Projects/Python-Beginners-Course/15-Classification-Models/../Scripts/graphing.py:490: FutureWarning:\n",
            "\n",
            "Calling float on a single element Series is deprecated and will raise a TypeError in the future. Use float(ser.iloc[0]) instead\n",
            "\n",
            "/Users/ncng/Documents/Projects/Python-Beginners-Course/15-Classification-Models/../Scripts/graphing.py:490: FutureWarning:\n",
            "\n",
            "Calling float on a single element Series is deprecated and will raise a TypeError in the future. Use float(ser.iloc[0]) instead\n",
            "\n",
            "/Users/ncng/Documents/Projects/Python-Beginners-Course/15-Classification-Models/../Scripts/graphing.py:490: FutureWarning:\n",
            "\n",
            "Calling float on a single element Series is deprecated and will raise a TypeError in the future. Use float(ser.iloc[0]) instead\n",
            "\n",
            "/Users/ncng/Documents/Projects/Python-Beginners-Course/15-Classification-Models/../Scripts/graphing.py:490: FutureWarning:\n",
            "\n",
            "Calling float on a single element Series is deprecated and will raise a TypeError in the future. Use float(ser.iloc[0]) instead\n",
            "\n",
            "/Users/ncng/Documents/Projects/Python-Beginners-Course/15-Classification-Models/../Scripts/graphing.py:490: FutureWarning:\n",
            "\n",
            "Calling float on a single element Series is deprecated and will raise a TypeError in the future. Use float(ser.iloc[0]) instead\n",
            "\n",
            "/Users/ncng/Documents/Projects/Python-Beginners-Course/15-Classification-Models/../Scripts/graphing.py:490: FutureWarning:\n",
            "\n",
            "Calling float on a single element Series is deprecated and will raise a TypeError in the future. Use float(ser.iloc[0]) instead\n",
            "\n",
            "/Users/ncng/Documents/Projects/Python-Beginners-Course/15-Classification-Models/../Scripts/graphing.py:490: FutureWarning:\n",
            "\n",
            "Calling float on a single element Series is deprecated and will raise a TypeError in the future. Use float(ser.iloc[0]) instead\n",
            "\n",
            "/Users/ncng/Documents/Projects/Python-Beginners-Course/15-Classification-Models/../Scripts/graphing.py:490: FutureWarning:\n",
            "\n",
            "Calling float on a single element Series is deprecated and will raise a TypeError in the future. Use float(ser.iloc[0]) instead\n",
            "\n",
            "/Users/ncng/Documents/Projects/Python-Beginners-Course/15-Classification-Models/../Scripts/graphing.py:490: FutureWarning:\n",
            "\n",
            "Calling float on a single element Series is deprecated and will raise a TypeError in the future. Use float(ser.iloc[0]) instead\n",
            "\n",
            "/Users/ncng/Documents/Projects/Python-Beginners-Course/15-Classification-Models/../Scripts/graphing.py:490: FutureWarning:\n",
            "\n",
            "Calling float on a single element Series is deprecated and will raise a TypeError in the future. Use float(ser.iloc[0]) instead\n",
            "\n",
            "/Users/ncng/Documents/Projects/Python-Beginners-Course/15-Classification-Models/../Scripts/graphing.py:490: FutureWarning:\n",
            "\n",
            "Calling float on a single element Series is deprecated and will raise a TypeError in the future. Use float(ser.iloc[0]) instead\n",
            "\n",
            "/Users/ncng/Documents/Projects/Python-Beginners-Course/15-Classification-Models/../Scripts/graphing.py:490: FutureWarning:\n",
            "\n",
            "Calling float on a single element Series is deprecated and will raise a TypeError in the future. Use float(ser.iloc[0]) instead\n",
            "\n",
            "/Users/ncng/Documents/Projects/Python-Beginners-Course/15-Classification-Models/../Scripts/graphing.py:490: FutureWarning:\n",
            "\n",
            "Calling float on a single element Series is deprecated and will raise a TypeError in the future. Use float(ser.iloc[0]) instead\n",
            "\n",
            "/Users/ncng/Documents/Projects/Python-Beginners-Course/15-Classification-Models/../Scripts/graphing.py:490: FutureWarning:\n",
            "\n",
            "Calling float on a single element Series is deprecated and will raise a TypeError in the future. Use float(ser.iloc[0]) instead\n",
            "\n",
            "/Users/ncng/Documents/Projects/Python-Beginners-Course/15-Classification-Models/../Scripts/graphing.py:490: FutureWarning:\n",
            "\n",
            "Calling float on a single element Series is deprecated and will raise a TypeError in the future. Use float(ser.iloc[0]) instead\n",
            "\n",
            "/Users/ncng/Documents/Projects/Python-Beginners-Course/15-Classification-Models/../Scripts/graphing.py:490: FutureWarning:\n",
            "\n",
            "Calling float on a single element Series is deprecated and will raise a TypeError in the future. Use float(ser.iloc[0]) instead\n",
            "\n",
            "/Users/ncng/Documents/Projects/Python-Beginners-Course/15-Classification-Models/../Scripts/graphing.py:490: FutureWarning:\n",
            "\n",
            "Calling float on a single element Series is deprecated and will raise a TypeError in the future. Use float(ser.iloc[0]) instead\n",
            "\n",
            "/Users/ncng/Documents/Projects/Python-Beginners-Course/15-Classification-Models/../Scripts/graphing.py:490: FutureWarning:\n",
            "\n",
            "Calling float on a single element Series is deprecated and will raise a TypeError in the future. Use float(ser.iloc[0]) instead\n",
            "\n",
            "/Users/ncng/Documents/Projects/Python-Beginners-Course/15-Classification-Models/../Scripts/graphing.py:490: FutureWarning:\n",
            "\n",
            "Calling float on a single element Series is deprecated and will raise a TypeError in the future. Use float(ser.iloc[0]) instead\n",
            "\n",
            "/Users/ncng/Documents/Projects/Python-Beginners-Course/15-Classification-Models/../Scripts/graphing.py:490: FutureWarning:\n",
            "\n",
            "Calling float on a single element Series is deprecated and will raise a TypeError in the future. Use float(ser.iloc[0]) instead\n",
            "\n",
            "/Users/ncng/Documents/Projects/Python-Beginners-Course/15-Classification-Models/../Scripts/graphing.py:490: FutureWarning:\n",
            "\n",
            "Calling float on a single element Series is deprecated and will raise a TypeError in the future. Use float(ser.iloc[0]) instead\n",
            "\n",
            "/Users/ncng/Documents/Projects/Python-Beginners-Course/15-Classification-Models/../Scripts/graphing.py:490: FutureWarning:\n",
            "\n",
            "Calling float on a single element Series is deprecated and will raise a TypeError in the future. Use float(ser.iloc[0]) instead\n",
            "\n",
            "/Users/ncng/Documents/Projects/Python-Beginners-Course/15-Classification-Models/../Scripts/graphing.py:490: FutureWarning:\n",
            "\n",
            "Calling float on a single element Series is deprecated and will raise a TypeError in the future. Use float(ser.iloc[0]) instead\n",
            "\n",
            "/Users/ncng/Documents/Projects/Python-Beginners-Course/15-Classification-Models/../Scripts/graphing.py:490: FutureWarning:\n",
            "\n",
            "Calling float on a single element Series is deprecated and will raise a TypeError in the future. Use float(ser.iloc[0]) instead\n",
            "\n",
            "/Users/ncng/Documents/Projects/Python-Beginners-Course/15-Classification-Models/../Scripts/graphing.py:490: FutureWarning:\n",
            "\n",
            "Calling float on a single element Series is deprecated and will raise a TypeError in the future. Use float(ser.iloc[0]) instead\n",
            "\n",
            "/Users/ncng/Documents/Projects/Python-Beginners-Course/15-Classification-Models/../Scripts/graphing.py:490: FutureWarning:\n",
            "\n",
            "Calling float on a single element Series is deprecated and will raise a TypeError in the future. Use float(ser.iloc[0]) instead\n",
            "\n",
            "/Users/ncng/Documents/Projects/Python-Beginners-Course/15-Classification-Models/../Scripts/graphing.py:490: FutureWarning:\n",
            "\n",
            "Calling float on a single element Series is deprecated and will raise a TypeError in the future. Use float(ser.iloc[0]) instead\n",
            "\n",
            "/Users/ncng/Documents/Projects/Python-Beginners-Course/15-Classification-Models/../Scripts/graphing.py:490: FutureWarning:\n",
            "\n",
            "Calling float on a single element Series is deprecated and will raise a TypeError in the future. Use float(ser.iloc[0]) instead\n",
            "\n",
            "/Users/ncng/Documents/Projects/Python-Beginners-Course/15-Classification-Models/../Scripts/graphing.py:490: FutureWarning:\n",
            "\n",
            "Calling float on a single element Series is deprecated and will raise a TypeError in the future. Use float(ser.iloc[0]) instead\n",
            "\n",
            "/Users/ncng/Documents/Projects/Python-Beginners-Course/15-Classification-Models/../Scripts/graphing.py:490: FutureWarning:\n",
            "\n",
            "Calling float on a single element Series is deprecated and will raise a TypeError in the future. Use float(ser.iloc[0]) instead\n",
            "\n",
            "/Users/ncng/Documents/Projects/Python-Beginners-Course/15-Classification-Models/../Scripts/graphing.py:490: FutureWarning:\n",
            "\n",
            "Calling float on a single element Series is deprecated and will raise a TypeError in the future. Use float(ser.iloc[0]) instead\n",
            "\n",
            "/Users/ncng/Documents/Projects/Python-Beginners-Course/15-Classification-Models/../Scripts/graphing.py:490: FutureWarning:\n",
            "\n",
            "Calling float on a single element Series is deprecated and will raise a TypeError in the future. Use float(ser.iloc[0]) instead\n",
            "\n",
            "/Users/ncng/Documents/Projects/Python-Beginners-Course/15-Classification-Models/../Scripts/graphing.py:490: FutureWarning:\n",
            "\n",
            "Calling float on a single element Series is deprecated and will raise a TypeError in the future. Use float(ser.iloc[0]) instead\n",
            "\n",
            "/Users/ncng/Documents/Projects/Python-Beginners-Course/15-Classification-Models/../Scripts/graphing.py:490: FutureWarning:\n",
            "\n",
            "Calling float on a single element Series is deprecated and will raise a TypeError in the future. Use float(ser.iloc[0]) instead\n",
            "\n",
            "/Users/ncng/Documents/Projects/Python-Beginners-Course/15-Classification-Models/../Scripts/graphing.py:490: FutureWarning:\n",
            "\n",
            "Calling float on a single element Series is deprecated and will raise a TypeError in the future. Use float(ser.iloc[0]) instead\n",
            "\n",
            "/Users/ncng/Documents/Projects/Python-Beginners-Course/15-Classification-Models/../Scripts/graphing.py:490: FutureWarning:\n",
            "\n",
            "Calling float on a single element Series is deprecated and will raise a TypeError in the future. Use float(ser.iloc[0]) instead\n",
            "\n",
            "/Users/ncng/Documents/Projects/Python-Beginners-Course/15-Classification-Models/../Scripts/graphing.py:490: FutureWarning:\n",
            "\n",
            "Calling float on a single element Series is deprecated and will raise a TypeError in the future. Use float(ser.iloc[0]) instead\n",
            "\n",
            "/Users/ncng/Documents/Projects/Python-Beginners-Course/15-Classification-Models/../Scripts/graphing.py:490: FutureWarning:\n",
            "\n",
            "Calling float on a single element Series is deprecated and will raise a TypeError in the future. Use float(ser.iloc[0]) instead\n",
            "\n",
            "/Users/ncng/Documents/Projects/Python-Beginners-Course/15-Classification-Models/../Scripts/graphing.py:490: FutureWarning:\n",
            "\n",
            "Calling float on a single element Series is deprecated and will raise a TypeError in the future. Use float(ser.iloc[0]) instead\n",
            "\n",
            "/Users/ncng/Documents/Projects/Python-Beginners-Course/15-Classification-Models/../Scripts/graphing.py:490: FutureWarning:\n",
            "\n",
            "Calling float on a single element Series is deprecated and will raise a TypeError in the future. Use float(ser.iloc[0]) instead\n",
            "\n",
            "/Users/ncng/Documents/Projects/Python-Beginners-Course/15-Classification-Models/../Scripts/graphing.py:490: FutureWarning:\n",
            "\n",
            "Calling float on a single element Series is deprecated and will raise a TypeError in the future. Use float(ser.iloc[0]) instead\n",
            "\n",
            "/Users/ncng/Documents/Projects/Python-Beginners-Course/15-Classification-Models/../Scripts/graphing.py:490: FutureWarning:\n",
            "\n",
            "Calling float on a single element Series is deprecated and will raise a TypeError in the future. Use float(ser.iloc[0]) instead\n",
            "\n",
            "/Users/ncng/Documents/Projects/Python-Beginners-Course/15-Classification-Models/../Scripts/graphing.py:490: FutureWarning:\n",
            "\n",
            "Calling float on a single element Series is deprecated and will raise a TypeError in the future. Use float(ser.iloc[0]) instead\n",
            "\n",
            "/Users/ncng/Documents/Projects/Python-Beginners-Course/15-Classification-Models/../Scripts/graphing.py:490: FutureWarning:\n",
            "\n",
            "Calling float on a single element Series is deprecated and will raise a TypeError in the future. Use float(ser.iloc[0]) instead\n",
            "\n",
            "/Users/ncng/Documents/Projects/Python-Beginners-Course/15-Classification-Models/../Scripts/graphing.py:490: FutureWarning:\n",
            "\n",
            "Calling float on a single element Series is deprecated and will raise a TypeError in the future. Use float(ser.iloc[0]) instead\n",
            "\n",
            "/Users/ncng/Documents/Projects/Python-Beginners-Course/15-Classification-Models/../Scripts/graphing.py:490: FutureWarning:\n",
            "\n",
            "Calling float on a single element Series is deprecated and will raise a TypeError in the future. Use float(ser.iloc[0]) instead\n",
            "\n",
            "/Users/ncng/Documents/Projects/Python-Beginners-Course/15-Classification-Models/../Scripts/graphing.py:490: FutureWarning:\n",
            "\n",
            "Calling float on a single element Series is deprecated and will raise a TypeError in the future. Use float(ser.iloc[0]) instead\n",
            "\n",
            "/Users/ncng/Documents/Projects/Python-Beginners-Course/15-Classification-Models/../Scripts/graphing.py:490: FutureWarning:\n",
            "\n",
            "Calling float on a single element Series is deprecated and will raise a TypeError in the future. Use float(ser.iloc[0]) instead\n",
            "\n",
            "/Users/ncng/Documents/Projects/Python-Beginners-Course/15-Classification-Models/../Scripts/graphing.py:490: FutureWarning:\n",
            "\n",
            "Calling float on a single element Series is deprecated and will raise a TypeError in the future. Use float(ser.iloc[0]) instead\n",
            "\n",
            "/Users/ncng/Documents/Projects/Python-Beginners-Course/15-Classification-Models/../Scripts/graphing.py:490: FutureWarning:\n",
            "\n",
            "Calling float on a single element Series is deprecated and will raise a TypeError in the future. Use float(ser.iloc[0]) instead\n",
            "\n",
            "/Users/ncng/Documents/Projects/Python-Beginners-Course/15-Classification-Models/../Scripts/graphing.py:490: FutureWarning:\n",
            "\n",
            "Calling float on a single element Series is deprecated and will raise a TypeError in the future. Use float(ser.iloc[0]) instead\n",
            "\n",
            "/Users/ncng/Documents/Projects/Python-Beginners-Course/15-Classification-Models/../Scripts/graphing.py:490: FutureWarning:\n",
            "\n",
            "Calling float on a single element Series is deprecated and will raise a TypeError in the future. Use float(ser.iloc[0]) instead\n",
            "\n",
            "/Users/ncng/Documents/Projects/Python-Beginners-Course/15-Classification-Models/../Scripts/graphing.py:490: FutureWarning:\n",
            "\n",
            "Calling float on a single element Series is deprecated and will raise a TypeError in the future. Use float(ser.iloc[0]) instead\n",
            "\n",
            "/Users/ncng/Documents/Projects/Python-Beginners-Course/15-Classification-Models/../Scripts/graphing.py:490: FutureWarning:\n",
            "\n",
            "Calling float on a single element Series is deprecated and will raise a TypeError in the future. Use float(ser.iloc[0]) instead\n",
            "\n",
            "/Users/ncng/Documents/Projects/Python-Beginners-Course/15-Classification-Models/../Scripts/graphing.py:490: FutureWarning:\n",
            "\n",
            "Calling float on a single element Series is deprecated and will raise a TypeError in the future. Use float(ser.iloc[0]) instead\n",
            "\n",
            "/Users/ncng/Documents/Projects/Python-Beginners-Course/15-Classification-Models/../Scripts/graphing.py:490: FutureWarning:\n",
            "\n",
            "Calling float on a single element Series is deprecated and will raise a TypeError in the future. Use float(ser.iloc[0]) instead\n",
            "\n",
            "/Users/ncng/Documents/Projects/Python-Beginners-Course/15-Classification-Models/../Scripts/graphing.py:490: FutureWarning:\n",
            "\n",
            "Calling float on a single element Series is deprecated and will raise a TypeError in the future. Use float(ser.iloc[0]) instead\n",
            "\n",
            "/Users/ncng/Documents/Projects/Python-Beginners-Course/15-Classification-Models/../Scripts/graphing.py:490: FutureWarning:\n",
            "\n",
            "Calling float on a single element Series is deprecated and will raise a TypeError in the future. Use float(ser.iloc[0]) instead\n",
            "\n",
            "/Users/ncng/Documents/Projects/Python-Beginners-Course/15-Classification-Models/../Scripts/graphing.py:490: FutureWarning:\n",
            "\n",
            "Calling float on a single element Series is deprecated and will raise a TypeError in the future. Use float(ser.iloc[0]) instead\n",
            "\n",
            "/Users/ncng/Documents/Projects/Python-Beginners-Course/15-Classification-Models/../Scripts/graphing.py:490: FutureWarning:\n",
            "\n",
            "Calling float on a single element Series is deprecated and will raise a TypeError in the future. Use float(ser.iloc[0]) instead\n",
            "\n",
            "/Users/ncng/Documents/Projects/Python-Beginners-Course/15-Classification-Models/../Scripts/graphing.py:490: FutureWarning:\n",
            "\n",
            "Calling float on a single element Series is deprecated and will raise a TypeError in the future. Use float(ser.iloc[0]) instead\n",
            "\n",
            "/Users/ncng/Documents/Projects/Python-Beginners-Course/15-Classification-Models/../Scripts/graphing.py:490: FutureWarning:\n",
            "\n",
            "Calling float on a single element Series is deprecated and will raise a TypeError in the future. Use float(ser.iloc[0]) instead\n",
            "\n",
            "/Users/ncng/Documents/Projects/Python-Beginners-Course/15-Classification-Models/../Scripts/graphing.py:490: FutureWarning:\n",
            "\n",
            "Calling float on a single element Series is deprecated and will raise a TypeError in the future. Use float(ser.iloc[0]) instead\n",
            "\n",
            "/Users/ncng/Documents/Projects/Python-Beginners-Course/15-Classification-Models/../Scripts/graphing.py:490: FutureWarning:\n",
            "\n",
            "Calling float on a single element Series is deprecated and will raise a TypeError in the future. Use float(ser.iloc[0]) instead\n",
            "\n",
            "/Users/ncng/Documents/Projects/Python-Beginners-Course/15-Classification-Models/../Scripts/graphing.py:490: FutureWarning:\n",
            "\n",
            "Calling float on a single element Series is deprecated and will raise a TypeError in the future. Use float(ser.iloc[0]) instead\n",
            "\n",
            "/Users/ncng/Documents/Projects/Python-Beginners-Course/15-Classification-Models/../Scripts/graphing.py:490: FutureWarning:\n",
            "\n",
            "Calling float on a single element Series is deprecated and will raise a TypeError in the future. Use float(ser.iloc[0]) instead\n",
            "\n",
            "/Users/ncng/Documents/Projects/Python-Beginners-Course/15-Classification-Models/../Scripts/graphing.py:490: FutureWarning:\n",
            "\n",
            "Calling float on a single element Series is deprecated and will raise a TypeError in the future. Use float(ser.iloc[0]) instead\n",
            "\n",
            "/Users/ncng/Documents/Projects/Python-Beginners-Course/15-Classification-Models/../Scripts/graphing.py:490: FutureWarning:\n",
            "\n",
            "Calling float on a single element Series is deprecated and will raise a TypeError in the future. Use float(ser.iloc[0]) instead\n",
            "\n",
            "/Users/ncng/Documents/Projects/Python-Beginners-Course/15-Classification-Models/../Scripts/graphing.py:490: FutureWarning:\n",
            "\n",
            "Calling float on a single element Series is deprecated and will raise a TypeError in the future. Use float(ser.iloc[0]) instead\n",
            "\n",
            "/Users/ncng/Documents/Projects/Python-Beginners-Course/15-Classification-Models/../Scripts/graphing.py:490: FutureWarning:\n",
            "\n",
            "Calling float on a single element Series is deprecated and will raise a TypeError in the future. Use float(ser.iloc[0]) instead\n",
            "\n",
            "/Users/ncng/Documents/Projects/Python-Beginners-Course/15-Classification-Models/../Scripts/graphing.py:490: FutureWarning:\n",
            "\n",
            "Calling float on a single element Series is deprecated and will raise a TypeError in the future. Use float(ser.iloc[0]) instead\n",
            "\n",
            "/Users/ncng/Documents/Projects/Python-Beginners-Course/15-Classification-Models/../Scripts/graphing.py:490: FutureWarning:\n",
            "\n",
            "Calling float on a single element Series is deprecated and will raise a TypeError in the future. Use float(ser.iloc[0]) instead\n",
            "\n",
            "/Users/ncng/Documents/Projects/Python-Beginners-Course/15-Classification-Models/../Scripts/graphing.py:490: FutureWarning:\n",
            "\n",
            "Calling float on a single element Series is deprecated and will raise a TypeError in the future. Use float(ser.iloc[0]) instead\n",
            "\n",
            "/Users/ncng/Documents/Projects/Python-Beginners-Course/15-Classification-Models/../Scripts/graphing.py:490: FutureWarning:\n",
            "\n",
            "Calling float on a single element Series is deprecated and will raise a TypeError in the future. Use float(ser.iloc[0]) instead\n",
            "\n",
            "/Users/ncng/Documents/Projects/Python-Beginners-Course/15-Classification-Models/../Scripts/graphing.py:490: FutureWarning:\n",
            "\n",
            "Calling float on a single element Series is deprecated and will raise a TypeError in the future. Use float(ser.iloc[0]) instead\n",
            "\n",
            "/Users/ncng/Documents/Projects/Python-Beginners-Course/15-Classification-Models/../Scripts/graphing.py:490: FutureWarning:\n",
            "\n",
            "Calling float on a single element Series is deprecated and will raise a TypeError in the future. Use float(ser.iloc[0]) instead\n",
            "\n",
            "/Users/ncng/Documents/Projects/Python-Beginners-Course/15-Classification-Models/../Scripts/graphing.py:490: FutureWarning:\n",
            "\n",
            "Calling float on a single element Series is deprecated and will raise a TypeError in the future. Use float(ser.iloc[0]) instead\n",
            "\n",
            "/Users/ncng/Documents/Projects/Python-Beginners-Course/15-Classification-Models/../Scripts/graphing.py:490: FutureWarning:\n",
            "\n",
            "Calling float on a single element Series is deprecated and will raise a TypeError in the future. Use float(ser.iloc[0]) instead\n",
            "\n",
            "/Users/ncng/Documents/Projects/Python-Beginners-Course/15-Classification-Models/../Scripts/graphing.py:490: FutureWarning:\n",
            "\n",
            "Calling float on a single element Series is deprecated and will raise a TypeError in the future. Use float(ser.iloc[0]) instead\n",
            "\n",
            "/Users/ncng/Documents/Projects/Python-Beginners-Course/15-Classification-Models/../Scripts/graphing.py:490: FutureWarning:\n",
            "\n",
            "Calling float on a single element Series is deprecated and will raise a TypeError in the future. Use float(ser.iloc[0]) instead\n",
            "\n",
            "/Users/ncng/Documents/Projects/Python-Beginners-Course/15-Classification-Models/../Scripts/graphing.py:490: FutureWarning:\n",
            "\n",
            "Calling float on a single element Series is deprecated and will raise a TypeError in the future. Use float(ser.iloc[0]) instead\n",
            "\n",
            "/Users/ncng/Documents/Projects/Python-Beginners-Course/15-Classification-Models/../Scripts/graphing.py:490: FutureWarning:\n",
            "\n",
            "Calling float on a single element Series is deprecated and will raise a TypeError in the future. Use float(ser.iloc[0]) instead\n",
            "\n",
            "/Users/ncng/Documents/Projects/Python-Beginners-Course/15-Classification-Models/../Scripts/graphing.py:490: FutureWarning:\n",
            "\n",
            "Calling float on a single element Series is deprecated and will raise a TypeError in the future. Use float(ser.iloc[0]) instead\n",
            "\n",
            "/Users/ncng/Documents/Projects/Python-Beginners-Course/15-Classification-Models/../Scripts/graphing.py:490: FutureWarning:\n",
            "\n",
            "Calling float on a single element Series is deprecated and will raise a TypeError in the future. Use float(ser.iloc[0]) instead\n",
            "\n",
            "/Users/ncng/Documents/Projects/Python-Beginners-Course/15-Classification-Models/../Scripts/graphing.py:490: FutureWarning:\n",
            "\n",
            "Calling float on a single element Series is deprecated and will raise a TypeError in the future. Use float(ser.iloc[0]) instead\n",
            "\n",
            "/Users/ncng/Documents/Projects/Python-Beginners-Course/15-Classification-Models/../Scripts/graphing.py:490: FutureWarning:\n",
            "\n",
            "Calling float on a single element Series is deprecated and will raise a TypeError in the future. Use float(ser.iloc[0]) instead\n",
            "\n",
            "/Users/ncng/Documents/Projects/Python-Beginners-Course/15-Classification-Models/../Scripts/graphing.py:490: FutureWarning:\n",
            "\n",
            "Calling float on a single element Series is deprecated and will raise a TypeError in the future. Use float(ser.iloc[0]) instead\n",
            "\n",
            "/Users/ncng/Documents/Projects/Python-Beginners-Course/15-Classification-Models/../Scripts/graphing.py:490: FutureWarning:\n",
            "\n",
            "Calling float on a single element Series is deprecated and will raise a TypeError in the future. Use float(ser.iloc[0]) instead\n",
            "\n",
            "/Users/ncng/Documents/Projects/Python-Beginners-Course/15-Classification-Models/../Scripts/graphing.py:490: FutureWarning:\n",
            "\n",
            "Calling float on a single element Series is deprecated and will raise a TypeError in the future. Use float(ser.iloc[0]) instead\n",
            "\n",
            "/Users/ncng/Documents/Projects/Python-Beginners-Course/15-Classification-Models/../Scripts/graphing.py:490: FutureWarning:\n",
            "\n",
            "Calling float on a single element Series is deprecated and will raise a TypeError in the future. Use float(ser.iloc[0]) instead\n",
            "\n",
            "/Users/ncng/Documents/Projects/Python-Beginners-Course/15-Classification-Models/../Scripts/graphing.py:490: FutureWarning:\n",
            "\n",
            "Calling float on a single element Series is deprecated and will raise a TypeError in the future. Use float(ser.iloc[0]) instead\n",
            "\n",
            "/Users/ncng/Documents/Projects/Python-Beginners-Course/15-Classification-Models/../Scripts/graphing.py:490: FutureWarning:\n",
            "\n",
            "Calling float on a single element Series is deprecated and will raise a TypeError in the future. Use float(ser.iloc[0]) instead\n",
            "\n",
            "/Users/ncng/Documents/Projects/Python-Beginners-Course/15-Classification-Models/../Scripts/graphing.py:490: FutureWarning:\n",
            "\n",
            "Calling float on a single element Series is deprecated and will raise a TypeError in the future. Use float(ser.iloc[0]) instead\n",
            "\n",
            "/Users/ncng/Documents/Projects/Python-Beginners-Course/15-Classification-Models/../Scripts/graphing.py:490: FutureWarning:\n",
            "\n",
            "Calling float on a single element Series is deprecated and will raise a TypeError in the future. Use float(ser.iloc[0]) instead\n",
            "\n",
            "/Users/ncng/Documents/Projects/Python-Beginners-Course/15-Classification-Models/../Scripts/graphing.py:490: FutureWarning:\n",
            "\n",
            "Calling float on a single element Series is deprecated and will raise a TypeError in the future. Use float(ser.iloc[0]) instead\n",
            "\n",
            "/Users/ncng/Documents/Projects/Python-Beginners-Course/15-Classification-Models/../Scripts/graphing.py:490: FutureWarning:\n",
            "\n",
            "Calling float on a single element Series is deprecated and will raise a TypeError in the future. Use float(ser.iloc[0]) instead\n",
            "\n",
            "/Users/ncng/Documents/Projects/Python-Beginners-Course/15-Classification-Models/../Scripts/graphing.py:490: FutureWarning:\n",
            "\n",
            "Calling float on a single element Series is deprecated and will raise a TypeError in the future. Use float(ser.iloc[0]) instead\n",
            "\n",
            "/Users/ncng/Documents/Projects/Python-Beginners-Course/15-Classification-Models/../Scripts/graphing.py:490: FutureWarning:\n",
            "\n",
            "Calling float on a single element Series is deprecated and will raise a TypeError in the future. Use float(ser.iloc[0]) instead\n",
            "\n",
            "/Users/ncng/Documents/Projects/Python-Beginners-Course/15-Classification-Models/../Scripts/graphing.py:490: FutureWarning:\n",
            "\n",
            "Calling float on a single element Series is deprecated and will raise a TypeError in the future. Use float(ser.iloc[0]) instead\n",
            "\n",
            "/Users/ncng/Documents/Projects/Python-Beginners-Course/15-Classification-Models/../Scripts/graphing.py:490: FutureWarning:\n",
            "\n",
            "Calling float on a single element Series is deprecated and will raise a TypeError in the future. Use float(ser.iloc[0]) instead\n",
            "\n",
            "/Users/ncng/Documents/Projects/Python-Beginners-Course/15-Classification-Models/../Scripts/graphing.py:490: FutureWarning:\n",
            "\n",
            "Calling float on a single element Series is deprecated and will raise a TypeError in the future. Use float(ser.iloc[0]) instead\n",
            "\n",
            "/Users/ncng/Documents/Projects/Python-Beginners-Course/15-Classification-Models/../Scripts/graphing.py:490: FutureWarning:\n",
            "\n",
            "Calling float on a single element Series is deprecated and will raise a TypeError in the future. Use float(ser.iloc[0]) instead\n",
            "\n",
            "/Users/ncng/Documents/Projects/Python-Beginners-Course/15-Classification-Models/../Scripts/graphing.py:490: FutureWarning:\n",
            "\n",
            "Calling float on a single element Series is deprecated and will raise a TypeError in the future. Use float(ser.iloc[0]) instead\n",
            "\n",
            "/Users/ncng/Documents/Projects/Python-Beginners-Course/15-Classification-Models/../Scripts/graphing.py:490: FutureWarning:\n",
            "\n",
            "Calling float on a single element Series is deprecated and will raise a TypeError in the future. Use float(ser.iloc[0]) instead\n",
            "\n",
            "/Users/ncng/Documents/Projects/Python-Beginners-Course/15-Classification-Models/../Scripts/graphing.py:490: FutureWarning:\n",
            "\n",
            "Calling float on a single element Series is deprecated and will raise a TypeError in the future. Use float(ser.iloc[0]) instead\n",
            "\n",
            "/Users/ncng/Documents/Projects/Python-Beginners-Course/15-Classification-Models/../Scripts/graphing.py:490: FutureWarning:\n",
            "\n",
            "Calling float on a single element Series is deprecated and will raise a TypeError in the future. Use float(ser.iloc[0]) instead\n",
            "\n",
            "/Users/ncng/Documents/Projects/Python-Beginners-Course/15-Classification-Models/../Scripts/graphing.py:490: FutureWarning:\n",
            "\n",
            "Calling float on a single element Series is deprecated and will raise a TypeError in the future. Use float(ser.iloc[0]) instead\n",
            "\n",
            "/Users/ncng/Documents/Projects/Python-Beginners-Course/15-Classification-Models/../Scripts/graphing.py:490: FutureWarning:\n",
            "\n",
            "Calling float on a single element Series is deprecated and will raise a TypeError in the future. Use float(ser.iloc[0]) instead\n",
            "\n",
            "/Users/ncng/Documents/Projects/Python-Beginners-Course/15-Classification-Models/../Scripts/graphing.py:490: FutureWarning:\n",
            "\n",
            "Calling float on a single element Series is deprecated and will raise a TypeError in the future. Use float(ser.iloc[0]) instead\n",
            "\n",
            "/Users/ncng/Documents/Projects/Python-Beginners-Course/15-Classification-Models/../Scripts/graphing.py:490: FutureWarning:\n",
            "\n",
            "Calling float on a single element Series is deprecated and will raise a TypeError in the future. Use float(ser.iloc[0]) instead\n",
            "\n",
            "/Users/ncng/Documents/Projects/Python-Beginners-Course/15-Classification-Models/../Scripts/graphing.py:490: FutureWarning:\n",
            "\n",
            "Calling float on a single element Series is deprecated and will raise a TypeError in the future. Use float(ser.iloc[0]) instead\n",
            "\n",
            "/Users/ncng/Documents/Projects/Python-Beginners-Course/15-Classification-Models/../Scripts/graphing.py:490: FutureWarning:\n",
            "\n",
            "Calling float on a single element Series is deprecated and will raise a TypeError in the future. Use float(ser.iloc[0]) instead\n",
            "\n",
            "/Users/ncng/Documents/Projects/Python-Beginners-Course/15-Classification-Models/../Scripts/graphing.py:490: FutureWarning:\n",
            "\n",
            "Calling float on a single element Series is deprecated and will raise a TypeError in the future. Use float(ser.iloc[0]) instead\n",
            "\n",
            "/Users/ncng/Documents/Projects/Python-Beginners-Course/15-Classification-Models/../Scripts/graphing.py:490: FutureWarning:\n",
            "\n",
            "Calling float on a single element Series is deprecated and will raise a TypeError in the future. Use float(ser.iloc[0]) instead\n",
            "\n",
            "/Users/ncng/Documents/Projects/Python-Beginners-Course/15-Classification-Models/../Scripts/graphing.py:490: FutureWarning:\n",
            "\n",
            "Calling float on a single element Series is deprecated and will raise a TypeError in the future. Use float(ser.iloc[0]) instead\n",
            "\n",
            "/Users/ncng/Documents/Projects/Python-Beginners-Course/15-Classification-Models/../Scripts/graphing.py:490: FutureWarning:\n",
            "\n",
            "Calling float on a single element Series is deprecated and will raise a TypeError in the future. Use float(ser.iloc[0]) instead\n",
            "\n",
            "/Users/ncng/Documents/Projects/Python-Beginners-Course/15-Classification-Models/../Scripts/graphing.py:490: FutureWarning:\n",
            "\n",
            "Calling float on a single element Series is deprecated and will raise a TypeError in the future. Use float(ser.iloc[0]) instead\n",
            "\n",
            "/Users/ncng/Documents/Projects/Python-Beginners-Course/15-Classification-Models/../Scripts/graphing.py:490: FutureWarning:\n",
            "\n",
            "Calling float on a single element Series is deprecated and will raise a TypeError in the future. Use float(ser.iloc[0]) instead\n",
            "\n",
            "/Users/ncng/Documents/Projects/Python-Beginners-Course/15-Classification-Models/../Scripts/graphing.py:490: FutureWarning:\n",
            "\n",
            "Calling float on a single element Series is deprecated and will raise a TypeError in the future. Use float(ser.iloc[0]) instead\n",
            "\n",
            "/Users/ncng/Documents/Projects/Python-Beginners-Course/15-Classification-Models/../Scripts/graphing.py:490: FutureWarning:\n",
            "\n",
            "Calling float on a single element Series is deprecated and will raise a TypeError in the future. Use float(ser.iloc[0]) instead\n",
            "\n",
            "/Users/ncng/Documents/Projects/Python-Beginners-Course/15-Classification-Models/../Scripts/graphing.py:490: FutureWarning:\n",
            "\n",
            "Calling float on a single element Series is deprecated and will raise a TypeError in the future. Use float(ser.iloc[0]) instead\n",
            "\n",
            "/Users/ncng/Documents/Projects/Python-Beginners-Course/15-Classification-Models/../Scripts/graphing.py:490: FutureWarning:\n",
            "\n",
            "Calling float on a single element Series is deprecated and will raise a TypeError in the future. Use float(ser.iloc[0]) instead\n",
            "\n",
            "/Users/ncng/Documents/Projects/Python-Beginners-Course/15-Classification-Models/../Scripts/graphing.py:490: FutureWarning:\n",
            "\n",
            "Calling float on a single element Series is deprecated and will raise a TypeError in the future. Use float(ser.iloc[0]) instead\n",
            "\n",
            "/Users/ncng/Documents/Projects/Python-Beginners-Course/15-Classification-Models/../Scripts/graphing.py:490: FutureWarning:\n",
            "\n",
            "Calling float on a single element Series is deprecated and will raise a TypeError in the future. Use float(ser.iloc[0]) instead\n",
            "\n",
            "/Users/ncng/Documents/Projects/Python-Beginners-Course/15-Classification-Models/../Scripts/graphing.py:490: FutureWarning:\n",
            "\n",
            "Calling float on a single element Series is deprecated and will raise a TypeError in the future. Use float(ser.iloc[0]) instead\n",
            "\n",
            "/Users/ncng/Documents/Projects/Python-Beginners-Course/15-Classification-Models/../Scripts/graphing.py:490: FutureWarning:\n",
            "\n",
            "Calling float on a single element Series is deprecated and will raise a TypeError in the future. Use float(ser.iloc[0]) instead\n",
            "\n",
            "/Users/ncng/Documents/Projects/Python-Beginners-Course/15-Classification-Models/../Scripts/graphing.py:490: FutureWarning:\n",
            "\n",
            "Calling float on a single element Series is deprecated and will raise a TypeError in the future. Use float(ser.iloc[0]) instead\n",
            "\n",
            "/Users/ncng/Documents/Projects/Python-Beginners-Course/15-Classification-Models/../Scripts/graphing.py:490: FutureWarning:\n",
            "\n",
            "Calling float on a single element Series is deprecated and will raise a TypeError in the future. Use float(ser.iloc[0]) instead\n",
            "\n",
            "/Users/ncng/Documents/Projects/Python-Beginners-Course/15-Classification-Models/../Scripts/graphing.py:490: FutureWarning:\n",
            "\n",
            "Calling float on a single element Series is deprecated and will raise a TypeError in the future. Use float(ser.iloc[0]) instead\n",
            "\n",
            "/Users/ncng/Documents/Projects/Python-Beginners-Course/15-Classification-Models/../Scripts/graphing.py:490: FutureWarning:\n",
            "\n",
            "Calling float on a single element Series is deprecated and will raise a TypeError in the future. Use float(ser.iloc[0]) instead\n",
            "\n",
            "/Users/ncng/Documents/Projects/Python-Beginners-Course/15-Classification-Models/../Scripts/graphing.py:490: FutureWarning:\n",
            "\n",
            "Calling float on a single element Series is deprecated and will raise a TypeError in the future. Use float(ser.iloc[0]) instead\n",
            "\n",
            "/Users/ncng/Documents/Projects/Python-Beginners-Course/15-Classification-Models/../Scripts/graphing.py:490: FutureWarning:\n",
            "\n",
            "Calling float on a single element Series is deprecated and will raise a TypeError in the future. Use float(ser.iloc[0]) instead\n",
            "\n",
            "/Users/ncng/Documents/Projects/Python-Beginners-Course/15-Classification-Models/../Scripts/graphing.py:490: FutureWarning:\n",
            "\n",
            "Calling float on a single element Series is deprecated and will raise a TypeError in the future. Use float(ser.iloc[0]) instead\n",
            "\n",
            "/Users/ncng/Documents/Projects/Python-Beginners-Course/15-Classification-Models/../Scripts/graphing.py:490: FutureWarning:\n",
            "\n",
            "Calling float on a single element Series is deprecated and will raise a TypeError in the future. Use float(ser.iloc[0]) instead\n",
            "\n",
            "/Users/ncng/Documents/Projects/Python-Beginners-Course/15-Classification-Models/../Scripts/graphing.py:490: FutureWarning:\n",
            "\n",
            "Calling float on a single element Series is deprecated and will raise a TypeError in the future. Use float(ser.iloc[0]) instead\n",
            "\n",
            "/Users/ncng/Documents/Projects/Python-Beginners-Course/15-Classification-Models/../Scripts/graphing.py:490: FutureWarning:\n",
            "\n",
            "Calling float on a single element Series is deprecated and will raise a TypeError in the future. Use float(ser.iloc[0]) instead\n",
            "\n",
            "/Users/ncng/Documents/Projects/Python-Beginners-Course/15-Classification-Models/../Scripts/graphing.py:490: FutureWarning:\n",
            "\n",
            "Calling float on a single element Series is deprecated and will raise a TypeError in the future. Use float(ser.iloc[0]) instead\n",
            "\n",
            "/Users/ncng/Documents/Projects/Python-Beginners-Course/15-Classification-Models/../Scripts/graphing.py:490: FutureWarning:\n",
            "\n",
            "Calling float on a single element Series is deprecated and will raise a TypeError in the future. Use float(ser.iloc[0]) instead\n",
            "\n",
            "/Users/ncng/Documents/Projects/Python-Beginners-Course/15-Classification-Models/../Scripts/graphing.py:490: FutureWarning:\n",
            "\n",
            "Calling float on a single element Series is deprecated and will raise a TypeError in the future. Use float(ser.iloc[0]) instead\n",
            "\n",
            "/Users/ncng/Documents/Projects/Python-Beginners-Course/15-Classification-Models/../Scripts/graphing.py:490: FutureWarning:\n",
            "\n",
            "Calling float on a single element Series is deprecated and will raise a TypeError in the future. Use float(ser.iloc[0]) instead\n",
            "\n",
            "/Users/ncng/Documents/Projects/Python-Beginners-Course/15-Classification-Models/../Scripts/graphing.py:490: FutureWarning:\n",
            "\n",
            "Calling float on a single element Series is deprecated and will raise a TypeError in the future. Use float(ser.iloc[0]) instead\n",
            "\n",
            "/Users/ncng/Documents/Projects/Python-Beginners-Course/15-Classification-Models/../Scripts/graphing.py:490: FutureWarning:\n",
            "\n",
            "Calling float on a single element Series is deprecated and will raise a TypeError in the future. Use float(ser.iloc[0]) instead\n",
            "\n",
            "/Users/ncng/Documents/Projects/Python-Beginners-Course/15-Classification-Models/../Scripts/graphing.py:490: FutureWarning:\n",
            "\n",
            "Calling float on a single element Series is deprecated and will raise a TypeError in the future. Use float(ser.iloc[0]) instead\n",
            "\n",
            "/Users/ncng/Documents/Projects/Python-Beginners-Course/15-Classification-Models/../Scripts/graphing.py:490: FutureWarning:\n",
            "\n",
            "Calling float on a single element Series is deprecated and will raise a TypeError in the future. Use float(ser.iloc[0]) instead\n",
            "\n",
            "/Users/ncng/Documents/Projects/Python-Beginners-Course/15-Classification-Models/../Scripts/graphing.py:490: FutureWarning:\n",
            "\n",
            "Calling float on a single element Series is deprecated and will raise a TypeError in the future. Use float(ser.iloc[0]) instead\n",
            "\n",
            "/Users/ncng/Documents/Projects/Python-Beginners-Course/15-Classification-Models/../Scripts/graphing.py:490: FutureWarning:\n",
            "\n",
            "Calling float on a single element Series is deprecated and will raise a TypeError in the future. Use float(ser.iloc[0]) instead\n",
            "\n",
            "/Users/ncng/Documents/Projects/Python-Beginners-Course/15-Classification-Models/../Scripts/graphing.py:490: FutureWarning:\n",
            "\n",
            "Calling float on a single element Series is deprecated and will raise a TypeError in the future. Use float(ser.iloc[0]) instead\n",
            "\n",
            "/Users/ncng/Documents/Projects/Python-Beginners-Course/15-Classification-Models/../Scripts/graphing.py:490: FutureWarning:\n",
            "\n",
            "Calling float on a single element Series is deprecated and will raise a TypeError in the future. Use float(ser.iloc[0]) instead\n",
            "\n",
            "/Users/ncng/Documents/Projects/Python-Beginners-Course/15-Classification-Models/../Scripts/graphing.py:490: FutureWarning:\n",
            "\n",
            "Calling float on a single element Series is deprecated and will raise a TypeError in the future. Use float(ser.iloc[0]) instead\n",
            "\n",
            "/Users/ncng/Documents/Projects/Python-Beginners-Course/15-Classification-Models/../Scripts/graphing.py:490: FutureWarning:\n",
            "\n",
            "Calling float on a single element Series is deprecated and will raise a TypeError in the future. Use float(ser.iloc[0]) instead\n",
            "\n",
            "/Users/ncng/Documents/Projects/Python-Beginners-Course/15-Classification-Models/../Scripts/graphing.py:490: FutureWarning:\n",
            "\n",
            "Calling float on a single element Series is deprecated and will raise a TypeError in the future. Use float(ser.iloc[0]) instead\n",
            "\n",
            "/Users/ncng/Documents/Projects/Python-Beginners-Course/15-Classification-Models/../Scripts/graphing.py:490: FutureWarning:\n",
            "\n",
            "Calling float on a single element Series is deprecated and will raise a TypeError in the future. Use float(ser.iloc[0]) instead\n",
            "\n",
            "/Users/ncng/Documents/Projects/Python-Beginners-Course/15-Classification-Models/../Scripts/graphing.py:490: FutureWarning:\n",
            "\n",
            "Calling float on a single element Series is deprecated and will raise a TypeError in the future. Use float(ser.iloc[0]) instead\n",
            "\n",
            "/Users/ncng/Documents/Projects/Python-Beginners-Course/15-Classification-Models/../Scripts/graphing.py:490: FutureWarning:\n",
            "\n",
            "Calling float on a single element Series is deprecated and will raise a TypeError in the future. Use float(ser.iloc[0]) instead\n",
            "\n",
            "/Users/ncng/Documents/Projects/Python-Beginners-Course/15-Classification-Models/../Scripts/graphing.py:490: FutureWarning:\n",
            "\n",
            "Calling float on a single element Series is deprecated and will raise a TypeError in the future. Use float(ser.iloc[0]) instead\n",
            "\n",
            "/Users/ncng/Documents/Projects/Python-Beginners-Course/15-Classification-Models/../Scripts/graphing.py:490: FutureWarning:\n",
            "\n",
            "Calling float on a single element Series is deprecated and will raise a TypeError in the future. Use float(ser.iloc[0]) instead\n",
            "\n",
            "/Users/ncng/Documents/Projects/Python-Beginners-Course/15-Classification-Models/../Scripts/graphing.py:490: FutureWarning:\n",
            "\n",
            "Calling float on a single element Series is deprecated and will raise a TypeError in the future. Use float(ser.iloc[0]) instead\n",
            "\n",
            "/Users/ncng/Documents/Projects/Python-Beginners-Course/15-Classification-Models/../Scripts/graphing.py:490: FutureWarning:\n",
            "\n",
            "Calling float on a single element Series is deprecated and will raise a TypeError in the future. Use float(ser.iloc[0]) instead\n",
            "\n",
            "/Users/ncng/Documents/Projects/Python-Beginners-Course/15-Classification-Models/../Scripts/graphing.py:490: FutureWarning:\n",
            "\n",
            "Calling float on a single element Series is deprecated and will raise a TypeError in the future. Use float(ser.iloc[0]) instead\n",
            "\n",
            "/Users/ncng/Documents/Projects/Python-Beginners-Course/15-Classification-Models/../Scripts/graphing.py:490: FutureWarning:\n",
            "\n",
            "Calling float on a single element Series is deprecated and will raise a TypeError in the future. Use float(ser.iloc[0]) instead\n",
            "\n",
            "/Users/ncng/Documents/Projects/Python-Beginners-Course/15-Classification-Models/../Scripts/graphing.py:490: FutureWarning:\n",
            "\n",
            "Calling float on a single element Series is deprecated and will raise a TypeError in the future. Use float(ser.iloc[0]) instead\n",
            "\n",
            "/Users/ncng/Documents/Projects/Python-Beginners-Course/15-Classification-Models/../Scripts/graphing.py:490: FutureWarning:\n",
            "\n",
            "Calling float on a single element Series is deprecated and will raise a TypeError in the future. Use float(ser.iloc[0]) instead\n",
            "\n",
            "/Users/ncng/Documents/Projects/Python-Beginners-Course/15-Classification-Models/../Scripts/graphing.py:490: FutureWarning:\n",
            "\n",
            "Calling float on a single element Series is deprecated and will raise a TypeError in the future. Use float(ser.iloc[0]) instead\n",
            "\n",
            "/Users/ncng/Documents/Projects/Python-Beginners-Course/15-Classification-Models/../Scripts/graphing.py:490: FutureWarning:\n",
            "\n",
            "Calling float on a single element Series is deprecated and will raise a TypeError in the future. Use float(ser.iloc[0]) instead\n",
            "\n",
            "/Users/ncng/Documents/Projects/Python-Beginners-Course/15-Classification-Models/../Scripts/graphing.py:490: FutureWarning:\n",
            "\n",
            "Calling float on a single element Series is deprecated and will raise a TypeError in the future. Use float(ser.iloc[0]) instead\n",
            "\n",
            "/Users/ncng/Documents/Projects/Python-Beginners-Course/15-Classification-Models/../Scripts/graphing.py:490: FutureWarning:\n",
            "\n",
            "Calling float on a single element Series is deprecated and will raise a TypeError in the future. Use float(ser.iloc[0]) instead\n",
            "\n",
            "/Users/ncng/Documents/Projects/Python-Beginners-Course/15-Classification-Models/../Scripts/graphing.py:490: FutureWarning:\n",
            "\n",
            "Calling float on a single element Series is deprecated and will raise a TypeError in the future. Use float(ser.iloc[0]) instead\n",
            "\n",
            "/Users/ncng/Documents/Projects/Python-Beginners-Course/15-Classification-Models/../Scripts/graphing.py:490: FutureWarning:\n",
            "\n",
            "Calling float on a single element Series is deprecated and will raise a TypeError in the future. Use float(ser.iloc[0]) instead\n",
            "\n",
            "/Users/ncng/Documents/Projects/Python-Beginners-Course/15-Classification-Models/../Scripts/graphing.py:490: FutureWarning:\n",
            "\n",
            "Calling float on a single element Series is deprecated and will raise a TypeError in the future. Use float(ser.iloc[0]) instead\n",
            "\n",
            "/Users/ncng/Documents/Projects/Python-Beginners-Course/15-Classification-Models/../Scripts/graphing.py:490: FutureWarning:\n",
            "\n",
            "Calling float on a single element Series is deprecated and will raise a TypeError in the future. Use float(ser.iloc[0]) instead\n",
            "\n",
            "/Users/ncng/Documents/Projects/Python-Beginners-Course/15-Classification-Models/../Scripts/graphing.py:490: FutureWarning:\n",
            "\n",
            "Calling float on a single element Series is deprecated and will raise a TypeError in the future. Use float(ser.iloc[0]) instead\n",
            "\n",
            "/Users/ncng/Documents/Projects/Python-Beginners-Course/15-Classification-Models/../Scripts/graphing.py:490: FutureWarning:\n",
            "\n",
            "Calling float on a single element Series is deprecated and will raise a TypeError in the future. Use float(ser.iloc[0]) instead\n",
            "\n",
            "/Users/ncng/Documents/Projects/Python-Beginners-Course/15-Classification-Models/../Scripts/graphing.py:490: FutureWarning:\n",
            "\n",
            "Calling float on a single element Series is deprecated and will raise a TypeError in the future. Use float(ser.iloc[0]) instead\n",
            "\n",
            "/Users/ncng/Documents/Projects/Python-Beginners-Course/15-Classification-Models/../Scripts/graphing.py:490: FutureWarning:\n",
            "\n",
            "Calling float on a single element Series is deprecated and will raise a TypeError in the future. Use float(ser.iloc[0]) instead\n",
            "\n",
            "/Users/ncng/Documents/Projects/Python-Beginners-Course/15-Classification-Models/../Scripts/graphing.py:490: FutureWarning:\n",
            "\n",
            "Calling float on a single element Series is deprecated and will raise a TypeError in the future. Use float(ser.iloc[0]) instead\n",
            "\n",
            "/Users/ncng/Documents/Projects/Python-Beginners-Course/15-Classification-Models/../Scripts/graphing.py:490: FutureWarning:\n",
            "\n",
            "Calling float on a single element Series is deprecated and will raise a TypeError in the future. Use float(ser.iloc[0]) instead\n",
            "\n",
            "/Users/ncng/Documents/Projects/Python-Beginners-Course/15-Classification-Models/../Scripts/graphing.py:490: FutureWarning:\n",
            "\n",
            "Calling float on a single element Series is deprecated and will raise a TypeError in the future. Use float(ser.iloc[0]) instead\n",
            "\n",
            "/Users/ncng/Documents/Projects/Python-Beginners-Course/15-Classification-Models/../Scripts/graphing.py:490: FutureWarning:\n",
            "\n",
            "Calling float on a single element Series is deprecated and will raise a TypeError in the future. Use float(ser.iloc[0]) instead\n",
            "\n",
            "/Users/ncng/Documents/Projects/Python-Beginners-Course/15-Classification-Models/../Scripts/graphing.py:490: FutureWarning:\n",
            "\n",
            "Calling float on a single element Series is deprecated and will raise a TypeError in the future. Use float(ser.iloc[0]) instead\n",
            "\n",
            "/Users/ncng/Documents/Projects/Python-Beginners-Course/15-Classification-Models/../Scripts/graphing.py:490: FutureWarning:\n",
            "\n",
            "Calling float on a single element Series is deprecated and will raise a TypeError in the future. Use float(ser.iloc[0]) instead\n",
            "\n",
            "/Users/ncng/Documents/Projects/Python-Beginners-Course/15-Classification-Models/../Scripts/graphing.py:490: FutureWarning:\n",
            "\n",
            "Calling float on a single element Series is deprecated and will raise a TypeError in the future. Use float(ser.iloc[0]) instead\n",
            "\n",
            "/Users/ncng/Documents/Projects/Python-Beginners-Course/15-Classification-Models/../Scripts/graphing.py:490: FutureWarning:\n",
            "\n",
            "Calling float on a single element Series is deprecated and will raise a TypeError in the future. Use float(ser.iloc[0]) instead\n",
            "\n",
            "/Users/ncng/Documents/Projects/Python-Beginners-Course/15-Classification-Models/../Scripts/graphing.py:490: FutureWarning:\n",
            "\n",
            "Calling float on a single element Series is deprecated and will raise a TypeError in the future. Use float(ser.iloc[0]) instead\n",
            "\n",
            "/Users/ncng/Documents/Projects/Python-Beginners-Course/15-Classification-Models/../Scripts/graphing.py:490: FutureWarning:\n",
            "\n",
            "Calling float on a single element Series is deprecated and will raise a TypeError in the future. Use float(ser.iloc[0]) instead\n",
            "\n",
            "/Users/ncng/Documents/Projects/Python-Beginners-Course/15-Classification-Models/../Scripts/graphing.py:490: FutureWarning:\n",
            "\n",
            "Calling float on a single element Series is deprecated and will raise a TypeError in the future. Use float(ser.iloc[0]) instead\n",
            "\n",
            "/Users/ncng/Documents/Projects/Python-Beginners-Course/15-Classification-Models/../Scripts/graphing.py:490: FutureWarning:\n",
            "\n",
            "Calling float on a single element Series is deprecated and will raise a TypeError in the future. Use float(ser.iloc[0]) instead\n",
            "\n",
            "/Users/ncng/Documents/Projects/Python-Beginners-Course/15-Classification-Models/../Scripts/graphing.py:490: FutureWarning:\n",
            "\n",
            "Calling float on a single element Series is deprecated and will raise a TypeError in the future. Use float(ser.iloc[0]) instead\n",
            "\n",
            "/Users/ncng/Documents/Projects/Python-Beginners-Course/15-Classification-Models/../Scripts/graphing.py:490: FutureWarning:\n",
            "\n",
            "Calling float on a single element Series is deprecated and will raise a TypeError in the future. Use float(ser.iloc[0]) instead\n",
            "\n",
            "/Users/ncng/Documents/Projects/Python-Beginners-Course/15-Classification-Models/../Scripts/graphing.py:490: FutureWarning:\n",
            "\n",
            "Calling float on a single element Series is deprecated and will raise a TypeError in the future. Use float(ser.iloc[0]) instead\n",
            "\n",
            "/Users/ncng/Documents/Projects/Python-Beginners-Course/15-Classification-Models/../Scripts/graphing.py:490: FutureWarning:\n",
            "\n",
            "Calling float on a single element Series is deprecated and will raise a TypeError in the future. Use float(ser.iloc[0]) instead\n",
            "\n",
            "/Users/ncng/Documents/Projects/Python-Beginners-Course/15-Classification-Models/../Scripts/graphing.py:490: FutureWarning:\n",
            "\n",
            "Calling float on a single element Series is deprecated and will raise a TypeError in the future. Use float(ser.iloc[0]) instead\n",
            "\n",
            "/Users/ncng/Documents/Projects/Python-Beginners-Course/15-Classification-Models/../Scripts/graphing.py:490: FutureWarning:\n",
            "\n",
            "Calling float on a single element Series is deprecated and will raise a TypeError in the future. Use float(ser.iloc[0]) instead\n",
            "\n",
            "/Users/ncng/Documents/Projects/Python-Beginners-Course/15-Classification-Models/../Scripts/graphing.py:490: FutureWarning:\n",
            "\n",
            "Calling float on a single element Series is deprecated and will raise a TypeError in the future. Use float(ser.iloc[0]) instead\n",
            "\n",
            "/Users/ncng/Documents/Projects/Python-Beginners-Course/15-Classification-Models/../Scripts/graphing.py:490: FutureWarning:\n",
            "\n",
            "Calling float on a single element Series is deprecated and will raise a TypeError in the future. Use float(ser.iloc[0]) instead\n",
            "\n",
            "/Users/ncng/Documents/Projects/Python-Beginners-Course/15-Classification-Models/../Scripts/graphing.py:490: FutureWarning:\n",
            "\n",
            "Calling float on a single element Series is deprecated and will raise a TypeError in the future. Use float(ser.iloc[0]) instead\n",
            "\n",
            "/Users/ncng/Documents/Projects/Python-Beginners-Course/15-Classification-Models/../Scripts/graphing.py:490: FutureWarning:\n",
            "\n",
            "Calling float on a single element Series is deprecated and will raise a TypeError in the future. Use float(ser.iloc[0]) instead\n",
            "\n",
            "/Users/ncng/Documents/Projects/Python-Beginners-Course/15-Classification-Models/../Scripts/graphing.py:490: FutureWarning:\n",
            "\n",
            "Calling float on a single element Series is deprecated and will raise a TypeError in the future. Use float(ser.iloc[0]) instead\n",
            "\n",
            "/Users/ncng/Documents/Projects/Python-Beginners-Course/15-Classification-Models/../Scripts/graphing.py:490: FutureWarning:\n",
            "\n",
            "Calling float on a single element Series is deprecated and will raise a TypeError in the future. Use float(ser.iloc[0]) instead\n",
            "\n",
            "/Users/ncng/Documents/Projects/Python-Beginners-Course/15-Classification-Models/../Scripts/graphing.py:490: FutureWarning:\n",
            "\n",
            "Calling float on a single element Series is deprecated and will raise a TypeError in the future. Use float(ser.iloc[0]) instead\n",
            "\n",
            "/Users/ncng/Documents/Projects/Python-Beginners-Course/15-Classification-Models/../Scripts/graphing.py:490: FutureWarning:\n",
            "\n",
            "Calling float on a single element Series is deprecated and will raise a TypeError in the future. Use float(ser.iloc[0]) instead\n",
            "\n",
            "/Users/ncng/Documents/Projects/Python-Beginners-Course/15-Classification-Models/../Scripts/graphing.py:490: FutureWarning:\n",
            "\n",
            "Calling float on a single element Series is deprecated and will raise a TypeError in the future. Use float(ser.iloc[0]) instead\n",
            "\n",
            "/Users/ncng/Documents/Projects/Python-Beginners-Course/15-Classification-Models/../Scripts/graphing.py:490: FutureWarning:\n",
            "\n",
            "Calling float on a single element Series is deprecated and will raise a TypeError in the future. Use float(ser.iloc[0]) instead\n",
            "\n",
            "/Users/ncng/Documents/Projects/Python-Beginners-Course/15-Classification-Models/../Scripts/graphing.py:490: FutureWarning:\n",
            "\n",
            "Calling float on a single element Series is deprecated and will raise a TypeError in the future. Use float(ser.iloc[0]) instead\n",
            "\n",
            "/Users/ncng/Documents/Projects/Python-Beginners-Course/15-Classification-Models/../Scripts/graphing.py:490: FutureWarning:\n",
            "\n",
            "Calling float on a single element Series is deprecated and will raise a TypeError in the future. Use float(ser.iloc[0]) instead\n",
            "\n"
          ]
        },
        {
          "data": {
            "application/vnd.plotly.v1+json": {
              "config": {
                "plotlyServerURL": "https://plot.ly"
              },
              "data": [
                {
                  "colorbar": {
                    "title": {
                      "text": "Probability"
                    }
                  },
                  "type": "surface",
                  "x": [
                    0,
                    0.47368421052631576,
                    0.9473684210526315,
                    1.4210526315789473,
                    1.894736842105263,
                    2.3684210526315788,
                    2.8421052631578947,
                    3.31578947368421,
                    3.789473684210526,
                    4.263157894736842,
                    4.7368421052631575,
                    5.2105263157894735,
                    5.684210526315789,
                    6.157894736842105,
                    6.63157894736842,
                    7.105263157894736,
                    7.578947368421052,
                    8.052631578947368,
                    8.526315789473683,
                    9
                  ],
                  "y": [
                    0.4137014307004687,
                    1.2959187122253057,
                    2.1781359937501428,
                    3.0603532752749802,
                    3.9425705567998173,
                    4.824787838324655,
                    5.707005119849492,
                    6.589222401374329,
                    7.471439682899166,
                    8.353656964424003,
                    9.23587424594884,
                    10.118091527473677,
                    11.000308808998515,
                    11.882526090523351,
                    12.764743372048189,
                    13.646960653573025,
                    14.529177935097863,
                    15.4113952166227,
                    16.29361249814754,
                    17.175829779672377
                  ],
                  "z": [
                    [
                      0.99044918008353,
                      0.9854392371316607,
                      0.9778600417499922,
                      0.9664699447106148,
                      0.9495225928648764,
                      0.9246769998260712,
                      0.8890313166146229,
                      0.8394457433886225,
                      0.7733518652935403,
                      0.6900944442979232,
                      0.5923735767580228,
                      0.48675605667711785,
                      0.38230816459947126,
                      0.2877089539516021,
                      0.20861209423162821,
                      0.14677953821165896,
                      0.10093661725478204,
                      0.06826601525051647,
                      0.04563331996344386,
                      0.030260497637880746
                    ],
                    [
                      0.9852805799553711,
                      0.9785303897364478,
                      0.9687827037145869,
                      0.9548137161707447,
                      0.9350132513097364,
                      0.9073779610227782,
                      0.8696294712482958,
                      0.8195558525936686,
                      0.7556535479978902,
                      0.6780119636373161,
                      0.5891143092897566,
                      0.49399024743964326,
                      0.39929930549925297,
                      0.3115825978338096,
                      0.23557830435770644,
                      0.17344275287706343,
                      0.125015663860658,
                      0.0886595891349279,
                      0.06212561403997498,
                      0.04315665661218291
                    ],
                    [
                      0.9773787812881171,
                      0.9684483644175702,
                      0.9561505644008693,
                      0.939359618670887,
                      0.9166991944073006,
                      0.8865932077592886,
                      0.8474175942462413,
                      0.7977954769159216,
                      0.7370431335968358,
                      0.6656866223244288,
                      0.5858472013833481,
                      0.501226955533239,
                      0.41653636506615416,
                      0.3365013743273297,
                      0.2648636669745736,
                      0.20379259420751358,
                      0.1538559136780223,
                      0.1143974662901065,
                      0.08405341946170541,
                      0.061201929454817325
                    ],
                    [
                      0.9653841059371395,
                      0.9538551336028975,
                      0.9387300859192843,
                      0.9190680908910762,
                      0.8938101642972095,
                      0.8618543811722701,
                      0.8221951187646509,
                      0.7741341492141387,
                      0.717545099727251,
                      0.6531308525319148,
                      0.5825725226493613,
                      0.5084631496155106,
                      0.4339799433101535,
                      0.36236403148546265,
                      0.29637807668707145,
                      0.23792449347860853,
                      0.18792049132653874,
                      0.1464067202312639,
                      0.112790067584738,
                      0.08611348547981053
                    ],
                    [
                      0.9473718388209147,
                      0.9329793598287853,
                      0.9150040266384516,
                      0.8927617469677955,
                      0.8655542010259725,
                      0.8327370775944402,
                      0.7938177047393367,
                      0.7485766208337943,
                      0.6971952760168533,
                      0.6403582882366233,
                      0.5792905453283063,
                      0.5156957992051338,
                      0.4515886291033739,
                      0.38904889763222733,
                      0.3299591654769666,
                      0.2757928134172861,
                      0.22749934908121075,
                      0.1854964056926137,
                      0.14974516047982758,
                      0.11987028947390013
                    ],
                    [
                      0.9207563007618521,
                      0.9036137806867809,
                      0.8832331606674777,
                      0.8592145314224402,
                      0.8311995580229821,
                      0.7989145434534148,
                      0.7622210807346387,
                      0.7211687938868457,
                      0.676041254250963,
                      0.6273837265502262,
                      0.5760015442048454,
                      0.5229218797560143,
                      0.4693193773048232,
                      0.4164155330306055,
                      0.3653693867823842,
                      0.31717975988129254,
                      0.2726157370111058,
                      0.23218393100813525,
                      0.19613170529318594,
                      0.16447829081559778
                    ],
                    [
                      0.8823520755898336,
                      0.863267146398373,
                      0.8416418887665547,
                      0.817320206019015,
                      0.7901942261324281,
                      0.7602220040536133,
                      0.7274449057833642,
                      0.6920025121277957,
                      0.6541425113595652,
                      0.6142230766317982,
                      0.5727057965201439,
                      0.530138377710342,
                      0.48712791982637743,
                      0.44430724360183566,
                      0.40229810356759294,
                      0.36167574891441484,
                      0.32293902053633744,
                      0.28648907225615067,
                      0.252618203126457,
                      0.2215086183563406
                    ],
                    [
                      0.8287965183619299,
                      0.8095904930850266,
                      0.7887789891168763,
                      0.7663492933889567,
                      0.7423158854941224,
                      0.7167241812762751,
                      0.689653454027316,
                      0.6612185699355547,
                      0.6315702058556373,
                      0.6008932962628399,
                      0.5694035818824219,
                      0.537342295512623,
                      0.5049692025311004,
                      0.47255438926119625,
                      0.44036933428144426,
                      0.4086778819466336,
                      0.3777277490266697,
                      0.3477431323775779,
                      0.31891885911511814,
                      0.29141635254737397
                    ],
                    [
                      0.7575601053938384,
                      0.741160276295926,
                      0.724055173450472,
                      0.7062676825184354,
                      0.6878279485334935,
                      0.668773508895936,
                      0.6491492736840155,
                      0.6290073385291833,
                      0.6084066207882167,
                      0.5874123163854293,
                      0.5660951821757619,
                      0.5445306565670199,
                      0.5227978389269228,
                      0.5009783554384428,
                      0.4791551450183893,
                      0.45741120321088047,
                      0.4358283242604036,
                      0.4144858816690157,
                      0.3934596854405721,
                      0.3728209500856284
                    ],
                    [
                      0.6685371538019934,
                      0.6585106517915469,
                      0.6483403924658071,
                      0.6380337333213335,
                      0.6275985090473762,
                      0.6170430132797599,
                      0.6063759770448286,
                      0.5956065439621947,
                      0.5847442423142704,
                      0.5737989541298097,
                      0.5627808814672376,
                      0.5517005101206617,
                      0.540568571006414,
                      0.5293959995200486,
                      0.5181938931822541,
                      0.5069734679165426,
                      0.4957460133212741,
                      0.4845228473132018,
                      0.47331527052889405,
                      0.46213452087393686
                    ],
                    [
                      0.5655710296385341,
                      0.564960887603227,
                      0.5643505487170917,
                      0.5637400147670188,
                      0.5631292875422442,
                      0.5625183688343287,
                      0.5619072604371373,
                      0.5612959641468191,
                      0.5606844817617866,
                      0.5600728150826949,
                      0.5594609659124208,
                      0.5588489360560428,
                      0.5582367273208195,
                      0.5576243415161697,
                      0.55701178045365,
                      0.5563990459469356,
                      0.5557861398117981,
                      0.5551730638660851,
                      0.5545598199296976,
                      0.5539464098245716
                    ],
                    [
                      0.45661701763568113,
                      0.4665442920983227,
                      0.4764981327761914,
                      0.48647067810594863,
                      0.49645400707896137,
                      0.5064401643389814,
                      0.516421185512006,
                      0.5263891225971771,
                      0.536336069246878,
                      0.5462541857654657,
                      0.5561357236593342,
                      0.5659730495761742,
                      0.5757586684782884,
                      0.5854852459035069,
                      0.5951456291775048,
                      0.6047328674529241,
                      0.6142402304635326,
                      0.623661225895397,
                      0.6329896152916024,
                      0.6422194284220824
                    ],
                    [
                      0.35166188392904235,
                      0.37066460005206525,
                      0.39007635507910415,
                      0.4098426674428873,
                      0.42990460718255563,
                      0.45019944089957264,
                      0.47066137842093386,
                      0.4912224034884362,
                      0.5118131668926814,
                      0.5323639174957339,
                      0.5528054447509138,
                      0.5730700057667878,
                      0.593092210716663,
                      0.6128098424089135,
                      0.6321645889597723,
                      0.6511026725248609,
                      0.6695753616706153,
                      0.6875393598966936,
                      0.704957067750312,
                      0.7217967206240488
                    ],
                    [
                      0.25931824520492325,
                      0.28399909527998995,
                      0.3100456787108203,
                      0.3373555538040804,
                      0.3657956179398288,
                      0.39520333782138384,
                      0.4253894821256308,
                      0.4561423389951987,
                      0.4872332676975639,
                      0.5184233029900679,
                      0.5494704210260513,
                      0.5801370040206275,
                      0.6101970189946817,
                      0.6394424573644633,
                      0.6676886617368445,
                      0.6947782811650303,
                      0.7205837287113264,
                      0.745008146788081,
                      0.7679850002023197,
                      0.7894765028768309
                    ],
                    [
                      0.18432916123876414,
                      0.21080930528163186,
                      0.2399743319083757,
                      0.2717847165949875,
                      0.3061134545956832,
                      0.34273744405277146,
                      0.38133513684963943,
                      0.4214920650711701,
                      0.46271496039578125,
                      0.5044539472241173,
                      0.5461309460192836,
                      0.587171292309676,
                      0.6270349621284822,
                      0.6652438708953688,
                      0.7014024578981097,
                      0.7352099727942766,
                      0.7664642273101304,
                      0.795057753880451,
                      0.8209681116773462,
                      0.8442444266160958
                    ],
                    [
                      0.12729830320347693,
                      0.15246492285961216,
                      0.18157176764508695,
                      0.21482687373595563,
                      0.2522951238501685,
                      0.29385256803759524,
                      0.3391503311694821,
                      0.38759805689019017,
                      0.4383756498134949,
                      0.4904776341936838,
                      0.542787314859204,
                      0.5941701712920425,
                      0.6435704238148237,
                      0.6900937727677959,
                      0.7330633349025438,
                      0.7720430702833634,
                      0.8068306583075949,
                      0.8374273497797221,
                      0.8639946652907259,
                      0.8868072398124102
                    ],
                    [
                      0.08605109388601173,
                      0.10805719708168988,
                      0.134860575961894,
                      0.16706716538727795,
                      0.20514136185201706,
                      0.24929555622898023,
                      0.299373968447071,
                      0.35475821623783527,
                      0.41432932530163064,
                      0.4765161913122089,
                      0.539439824165667,
                      0.6011309982411995,
                      0.6597705648601857,
                      0.7138923539334417,
                      0.7625038557026498,
                      0.8051107334039284,
                      0.8416611852659907,
                      0.8724428355653437,
                      0.8979658645564406,
                      0.918856945961638
                    ],
                    [
                      0.05729142433785018,
                      0.07543270074598049,
                      0.09871686183763848,
                      0.1281917395933661,
                      0.16485746944286903,
                      0.20949040646222372,
                      0.26241026737329914,
                      0.3232321983504669,
                      0.3906844665021605,
                      0.4625913532335428,
                      0.5360887719458589,
                      0.6080511907862608,
                      0.6756055335023508,
                      0.736561034176427,
                      0.7896291817449363,
                      0.8344104028195285,
                      0.8712138541994164,
                      0.9008098528897741,
                      0.9241962578413474,
                      0.9424212111107133
                    ],
                    [
                      0.03774672216054448,
                      0.052082986831560464,
                      0.07145983009533914,
                      0.09730558273492,
                      0.13117866242567194,
                      0.17456305764519403,
                      0.22852187290623235,
                      0.29323457279386145,
                      0.3675421663239986,
                      0.44872462690187015,
                      0.5327344574893161,
                      0.6149282304530647,
                      0.6910486222944142,
                      0.7580423822832726,
                      0.8144104805279214,
                      0.8600707371383153,
                      0.8959327521910543,
                      0.923422140854075,
                      0.9441032312968476,
                      0.9594443568634643
                    ],
                    [
                      0.02469494171814489,
                      0.035682085898466845,
                      0.05130044891370532,
                      0.07323591881496938,
                      0.10352721299830084,
                      0.14439529627003017,
                      0.19783607252309476,
                      0.26493106866446475,
                      0.34499453653606343,
                      0.4349371596028978,
                      0.5293771812619643,
                      0.6217596659969112,
                      0.7060763715510662,
                      0.7782993291185383,
                      0.8368756443471576,
                      0.8823154875872369,
                      0.916362640394202,
                      0.9412159191238683,
                      0.9590142345085424,
                      0.9715863560479974
                    ]
                  ]
                }
              ],
              "layout": {
                "scene": {
                  "xaxis": {
                    "title": {
                      "text": "no_visitors"
                    }
                  },
                  "yaxis": {
                    "title": {
                      "text": "fresh_thickness"
                    }
                  },
                  "zaxis": {
                    "title": {
                      "text": "Probability"
                    }
                  }
                },
                "template": {
                  "data": {
                    "bar": [
                      {
                        "error_x": {
                          "color": "#2a3f5f"
                        },
                        "error_y": {
                          "color": "#2a3f5f"
                        },
                        "marker": {
                          "line": {
                            "color": "white",
                            "width": 0.5
                          },
                          "pattern": {
                            "fillmode": "overlay",
                            "size": 10,
                            "solidity": 0.2
                          }
                        },
                        "type": "bar"
                      }
                    ],
                    "barpolar": [
                      {
                        "marker": {
                          "line": {
                            "color": "white",
                            "width": 0.5
                          },
                          "pattern": {
                            "fillmode": "overlay",
                            "size": 10,
                            "solidity": 0.2
                          }
                        },
                        "type": "barpolar"
                      }
                    ],
                    "box": [
                      {
                        "boxpoints": "outliers",
                        "notched": false,
                        "type": "box"
                      }
                    ],
                    "carpet": [
                      {
                        "aaxis": {
                          "endlinecolor": "#2a3f5f",
                          "gridcolor": "#C8D4E3",
                          "linecolor": "#C8D4E3",
                          "minorgridcolor": "#C8D4E3",
                          "startlinecolor": "#2a3f5f"
                        },
                        "baxis": {
                          "endlinecolor": "#2a3f5f",
                          "gridcolor": "#C8D4E3",
                          "linecolor": "#C8D4E3",
                          "minorgridcolor": "#C8D4E3",
                          "startlinecolor": "#2a3f5f"
                        },
                        "type": "carpet"
                      }
                    ],
                    "choropleth": [
                      {
                        "colorbar": {
                          "outlinewidth": 0,
                          "ticks": ""
                        },
                        "type": "choropleth"
                      }
                    ],
                    "contour": [
                      {
                        "colorbar": {
                          "outlinewidth": 0,
                          "ticks": ""
                        },
                        "colorscale": [
                          [
                            0,
                            "#0d0887"
                          ],
                          [
                            0.1111111111111111,
                            "#46039f"
                          ],
                          [
                            0.2222222222222222,
                            "#7201a8"
                          ],
                          [
                            0.3333333333333333,
                            "#9c179e"
                          ],
                          [
                            0.4444444444444444,
                            "#bd3786"
                          ],
                          [
                            0.5555555555555556,
                            "#d8576b"
                          ],
                          [
                            0.6666666666666666,
                            "#ed7953"
                          ],
                          [
                            0.7777777777777778,
                            "#fb9f3a"
                          ],
                          [
                            0.8888888888888888,
                            "#fdca26"
                          ],
                          [
                            1,
                            "#f0f921"
                          ]
                        ],
                        "type": "contour"
                      }
                    ],
                    "contourcarpet": [
                      {
                        "colorbar": {
                          "outlinewidth": 0,
                          "ticks": ""
                        },
                        "type": "contourcarpet"
                      }
                    ],
                    "heatmap": [
                      {
                        "colorbar": {
                          "outlinewidth": 0,
                          "ticks": ""
                        },
                        "colorscale": [
                          [
                            0,
                            "#0d0887"
                          ],
                          [
                            0.1111111111111111,
                            "#46039f"
                          ],
                          [
                            0.2222222222222222,
                            "#7201a8"
                          ],
                          [
                            0.3333333333333333,
                            "#9c179e"
                          ],
                          [
                            0.4444444444444444,
                            "#bd3786"
                          ],
                          [
                            0.5555555555555556,
                            "#d8576b"
                          ],
                          [
                            0.6666666666666666,
                            "#ed7953"
                          ],
                          [
                            0.7777777777777778,
                            "#fb9f3a"
                          ],
                          [
                            0.8888888888888888,
                            "#fdca26"
                          ],
                          [
                            1,
                            "#f0f921"
                          ]
                        ],
                        "type": "heatmap"
                      }
                    ],
                    "heatmapgl": [
                      {
                        "colorbar": {
                          "outlinewidth": 0,
                          "ticks": ""
                        },
                        "colorscale": [
                          [
                            0,
                            "#0d0887"
                          ],
                          [
                            0.1111111111111111,
                            "#46039f"
                          ],
                          [
                            0.2222222222222222,
                            "#7201a8"
                          ],
                          [
                            0.3333333333333333,
                            "#9c179e"
                          ],
                          [
                            0.4444444444444444,
                            "#bd3786"
                          ],
                          [
                            0.5555555555555556,
                            "#d8576b"
                          ],
                          [
                            0.6666666666666666,
                            "#ed7953"
                          ],
                          [
                            0.7777777777777778,
                            "#fb9f3a"
                          ],
                          [
                            0.8888888888888888,
                            "#fdca26"
                          ],
                          [
                            1,
                            "#f0f921"
                          ]
                        ],
                        "type": "heatmapgl"
                      }
                    ],
                    "histogram": [
                      {
                        "marker": {
                          "line": {
                            "width": 1
                          },
                          "pattern": {
                            "fillmode": "overlay",
                            "size": 10,
                            "solidity": 0.2
                          }
                        },
                        "type": "histogram"
                      }
                    ],
                    "histogram2d": [
                      {
                        "colorbar": {
                          "outlinewidth": 0,
                          "ticks": ""
                        },
                        "colorscale": [
                          [
                            0,
                            "#0d0887"
                          ],
                          [
                            0.1111111111111111,
                            "#46039f"
                          ],
                          [
                            0.2222222222222222,
                            "#7201a8"
                          ],
                          [
                            0.3333333333333333,
                            "#9c179e"
                          ],
                          [
                            0.4444444444444444,
                            "#bd3786"
                          ],
                          [
                            0.5555555555555556,
                            "#d8576b"
                          ],
                          [
                            0.6666666666666666,
                            "#ed7953"
                          ],
                          [
                            0.7777777777777778,
                            "#fb9f3a"
                          ],
                          [
                            0.8888888888888888,
                            "#fdca26"
                          ],
                          [
                            1,
                            "#f0f921"
                          ]
                        ],
                        "type": "histogram2d"
                      }
                    ],
                    "histogram2dcontour": [
                      {
                        "colorbar": {
                          "outlinewidth": 0,
                          "ticks": ""
                        },
                        "colorscale": [
                          [
                            0,
                            "#0d0887"
                          ],
                          [
                            0.1111111111111111,
                            "#46039f"
                          ],
                          [
                            0.2222222222222222,
                            "#7201a8"
                          ],
                          [
                            0.3333333333333333,
                            "#9c179e"
                          ],
                          [
                            0.4444444444444444,
                            "#bd3786"
                          ],
                          [
                            0.5555555555555556,
                            "#d8576b"
                          ],
                          [
                            0.6666666666666666,
                            "#ed7953"
                          ],
                          [
                            0.7777777777777778,
                            "#fb9f3a"
                          ],
                          [
                            0.8888888888888888,
                            "#fdca26"
                          ],
                          [
                            1,
                            "#f0f921"
                          ]
                        ],
                        "type": "histogram2dcontour"
                      }
                    ],
                    "mesh3d": [
                      {
                        "colorbar": {
                          "outlinewidth": 0,
                          "ticks": ""
                        },
                        "type": "mesh3d"
                      }
                    ],
                    "parcoords": [
                      {
                        "line": {
                          "colorbar": {
                            "outlinewidth": 0,
                            "ticks": ""
                          }
                        },
                        "type": "parcoords"
                      }
                    ],
                    "pie": [
                      {
                        "automargin": true,
                        "type": "pie"
                      }
                    ],
                    "scatter": [
                      {
                        "fillpattern": {
                          "fillmode": "overlay",
                          "size": 10,
                          "solidity": 0.2
                        },
                        "marker": {
                          "opacity": 0.8
                        },
                        "type": "scatter"
                      }
                    ],
                    "scatter3d": [
                      {
                        "line": {
                          "colorbar": {
                            "outlinewidth": 0,
                            "ticks": ""
                          }
                        },
                        "marker": {
                          "colorbar": {
                            "outlinewidth": 0,
                            "ticks": ""
                          },
                          "opacity": 0.8
                        },
                        "type": "scatter3d"
                      }
                    ],
                    "scattercarpet": [
                      {
                        "marker": {
                          "colorbar": {
                            "outlinewidth": 0,
                            "ticks": ""
                          }
                        },
                        "type": "scattercarpet"
                      }
                    ],
                    "scattergeo": [
                      {
                        "marker": {
                          "colorbar": {
                            "outlinewidth": 0,
                            "ticks": ""
                          }
                        },
                        "type": "scattergeo"
                      }
                    ],
                    "scattergl": [
                      {
                        "marker": {
                          "colorbar": {
                            "outlinewidth": 0,
                            "ticks": ""
                          }
                        },
                        "type": "scattergl"
                      }
                    ],
                    "scattermapbox": [
                      {
                        "marker": {
                          "colorbar": {
                            "outlinewidth": 0,
                            "ticks": ""
                          }
                        },
                        "type": "scattermapbox"
                      }
                    ],
                    "scatterpolar": [
                      {
                        "marker": {
                          "colorbar": {
                            "outlinewidth": 0,
                            "ticks": ""
                          }
                        },
                        "type": "scatterpolar"
                      }
                    ],
                    "scatterpolargl": [
                      {
                        "marker": {
                          "colorbar": {
                            "outlinewidth": 0,
                            "ticks": ""
                          }
                        },
                        "type": "scatterpolargl"
                      }
                    ],
                    "scatterternary": [
                      {
                        "marker": {
                          "colorbar": {
                            "outlinewidth": 0,
                            "ticks": ""
                          }
                        },
                        "type": "scatterternary"
                      }
                    ],
                    "surface": [
                      {
                        "colorbar": {
                          "outlinewidth": 0,
                          "ticks": ""
                        },
                        "colorscale": [
                          [
                            0,
                            "#0d0887"
                          ],
                          [
                            0.1111111111111111,
                            "#46039f"
                          ],
                          [
                            0.2222222222222222,
                            "#7201a8"
                          ],
                          [
                            0.3333333333333333,
                            "#9c179e"
                          ],
                          [
                            0.4444444444444444,
                            "#bd3786"
                          ],
                          [
                            0.5555555555555556,
                            "#d8576b"
                          ],
                          [
                            0.6666666666666666,
                            "#ed7953"
                          ],
                          [
                            0.7777777777777778,
                            "#fb9f3a"
                          ],
                          [
                            0.8888888888888888,
                            "#fdca26"
                          ],
                          [
                            1,
                            "#f0f921"
                          ]
                        ],
                        "type": "surface"
                      }
                    ],
                    "table": [
                      {
                        "cells": {
                          "fill": {
                            "color": "#EBF0F8"
                          },
                          "line": {
                            "color": "white"
                          }
                        },
                        "header": {
                          "fill": {
                            "color": "#C8D4E3"
                          },
                          "line": {
                            "color": "white"
                          }
                        },
                        "type": "table"
                      }
                    ]
                  },
                  "layout": {
                    "annotationdefaults": {
                      "arrowcolor": "#2a3f5f",
                      "arrowhead": 0,
                      "arrowwidth": 1
                    },
                    "autotypenumbers": "strict",
                    "coloraxis": {
                      "colorbar": {
                        "outlinewidth": 0,
                        "ticks": ""
                      }
                    },
                    "colorscale": {
                      "diverging": [
                        [
                          0,
                          "#8e0152"
                        ],
                        [
                          0.1,
                          "#c51b7d"
                        ],
                        [
                          0.2,
                          "#de77ae"
                        ],
                        [
                          0.3,
                          "#f1b6da"
                        ],
                        [
                          0.4,
                          "#fde0ef"
                        ],
                        [
                          0.5,
                          "#f7f7f7"
                        ],
                        [
                          0.6,
                          "#e6f5d0"
                        ],
                        [
                          0.7,
                          "#b8e186"
                        ],
                        [
                          0.8,
                          "#7fbc41"
                        ],
                        [
                          0.9,
                          "#4d9221"
                        ],
                        [
                          1,
                          "#276419"
                        ]
                      ],
                      "sequential": [
                        [
                          0,
                          "#0d0887"
                        ],
                        [
                          0.1111111111111111,
                          "#46039f"
                        ],
                        [
                          0.2222222222222222,
                          "#7201a8"
                        ],
                        [
                          0.3333333333333333,
                          "#9c179e"
                        ],
                        [
                          0.4444444444444444,
                          "#bd3786"
                        ],
                        [
                          0.5555555555555556,
                          "#d8576b"
                        ],
                        [
                          0.6666666666666666,
                          "#ed7953"
                        ],
                        [
                          0.7777777777777778,
                          "#fb9f3a"
                        ],
                        [
                          0.8888888888888888,
                          "#fdca26"
                        ],
                        [
                          1,
                          "#f0f921"
                        ]
                      ],
                      "sequentialminus": [
                        [
                          0,
                          "#0d0887"
                        ],
                        [
                          0.1111111111111111,
                          "#46039f"
                        ],
                        [
                          0.2222222222222222,
                          "#7201a8"
                        ],
                        [
                          0.3333333333333333,
                          "#9c179e"
                        ],
                        [
                          0.4444444444444444,
                          "#bd3786"
                        ],
                        [
                          0.5555555555555556,
                          "#d8576b"
                        ],
                        [
                          0.6666666666666666,
                          "#ed7953"
                        ],
                        [
                          0.7777777777777778,
                          "#fb9f3a"
                        ],
                        [
                          0.8888888888888888,
                          "#fdca26"
                        ],
                        [
                          1,
                          "#f0f921"
                        ]
                      ]
                    },
                    "colorway": [
                      "#636efa",
                      "#EF553B",
                      "#00cc96",
                      "#ab63fa",
                      "#FFA15A",
                      "#19d3f3",
                      "#FF6692",
                      "#B6E880",
                      "#FF97FF",
                      "#FECB52"
                    ],
                    "font": {
                      "color": "#2a3f5f"
                    },
                    "geo": {
                      "bgcolor": "white",
                      "lakecolor": "white",
                      "landcolor": "white",
                      "showlakes": true,
                      "showland": true,
                      "subunitcolor": "#C8D4E3"
                    },
                    "height": 400,
                    "hoverlabel": {
                      "align": "left"
                    },
                    "hovermode": "closest",
                    "mapbox": {
                      "style": "light"
                    },
                    "margin": {
                      "b": 2,
                      "l": 2,
                      "r": 2,
                      "t": 30
                    },
                    "paper_bgcolor": "white",
                    "plot_bgcolor": "white",
                    "polar": {
                      "angularaxis": {
                        "gridcolor": "#EBF0F8",
                        "linecolor": "#EBF0F8",
                        "ticks": ""
                      },
                      "bgcolor": "white",
                      "radialaxis": {
                        "gridcolor": "#EBF0F8",
                        "linecolor": "#EBF0F8",
                        "ticks": ""
                      }
                    },
                    "scene": {
                      "camera": {
                        "eye": {
                          "x": 1.5,
                          "y": 1.5,
                          "z": 0.1
                        }
                      },
                      "xaxis": {
                        "backgroundcolor": "white",
                        "gridcolor": "#DFE8F3",
                        "gridwidth": 2,
                        "linecolor": "#EBF0F8",
                        "showbackground": true,
                        "ticks": "",
                        "zerolinecolor": "#EBF0F8"
                      },
                      "yaxis": {
                        "backgroundcolor": "white",
                        "gridcolor": "#DFE8F3",
                        "gridwidth": 2,
                        "linecolor": "#EBF0F8",
                        "showbackground": true,
                        "ticks": "",
                        "zerolinecolor": "#EBF0F8"
                      },
                      "zaxis": {
                        "backgroundcolor": "white",
                        "gridcolor": "#DFE8F3",
                        "gridwidth": 2,
                        "linecolor": "#EBF0F8",
                        "showbackground": true,
                        "ticks": "",
                        "zerolinecolor": "#EBF0F8"
                      }
                    },
                    "shapedefaults": {
                      "line": {
                        "color": "#2a3f5f"
                      }
                    },
                    "ternary": {
                      "aaxis": {
                        "gridcolor": "#DFE8F3",
                        "linecolor": "#A2B1C6",
                        "ticks": ""
                      },
                      "baxis": {
                        "gridcolor": "#DFE8F3",
                        "linecolor": "#A2B1C6",
                        "ticks": ""
                      },
                      "bgcolor": "white",
                      "caxis": {
                        "gridcolor": "#DFE8F3",
                        "linecolor": "#A2B1C6",
                        "ticks": ""
                      }
                    },
                    "title": {
                      "x": 0.5
                    },
                    "xaxis": {
                      "automargin": true,
                      "gridcolor": "#EBF0F8",
                      "linecolor": "#EBF0F8",
                      "linewidth": 2,
                      "showline": true,
                      "ticks": "",
                      "title": {
                        "standoff": 15
                      },
                      "zerolinecolor": "#EBF0F8",
                      "zerolinewidth": 2
                    },
                    "yaxis": {
                      "automargin": true,
                      "gridcolor": "#EBF0F8",
                      "linecolor": "#EBF0F8",
                      "linewidth": 2,
                      "showline": true,
                      "ticks": "",
                      "title": {
                        "standoff": 15
                      },
                      "zerolinecolor": "#EBF0F8",
                      "zerolinewidth": 2
                    }
                  }
                },
                "title": {
                  "text": "Model Prediction"
                }
              }
            }
          },
          "metadata": {},
          "output_type": "display_data"
        }
      ],
      "source": [
        "graphing.model_to_surface_plot(model_with_interaction, [\"no_visitors\", \"fresh_thickness\"], test)"
      ]
    },
    {
      "attachments": {},
      "cell_type": "markdown",
      "metadata": {},
      "source": [
        "It looks quite different to the other! From any side, we can see an s-shape, but these combine in strange ways.\n",
        "\n",
        "We can see that the risk goes up on days with lots of visitors _and_ lots of snow. There is no real risk of avalanche when there's a lot of snow but no visitors, or when there are a lot of visitors but no snow.\n",
        "\n",
        "The fact that it shows high risk when there's no fresh snow and no visitors could be due to rain, which keeps visitors and snow clouds away but results in avalanches of the older snow. To confirm this, we'd need to explore the data in more depth, but we'll stop here for now.\n",
        "\n",
        "## Summary\n",
        "\n",
        "Well done! Let's recap. We've:\n",
        "\n",
        "* improved our simple model by adding more features. \n",
        "* practiced interpreting our model coefficients (parameters) from the model summary.\n",
        "* eliminated unnecessary features.\n",
        "* explored how sometimes it's important to think about what your data really means.\n",
        "* created a model that combined features to give a superior result."
      ]
    }
  ],
  "metadata": {
    "kernel_info": {
      "name": "conda-env-azureml_py38-py"
    },
    "kernelspec": {
      "display_name": "Python-Beginners-Course-5umL8QnO",
      "language": "python",
      "name": "python3"
    },
    "language_info": {
      "codemirror_mode": {
        "name": "ipython",
        "version": 3
      },
      "file_extension": ".py",
      "mimetype": "text/x-python",
      "name": "python",
      "nbconvert_exporter": "python",
      "pygments_lexer": "ipython3",
      "version": "3.10.9"
    },
    "nteract": {
      "version": "nteract-front-end@1.0.0"
    }
  },
  "nbformat": 4,
  "nbformat_minor": 2
}
