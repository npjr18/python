{
 "cells": [
  {
   "cell_type": "markdown",
   "metadata": {},
   "source": [
    "# Knowledge check"
   ]
  },
  {
   "cell_type": "markdown",
   "metadata": {},
   "source": [
    "### What do TPR and FPR mean? \n",
    "\n",
    "1. TPR is the number of correct responses. FPR is the number of incorrect responses.\n",
    "1. TPR is the proportion of answers that were provided correctly as ‘true’. FPR is the proportion of answers that were provided incorrectly as ‘true’.\n",
    "1. TPR is the proportion of answers that were provided correctly as ‘true’. FPR is the proportion of answers that were provided incorrectly as ‘false’."
   ]
  },
  {
   "cell_type": "code",
   "execution_count": null,
   "metadata": {},
   "outputs": [],
   "source": [
    "# Your answer:"
   ]
  },
  {
   "cell_type": "markdown",
   "metadata": {},
   "source": [
    "### What are on the x and y axes in an ROC plot? \n",
    "\n",
    "1. x-axis: FP rate, y-axis: TP rate\n",
    "1. x-axis: Number of FPs, y-axis: Number of TPs\n",
    "1. x-axis: Number of TPs, y-axis: Number of FPs"
   ]
  },
  {
   "cell_type": "code",
   "execution_count": null,
   "metadata": {},
   "outputs": [],
   "source": [
    "# Your answer:"
   ]
  },
  {
   "cell_type": "markdown",
   "metadata": {},
   "source": [
    "### What does area under the curve for an ROC plot tell us? \n",
    "\n",
    "1. How well the model works at its optimum decision threshold\n",
    "1. Which is the optimum decision threshold?\n",
    "1. It gives a summary of how well a model works across a variety of thresholds."
   ]
  },
  {
   "cell_type": "code",
   "execution_count": null,
   "metadata": {},
   "outputs": [],
   "source": [
    "# Your answer:"
   ]
  }
 ],
 "metadata": {
  "language_info": {
   "name": "python"
  }
 },
 "nbformat": 4,
 "nbformat_minor": 2
}
