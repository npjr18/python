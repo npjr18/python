{
 "cells": [
  {
   "cell_type": "markdown",
   "metadata": {},
   "source": [
    "# Introduction\n",
    "\n",
    "The fact that data shapes machine learning gives machine learning its predictive power. To build effective models, you must understand the data you use.\n",
    "\n",
    "Here, we explore how both humans and computers categorize, store, and interpret data. We examine what makes a good dataset, and how to fix issues in our available data. We also practice exploration of new data, and we see how deep thinking about a dataset can help us build better predictive models.\n",
    "\n",
    "## Scenario: the last voyage of the Titanic\n",
    "\n",
    "As an eager marine archaeologist, you have an unusually keen interest in maritime disasters. Late one night, while clicking between images of whale bones and ancient scrolls about Atlantis, you find a public dataset that lists known passengers and crew of the first – and last – voyage of the Titanic. Drawn in by the balance between fate and chance, you wonder – what factors determined the survival of a Titanic passenger? Data from this period are somewhat incomplete – much information for certain passengers is unknown. You must find ways to patch up this data before you can fully analyze it.\n"
   ]
  },
  {
   "cell_type": "markdown",
   "metadata": {},
   "source": [
    "# Good, bad, and missing data\n",
    "\n",
    "The fact that data shapes machine learning gives machine learning its predictive power. As a side effect, models trained only on small amounts of data rarely perform well in the real world, because small amounts of data don't usually serve as good real-world representations. For example, four randomly selected people, chosen from anywhere on Earth, wouldn't reliably represent the average person on Earth. By contrast, if we selected 1 billion people, our data would probably become representative.\n",
    "\n",
    "However, other factors also have importance. We need large, representative data samples that\n",
    "\n",
    "- Have zero errors\n",
    "- Contain all key information\n",
    "- We cover these concerns here, before we move to a practical exercise involving our Titanic dataset.\n",
    "\n",
    "## 'Representative' - What does that mean?\n",
    "\n",
    "Statisticians rely on two key concepts: `populations` and `samples`, to decide if available data resources actually help their analysis and study.\n",
    "\n",
    "We focus on a population - in other words, every conceivable data-point. For our Titanic scenario, we want to know which factors led to survival for everyone on board. This includes stowaways not listed on the official records. As a second example, to investigate the relationship between personality traits and likelihood of a ship sinking, our population would cover every ship captain who ever lived.\n",
    "\n",
    "A sample refers to the data available to us, as a subset of the total population. For our Titanic dataset, this sample covers only the people listed on the official passenger list. For our second example, the sample might cover every ship captain we can convince to take a personality test at our local marina.\n",
    "\n",
    "We need to think about whether the sample accurately represents the population. For our Titanic example, our sample is so large that it probably serves as a good representation of the population. By contrast, for our second example, conversations with only ship captains at our local marina probably don't give us a good cross-section of the sailors we would find across the globe. Data from our local marina might build a model that works well for local captains, but don't really help us understand captains from other countries/regions.\n",
    "\n",
    "## What is a data error?\n",
    "\n",
    "The term 'data errors' refers to incorrect data. Enough data errors can skew a model, so that it consistently makes incorrect predictions. It's simple: if you put bad data in, you get bad predictions.\n",
    "\n",
    "Errors in data are a fact of life, and we can group them in two categories:\n",
    "\n",
    "The term 'measurement errors' refers to data with low-quality measurements at the data-collection phase. These errors are often subtle, and difficult or impossible to eliminate.\n",
    "\n",
    "The term 'data entry errors' refers to accurately collected data, but then incorrectly or inaccurately placed into a spreadsheet or data-management resource. Sometimes, we can spot data entry errors more easily than we can spot measurement errors. For example, we might measure someone as 1.8 meters tall, but miss the decimal place and write 18 meters. We can easily see the error because a tree-sized person is unrealistic.\n",
    "\n",
    "## What is complete data?\n",
    "\n",
    "A complete dataset has no missing data. Missing data has two types. This data shows the height and weight of Dylan, Reece, and Tom:\n",
    "\n",
    "| Name  | Height (m) | Weight (kg) |\n",
    "| ----- | ---------- | ----------- |\n",
    "| Dylan | 1.8        | 75          |\n",
    "| Reece |            | 82          |\n",
    "\n",
    "The data is incomplete because of a missing sample: Tom. Additionally, the data for Reece doesn't show the height of Reece.\n",
    "\n",
    "Ideally, we always work with complete data, but we don't always have complete data available to us. For incomplete data, we can:\n",
    "\n",
    "Choose a model that can work with incomplete data, or\n",
    "Remove samples (rows) that have incomplete data, and work with the remaining data, or\n",
    "Artificially add values as reasonable substitutes for the missing data\n",
    "Most times, picking a model that can handle missing data works best, although this isn't always possible. Removal of incomplete data is the easiest approach, and it usually works. However, we must be careful that removal of data doesn't cause a sample to misrepresent the population. Artificially adding data is usually a method of last resort.\n"
   ]
  }
 ],
 "metadata": {
  "kernelspec": {
   "display_name": "Python-Beginners-Course-n5YFLC1P",
   "language": "python",
   "name": "python3"
  },
  "language_info": {
   "name": "python",
   "version": "3.10.9"
  }
 },
 "nbformat": 4,
 "nbformat_minor": 2
}
