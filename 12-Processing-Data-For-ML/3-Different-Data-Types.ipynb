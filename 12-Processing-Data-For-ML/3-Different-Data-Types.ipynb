{
 "cells": [
  {
   "cell_type": "markdown",
   "metadata": {},
   "source": [
    "# Examine different types of data\n",
    "\n",
    "Data is just another word for collected information. Volumes and masses of available information are huge, spanning many different information types.\n",
    "\n",
    "We can categorize data in many ways. To operate in the machine learning space, we must understand both the type, and digital storage systems, of the data available to us."
   ]
  },
  {
   "cell_type": "markdown",
   "metadata": {},
   "source": [
    "## Continuous, ordinal, and categorical data\n",
    "For data operations, we sometimes need awareness of what exactly the data represents. This awareness can help us choose the right machine learning model. It can also help us organize our data in specific, helpful ways.\n",
    "\n",
    "**`Continuous data`** refers to numerical information that can increase or decrease by any amount. For example, you can add 1 millimeter to 1 meter, and calculate a sum as 1.001 meters.\n",
    "\n",
    "**`Categorical data`** refers to data that doesn’t fall on a continuous spectrum. In our scenario, the data categorizes the people on the Titanic as “crew” or “passengers.” Categorical data can’t be stored as numbers in a clearly obvious way.\n",
    "\n",
    "**`Ordinal data`** refers to categorical data that have a defined order, and can therefore support storage as numerical values. For example, we can define values of big, medium, and small as ordinal data because we can numerically rank them: big > medium > small. By contrast, the values apple, orange and coconut are categorical because we can't rank them. Ordinal data can also refer to numbers that can increase or decrease, but only by set amounts. For example, the number of people boarding a boat is guaranteed to be a whole number: no one can half board.\n",
    "\n",
    "**`IDs`** refer to a special type of categorical data where each sample has its own unique ID. For example, in our dataset, each person on the Titanic has a given ID value, even if that person has the same name as someone else. Identity values help us navigate in a dataset, but our data analysis doesn't directly involve those values."
   ]
  },
  {
   "cell_type": "markdown",
   "metadata": {},
   "source": [
    "## Datatypes\n",
    "A computer must store and process all the data we use for machine learning. While we can write almost any data on a piece of paper with a pencil, computers store information as series of 0's and 1's. This places restrictions on the way we use information.\n",
    "\n",
    "Datatype refers to the type of data that a computer store. Datatypes generally have these categories:\n",
    "\n",
    "- integers: counting numbers: for example, **2**\n",
    "- floating-point numbers: numbers with decimal places: for example, **2.43**\n",
    "- strings: letters and words\n",
    "- booleans: true and false\n",
    "- None, void, or null: not data, but rather the *absence* of data\n",
    "The exact terms and implementation for these concepts vary from language to language, but they all operate in similar ways across all computer languages.\n",
    "\n",
    "Sometimes, two different datatypes offer equivalent functionality. For example, computers can handle true/false values as Booleans (true or false), strings (‘y’, or ‘n’), integers (0 or 1) or even floating-point numbers (0.0 or 1.0).\n",
    "\n"
   ]
  },
  {
   "cell_type": "markdown",
   "metadata": {},
   "source": [
    "## Derived datatypes\n",
    "As we use technology, we encounter many more basic, 'primitive' datatypes beyond the above list. Computers can store dates, images, 3D models, and so on. We refer to these as **derived datatypes**. We start with one or more primitive datatypes to construct a derived datatype.\n",
    "\n",
    "Often, in machine learning, it helps to convert derived types into simpler representations. For example, we can store a defined date value (for example, **1st January, 2017**) as an integer or floating point number: **20170101**. Integer or floating point numbers make the calculations behind our models easier."
   ]
  },
  {
   "cell_type": "markdown",
   "metadata": {},
   "source": [
    "## Too many choices?\n",
    "Knowing the kind of data you have available can help you choose the right datatype.\n",
    "\n",
    "The correct datatype can depend on the package you use to run your models, although generally, packages are permissive. Generally:\n",
    "\n",
    "To work with continuous data, floating point numbers become the best choice.\n",
    "Ordinal data typically encodes with integer values.\n",
    "Categorical data involving only two categories can usually encode as Boolean or integer data. Working with three or more categories can become a little more complicated. Don't worry - the next lesson will cover this topic!"
   ]
  }
 ],
 "metadata": {
  "language_info": {
   "name": "python"
  }
 },
 "nbformat": 4,
 "nbformat_minor": 2
}
