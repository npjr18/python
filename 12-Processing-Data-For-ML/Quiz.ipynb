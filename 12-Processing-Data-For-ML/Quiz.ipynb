{
 "cells": [
  {
   "cell_type": "markdown",
   "metadata": {},
   "source": [
    "# Knowledge check"
   ]
  },
  {
   "cell_type": "markdown",
   "metadata": {},
   "source": [
    "### Why do we clean our data before training? \n",
    "\n",
    "1. Removing rows of data makes our model more powerful\n",
    "1. Cleaning data helps us select features that will help the performance of the model\n",
    "1. Removing rows that have errors prevents these rows from misleading the training process"
   ]
  },
  {
   "cell_type": "code",
   "execution_count": null,
   "metadata": {},
   "outputs": [],
   "source": [
    "# Your answer:"
   ]
  },
  {
   "cell_type": "markdown",
   "metadata": {},
   "source": [
    "### What kind of data are best encoded with one-hot vectors? \n",
    "\n",
    "1. Ordinal data\n",
    "1. Categorical data with two possible values\n",
    "1. Categorical data with three or more values"
   ]
  },
  {
   "cell_type": "code",
   "execution_count": null,
   "metadata": {},
   "outputs": [],
   "source": [
    "# Your answer:"
   ]
  },
  {
   "cell_type": "markdown",
   "metadata": {},
   "source": [
    "### What is a data sample? What is a population? \n",
    "\n",
    "1. A sample is all possible data we care about. A population is the subset of that data which we actually have on hand\n",
    "1. Both population and sample refer to data we use to train our model.\n",
    "1. A population is all possible data we care about. A sample is the subset of that data which we actually have on hand."
   ]
  },
  {
   "cell_type": "code",
   "execution_count": null,
   "metadata": {},
   "outputs": [],
   "source": [
    "# Your answer:"
   ]
  },
  {
   "cell_type": "markdown",
   "metadata": {},
   "source": [
    "### Why are many cost functions available? \n",
    "\n",
    "1. A unique cost function is required for each processed currency or banking system.\n",
    "1. Cost functions help models process data, and many model types are available.\n",
    "1. Different cost functions can arrive at different answers, and what's best depends on the goal."
   ]
  },
  {
   "cell_type": "code",
   "execution_count": null,
   "metadata": {},
   "outputs": [],
   "source": [
    "# Your answer:"
   ]
  },
  {
   "cell_type": "markdown",
   "metadata": {},
   "source": [
    "### You have a model that does not perform well. Which of these will definitely not help improve its performance? \n",
    "\n",
    "1. Adding additional samples (rows)\n",
    "1. Adding a small number of features (columns) that you know relate to what the model is trying to predict\n",
    "1. Adding a large number of features that you know have no relation to what the model is trying to predict."
   ]
  },
  {
   "cell_type": "code",
   "execution_count": null,
   "metadata": {},
   "outputs": [],
   "source": [
    "# Your answer:"
   ]
  }
 ],
 "metadata": {
  "language_info": {
   "name": "python"
  }
 },
 "nbformat": 4,
 "nbformat_minor": 2
}
