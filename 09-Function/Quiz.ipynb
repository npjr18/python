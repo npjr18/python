{
 "cells": [
  {
   "cell_type": "markdown",
   "metadata": {},
   "source": [
    "# Knowledge check"
   ]
  },
  {
   "cell_type": "markdown",
   "metadata": {},
   "source": [
    "### Can a function that defines arguments be called without arguments? \n",
    "\n",
    "1. No, because defined arguments are required.\n",
    "1. Yes, because they're optional.\n",
    "1. Yes, as long as there's a return value."
   ]
  },
  {
   "cell_type": "code",
   "execution_count": null,
   "metadata": {},
   "outputs": [],
   "source": [
    "# Your answer:"
   ]
  },
  {
   "cell_type": "markdown",
   "metadata": {},
   "source": [
    "### Can a function with only keyword arguments be called without any arguments? \n",
    "\n",
    "1. Yes, because keyword arguments are optional when calling a function.\n",
    "1. No, because you must pass values so that the function can work.\n",
    "1. No, because it needs arguments."
   ]
  },
  {
   "cell_type": "code",
   "execution_count": null,
   "metadata": {},
   "outputs": [],
   "source": [
    "# Your answer:"
   ]
  },
  {
   "cell_type": "markdown",
   "metadata": {},
   "source": [
    "### Can a function define arguments and keyword arguments? \n",
    "\n",
    "1. No, only arguments or keyword arguments are allowed.\n",
    "1. Yes, but only if keyword arguments are defined before arguments.\n",
    "1. Yes, but only if arguments are defined before keyword arguments."
   ]
  },
  {
   "cell_type": "code",
   "execution_count": null,
   "metadata": {},
   "outputs": [],
   "source": [
    "# Your answer:"
   ]
  },
  {
   "cell_type": "markdown",
   "metadata": {},
   "source": [
    "### What is the minimum number of arguments that a function can accept when you're using variable arguments? \n",
    "\n",
    "1. Zero. There's no need to pass any argument at all when you're using variable arguments.\n",
    "1. At least one argument is needed because arguments in functions are required.\n",
    "1. At least one argument is needed unless it's a keyword argument."
   ]
  },
  {
   "cell_type": "code",
   "execution_count": null,
   "metadata": {},
   "outputs": [],
   "source": [
    "# Your answer:"
   ]
  },
  {
   "cell_type": "markdown",
   "metadata": {},
   "source": [
    "### What is the syntax to declare variable arguments and variable keyword arguments? \n",
    "\n",
    "1. `args, kwargs`\n",
    "1. `*a, *kw`\n",
    "1. `*args, **kwargs`"
   ]
  },
  {
   "cell_type": "code",
   "execution_count": null,
   "metadata": {},
   "outputs": [],
   "source": [
    "# Your answer:"
   ]
  }
 ],
 "metadata": {
  "language_info": {
   "name": "python"
  }
 },
 "nbformat": 4,
 "nbformat_minor": 2
}
