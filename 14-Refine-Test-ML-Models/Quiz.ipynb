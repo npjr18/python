{
 "cells": [
  {
   "cell_type": "markdown",
   "metadata": {},
   "source": [
    "# Knowledge check"
   ]
  },
  {
   "cell_type": "markdown",
   "metadata": {},
   "source": [
    "### What is a benefit of normalizing data? \n",
    "\n",
    "1. Faster training times\n",
    "1. More accurate removal of missing values\n",
    "1. Identification of preferential algorithms for training"
   ]
  },
  {
   "cell_type": "code",
   "execution_count": null,
   "metadata": {},
   "outputs": [],
   "source": [
    "# Your answer:"
   ]
  },
  {
   "cell_type": "markdown",
   "metadata": {},
   "source": [
    "### A model you are training performs well on your training set, but poorly on your test set. What is likely happening? \n",
    "\n",
    "1. Underfitting has occurred, and your model isn't accurate enough. You should keep training.\n",
    "1. Overfitting has occurred, and your model isn't performing well on new data outside training. You could stop training earlier, or gather more diverse data.\n",
    "1. Your model is fine. You need to use your training data to test your model instead."
   ]
  },
  {
   "cell_type": "code",
   "execution_count": null,
   "metadata": {},
   "outputs": [],
   "source": [
    "# Your answer:"
   ]
  },
  {
   "cell_type": "markdown",
   "metadata": {},
   "source": [
    "### Your model is to be used in a challenging application, where you are required to have very reliable performance. What is an appropriate method to test your models reliability in difficult situations? \n",
    "\n",
    "1. Create a larger training set\n",
    "1. Use the hold-out approach and create a third, special dataset that's curated to include examples where your models output needs to meet performance thresholds.\n",
    "1. Keep a keen eye on your cost as you train. If you get any variability, you can stop training."
   ]
  },
  {
   "cell_type": "code",
   "execution_count": null,
   "metadata": {},
   "outputs": [],
   "source": [
    "# Your answer:"
   ]
  }
 ],
 "metadata": {
  "language_info": {
   "name": "python"
  }
 },
 "nbformat": 4,
 "nbformat_minor": 2
}
