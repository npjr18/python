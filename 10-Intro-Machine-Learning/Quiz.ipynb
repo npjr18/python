{
 "cells": [
  {
   "cell_type": "markdown",
   "metadata": {},
   "source": [
    "# Knowledge check"
   ]
  },
  {
   "cell_type": "markdown",
   "metadata": {},
   "source": [
    "### What makes machine-learning algorithms different from traditional algorithms? \n",
    "\n",
    "1. Machine-learning algorithms are always more complicated to build than traditional algorithms.\n",
    "1. Machine-learning algorithms must be trained every time they're used.\n",
    "1. Machine-learning algorithms are shaped by data directly as part of development. Traditional algorithms are based almost entirely on theory or on opinions of the person writing the code."
   ]
  },
  {
   "cell_type": "code",
   "execution_count": null,
   "metadata": {},
   "outputs": [],
   "source": [
    "# Your answer:"
   ]
  },
  {
   "cell_type": "markdown",
   "metadata": {},
   "source": [
    "### When do we want to perform training? \n",
    "\n",
    "1. Whenever we want to use a model\n",
    "1. Only when we want to improve the model\n",
    "1. Every time we load a model from file"
   ]
  },
  {
   "cell_type": "code",
   "execution_count": null,
   "metadata": {},
   "outputs": [],
   "source": [
    "# Your answer:"
   ]
  },
  {
   "cell_type": "markdown",
   "metadata": {},
   "source": [
    "### What is the relationship between a model, an objective, and training data? \n",
    "\n",
    "1. The training data is used to make changes to the model. These changes help the model get better at achieving the objective.\n",
    "1. The training data is used to make changes to the objective. These changes help the objective be more like the model.\n",
    "1. The model is used to make changes to the training data. These changes help the training data get better at achieving the objective."
   ]
  },
  {
   "cell_type": "code",
   "execution_count": null,
   "metadata": {},
   "outputs": [],
   "source": [
    "# Your answer:"
   ]
  }
 ],
 "metadata": {
  "language_info": {
   "name": "python"
  }
 },
 "nbformat": 4,
 "nbformat_minor": 2
}
