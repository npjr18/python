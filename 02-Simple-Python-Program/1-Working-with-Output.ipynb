{
 "cells": [
  {
   "cell_type": "markdown",
   "metadata": {},
   "source": [
    "# Work with output\n",
    "\n",
    "To create a program in Python, you need to store it in a file. The file should have the extension *.py*.\n",
    "\n",
    "The idea of a program is to do something or carry out a task. To have the program do something, you'll need to add the statements or instructions to perform the task. For example, an instruction could print some text or calculate something. An example program, named *python.py*, can look something like this:\n",
    "\n",
    "```Python\n",
    "# program.py\n",
    "sum = 1 + 2\n",
    "print(sum)\n",
    "```\n",
    "\n",
    "You run it by launching the Python executable program in a console. A console is a command-line application that lets you interact with the operating system. To run a program, type the name of the Python executable program, followed by the name of your program. Here's an example of such an execution:\n",
    "\n",
    "```Shell\n",
    "# Console\n",
    "python3 program.py\n",
    "```\n",
    "\n",
    "The result would be:\n",
    "\n",
    "```Shell\n",
    "3\n",
    "```\n",
    "\n",
    "However, for this course we are using Python Notebooks, all scripts are within codeblocks of the notebooks, and the output of the code is present below their blocks."
   ]
  },
  {
   "cell_type": "markdown",
   "metadata": {},
   "source": [
    "## Variables\n",
    "\n",
    "To get anywhere with coding, you need to understand that you're operating on data. As your program is working on data, you might need to remember a certain value throughout the program's execution. For that, you use variables.\n",
    "\n",
    "The following example makes a calculation and stores it in variables:"
   ]
  },
  {
   "cell_type": "code",
   "execution_count": 2,
   "metadata": {},
   "outputs": [
    {
     "name": "stdout",
     "output_type": "stream",
     "text": [
      "6\n"
     ]
    }
   ],
   "source": [
    "sum = 1 + 2 # 3\n",
    "product = sum * 2\n",
    "print(product)"
   ]
  },
  {
   "cell_type": "markdown",
   "metadata": {},
   "source": [
    "### Data types\n",
    "\n",
    "A variable assumes a data type. In the preceding program, `sum` gets the type `int`. However, there are many more data types. Here are a few that you're likely to encounter:\n",
    "\n",
    "| **Type**     | **Description**                  | **Example(s)**                |\n",
    "| ------------ | -------------------------------- | ----------------------------- |\n",
    "| Numeric type | Number, with or without decimals | `int, float, complex, no = 3` |\n",
    "| Text type    | String of characters             | `str = \"a literal string\"`    |\n",
    "| Boolean type | Boolean                          | `continue = True`             |\n",
    "\n",
    "There are more complex types, but let's start with these.\n",
    "\n",
    "Here's a piece of code that demonstrates some of the preceding types:\n"
   ]
  },
  {
   "cell_type": "code",
   "execution_count": 3,
   "metadata": {},
   "outputs": [],
   "source": [
    "planets_in_solar_system = 8 # int, pluto used to be the 9th planet, but is too small\n",
    "distance_to_alpha_centauri = 4.367 # float, lightyears\n",
    "can_liftoff = True\n",
    "shuttle_landed_on_the_moon = \"Apollo 11\" #string "
   ]
  },
  {
   "cell_type": "markdown",
   "metadata": {},
   "source": [
    "How do you know what type something has? If you see the data being assigned to the variable as shown in the following code, you can spot it:"
   ]
  },
  {
   "cell_type": "code",
   "execution_count": 4,
   "metadata": {},
   "outputs": [],
   "source": [
    "distance_to_alpha_centauri = 4.367 # looks like a float"
   ]
  },
  {
   "cell_type": "markdown",
   "metadata": {},
   "source": [
    "The other way is to use the `type()` function:"
   ]
  },
  {
   "cell_type": "code",
   "execution_count": 5,
   "metadata": {},
   "outputs": [
    {
     "data": {
      "text/plain": [
       "float"
      ]
     },
     "execution_count": 5,
     "metadata": {},
     "output_type": "execute_result"
    }
   ],
   "source": [
    "type(distance_to_alpha_centauri)"
   ]
  },
  {
   "cell_type": "markdown",
   "metadata": {},
   "source": [
    "## Operators\n",
    "\n",
    "Operators let you perform various operations on variables and their values. The general idea is that you have a left side and a right side and an operator in the middle:\n",
    "\n",
    "```Python\n",
    "<left side> <operator> <right side>\n",
    "```\n",
    "\n",
    "Here's what a real example of the preceding placeholder code would look like:"
   ]
  },
  {
   "cell_type": "code",
   "execution_count": 6,
   "metadata": {},
   "outputs": [
    {
     "data": {
      "text/plain": [
       "2.0"
      ]
     },
     "execution_count": 6,
     "metadata": {},
     "output_type": "execute_result"
    }
   ],
   "source": [
    "left_side = 10\n",
    "right_side = 5\n",
    "left_side / right_side"
   ]
  },
  {
   "cell_type": "markdown",
   "metadata": {},
   "source": [
    "This example uses a slash (`/`) to divide the `left_side` value by the `right_side` value.\n",
    "\n",
    "There are many more operators. This unit describes some important ones you're likely to encounter.\n",
    "\n",
    "Python uses two types of operators: arithmetic and assignment."
   ]
  },
  {
   "cell_type": "markdown",
   "metadata": {},
   "source": [
    "### Arithmetic operators\n",
    "\n",
    "With `arithmetic operators`, you perform calculations like addition, subtraction, division, and multiplication. Here's a subset of arithmetic operators you can use:\n",
    "\n",
    "| **Type** | **Description**                                                                        | **Example** |\n",
    "| -------- | -------------------------------------------------------------------------------------- | ----------- |\n",
    "| +        | Addition operator that adds two values together                                        | `1 + 1`     |\n",
    "| -        | Subtraction operator that removes the value of the right side from the left side       | `1 - 2`     |\n",
    "| /        | Division operator that divides the left side as many times as the right side specifies | `10 / 2`    |\n",
    "| \\_       | Multiplication operator                                                                | `2 \\_ 2`    |\n"
   ]
  },
  {
   "cell_type": "markdown",
   "metadata": {},
   "source": [
    "### Assignment operators\n",
    "\n",
    "You can use _assignment operators_ to assign values to a variable throughout the lifecycle of the variable. Here are some assignment operators you're likely to encounter as you're learning to build programs:\n",
    "\n",
    "| Operator | Example                                                                              |\n",
    "| -------- | ------------------------------------------------------------------------------------ |\n",
    "| =        | `x = 2` <br> x now contains 2.                                                       |\n",
    "| +=       | `x += 2` <br> x incremented by 2. If it contained 2 before, it now has a value of 4. |\n",
    "| -=       | `x -= 2` <br> x decremented by 2. If it contained 2 before, it now has a value of 0. |\n",
    "| /=       | `x /= 2` <br> x divided by 2. If it contained 2 before, it now has a value of 1.     |\n",
    "| \\*=      | `x \\*= 2` <br> x multiplied by 2. If it contained 2 before, it now has a value of 4. |\n"
   ]
  }
 ],
 "metadata": {
  "kernelspec": {
   "display_name": "Python-Beginners-Course-n5YFLC1P",
   "language": "python",
   "name": "python3"
  },
  "language_info": {
   "codemirror_mode": {
    "name": "ipython",
    "version": 3
   },
   "file_extension": ".py",
   "mimetype": "text/x-python",
   "name": "python",
   "nbconvert_exporter": "python",
   "pygments_lexer": "ipython3",
   "version": "3.10.9"
  }
 },
 "nbformat": 4,
 "nbformat_minor": 2
}
