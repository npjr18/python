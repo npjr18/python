{
 "cells": [
  {
   "cell_type": "markdown",
   "metadata": {},
   "source": [
    "# Your first program\n",
    "This exercise is broken into a series of steps. For each step you will be presented with the goal for the step, followed by an empty cell. Enter your Python into the cell and run it. The solution for each step will follow each cell."
   ]
  },
  {
   "cell_type": "markdown",
   "metadata": {},
   "source": [
    "## Display today's date\n",
    "In the cell below, add the code to display today's date. Remember you can use the `date` object from the `datetime` library to access calendar information."
   ]
  },
  {
   "cell_type": "code",
   "execution_count": 8,
   "metadata": {},
   "outputs": [],
   "source": [
    "# Add the code below\n",
    "# First import the object date from library datetime\n",
    "# Then print today() method of the object\n"
   ]
  },
  {
   "cell_type": "markdown",
   "metadata": {},
   "source": [
    "## Build a unit converter\n",
    "\n",
    "1 parsec = 3.26 lightyears.\n",
    "\n",
    "Create a variable named `parsecs`, which obtained as the result of keyboard input (use `input`). Then add the code to perform the appropriate calculation and store the result in a variable named `lightyears`. Finally print the result on the screen with so it displays a message which resembles the following:\n",
    "\n",
    "**5 parsecs is 16.3078 lightyears**"
   ]
  },
  {
   "cell_type": "code",
   "execution_count": 9,
   "metadata": {},
   "outputs": [],
   "source": [
    "# Enter code below\n"
   ]
  }
 ],
 "metadata": {
  "kernelspec": {
   "display_name": "Python-Beginners-Course-n5YFLC1P",
   "language": "python",
   "name": "python3"
  },
  "language_info": {
   "codemirror_mode": {
    "name": "ipython",
    "version": 3
   },
   "file_extension": ".py",
   "mimetype": "text/x-python",
   "name": "python",
   "nbconvert_exporter": "python",
   "pygments_lexer": "ipython3",
   "version": "3.10.9"
  }
 },
 "nbformat": 4,
 "nbformat_minor": 2
}
