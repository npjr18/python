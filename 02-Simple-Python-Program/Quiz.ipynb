{
 "cells": [
  {
   "cell_type": "markdown",
   "metadata": {},
   "source": [
    "# Knowlege Check"
   ]
  },
  {
   "cell_type": "markdown",
   "metadata": {},
   "source": [
    "### To show a string on the console, what code would you enter? \n",
    "\n",
    "1. The code `print(my message)`\n",
    "2. The code `println(\"my message\")`\n",
    "3. The code `print(\"my message\")`"
   ]
  },
  {
   "cell_type": "code",
   "execution_count": null,
   "metadata": {},
   "outputs": [],
   "source": [
    "# Your answer:"
   ]
  },
  {
   "cell_type": "markdown",
   "metadata": {},
   "source": [
    "### If you invoke a program with `program.py 1 2`, what does the first input position contain? \n",
    "\n",
    "1. It contains `'program.py'`, the name of the program.\n",
    "2. It contains `'1'`, the first command-line argument.\n",
    "3. It contains `'2'`, the second command-line argument."
   ]
  },
  {
   "cell_type": "code",
   "execution_count": null,
   "metadata": {},
   "outputs": [],
   "source": [
    "# Your answer:"
   ]
  },
  {
   "cell_type": "markdown",
   "metadata": {},
   "source": [
    "### What will happen if you run the statement `\"1\" + 2`? \n",
    "\n",
    "1. It will evaluate to 3.\n",
    "2. It will give an error.\n",
    "3. It will become \"12\"."
   ]
  },
  {
   "cell_type": "code",
   "execution_count": null,
   "metadata": {},
   "outputs": [],
   "source": [
    "# Your answer:"
   ]
  }
 ],
 "metadata": {
  "language_info": {
   "name": "python"
  }
 },
 "nbformat": 4,
 "nbformat_minor": 2
}
