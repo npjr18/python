{
 "cells": [
  {
   "cell_type": "markdown",
   "metadata": {},
   "source": [
    "# The 'While' loop\n",
    "\n",
    "When you write code, one common challenge is to have it perform a task an unknown number of times. In this unit, you want to allow a user to enter a list of planet names. Unfortunately, you don't know how many names the user enters. To support looping an unknown number of times, you can use a `while` loop.\n",
    "\n",
    "A `while` loop performs an operation while a certain condition is true. You could use a while loop to:\n",
    "\n",
    "- Check for another line in a file.\n",
    "- Check if a flag has been set.\n",
    "- Check if a user has finished entering values.\n",
    "- Check if something else has changed to indicate that the code can stop performing the operation.\n",
    "\n",
    "The syntax of a `while` loop is similar to that of an `if` statement. You provide both a condition and the code you want to run while the condition is true.\n",
    "\n",
    "A `while` loop has three important parts:\n",
    "\n",
    "- The keyword `while`, followed by a space.\n",
    "- The condition you test. If the condition is true, the code inside the `while` loop runs.\n",
    "- The code you want to run for each iteration, indented with nested whitespace. For example:\n",
    "\n",
    "```Python\n",
    "while <condition>:\n",
    "    # code here\n",
    "```\n",
    "\n",
    "Let's see how you can create code to prompt users to enter values, and then allow them to enter done when they've finished entering the values. In our example, the user input is the condition that is tested at the top of the `while` loop."
   ]
  },
  {
   "cell_type": "code",
   "execution_count": null,
   "metadata": {},
   "outputs": [],
   "source": [
    "user_input = ''\n",
    "\n",
    "while user_input.lower() != 'done':\n",
    "    user_input = input('Enter a new value, or done when done')"
   ]
  },
  {
   "cell_type": "markdown",
   "metadata": {},
   "source": [
    "Notice that you're using `input` to prompt the users. Each time users enter a new value they're changing the condition, which means that the `while` loop will exit after they've entered done."
   ]
  },
  {
   "cell_type": "markdown",
   "metadata": {},
   "source": [
    "You can use the newly entered string as you would any other string that's captured with `input`. If you want to add it to a list, you could use code that's similar to the following example:"
   ]
  },
  {
   "cell_type": "code",
   "execution_count": null,
   "metadata": {},
   "outputs": [],
   "source": [
    "# Create the variable for user input\n",
    "user_input = ''\n",
    "# Create the list to store the values\n",
    "inputs = []\n",
    "\n",
    "# The while loop\n",
    "while user_input.lower() != 'done':\n",
    "    # Check if there's a value in user_input\n",
    "    if user_input:\n",
    "        # Store the value in the list\n",
    "        inputs.append(user_input)\n",
    "    # Prompt for a new value\n",
    "    user_input = input('Enter a new value, or done when done')"
   ]
  },
  {
   "cell_type": "markdown",
   "metadata": {},
   "source": [
    "Notice the `if` statement inside the `while` loop. This statement tests for a string value inside `user_input`. If the while loop is running for the first time, there's no value, so there's nothing to store in `inputs`. After it runs for the first time, `user_input` always keeps the value that the user has entered. Because `while` is testing to ensure that the value doesn't equal `done` (the word the user enters to exit the app), you know that the current value is one that you can add to the list."
   ]
  },
  {
   "cell_type": "code",
   "execution_count": null,
   "metadata": {},
   "outputs": [],
   "source": []
  }
 ],
 "metadata": {
  "language_info": {
   "name": "python"
  }
 },
 "nbformat": 4,
 "nbformat_minor": 2
}
