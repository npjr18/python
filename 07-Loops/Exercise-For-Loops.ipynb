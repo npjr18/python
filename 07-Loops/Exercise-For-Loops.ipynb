{
  "cells": [
    {
      "attachments": {},
      "cell_type": "markdown",
      "metadata": {},
      "source": [
        "# Exercise - Loop over a list\n",
        "\n",
        "In the previous exercise, you created code to prompt users to enter a list of planet names. In this exercise, you'll complete the application by writing code that displays the planet names one by one.\n",
        "\n",
        "This exercise is broken into a series of steps. For each step you will be presented with the goal for the step, followed by an empty cell. Enter your Python into the cell and run it. The solution for each step will follow each cell.\n",
        "\n",
        "The first cell contains the code from the prior exercise, without the `print` statement. Run the cell and provide a list of planets. (Enter a planet name and select \"Submit\". For each new entry, overtype the previous entry and select \"Submit\".)"
      ]
    },
    {
      "cell_type": "code",
      "execution_count": 1,
      "metadata": {
        "tags": []
      },
      "outputs": [],
      "source": [
        "# Run this cell and provide a list of planets\n",
        "\n",
        "new_planet = ''\n",
        "planets = []\n",
        "\n",
        "while new_planet.lower() != 'done':\n",
        "    if new_planet:\n",
        "        planets.append(new_planet)\n",
        "    new_planet = input('Enter a new planet or done if done')"
      ]
    },
    {
      "attachments": {},
      "cell_type": "markdown",
      "metadata": {},
      "source": [
        "## Display the list of planets\n",
        "\n",
        "The `planets` variable stores the planet names that a user entered. You'll now use a `for` loop to display those entries.\n",
        "\n",
        "Create a `for` loop to iterate over the `planets` name list. You can use `planet` as the name of the variable for each planet. Inside the `for` loop, use `print` to display each `planet` name."
      ]
    },
    {
      "cell_type": "code",
      "execution_count": null,
      "metadata": {},
      "outputs": [],
      "source": [
        "# Enter code below"
      ]
    },
    {
      "attachments": {},
      "cell_type": "markdown",
      "metadata": {},
      "source": [
        "## Desired output\n",
        "\n",
        "When you run the notebook you will be asked for a list of planets. After you enter **done** you should see a list of planets displayed on separate lines."
      ]
    }
  ],
  "metadata": {
    "kernelspec": {
      "display_name": "Python-Beginners-Course-n5YFLC1P",
      "language": "python",
      "name": "python3"
    },
    "language_info": {
      "codemirror_mode": {
        "name": "ipython",
        "version": 3
      },
      "file_extension": ".py",
      "mimetype": "text/x-python",
      "name": "python",
      "nbconvert_exporter": "python",
      "pygments_lexer": "ipython3",
      "version": "3.10.9"
    },
    "nteract": {
      "version": "nteract-front-end@1.0.0"
    }
  },
  "nbformat": 4,
  "nbformat_minor": 4
}
