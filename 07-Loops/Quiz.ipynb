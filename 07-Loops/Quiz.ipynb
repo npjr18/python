{
 "cells": [
  {
   "cell_type": "markdown",
   "metadata": {},
   "source": [
    "# Knowlege Check"
   ]
  },
  {
   "cell_type": "markdown",
   "metadata": {},
   "source": [
    "### What statement would loop over the sequence collection and assign the variable item? \n",
    "\n",
    "1. for each item in collection:\n",
    "1. for item in collection:\n",
    "1. for collection in item:"
   ]
  },
  {
   "cell_type": "code",
   "execution_count": null,
   "metadata": {},
   "outputs": [],
   "source": [
    "# Your answer:"
   ]
  },
  {
   "cell_type": "markdown",
   "metadata": {},
   "source": [
    "### What is the correct statement to use to unpack variables named left and right from the list turns? \n",
    "\n",
    "1. for left, right in turns:\n",
    "1. for left and right in turns:\n",
    "1. for [left, right] in turns:"
   ]
  },
  {
   "cell_type": "code",
   "execution_count": null,
   "metadata": {},
   "outputs": [],
   "source": [
    "# Your answer:"
   ]
  }
 ],
 "metadata": {
  "language_info": {
   "name": "python"
  }
 },
 "nbformat": 4,
 "nbformat_minor": 2
}
