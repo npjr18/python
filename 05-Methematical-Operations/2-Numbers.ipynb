{
 "cells": [
  {
   "cell_type": "markdown",
   "metadata": {},
   "source": [
    "# Work with numbers in Python\n",
    "\n",
    "Beyond core arithmetic, you can use other operations on numbers. You might need to perform rounding, or convert strings into numbers.\n",
    "\n",
    "In the scenario for this module, you want to accept input from a user. The input will be a string rather than a number, so you'll need to convert it to a number. Also, the user might enter values that give you a negative answer, which you won't want to display. You might need to convert the answer to the absolute value. Fortunately, Python provides utilities for these operations.\n",
    "\n"
   ]
  },
  {
   "cell_type": "markdown",
   "metadata": {},
   "source": [
    "## Convert strings to numbers\n",
    "Python supports two main types of numbers: integers (or `int`) and floating point (or `float`). The key difference between the two is the existence of a decimal point; integers are whole numbers, while floats contain a decimal value.\n",
    "\n",
    "When you're converting strings to numbers, you indicate the type of number you want to create. You must decide if you need a decimal point. You use `int` to convert to an integer, and `float` to convert to a floating point number."
   ]
  },
  {
   "cell_type": "code",
   "execution_count": 1,
   "metadata": {},
   "outputs": [
    {
     "name": "stdout",
     "output_type": "stream",
     "text": [
      "215\n",
      "215.3\n"
     ]
    }
   ],
   "source": [
    "demo_int = int('215')\n",
    "print(demo_int)\n",
    "\n",
    "demo_float = float('215.3')\n",
    "print(demo_float)"
   ]
  },
  {
   "cell_type": "markdown",
   "metadata": {},
   "source": [
    "## Absolute values\n",
    "An absolute value in math is the non-negative number without its sign. Using an absolute value can be useful in different situations, including our example of looking to determine distance between two planets. Consider the following math:"
   ]
  },
  {
   "cell_type": "code",
   "execution_count": 2,
   "metadata": {},
   "outputs": [
    {
     "name": "stdout",
     "output_type": "stream",
     "text": [
      "23\n",
      "-23\n"
     ]
    }
   ],
   "source": [
    "print(39 - 16)\n",
    "print(16 - 39)"
   ]
  },
  {
   "cell_type": "markdown",
   "metadata": {},
   "source": [
    "Notice the difference between the two equations is that the numbers are reversed. The answers are `23` and `-23`, respectively. When you're determining the distance between two planets, the order in which you enter the numbers doesn't matter, because the absolute answer is the same.\n",
    "\n",
    "Convert the negative value to be its absolute value by using `abs`. If you perform the same operation by using `abs` (and print the answers), you notice that it shows `23` for both equations."
   ]
  },
  {
   "cell_type": "code",
   "execution_count": 3,
   "metadata": {},
   "outputs": [
    {
     "name": "stdout",
     "output_type": "stream",
     "text": [
      "23\n",
      "23\n"
     ]
    }
   ],
   "source": [
    "print(abs(39 - 16))\n",
    "print(abs(16 - 39))"
   ]
  },
  {
   "cell_type": "markdown",
   "metadata": {},
   "source": [
    "## Rounding\n",
    "\n",
    "The built-in Python function called `round` is also helpful. Use it to round up to the nearest integer if the decimal value is greater than `.5`, or down if it's less than `.5`. If the decimal value is equal to .5, the function rounds up or down to the nearest even integer."
   ]
  },
  {
   "cell_type": "code",
   "execution_count": 4,
   "metadata": {},
   "outputs": [
    {
     "name": "stdout",
     "output_type": "stream",
     "text": [
      "1\n",
      "2\n",
      "2\n",
      "3\n"
     ]
    }
   ],
   "source": [
    "print(round(1.4))\n",
    "print(round(1.5))\n",
    "print(round(2.5))\n",
    "print(round(2.6))"
   ]
  },
  {
   "cell_type": "markdown",
   "metadata": {},
   "source": [
    "## Math library\n",
    "\n",
    "Python has libraries to provide more advanced operations and calculations. One of the most common is the `math` library. math allows you to perform rounding with `floor` and `ceil`, provide the value of pi, and numerous other operations. Let's see how to use this library for rounding up or down.\n",
    "\n",
    "Rounding numbers enables you to remove the decimal portion of a float. You can choose to always round up to the nearest whole number by using `ceil`, or down by using `floor`."
   ]
  },
  {
   "cell_type": "code",
   "execution_count": 5,
   "metadata": {},
   "outputs": [
    {
     "name": "stdout",
     "output_type": "stream",
     "text": [
      "13\n",
      "12\n"
     ]
    }
   ],
   "source": [
    "from math import ceil, floor\n",
    "\n",
    "round_up = ceil(12.5)\n",
    "print(round_up)\n",
    "\n",
    "round_down = floor(12.5)\n",
    "print(round_down)"
   ]
  }
 ],
 "metadata": {
  "kernelspec": {
   "display_name": "Python-Beginners-Course-n5YFLC1P",
   "language": "python",
   "name": "python3"
  },
  "language_info": {
   "codemirror_mode": {
    "name": "ipython",
    "version": 3
   },
   "file_extension": ".py",
   "mimetype": "text/x-python",
   "name": "python",
   "nbconvert_exporter": "python",
   "pygments_lexer": "ipython3",
   "version": "3.10.9"
  }
 },
 "nbformat": 4,
 "nbformat_minor": 2
}
