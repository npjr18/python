{
 "cells": [
  {
   "cell_type": "markdown",
   "metadata": {},
   "source": [
    "# Knowledge check"
   ]
  },
  {
   "cell_type": "markdown",
   "metadata": {},
   "source": [
    "### What is the difference between supervised learning and unsupervised learning? \n",
    "\n",
    "1. Supervised learning requires human supervision, whereas unsupervised learning doesn't.\n",
    "1. Supervised learning always uses an optimizer, but unsupervised learning never does.\n",
    "1. Supervised learning trains a model by comparing estimations to correct answers. The cost function for unsupervised learning doesn't need correct answers."
   ]
  },
  {
   "cell_type": "code",
   "execution_count": null,
   "metadata": {},
   "outputs": [],
   "source": [
    "# Your answer:"
   ]
  },
  {
   "cell_type": "markdown",
   "metadata": {},
   "source": [
    "### What is the role of the cost function in supervised learning? \n",
    "\n",
    "1. To maximize the cost so that the objective is reached.\n",
    "1. To calculate the cost by comparing estimations to correct answers.\n",
    "1. To update model parameters."
   ]
  },
  {
   "cell_type": "code",
   "execution_count": null,
   "metadata": {},
   "outputs": [],
   "source": [
    "# Your answer:"
   ]
  },
  {
   "cell_type": "markdown",
   "metadata": {},
   "source": [
    "### How does gradient descent know how to update parameters? \n",
    "\n",
    "1. It compares costs for several combinations of parameters, and then it selects the best option.\n",
    "1. It uses an internal understanding of the relationship between features and labels to make intelligent choices.\n",
    "1. It uses calculus to estimate the slope of the cost function.\n"
   ]
  },
  {
   "cell_type": "code",
   "execution_count": null,
   "metadata": {},
   "outputs": [],
   "source": [
    "# Your answer:"
   ]
  },
  {
   "cell_type": "markdown",
   "metadata": {},
   "source": [
    "### Why are many cost functions available? \n",
    "\n",
    "1. A unique cost function is required for each processed currency or banking system.\n",
    "1. Cost functions help models process data, and many model types are available.\n",
    "1. Different cost functions can arrive at different answers, and what's best depends on the goal."
   ]
  },
  {
   "cell_type": "code",
   "execution_count": null,
   "metadata": {},
   "outputs": [],
   "source": [
    "# Your answer:"
   ]
  },
  {
   "cell_type": "markdown",
   "metadata": {},
   "source": [
    "### Why is learning rate important? \n",
    "\n",
    "1. It speeds up or slows down training.\n",
    "1. If the learning rate is too large or too small, it can prevent a model from being trained optimally.\n",
    "1. Both options are correct."
   ]
  },
  {
   "cell_type": "code",
   "execution_count": null,
   "metadata": {},
   "outputs": [],
   "source": [
    "# Your answer:"
   ]
  }
 ],
 "metadata": {
  "language_info": {
   "name": "python"
  }
 },
 "nbformat": 4,
 "nbformat_minor": 2
}
