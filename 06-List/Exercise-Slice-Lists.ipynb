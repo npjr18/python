{
  "cells": [
    {
      "cell_type": "markdown",
      "metadata": {},
      "source": [
        "# Use slices to retrieve portions of a list\n",
        "\n",
        "You might need to work different sections of a list. In this notebook, you will create a project to display planets closer to and farther away from the sun than a planet that the user enters.\n",
        "\n",
        "This exercise is broken into a series of steps. For each step you will be presented with the goal for the step, followed by an empty cell. Enter your Python into the cell and run it. The solution for each step will follow each cell.\n",
        "\n",
        "## Create the list of planets\n",
        "\n",
        "First, create a variable named `planets`. Add the eight planets (without Pluto) to the list. The planets are:\n",
        "\n",
        "- Mercury\n",
        "- Venus\n",
        "- Earth\n",
        "- Mars\n",
        "- Jupiter\n",
        "- Saturn\n",
        "- Uranus\n",
        "- Neptune"
      ]
    },
    {
      "cell_type": "code",
      "execution_count": null,
      "metadata": {},
      "outputs": [],
      "source": [
        "# Enter your code below"
      ]
    },
    {
      "cell_type": "markdown",
      "metadata": {},
      "source": [
        "## Prompt the user for the reference planet\n",
        "\n",
        "Next you will add the code to prompt the user for the name of a planet. You will do this by using `input`. Because strings are case sensitive in Python, ask the user to use a capital letter to start the name of the planet."
      ]
    },
    {
      "cell_type": "code",
      "execution_count": null,
      "metadata": {},
      "outputs": [],
      "source": [
        "# Enter code below"
      ]
    },
    {
      "cell_type": "markdown",
      "metadata": {},
      "source": [
        "## Find the location of the selected planet\n",
        "\n",
        "Now it's time to determine which planets are closer than the one that the user entered. To do this, you need to find where he planet is in the list. You can use the `index` method to perform this operation. Add the code to find the index of the planet, and store it in a variable named `planet_index`."
      ]
    },
    {
      "cell_type": "code",
      "execution_count": null,
      "metadata": {},
      "outputs": [],
      "source": [
        "# Enter code below"
      ]
    },
    {
      "cell_type": "markdown",
      "metadata": {},
      "source": [
        "## Display planets closer to the sun\n",
        "\n",
        "With the index determined, you can now add the code to display planets closer to the sun than the one selected. Use the slicing abilities of a list to display all planets up to the one selected."
      ]
    },
    {
      "cell_type": "code",
      "execution_count": null,
      "metadata": {},
      "outputs": [],
      "source": [
        "# Enter code below"
      ]
    },
    {
      "cell_type": "markdown",
      "metadata": {},
      "source": [
        "## Display planets further \n",
        "\n",
        "You can use the same index to display planets farther from the sun. However, remember that the starting index *is included* when you're using a slice. As a result, you'll have to add 1 to the value. Add the code to display the planets farther from the sun."
      ]
    },
    {
      "cell_type": "code",
      "execution_count": null,
      "metadata": {},
      "outputs": [],
      "source": [
        "# Enter code below"
      ]
    }
  ],
  "metadata": {
    "interpreter": {
      "hash": "4f946df053fbf2b937619d3c5458e7af74262f9a954d8797ba0b27400bcafe06"
    },
    "kernelspec": {
      "display_name": "Python 3.8.6 64-bit",
      "language": "python",
      "name": "conda-env-py38_default-py"
    },
    "language_info": {
      "codemirror_mode": {
        "name": "ipython",
        "version": 3
      },
      "file_extension": ".py",
      "mimetype": "text/x-python",
      "name": "python",
      "nbconvert_exporter": "python",
      "pygments_lexer": "ipython3",
      "version": "3.8.10"
    },
    "nteract": {
      "version": "nteract-front-end@1.0.0"
    },
    "orig_nbformat": 4
  },
  "nbformat": 4,
  "nbformat_minor": 2
}
