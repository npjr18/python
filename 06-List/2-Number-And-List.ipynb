{
 "cells": [
  {
   "cell_type": "markdown",
   "metadata": {},
   "source": [
    "# Work with numbers in lists\n",
    "\n",
    "So far, you've been using planet names in a list. You might wonder about working with other data types, like numbers.\n",
    "\n",
    "Did you know that gravity on other planets is stronger or weaker depending on the planet's mass or size? Gravity is often measured in G, where the gravity on earth is 1 and other planets are measured relative to Earth.\n",
    "\n",
    "The gravity on the moon is 0.166 G, which is why astronauts can jump so high on the moon. The gravity on Neptune is 1.12 G, so jumping is harder. Even great athletes would struggle to jump over 2 meters on Neptune."
   ]
  },
  {
   "cell_type": "markdown",
   "metadata": {},
   "source": [
    "## Store numbers in lists\n",
    "To store numbers with decimal places in Python, you use the `float` type. To create a float, you enter the number with the decimal place and assign it to a variable:"
   ]
  },
  {
   "cell_type": "code",
   "execution_count": 1,
   "metadata": {},
   "outputs": [],
   "source": [
    "gravity_on_earth = 1.0\n",
    "gravity_on_the_moon = 0.166"
   ]
  },
  {
   "cell_type": "markdown",
   "metadata": {},
   "source": [
    "The following code creates a list that shows the gravitational forces of all eight planets in the solar system, in G:"
   ]
  },
  {
   "cell_type": "code",
   "execution_count": null,
   "metadata": {},
   "outputs": [],
   "source": [
    "gravity_on_planets = [0.378, 0.907, 1, 0.377, 2.36, 0.916, 0.889, 1.12]"
   ]
  },
  {
   "cell_type": "markdown",
   "metadata": {},
   "source": [
    "In this list, `gravity_on_planets[0]` is the gravity on Mercury (0.378 G), `gravity_on_planets[1]` is the gravity on Venus (0.907 G), and so on.\n",
    "\n",
    "On Earth, a double-decker bus weighs 124,054 Newtons (N). On Mercury, where the gravity is 0.378 G, the same bus weighs 124,054 Newtons multiplied by 0.378. In Python, to multiply two values, you use the `*` symbol.\n",
    "\n",
    "In the following example, you can work out the weight of a double-decker bus on different planets by getting the value from the list:"
   ]
  },
  {
   "cell_type": "code",
   "execution_count": 2,
   "metadata": {},
   "outputs": [
    {
     "name": "stdout",
     "output_type": "stream",
     "text": [
      "On Earth, a double-decker bus weighs 124054 N\n",
      "On Mercury, a double-decker bus weighs 46892.412000000004 N\n"
     ]
    }
   ],
   "source": [
    "gravity_on_planets = [0.378, 0.907, 1, 0.377, 2.36, 0.916, 0.889, 1.12]\n",
    "bus_weight = 124054 # in Newtons, on Earth\n",
    "\n",
    "print(\"On Earth, a double-decker bus weighs\", bus_weight, \"N\")\n",
    "print(\"On Mercury, a double-decker bus weighs\", bus_weight * gravity_on_planets[0], \"N\")"
   ]
  },
  {
   "cell_type": "markdown",
   "metadata": {},
   "source": [
    "## Use `min()` and `max()` with lists\n",
    "Python has built-in functions for calculating the biggest and smallest numbers in a list. The `max()` function returns the largest number, and `min()` returns the smallest. So `min(gravity_on_planets)` returns the smallest number in the `gravity_on_planets` list, which is 0.377 (Mars).\n",
    "\n",
    "The following code calculates the minimum and maximum weights in the solar system by using those functions:"
   ]
  },
  {
   "cell_type": "code",
   "execution_count": 3,
   "metadata": {},
   "outputs": [
    {
     "name": "stdout",
     "output_type": "stream",
     "text": [
      "On Earth, a double-decker bus weighs 12650 N\n",
      "The lightest a bus would be in the solar system is 4769.05 N\n",
      "The heaviest a bus would be in the solar system is 29854.0 N\n"
     ]
    }
   ],
   "source": [
    "gravity_on_planets = [0.378, 0.907, 1, 0.377, 2.36, 0.916, 0.889, 1.12]\n",
    "bus_weight = 12650 # in Newtons, on Earth\n",
    "\n",
    "print(\"On Earth, a double-decker bus weighs\", bus_weight, \"N\")\n",
    "print(\"The lightest a bus would be in the solar system is\", bus_weight * min(gravity_on_planets), \"N\")\n",
    "print(\"The heaviest a bus would be in the solar system is\", bus_weight * max(gravity_on_planets), \"N\")"
   ]
  }
 ],
 "metadata": {
  "kernelspec": {
   "display_name": "Python-Beginners-Course-n5YFLC1P",
   "language": "python",
   "name": "python3"
  },
  "language_info": {
   "codemirror_mode": {
    "name": "ipython",
    "version": 3
   },
   "file_extension": ".py",
   "mimetype": "text/x-python",
   "name": "python",
   "nbconvert_exporter": "python",
   "pygments_lexer": "ipython3",
   "version": "3.10.9"
  }
 },
 "nbformat": 4,
 "nbformat_minor": 2
}
