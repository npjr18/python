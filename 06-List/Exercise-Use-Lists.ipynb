{
  "cells": [
    {
      "cell_type": "markdown",
      "source": [
        "# Exercise: Use lists to store planet names\n",
        "\n",
        "Lists allow you to store multiple values in a single variable. In this notebook you'll create a project to display information about the planets.\n",
        "\n",
        "This exercise is broken into a series of steps. For each step you will be presented with the goal for the step, followed by an empty cell. Enter your Python into the cell and run it. The solution for each step will follow each cell.\n",
        "\n",
        "## Add all planets to a list\n",
        "\n",
        "First, create a variable named `planets`. Add the eight planets (without Pluto) to the list. The planets are:\n",
        "\n",
        "- Mercury\n",
        "- Venus\n",
        "- Earth\n",
        "- Mars\n",
        "- Jupiter\n",
        "- Saturn\n",
        "- Uranus\n",
        "- Neptune\n",
        "\n",
        "Finish by using `print` to display the list of planets."
      ],
      "metadata": {}
    },
    {
      "cell_type": "code",
      "source": [
        "# Enter your code below:\n",
        "\n"
      ],
      "outputs": [],
      "execution_count": null,
      "metadata": {}
    },
    {
      "cell_type": "markdown",
      "source": [
        "Your code should look something like this:\n",
        "\n",
        "```python\n",
        "planets = [\"Mercury\", \"Venus\", \"Earth\", \"Mars\", \"Jupiter\", \"Saturn\", \"Uranus\", \"Neptune\"]\n",
        "\n",
        "print(planets)\n",
        "```"
      ],
      "metadata": {}
    },
    {
      "cell_type": "markdown",
      "source": [
        "## Display the number of planets\n",
        "\n",
        "Next, display the total number of `planets` by using `len` and `print`."
      ],
      "metadata": {}
    },
    {
      "cell_type": "code",
      "source": [
        "# Enter your code below:\n",
        "\n"
      ],
      "outputs": [],
      "execution_count": null,
      "metadata": {}
    },
    {
      "cell_type": "markdown",
      "source": [
        "Your code should look something like this:\n",
        "\n",
        "\n",
        "```python\n",
        "print(\"There are\", len(planets), \"planets\")\n",
        "```"
      ],
      "metadata": {}
    },
    {
      "cell_type": "markdown",
      "source": [
        "## Add a planet to the list\n",
        "\n",
        "Finally, add Pluto to the list that you created. Then display both the number of planets and the last planet in the list."
      ],
      "metadata": {}
    },
    {
      "cell_type": "code",
      "source": [
        "# Enter your code below:\n",
        "\n"
      ],
      "outputs": [],
      "execution_count": null,
      "metadata": {}
    },
    {
      "cell_type": "markdown",
      "source": [
        "Your code should look like this:\n",
        "\n",
        "```python\n",
        "planets.append(\"Pluto\")\n",
        "\n",
        "print(\"Actually, there are\", len(planets), \"planets\")\n",
        "\n",
        "print(planets[-1], \"is the last planet\")\n",
        "```"
      ],
      "metadata": {}
    }
  ],
  "metadata": {
    "interpreter": {
      "hash": "b8bdd4e700647ba2b08c59e5df8b7da1dcf50a218bcd4c1bcd9b3dc92e8788e5"
    },
    "kernelspec": {
      "display_name": "Python 3.9.1 64-bit",
      "name": "conda-env-py38_default-py"
    },
    "language_info": {
      "codemirror_mode": {
        "name": "ipython",
        "version": 3
      },
      "file_extension": ".py",
      "mimetype": "text/x-python",
      "name": "python",
      "nbconvert_exporter": "python",
      "pygments_lexer": "ipython3",
      "version": "3.8.10"
    },
    "nteract": {
      "version": "nteract-front-end@1.0.0"
    }
  },
  "nbformat": 4,
  "nbformat_minor": 4
}