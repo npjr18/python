{
 "cells": [
  {
   "cell_type": "markdown",
   "metadata": {},
   "source": [
    "# Knowlege Check"
   ]
  },
  {
   "cell_type": "markdown",
   "metadata": {},
   "source": [
    "### What symbols are used to start and finish a list? \n",
    "\n",
    "1. Parentheses: `()`\n",
    "1. Brackets: `[]`\n",
    "1. Braces: `{}`"
   ]
  },
  {
   "cell_type": "code",
   "execution_count": null,
   "metadata": {},
   "outputs": [],
   "source": [
    "# Your answer:"
   ]
  },
  {
   "cell_type": "markdown",
   "metadata": {},
   "source": [
    "### Which statement would return the *first* value in the list `planets`? \n",
    "\n",
    "1. `planets[-1]`\n",
    "1. `planets[1]`\n",
    "1. `planets[0]`"
   ]
  },
  {
   "cell_type": "code",
   "execution_count": null,
   "metadata": {},
   "outputs": [],
   "source": [
    "# Your answer:"
   ]
  },
  {
   "cell_type": "markdown",
   "metadata": {},
   "source": [
    "### Which statement would return the *last* value in the list planets? \n",
    "\n",
    "1. `planets[-1]`\n",
    "1. `planets[last]`\n",
    "1. `planets[]`"
   ]
  },
  {
   "cell_type": "code",
   "execution_count": null,
   "metadata": {},
   "outputs": [],
   "source": [
    "# Your answer:"
   ]
  },
  {
   "cell_type": "markdown",
   "metadata": {},
   "source": [
    "### Which statement would sort the list planets? \n",
    "\n",
    "1. `planets.sort()`\n",
    "1. `planets.in_order()`\n",
    "1. `planets.sorted()`"
   ]
  },
  {
   "cell_type": "code",
   "execution_count": null,
   "metadata": {},
   "outputs": [],
   "source": [
    "# Your answer:"
   ]
  }
 ],
 "metadata": {
  "language_info": {
   "name": "python"
  }
 },
 "nbformat": 4,
 "nbformat_minor": 2
}
