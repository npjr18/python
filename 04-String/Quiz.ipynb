{
 "cells": [
  {
   "cell_type": "markdown",
   "metadata": {},
   "source": [
    "# Knowledge check"
   ]
  },
  {
   "cell_type": "markdown",
   "metadata": {},
   "source": [
    "### Are strings immutable? \n",
    "\n",
    "1. No, because they can be modified.\n",
    "2. Yes, because you can't modify them.\n",
    "3. No, because you can split them."
   ]
  },
  {
   "cell_type": "code",
   "execution_count": null,
   "metadata": {},
   "outputs": [],
   "source": [
    "# Your answer:"
   ]
  },
  {
   "cell_type": "markdown",
   "metadata": {},
   "source": [
    "### What types of quotation marks can be used with strings? \n",
    "\n",
    "1. Single, double, and triple quotation marks.\n",
    "2. Single and double quotation marks.\n",
    "3. Only double quotation marks."
   ]
  },
  {
   "cell_type": "code",
   "execution_count": null,
   "metadata": {},
   "outputs": [],
   "source": [
    "# Your answer:"
   ]
  },
  {
   "cell_type": "markdown",
   "metadata": {},
   "source": [
    "### What is the string method call to use to break strings into separate lines? \n",
    "\n",
    "1. The `.separate(' ')` method.\n",
    "2. The `.newlines()` method.\n",
    "3. The `.split(' ')` method."
   ]
  },
  {
   "cell_type": "code",
   "execution_count": null,
   "metadata": {},
   "outputs": [],
   "source": [
    "# Your answer:"
   ]
  },
  {
   "cell_type": "markdown",
   "metadata": {},
   "source": [
    "### What two string methods can you use to check to see whether a word exists in a string? \n",
    "\n",
    "1. The `.find()` and `.count()` methods.\n",
    "2. The `.search()` and `.count()` methods.\n",
    "3. The `.check()` and `.search()` methods."
   ]
  },
  {
   "cell_type": "code",
   "execution_count": null,
   "metadata": {},
   "outputs": [],
   "source": [
    "# Your answer:"
   ]
  },
  {
   "cell_type": "markdown",
   "metadata": {},
   "source": [
    "### What is a problem you might run into when you use % for formatting? \n",
    "\n",
    "1. When many replacements are needed, it can make a program slower.\n",
    "2. The code can be harder to read when many replacements are needed.\n",
    "3. It isn't possible to replace more than nine variables."
   ]
  },
  {
   "cell_type": "code",
   "execution_count": null,
   "metadata": {},
   "outputs": [],
   "source": [
    "# Your answer:"
   ]
  },
  {
   "cell_type": "markdown",
   "metadata": {},
   "source": [
    "### How can you round down a number when you use f-strings? \n",
    "\n",
    "1. Use the `.format()` method to round down.\n",
    "2. Use the `round()` function inside the string, enclosed in braces (`{}`).\n",
    "3. You can't round a number when you use f-strings. You must round it before you use it in a string."
   ]
  },
  {
   "cell_type": "code",
   "execution_count": null,
   "metadata": {},
   "outputs": [],
   "source": [
    "# Your answer:"
   ]
  }
 ],
 "metadata": {
  "language_info": {
   "name": "python"
  }
 },
 "nbformat": 4,
 "nbformat_minor": 2
}
