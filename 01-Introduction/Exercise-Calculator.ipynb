{
 "cells": [
  {
   "cell_type": "markdown",
   "metadata": {},
   "source": [
    "# Exercise - Building a Calculator\n",
    "In this exercise, you'll learn to build a calculator. A calculator takes input and presents the result on the screen.\n",
    "\n",
    "Follow the instructions to create a simple calculator:\n",
    "1. Create a variable name `first_number` that stores the keyboard input for the first number\n",
    "2. Create a variable name `second_number` that stores the keyboard input for the second number\n",
    "3. Print the sum of the two numbers, \n",
    " \n",
    "For example: \n",
    "\n",
    "Input: \n",
    "First number is 1\n",
    "Second number is 2\n",
    "\n",
    "Output: `The sum is 3`"
   ]
  },
  {
   "cell_type": "code",
   "execution_count": 16,
   "metadata": {},
   "outputs": [
    {
     "name": "stdout",
     "output_type": "stream",
     "text": [
      "The sum is 3\n"
     ]
    }
   ],
   "source": [
    "# Your code here!\n",
    "first_number = 1\n",
    "second_number = 2\n",
    "x = 'The sum is' + ' ' + str(int(first_number + second_number))\n",
    "print(x)\n"
   ]
  },
  {
   "cell_type": "code",
   "execution_count": 23,
   "metadata": {},
   "outputs": [
    {
     "name": "stdout",
     "output_type": "stream",
     "text": [
      "The winner is npjr\n"
     ]
    }
   ],
   "source": [
    "first_number = 'np'\n",
    "second_number = 'jr'\n",
    "print('The winner is' + ' ' + first_number + second_number)"
   ]
  },
  {
   "cell_type": "code",
   "execution_count": 17,
   "metadata": {},
   "outputs": [
    {
     "data": {
      "text/plain": [
       "<bound method Kernel.raw_input of <ipykernel.ipkernel.IPythonKernel object at 0x757ac4990400>>"
      ]
     },
     "execution_count": 17,
     "metadata": {},
     "output_type": "execute_result"
    }
   ],
   "source": [
    "input"
   ]
  }
 ],
 "metadata": {
  "kernelspec": {
   "display_name": "Python-Beginners-Course-n5YFLC1P",
   "language": "python",
   "name": "python3"
  },
  "language_info": {
   "codemirror_mode": {
    "name": "ipython",
    "version": 3
   },
   "file_extension": ".py",
   "mimetype": "text/x-python",
   "name": "python",
   "nbconvert_exporter": "python",
   "pygments_lexer": "ipython3",
   "version": "3.10.13"
  }
 },
 "nbformat": 4,
 "nbformat_minor": 2
}
