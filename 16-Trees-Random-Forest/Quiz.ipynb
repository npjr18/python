{
 "cells": [
  {
   "cell_type": "markdown",
   "metadata": {},
   "source": [
    "# Knowledge check"
   ]
  },
  {
   "cell_type": "markdown",
   "metadata": {},
   "source": [
    "### Decision trees are classification models that… \n",
    "\n",
    "1. Typically have excellent generalizability to test sets\n",
    "1. Can only make binary (true/false) predictions\n",
    "1. Typically overfit their training data"
   ]
  },
  {
   "cell_type": "code",
   "execution_count": null,
   "metadata": {},
   "outputs": [],
   "source": [
    "# Your answer:"
   ]
  },
  {
   "cell_type": "markdown",
   "metadata": {},
   "source": [
    "### What does selecting model architectures mean? \n",
    "\n",
    "1. Picking a model’s parameter values before training\n",
    "1. Deciding how a model will be structured\n",
    "1. Selecting a 32-bit or 64-bit compilation option"
   ]
  },
  {
   "cell_type": "code",
   "execution_count": null,
   "metadata": {},
   "outputs": [],
   "source": [
    "# Your answer:"
   ]
  },
  {
   "cell_type": "markdown",
   "metadata": {},
   "source": [
    "### Hyperparameter selection can help give optimal models and… \n",
    "\n",
    "1. Refers to selecting values that change how the learning process works\n",
    "1. Often requires experimentation to get right\n",
    "1. All of the above"
   ]
  },
  {
   "cell_type": "code",
   "execution_count": null,
   "metadata": {},
   "outputs": [],
   "source": [
    "# Your answer:"
   ]
  }
 ],
 "metadata": {
  "language_info": {
   "name": "python"
  }
 },
 "nbformat": 4,
 "nbformat_minor": 2
}
